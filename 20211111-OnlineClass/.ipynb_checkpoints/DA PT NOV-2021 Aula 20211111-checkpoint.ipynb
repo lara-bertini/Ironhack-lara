{
 "cells": [
  {
   "attachments": {
    "download.png": {
     "image/png": "[encoded data removed]"
    }
   },
   "cell_type": "markdown",
   "id": "0429bdae",
   "metadata": {},
   "source": [
    "# Aula II - Python Recap\n",
    "## Revendo\n",
    "\n",
    "Teste\n",
    "\n",
    "*Itálico*\n",
    "_Itálico_\n",
    "\n",
    "<b> negrito <b>\n",
    "\n",
    "1. Lista numerada\n",
    "1. Lista numerada\n",
    "    \n",
    "    \n",
    "* Lista não numerada\n",
    "* Lista não numerada\n",
    "    \n",
    "``` SQL\n",
    "    select * from\n",
    "```\n",
    "``` Python\n",
    "    x=1\n",
    "```\n",
    "\n",
    "![download.png](attachment:download.png)"
   ]
  },
  {
   "cell_type": "code",
   "execution_count": 2,
   "id": "e4ebe638",
   "metadata": {},
   "outputs": [
    {
     "name": "stdout",
     "output_type": "stream",
     "text": [
      "1\n"
     ]
    }
   ],
   "source": [
    "x = 1\n",
    "print (x)"
   ]
  },
  {
   "cell_type": "code",
   "execution_count": null,
   "id": "15a89e31",
   "metadata": {},
   "outputs": [],
   "source": [
    "## Mode de edição\n",
    "## Modo de comando - ESC z (volta), ESC dd (apaga), ESC a/b (inserir), ESC l (inserir indicadores de linhas)\n",
    "## Comentar o trabalho SEMPRE"
   ]
  },
  {
   "cell_type": "code",
   "execution_count": 4,
   "id": "dd2dd34a",
   "metadata": {},
   "outputs": [
    {
     "name": "stdout",
     "output_type": "stream",
     "text": [
      "False\n"
     ]
    }
   ],
   "source": [
    "x = False\n",
    "print(x)"
   ]
  },
  {
   "cell_type": "code",
   "execution_count": 5,
   "id": "b619de2c",
   "metadata": {},
   "outputs": [
    {
     "data": {
      "text/plain": [
       "True"
      ]
     },
     "execution_count": 5,
     "metadata": {},
     "output_type": "execute_result"
    }
   ],
   "source": [
    "# Algumas comparações não levam em consideração tipos de variáveis\n",
    "2.0==2"
   ]
  },
  {
   "cell_type": "code",
   "execution_count": 6,
   "id": "c18097c5",
   "metadata": {},
   "outputs": [
    {
     "data": {
      "text/plain": [
       "2"
      ]
     },
     "execution_count": 6,
     "metadata": {},
     "output_type": "execute_result"
    }
   ],
   "source": [
    "1+1"
   ]
  },
  {
   "cell_type": "code",
   "execution_count": 7,
   "id": "6749552b",
   "metadata": {},
   "outputs": [
    {
     "data": {
      "text/plain": [
       "'ab'"
      ]
     },
     "execution_count": 7,
     "metadata": {},
     "output_type": "execute_result"
    }
   ],
   "source": [
    "'a'+'b'"
   ]
  },
  {
   "cell_type": "code",
   "execution_count": 8,
   "id": "5a672287",
   "metadata": {},
   "outputs": [
    {
     "data": {
      "text/plain": [
       "False"
      ]
     },
     "execution_count": 8,
     "metadata": {},
     "output_type": "execute_result"
    }
   ],
   "source": [
    "'a'=='b'"
   ]
  },
  {
   "cell_type": "code",
   "execution_count": 9,
   "id": "83abf816",
   "metadata": {},
   "outputs": [
    {
     "data": {
      "text/plain": [
       "True"
      ]
     },
     "execution_count": 9,
     "metadata": {},
     "output_type": "execute_result"
    }
   ],
   "source": [
    "'ab'=='ab'"
   ]
  },
  {
   "cell_type": "code",
   "execution_count": 10,
   "id": "769a459f",
   "metadata": {},
   "outputs": [],
   "source": [
    "# resto da divisão\n",
    "modulo = 2%2\n",
    "exponencial = 2**3"
   ]
  },
  {
   "cell_type": "code",
   "execution_count": 11,
   "id": "6d0c8eb5",
   "metadata": {},
   "outputs": [
    {
     "name": "stdout",
     "output_type": "stream",
     "text": [
      "0\n"
     ]
    }
   ],
   "source": [
    "print(modulo)"
   ]
  },
  {
   "cell_type": "code",
   "execution_count": 12,
   "id": "8d57a148",
   "metadata": {},
   "outputs": [
    {
     "name": "stdout",
     "output_type": "stream",
     "text": [
      "8\n"
     ]
    }
   ],
   "source": [
    "print(exponencial)"
   ]
  },
  {
   "cell_type": "code",
   "execution_count": 13,
   "id": "f5363113",
   "metadata": {},
   "outputs": [
    {
     "name": "stdout",
     "output_type": "stream",
     "text": [
      "0.6666666666666666\n"
     ]
    }
   ],
   "source": [
    "print(2/3)"
   ]
  },
  {
   "cell_type": "code",
   "execution_count": 18,
   "id": "30e92f6e",
   "metadata": {},
   "outputs": [
    {
     "data": {
      "text/plain": [
       "'ababab'"
      ]
     },
     "execution_count": 18,
     "metadata": {},
     "output_type": "execute_result"
    }
   ],
   "source": [
    "## Dá pra multiplicar strings\n",
    "'ab' * 3"
   ]
  },
  {
   "cell_type": "code",
   "execution_count": 19,
   "id": "986c4ccf",
   "metadata": {},
   "outputs": [
    {
     "ename": "NameError",
     "evalue": "name 'Mult' is not defined",
     "output_type": "error",
     "traceback": [
      "\u001b[1;31m---------------------------------------------------------------------------\u001b[0m",
      "\u001b[1;31mNameError\u001b[0m                                 Traceback (most recent call last)",
      "\u001b[1;32m~\\AppData\\Local\\Temp/ipykernel_16204/1742352823.py\u001b[0m in \u001b[0;36m<module>\u001b[1;34m\u001b[0m\n\u001b[0;32m      1\u001b[0m \u001b[0mmult\u001b[0m \u001b[1;33m=\u001b[0m \u001b[1;36m1\u001b[0m\u001b[1;33m\u001b[0m\u001b[1;33m\u001b[0m\u001b[0m\n\u001b[1;32m----> 2\u001b[1;33m \u001b[0mprint\u001b[0m \u001b[1;33m(\u001b[0m\u001b[0mMult\u001b[0m\u001b[1;33m)\u001b[0m\u001b[1;33m\u001b[0m\u001b[1;33m\u001b[0m\u001b[0m\n\u001b[0m",
      "\u001b[1;31mNameError\u001b[0m: name 'Mult' is not defined"
     ]
    }
   ],
   "source": [
    "## Python é case sensitive\n",
    "mult = 1\n",
    "print (Mult)"
   ]
  },
  {
   "cell_type": "code",
   "execution_count": 20,
   "id": "1ae9174a",
   "metadata": {},
   "outputs": [
    {
     "data": {
      "text/plain": [
       "3"
      ]
     },
     "execution_count": 20,
     "metadata": {},
     "output_type": "execute_result"
    }
   ],
   "source": [
    "True + True + True"
   ]
  },
  {
   "cell_type": "code",
   "execution_count": 21,
   "id": "ce7bf9d0",
   "metadata": {},
   "outputs": [
    {
     "data": {
      "text/plain": [
       "False"
      ]
     },
     "execution_count": 21,
     "metadata": {},
     "output_type": "execute_result"
    }
   ],
   "source": [
    "True and False"
   ]
  },
  {
   "cell_type": "code",
   "execution_count": 22,
   "id": "611f46f1",
   "metadata": {},
   "outputs": [
    {
     "data": {
      "text/plain": [
       "True"
      ]
     },
     "execution_count": 22,
     "metadata": {},
     "output_type": "execute_result"
    }
   ],
   "source": [
    "True or False"
   ]
  },
  {
   "cell_type": "code",
   "execution_count": null,
   "id": "6e720b31",
   "metadata": {},
   "outputs": [],
   "source": [
    "# As funções bult-in no python não são protegidas. Portanto se eu fizer print = 1, eu perco a função print, e só reestabeleço se eu reinicializar meu kernel"
   ]
  },
  {
   "cell_type": "code",
   "execution_count": 26,
   "id": "584cea39",
   "metadata": {},
   "outputs": [
    {
     "name": "stdout",
     "output_type": "stream",
     "text": [
      "X é igual a 1\n",
      "x =  1\n"
     ]
    }
   ],
   "source": [
    "x=1\n",
    "print(f'X é igual a {x}')\n",
    "print('x = ',x)"
   ]
  },
  {
   "cell_type": "code",
   "execution_count": 27,
   "id": "336bc192",
   "metadata": {},
   "outputs": [
    {
     "data": {
      "text/plain": [
       "range(1, 5)"
      ]
     },
     "execution_count": 27,
     "metadata": {},
     "output_type": "execute_result"
    }
   ],
   "source": [
    "range(1,5)"
   ]
  },
  {
   "cell_type": "markdown",
   "id": "a5045b39",
   "metadata": {},
   "source": [
    "## Estruturas de Controle"
   ]
  },
  {
   "cell_type": "code",
   "execution_count": 30,
   "id": "38af921a",
   "metadata": {},
   "outputs": [
    {
     "name": "stdout",
     "output_type": "stream",
     "text": [
      "Sim - segundo if\n",
      "Não\n"
     ]
    }
   ],
   "source": [
    "#Identação não é elemento neutro para python\n",
    "if(1==2):\n",
    "    print('Não')\n",
    "elif 1==1:\n",
    "    print('Sim - segundo if')\n",
    "print('Não')"
   ]
  },
  {
   "cell_type": "code",
   "execution_count": null,
   "id": "1189cae4",
   "metadata": {},
   "outputs": [],
   "source": [
    "x = input('Coloque o valor de X')\n",
    "if type(x) == int:\n",
    "    print(x+1)\n",
    "else:\n",
    "    print('Você digitou um string')"
   ]
  },
  {
   "cell_type": "code",
   "execution_count": null,
   "id": "c1b10870",
   "metadata": {},
   "outputs": [],
   "source": [
    "esta_lista = [1, 2, 3]\n",
    "for elemento in esta_lista\n",
    "    print(elemento)"
   ]
  },
  {
   "cell_type": "code",
   "execution_count": null,
   "id": "ff489294",
   "metadata": {},
   "outputs": [],
   "source": []
  }
 ],
 "metadata": {
  "kernelspec": {
   "display_name": "Python 3 (ipykernel)",
   "language": "python",
   "name": "python3"
  },
  "language_info": {
   "codemirror_mode": {
    "name": "ipython",
    "version": 3
   },
   "file_extension": ".py",
   "mimetype": "text/x-python",
   "name": "python",
   "nbconvert_exporter": "python",
   "pygments_lexer": "ipython3",
   "version": "3.8.11"
  }
 },
 "nbformat": 4,
 "nbformat_minor": 5
}
