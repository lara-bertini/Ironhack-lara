{
 "cells": [
  {
   "cell_type": "markdown",
   "id": "c75bcf91",
   "metadata": {},
   "source": [
    "## Listas\n",
    "\n",
    "(Continuação)"
   ]
  },
  {
   "cell_type": "code",
   "execution_count": 1,
   "id": "60f98acf",
   "metadata": {},
   "outputs": [],
   "source": [
    "lista = [10,20,30]"
   ]
  },
  {
   "cell_type": "code",
   "execution_count": 2,
   "id": "986f4470",
   "metadata": {},
   "outputs": [
    {
     "data": {
      "text/plain": [
       "10"
      ]
     },
     "execution_count": 2,
     "metadata": {},
     "output_type": "execute_result"
    }
   ],
   "source": [
    "lista[0]"
   ]
  },
  {
   "cell_type": "code",
   "execution_count": 3,
   "id": "490eb8fa",
   "metadata": {},
   "outputs": [],
   "source": [
    "lista = [[10,20,30],20,30]"
   ]
  },
  {
   "cell_type": "code",
   "execution_count": 4,
   "id": "1bf0a16a",
   "metadata": {},
   "outputs": [
    {
     "data": {
      "text/plain": [
       "10"
      ]
     },
     "execution_count": 4,
     "metadata": {},
     "output_type": "execute_result"
    }
   ],
   "source": [
    "lista[0][0]"
   ]
  },
  {
   "cell_type": "code",
   "execution_count": 5,
   "id": "e80e4e51",
   "metadata": {},
   "outputs": [
    {
     "name": "stdout",
     "output_type": "stream",
     "text": [
      "[0, 20, 30]\n"
     ]
    }
   ],
   "source": [
    "lista[0] = 0\n",
    "print(lista)"
   ]
  },
  {
   "cell_type": "code",
   "execution_count": 6,
   "id": "cfcc17f6",
   "metadata": {},
   "outputs": [],
   "source": [
    "lista.append(40)"
   ]
  },
  {
   "cell_type": "code",
   "execution_count": 7,
   "id": "de250669",
   "metadata": {},
   "outputs": [
    {
     "data": {
      "text/plain": [
       "[0, 20, 30, 40]"
      ]
     },
     "execution_count": 7,
     "metadata": {},
     "output_type": "execute_result"
    }
   ],
   "source": [
    "lista"
   ]
  },
  {
   "cell_type": "code",
   "execution_count": 10,
   "id": "2d8a4161",
   "metadata": {},
   "outputs": [
    {
     "data": {
      "text/plain": [
       "[0, 20, 30, 40, 25, 50, 25, 50]"
      ]
     },
     "execution_count": 10,
     "metadata": {},
     "output_type": "execute_result"
    }
   ],
   "source": [
    "# append só insere 1 elemento por vez, enquanto que o extende adiciona mais de 1 elemento de uma só vez\n",
    "lista.extend([25,50])\n",
    "lista"
   ]
  },
  {
   "cell_type": "code",
   "execution_count": 12,
   "id": "34df7bcd",
   "metadata": {},
   "outputs": [
    {
     "data": {
      "text/plain": [
       "[0, 20, 30, 40, 25, 50, 25, 50, 25, 50, [10, 20], 25, 50, [10, 20]]"
      ]
     },
     "execution_count": 12,
     "metadata": {},
     "output_type": "execute_result"
    }
   ],
   "source": [
    "lista.extend([25,50,[10,20]])\n",
    "lista"
   ]
  },
  {
   "cell_type": "code",
   "execution_count": 13,
   "id": "17cfc78f",
   "metadata": {},
   "outputs": [
    {
     "data": {
      "text/plain": [
       "[0, 20, 30, 40, 25, 50, 25, 50, 25, 50, [10, 20], 25, 50]"
      ]
     },
     "execution_count": 13,
     "metadata": {},
     "output_type": "execute_result"
    }
   ],
   "source": [
    "lista.pop()\n",
    "lista"
   ]
  },
  {
   "cell_type": "code",
   "execution_count": 14,
   "id": "a9a94cf7",
   "metadata": {},
   "outputs": [
    {
     "data": {
      "text/plain": [
       "[0, 20, 30, 40, 25, 25, 50, 25, 50, [10, 20], 25, 50]"
      ]
     },
     "execution_count": 14,
     "metadata": {},
     "output_type": "execute_result"
    }
   ],
   "source": [
    "lista.pop(5)\n",
    "lista"
   ]
  },
  {
   "cell_type": "markdown",
   "id": "29832d31",
   "metadata": {},
   "source": [
    "## Tuples"
   ]
  },
  {
   "cell_type": "code",
   "execution_count": 19,
   "id": "1bc4590a",
   "metadata": {},
   "outputs": [
    {
     "name": "stdout",
     "output_type": "stream",
     "text": [
      "(10, 20, 30)\n",
      "10\n",
      "20\n",
      "30\n"
     ]
    }
   ],
   "source": [
    "# Em português se fala Upla\n",
    "tuple_ex = (10, 20, 30)\n",
    "print(tuple_ex)\n",
    "a,b,c = tuple_ex\n",
    "print(a)\n",
    "print(b)\n",
    "print(c)"
   ]
  },
  {
   "cell_type": "code",
   "execution_count": 21,
   "id": "c7b95a4f",
   "metadata": {},
   "outputs": [
    {
     "name": "stdout",
     "output_type": "stream",
     "text": [
      "0\n",
      "1\n",
      "2\n",
      "3\n",
      "4\n",
      "5\n",
      "6\n",
      "7\n",
      "8\n",
      "9\n",
      "range(0, 10)\n",
      "[0, 1, 2, 3, 4, 5, 6, 7, 8, 9]\n"
     ]
    }
   ],
   "source": [
    "# Tuples são interáveis, e portanto podemos percorrer, da mesma forma que faríamos com uma lista\n",
    "range_ex = range(0,10)\n",
    "for i in tuple(range_ex):\n",
    "    print(i)\n",
    "print(range_ex)\n",
    "print(list(range_ex))"
   ]
  },
  {
   "cell_type": "code",
   "execution_count": 23,
   "id": "6507ae60",
   "metadata": {},
   "outputs": [
    {
     "ename": "TypeError",
     "evalue": "'str' object does not support item assignment",
     "output_type": "error",
     "traceback": [
      "\u001b[1;31m---------------------------------------------------------------------------\u001b[0m",
      "\u001b[1;31mTypeError\u001b[0m                                 Traceback (most recent call last)",
      "\u001b[1;32m<ipython-input-23-5662c1c4758d>\u001b[0m in \u001b[0;36m<module>\u001b[1;34m\u001b[0m\n\u001b[0;32m      6\u001b[0m \u001b[1;31m# outro iterável imutável são strings\u001b[0m\u001b[1;33m\u001b[0m\u001b[1;33m\u001b[0m\u001b[1;33m\u001b[0m\u001b[0m\n\u001b[0;32m      7\u001b[0m \u001b[0mNome\u001b[0m \u001b[1;33m=\u001b[0m \u001b[1;34m'Lara'\u001b[0m\u001b[1;33m\u001b[0m\u001b[1;33m\u001b[0m\u001b[0m\n\u001b[1;32m----> 8\u001b[1;33m \u001b[0mNome\u001b[0m\u001b[1;33m[\u001b[0m\u001b[1;36m0\u001b[0m\u001b[1;33m]\u001b[0m \u001b[1;33m=\u001b[0m \u001b[1;34m'P'\u001b[0m\u001b[1;33m\u001b[0m\u001b[1;33m\u001b[0m\u001b[0m\n\u001b[0m\u001b[0;32m      9\u001b[0m \u001b[0mNome\u001b[0m\u001b[1;33m\u001b[0m\u001b[1;33m\u001b[0m\u001b[0m\n",
      "\u001b[1;31mTypeError\u001b[0m: 'str' object does not support item assignment"
     ]
    }
   ],
   "source": [
    "# a diferença fundamental entre tuples e lists é que tuples são imutáveis. \n",
    "# Quando eu quiser armazenar chaves, utilizo Tuple\n",
    "# Acessar o índice -1 retora o último elemento da lista/upla\n",
    "# -2 acessa o penúltimo elemento, e assim cosecutivamente\n",
    "# É sempre melhor utilizar os objetos com menos permissões possível\n",
    "\n",
    "# outro iterável imutável são strings\n",
    "Nome = 'Lara'\n",
    "Nome[0] = 'P'\n",
    "Nome"
   ]
  },
  {
   "cell_type": "code",
   "execution_count": 27,
   "id": "a471cdd1",
   "metadata": {},
   "outputs": [
    {
     "name": "stdout",
     "output_type": "stream",
     "text": [
      "3\n",
      "3\n"
     ]
    }
   ],
   "source": [
    "# count >> retorna o número de ocorrências de um elemento na lista\n",
    "# Index >> retorna o índice do valor que vc especifica\n",
    "\n",
    "lista_ex = [1,1,1,2,3,4,5,6]\n",
    "print(lista_ex.count(1))\n",
    "print(lista_ex.index(2))"
   ]
  },
  {
   "cell_type": "code",
   "execution_count": 29,
   "id": "a0649f96",
   "metadata": {},
   "outputs": [
    {
     "name": "stdout",
     "output_type": "stream",
     "text": [
      "[6, 5, 3, 2, 1]\n",
      "[1, 2, 3, 5, 6]\n"
     ]
    }
   ],
   "source": [
    "# sorted retorna lista em ordem\n",
    "lista = [1,5,2,6,3]\n",
    "# Descrescente\n",
    "print(sorted(lista,reverse = True))\n",
    "\n",
    "# Crescente\n",
    "print(sorted(lista))"
   ]
  },
  {
   "cell_type": "markdown",
   "id": "6ddf2caf",
   "metadata": {},
   "source": [
    "## Slice"
   ]
  },
  {
   "cell_type": "code",
   "execution_count": 30,
   "id": "6be1ab80",
   "metadata": {},
   "outputs": [
    {
     "data": {
      "text/plain": [
       "9"
      ]
     },
     "execution_count": 30,
     "metadata": {},
     "output_type": "execute_result"
    }
   ],
   "source": [
    "# São utilizados para tirar trechos de listas / uplas\n",
    "grades = (1,2,3,4,5,6,7,8,9)\n",
    "len(grades)"
   ]
  },
  {
   "cell_type": "code",
   "execution_count": 31,
   "id": "9c90ae1a",
   "metadata": {},
   "outputs": [
    {
     "data": {
      "text/plain": [
       "(1, 2, 3)"
      ]
     },
     "execution_count": 31,
     "metadata": {},
     "output_type": "execute_result"
    }
   ],
   "source": [
    "grades[:3]"
   ]
  },
  {
   "cell_type": "code",
   "execution_count": 32,
   "id": "9076ec38",
   "metadata": {},
   "outputs": [
    {
     "name": "stdout",
     "output_type": "stream",
     "text": [
      "3\n",
      "7\n",
      "(3, 4, 5, 6)\n"
     ]
    }
   ],
   "source": [
    "# O segundo elemento do slice é exclusivo à direita e inclusivo à esquerda, pois nesse caso, 6-2 retorna 4 elementos\n",
    "print(grades[2])\n",
    "print(grades[6])\n",
    "print(grades[2:6])"
   ]
  },
  {
   "cell_type": "code",
   "execution_count": 33,
   "id": "058da371",
   "metadata": {},
   "outputs": [
    {
     "data": {
      "text/plain": [
       "(8, 9)"
      ]
     },
     "execution_count": 33,
     "metadata": {},
     "output_type": "execute_result"
    }
   ],
   "source": [
    "grades[-2:]"
   ]
  },
  {
   "cell_type": "code",
   "execution_count": 34,
   "id": "2b7dc51e",
   "metadata": {},
   "outputs": [
    {
     "data": {
      "text/plain": [
       "(1, 2, 3, 4, 5, 6, 7, 8, 9)"
      ]
     },
     "execution_count": 34,
     "metadata": {},
     "output_type": "execute_result"
    }
   ],
   "source": [
    "grades[:]"
   ]
  },
  {
   "cell_type": "code",
   "execution_count": 36,
   "id": "b64f0195",
   "metadata": {},
   "outputs": [
    {
     "name": "stdout",
     "output_type": "stream",
     "text": [
      "[1, 2, 3]\n",
      "[1, 2, 3]\n",
      "[2, 2, 3]\n",
      "[2, 2, 3]\n"
     ]
    }
   ],
   "source": [
    "# Neste caso está apenas referenciando o objeto\n",
    "# Isto é apenas uma forma do Python economizar memória\n",
    "lista_orig = [1,2,3]\n",
    "lista_copia = lista_orig\n",
    "\n",
    "print(lista_orig)\n",
    "print(lista_copia)\n",
    "\n",
    "lista_copia[0] = 2\n",
    "\n",
    "print(lista_orig)\n",
    "print(lista_copia)"
   ]
  },
  {
   "cell_type": "code",
   "execution_count": 37,
   "id": "09a1a452",
   "metadata": {},
   "outputs": [
    {
     "name": "stdout",
     "output_type": "stream",
     "text": [
      "[1, 2, 3]\n",
      "[1, 2, 3]\n",
      "[1, 2, 3]\n",
      "[2, 2, 3]\n"
     ]
    }
   ],
   "source": [
    "# Neste caso está de fato criando um novo objeto\n",
    "lista_orig = [1,2,3]\n",
    "lista_copia = lista_orig[:]\n",
    "\n",
    "print(lista_orig)\n",
    "print(lista_copia)\n",
    "\n",
    "lista_copia[0] = 2\n",
    "\n",
    "print(lista_orig)\n",
    "print(lista_copia)"
   ]
  },
  {
   "cell_type": "code",
   "execution_count": 38,
   "id": "fc20c663",
   "metadata": {},
   "outputs": [
    {
     "data": {
      "text/plain": [
       "(2, 3, 5, 6)"
      ]
     },
     "execution_count": 38,
     "metadata": {},
     "output_type": "execute_result"
    }
   ],
   "source": [
    "grades[1:3] + grades[4:6]"
   ]
  },
  {
   "cell_type": "markdown",
   "id": "b0fef572",
   "metadata": {},
   "source": [
    "## Dictionaries"
   ]
  },
  {
   "cell_type": "code",
   "execution_count": 39,
   "id": "f8e64ae0",
   "metadata": {},
   "outputs": [],
   "source": [
    "# Duas formas de criar\n",
    "my_dict = {}\n",
    "my_dict = dict() # preferível, fica mais claro que é dicionário"
   ]
  },
  {
   "cell_type": "code",
   "execution_count": 42,
   "id": "b09a5c57",
   "metadata": {},
   "outputs": [
    {
     "data": {
      "text/plain": [
       "{'Grão de Bico': 10, 'Feijão': 8, 'Lentilha': 1}"
      ]
     },
     "execution_count": 42,
     "metadata": {},
     "output_type": "execute_result"
    }
   ],
   "source": [
    "my_dict = {\n",
    "    'Grão de Bico':10,\n",
    "    'Feijão':8,\n",
    "    'Lentilha':1\n",
    "}\n",
    "my_dict"
   ]
  },
  {
   "cell_type": "code",
   "execution_count": 43,
   "id": "91f6485a",
   "metadata": {},
   "outputs": [
    {
     "data": {
      "text/plain": [
       "10"
      ]
     },
     "execution_count": 43,
     "metadata": {},
     "output_type": "execute_result"
    }
   ],
   "source": [
    "my_dict['Grão de Bico']"
   ]
  },
  {
   "cell_type": "code",
   "execution_count": 45,
   "id": "ce27f4b4",
   "metadata": {},
   "outputs": [
    {
     "data": {
      "text/plain": [
       "{'Grão de Bico': 10, 'Feijão': 8, 'Lentilha': 1, 'Soja': 9}"
      ]
     },
     "execution_count": 45,
     "metadata": {},
     "output_type": "execute_result"
    }
   ],
   "source": [
    "my_dict['Soja'] = 9\n",
    "my_dict"
   ]
  },
  {
   "cell_type": "code",
   "execution_count": 47,
   "id": "66221887",
   "metadata": {},
   "outputs": [
    {
     "data": {
      "text/plain": [
       "{'Grão de Bico': 1}"
      ]
     },
     "execution_count": 47,
     "metadata": {},
     "output_type": "execute_result"
    }
   ],
   "source": [
    "# As chaves de um dicionário são elementos únicos (ele sobrescreve no exemplo a seguir)\n",
    "my_dict = {\n",
    "    'Grão de Bico':10,\n",
    "    'Grão de Bico':2,\n",
    "    'Grão de Bico':1,\n",
    "}\n",
    "my_dict"
   ]
  },
  {
   "cell_type": "code",
   "execution_count": 49,
   "id": "52d07dfc",
   "metadata": {},
   "outputs": [
    {
     "data": {
      "text/plain": [
       "dict_values([10, 8, 1])"
      ]
     },
     "execution_count": 49,
     "metadata": {},
     "output_type": "execute_result"
    }
   ],
   "source": [
    "my_dict = {\n",
    "    'Grão de Bico':10,\n",
    "    'Feijão':8,\n",
    "    'Lentilha':1\n",
    "}\n",
    "my_dict.values()"
   ]
  },
  {
   "cell_type": "code",
   "execution_count": 50,
   "id": "0da430d3",
   "metadata": {},
   "outputs": [
    {
     "data": {
      "text/plain": [
       "dict_keys(['Grão de Bico', 'Feijão', 'Lentilha'])"
      ]
     },
     "execution_count": 50,
     "metadata": {},
     "output_type": "execute_result"
    }
   ],
   "source": [
    "my_dict.keys()"
   ]
  },
  {
   "cell_type": "code",
   "execution_count": 51,
   "id": "7cec0ac0",
   "metadata": {},
   "outputs": [
    {
     "data": {
      "text/plain": [
       "dict_items([('Grão de Bico', 10), ('Feijão', 8), ('Lentilha', 1)])"
      ]
     },
     "execution_count": 51,
     "metadata": {},
     "output_type": "execute_result"
    }
   ],
   "source": [
    "my_dict.items()"
   ]
  },
  {
   "cell_type": "code",
   "execution_count": 56,
   "id": "b752b741",
   "metadata": {},
   "outputs": [
    {
     "name": "stdout",
     "output_type": "stream",
     "text": [
      "0\n",
      "1\n",
      "2\n"
     ]
    }
   ],
   "source": [
    "for i in range(len(my_dict.keys())):\n",
    "    print(i)"
   ]
  },
  {
   "cell_type": "code",
   "execution_count": null,
   "id": "41839bc6",
   "metadata": {},
   "outputs": [],
   "source": [
    "# Se eu quiser criar uma cópia do dicionário / lista, pode usar função copy()"
   ]
  },
  {
   "cell_type": "markdown",
   "id": "a6f9bea1",
   "metadata": {},
   "source": [
    "## Sets (conjuntos)\n",
    "\n",
    "Mais uma classe de objetos interáveis"
   ]
  },
  {
   "cell_type": "code",
   "execution_count": 57,
   "id": "f149dfce",
   "metadata": {},
   "outputs": [
    {
     "data": {
      "text/plain": [
       "{'Adriano', 'Pedro'}"
      ]
     },
     "execution_count": 57,
     "metadata": {},
     "output_type": "execute_result"
    }
   ],
   "source": [
    "# Conjunto, é como as chaves de um diciário, só tem elementos únicos\n",
    "my_list = ['Pedro', 'Adriano','Pedro', 'Adriano','Pedro', 'Adriano','Pedro', 'Adriano']\n",
    "set(my_list)"
   ]
  },
  {
   "cell_type": "code",
   "execution_count": 61,
   "id": "cca02d57",
   "metadata": {},
   "outputs": [
    {
     "data": {
      "text/plain": [
       "{6, 7, 8}"
      ]
     },
     "execution_count": 61,
     "metadata": {},
     "output_type": "execute_result"
    }
   ],
   "source": [
    "x = set([1,2,3,4,5,6,7,8])\n",
    "y = set([6,7,8,9,10,11,12])\n",
    "x.intersection(y)"
   ]
  },
  {
   "cell_type": "code",
   "execution_count": 62,
   "id": "02427924",
   "metadata": {},
   "outputs": [
    {
     "data": {
      "text/plain": [
       "{1, 2, 3, 4, 5}"
      ]
     },
     "execution_count": 62,
     "metadata": {},
     "output_type": "execute_result"
    }
   ],
   "source": [
    "x.difference(y)"
   ]
  },
  {
   "cell_type": "code",
   "execution_count": 63,
   "id": "5ebbe3a6",
   "metadata": {},
   "outputs": [
    {
     "data": {
      "text/plain": [
       "{9, 10, 11, 12}"
      ]
     },
     "execution_count": 63,
     "metadata": {},
     "output_type": "execute_result"
    }
   ],
   "source": [
    "y.difference(x)"
   ]
  },
  {
   "cell_type": "code",
   "execution_count": 64,
   "id": "00ece8c3",
   "metadata": {},
   "outputs": [
    {
     "data": {
      "text/plain": [
       "{1, 2, 3, 4, 5}"
      ]
     },
     "execution_count": 64,
     "metadata": {},
     "output_type": "execute_result"
    }
   ],
   "source": [
    "x-y"
   ]
  },
  {
   "cell_type": "code",
   "execution_count": 65,
   "id": "d7c8c060",
   "metadata": {},
   "outputs": [
    {
     "data": {
      "text/plain": [
       "{9, 10, 11, 12}"
      ]
     },
     "execution_count": 65,
     "metadata": {},
     "output_type": "execute_result"
    }
   ],
   "source": [
    "y-x"
   ]
  },
  {
   "cell_type": "code",
   "execution_count": 66,
   "id": "3cf286e5",
   "metadata": {},
   "outputs": [
    {
     "data": {
      "text/plain": [
       "{2, 3, 4, 5, 6, 7, 8}"
      ]
     },
     "execution_count": 66,
     "metadata": {},
     "output_type": "execute_result"
    }
   ],
   "source": [
    "x.pop()\n",
    "x"
   ]
  },
  {
   "cell_type": "code",
   "execution_count": 67,
   "id": "a0d7270b",
   "metadata": {},
   "outputs": [
    {
     "data": {
      "text/plain": [
       "{2, 3, 4, 5, 6, 7, 8, 9, 10, 11, 12}"
      ]
     },
     "execution_count": 67,
     "metadata": {},
     "output_type": "execute_result"
    }
   ],
   "source": [
    "# O que estava na intersecção aparece uma vez só dado que set só tem elementos únicos\n",
    "x.union(y)"
   ]
  },
  {
   "cell_type": "code",
   "execution_count": 68,
   "id": "18ab0f73",
   "metadata": {},
   "outputs": [
    {
     "name": "stdout",
     "output_type": "stream",
     "text": [
      "{2, 3, 4, 5, 9, 10, 11, 12}\n",
      "{2, 3, 4, 5, 9, 10, 11, 12}\n"
     ]
    }
   ],
   "source": [
    "print((x-y).union(y-x))\n",
    "\n",
    "print(x.symmetric_difference(y))"
   ]
  },
  {
   "cell_type": "code",
   "execution_count": 69,
   "id": "9bfc0cdc",
   "metadata": {},
   "outputs": [
    {
     "data": {
      "text/plain": [
       "{1, 2, 3, 4, 5, 6, 7, 8}"
      ]
     },
     "execution_count": 69,
     "metadata": {},
     "output_type": "execute_result"
    }
   ],
   "source": [
    "# Set sempre ordena de forma crescente\n",
    "set([5,6,7,8,1,2,3,4])"
   ]
  },
  {
   "cell_type": "code",
   "execution_count": 72,
   "id": "25b63cac",
   "metadata": {},
   "outputs": [
    {
     "data": {
      "text/plain": [
       "{0, 1, 2, 3, 4, 5, 6, 7, 8}"
      ]
     },
     "execution_count": 72,
     "metadata": {},
     "output_type": "execute_result"
    }
   ],
   "source": [
    "x.update([0,1])\n",
    "x"
   ]
  },
  {
   "cell_type": "code",
   "execution_count": 73,
   "id": "6be31842",
   "metadata": {},
   "outputs": [
    {
     "data": {
      "text/plain": [
       "True"
      ]
     },
     "execution_count": 73,
     "metadata": {},
     "output_type": "execute_result"
    }
   ],
   "source": [
    "set([0,1,2,3]).issubset(x)"
   ]
  },
  {
   "cell_type": "code",
   "execution_count": 74,
   "id": "8596bef0",
   "metadata": {},
   "outputs": [
    {
     "data": {
      "text/plain": [
       "2"
      ]
     },
     "execution_count": 74,
     "metadata": {},
     "output_type": "execute_result"
    }
   ],
   "source": [
    "# Pop() não tira o último elemento, por não ser um objeto ordenado. Precisa pesquisar pra ver a ordem que os elementos são retirados\n",
    "x.pop()"
   ]
  },
  {
   "cell_type": "code",
   "execution_count": null,
   "id": "9b0535ed",
   "metadata": {},
   "outputs": [],
   "source": []
  }
 ],
 "metadata": {
  "kernelspec": {
   "display_name": "Python 3",
   "language": "python",
   "name": "python3"
  },
  "language_info": {
   "codemirror_mode": {
    "name": "ipython",
    "version": 3
   },
   "file_extension": ".py",
   "mimetype": "text/x-python",
   "name": "python",
   "nbconvert_exporter": "python",
   "pygments_lexer": "ipython3",
   "version": "3.8.8"
  }
 },
 "nbformat": 4,
 "nbformat_minor": 5
}
