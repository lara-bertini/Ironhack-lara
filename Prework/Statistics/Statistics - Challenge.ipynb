{
 "cells": [
  {
   "cell_type": "code",
   "execution_count": 10,
   "id": "58161e2c",
   "metadata": {},
   "outputs": [
    {
     "name": "stdout",
     "output_type": "stream",
     "text": [
      "[85 85 87 89 90 90 95]\n",
      "median: 89\n"
     ]
    }
   ],
   "source": [
    "import numpy as np\n",
    "import statistics as stats\n",
    "\n",
    "lst = [95, 87, 85, 85, 90, 89, 90]\n",
    "lst = np.sort(lst)\n",
    "print(lst)\n",
    "print(\"median:\",stats.median(lst))"
   ]
  },
  {
   "cell_type": "code",
   "execution_count": 13,
   "id": "ffd6df32",
   "metadata": {},
   "outputs": [
    {
     "name": "stdout",
     "output_type": "stream",
     "text": [
      "median: 89\n",
      "median: 88.5\n"
     ]
    }
   ],
   "source": [
    "scores = [88, 100, 72, 91, 89]\n",
    "print(\"median:\",stats.median(scores))\n",
    "scores = [88, 100, 72, 91, 89, 82]\n",
    "print(\"median:\",stats.median(scores))"
   ]
  },
  {
   "cell_type": "code",
   "execution_count": 15,
   "id": "2a0179b6",
   "metadata": {},
   "outputs": [
    {
     "name": "stdout",
     "output_type": "stream",
     "text": [
      "stdev1: 0.570087712549569\n",
      "stdev2: 1.3038404810405297\n",
      "stdev3: 3.3466401061363023\n",
      "average1: 1.2\n",
      "average2: 2.7\n",
      "average3: 4.2\n"
     ]
    }
   ],
   "source": [
    "store1 = [1, 1.5, 2, 1, 0.5]\n",
    "store2 = [2, 2.5, 4, 4, 1]\n",
    "store3 = [10, 3, 2, 4, 2]\n",
    "print(\"stdev1:\", stats.stdev(store1))\n",
    "print(\"stdev2:\", stats.stdev(store2))\n",
    "print(\"stdev3:\", stats.stdev(store3))\n",
    "print(\"average1:\", stats.mean(store1))\n",
    "print(\"average2:\", stats.mean(store2))\n",
    "print(\"average3:\", stats.mean(store3))"
   ]
  },
  {
   "cell_type": "code",
   "execution_count": 16,
   "id": "c58d5a83",
   "metadata": {},
   "outputs": [
    {
     "name": "stdout",
     "output_type": "stream",
     "text": [
      "stdev: 0.0\n"
     ]
    }
   ],
   "source": [
    "dataset = [1, 1, 1, 1, 1]\n",
    "print(\"stdev:\", stats.stdev(dataset))"
   ]
  },
  {
   "cell_type": "code",
   "execution_count": 49,
   "id": "07da1814",
   "metadata": {},
   "outputs": [
    {
     "name": "stdout",
     "output_type": "stream",
     "text": [
      "5\n"
     ]
    }
   ],
   "source": [
    "def escape():\n",
    "    daily_climb = [30, 21, 33, 77, 44, 45, 23, 45, 12, 34, 55]\n",
    "    well_height = 125\n",
    "    nightly_fall = 20\n",
    "    total_distance = 0\n",
    "    counter = 0\n",
    "    \n",
    "    while total_distance<well_height:\n",
    "        total_distance = total_distance + daily_climb[counter] - nightly_fall\n",
    "        counter = counter + 1      \n",
    "    \n",
    "    return counter-1\n",
    "\n",
    "print(escape())"
   ]
  },
  {
   "cell_type": "code",
   "execution_count": 32,
   "id": "0037aacf",
   "metadata": {},
   "outputs": [
    {
     "name": "stdout",
     "output_type": "stream",
     "text": [
      "57\n"
     ]
    }
   ],
   "source": [
    "def max_displacement():\n",
    "    daily_climb = [30, 21, 33, 77, 44, 45, 23, 45, 12, 34, 55]\n",
    "    nightly_fall = 20\n",
    "    len = escape()\n",
    "    daily_climb = daily_climb[0:len]\n",
    "    return(max(daily_climb)-nightly_fall)\n",
    "\n",
    "print(max_displacement())"
   ]
  },
  {
   "cell_type": "code",
   "execution_count": 35,
   "id": "fd944b44",
   "metadata": {},
   "outputs": [
    {
     "name": "stdout",
     "output_type": "stream",
     "text": [
      "1\n"
     ]
    }
   ],
   "source": [
    "def min_displacement():\n",
    "    daily_climb = [30, 21, 33, 77, 44, 45, 23, 45, 12, 34, 55]\n",
    "    nightly_fall = 20\n",
    "    len = escape()\n",
    "    daily_climb = daily_climb[0:len]\n",
    "    return(min(daily_climb)-nightly_fall)\n",
    "\n",
    "print(min_displacement())"
   ]
  },
  {
   "cell_type": "code",
   "execution_count": 40,
   "id": "5fb174e8",
   "metadata": {},
   "outputs": [
    {
     "name": "stdout",
     "output_type": "stream",
     "text": [
      "21.7\n"
     ]
    }
   ],
   "source": [
    "def avg_speed():\n",
    "    import numpy as np\n",
    "    daily_climb = [30, 21, 33, 77, 44, 45, 23, 45, 12, 34, 55]\n",
    "    nightly_fall = 20\n",
    "    len = escape()\n",
    "    daily_climb = daily_climb[0:len]\n",
    "    return round((np.mean(daily_climb)-nightly_fall),1)\n",
    "\n",
    "print(avg_speed())"
   ]
  },
  {
   "cell_type": "code",
   "execution_count": 48,
   "id": "3f17f1b7",
   "metadata": {},
   "outputs": [
    {
     "name": "stdout",
     "output_type": "stream",
     "text": [
      "17.81\n"
     ]
    }
   ],
   "source": [
    "def standard_deviation():\n",
    "    import numpy as np\n",
    "    daily_climb = [30, 21, 33, 77, 44, 45, 23, 45, 12, 34, 55]\n",
    "    nightly_fall = 20\n",
    "    len = escape()\n",
    "    daily_climb = daily_climb[0:len]\n",
    "    counter = 0\n",
    "    for item in daily_climb:\n",
    "        daily_climb[counter] = item-nightly_fall\n",
    "        counter = counter+1   \n",
    "    return round((np.std(daily_climb)),2)\n",
    "\n",
    "print(standard_deviation())"
   ]
  },
  {
   "cell_type": "code",
   "execution_count": null,
   "id": "b18f222e",
   "metadata": {},
   "outputs": [],
   "source": []
  }
 ],
 "metadata": {
  "kernelspec": {
   "display_name": "Python 3 (ipykernel)",
   "language": "python",
   "name": "python3"
  },
  "language_info": {
   "codemirror_mode": {
    "name": "ipython",
    "version": 3
   },
   "file_extension": ".py",
   "mimetype": "text/x-python",
   "name": "python",
   "nbconvert_exporter": "python",
   "pygments_lexer": "ipython3",
   "version": "3.8.11"
  }
 },
 "nbformat": 4,
 "nbformat_minor": 5
}
