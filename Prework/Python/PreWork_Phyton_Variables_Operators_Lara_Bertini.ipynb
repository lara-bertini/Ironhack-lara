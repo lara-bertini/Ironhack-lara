{
 "cells": [
  {
   "cell_type": "markdown",
   "metadata": {},
   "source": [
    "## Excercise: Data Types "
   ]
  },
  {
   "cell_type": "markdown",
   "metadata": {},
   "source": [
    "**1. For the following variables, use Python to check the data type of the variables.**"
   ]
  },
  {
   "cell_type": "code",
   "execution_count": 1,
   "metadata": {},
   "outputs": [],
   "source": [
    "x1 = 1.1\n",
    "\n",
    "x2 = \"Ironhack\"\n",
    "\n",
    "x3 = \"1.1\"\n",
    "\n",
    "x4 = True \n",
    "\n",
    "x5 = \"True\"\n",
    "\n",
    "x6 = -1"
   ]
  },
  {
   "cell_type": "code",
   "execution_count": 2,
   "metadata": {},
   "outputs": [
    {
     "name": "stdout",
     "output_type": "stream",
     "text": [
      "Type x1: <class 'float'>\n",
      "Type x2: <class 'str'>\n",
      "Type x3: <class 'str'>\n",
      "Type x4: <class 'bool'>\n",
      "Type x5: <class 'str'>\n",
      "Type x6: <class 'int'>\n"
     ]
    }
   ],
   "source": [
    "print(\"Type x1:\", type(x1))\n",
    "print(\"Type x2:\", type(x2))\n",
    "print(\"Type x3:\", type(x3))\n",
    "print(\"Type x4:\", type(x4))\n",
    "print(\"Type x5:\", type(x5))\n",
    "print(\"Type x6:\", type(x6))"
   ]
  },
  {
   "cell_type": "markdown",
   "metadata": {},
   "source": [
    "**2. What is the difference between `x1` and `x3`?**"
   ]
  },
  {
   "cell_type": "code",
   "execution_count": 3,
   "metadata": {},
   "outputs": [
    {
     "name": "stdout",
     "output_type": "stream",
     "text": [
      "x1 é float e x3 é string\n"
     ]
    }
   ],
   "source": [
    "print(\"x1 é float e x3 é string\")"
   ]
  },
  {
   "cell_type": "markdown",
   "metadata": {},
   "source": [
    "**3. What is the difference between `x4` and `x5`?**"
   ]
  },
  {
   "cell_type": "code",
   "execution_count": 4,
   "metadata": {},
   "outputs": [
    {
     "name": "stdout",
     "output_type": "stream",
     "text": [
      "x4 é boolean e x5 é string\n"
     ]
    }
   ],
   "source": [
    "print(\"x4 é boolean e x5 é string\")"
   ]
  },
  {
   "cell_type": "markdown",
   "metadata": {},
   "source": [
    "# Exercise Operators\n",
    "\n",
    "\n",
    "\n",
    "\n",
    "\n",
    "\n",
    "\n",
    "\n",
    "\n",
    "\n"
   ]
  },
  {
   "cell_type": "markdown",
   "metadata": {},
   "source": [
    "**1. In this problem we will show you how to take a user input. Use the code and then answer the questions \n",
    "that follow:**"
   ]
  },
  {
   "cell_type": "raw",
   "metadata": {},
   "source": [
    "x1 = input(\"Please enter an integer number: \")\n",
    "\n",
    "x2 = input(\"Please enter another integer number\")\n",
    "\n",
    "Print the values of the two variables?\n",
    "What is the data type of `x1` and `x2`?\n",
    "\n",
    "As you would notice, data type of `x1` and `x2` is string. Even though we entered integers, the input function\n",
    "converts them into string by default. Now we do some data type conversion from string to integers\n",
    "\n",
    "x1 = int(x1)  # This converts string into integer and re-initializes `x1`\n",
    "x2 = int(x2)  # This converts string into integer and re-initializes `x2`\n",
    "\n",
    "Print the values of the two variables?\n",
    "What is the data type of `x1` and `x2`?\n",
    "\n",
    "Now perform simple comparisons between `x1` and `x2`\n",
    "\n",
    "    Check if the two variables are equal ?\n",
    "    \n",
    "    Check if `x1` is greater than `x2`?\n",
    "    \n",
    "    Check if `x2` is greater than `x1`?\n",
    "    \n",
    "    Check if `x1` is not equal to `x2`?\n",
    "    \n",
    "\n",
    "Store the difference between the two varibles `x1` and `x2` in another variable `x3` \n",
    "(subtract the smaller number from the larger number)\n",
    "\n",
    "Increment the smaller of the two variables (`x1` and `x2`) with the difference. Again check if `x1` and `x2`\n",
    "are equal or not?"
   ]
  },
  {
   "cell_type": "code",
   "execution_count": 5,
   "metadata": {},
   "outputs": [
    {
     "name": "stdout",
     "output_type": "stream",
     "text": [
      "Please enter an integer number: 1\n"
     ]
    }
   ],
   "source": [
    "x1 = input(\"Please enter an integer number: \")"
   ]
  },
  {
   "cell_type": "code",
   "execution_count": 6,
   "metadata": {},
   "outputs": [
    {
     "name": "stdout",
     "output_type": "stream",
     "text": [
      "Please enter another integer number2\n"
     ]
    }
   ],
   "source": [
    "x2 = input(\"Please enter another integer number\")"
   ]
  },
  {
   "cell_type": "code",
   "execution_count": 7,
   "metadata": {},
   "outputs": [
    {
     "name": "stdout",
     "output_type": "stream",
     "text": [
      "1\n"
     ]
    }
   ],
   "source": [
    "print(x1)"
   ]
  },
  {
   "cell_type": "code",
   "execution_count": 8,
   "metadata": {},
   "outputs": [
    {
     "name": "stdout",
     "output_type": "stream",
     "text": [
      "2\n"
     ]
    }
   ],
   "source": [
    "print(x2)"
   ]
  },
  {
   "cell_type": "code",
   "execution_count": 9,
   "metadata": {},
   "outputs": [
    {
     "name": "stdout",
     "output_type": "stream",
     "text": [
      "type (x1): <class 'str'>\n"
     ]
    }
   ],
   "source": [
    "print(\"type (x1):\",type(x1))"
   ]
  },
  {
   "cell_type": "code",
   "execution_count": 10,
   "metadata": {},
   "outputs": [
    {
     "name": "stdout",
     "output_type": "stream",
     "text": [
      "type (x2): <class 'str'>\n"
     ]
    }
   ],
   "source": [
    "print(\"type (x2):\",type(x2))"
   ]
  },
  {
   "cell_type": "code",
   "execution_count": 11,
   "metadata": {},
   "outputs": [],
   "source": [
    "x1 = int(x1)  # This converts string into integer and re-initializes `x1`\n",
    "x2 = int(x2)  # This converts string into integer and re-initializes `x2`"
   ]
  },
  {
   "cell_type": "code",
   "execution_count": 12,
   "metadata": {},
   "outputs": [
    {
     "name": "stdout",
     "output_type": "stream",
     "text": [
      "x1= 1  / type(x1)= <class 'int'>\n",
      "x2= 1  / type(x2)= <class 'int'>\n"
     ]
    }
   ],
   "source": [
    "print(\"x1=\",x1,\" / type(x1)=\", type(x1))\n",
    "print(\"x2=\",x1,\" / type(x2)=\", type(x1))"
   ]
  },
  {
   "cell_type": "code",
   "execution_count": 13,
   "metadata": {},
   "outputs": [
    {
     "data": {
      "text/plain": [
       "True"
      ]
     },
     "execution_count": 13,
     "metadata": {},
     "output_type": "execute_result"
    }
   ],
   "source": [
    "x1>x2 # Check if `x1` is greater than `x2`?\n",
    "x1>x2 # Check if `x2` is greater than `x1`?\n",
    "x1!=x2 # Check if `x1` is not equal to `x2`?"
   ]
  },
  {
   "cell_type": "code",
   "execution_count": 14,
   "metadata": {},
   "outputs": [
    {
     "name": "stdout",
     "output_type": "stream",
     "text": [
      "x1= 2\n",
      "x3= 1\n"
     ]
    }
   ],
   "source": [
    "x3 = x2-x1\n",
    "x1 = x1+x3\n",
    "print(\"x1=\",x1)\n",
    "print(\"x3=\",x3)"
   ]
  },
  {
   "cell_type": "code",
   "execution_count": 15,
   "metadata": {},
   "outputs": [
    {
     "data": {
      "text/plain": [
       "True"
      ]
     },
     "execution_count": 15,
     "metadata": {},
     "output_type": "execute_result"
    }
   ],
   "source": [
    "x1==x2 # Check if `x1` is equal to `x2`?"
   ]
  },
  {
   "cell_type": "code",
   "execution_count": null,
   "metadata": {},
   "outputs": [],
   "source": []
  }
 ],
 "metadata": {
  "kernelspec": {
   "display_name": "Python 3 (ipykernel)",
   "language": "python",
   "name": "python3"
  },
  "language_info": {
   "codemirror_mode": {
    "name": "ipython",
    "version": 3
   },
   "file_extension": ".py",
   "mimetype": "text/x-python",
   "name": "python",
   "nbconvert_exporter": "python",
   "pygments_lexer": "ipython3",
   "version": "3.8.11"
  }
 },
 "nbformat": 4,
 "nbformat_minor": 2
}
