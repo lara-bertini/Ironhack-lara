{
 "cells": [
  {
   "cell_type": "code",
   "execution_count": null,
   "metadata": {},
   "outputs": [],
   "source": [
    "# Intro to functions"
   ]
  },
  {
   "cell_type": "markdown",
   "metadata": {},
   "source": [
    "A function is a block of organized, reusable code that is used to perform a single, related action. "
   ]
  },
  {
   "cell_type": "markdown",
   "metadata": {},
   "source": [
    "### Function definition"
   ]
  },
  {
   "cell_type": "code",
   "execution_count": null,
   "metadata": {},
   "outputs": [],
   "source": [
    "You can define functions to provide the required functionality. Here are simple rules to define a function in Python.\n",
    "\n",
    "- Function block begins with the keyword `def` followed by the `function name` and parentheses `()`.\n",
    "- In some cases, you will see that these parentheses are empty when you define and invoke (execute) the function, but sometimes you will have to add parameters inside them when you define the function. The value you will be passing in these parentheses when you invoke function we call an argument.\n",
    "Here is an extra [resource from W2Schools](https://www.w3schools.com/python/gloss_python_function_arguments.asp#:~:text=The%20terms%20parameter%20and%20argument,function%20when%20it%20is%20called.) that can help you understand this terminology better.\n",
    "- The code block within every function starts with a colon (:) and is mandatory.\n",
    "- The first statement of a function can be an optional statement - the documentation string of the function or docstring.\n",
    "- The statement `return [expression]` exits a function, optionally passing back an expression to the caller. A return statement with no arguments is the same as return None."
   ]
  },
  {
   "cell_type": "code",
   "execution_count": null,
   "metadata": {},
   "outputs": [],
   "source": [
    "Syntax\n",
    "\n",
    "def functionname( parameters ):\n",
    "   \"function_docstring\"\n",
    "   function_suite\n",
    "   return [expression]"
   ]
  },
  {
   "cell_type": "markdown",
   "metadata": {},
   "source": [
    "A function is a block of code which only runs when it is called.\n",
    "\n",
    "A function can return data as a result."
   ]
  },
  {
   "cell_type": "code",
   "execution_count": 2,
   "metadata": {},
   "outputs": [],
   "source": [
    "#The function define needs a parameter (\"X\") and it is going to multiply 5 * x\n",
    "\n",
    "def function1 (x):\n",
    "    return 5 * x"
   ]
  },
  {
   "cell_type": "code",
   "execution_count": 3,
   "metadata": {},
   "outputs": [],
   "source": [
    "#The variable \"a\" is going to save the result for this function\n",
    "a = function1 (2)"
   ]
  },
  {
   "cell_type": "code",
   "execution_count": 4,
   "metadata": {},
   "outputs": [
    {
     "name": "stdout",
     "output_type": "stream",
     "text": [
      "10\n"
     ]
    }
   ],
   "source": [
    "#Use print to see the result (example = 5 * 2, 2 is x value)\n",
    "print (a)"
   ]
  },
  {
   "cell_type": "code",
   "execution_count": 6,
   "metadata": {},
   "outputs": [],
   "source": [
    "b = function1 (1)"
   ]
  },
  {
   "cell_type": "code",
   "execution_count": 7,
   "metadata": {},
   "outputs": [
    {
     "name": "stdout",
     "output_type": "stream",
     "text": [
      "5\n"
     ]
    }
   ],
   "source": [
    "print (b)"
   ]
  },
  {
   "cell_type": "code",
   "execution_count": 9,
   "metadata": {},
   "outputs": [
    {
     "name": "stdout",
     "output_type": "stream",
     "text": [
      "15\n"
     ]
    }
   ],
   "source": [
    "print (a + b)"
   ]
  },
  {
   "cell_type": "code",
   "execution_count": 10,
   "metadata": {},
   "outputs": [],
   "source": [
    "#Also it can be two variables or mores in one function \n",
    "#The result is x + y \n",
    "def function2 (x, y):\n",
    "    return x + y"
   ]
  },
  {
   "cell_type": "code",
   "execution_count": 11,
   "metadata": {},
   "outputs": [
    {
     "name": "stdout",
     "output_type": "stream",
     "text": [
      "5\n"
     ]
    }
   ],
   "source": [
    "#The variable c saves the value\n",
    "c = function2 (2, 3)\n",
    "print (c)"
   ]
  },
  {
   "cell_type": "markdown",
   "metadata": {},
   "source": [
    "# Exercise "
   ]
  },
  {
   "cell_type": "markdown",
   "metadata": {},
   "source": [
    "\n",
    "Create a \"generation calculator\" to help determine the generation you belong to according to your birth year. Follow the below information:\n",
    "\n",
    "```\n",
    "+-----------------+---------------------+\n",
    "|  birth_year     |      generation     |\n",
    "+-----------------+---------------------+\n",
    "|     < 1949      |  silent generation  |\n",
    "+-----------------+---------------------+\n",
    "|     < 1969      |     baby boomer     |\n",
    "+-----------------+---------------------+\n",
    "|     < 1981      |     X generation    | \n",
    "+-----------------+---------------------+\n",
    "|     < 1994      |      millennial     | \n",
    "+-----------------+---------------------+\n",
    "|     > 1994      |    Z generation     | \n",
    "+-----------------+---------------------+\n",
    "```\n",
    "\n",
    "Let's add some \"fake\" users whose data we will be using to validate if the function gives us the correct and expected result."
   ]
  },
  {
   "cell_type": "code",
   "execution_count": 2,
   "metadata": {},
   "outputs": [],
   "source": [
    "# Generation What?\n",
    "\n",
    "name1 = \"Jonh\"\n",
    "birth_year1 = 1989\n",
    "\n",
    "name2 = \"Mari\"\n",
    "birth_year2 = 1995\n",
    "\n",
    "name3 = \"Mich\"\n",
    "birth_year3 = 1960"
   ]
  },
  {
   "cell_type": "markdown",
   "metadata": {},
   "source": [
    "1. Define the function generation calculator & add both parameters to represent both variables we are going to need in this function.\n",
    "2. Determine generation as a birth year (we need to know the year to be able to calculate)\n",
    "3. Print the results\n",
    "4. Write conditionals for each generation. For example, if you were born before 1949 you would be a \"silent generation\".\n",
    "5. Define variables for each result\n",
    "6. Show results"
   ]
  },
  {
   "cell_type": "code",
   "execution_count": 3,
   "metadata": {},
   "outputs": [],
   "source": [
    "def generation (x):\n",
    "    if x < 1949:\n",
    "        return(\"silent generation\")\n",
    "    else:\n",
    "        if x < 1969:\n",
    "            return(\"baby boomer\")\n",
    "        else:\n",
    "            if x < 1981:\n",
    "                return(\"X generation\")\n",
    "            else:\n",
    "                if x < 1994:\n",
    "                    return(\"millennial\")\n",
    "                else:\n",
    "                    return(\"Z generation\")"
   ]
  },
  {
   "cell_type": "code",
   "execution_count": 4,
   "metadata": {},
   "outputs": [
    {
     "name": "stdout",
     "output_type": "stream",
     "text": [
      "Geração de  Jonh  é:  millennial\n"
     ]
    }
   ],
   "source": [
    "name1 = \"Jonh\"\n",
    "birth_year1 = 1989\n",
    "print(\"Geração de \",name1,\" é: \",generation(birth_year1))"
   ]
  },
  {
   "cell_type": "code",
   "execution_count": 5,
   "metadata": {},
   "outputs": [
    {
     "name": "stdout",
     "output_type": "stream",
     "text": [
      "Geração de  Mari  é:  Z generation\n"
     ]
    }
   ],
   "source": [
    "name2 = \"Mari\"\n",
    "birth_year2 = 1995\n",
    "print(\"Geração de \",name2,\" é: \",generation(birth_year2))"
   ]
  },
  {
   "cell_type": "code",
   "execution_count": 6,
   "metadata": {},
   "outputs": [
    {
     "name": "stdout",
     "output_type": "stream",
     "text": [
      "Geração de  Mich  é:  baby boomer\n"
     ]
    }
   ],
   "source": [
    "name3 = \"Mich\"\n",
    "birth_year3 = 1960\n",
    "print(\"Geração de \",name3,\" é: \",generation(birth_year3))"
   ]
  },
  {
   "cell_type": "markdown",
   "metadata": {},
   "source": [
    "### Additional resources "
   ]
  },
  {
   "cell_type": "markdown",
   "metadata": {},
   "source": [
    "- [https://www.tutorialspoint.com/python/python_functions.htm](https://www.tutorialspoint.com/python/python_functions.htm)"
   ]
  }
 ],
 "metadata": {
  "kernelspec": {
   "display_name": "Python 3 (ipykernel)",
   "language": "python",
   "name": "python3"
  },
  "language_info": {
   "codemirror_mode": {
    "name": "ipython",
    "version": 3
   },
   "file_extension": ".py",
   "mimetype": "text/x-python",
   "name": "python",
   "nbconvert_exporter": "python",
   "pygments_lexer": "ipython3",
   "version": "3.8.11"
  }
 },
 "nbformat": 4,
 "nbformat_minor": 4
}
