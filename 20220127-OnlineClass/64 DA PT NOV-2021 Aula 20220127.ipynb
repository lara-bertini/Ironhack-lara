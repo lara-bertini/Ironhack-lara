{
 "cells": [
  {
   "cell_type": "markdown",
   "metadata": {},
   "source": [
    "# Scraping Dynamic Content: Selenium"
   ]
  },
  {
   "cell_type": "code",
   "execution_count": 3,
   "metadata": {
    "ExecuteTime": {
     "end_time": "2022-01-27T13:06:15.830807Z",
     "start_time": "2022-01-27T13:06:10.097048Z"
    }
   },
   "outputs": [
    {
     "name": "stdout",
     "output_type": "stream",
     "text": [
      "Collecting selenium\n",
      "  Downloading selenium-4.1.0-py3-none-any.whl (958 kB)\n",
      "Collecting trio~=0.17\n",
      "  Downloading trio-0.19.0-py3-none-any.whl (356 kB)\n",
      "Requirement already satisfied: urllib3[secure]~=1.26 in c:\\users\\lara\\anaconda3\\envs\\python3\\lib\\site-packages (from selenium) (1.26.7)\n",
      "Collecting trio-websocket~=0.9\n",
      "  Downloading trio_websocket-0.9.2-py3-none-any.whl (16 kB)\n",
      "Requirement already satisfied: attrs>=19.2.0 in c:\\users\\lara\\anaconda3\\envs\\python3\\lib\\site-packages (from trio~=0.17->selenium) (21.2.0)\n",
      "Requirement already satisfied: sniffio in c:\\users\\lara\\anaconda3\\envs\\python3\\lib\\site-packages (from trio~=0.17->selenium) (1.2.0)\n",
      "Requirement already satisfied: idna in c:\\users\\lara\\anaconda3\\envs\\python3\\lib\\site-packages (from trio~=0.17->selenium) (3.2)\n",
      "Requirement already satisfied: cffi>=1.14 in c:\\users\\lara\\anaconda3\\envs\\python3\\lib\\site-packages (from trio~=0.17->selenium) (1.14.6)\n",
      "Collecting outcome\n",
      "  Downloading outcome-1.1.0-py2.py3-none-any.whl (9.7 kB)\n",
      "Requirement already satisfied: async-generator>=1.9 in c:\\users\\lara\\anaconda3\\envs\\python3\\lib\\site-packages (from trio~=0.17->selenium) (1.10)\n",
      "Collecting sortedcontainers\n",
      "  Downloading sortedcontainers-2.4.0-py2.py3-none-any.whl (29 kB)\n",
      "Requirement already satisfied: pycparser in c:\\users\\lara\\anaconda3\\envs\\python3\\lib\\site-packages (from cffi>=1.14->trio~=0.17->selenium) (2.20)\n",
      "Collecting wsproto>=0.14\n",
      "  Downloading wsproto-1.0.0-py3-none-any.whl (24 kB)\n",
      "Requirement already satisfied: pyOpenSSL>=0.14 in c:\\users\\lara\\anaconda3\\envs\\python3\\lib\\site-packages (from urllib3[secure]~=1.26->selenium) (20.0.1)\n",
      "Requirement already satisfied: cryptography>=1.3.4 in c:\\users\\lara\\anaconda3\\envs\\python3\\lib\\site-packages (from urllib3[secure]~=1.26->selenium) (3.4.8)\n",
      "Requirement already satisfied: certifi in c:\\users\\lara\\anaconda3\\envs\\python3\\lib\\site-packages (from urllib3[secure]~=1.26->selenium) (2021.10.8)\n",
      "Requirement already satisfied: six>=1.5.2 in c:\\users\\lara\\anaconda3\\envs\\python3\\lib\\site-packages (from pyOpenSSL>=0.14->urllib3[secure]~=1.26->selenium) (1.16.0)\n",
      "Collecting h11<1,>=0.9.0\n",
      "  Downloading h11-0.13.0-py3-none-any.whl (58 kB)\n",
      "Installing collected packages: sortedcontainers, outcome, h11, wsproto, trio, trio-websocket, selenium\n",
      "Successfully installed h11-0.13.0 outcome-1.1.0 selenium-4.1.0 sortedcontainers-2.4.0 trio-0.19.0 trio-websocket-0.9.2 wsproto-1.0.0\n",
      "Collecting webdriver-manager\n",
      "  Downloading webdriver_manager-3.5.2-py2.py3-none-any.whl (17 kB)\n",
      "Requirement already satisfied: requests in c:\\users\\lara\\anaconda3\\envs\\python3\\lib\\site-packages (from webdriver-manager) (2.26.0)\n",
      "Collecting configparser\n",
      "  Downloading configparser-5.2.0-py3-none-any.whl (19 kB)\n",
      "Collecting crayons\n",
      "  Downloading crayons-0.4.0-py2.py3-none-any.whl (4.6 kB)\n",
      "Requirement already satisfied: colorama in c:\\users\\lara\\anaconda3\\envs\\python3\\lib\\site-packages (from crayons->webdriver-manager) (0.4.4)\n",
      "Requirement already satisfied: urllib3<1.27,>=1.21.1 in c:\\users\\lara\\anaconda3\\envs\\python3\\lib\\site-packages (from requests->webdriver-manager) (1.26.7)\n",
      "Requirement already satisfied: certifi>=2017.4.17 in c:\\users\\lara\\anaconda3\\envs\\python3\\lib\\site-packages (from requests->webdriver-manager) (2021.10.8)\n",
      "Requirement already satisfied: charset-normalizer~=2.0.0 in c:\\users\\lara\\anaconda3\\envs\\python3\\lib\\site-packages (from requests->webdriver-manager) (2.0.4)\n",
      "Requirement already satisfied: idna<4,>=2.5 in c:\\users\\lara\\anaconda3\\envs\\python3\\lib\\site-packages (from requests->webdriver-manager) (3.2)\n",
      "Installing collected packages: crayons, configparser, webdriver-manager\n",
      "Successfully installed configparser-5.2.0 crayons-0.4.0 webdriver-manager-3.5.2\n"
     ]
    }
   ],
   "source": [
    "!pip3 install selenium\n",
    "!pip3 install webdriver-manager"
   ]
  },
  {
   "cell_type": "code",
   "execution_count": 4,
   "metadata": {
    "ExecuteTime": {
     "end_time": "2022-01-27T21:01:45.087810Z",
     "start_time": "2022-01-27T21:01:44.561442Z"
    }
   },
   "outputs": [],
   "source": [
    "import pandas as pd\n",
    "from selenium import webdriver\n",
    "from selenium.webdriver.chrome.service import Service\n",
    "from webdriver_manager.chrome import ChromeDriverManager\n",
    "from selenium.webdriver.common.by import By\n",
    "from selenium.webdriver.common.keys import Keys\n",
    "from selenium.webdriver.common.action_chains import ActionChains"
   ]
  },
  {
   "cell_type": "markdown",
   "metadata": {},
   "source": [
    "Install Selenium: \n",
    "\n",
    "`!pip install selenium`"
   ]
  },
  {
   "cell_type": "markdown",
   "metadata": {},
   "source": [
    "# First Steps"
   ]
  },
  {
   "cell_type": "code",
   "execution_count": 6,
   "metadata": {
    "ExecuteTime": {
     "end_time": "2022-01-27T21:01:47.706038Z",
     "start_time": "2022-01-27T21:01:46.496963Z"
    }
   },
   "outputs": [
    {
     "name": "stderr",
     "output_type": "stream",
     "text": [
      "\n",
      "\n",
      "====== WebDriver manager ======\n",
      "Current google-chrome version is 97.0.4692\n",
      "Get LATEST chromedriver version for 97.0.4692 google-chrome\n",
      "There is no [win32] chromedriver for browser  in cache\n",
      "Trying to download new driver from https://chromedriver.storage.googleapis.com/97.0.4692.71/chromedriver_win32.zip\n",
      "Driver has been saved in cache [C:\\Users\\Lara\\.wdm\\drivers\\chromedriver\\win32\\97.0.4692.71]\n"
     ]
    }
   ],
   "source": [
    "s = Service(ChromeDriverManager().install())\n",
    "driver = webdriver.Chrome(service=s)\n",
    "driver.implicitly_wait(0.5)"
   ]
  },
  {
   "cell_type": "code",
   "execution_count": 7,
   "metadata": {
    "ExecuteTime": {
     "end_time": "2022-01-27T20:06:25.195367Z",
     "start_time": "2022-01-27T20:06:23.936631Z"
    }
   },
   "outputs": [],
   "source": [
    "driver.get(\"https://testpages.herokuapp.com/styled/index.html\")"
   ]
  },
  {
   "cell_type": "markdown",
   "metadata": {},
   "source": [
    "# Interactive content\n",
    "\n",
    "## Forms"
   ]
  },
  {
   "cell_type": "code",
   "execution_count": null,
   "metadata": {
    "ExecuteTime": {
     "end_time": "2022-01-27T20:06:25.431113Z",
     "start_time": "2022-01-27T20:06:25.409199Z"
    }
   },
   "outputs": [],
   "source": [
    "link_htmlformtest = driver.find_element(By.XPATH, \"//a[@id='htmlformtest']\")"
   ]
  },
  {
   "cell_type": "code",
   "execution_count": null,
   "metadata": {
    "ExecuteTime": {
     "end_time": "2022-01-27T20:06:26.849758Z",
     "start_time": "2022-01-27T20:06:26.319461Z"
    }
   },
   "outputs": [],
   "source": [
    "link_htmlformtest.click()"
   ]
  },
  {
   "cell_type": "code",
   "execution_count": null,
   "metadata": {
    "ExecuteTime": {
     "end_time": "2022-01-27T20:06:27.587138Z",
     "start_time": "2022-01-27T20:06:27.574152Z"
    }
   },
   "outputs": [],
   "source": [
    "input_username = driver.find_element(By.XPATH, \"//input[@name='username']\")"
   ]
  },
  {
   "cell_type": "code",
   "execution_count": null,
   "metadata": {
    "ExecuteTime": {
     "end_time": "2022-01-27T20:06:28.349976Z",
     "start_time": "2022-01-27T20:06:28.294826Z"
    }
   },
   "outputs": [],
   "source": [
    "input_username.send_keys('pedrotechel123')"
   ]
  },
  {
   "cell_type": "code",
   "execution_count": null,
   "metadata": {
    "ExecuteTime": {
     "end_time": "2022-01-27T20:06:28.929886Z",
     "start_time": "2022-01-27T20:06:28.897429Z"
    }
   },
   "outputs": [],
   "source": [
    "input_username.clear()"
   ]
  },
  {
   "cell_type": "code",
   "execution_count": null,
   "metadata": {
    "ExecuteTime": {
     "end_time": "2022-01-27T20:06:29.490611Z",
     "start_time": "2022-01-27T20:06:29.453663Z"
    }
   },
   "outputs": [],
   "source": [
    "input_username.send_keys('pedrotechel')"
   ]
  },
  {
   "cell_type": "code",
   "execution_count": null,
   "metadata": {
    "ExecuteTime": {
     "end_time": "2022-01-27T20:06:30.084914Z",
     "start_time": "2022-01-27T20:06:30.064976Z"
    }
   },
   "outputs": [],
   "source": [
    "input_pswd = driver.find_element(By.XPATH, \"//input[@name='password']\")"
   ]
  },
  {
   "cell_type": "code",
   "execution_count": null,
   "metadata": {
    "ExecuteTime": {
     "end_time": "2022-01-27T20:06:30.475185Z",
     "start_time": "2022-01-27T20:06:30.424474Z"
    }
   },
   "outputs": [],
   "source": [
    "input_pswd.send_keys('teste123')"
   ]
  },
  {
   "cell_type": "code",
   "execution_count": null,
   "metadata": {
    "ExecuteTime": {
     "end_time": "2022-01-27T20:06:30.773348Z",
     "start_time": "2022-01-27T20:06:30.747105Z"
    }
   },
   "outputs": [],
   "source": [
    "input_comments = driver.find_element(By.XPATH, \"//textarea[@name='comments']\")"
   ]
  },
  {
   "cell_type": "code",
   "execution_count": null,
   "metadata": {
    "ExecuteTime": {
     "end_time": "2022-01-27T20:06:31.098862Z",
     "start_time": "2022-01-27T20:06:31.046421Z"
    }
   },
   "outputs": [],
   "source": [
    "input_comments.send_keys('Este é um comentário aleatório')"
   ]
  },
  {
   "cell_type": "code",
   "execution_count": null,
   "metadata": {
    "ExecuteTime": {
     "end_time": "2022-01-27T20:06:31.378747Z",
     "start_time": "2022-01-27T20:06:31.364753Z"
    }
   },
   "outputs": [],
   "source": [
    "input_file = driver.find_element(By.XPATH, \"//input[@name='filename']\")"
   ]
  },
  {
   "cell_type": "code",
   "execution_count": null,
   "metadata": {
    "ExecuteTime": {
     "end_time": "2022-01-27T20:06:32.362166Z",
     "start_time": "2022-01-27T20:06:32.091650Z"
    }
   },
   "outputs": [],
   "source": [
    "input_file.click()"
   ]
  },
  {
   "cell_type": "code",
   "execution_count": null,
   "metadata": {
    "ExecuteTime": {
     "end_time": "2022-01-27T20:06:42.157408Z",
     "start_time": "2022-01-27T20:06:42.134468Z"
    }
   },
   "outputs": [],
   "source": [
    "input_file = driver.find_element(By.XPATH, \"//input[@name='filename']\")"
   ]
  },
  {
   "cell_type": "code",
   "execution_count": null,
   "metadata": {
    "ExecuteTime": {
     "end_time": "2022-01-27T20:06:43.003422Z",
     "start_time": "2022-01-27T20:06:42.972189Z"
    }
   },
   "outputs": [],
   "source": [
    "input_file.send_keys('C:/Users/Pedro/Documents/Ironhack/aulas_git/64_PT_NOV202111/aulas/sleeper.py')"
   ]
  },
  {
   "cell_type": "code",
   "execution_count": null,
   "metadata": {
    "ExecuteTime": {
     "end_time": "2022-01-27T20:06:43.945965Z",
     "start_time": "2022-01-27T20:06:43.917199Z"
    }
   },
   "outputs": [],
   "source": [
    "input_chkbx1 = driver.find_element(By.XPATH, \"//input[@type='checkbox'][@value='cb1']\")\n",
    "input_chkbx2 = driver.find_element(By.XPATH, \"//input[@type='checkbox'][@value='cb2']\")\n",
    "input_chkbx3 = driver.find_element(By.XPATH, \"//input[@type='checkbox'][@value='cb3']\")"
   ]
  },
  {
   "cell_type": "code",
   "execution_count": null,
   "metadata": {
    "ExecuteTime": {
     "end_time": "2022-01-27T20:06:45.060662Z",
     "start_time": "2022-01-27T20:06:44.965823Z"
    }
   },
   "outputs": [],
   "source": [
    "input_chkbx1.click()\n",
    "input_chkbx2.click()\n",
    "input_chkbx3.click()"
   ]
  },
  {
   "cell_type": "code",
   "execution_count": null,
   "metadata": {
    "ExecuteTime": {
     "end_time": "2022-01-27T20:06:45.418669Z",
     "start_time": "2022-01-27T20:06:45.379538Z"
    }
   },
   "outputs": [],
   "source": [
    "input_rdbx1 = driver.find_element(By.XPATH, \"//input[@type='radio'][@value='rd1']\")\n",
    "input_rdbx2 = driver.find_element(By.XPATH, \"//input[@type='radio'][@value='rd2']\")\n",
    "input_rdbx3 = driver.find_element(By.XPATH, \"//input[@type='radio'][@value='rd3']\")"
   ]
  },
  {
   "cell_type": "code",
   "execution_count": null,
   "metadata": {
    "ExecuteTime": {
     "end_time": "2022-01-27T20:06:45.919572Z",
     "start_time": "2022-01-27T20:06:45.822646Z"
    }
   },
   "outputs": [],
   "source": [
    "input_rdbx1.click()\n",
    "input_rdbx2.click()\n",
    "input_rdbx3.click()"
   ]
  },
  {
   "cell_type": "code",
   "execution_count": null,
   "metadata": {
    "ExecuteTime": {
     "end_time": "2022-01-27T20:06:46.393964Z",
     "start_time": "2022-01-27T20:06:46.355569Z"
    }
   },
   "outputs": [],
   "source": [
    "input_opt1 = driver.find_element(By.XPATH, \"//option[@value='ms1']\")\n",
    "input_opt2 = driver.find_element(By.XPATH, \"//option[@value='ms2']\")\n",
    "input_opt3 = driver.find_element(By.XPATH, \"//option[@value='ms3']\")"
   ]
  },
  {
   "cell_type": "code",
   "execution_count": null,
   "metadata": {
    "ExecuteTime": {
     "end_time": "2022-01-27T20:06:46.941706Z",
     "start_time": "2022-01-27T20:06:46.875111Z"
    }
   },
   "outputs": [],
   "source": [
    "input_opt1.click()\n",
    "input_opt2.click()\n",
    "input_opt3.click()"
   ]
  },
  {
   "cell_type": "code",
   "execution_count": null,
   "metadata": {
    "ExecuteTime": {
     "end_time": "2022-01-27T20:06:47.739421Z",
     "start_time": "2022-01-27T20:06:47.697899Z"
    }
   },
   "outputs": [],
   "source": [
    "input_dd1 = driver.find_element(By.XPATH, \"//option[@value='dd1']\")\n",
    "input_dd2 = driver.find_element(By.XPATH, \"//option[@value='dd2']\")\n",
    "input_dd3 = driver.find_element(By.XPATH, \"//option[@value='dd3']\")"
   ]
  },
  {
   "cell_type": "code",
   "execution_count": null,
   "metadata": {
    "ExecuteTime": {
     "end_time": "2022-01-27T20:06:48.163467Z",
     "start_time": "2022-01-27T20:06:48.123439Z"
    }
   },
   "outputs": [],
   "source": [
    "input_dd3.click()"
   ]
  },
  {
   "cell_type": "markdown",
   "metadata": {},
   "source": [
    "## Website interaction"
   ]
  },
  {
   "cell_type": "code",
   "execution_count": null,
   "metadata": {
    "ExecuteTime": {
     "end_time": "2022-01-27T20:48:00.252809Z",
     "start_time": "2022-01-27T20:48:00.242816Z"
    }
   },
   "outputs": [],
   "source": [
    "driver.implicitly_wait(10)"
   ]
  },
  {
   "cell_type": "code",
   "execution_count": null,
   "metadata": {
    "ExecuteTime": {
     "end_time": "2022-01-27T20:48:01.603471Z",
     "start_time": "2022-01-27T20:48:00.655427Z"
    }
   },
   "outputs": [],
   "source": [
    "driver.get(\"https://testpages.herokuapp.com/styled/basic-ajax-test.html\")"
   ]
  },
  {
   "cell_type": "code",
   "execution_count": null,
   "metadata": {
    "ExecuteTime": {
     "end_time": "2022-01-27T20:07:14.914711Z",
     "start_time": "2022-01-27T20:07:14.872850Z"
    }
   },
   "outputs": [],
   "source": [
    "cat_select = driver.find_element(By.XPATH, \"//select[@name='id']\")\n",
    "server_cat = cat_select.find_element(By.XPATH, \"//option[@value='3']\")\n",
    "server_cat.click()"
   ]
  },
  {
   "cell_type": "code",
   "execution_count": null,
   "metadata": {
    "ExecuteTime": {
     "end_time": "2022-01-27T20:07:44.966573Z",
     "start_time": "2022-01-27T20:07:44.924260Z"
    }
   },
   "outputs": [],
   "source": [
    "lang_select = driver.find_element(By.XPATH, \"//select[@name='language_id']\")\n",
    "java_lang = lang_select.find_element(By.XPATH, \"//option[@value='23']\")\n",
    "java_lang.click()"
   ]
  },
  {
   "cell_type": "code",
   "execution_count": null,
   "metadata": {
    "ExecuteTime": {
     "end_time": "2022-01-27T20:07:49.247987Z",
     "start_time": "2022-01-27T20:07:48.513869Z"
    }
   },
   "outputs": [],
   "source": [
    "button = driver.find_element(By.XPATH, \"//input[@name='submitbutton']\")\n",
    "button.click()"
   ]
  },
  {
   "cell_type": "markdown",
   "metadata": {},
   "source": [
    "### Navegando no MercadoLivre"
   ]
  },
  {
   "cell_type": "code",
   "execution_count": null,
   "metadata": {
    "ExecuteTime": {
     "end_time": "2022-01-27T21:24:55.475684Z",
     "start_time": "2022-01-27T21:24:54.229970Z"
    }
   },
   "outputs": [],
   "source": [
    "driver.get(\"https://www.mercadolivre.com.br/\")\n",
    "driver.implicitly_wait(10)"
   ]
  },
  {
   "cell_type": "code",
   "execution_count": null,
   "metadata": {
    "ExecuteTime": {
     "end_time": "2022-01-27T21:24:57.758948Z",
     "start_time": "2022-01-27T21:24:56.324403Z"
    }
   },
   "outputs": [],
   "source": [
    "barra_busca = driver.find_element(By.XPATH, \"//input[@class='nav-search-input']\")\n",
    "barra_busca.send_keys('azeite')\n",
    "barra_busca.send_keys(Keys.ENTER)"
   ]
  },
  {
   "cell_type": "code",
   "execution_count": null,
   "metadata": {
    "ExecuteTime": {
     "end_time": "2022-01-27T21:25:00.112932Z",
     "start_time": "2022-01-27T21:25:00.084554Z"
    }
   },
   "outputs": [],
   "source": [
    "painel_produtos = driver.find_element(By.XPATH, \"//ol[@class='ui-search-layout ui-search-layout--stack']\")"
   ]
  },
  {
   "cell_type": "code",
   "execution_count": null,
   "metadata": {
    "ExecuteTime": {
     "end_time": "2022-01-27T21:25:00.801701Z",
     "start_time": "2022-01-27T21:25:00.779257Z"
    }
   },
   "outputs": [],
   "source": [
    "produtos = painel_produtos.find_elements(By.XPATH, \"//a[@class='ui-search-item__group__element ui-search-link']\")"
   ]
  },
  {
   "cell_type": "code",
   "execution_count": null,
   "metadata": {
    "ExecuteTime": {
     "end_time": "2022-01-27T21:25:04.016548Z",
     "start_time": "2022-01-27T21:25:03.999594Z"
    }
   },
   "outputs": [],
   "source": [
    "produtos"
   ]
  },
  {
   "cell_type": "code",
   "execution_count": null,
   "metadata": {
    "ExecuteTime": {
     "end_time": "2022-01-27T21:25:04.328085Z",
     "start_time": "2022-01-27T21:25:04.316091Z"
    }
   },
   "outputs": [],
   "source": [
    "produtos[0].get_attribute('href')"
   ]
  },
  {
   "cell_type": "code",
   "execution_count": null,
   "metadata": {
    "ExecuteTime": {
     "end_time": "2022-01-27T21:25:06.171215Z",
     "start_time": "2022-01-27T21:25:05.618887Z"
    }
   },
   "outputs": [],
   "source": [
    "lista_links = [produto.get_attribute('href') for produto in produtos]"
   ]
  },
  {
   "cell_type": "code",
   "execution_count": null,
   "metadata": {
    "ExecuteTime": {
     "end_time": "2022-01-27T21:25:08.334745Z",
     "start_time": "2022-01-27T21:25:07.090463Z"
    }
   },
   "outputs": [],
   "source": [
    "driver.get(lista_links[1])"
   ]
  },
  {
   "cell_type": "code",
   "execution_count": null,
   "metadata": {
    "ExecuteTime": {
     "end_time": "2022-01-27T21:25:11.083553Z",
     "start_time": "2022-01-27T21:25:10.924976Z"
    }
   },
   "outputs": [],
   "source": [
    "botao_review = driver.find_element(By.XPATH, \"//a[@class='ui-pdp-review__label ui-pdp-review__label--link']\")\n",
    "botao_review.click()"
   ]
  },
  {
   "cell_type": "code",
   "execution_count": null,
   "metadata": {
    "ExecuteTime": {
     "end_time": "2022-01-27T21:21:44.835847Z",
     "start_time": "2022-01-27T21:21:34.766911Z"
    }
   },
   "outputs": [],
   "source": [
    "reviews = driver.find_elements(By.XPATH, \"//article\")"
   ]
  },
  {
   "cell_type": "code",
   "execution_count": null,
   "metadata": {
    "ExecuteTime": {
     "end_time": "2022-01-27T21:30:31.917225Z",
     "start_time": "2022-01-27T21:30:31.878263Z"
    }
   },
   "outputs": [],
   "source": [
    "box_review = driver.find_element(By.XPATH, \"//div[@class='andes-modal ui-pdp-iframe-reviews andes-modal--small']\")\n",
    "iframe = box_review.find_element(By.XPATH, \"//iframe[@class='ui-pdp-iframe-reviews__content']\")"
   ]
  },
  {
   "cell_type": "code",
   "execution_count": null,
   "metadata": {
    "ExecuteTime": {
     "end_time": "2022-01-27T21:31:07.073072Z",
     "start_time": "2022-01-27T21:31:06.598348Z"
    }
   },
   "outputs": [],
   "source": [
    "driver.get(iframe.get_attribute('src'))"
   ]
  },
  {
   "cell_type": "code",
   "execution_count": null,
   "metadata": {
    "ExecuteTime": {
     "end_time": "2022-01-27T21:31:37.834819Z",
     "start_time": "2022-01-27T21:31:37.812860Z"
    }
   },
   "outputs": [],
   "source": [
    "reviews = driver.find_elements(By.XPATH, \"//article\")"
   ]
  },
  {
   "cell_type": "code",
   "execution_count": null,
   "metadata": {
    "ExecuteTime": {
     "end_time": "2022-01-27T21:31:53.170358Z",
     "start_time": "2022-01-27T21:31:52.998399Z"
    }
   },
   "outputs": [],
   "source": [
    "review_texts = [rev.text for rev in reviews]"
   ]
  },
  {
   "cell_type": "code",
   "execution_count": null,
   "metadata": {
    "ExecuteTime": {
     "end_time": "2022-01-27T21:15:53.241242Z",
     "start_time": "2022-01-27T21:14:48.269915Z"
    }
   },
   "outputs": [],
   "source": [
    "# EXERCICIO\n",
    "# Crie uma função que 'empacote' o código acima - retornando uma lista dos textos de reviews\n",
    "# a partir de um link de produto do MercadoLivre"
   ]
  },
  {
   "cell_type": "code",
   "execution_count": 15,
   "metadata": {},
   "outputs": [],
   "source": [
    "driver.get(\"https://www.mercadolivre.com.br/suplemento-em-barra-max-titanium-power-protein-bar-proteina-sabor-dark-chocolate-truffle-em-caixa-de-492g-12-un/p/MLB18478297?pdp_filters=category:MLB122102#searchVariation=MLB18478297&position=1&search_layout=stack&type=product&tracking_id=c705945a-4570-419d-bd38-c031dc6522bf\")\n",
    "botao_review = driver.find_element(By.XPATH, \"//a[@class='ui-pdp-review__label ui-pdp-review__label--link']\")\n",
    "botao_review.click()"
   ]
  },
  {
   "cell_type": "code",
   "execution_count": 16,
   "metadata": {},
   "outputs": [],
   "source": [
    "box_review = driver.find_element(By.XPATH, \"//div[@class='andes-modal ui-pdp-iframe-reviews andes-modal--small']\")\n",
    "iframe = box_review.find_element(By.XPATH, \"//iframe[@class='ui-pdp-iframe-reviews__content']\")\n",
    "driver.get(iframe.get_attribute('src'))"
   ]
  },
  {
   "cell_type": "code",
   "execution_count": 17,
   "metadata": {},
   "outputs": [],
   "source": [
    "reviews = driver.find_elements(By.XPATH, \"//article\")"
   ]
  },
  {
   "cell_type": "code",
   "execution_count": 14,
   "metadata": {},
   "outputs": [
    {
     "name": "stdout",
     "output_type": "stream",
     "text": [
      "['4.9\\nMédia entre 263 opiniões\\n5 estrelas\\n247\\n4 estrelas\\n8\\n3 estrelas\\n3\\n2 estrelas\\n1\\n1 estrela\\n4', 'boa demais bb!\\nNao compra nao , vicia , eh o satanas que faz a receita! melhor barrinha da vida ! da pau nas concorrentes e nas barrinhas importadas! me patrocinia max , paga em barrinha!!!. Mais de um ano\\n26 1', \"boa e saborosa, ótima para substituir o whey\\nProduto excelente, perfeito para quem já está enjoado de tomar whey mais precisa de uma boa fonte de proteínas. Não tem o mesmo gosto de um chocolate normal, mas isso ja é esperado. De qualquer forma o sabor dela é muito boa, principalmente se for comparar com o whey. O único ''contra'' na minha opinião fica quanto ao valor que é muito alto para trocar elas pelo whey todos os dias. Há 5 meses\\n1 0\", 'excelente\\nSimplesmente a melhor barra de proteína que eu já comi na minha vida. Muito saborosa e substitui uma refeição perfeitamente. Só a título de curiosidade, eu comprei uma barra de proteína numa loja onde a maior barra tinha 12g de proteína, tinha menos de 90g e custou 14 reais! ou seja, o custo-benefício da whey bar protein power é enorme, vale muito a pena o investimento. Há 6 meses\\n0 0', 'top\\nOtima qualidade. Recomendado sempre. Há 10 meses\\n0 0', 'melhor barra de proteína que existe!\\nMelhor barra de proteína que já comi. Principalmente a de chocolate trufado. Esquento ela no micro-ondas por 20 segundos e o chocolate do recheio derrete e como de colher. Até minha esposa que mão gosta dessas barras de proteína adora esta. É cara mas vale a pena. Há 8 meses\\n0 0']\n"
     ]
    }
   ],
   "source": [
    "review_texts = [rev.text for rev in reviews]\n",
    "print(review_texts)"
   ]
  },
  {
   "cell_type": "code",
   "execution_count": null,
   "metadata": {},
   "outputs": [],
   "source": []
  },
  {
   "cell_type": "code",
   "execution_count": null,
   "metadata": {},
   "outputs": [],
   "source": []
  },
  {
   "cell_type": "code",
   "execution_count": null,
   "metadata": {},
   "outputs": [],
   "source": []
  },
  {
   "cell_type": "code",
   "execution_count": 8,
   "metadata": {},
   "outputs": [
    {
     "ename": "NoSuchElementException",
     "evalue": "Message: no such element: Unable to locate element: {\"method\":\"xpath\",\"selector\":\"//ol[@class='ui-search-layout ui-search-layout--stack']\"}\n  (Session info: chrome=97.0.4692.99)\nStacktrace:\nBacktrace:\n\tOrdinal0 [0x00B4FDC3+2555331]\n\tOrdinal0 [0x00AE77F1+2127857]\n\tOrdinal0 [0x009E2E08+1060360]\n\tOrdinal0 [0x00A0E49E+1238174]\n\tOrdinal0 [0x00A0E69B+1238683]\n\tOrdinal0 [0x00A39252+1413714]\n\tOrdinal0 [0x00A27B54+1342292]\n\tOrdinal0 [0x00A375FA+1406458]\n\tOrdinal0 [0x00A27976+1341814]\n\tOrdinal0 [0x00A036B6+1193654]\n\tOrdinal0 [0x00A04546+1197382]\n\tGetHandleVerifier [0x00CE9622+1619522]\n\tGetHandleVerifier [0x00D9882C+2336844]\n\tGetHandleVerifier [0x00BE23E1+541697]\n\tGetHandleVerifier [0x00BE1443+537699]\n\tOrdinal0 [0x00AED18E+2150798]\n\tOrdinal0 [0x00AF1518+2168088]\n\tOrdinal0 [0x00AF1660+2168416]\n\tOrdinal0 [0x00AFB330+2208560]\n\tBaseThreadInitThunk [0x7606FA29+25]\n\tRtlGetAppContainerNamedObjectPath [0x774E7A9E+286]\n\tRtlGetAppContainerNamedObjectPath [0x774E7A6E+238]\n",
     "output_type": "error",
     "traceback": [
      "\u001b[1;31m---------------------------------------------------------------------------\u001b[0m",
      "\u001b[1;31mNoSuchElementException\u001b[0m                    Traceback (most recent call last)",
      "\u001b[1;32m~\\AppData\\Local\\Temp/ipykernel_24724/1142887246.py\u001b[0m in \u001b[0;36m<module>\u001b[1;34m\u001b[0m\n\u001b[0;32m     17\u001b[0m     \u001b[1;32mreturn\u001b[0m \u001b[0mlista_reviews\u001b[0m\u001b[1;33m\u001b[0m\u001b[1;33m\u001b[0m\u001b[0m\n\u001b[0;32m     18\u001b[0m \u001b[1;33m\u001b[0m\u001b[0m\n\u001b[1;32m---> 19\u001b[1;33m \u001b[0mget_reviews\u001b[0m\u001b[1;33m(\u001b[0m\u001b[1;34m\"https://lista.mercadolivre.com.br/barrinha-proteica#D[A:barrinha%20proteica]\"\u001b[0m\u001b[1;33m)\u001b[0m\u001b[1;33m\u001b[0m\u001b[1;33m\u001b[0m\u001b[0m\n\u001b[0m",
      "\u001b[1;32m~\\AppData\\Local\\Temp/ipykernel_24724/1142887246.py\u001b[0m in \u001b[0;36mget_reviews\u001b[1;34m(url)\u001b[0m\n\u001b[0;32m      1\u001b[0m \u001b[1;32mdef\u001b[0m \u001b[0mget_reviews\u001b[0m \u001b[1;33m(\u001b[0m\u001b[0murl\u001b[0m\u001b[1;33m)\u001b[0m\u001b[1;33m:\u001b[0m\u001b[1;33m\u001b[0m\u001b[1;33m\u001b[0m\u001b[0m\n\u001b[1;32m----> 2\u001b[1;33m     \u001b[0mpainel_produtos\u001b[0m \u001b[1;33m=\u001b[0m \u001b[0mdriver\u001b[0m\u001b[1;33m.\u001b[0m\u001b[0mfind_element\u001b[0m\u001b[1;33m(\u001b[0m\u001b[0mBy\u001b[0m\u001b[1;33m.\u001b[0m\u001b[0mXPATH\u001b[0m\u001b[1;33m,\u001b[0m \u001b[1;34m\"//ol[@class='ui-search-layout ui-search-layout--stack']\"\u001b[0m\u001b[1;33m)\u001b[0m\u001b[1;33m\u001b[0m\u001b[1;33m\u001b[0m\u001b[0m\n\u001b[0m\u001b[0;32m      3\u001b[0m     \u001b[0mprodutos\u001b[0m \u001b[1;33m=\u001b[0m \u001b[0mpainel_produtos\u001b[0m\u001b[1;33m.\u001b[0m\u001b[0mfind_elements\u001b[0m\u001b[1;33m(\u001b[0m\u001b[0mBy\u001b[0m\u001b[1;33m.\u001b[0m\u001b[0mXPATH\u001b[0m\u001b[1;33m,\u001b[0m \u001b[1;34m\"//a[@class='ui-search-item__group__element ui-search-link']\"\u001b[0m\u001b[1;33m)\u001b[0m\u001b[1;33m\u001b[0m\u001b[1;33m\u001b[0m\u001b[0m\n\u001b[0;32m      4\u001b[0m     \u001b[0mlista_links\u001b[0m \u001b[1;33m=\u001b[0m \u001b[1;33m[\u001b[0m\u001b[0mproduto\u001b[0m\u001b[1;33m.\u001b[0m\u001b[0mget_attribute\u001b[0m\u001b[1;33m(\u001b[0m\u001b[1;34m'href'\u001b[0m\u001b[1;33m)\u001b[0m \u001b[1;32mfor\u001b[0m \u001b[0mproduto\u001b[0m \u001b[1;32min\u001b[0m \u001b[0mprodutos\u001b[0m\u001b[1;33m]\u001b[0m\u001b[1;33m\u001b[0m\u001b[1;33m\u001b[0m\u001b[0m\n\u001b[0;32m      5\u001b[0m     \u001b[0mlista_reviews\u001b[0m \u001b[1;33m=\u001b[0m \u001b[1;33m[\u001b[0m\u001b[1;33m]\u001b[0m\u001b[1;33m\u001b[0m\u001b[1;33m\u001b[0m\u001b[0m\n",
      "\u001b[1;32m~\\anaconda3\\envs\\Python3\\lib\\site-packages\\selenium\\webdriver\\remote\\webdriver.py\u001b[0m in \u001b[0;36mfind_element\u001b[1;34m(self, by, value)\u001b[0m\n\u001b[0;32m   1242\u001b[0m             \u001b[0mvalue\u001b[0m \u001b[1;33m=\u001b[0m \u001b[1;34m'[name=\"%s\"]'\u001b[0m \u001b[1;33m%\u001b[0m \u001b[0mvalue\u001b[0m\u001b[1;33m\u001b[0m\u001b[1;33m\u001b[0m\u001b[0m\n\u001b[0;32m   1243\u001b[0m \u001b[1;33m\u001b[0m\u001b[0m\n\u001b[1;32m-> 1244\u001b[1;33m         return self.execute(Command.FIND_ELEMENT, {\n\u001b[0m\u001b[0;32m   1245\u001b[0m             \u001b[1;34m'using'\u001b[0m\u001b[1;33m:\u001b[0m \u001b[0mby\u001b[0m\u001b[1;33m,\u001b[0m\u001b[1;33m\u001b[0m\u001b[1;33m\u001b[0m\u001b[0m\n\u001b[0;32m   1246\u001b[0m             'value': value})['value']\n",
      "\u001b[1;32m~\\anaconda3\\envs\\Python3\\lib\\site-packages\\selenium\\webdriver\\remote\\webdriver.py\u001b[0m in \u001b[0;36mexecute\u001b[1;34m(self, driver_command, params)\u001b[0m\n\u001b[0;32m    422\u001b[0m         \u001b[0mresponse\u001b[0m \u001b[1;33m=\u001b[0m \u001b[0mself\u001b[0m\u001b[1;33m.\u001b[0m\u001b[0mcommand_executor\u001b[0m\u001b[1;33m.\u001b[0m\u001b[0mexecute\u001b[0m\u001b[1;33m(\u001b[0m\u001b[0mdriver_command\u001b[0m\u001b[1;33m,\u001b[0m \u001b[0mparams\u001b[0m\u001b[1;33m)\u001b[0m\u001b[1;33m\u001b[0m\u001b[1;33m\u001b[0m\u001b[0m\n\u001b[0;32m    423\u001b[0m         \u001b[1;32mif\u001b[0m \u001b[0mresponse\u001b[0m\u001b[1;33m:\u001b[0m\u001b[1;33m\u001b[0m\u001b[1;33m\u001b[0m\u001b[0m\n\u001b[1;32m--> 424\u001b[1;33m             \u001b[0mself\u001b[0m\u001b[1;33m.\u001b[0m\u001b[0merror_handler\u001b[0m\u001b[1;33m.\u001b[0m\u001b[0mcheck_response\u001b[0m\u001b[1;33m(\u001b[0m\u001b[0mresponse\u001b[0m\u001b[1;33m)\u001b[0m\u001b[1;33m\u001b[0m\u001b[1;33m\u001b[0m\u001b[0m\n\u001b[0m\u001b[0;32m    425\u001b[0m             response['value'] = self._unwrap_value(\n\u001b[0;32m    426\u001b[0m                 response.get('value', None))\n",
      "\u001b[1;32m~\\anaconda3\\envs\\Python3\\lib\\site-packages\\selenium\\webdriver\\remote\\errorhandler.py\u001b[0m in \u001b[0;36mcheck_response\u001b[1;34m(self, response)\u001b[0m\n\u001b[0;32m    245\u001b[0m                 \u001b[0malert_text\u001b[0m \u001b[1;33m=\u001b[0m \u001b[0mvalue\u001b[0m\u001b[1;33m[\u001b[0m\u001b[1;34m'alert'\u001b[0m\u001b[1;33m]\u001b[0m\u001b[1;33m.\u001b[0m\u001b[0mget\u001b[0m\u001b[1;33m(\u001b[0m\u001b[1;34m'text'\u001b[0m\u001b[1;33m)\u001b[0m\u001b[1;33m\u001b[0m\u001b[1;33m\u001b[0m\u001b[0m\n\u001b[0;32m    246\u001b[0m             \u001b[1;32mraise\u001b[0m \u001b[0mexception_class\u001b[0m\u001b[1;33m(\u001b[0m\u001b[0mmessage\u001b[0m\u001b[1;33m,\u001b[0m \u001b[0mscreen\u001b[0m\u001b[1;33m,\u001b[0m \u001b[0mstacktrace\u001b[0m\u001b[1;33m,\u001b[0m \u001b[0malert_text\u001b[0m\u001b[1;33m)\u001b[0m  \u001b[1;31m# type: ignore[call-arg]  # mypy is not smart enough here\u001b[0m\u001b[1;33m\u001b[0m\u001b[1;33m\u001b[0m\u001b[0m\n\u001b[1;32m--> 247\u001b[1;33m         \u001b[1;32mraise\u001b[0m \u001b[0mexception_class\u001b[0m\u001b[1;33m(\u001b[0m\u001b[0mmessage\u001b[0m\u001b[1;33m,\u001b[0m \u001b[0mscreen\u001b[0m\u001b[1;33m,\u001b[0m \u001b[0mstacktrace\u001b[0m\u001b[1;33m)\u001b[0m\u001b[1;33m\u001b[0m\u001b[1;33m\u001b[0m\u001b[0m\n\u001b[0m\u001b[0;32m    248\u001b[0m \u001b[1;33m\u001b[0m\u001b[0m\n\u001b[0;32m    249\u001b[0m     \u001b[1;32mdef\u001b[0m \u001b[0m_value_or_default\u001b[0m\u001b[1;33m(\u001b[0m\u001b[0mself\u001b[0m\u001b[1;33m,\u001b[0m \u001b[0mobj\u001b[0m\u001b[1;33m:\u001b[0m \u001b[0mMapping\u001b[0m\u001b[1;33m[\u001b[0m\u001b[0m_KT\u001b[0m\u001b[1;33m,\u001b[0m \u001b[0m_VT\u001b[0m\u001b[1;33m]\u001b[0m\u001b[1;33m,\u001b[0m \u001b[0mkey\u001b[0m\u001b[1;33m:\u001b[0m \u001b[0m_KT\u001b[0m\u001b[1;33m,\u001b[0m \u001b[0mdefault\u001b[0m\u001b[1;33m:\u001b[0m \u001b[0m_VT\u001b[0m\u001b[1;33m)\u001b[0m \u001b[1;33m->\u001b[0m \u001b[0m_VT\u001b[0m\u001b[1;33m:\u001b[0m\u001b[1;33m\u001b[0m\u001b[1;33m\u001b[0m\u001b[0m\n",
      "\u001b[1;31mNoSuchElementException\u001b[0m: Message: no such element: Unable to locate element: {\"method\":\"xpath\",\"selector\":\"//ol[@class='ui-search-layout ui-search-layout--stack']\"}\n  (Session info: chrome=97.0.4692.99)\nStacktrace:\nBacktrace:\n\tOrdinal0 [0x00B4FDC3+2555331]\n\tOrdinal0 [0x00AE77F1+2127857]\n\tOrdinal0 [0x009E2E08+1060360]\n\tOrdinal0 [0x00A0E49E+1238174]\n\tOrdinal0 [0x00A0E69B+1238683]\n\tOrdinal0 [0x00A39252+1413714]\n\tOrdinal0 [0x00A27B54+1342292]\n\tOrdinal0 [0x00A375FA+1406458]\n\tOrdinal0 [0x00A27976+1341814]\n\tOrdinal0 [0x00A036B6+1193654]\n\tOrdinal0 [0x00A04546+1197382]\n\tGetHandleVerifier [0x00CE9622+1619522]\n\tGetHandleVerifier [0x00D9882C+2336844]\n\tGetHandleVerifier [0x00BE23E1+541697]\n\tGetHandleVerifier [0x00BE1443+537699]\n\tOrdinal0 [0x00AED18E+2150798]\n\tOrdinal0 [0x00AF1518+2168088]\n\tOrdinal0 [0x00AF1660+2168416]\n\tOrdinal0 [0x00AFB330+2208560]\n\tBaseThreadInitThunk [0x7606FA29+25]\n\tRtlGetAppContainerNamedObjectPath [0x774E7A9E+286]\n\tRtlGetAppContainerNamedObjectPath [0x774E7A6E+238]\n"
     ]
    }
   ],
   "source": [
    "def get_reviews (url):\n",
    "    painel_produtos = driver.find_element(By.XPATH, \"//ol[@class='ui-search-layout ui-search-layout--stack']\")\n",
    "    produtos = painel_produtos.find_elements(By.XPATH, \"//a[@class='ui-search-item__group__element ui-search-link']\")\n",
    "    lista_links = [produto.get_attribute('href') for produto in produtos]\n",
    "    lista_reviews = []\n",
    "    for link_produto in lista_links:\n",
    "        driver.get(link_produto)\n",
    "        botao_review = driver.find_element(By.XPATH, \"//a[@class='ui-pdp-review__label ui-pdp-review__label--link']\")\n",
    "        botao_review.click()\n",
    "        reviews = driver.find_elements(By.XPATH, \"//article\")\n",
    "        box_review = driver.find_element(By.XPATH, \"//div[@class='andes-modal ui-pdp-iframe-reviews andes-modal--small']\")\n",
    "        iframe = box_review.find_element(By.XPATH, \"//iframe[@class='ui-pdp-iframe-reviews__content']\")\n",
    "        driver.get(iframe.get_attribute('src'))\n",
    "        reviews = driver.find_elements(By.XPATH, \"//article\")\n",
    "        review_texts = [rev.text for rev in reviews]\n",
    "        lista_reviews.append(review_texts)\n",
    "    return lista_reviews\n",
    "\n",
    "get_reviews(\"https://lista.mercadolivre.com.br/barrinha-proteica#D[A:barrinha%20proteica]\")"
   ]
  },
  {
   "cell_type": "code",
   "execution_count": null,
   "metadata": {},
   "outputs": [],
   "source": []
  },
  {
   "cell_type": "code",
   "execution_count": null,
   "metadata": {},
   "outputs": [],
   "source": []
  },
  {
   "cell_type": "code",
   "execution_count": null,
   "metadata": {},
   "outputs": [],
   "source": [
    "# BONUS - teste essa função em alguns produtos diferentes e veja se existem variações\n",
    "# na forma como a página de produto é construída"
   ]
  },
  {
   "cell_type": "markdown",
   "metadata": {},
   "source": [
    "# Headless Chrome"
   ]
  },
  {
   "cell_type": "code",
   "execution_count": null,
   "metadata": {
    "ExecuteTime": {
     "end_time": "2021-02-03T00:32:34.339041Z",
     "start_time": "2021-02-03T00:32:34.333058Z"
    }
   },
   "outputs": [],
   "source": [
    "# Your code here!"
   ]
  }
 ],
 "metadata": {
  "hide_input": false,
  "kernelspec": {
   "display_name": "Python 3 (ipykernel)",
   "language": "python",
   "name": "python3"
  },
  "language_info": {
   "codemirror_mode": {
    "name": "ipython",
    "version": 3
   },
   "file_extension": ".py",
   "mimetype": "text/x-python",
   "name": "python",
   "nbconvert_exporter": "python",
   "pygments_lexer": "ipython3",
   "version": "3.8.11"
  },
  "toc": {
   "base_numbering": 1,
   "nav_menu": {},
   "number_sections": true,
   "sideBar": true,
   "skip_h1_title": false,
   "title_cell": "Table of Contents",
   "title_sidebar": "Contents",
   "toc_cell": false,
   "toc_position": {},
   "toc_section_display": true,
   "toc_window_display": false
  },
  "varInspector": {
   "cols": {
    "lenName": 16,
    "lenType": 16,
    "lenVar": 40
   },
   "kernels_config": {
    "python": {
     "delete_cmd_postfix": "",
     "delete_cmd_prefix": "del ",
     "library": "var_list.py",
     "varRefreshCmd": "print(var_dic_list())"
    },
    "r": {
     "delete_cmd_postfix": ") ",
     "delete_cmd_prefix": "rm(",
     "library": "var_list.r",
     "varRefreshCmd": "cat(var_dic_list()) "
    }
   },
   "types_to_exclude": [
    "module",
    "function",
    "builtin_function_or_method",
    "instance",
    "_Feature"
   ],
   "window_display": false
  }
 },
 "nbformat": 4,
 "nbformat_minor": 4
}
