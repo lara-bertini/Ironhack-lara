{
 "cells": [
  {
   "cell_type": "markdown",
   "id": "3e98e41e",
   "metadata": {},
   "source": [
    "## Strings"
   ]
  },
  {
   "cell_type": "code",
   "execution_count": 2,
   "id": "1f218394",
   "metadata": {},
   "outputs": [
    {
     "name": "stdout",
     "output_type": "stream",
     "text": [
      "Marinetti\n",
      "\tBoccioni\n",
      "\t\tBalla\n"
     ]
    }
   ],
   "source": [
    "pintores_futuristas = 'Marinetti\\n\\tBoccioni\\n\\t\\tBalla'\n",
    "print(pintores_futuristas)"
   ]
  },
  {
   "cell_type": "code",
   "execution_count": 3,
   "id": "09f0f9f0",
   "metadata": {},
   "outputs": [
    {
     "name": "stdout",
     "output_type": "stream",
     "text": [
      "FridaMarinetti\n",
      "\tBoccioni\n",
      "\t\tBalla\n"
     ]
    }
   ],
   "source": [
    "print(['Frida'][0]+pintores_futuristas)"
   ]
  },
  {
   "cell_type": "code",
   "execution_count": 4,
   "id": "29dddf6d",
   "metadata": {},
   "outputs": [
    {
     "name": "stdout",
     "output_type": "stream",
     "text": [
      "OláOláOlá\n"
     ]
    }
   ],
   "source": [
    "print(3*'Olá')"
   ]
  },
  {
   "cell_type": "code",
   "execution_count": 5,
   "id": "0eab14be",
   "metadata": {},
   "outputs": [
    {
     "name": "stdout",
     "output_type": "stream",
     "text": [
      "Olá\n",
      "Olá\n",
      "Olá\n",
      "\n"
     ]
    }
   ],
   "source": [
    "print(3*'Olá\\n')"
   ]
  },
  {
   "cell_type": "code",
   "execution_count": 15,
   "id": "1935c6d9",
   "metadata": {},
   "outputs": [
    {
     "name": "stdout",
     "output_type": "stream",
     "text": [
      "-------------------------------------------------- \n",
      " \tO programa executou com sucesso!\n",
      " --------------------------------------------------\n"
     ]
    }
   ],
   "source": [
    "print('-'*50, '\\n', '\\t' * 1 + 'O programa executou com sucesso!\\n', '-'*50)"
   ]
  },
  {
   "cell_type": "markdown",
   "id": "0a6ddcf9",
   "metadata": {},
   "source": [
    "## Join list of strings"
   ]
  },
  {
   "cell_type": "code",
   "execution_count": 16,
   "id": "1c232243",
   "metadata": {},
   "outputs": [
    {
     "name": "stdout",
     "output_type": "stream",
     "text": [
      "['nome1', 'nome2', 'nome3']\n"
     ]
    }
   ],
   "source": [
    "nomes = ['nome1', 'nome2', 'nome3']\n",
    "print(nomes)"
   ]
  },
  {
   "cell_type": "code",
   "execution_count": 18,
   "id": "9015644f",
   "metadata": {},
   "outputs": [
    {
     "name": "stdout",
     "output_type": "stream",
     "text": [
      "nome1 nome2 nome3\n",
      "nome1 nome2 nome3\n"
     ]
    }
   ],
   "source": [
    "espaco = ' '\n",
    "nome_completo = espaco.join(nomes)\n",
    "print(nome_completo) # forma 1\n",
    "print(' '.join(nomes)) # forma 2 de fazer a mesma coisa"
   ]
  },
  {
   "cell_type": "code",
   "execution_count": 19,
   "id": "2f9f8889",
   "metadata": {},
   "outputs": [
    {
     "name": "stdout",
     "output_type": "stream",
     "text": [
      "nome1@nome2@nome3\n"
     ]
    }
   ],
   "source": [
    "print('@'.join(nomes))"
   ]
  },
  {
   "cell_type": "code",
   "execution_count": 21,
   "id": "95a042d9",
   "metadata": {},
   "outputs": [
    {
     "name": "stdout",
     "output_type": "stream",
     "text": [
      "S-t-r-i-n-g\n"
     ]
    }
   ],
   "source": [
    "print('-'.join('String'))"
   ]
  },
  {
   "cell_type": "code",
   "execution_count": 24,
   "id": "5a8e1f34",
   "metadata": {},
   "outputs": [
    {
     "name": "stdout",
     "output_type": "stream",
     "text": [
      "['Givaldo', 'de', 'Almeida', 'Vieira']\n",
      "['Givaldo', 'de', 'Almeida Vieira']\n"
     ]
    }
   ],
   "source": [
    "nome_completo = 'Givaldo de Almeida Vieira'\n",
    "print(nome_completo.split(' '))\n",
    "print(nome_completo.split(' ',2))"
   ]
  },
  {
   "cell_type": "code",
   "execution_count": 25,
   "id": "5c8b4a0c",
   "metadata": {},
   "outputs": [
    {
     "data": {
      "text/plain": [
       "['L', 'a', 'r', 'a']"
      ]
     },
     "execution_count": 25,
     "metadata": {},
     "output_type": "execute_result"
    }
   ],
   "source": [
    "# Uma forma de separar os caracteres de uma string é transformála numa lista\n",
    "list('Lara')"
   ]
  },
  {
   "cell_type": "code",
   "execution_count": 26,
   "id": "f7a1994c",
   "metadata": {},
   "outputs": [
    {
     "name": "stdout",
     "output_type": "stream",
     "text": [
      "Lara bertini vieira\n",
      "LARA BERTINI VIEIRA\n",
      "lara bertini vieira\n",
      "Lara Bertini Vieira\n"
     ]
    }
   ],
   "source": [
    "nome_errado = 'lARA bERTINI vIEIRA'\n",
    "print(nome_errado.capitalize())\n",
    "print(nome_errado.upper())\n",
    "print(nome_errado.lower())\n",
    "print(nome_errado.title())"
   ]
  },
  {
   "cell_type": "code",
   "execution_count": 27,
   "id": "fbf3b954",
   "metadata": {},
   "outputs": [
    {
     "name": "stdout",
     "output_type": "stream",
     "text": [
      "Lara            Bertini Vieira\n"
     ]
    }
   ],
   "source": [
    "print('       Lara            Bertini Vieira            '.strip())"
   ]
  },
  {
   "cell_type": "code",
   "execution_count": 28,
   "id": "fac49f42",
   "metadata": {},
   "outputs": [
    {
     "name": "stdout",
     "output_type": "stream",
     "text": [
      "Lara Bertini Vieira\n"
     ]
    }
   ],
   "source": [
    "print(' '.join('       Lara            Bertini Vieira            '.split()))"
   ]
  },
  {
   "cell_type": "code",
   "execution_count": 30,
   "id": "f7e5c955",
   "metadata": {},
   "outputs": [
    {
     "data": {
      "text/plain": [
       "True"
      ]
     },
     "execution_count": 30,
     "metadata": {},
     "output_type": "execute_result"
    }
   ],
   "source": [
    "'Lara Bertini'.startswith('Lar')"
   ]
  },
  {
   "cell_type": "code",
   "execution_count": null,
   "id": "3c7d4cbe",
   "metadata": {},
   "outputs": [],
   "source": []
  }
 ],
 "metadata": {
  "kernelspec": {
   "display_name": "Python 3 (ipykernel)",
   "language": "python",
   "name": "python3"
  },
  "language_info": {
   "codemirror_mode": {
    "name": "ipython",
    "version": 3
   },
   "file_extension": ".py",
   "mimetype": "text/x-python",
   "name": "python",
   "nbconvert_exporter": "python",
   "pygments_lexer": "ipython3",
   "version": "3.9.7"
  }
 },
 "nbformat": 4,
 "nbformat_minor": 5
}
