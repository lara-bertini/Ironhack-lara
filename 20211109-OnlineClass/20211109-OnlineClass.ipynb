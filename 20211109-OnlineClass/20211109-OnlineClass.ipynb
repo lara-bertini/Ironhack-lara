{
 "cells": [
  {
   "cell_type": "markdown",
   "id": "a7023a37",
   "metadata": {},
   "source": [
    "# Editor de textos\n",
    "\n",
    "## Editor de textos\n",
    "\n",
    "### Editor de textos\n",
    "\n",
    "#### Editor de textos\n",
    "\n",
    "**Bold**\n",
    "\n",
    "Normal\n",
    "\n",
    "> Normal\n",
    "\n",
    "* Normal\n",
    "\n",
    "- Normal"
   ]
  },
  {
   "cell_type": "code",
   "execution_count": null,
   "id": "3dfeb035",
   "metadata": {},
   "outputs": [],
   "source": []
  },
  {
   "cell_type": "code",
   "execution_count": null,
   "id": "3416e9b6",
   "metadata": {},
   "outputs": [],
   "source": []
  }
 ],
 "metadata": {
  "kernelspec": {
   "display_name": "Python 3 (ipykernel)",
   "language": "python",
   "name": "python3"
  },
  "language_info": {
   "codemirror_mode": {
    "name": "ipython",
    "version": 3
   },
   "file_extension": ".py",
   "mimetype": "text/x-python",
   "name": "python",
   "nbconvert_exporter": "python",
   "pygments_lexer": "ipython3",
   "version": "3.8.11"
  }
 },
 "nbformat": 4,
 "nbformat_minor": 5
}
