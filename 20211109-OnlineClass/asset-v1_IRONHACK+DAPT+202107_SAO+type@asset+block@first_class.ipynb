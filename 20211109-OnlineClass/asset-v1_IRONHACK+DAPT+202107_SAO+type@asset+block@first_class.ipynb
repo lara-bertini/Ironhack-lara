{
 "cells": [
  {
   "cell_type": "markdown",
   "id": "chicken-plate",
   "metadata": {},
   "source": [
    "# Análise de Retenção de Usuários\n",
    "## Objetivo\n",
    "Entender o **comportamento** dos usuários nos _aplicativos_.\n",
    "\n",
    "<ol>\n",
    "    <li>Objetivo 1</li>\n",
    "    <li>Objetivo 2</li>\n",
    "</ol>\n",
    "\n",
    "1. Objetivo 1\n",
    "1. Objetivo 2\n",
    "1. Objetivo 3\n",
    "\n",
    "- Objetivo 1\n",
    "- Objetivo 2\n",
    "\n",
    "> Citação\n",
    "\n",
    "```sql\n",
    "select * from table\n",
    "```\n",
    "\n",
    "```python\n",
    "print('oi')\n",
    "```"
   ]
  },
  {
   "cell_type": "code",
   "execution_count": 28,
   "id": "sunset-battery",
   "metadata": {},
   "outputs": [
    {
     "name": "stdout",
     "output_type": "stream",
     "text": [
      "Hello World\n",
      "Hello again\n"
     ]
    },
    {
     "data": {
      "text/plain": [
       "True"
      ]
     },
     "execution_count": 28,
     "metadata": {},
     "output_type": "execute_result"
    }
   ],
   "source": [
    "# print('Hello World') \n",
    "# print('Hello again')\n",
    "\n",
    "# 1==1"
   ]
  },
  {
   "cell_type": "code",
   "execution_count": 30,
   "id": "mysterious-editor",
   "metadata": {},
   "outputs": [
    {
     "data": {
      "text/plain": [
       "'hahahaha'"
      ]
     },
     "execution_count": 30,
     "metadata": {},
     "output_type": "execute_result"
    }
   ],
   "source": [
    "'hahahaha'"
   ]
  },
  {
   "cell_type": "markdown",
   "id": "deadly-weight",
   "metadata": {},
   "source": [
    "-----"
   ]
  },
  {
   "cell_type": "markdown",
   "id": "equipped-links",
   "metadata": {},
   "source": [
    "# Python Recap\n",
    "## Variable Assignment"
   ]
  },
  {
   "cell_type": "code",
   "execution_count": 126,
   "id": "mounted-orleans",
   "metadata": {},
   "outputs": [
    {
     "name": "stdout",
     "output_type": "stream",
     "text": [
      "oi\n"
     ]
    }
   ],
   "source": [
    "print('oi')"
   ]
  },
  {
   "cell_type": "code",
   "execution_count": 2,
   "id": "dominican-chorus",
   "metadata": {},
   "outputs": [],
   "source": [
    "valor = 1"
   ]
  },
  {
   "cell_type": "code",
   "execution_count": 1,
   "id": "asian-sector",
   "metadata": {},
   "outputs": [],
   "source": [
    "valor_do_imovel_do_meu_apartamento_de_2_dorm = 1"
   ]
  },
  {
   "cell_type": "code",
   "execution_count": 3,
   "id": "graduate-moses",
   "metadata": {},
   "outputs": [
    {
     "data": {
      "text/plain": [
       "1"
      ]
     },
     "execution_count": 3,
     "metadata": {},
     "output_type": "execute_result"
    }
   ],
   "source": [
    "valor"
   ]
  },
  {
   "cell_type": "code",
   "execution_count": 4,
   "id": "terminal-oxide",
   "metadata": {},
   "outputs": [],
   "source": [
    "valor = 2"
   ]
  },
  {
   "cell_type": "code",
   "execution_count": 5,
   "id": "equipped-signature",
   "metadata": {},
   "outputs": [],
   "source": [
    "valor1, valor2 = 1, 2"
   ]
  },
  {
   "cell_type": "code",
   "execution_count": 6,
   "id": "seventh-january",
   "metadata": {},
   "outputs": [
    {
     "data": {
      "text/plain": [
       "1"
      ]
     },
     "execution_count": 6,
     "metadata": {},
     "output_type": "execute_result"
    }
   ],
   "source": [
    "valor1"
   ]
  },
  {
   "cell_type": "code",
   "execution_count": 7,
   "id": "civilian-defeat",
   "metadata": {},
   "outputs": [
    {
     "data": {
      "text/plain": [
       "2"
      ]
     },
     "execution_count": 7,
     "metadata": {},
     "output_type": "execute_result"
    }
   ],
   "source": [
    "valor2"
   ]
  },
  {
   "cell_type": "code",
   "execution_count": 8,
   "id": "ecological-sixth",
   "metadata": {},
   "outputs": [
    {
     "ename": "NameError",
     "evalue": "name 'valor3' is not defined",
     "output_type": "error",
     "traceback": [
      "\u001b[0;31m---------------------------------------------------------------------------\u001b[0m",
      "\u001b[0;31mNameError\u001b[0m                                 Traceback (most recent call last)",
      "\u001b[0;32m<ipython-input-8-8bbb3db4abc0>\u001b[0m in \u001b[0;36m<module>\u001b[0;34m\u001b[0m\n\u001b[0;32m----> 1\u001b[0;31m \u001b[0mvalor3\u001b[0m\u001b[0;34m\u001b[0m\u001b[0;34m\u001b[0m\u001b[0m\n\u001b[0m",
      "\u001b[0;31mNameError\u001b[0m: name 'valor3' is not defined"
     ]
    }
   ],
   "source": [
    "valor3"
   ]
  },
  {
   "cell_type": "markdown",
   "id": "express-origin",
   "metadata": {},
   "source": [
    "## Print Function"
   ]
  },
  {
   "cell_type": "code",
   "execution_count": 17,
   "id": "silent-shame",
   "metadata": {},
   "outputs": [],
   "source": [
    "# syntax highlighting"
   ]
  },
  {
   "cell_type": "code",
   "execution_count": 11,
   "id": "sorted-lighting",
   "metadata": {},
   "outputs": [
    {
     "name": "stdout",
     "output_type": "stream",
     "text": [
      "Oi\n"
     ]
    }
   ],
   "source": [
    "print('Oi')"
   ]
  },
  {
   "cell_type": "code",
   "execution_count": 12,
   "id": "chief-diana",
   "metadata": {},
   "outputs": [
    {
     "name": "stdout",
     "output_type": "stream",
     "text": [
      "1\n"
     ]
    }
   ],
   "source": [
    "print(valor1)"
   ]
  },
  {
   "cell_type": "code",
   "execution_count": 14,
   "id": "deadly-disaster",
   "metadata": {},
   "outputs": [
    {
     "data": {
      "text/plain": [
       "1"
      ]
     },
     "execution_count": 14,
     "metadata": {},
     "output_type": "execute_result"
    }
   ],
   "source": [
    "valor1"
   ]
  },
  {
   "cell_type": "code",
   "execution_count": 16,
   "id": "funded-computer",
   "metadata": {},
   "outputs": [
    {
     "name": "stdout",
     "output_type": "stream",
     "text": [
      "1\n",
      "2\n"
     ]
    }
   ],
   "source": [
    "print(valor1)\n",
    "print(valor2)"
   ]
  },
  {
   "cell_type": "code",
   "execution_count": 24,
   "id": "prospective-sequence",
   "metadata": {},
   "outputs": [
    {
     "name": "stdout",
     "output_type": "stream",
     "text": [
      "Oi, meu nome é Madu\n"
     ]
    }
   ],
   "source": [
    "print('Oi, meu nome é Madu')"
   ]
  },
  {
   "cell_type": "code",
   "execution_count": 27,
   "id": "amazing-conflict",
   "metadata": {},
   "outputs": [
    {
     "name": "stdout",
     "output_type": "stream",
     "text": [
      "passei por aqui\n"
     ]
    }
   ],
   "source": [
    "y = 'oi'\n",
    "print('passei por aqui')\n"
   ]
  },
  {
   "cell_type": "code",
   "execution_count": 26,
   "id": "native-trinidad",
   "metadata": {},
   "outputs": [
    {
     "name": "stdout",
     "output_type": "stream",
     "text": [
      "passei por aqui\n",
      "passei por aqui novamente\n"
     ]
    }
   ],
   "source": [
    "y = 'oi'\n",
    "print('passei por aqui')\n",
    "x = 'oi de novo'\n",
    "print('passei por aqui novamente')\n",
    "x = 'oi'"
   ]
  },
  {
   "cell_type": "markdown",
   "id": "commercial-manitoba",
   "metadata": {},
   "source": [
    "## strings"
   ]
  },
  {
   "cell_type": "code",
   "execution_count": 28,
   "id": "scheduled-paris",
   "metadata": {},
   "outputs": [],
   "source": [
    "apelido = 'Madu'\n",
    "smile = ':)'"
   ]
  },
  {
   "cell_type": "code",
   "execution_count": 30,
   "id": "bottom-shareware",
   "metadata": {},
   "outputs": [
    {
     "name": "stdout",
     "output_type": "stream",
     "text": [
      "Oi, meu nome é Madu :)\n"
     ]
    }
   ],
   "source": [
    "print('Oi, meu nome é', apelido, smile)"
   ]
  },
  {
   "cell_type": "code",
   "execution_count": 35,
   "id": "advance-finland",
   "metadata": {},
   "outputs": [
    {
     "data": {
      "text/plain": [
       "'Oi, meu nome é Madu :) Madu'"
      ]
     },
     "execution_count": 35,
     "metadata": {},
     "output_type": "execute_result"
    }
   ],
   "source": [
    "'Oi, meu nome é {} {} {}'.format(apelido, smile, apelido)"
   ]
  },
  {
   "cell_type": "code",
   "execution_count": 34,
   "id": "equivalent-viewer",
   "metadata": {},
   "outputs": [
    {
     "data": {
      "text/plain": [
       "'Oi, meu nome é Madu, :) :) Madu'"
      ]
     },
     "execution_count": 34,
     "metadata": {},
     "output_type": "execute_result"
    }
   ],
   "source": [
    "# f-string\n",
    "f'Oi, meu nome é {apelido}, {smile} {smile} {apelido}'"
   ]
  },
  {
   "cell_type": "code",
   "execution_count": 37,
   "id": "hazardous-jones",
   "metadata": {},
   "outputs": [
    {
     "data": {
      "text/plain": [
       "'Valor 1 10, Valor 2: 100'"
      ]
     },
     "execution_count": 37,
     "metadata": {},
     "output_type": "execute_result"
    }
   ],
   "source": [
    "x=10\n",
    "f'Valor 1 {x}, Valor 2: {x*10}'"
   ]
  },
  {
   "cell_type": "code",
   "execution_count": 42,
   "id": "recreational-harassment",
   "metadata": {},
   "outputs": [
    {
     "data": {
      "text/plain": [
       "float"
      ]
     },
     "execution_count": 42,
     "metadata": {},
     "output_type": "execute_result"
    }
   ],
   "source": [
    "type(1.00)"
   ]
  },
  {
   "cell_type": "code",
   "execution_count": 38,
   "id": "biblical-animal",
   "metadata": {},
   "outputs": [
    {
     "data": {
      "text/plain": [
       "int"
      ]
     },
     "execution_count": 38,
     "metadata": {},
     "output_type": "execute_result"
    }
   ],
   "source": [
    "type(x)"
   ]
  },
  {
   "cell_type": "code",
   "execution_count": 39,
   "id": "built-registrar",
   "metadata": {},
   "outputs": [
    {
     "data": {
      "text/plain": [
       "str"
      ]
     },
     "execution_count": 39,
     "metadata": {},
     "output_type": "execute_result"
    }
   ],
   "source": [
    "type(apelido)"
   ]
  },
  {
   "cell_type": "code",
   "execution_count": 45,
   "id": "bright-astrology",
   "metadata": {},
   "outputs": [
    {
     "data": {
      "text/plain": [
       "\"Madu's World\""
      ]
     },
     "execution_count": 45,
     "metadata": {},
     "output_type": "execute_result"
    }
   ],
   "source": [
    "\"Madu's World\""
   ]
  },
  {
   "cell_type": "code",
   "execution_count": 50,
   "id": "turkish-chrome",
   "metadata": {},
   "outputs": [],
   "source": [
    "date = '2021-07-08'"
   ]
  },
  {
   "cell_type": "code",
   "execution_count": 51,
   "id": "preceding-retention",
   "metadata": {},
   "outputs": [],
   "source": [
    "query = f'''\n",
    "select \n",
    "    *\n",
    "from\n",
    "    table\n",
    "where \n",
    "    dt>={date}\n",
    "'''"
   ]
  },
  {
   "cell_type": "code",
   "execution_count": 54,
   "id": "minute-comparative",
   "metadata": {},
   "outputs": [
    {
     "name": "stdout",
     "output_type": "stream",
     "text": [
      "\n",
      "select \n",
      "    *\n",
      "from\n",
      "    table\n",
      "where \n",
      "    dt>=2021-07-08\n",
      "\n"
     ]
    }
   ],
   "source": [
    "print(query)"
   ]
  },
  {
   "cell_type": "code",
   "execution_count": 52,
   "id": "welsh-quest",
   "metadata": {},
   "outputs": [
    {
     "name": "stdout",
     "output_type": "stream",
     "text": [
      "\n",
      "select \n",
      "    *\n",
      "from\n",
      "    table\n",
      "where \n",
      "    dt>=2021-07-08\n",
      "\n"
     ]
    }
   ],
   "source": [
    "print(query)"
   ]
  },
  {
   "cell_type": "code",
   "execution_count": 49,
   "id": "color-marks",
   "metadata": {},
   "outputs": [
    {
     "data": {
      "text/plain": [
       "str"
      ]
     },
     "execution_count": 49,
     "metadata": {},
     "output_type": "execute_result"
    }
   ],
   "source": [
    "type(query)"
   ]
  },
  {
   "cell_type": "code",
   "execution_count": 56,
   "id": "changing-display",
   "metadata": {},
   "outputs": [
    {
     "data": {
      "text/plain": [
       "False"
      ]
     },
     "execution_count": 56,
     "metadata": {},
     "output_type": "execute_result"
    }
   ],
   "source": [
    "isinstance(query, int)"
   ]
  },
  {
   "cell_type": "markdown",
   "id": "gorgeous-shadow",
   "metadata": {},
   "source": [
    "-------"
   ]
  },
  {
   "cell_type": "code",
   "execution_count": 59,
   "id": "vocational-lighting",
   "metadata": {},
   "outputs": [
    {
     "name": "stdout",
     "output_type": "stream",
     "text": [
      "Miau\n",
      "Miau\n",
      "Miau\n",
      "Miau\n",
      "Miau\n"
     ]
    }
   ],
   "source": [
    "print('Miau')\n",
    "print('Miau')\n",
    "print('Miau')\n",
    "print('Miau')\n",
    "print('Miau')"
   ]
  },
  {
   "cell_type": "code",
   "execution_count": 64,
   "id": "heavy-catalog",
   "metadata": {},
   "outputs": [
    {
     "name": "stdout",
     "output_type": "stream",
     "text": [
      "0\n",
      "1\n",
      "2\n",
      "3\n",
      "4\n"
     ]
    }
   ],
   "source": [
    "for number in range(5):\n",
    "    print(number)"
   ]
  },
  {
   "cell_type": "code",
   "execution_count": 70,
   "id": "outstanding-sensitivity",
   "metadata": {},
   "outputs": [
    {
     "name": "stdout",
     "output_type": "stream",
     "text": [
      "1 Miau\n",
      "3 Miau\n",
      "5 Miau\n",
      "7 Miau\n",
      "9 Miau\n"
     ]
    }
   ],
   "source": [
    "# for statement\n",
    "for miado in range(1, 10, 2):\n",
    "    print(miado, 'Miau')"
   ]
  },
  {
   "cell_type": "code",
   "execution_count": 71,
   "id": "extreme-reducing",
   "metadata": {},
   "outputs": [],
   "source": [
    "professors = ['Madu', 'Rodrigo', 'Gui']"
   ]
  },
  {
   "cell_type": "code",
   "execution_count": 73,
   "id": "linear-livestock",
   "metadata": {},
   "outputs": [
    {
     "name": "stdout",
     "output_type": "stream",
     "text": [
      "Hello Madu\n",
      "Hello Rodrigo\n",
      "Hello Gui\n"
     ]
    }
   ],
   "source": [
    "for prof in professors:\n",
    "    print('Hello', prof)"
   ]
  },
  {
   "cell_type": "code",
   "execution_count": 80,
   "id": "decent-infrastructure",
   "metadata": {},
   "outputs": [
    {
     "name": "stdout",
     "output_type": "stream",
     "text": [
      "Miau\n",
      "2\n",
      "Miau\n",
      "4\n",
      "Miau\n",
      "6\n"
     ]
    }
   ],
   "source": [
    "# while statment\n",
    "number = 0\n",
    "while number < 5:\n",
    "    number+=2\n",
    "    print('Miau')\n",
    "    print(number)"
   ]
  },
  {
   "cell_type": "markdown",
   "id": "correct-lucas",
   "metadata": {},
   "source": [
    "-----"
   ]
  },
  {
   "cell_type": "markdown",
   "id": "criminal-frederick",
   "metadata": {},
   "source": [
    "# If Statement"
   ]
  },
  {
   "cell_type": "code",
   "execution_count": 82,
   "id": "cordless-reservoir",
   "metadata": {},
   "outputs": [],
   "source": [
    "valor1 = 1\n",
    "valor2 = 2"
   ]
  },
  {
   "cell_type": "code",
   "execution_count": 83,
   "id": "adjusted-trace",
   "metadata": {},
   "outputs": [
    {
     "data": {
      "text/plain": [
       "False"
      ]
     },
     "execution_count": 83,
     "metadata": {},
     "output_type": "execute_result"
    }
   ],
   "source": [
    "# Equality\n",
    "valor1==valor2"
   ]
  },
  {
   "cell_type": "code",
   "execution_count": 84,
   "id": "defensive-colombia",
   "metadata": {},
   "outputs": [
    {
     "data": {
      "text/plain": [
       "True"
      ]
     },
     "execution_count": 84,
     "metadata": {},
     "output_type": "execute_result"
    }
   ],
   "source": [
    "# Inequality\n",
    "valor1!=valor2"
   ]
  },
  {
   "cell_type": "code",
   "execution_count": 93,
   "id": "worthy-badge",
   "metadata": {},
   "outputs": [
    {
     "data": {
      "text/plain": [
       "False"
      ]
     },
     "execution_count": 93,
     "metadata": {},
     "output_type": "execute_result"
    }
   ],
   "source": [
    "valor1>valor2"
   ]
  },
  {
   "cell_type": "code",
   "execution_count": 94,
   "id": "banned-nightlife",
   "metadata": {},
   "outputs": [
    {
     "data": {
      "text/plain": [
       "False"
      ]
     },
     "execution_count": 94,
     "metadata": {},
     "output_type": "execute_result"
    }
   ],
   "source": [
    "valor1>=valor2"
   ]
  },
  {
   "cell_type": "code",
   "execution_count": 103,
   "id": "premium-chick",
   "metadata": {},
   "outputs": [
    {
     "data": {
      "text/plain": [
       "False"
      ]
     },
     "execution_count": 103,
     "metadata": {},
     "output_type": "execute_result"
    }
   ],
   "source": [
    "'abcd'>'cd'"
   ]
  },
  {
   "cell_type": "code",
   "execution_count": 115,
   "id": "analyzed-variance",
   "metadata": {},
   "outputs": [
    {
     "data": {
      "text/plain": [
       "1"
      ]
     },
     "execution_count": 115,
     "metadata": {},
     "output_type": "execute_result"
    }
   ],
   "source": [
    "valor1"
   ]
  },
  {
   "cell_type": "code",
   "execution_count": 116,
   "id": "aerial-address",
   "metadata": {},
   "outputs": [
    {
     "data": {
      "text/plain": [
       "'Madu'"
      ]
     },
     "execution_count": 116,
     "metadata": {},
     "output_type": "execute_result"
    }
   ],
   "source": [
    "apelido"
   ]
  },
  {
   "cell_type": "code",
   "execution_count": 118,
   "id": "every-peripheral",
   "metadata": {},
   "outputs": [
    {
     "data": {
      "text/plain": [
       "True"
      ]
     },
     "execution_count": 118,
     "metadata": {},
     "output_type": "execute_result"
    }
   ],
   "source": [
    "valor1==1 or apelido=='Gui'"
   ]
  },
  {
   "cell_type": "code",
   "execution_count": 119,
   "id": "alternate-dream",
   "metadata": {},
   "outputs": [
    {
     "data": {
      "text/plain": [
       "False"
      ]
     },
     "execution_count": 119,
     "metadata": {},
     "output_type": "execute_result"
    }
   ],
   "source": [
    "valor1==1 and apelido=='Gui' # and ou &"
   ]
  },
  {
   "cell_type": "code",
   "execution_count": 105,
   "id": "bearing-flour",
   "metadata": {},
   "outputs": [
    {
     "data": {
      "text/plain": [
       "False"
      ]
     },
     "execution_count": 105,
     "metadata": {},
     "output_type": "execute_result"
    }
   ],
   "source": [
    "True and False"
   ]
  },
  {
   "cell_type": "code",
   "execution_count": 106,
   "id": "psychological-briefs",
   "metadata": {},
   "outputs": [
    {
     "data": {
      "text/plain": [
       "False"
      ]
     },
     "execution_count": 106,
     "metadata": {},
     "output_type": "execute_result"
    }
   ],
   "source": [
    "False and False"
   ]
  },
  {
   "cell_type": "code",
   "execution_count": 107,
   "id": "substantial-january",
   "metadata": {},
   "outputs": [
    {
     "data": {
      "text/plain": [
       "True"
      ]
     },
     "execution_count": 107,
     "metadata": {},
     "output_type": "execute_result"
    }
   ],
   "source": [
    "True or False "
   ]
  },
  {
   "cell_type": "code",
   "execution_count": 111,
   "id": "controlled-screen",
   "metadata": {},
   "outputs": [
    {
     "data": {
      "text/plain": [
       "False"
      ]
     },
     "execution_count": 111,
     "metadata": {},
     "output_type": "execute_result"
    }
   ],
   "source": [
    "False or False # or ou |"
   ]
  },
  {
   "cell_type": "code",
   "execution_count": 125,
   "id": "inappropriate-tragedy",
   "metadata": {},
   "outputs": [
    {
     "data": {
      "text/plain": [
       "1"
      ]
     },
     "execution_count": 125,
     "metadata": {},
     "output_type": "execute_result"
    }
   ],
   "source": [
    "valor1"
   ]
  },
  {
   "cell_type": "code",
   "execution_count": 121,
   "id": "perceived-treatment",
   "metadata": {},
   "outputs": [],
   "source": [
    "if valor1==1 and apelido=='Gui':\n",
    "    print('Oi')"
   ]
  },
  {
   "cell_type": "code",
   "execution_count": null,
   "id": "declared-portland",
   "metadata": {},
   "outputs": [],
   "source": [
    "# tabela verdade"
   ]
  }
 ],
 "metadata": {
  "kernelspec": {
   "display_name": "Python 3",
   "language": "python",
   "name": "python3"
  },
  "language_info": {
   "codemirror_mode": {
    "name": "ipython",
    "version": 3
   },
   "file_extension": ".py",
   "mimetype": "text/x-python",
   "name": "python",
   "nbconvert_exporter": "python",
   "pygments_lexer": "ipython3",
   "version": "3.7.10"
  }
 },
 "nbformat": 4,
 "nbformat_minor": 5
}
