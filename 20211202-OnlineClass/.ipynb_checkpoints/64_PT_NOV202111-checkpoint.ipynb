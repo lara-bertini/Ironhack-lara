{
 "cells": [
  {
   "cell_type": "markdown",
   "metadata": {},
   "source": [
    "# Manipulating a dataset structure\n",
    "Applying some operations to change DataFrame strucutre and filtering content"
   ]
  },
  {
   "cell_type": "code",
   "execution_count": 9,
   "metadata": {
    "ExecuteTime": {
     "end_time": "2021-12-02T18:19:29.970104Z",
     "start_time": "2021-12-02T18:19:29.896318Z"
    }
   },
   "outputs": [
    {
     "data": {
      "text/html": [
       "<div>\n",
       "<style scoped>\n",
       "    .dataframe tbody tr th:only-of-type {\n",
       "        vertical-align: middle;\n",
       "    }\n",
       "\n",
       "    .dataframe tbody tr th {\n",
       "        vertical-align: top;\n",
       "    }\n",
       "\n",
       "    .dataframe thead th {\n",
       "        text-align: right;\n",
       "    }\n",
       "</style>\n",
       "<table border=\"1\" class=\"dataframe\">\n",
       "  <thead>\n",
       "    <tr style=\"text-align: right;\">\n",
       "      <th></th>\n",
       "      <th>Year</th>\n",
       "      <th>Engine Displacement</th>\n",
       "      <th>Cylinders</th>\n",
       "      <th>Fuel Barrels/Year</th>\n",
       "      <th>City MPG</th>\n",
       "      <th>Highway MPG</th>\n",
       "      <th>Combined MPG</th>\n",
       "      <th>CO2 Emission Grams/Mile</th>\n",
       "      <th>Fuel Cost/Year</th>\n",
       "    </tr>\n",
       "  </thead>\n",
       "  <tbody>\n",
       "    <tr>\n",
       "      <th>count</th>\n",
       "      <td>35952.00000</td>\n",
       "      <td>35952.000000</td>\n",
       "      <td>35952.000000</td>\n",
       "      <td>35952.000000</td>\n",
       "      <td>35952.000000</td>\n",
       "      <td>35952.000000</td>\n",
       "      <td>35952.000000</td>\n",
       "      <td>35952.000000</td>\n",
       "      <td>35952.000000</td>\n",
       "    </tr>\n",
       "    <tr>\n",
       "      <th>mean</th>\n",
       "      <td>2000.71640</td>\n",
       "      <td>3.338493</td>\n",
       "      <td>5.765076</td>\n",
       "      <td>17.609056</td>\n",
       "      <td>17.646139</td>\n",
       "      <td>23.880646</td>\n",
       "      <td>19.929322</td>\n",
       "      <td>475.316339</td>\n",
       "      <td>1892.598465</td>\n",
       "    </tr>\n",
       "    <tr>\n",
       "      <th>std</th>\n",
       "      <td>10.08529</td>\n",
       "      <td>1.359395</td>\n",
       "      <td>1.755268</td>\n",
       "      <td>4.467283</td>\n",
       "      <td>4.769349</td>\n",
       "      <td>5.890876</td>\n",
       "      <td>5.112409</td>\n",
       "      <td>119.060773</td>\n",
       "      <td>506.958627</td>\n",
       "    </tr>\n",
       "    <tr>\n",
       "      <th>min</th>\n",
       "      <td>1984.00000</td>\n",
       "      <td>0.600000</td>\n",
       "      <td>2.000000</td>\n",
       "      <td>0.060000</td>\n",
       "      <td>6.000000</td>\n",
       "      <td>9.000000</td>\n",
       "      <td>7.000000</td>\n",
       "      <td>37.000000</td>\n",
       "      <td>600.000000</td>\n",
       "    </tr>\n",
       "    <tr>\n",
       "      <th>25%</th>\n",
       "      <td>1991.00000</td>\n",
       "      <td>2.200000</td>\n",
       "      <td>4.000000</td>\n",
       "      <td>14.699423</td>\n",
       "      <td>15.000000</td>\n",
       "      <td>20.000000</td>\n",
       "      <td>16.000000</td>\n",
       "      <td>395.000000</td>\n",
       "      <td>1500.000000</td>\n",
       "    </tr>\n",
       "    <tr>\n",
       "      <th>50%</th>\n",
       "      <td>2001.00000</td>\n",
       "      <td>3.000000</td>\n",
       "      <td>6.000000</td>\n",
       "      <td>17.347895</td>\n",
       "      <td>17.000000</td>\n",
       "      <td>24.000000</td>\n",
       "      <td>19.000000</td>\n",
       "      <td>467.736842</td>\n",
       "      <td>1850.000000</td>\n",
       "    </tr>\n",
       "    <tr>\n",
       "      <th>75%</th>\n",
       "      <td>2010.00000</td>\n",
       "      <td>4.300000</td>\n",
       "      <td>6.000000</td>\n",
       "      <td>20.600625</td>\n",
       "      <td>20.000000</td>\n",
       "      <td>27.000000</td>\n",
       "      <td>23.000000</td>\n",
       "      <td>555.437500</td>\n",
       "      <td>2200.000000</td>\n",
       "    </tr>\n",
       "    <tr>\n",
       "      <th>max</th>\n",
       "      <td>2017.00000</td>\n",
       "      <td>8.400000</td>\n",
       "      <td>16.000000</td>\n",
       "      <td>47.087143</td>\n",
       "      <td>58.000000</td>\n",
       "      <td>61.000000</td>\n",
       "      <td>56.000000</td>\n",
       "      <td>1269.571429</td>\n",
       "      <td>5800.000000</td>\n",
       "    </tr>\n",
       "  </tbody>\n",
       "</table>\n",
       "</div>"
      ],
      "text/plain": [
       "              Year  Engine Displacement     Cylinders  Fuel Barrels/Year  \\\n",
       "count  35952.00000         35952.000000  35952.000000       35952.000000   \n",
       "mean    2000.71640             3.338493      5.765076          17.609056   \n",
       "std       10.08529             1.359395      1.755268           4.467283   \n",
       "min     1984.00000             0.600000      2.000000           0.060000   \n",
       "25%     1991.00000             2.200000      4.000000          14.699423   \n",
       "50%     2001.00000             3.000000      6.000000          17.347895   \n",
       "75%     2010.00000             4.300000      6.000000          20.600625   \n",
       "max     2017.00000             8.400000     16.000000          47.087143   \n",
       "\n",
       "           City MPG   Highway MPG  Combined MPG  CO2 Emission Grams/Mile  \\\n",
       "count  35952.000000  35952.000000  35952.000000             35952.000000   \n",
       "mean      17.646139     23.880646     19.929322               475.316339   \n",
       "std        4.769349      5.890876      5.112409               119.060773   \n",
       "min        6.000000      9.000000      7.000000                37.000000   \n",
       "25%       15.000000     20.000000     16.000000               395.000000   \n",
       "50%       17.000000     24.000000     19.000000               467.736842   \n",
       "75%       20.000000     27.000000     23.000000               555.437500   \n",
       "max       58.000000     61.000000     56.000000              1269.571429   \n",
       "\n",
       "       Fuel Cost/Year  \n",
       "count    35952.000000  \n",
       "mean      1892.598465  \n",
       "std        506.958627  \n",
       "min        600.000000  \n",
       "25%       1500.000000  \n",
       "50%       1850.000000  \n",
       "75%       2200.000000  \n",
       "max       5800.000000  "
      ]
     },
     "execution_count": 9,
     "metadata": {},
     "output_type": "execute_result"
    }
   ],
   "source": [
    "# 1-) Import Pandas\n",
    "# 2-) Read `vehicles.csv`\n",
    "# 3-) Make some quick analysis\n",
    "import pandas as pd\n",
    "import numpy as np\n",
    "tb_veic = pd.read_csv('data/dados_veiculos.csv')\n",
    "tb_veic.describe()"
   ]
  },
  {
   "cell_type": "markdown",
   "metadata": {},
   "source": [
    "Como podemos ver abaixo, a tabela contém 15 colunas, sendo 9 numéricas e 6 de objetos. Além disso todas as linhas parecem ter todas as variáveis preenchidas."
   ]
  },
  {
   "cell_type": "code",
   "execution_count": 2,
   "metadata": {
    "ExecuteTime": {
     "end_time": "2021-12-02T18:19:30.251667Z",
     "start_time": "2021-12-02T18:19:30.229716Z"
    }
   },
   "outputs": [
    {
     "name": "stdout",
     "output_type": "stream",
     "text": [
      "<class 'pandas.core.frame.DataFrame'>\n",
      "RangeIndex: 35952 entries, 0 to 35951\n",
      "Data columns (total 15 columns):\n",
      " #   Column                   Non-Null Count  Dtype  \n",
      "---  ------                   --------------  -----  \n",
      " 0   Make                     35952 non-null  object \n",
      " 1   Model                    35952 non-null  object \n",
      " 2   Year                     35952 non-null  int64  \n",
      " 3   Engine Displacement      35952 non-null  float64\n",
      " 4   Cylinders                35952 non-null  float64\n",
      " 5   Transmission             35952 non-null  object \n",
      " 6   Drivetrain               35952 non-null  object \n",
      " 7   Vehicle Class            35952 non-null  object \n",
      " 8   Fuel Type                35952 non-null  object \n",
      " 9   Fuel Barrels/Year        35952 non-null  float64\n",
      " 10  City MPG                 35952 non-null  int64  \n",
      " 11  Highway MPG              35952 non-null  int64  \n",
      " 12  Combined MPG             35952 non-null  int64  \n",
      " 13  CO2 Emission Grams/Mile  35952 non-null  float64\n",
      " 14  Fuel Cost/Year           35952 non-null  int64  \n",
      "dtypes: float64(4), int64(5), object(6)\n",
      "memory usage: 4.1+ MB\n"
     ]
    }
   ],
   "source": [
    "tb_veic.info()"
   ]
  },
  {
   "cell_type": "markdown",
   "metadata": {},
   "source": [
    "Como podemos verificar o que as colunas com tipo 'object' contém? "
   ]
  },
  {
   "cell_type": "markdown",
   "metadata": {},
   "source": [
    "## Check DataFrame Column Names"
   ]
  },
  {
   "cell_type": "markdown",
   "metadata": {},
   "source": [
    "Rename all columns at once:\n",
    "- `data.columns` is an **attribute** of the DataFrame which results in a list-like of the column names\n",
    "    - You can substitute it by another list containing the names you want \n",
    "    - Note you have to substitute the whole set of column names at once\n",
    "    \n",
    "- `data.rename()` is a **method** of a DataFrame, in which you can rename one column at once\n",
    "    - You just need to pass a dictionary containing {'old_name':'new_name'} \n",
    "    - By default, it changes names of a **index** (`axis=0`), you can specify `axis=1` to change **column** names\n",
    "    - the `inplace` argument"
   ]
  },
  {
   "cell_type": "code",
   "execution_count": 3,
   "metadata": {
    "ExecuteTime": {
     "end_time": "2021-12-02T18:19:30.737320Z",
     "start_time": "2021-12-02T18:19:30.733329Z"
    }
   },
   "outputs": [
    {
     "name": "stdout",
     "output_type": "stream",
     "text": [
      "Index(['Make', 'Model', 'Year', 'Engine Displacement', 'Cylinders',\n",
      "       'Transmission', 'Drivetrain', 'Vehicle Class', 'Fuel Type',\n",
      "       'Fuel Barrels/Year', 'City MPG', 'Highway MPG', 'Combined MPG',\n",
      "       'CO2 Emission Grams/Mile', 'Fuel Cost/Year'],\n",
      "      dtype='object')\n"
     ]
    }
   ],
   "source": [
    "print(tb_veic.columns)"
   ]
  },
  {
   "cell_type": "code",
   "execution_count": 4,
   "metadata": {
    "ExecuteTime": {
     "end_time": "2021-12-02T18:19:30.871958Z",
     "start_time": "2021-12-02T18:19:30.867969Z"
    }
   },
   "outputs": [
    {
     "name": "stdout",
     "output_type": "stream",
     "text": [
      "Make\n"
     ]
    }
   ],
   "source": [
    "print(tb_veic.columns[0])"
   ]
  },
  {
   "cell_type": "code",
   "execution_count": 5,
   "metadata": {
    "ExecuteTime": {
     "end_time": "2021-12-02T18:19:30.988648Z",
     "start_time": "2021-12-02T18:19:30.984659Z"
    }
   },
   "outputs": [],
   "source": [
    "coluna_0 = tb_veic[tb_veic.columns[0]]"
   ]
  },
  {
   "cell_type": "code",
   "execution_count": 6,
   "metadata": {
    "ExecuteTime": {
     "end_time": "2021-12-02T18:19:31.121321Z",
     "start_time": "2021-12-02T18:19:31.111321Z"
    }
   },
   "outputs": [
    {
     "ename": "NameError",
     "evalue": "name 'a' is not defined",
     "output_type": "error",
     "traceback": [
      "\u001b[1;31m---------------------------------------------------------------------------\u001b[0m",
      "\u001b[1;31mNameError\u001b[0m                                 Traceback (most recent call last)",
      "\u001b[1;32m~\\AppData\\Local\\Temp/ipykernel_30300/1114606015.py\u001b[0m in \u001b[0;36m<module>\u001b[1;34m\u001b[0m\n\u001b[1;32m----> 1\u001b[1;33m \u001b[0mtipo_coluna_0\u001b[0m \u001b[1;33m=\u001b[0m \u001b[0ma\u001b[0m\u001b[1;33m.\u001b[0m\u001b[0mdtypes\u001b[0m\u001b[1;33m.\u001b[0m\u001b[0mtype\u001b[0m\u001b[1;33m\u001b[0m\u001b[1;33m\u001b[0m\u001b[0m\n\u001b[0m",
      "\u001b[1;31mNameError\u001b[0m: name 'a' is not defined"
     ]
    }
   ],
   "source": [
    "tipo_coluna_0 = a.dtypes.type"
   ]
  },
  {
   "cell_type": "code",
   "execution_count": null,
   "metadata": {
    "ExecuteTime": {
     "end_time": "2021-12-02T18:19:31.254101Z",
     "start_time": "2021-12-02T18:19:31.247104Z"
    }
   },
   "outputs": [],
   "source": [
    "tipo_coluna_0 == np.object_"
   ]
  },
  {
   "cell_type": "code",
   "execution_count": 7,
   "metadata": {
    "ExecuteTime": {
     "end_time": "2021-12-02T18:19:31.431609Z",
     "start_time": "2021-12-02T18:19:31.384764Z"
    }
   },
   "outputs": [
    {
     "name": "stdout",
     "output_type": "stream",
     "text": [
      "count         35952\n",
      "unique          127\n",
      "top       Chevrolet\n",
      "freq           3643\n",
      "Name: Make, dtype: object\n",
      "count               35952\n",
      "unique               3608\n",
      "top       F150 Pickup 2WD\n",
      "freq                  197\n",
      "Name: Model, dtype: object\n",
      "count               35952\n",
      "unique                 45\n",
      "top       Automatic 4-spd\n",
      "freq                10585\n",
      "Name: Transmission, dtype: object\n",
      "count                 35952\n",
      "unique                    8\n",
      "top       Front-Wheel Drive\n",
      "freq                  13044\n",
      "Name: Drivetrain, dtype: object\n",
      "count            35952\n",
      "unique              34\n",
      "top       Compact Cars\n",
      "freq              5185\n",
      "Name: Vehicle Class, dtype: object\n",
      "count       35952\n",
      "unique         13\n",
      "top       Regular\n",
      "freq        23587\n",
      "Name: Fuel Type, dtype: object\n"
     ]
    }
   ],
   "source": [
    "for column in tb_veic.columns:\n",
    "    if tb_veic[column].dtypes.type == np.object_:\n",
    "        print(tb_veic[column].describe())"
   ]
  },
  {
   "cell_type": "markdown",
   "metadata": {},
   "source": [
    "### Substituting `.columns` attribute"
   ]
  },
  {
   "cell_type": "code",
   "execution_count": 10,
   "metadata": {
    "ExecuteTime": {
     "end_time": "2021-12-02T18:19:31.639197Z",
     "start_time": "2021-12-02T18:19:31.636192Z"
    }
   },
   "outputs": [
    {
     "name": "stdout",
     "output_type": "stream",
     "text": [
      "Index(['Make', 'Model', 'Year', 'Engine Displacement', 'Cylinders',\n",
      "       'Transmission', 'Drivetrain', 'Vehicle Class', 'Fuel Type',\n",
      "       'Fuel Barrels/Year', 'City MPG', 'Highway MPG', 'Combined MPG',\n",
      "       'CO2 Emission Grams/Mile', 'Fuel Cost/Year'],\n",
      "      dtype='object')\n"
     ]
    }
   ],
   "source": [
    "print(tb_veic.columns)"
   ]
  },
  {
   "cell_type": "code",
   "execution_count": 11,
   "metadata": {
    "ExecuteTime": {
     "end_time": "2021-12-02T18:19:31.762897Z",
     "start_time": "2021-12-02T18:19:31.758908Z"
    }
   },
   "outputs": [],
   "source": [
    "old_column_names = list(tb_veic.columns)"
   ]
  },
  {
   "cell_type": "code",
   "execution_count": 12,
   "metadata": {
    "ExecuteTime": {
     "end_time": "2021-12-02T18:19:31.896544Z",
     "start_time": "2021-12-02T18:19:31.891552Z"
    }
   },
   "outputs": [],
   "source": [
    "tb_veic.columns = [column.lower().replace(' ', '_') for column in list(tb_veic.columns)]"
   ]
  },
  {
   "cell_type": "code",
   "execution_count": 13,
   "metadata": {
    "ExecuteTime": {
     "end_time": "2021-12-02T18:19:32.048158Z",
     "start_time": "2021-12-02T18:19:32.019211Z"
    }
   },
   "outputs": [
    {
     "data": {
      "text/html": [
       "<div>\n",
       "<style scoped>\n",
       "    .dataframe tbody tr th:only-of-type {\n",
       "        vertical-align: middle;\n",
       "    }\n",
       "\n",
       "    .dataframe tbody tr th {\n",
       "        vertical-align: top;\n",
       "    }\n",
       "\n",
       "    .dataframe thead th {\n",
       "        text-align: right;\n",
       "    }\n",
       "</style>\n",
       "<table border=\"1\" class=\"dataframe\">\n",
       "  <thead>\n",
       "    <tr style=\"text-align: right;\">\n",
       "      <th></th>\n",
       "      <th>make</th>\n",
       "      <th>model</th>\n",
       "      <th>year</th>\n",
       "      <th>engine_displacement</th>\n",
       "      <th>cylinders</th>\n",
       "      <th>transmission</th>\n",
       "      <th>drivetrain</th>\n",
       "      <th>vehicle_class</th>\n",
       "      <th>fuel_type</th>\n",
       "      <th>fuel_barrels/year</th>\n",
       "      <th>city_mpg</th>\n",
       "      <th>highway_mpg</th>\n",
       "      <th>combined_mpg</th>\n",
       "      <th>co2_emission_grams/mile</th>\n",
       "      <th>fuel_cost/year</th>\n",
       "    </tr>\n",
       "  </thead>\n",
       "  <tbody>\n",
       "    <tr>\n",
       "      <th>0</th>\n",
       "      <td>AM General</td>\n",
       "      <td>DJ Po Vehicle 2WD</td>\n",
       "      <td>1984</td>\n",
       "      <td>2.5</td>\n",
       "      <td>4.0</td>\n",
       "      <td>Automatic 3-spd</td>\n",
       "      <td>2-Wheel Drive</td>\n",
       "      <td>Special Purpose Vehicle 2WD</td>\n",
       "      <td>Regular</td>\n",
       "      <td>19.388824</td>\n",
       "      <td>18</td>\n",
       "      <td>17</td>\n",
       "      <td>17</td>\n",
       "      <td>522.764706</td>\n",
       "      <td>1950</td>\n",
       "    </tr>\n",
       "    <tr>\n",
       "      <th>1</th>\n",
       "      <td>AM General</td>\n",
       "      <td>FJ8c Post Office</td>\n",
       "      <td>1984</td>\n",
       "      <td>4.2</td>\n",
       "      <td>6.0</td>\n",
       "      <td>Automatic 3-spd</td>\n",
       "      <td>2-Wheel Drive</td>\n",
       "      <td>Special Purpose Vehicle 2WD</td>\n",
       "      <td>Regular</td>\n",
       "      <td>25.354615</td>\n",
       "      <td>13</td>\n",
       "      <td>13</td>\n",
       "      <td>13</td>\n",
       "      <td>683.615385</td>\n",
       "      <td>2550</td>\n",
       "    </tr>\n",
       "    <tr>\n",
       "      <th>2</th>\n",
       "      <td>AM General</td>\n",
       "      <td>Post Office DJ5 2WD</td>\n",
       "      <td>1985</td>\n",
       "      <td>2.5</td>\n",
       "      <td>4.0</td>\n",
       "      <td>Automatic 3-spd</td>\n",
       "      <td>Rear-Wheel Drive</td>\n",
       "      <td>Special Purpose Vehicle 2WD</td>\n",
       "      <td>Regular</td>\n",
       "      <td>20.600625</td>\n",
       "      <td>16</td>\n",
       "      <td>17</td>\n",
       "      <td>16</td>\n",
       "      <td>555.437500</td>\n",
       "      <td>2100</td>\n",
       "    </tr>\n",
       "    <tr>\n",
       "      <th>3</th>\n",
       "      <td>AM General</td>\n",
       "      <td>Post Office DJ8 2WD</td>\n",
       "      <td>1985</td>\n",
       "      <td>4.2</td>\n",
       "      <td>6.0</td>\n",
       "      <td>Automatic 3-spd</td>\n",
       "      <td>Rear-Wheel Drive</td>\n",
       "      <td>Special Purpose Vehicle 2WD</td>\n",
       "      <td>Regular</td>\n",
       "      <td>25.354615</td>\n",
       "      <td>13</td>\n",
       "      <td>13</td>\n",
       "      <td>13</td>\n",
       "      <td>683.615385</td>\n",
       "      <td>2550</td>\n",
       "    </tr>\n",
       "    <tr>\n",
       "      <th>4</th>\n",
       "      <td>ASC Incorporated</td>\n",
       "      <td>GNX</td>\n",
       "      <td>1987</td>\n",
       "      <td>3.8</td>\n",
       "      <td>6.0</td>\n",
       "      <td>Automatic 4-spd</td>\n",
       "      <td>Rear-Wheel Drive</td>\n",
       "      <td>Midsize Cars</td>\n",
       "      <td>Premium</td>\n",
       "      <td>20.600625</td>\n",
       "      <td>14</td>\n",
       "      <td>21</td>\n",
       "      <td>16</td>\n",
       "      <td>555.437500</td>\n",
       "      <td>2550</td>\n",
       "    </tr>\n",
       "    <tr>\n",
       "      <th>...</th>\n",
       "      <td>...</td>\n",
       "      <td>...</td>\n",
       "      <td>...</td>\n",
       "      <td>...</td>\n",
       "      <td>...</td>\n",
       "      <td>...</td>\n",
       "      <td>...</td>\n",
       "      <td>...</td>\n",
       "      <td>...</td>\n",
       "      <td>...</td>\n",
       "      <td>...</td>\n",
       "      <td>...</td>\n",
       "      <td>...</td>\n",
       "      <td>...</td>\n",
       "      <td>...</td>\n",
       "    </tr>\n",
       "    <tr>\n",
       "      <th>35947</th>\n",
       "      <td>smart</td>\n",
       "      <td>fortwo coupe</td>\n",
       "      <td>2013</td>\n",
       "      <td>1.0</td>\n",
       "      <td>3.0</td>\n",
       "      <td>Auto(AM5)</td>\n",
       "      <td>Rear-Wheel Drive</td>\n",
       "      <td>Two Seaters</td>\n",
       "      <td>Premium</td>\n",
       "      <td>9.155833</td>\n",
       "      <td>34</td>\n",
       "      <td>38</td>\n",
       "      <td>36</td>\n",
       "      <td>244.000000</td>\n",
       "      <td>1100</td>\n",
       "    </tr>\n",
       "    <tr>\n",
       "      <th>35948</th>\n",
       "      <td>smart</td>\n",
       "      <td>fortwo coupe</td>\n",
       "      <td>2014</td>\n",
       "      <td>1.0</td>\n",
       "      <td>3.0</td>\n",
       "      <td>Auto(AM5)</td>\n",
       "      <td>Rear-Wheel Drive</td>\n",
       "      <td>Two Seaters</td>\n",
       "      <td>Premium</td>\n",
       "      <td>9.155833</td>\n",
       "      <td>34</td>\n",
       "      <td>38</td>\n",
       "      <td>36</td>\n",
       "      <td>243.000000</td>\n",
       "      <td>1100</td>\n",
       "    </tr>\n",
       "    <tr>\n",
       "      <th>35949</th>\n",
       "      <td>smart</td>\n",
       "      <td>fortwo coupe</td>\n",
       "      <td>2015</td>\n",
       "      <td>1.0</td>\n",
       "      <td>3.0</td>\n",
       "      <td>Auto(AM5)</td>\n",
       "      <td>Rear-Wheel Drive</td>\n",
       "      <td>Two Seaters</td>\n",
       "      <td>Premium</td>\n",
       "      <td>9.155833</td>\n",
       "      <td>34</td>\n",
       "      <td>38</td>\n",
       "      <td>36</td>\n",
       "      <td>244.000000</td>\n",
       "      <td>1100</td>\n",
       "    </tr>\n",
       "    <tr>\n",
       "      <th>35950</th>\n",
       "      <td>smart</td>\n",
       "      <td>fortwo coupe</td>\n",
       "      <td>2016</td>\n",
       "      <td>0.9</td>\n",
       "      <td>3.0</td>\n",
       "      <td>Auto(AM6)</td>\n",
       "      <td>Rear-Wheel Drive</td>\n",
       "      <td>Two Seaters</td>\n",
       "      <td>Premium</td>\n",
       "      <td>9.155833</td>\n",
       "      <td>34</td>\n",
       "      <td>39</td>\n",
       "      <td>36</td>\n",
       "      <td>246.000000</td>\n",
       "      <td>1100</td>\n",
       "    </tr>\n",
       "    <tr>\n",
       "      <th>35951</th>\n",
       "      <td>smart</td>\n",
       "      <td>fortwo coupe</td>\n",
       "      <td>2016</td>\n",
       "      <td>0.9</td>\n",
       "      <td>3.0</td>\n",
       "      <td>Manual 5-spd</td>\n",
       "      <td>Rear-Wheel Drive</td>\n",
       "      <td>Two Seaters</td>\n",
       "      <td>Premium</td>\n",
       "      <td>9.417429</td>\n",
       "      <td>32</td>\n",
       "      <td>39</td>\n",
       "      <td>35</td>\n",
       "      <td>255.000000</td>\n",
       "      <td>1150</td>\n",
       "    </tr>\n",
       "  </tbody>\n",
       "</table>\n",
       "<p>35952 rows × 15 columns</p>\n",
       "</div>"
      ],
      "text/plain": [
       "                   make                model  year  engine_displacement  \\\n",
       "0            AM General    DJ Po Vehicle 2WD  1984                  2.5   \n",
       "1            AM General     FJ8c Post Office  1984                  4.2   \n",
       "2            AM General  Post Office DJ5 2WD  1985                  2.5   \n",
       "3            AM General  Post Office DJ8 2WD  1985                  4.2   \n",
       "4      ASC Incorporated                  GNX  1987                  3.8   \n",
       "...                 ...                  ...   ...                  ...   \n",
       "35947             smart         fortwo coupe  2013                  1.0   \n",
       "35948             smart         fortwo coupe  2014                  1.0   \n",
       "35949             smart         fortwo coupe  2015                  1.0   \n",
       "35950             smart         fortwo coupe  2016                  0.9   \n",
       "35951             smart         fortwo coupe  2016                  0.9   \n",
       "\n",
       "       cylinders     transmission        drivetrain  \\\n",
       "0            4.0  Automatic 3-spd     2-Wheel Drive   \n",
       "1            6.0  Automatic 3-spd     2-Wheel Drive   \n",
       "2            4.0  Automatic 3-spd  Rear-Wheel Drive   \n",
       "3            6.0  Automatic 3-spd  Rear-Wheel Drive   \n",
       "4            6.0  Automatic 4-spd  Rear-Wheel Drive   \n",
       "...          ...              ...               ...   \n",
       "35947        3.0        Auto(AM5)  Rear-Wheel Drive   \n",
       "35948        3.0        Auto(AM5)  Rear-Wheel Drive   \n",
       "35949        3.0        Auto(AM5)  Rear-Wheel Drive   \n",
       "35950        3.0        Auto(AM6)  Rear-Wheel Drive   \n",
       "35951        3.0     Manual 5-spd  Rear-Wheel Drive   \n",
       "\n",
       "                     vehicle_class fuel_type  fuel_barrels/year  city_mpg  \\\n",
       "0      Special Purpose Vehicle 2WD   Regular          19.388824        18   \n",
       "1      Special Purpose Vehicle 2WD   Regular          25.354615        13   \n",
       "2      Special Purpose Vehicle 2WD   Regular          20.600625        16   \n",
       "3      Special Purpose Vehicle 2WD   Regular          25.354615        13   \n",
       "4                     Midsize Cars   Premium          20.600625        14   \n",
       "...                            ...       ...                ...       ...   \n",
       "35947                  Two Seaters   Premium           9.155833        34   \n",
       "35948                  Two Seaters   Premium           9.155833        34   \n",
       "35949                  Two Seaters   Premium           9.155833        34   \n",
       "35950                  Two Seaters   Premium           9.155833        34   \n",
       "35951                  Two Seaters   Premium           9.417429        32   \n",
       "\n",
       "       highway_mpg  combined_mpg  co2_emission_grams/mile  fuel_cost/year  \n",
       "0               17            17               522.764706            1950  \n",
       "1               13            13               683.615385            2550  \n",
       "2               17            16               555.437500            2100  \n",
       "3               13            13               683.615385            2550  \n",
       "4               21            16               555.437500            2550  \n",
       "...            ...           ...                      ...             ...  \n",
       "35947           38            36               244.000000            1100  \n",
       "35948           38            36               243.000000            1100  \n",
       "35949           38            36               244.000000            1100  \n",
       "35950           39            36               246.000000            1100  \n",
       "35951           39            35               255.000000            1150  \n",
       "\n",
       "[35952 rows x 15 columns]"
      ]
     },
     "execution_count": 13,
     "metadata": {},
     "output_type": "execute_result"
    }
   ],
   "source": [
    "tb_veic"
   ]
  },
  {
   "cell_type": "code",
   "execution_count": 14,
   "metadata": {
    "ExecuteTime": {
     "end_time": "2021-12-02T18:19:32.169957Z",
     "start_time": "2021-12-02T18:19:32.163972Z"
    }
   },
   "outputs": [
    {
     "name": "stdout",
     "output_type": "stream",
     "text": [
      "Index(['Make', 'Model', 'Year', 'Engine Displacement', 'Cylinders',\n",
      "       'Transmission', 'Drivetrain', 'Vehicle Class', 'Fuel Type',\n",
      "       'Fuel Barrels/Year', 'City MPG', 'Highway MPG', 'Combined MPG',\n",
      "       'CO2 Emission Grams/Mile', 'Fuel Cost/Year'],\n",
      "      dtype='object')\n"
     ]
    }
   ],
   "source": [
    "tb_veic.columns = old_column_names\n",
    "print(tb_veic.columns)"
   ]
  },
  {
   "cell_type": "markdown",
   "metadata": {},
   "source": [
    "### Using `.rename() method`"
   ]
  },
  {
   "cell_type": "markdown",
   "metadata": {},
   "source": [
    "`.rename({'old_column':'new_column'})`"
   ]
  },
  {
   "cell_type": "code",
   "execution_count": null,
   "metadata": {
    "ExecuteTime": {
     "end_time": "2021-12-02T18:19:32.553250Z",
     "start_time": "2021-12-02T18:19:32.547266Z"
    }
   },
   "outputs": [],
   "source": [
    "tb_veic = tb_veic.rename({'Year' : 'model_year'}, axis = 1)\n",
    "print(tb_veic.columns)"
   ]
  },
  {
   "cell_type": "code",
   "execution_count": null,
   "metadata": {
    "ExecuteTime": {
     "end_time": "2021-12-02T18:19:32.694570Z",
     "start_time": "2021-12-02T18:19:32.688588Z"
    }
   },
   "outputs": [],
   "source": [
    "tb_veic.columns = old_column_names"
   ]
  },
  {
   "cell_type": "code",
   "execution_count": null,
   "metadata": {
    "ExecuteTime": {
     "end_time": "2021-12-02T18:19:32.842175Z",
     "start_time": "2021-12-02T18:19:32.835195Z"
    }
   },
   "outputs": [],
   "source": [
    "tb_veic.rename({'Year' : 'model_year'}, axis = 1)\n",
    "print(tb_veic.columns)"
   ]
  },
  {
   "cell_type": "code",
   "execution_count": null,
   "metadata": {
    "ExecuteTime": {
     "end_time": "2021-12-02T18:19:32.976124Z",
     "start_time": "2021-12-02T18:19:32.971138Z"
    }
   },
   "outputs": [],
   "source": [
    "tb_veic.rename({'Year' : 'model_year'}, axis = 1, inplace = True)\n",
    "print(tb_veic.columns)"
   ]
  },
  {
   "cell_type": "code",
   "execution_count": 16,
   "metadata": {
    "ExecuteTime": {
     "end_time": "2021-12-02T18:19:33.118958Z",
     "start_time": "2021-12-02T18:19:33.114952Z"
    }
   },
   "outputs": [
    {
     "name": "stdout",
     "output_type": "stream",
     "text": [
      "{'Make': 'make', 'Model': 'model', 'Year': 'year', 'Engine Displacement': 'engine_displacement', 'Cylinders': 'cylinders', 'Transmission': 'transmission', 'Drivetrain': 'drivetrain', 'Vehicle Class': 'vehicle_class', 'Fuel Type': 'fuel_type', 'Fuel Barrels/Year': 'fuel_barrels_by_year', 'City MPG': 'city_mpg', 'Highway MPG': 'highway_mpg', 'Combined MPG': 'combined_mpg', 'CO2 Emission Grams/Mile': 'co2_emission_grams_by_mile', 'Fuel Cost/Year': 'fuel_cost_by_year'}\n"
     ]
    }
   ],
   "source": [
    "dict_rename = {column : column.lower().replace(' ', '_').replace('/', '_by_') for column in tb_veic.columns}\n",
    "print(dict_rename)"
   ]
  },
  {
   "cell_type": "code",
   "execution_count": 17,
   "metadata": {
    "ExecuteTime": {
     "end_time": "2021-12-02T18:19:33.257033Z",
     "start_time": "2021-12-02T18:19:33.253050Z"
    }
   },
   "outputs": [
    {
     "name": "stdout",
     "output_type": "stream",
     "text": [
      "Index(['make', 'model', 'year', 'engine_displacement', 'cylinders',\n",
      "       'transmission', 'drivetrain', 'vehicle_class', 'fuel_type',\n",
      "       'fuel_barrels_by_year', 'city_mpg', 'highway_mpg', 'combined_mpg',\n",
      "       'co2_emission_grams_by_mile', 'fuel_cost_by_year'],\n",
      "      dtype='object')\n"
     ]
    }
   ],
   "source": [
    "tb_veic.rename(dict_rename, axis = 1, inplace = True)\n",
    "print(tb_veic.columns)"
   ]
  },
  {
   "cell_type": "markdown",
   "metadata": {},
   "source": [
    "So, we have two options:\n",
    "> 1. store it again on the variable `data`: \n",
    "\n",
    "    data = data.rename(columns={'Make':'Manufacturer', 'Year':'ANO'})\n",
    "> 2. Use the inplace argument `inplace =  True` to change the values within the dataframe automatically\n",
    "\n",
    "    data.rename(columns={'Make':'Manufacturer', 'Year':'ANO'}, inplace=True)\n",
    "    \n",
    "O parâmetro 'inplace' será deprecado e seu uso é considerado má prática."
   ]
  },
  {
   "cell_type": "markdown",
   "metadata": {},
   "source": [
    "## Reorder columns in a dataframe\n",
    "\n",
    "Remember: You always pass a list of columns to access a dataframe"
   ]
  },
  {
   "cell_type": "code",
   "execution_count": null,
   "metadata": {
    "ExecuteTime": {
     "end_time": "2021-12-02T18:19:33.670002Z",
     "start_time": "2021-12-02T18:19:33.664019Z"
    }
   },
   "outputs": [],
   "source": [
    "print(tb_veic.columns)"
   ]
  },
  {
   "cell_type": "code",
   "execution_count": null,
   "metadata": {
    "ExecuteTime": {
     "end_time": "2021-12-02T18:19:33.815646Z",
     "start_time": "2021-12-02T18:19:33.804662Z"
    }
   },
   "outputs": [],
   "source": [
    "tb_veic[['model', 'make']]"
   ]
  },
  {
   "cell_type": "code",
   "execution_count": null,
   "metadata": {
    "ExecuteTime": {
     "end_time": "2021-12-02T18:19:33.952267Z",
     "start_time": "2021-12-02T18:19:33.946285Z"
    }
   },
   "outputs": [],
   "source": [
    "lista_colunas = list(tb_veic.columns)\n",
    "lista_colunas.sort()\n",
    "print(lista_colunas)"
   ]
  },
  {
   "cell_type": "code",
   "execution_count": null,
   "metadata": {
    "ExecuteTime": {
     "end_time": "2021-12-02T18:19:34.109972Z",
     "start_time": "2021-12-02T18:19:34.075065Z"
    }
   },
   "outputs": [],
   "source": [
    "tb_veic[lista_colunas]"
   ]
  },
  {
   "cell_type": "markdown",
   "metadata": {},
   "source": [
    "## Remove column (or row)\n",
    "\n",
    "- The `.drop()` method\n",
    "- By default, `.drop()` drops a row given its index."
   ]
  },
  {
   "cell_type": "code",
   "execution_count": null,
   "metadata": {
    "ExecuteTime": {
     "end_time": "2021-12-02T18:19:34.389227Z",
     "start_time": "2021-12-02T18:19:34.354320Z"
    }
   },
   "outputs": [],
   "source": [
    "tb_veic.drop('make', axis = 1)"
   ]
  },
  {
   "cell_type": "code",
   "execution_count": null,
   "metadata": {
    "ExecuteTime": {
     "end_time": "2021-12-02T18:19:34.523867Z",
     "start_time": "2021-12-02T18:19:34.492949Z"
    },
    "scrolled": true
   },
   "outputs": [],
   "source": [
    "tb_veic.drop(['make', 'model_year'], axis = 1)"
   ]
  },
  {
   "cell_type": "markdown",
   "metadata": {},
   "source": [
    "## Deep vs Shallow copy on pandas"
   ]
  },
  {
   "cell_type": "code",
   "execution_count": null,
   "metadata": {
    "ExecuteTime": {
     "end_time": "2021-12-02T18:19:34.782175Z",
     "start_time": "2021-12-02T18:19:34.772202Z"
    }
   },
   "outputs": [],
   "source": [
    "copia_tb_veic = tb_veic\n",
    "copy_tb_veic = tb_veic.copy(deep = False)\n",
    "deepcopy_tb_veic = tb_veic.copy(deep = True) # comportamento padrão do método"
   ]
  },
  {
   "cell_type": "code",
   "execution_count": null,
   "metadata": {
    "ExecuteTime": {
     "end_time": "2021-12-02T18:19:34.929781Z",
     "start_time": "2021-12-02T18:19:34.923796Z"
    }
   },
   "outputs": [],
   "source": [
    "a = [1, 2, 3]\n",
    "b = [1, 2, 3]\n",
    "a is b"
   ]
  },
  {
   "cell_type": "code",
   "execution_count": null,
   "metadata": {
    "ExecuteTime": {
     "end_time": "2021-12-02T18:19:35.081375Z",
     "start_time": "2021-12-02T18:19:35.076389Z"
    }
   },
   "outputs": [],
   "source": [
    "c = b\n",
    "print(c)"
   ]
  },
  {
   "cell_type": "code",
   "execution_count": null,
   "metadata": {
    "ExecuteTime": {
     "end_time": "2021-12-02T18:19:35.234964Z",
     "start_time": "2021-12-02T18:19:35.227984Z"
    }
   },
   "outputs": [],
   "source": [
    "c is b"
   ]
  },
  {
   "cell_type": "code",
   "execution_count": null,
   "metadata": {
    "ExecuteTime": {
     "end_time": "2021-12-02T18:19:35.421466Z",
     "start_time": "2021-12-02T18:19:35.415482Z"
    }
   },
   "outputs": [],
   "source": [
    "tb_veic_2 = tb_veic\n",
    "tb_veic_2 is tb_veic"
   ]
  },
  {
   "cell_type": "code",
   "execution_count": null,
   "metadata": {
    "ExecuteTime": {
     "end_time": "2021-12-02T18:19:35.765548Z",
     "start_time": "2021-12-02T18:19:35.756570Z"
    }
   },
   "outputs": [],
   "source": [
    "tb_veic_2 = tb_veic.copy()\n",
    "tb_veic_2 is tb_veic"
   ]
  },
  {
   "cell_type": "markdown",
   "metadata": {},
   "source": [
    "## Sort Values in a DatFrame"
   ]
  },
  {
   "cell_type": "code",
   "execution_count": null,
   "metadata": {
    "ExecuteTime": {
     "end_time": "2021-12-02T18:19:36.271194Z",
     "start_time": "2021-12-02T18:19:36.238284Z"
    }
   },
   "outputs": [],
   "source": [
    "tb_veic = tb_veic.sort_values('model_year')\n",
    "tb_veic"
   ]
  },
  {
   "cell_type": "code",
   "execution_count": null,
   "metadata": {
    "ExecuteTime": {
     "end_time": "2021-12-02T18:19:36.555436Z",
     "start_time": "2021-12-02T18:19:36.522525Z"
    }
   },
   "outputs": [],
   "source": [
    "tb_veic = tb_veic.sort_values('model_year', ascending = False)\n",
    "tb_veic"
   ]
  },
  {
   "cell_type": "code",
   "execution_count": null,
   "metadata": {
    "ExecuteTime": {
     "end_time": "2021-12-02T18:19:37.654187Z",
     "start_time": "2021-12-02T18:19:37.622243Z"
    }
   },
   "outputs": [],
   "source": [
    "tb_veic = tb_veic.sort_values(['model_year', 'engine_displacement'], ascending = [False, True])\n",
    "tb_veic"
   ]
  },
  {
   "cell_type": "code",
   "execution_count": null,
   "metadata": {
    "ExecuteTime": {
     "end_time": "2021-12-02T18:19:38.155988Z",
     "start_time": "2021-12-02T18:19:38.112121Z"
    }
   },
   "outputs": [],
   "source": [
    "tb_veic = tb_veic.sort_values(['model_year', 'engine_displacement'], ascending = False)\n",
    "tb_veic"
   ]
  },
  {
   "cell_type": "markdown",
   "metadata": {},
   "source": [
    "# Filter records\n",
    ">    - `mask` concept\n",
    ">    - `.query()` method\n",
    "\n",
    "This is really important for data wrangling."
   ]
  },
  {
   "cell_type": "markdown",
   "metadata": {},
   "source": [
    "## Simple Example: Starting with a numpy array. How can I filter the values of a list?"
   ]
  },
  {
   "cell_type": "code",
   "execution_count": 18,
   "metadata": {
    "ExecuteTime": {
     "end_time": "2021-12-02T18:19:39.971236Z",
     "start_time": "2021-12-02T18:19:39.967246Z"
    }
   },
   "outputs": [
    {
     "name": "stdout",
     "output_type": "stream",
     "text": [
      "[1 3 5 7 9]\n"
     ]
    }
   ],
   "source": [
    "meu_array = np.array(range(1,10,2))\n",
    "print(meu_array)"
   ]
  },
  {
   "cell_type": "markdown",
   "metadata": {},
   "source": [
    "The results of `my_array > 5` is what is called **a mask**. A result containing the `True` and `False` results of an operation. "
   ]
  },
  {
   "cell_type": "code",
   "execution_count": 19,
   "metadata": {
    "ExecuteTime": {
     "end_time": "2021-12-02T18:19:40.453248Z",
     "start_time": "2021-12-02T18:19:40.450256Z"
    }
   },
   "outputs": [
    {
     "name": "stdout",
     "output_type": "stream",
     "text": [
      "[False False False  True  True]\n"
     ]
    }
   ],
   "source": [
    "print(meu_array > 5)"
   ]
  },
  {
   "cell_type": "markdown",
   "metadata": {},
   "source": [
    "Masks can be used as an index to select data!"
   ]
  },
  {
   "cell_type": "code",
   "execution_count": 20,
   "metadata": {
    "ExecuteTime": {
     "end_time": "2021-12-02T18:19:41.271225Z",
     "start_time": "2021-12-02T18:19:41.268266Z"
    }
   },
   "outputs": [
    {
     "name": "stdout",
     "output_type": "stream",
     "text": [
      "[7 9]\n"
     ]
    }
   ],
   "source": [
    "print(meu_array[meu_array > 5])"
   ]
  },
  {
   "cell_type": "markdown",
   "metadata": {},
   "source": [
    "After selecting, you can do anything with it, for example assigning it. This operation is called a `vectorial` operation. It is done all at once."
   ]
  },
  {
   "cell_type": "code",
   "execution_count": 21,
   "metadata": {
    "ExecuteTime": {
     "end_time": "2021-12-02T18:19:41.756626Z",
     "start_time": "2021-12-02T18:19:41.751640Z"
    }
   },
   "outputs": [
    {
     "name": "stdout",
     "output_type": "stream",
     "text": [
      "[7 9]\n"
     ]
    }
   ],
   "source": [
    "meu_array_filtrado = meu_array[meu_array > 5]\n",
    "print(meu_array_filtrado)"
   ]
  },
  {
   "cell_type": "markdown",
   "metadata": {},
   "source": [
    "You can also save the condition"
   ]
  },
  {
   "cell_type": "code",
   "execution_count": 22,
   "metadata": {
    "ExecuteTime": {
     "end_time": "2021-12-02T18:19:42.536301Z",
     "start_time": "2021-12-02T18:19:42.532311Z"
    }
   },
   "outputs": [
    {
     "name": "stdout",
     "output_type": "stream",
     "text": [
      "[False False False  True  True]\n"
     ]
    }
   ],
   "source": [
    "# Esse vetor booleano é uma máscara\n",
    "num_gt5 = meu_array > 5\n",
    "print(num_gt5)"
   ]
  },
  {
   "cell_type": "markdown",
   "metadata": {},
   "source": [
    "## Bitwise logical operators - Combining conditions\n",
    "\n",
    "To make more than one condition together, you can use \n",
    "- `&` - analogous to `and`\n",
    "- `|` - analogous to `or` "
   ]
  },
  {
   "cell_type": "markdown",
   "metadata": {},
   "source": [
    "For example, get all numbers from my_array that are greater than 3 and smaller than 8"
   ]
  },
  {
   "cell_type": "markdown",
   "metadata": {},
   "source": [
    "Let's do it in steps:\n",
    "- get values greater than 3"
   ]
  },
  {
   "cell_type": "code",
   "execution_count": 23,
   "metadata": {
    "ExecuteTime": {
     "end_time": "2021-12-02T18:19:44.549110Z",
     "start_time": "2021-12-02T18:19:44.545122Z"
    }
   },
   "outputs": [
    {
     "name": "stdout",
     "output_type": "stream",
     "text": [
      "[1 3 5 7 9]\n",
      "[False False  True  True  True]\n"
     ]
    }
   ],
   "source": [
    "num_gt3 = meu_array > 3\n",
    "print(meu_array)\n",
    "print(num_gt3)"
   ]
  },
  {
   "cell_type": "markdown",
   "metadata": {},
   "source": [
    "- get values smaller than 8"
   ]
  },
  {
   "cell_type": "code",
   "execution_count": 24,
   "metadata": {
    "ExecuteTime": {
     "end_time": "2021-12-02T18:19:45.673210Z",
     "start_time": "2021-12-02T18:19:45.669222Z"
    }
   },
   "outputs": [
    {
     "name": "stdout",
     "output_type": "stream",
     "text": [
      "[1 3 5 7 9]\n",
      "[ True  True  True  True False]\n"
     ]
    }
   ],
   "source": [
    "num_st8 = meu_array < 8\n",
    "print(meu_array)\n",
    "print(num_st8)"
   ]
  },
  {
   "cell_type": "markdown",
   "metadata": {},
   "source": [
    "- get values greater than 3 AND smaller than 8"
   ]
  },
  {
   "cell_type": "code",
   "execution_count": null,
   "metadata": {
    "ExecuteTime": {
     "end_time": "2021-12-02T18:19:46.407349Z",
     "start_time": "2021-12-02T18:19:46.403354Z"
    }
   },
   "outputs": [],
   "source": [
    "num_3a8 = num_st8 & num_gt3\n",
    "print(meu_array)\n",
    "print(num_3a8)"
   ]
  },
  {
   "cell_type": "markdown",
   "metadata": {},
   "source": [
    "- get values greater than 3 OR smaller than 8"
   ]
  },
  {
   "cell_type": "code",
   "execution_count": null,
   "metadata": {
    "ExecuteTime": {
     "end_time": "2021-12-02T18:19:47.203188Z",
     "start_time": "2021-12-02T18:19:47.198204Z"
    }
   },
   "outputs": [],
   "source": [
    "num_3a8 = num_st8 | num_gt3\n",
    "print(meu_array)\n",
    "print(num_3a8)"
   ]
  },
  {
   "cell_type": "markdown",
   "metadata": {},
   "source": [
    "## Now in a DataFrame"
   ]
  },
  {
   "cell_type": "markdown",
   "metadata": {},
   "source": [
    "Let's find the rows in which the Cylinders values are exactly 6."
   ]
  },
  {
   "cell_type": "code",
   "execution_count": null,
   "metadata": {
    "ExecuteTime": {
     "end_time": "2021-12-02T18:19:51.541176Z",
     "start_time": "2021-12-02T18:19:51.527186Z"
    },
    "scrolled": true
   },
   "outputs": [],
   "source": [
    "cyl_6 = tb_veic['cylinders'] == 6\n",
    "print(cyl_6)\n",
    "sum(cyl_6)"
   ]
  },
  {
   "cell_type": "code",
   "execution_count": null,
   "metadata": {
    "ExecuteTime": {
     "end_time": "2021-12-02T18:19:52.481066Z",
     "start_time": "2021-12-02T18:19:52.454110Z"
    }
   },
   "outputs": [],
   "source": [
    "tb_veic_cyl6 = tb_veic[cyl_6] \n",
    "# mais abreviado seria:\n",
    "# tb_veic_cyl6 = tb_veic[tb_veic['cylinders'] == 6]\n",
    "tb_veic_cyl6"
   ]
  },
  {
   "cell_type": "code",
   "execution_count": null,
   "metadata": {
    "ExecuteTime": {
     "end_time": "2021-12-02T18:19:58.280271Z",
     "start_time": "2021-12-02T18:19:58.246386Z"
    }
   },
   "outputs": [],
   "source": [
    "tb_veic_cyl6.describe()"
   ]
  },
  {
   "cell_type": "markdown",
   "metadata": {},
   "source": [
    "### You can combine conditions"
   ]
  },
  {
   "cell_type": "markdown",
   "metadata": {},
   "source": [
    "Cars from `Ford` and 6 `Cylinders`"
   ]
  },
  {
   "cell_type": "code",
   "execution_count": null,
   "metadata": {
    "ExecuteTime": {
     "end_time": "2021-12-02T18:20:01.252366Z",
     "start_time": "2021-12-02T18:20:01.247369Z"
    }
   },
   "outputs": [],
   "source": [
    "print(tb_veic.columns)"
   ]
  },
  {
   "cell_type": "code",
   "execution_count": null,
   "metadata": {
    "ExecuteTime": {
     "end_time": "2021-12-02T18:20:02.021247Z",
     "start_time": "2021-12-02T18:20:02.012270Z"
    }
   },
   "outputs": [],
   "source": [
    "print(tb_veic['make'].unique())"
   ]
  },
  {
   "cell_type": "code",
   "execution_count": null,
   "metadata": {
    "ExecuteTime": {
     "end_time": "2021-12-02T18:20:06.657015Z",
     "start_time": "2021-12-02T18:20:06.625100Z"
    }
   },
   "outputs": [],
   "source": [
    "tb_veic[(tb_veic['make'] == 'Ford') & (tb_veic['cylinders'] == 6)]"
   ]
  },
  {
   "cell_type": "markdown",
   "metadata": {},
   "source": [
    "### Using conditions to create new columns"
   ]
  },
  {
   "cell_type": "code",
   "execution_count": null,
   "metadata": {},
   "outputs": [],
   "source": [
    "tb_veic_2 = tb_veic.copy()"
   ]
  },
  {
   "cell_type": "code",
   "execution_count": null,
   "metadata": {
    "ExecuteTime": {
     "end_time": "2021-12-02T18:20:41.813088Z",
     "start_time": "2021-12-02T18:20:41.781146Z"
    }
   },
   "outputs": [],
   "source": [
    "tb_veic_2.loc[tb_veic['cylinders'] == 6, 'cyl_6'] = True\n",
    "tb_veic_2.loc[tb_veic['cylinders'] != 6, 'cyl_6'] = False\n",
    "tb_veic_2"
   ]
  },
  {
   "cell_type": "code",
   "execution_count": null,
   "metadata": {
    "ExecuteTime": {
     "end_time": "2021-12-02T18:23:04.238090Z",
     "start_time": "2021-12-02T18:23:04.200190Z"
    }
   },
   "outputs": [],
   "source": [
    "tb_veic_2.describe()"
   ]
  },
  {
   "cell_type": "code",
   "execution_count": null,
   "metadata": {
    "ExecuteTime": {
     "end_time": "2021-12-02T18:25:10.331324Z",
     "start_time": "2021-12-02T18:25:10.317375Z"
    }
   },
   "outputs": [],
   "source": [
    "tb_veic_2.loc[tb_veic_2['city_mpg']  < 15, 'eff_city'] = 'C'\n",
    "tb_veic_2.loc[(tb_veic_2['city_mpg']  >= 15) & (tb_veic_2['city_mpg']  < 20), 'eff_city'] = 'B'\n",
    "tb_veic_2.loc[tb_veic_2['city_mpg']  >= 20, 'eff_city'] = 'A'"
   ]
  },
  {
   "cell_type": "code",
   "execution_count": null,
   "metadata": {
    "ExecuteTime": {
     "end_time": "2021-12-02T18:26:25.873190Z",
     "start_time": "2021-12-02T18:26:25.864203Z"
    }
   },
   "outputs": [],
   "source": [
    "tb_veic_2['eff_city'].value_counts()"
   ]
  },
  {
   "cell_type": "code",
   "execution_count": null,
   "metadata": {
    "ExecuteTime": {
     "end_time": "2021-12-02T18:33:48.068340Z",
     "start_time": "2021-12-02T18:33:48.059362Z"
    }
   },
   "outputs": [],
   "source": [
    "p25_citympg = tb_veic_2['city_mpg']  < 15\n",
    "p75_citympg = tb_veic_2['city_mpg']  < 20\n",
    "tb_veic_2.loc[p25_citympg, 'eff_city'] = 'C'\n",
    "tb_veic_2.loc[~p25_citympg & p75_citympg, 'eff_city'] = 'B'\n",
    "tb_veic_2.loc[~p75_citympg, 'eff_city'] = 'A'"
   ]
  },
  {
   "cell_type": "code",
   "execution_count": null,
   "metadata": {
    "ExecuteTime": {
     "end_time": "2021-12-02T18:33:50.952529Z",
     "start_time": "2021-12-02T18:33:50.944548Z"
    }
   },
   "outputs": [],
   "source": [
    "tb_veic_2['eff_city'].value_counts()"
   ]
  },
  {
   "cell_type": "code",
   "execution_count": null,
   "metadata": {
    "ExecuteTime": {
     "end_time": "2021-12-02T17:52:21.167901Z",
     "start_time": "2021-12-02T17:52:21.152932Z"
    }
   },
   "outputs": [],
   "source": [
    "tb_veic['cyl_6'] = np.where(tb_veic['cylinders'] == 6, True, False)\n",
    "print(tb_veic['cyl_6'].describe())\n",
    "sum(tb_veic['cyl_6'])"
   ]
  },
  {
   "cell_type": "code",
   "execution_count": null,
   "metadata": {
    "ExecuteTime": {
     "end_time": "2021-12-02T17:57:39.991898Z",
     "start_time": "2021-12-02T17:57:39.974931Z"
    }
   },
   "outputs": [],
   "source": [
    "tb_veic['cyl_6_ford'] = np.where((tb_veic['make'] == 'Ford') & (tb_veic['cylinders'] == 6),\n",
    "                                 True,\n",
    "                                 False)\n",
    "print(tb_veic['cyl_6_ford'].describe())\n",
    "sum(tb_veic['cyl_6_ford'])"
   ]
  },
  {
   "cell_type": "code",
   "execution_count": null,
   "metadata": {
    "ExecuteTime": {
     "end_time": "2021-12-02T17:59:15.547899Z",
     "start_time": "2021-12-02T17:59:15.540915Z"
    }
   },
   "outputs": [],
   "source": [
    "sum(tb_veic['city_mpg'] > tb_veic['highway_mpg'])"
   ]
  },
  {
   "cell_type": "code",
   "execution_count": null,
   "metadata": {
    "ExecuteTime": {
     "end_time": "2021-12-02T18:08:27.390863Z",
     "start_time": "2021-12-02T18:08:27.378888Z"
    }
   },
   "outputs": [],
   "source": [
    "tb_veic['co2grams_by_gallon'] = np.where(tb_veic['city_mpg'] > tb_veic['highway_mpg'],\n",
    "                               tb_veic['co2_emission_grams_by_mile']/tb_veic['highway_mpg'],\n",
    "                               tb_veic['co2_emission_grams_by_mile']/tb_veic['city_mpg'],\n",
    "                              )\n",
    "print(tb_veic['co2grams_by_gallon'].describe())"
   ]
  },
  {
   "cell_type": "code",
   "execution_count": null,
   "metadata": {
    "ExecuteTime": {
     "end_time": "2021-12-02T18:44:06.354603Z",
     "start_time": "2021-12-02T18:44:06.337649Z"
    }
   },
   "outputs": [],
   "source": [
    "tb_veic['eff_city'] = np.where(tb_veic['city_mpg'] < 15, 'C',\n",
    "                               np.where(tb_veic['city_mpg'] < 20, 'B', 'A'))\n",
    "tb_veic['eff_city'].value_counts()"
   ]
  },
  {
   "cell_type": "markdown",
   "metadata": {},
   "source": [
    "## Another way to do the same thing"
   ]
  },
  {
   "cell_type": "markdown",
   "metadata": {},
   "source": [
    "* using the method `query`\n",
    "\n",
    "The method `query` receives a string in which you can say your condition. Important things:\n",
    "- `.query()` is a method of your dataframe\n",
    "- `.query()` method receives a string \n",
    "- Every word inside the string that is not `quoted` is considered a variable of your dataframe (so, for example `.query('Year == 1999')` will look for the variable `Year`. Another example: if you try to run `.query('Make == Ford')` will look both for the column name `Make` and the column named `Ford`. If you want the results of the column `Make` to match the **string** Ford, you have to run `.query('Make == \"Ford\"')`\n",
    "- If your column has spaces, you have to call it using backticks like in **.query('\\`Engine Displacement\\` < 4')**:"
   ]
  },
  {
   "cell_type": "code",
   "execution_count": null,
   "metadata": {
    "ExecuteTime": {
     "end_time": "2021-12-02T18:45:21.677566Z",
     "start_time": "2021-12-02T18:45:21.645643Z"
    }
   },
   "outputs": [],
   "source": [
    "tb_veic.query('model_year == 2016')"
   ]
  },
  {
   "cell_type": "code",
   "execution_count": null,
   "metadata": {
    "ExecuteTime": {
     "end_time": "2021-12-02T18:49:49.747472Z",
     "start_time": "2021-12-02T18:49:49.707577Z"
    }
   },
   "outputs": [],
   "source": [
    "tb_veic.\\\n",
    "    query('make == \"Ford\"').\\\n",
    "    query('cylinders == 6').\\\n",
    "    query('model_year == 2017')\n"
   ]
  },
  {
   "cell_type": "code",
   "execution_count": null,
   "metadata": {},
   "outputs": [],
   "source": []
  }
 ],
 "metadata": {
  "hide_input": false,
  "kernelspec": {
   "display_name": "Python 3 (ipykernel)",
   "language": "python",
   "name": "python3"
  },
  "language_info": {
   "codemirror_mode": {
    "name": "ipython",
    "version": 3
   },
   "file_extension": ".py",
   "mimetype": "text/x-python",
   "name": "python",
   "nbconvert_exporter": "python",
   "pygments_lexer": "ipython3",
   "version": "3.8.11"
  },
  "toc": {
   "base_numbering": 1,
   "nav_menu": {},
   "number_sections": true,
   "sideBar": true,
   "skip_h1_title": false,
   "title_cell": "Table of Contents",
   "title_sidebar": "Contents",
   "toc_cell": false,
   "toc_position": {},
   "toc_section_display": true,
   "toc_window_display": false
  },
  "toc-autonumbering": true,
  "varInspector": {
   "cols": {
    "lenName": 16,
    "lenType": 16,
    "lenVar": 40
   },
   "kernels_config": {
    "python": {
     "delete_cmd_postfix": "",
     "delete_cmd_prefix": "del ",
     "library": "var_list.py",
     "varRefreshCmd": "print(var_dic_list())"
    },
    "r": {
     "delete_cmd_postfix": ") ",
     "delete_cmd_prefix": "rm(",
     "library": "var_list.r",
     "varRefreshCmd": "cat(var_dic_list()) "
    }
   },
   "types_to_exclude": [
    "module",
    "function",
    "builtin_function_or_method",
    "instance",
    "_Feature"
   ],
   "window_display": false
  }
 },
 "nbformat": 4,
 "nbformat_minor": 4
}
