{
 "cells": [
  {
   "cell_type": "markdown",
   "metadata": {
    "colab_type": "text",
    "id": "YE3unUd1OcTs"
   },
   "source": [
    "![Ironhack logo](https://i.imgur.com/1QgrNNw.png)\n",
    "\n",
    "# Lab | Introduction to Pandas\n",
    "\n",
    "## Introduction\n",
    "\n",
    "In the Introduction to Pandas lesson, we learned about the two main data structures in Pandas (Series and DataFrames), how to work with them, how to obtain them from other data structures, and how to perform basic calculations with them.\n",
    "\n",
    "The goal of this lab is to help you practice the concepts you learned in the lesson and provide you with some hands-on experience working with Pandas.\n",
    "\n",
    "## Getting Started\n",
    "\n",
    "Read the instructions for each cell and provide your answers. Make sure to test your answers in each cell and save. Jupyter Notebook should automatically save your work progress. But it's a good idea to periodically save your work manually just in case.\n",
    "\n",
    "## Resources\n",
    "\n",
    "- [Pandas Documentation](https://pandas.pydata.org/pandas-docs/stable/)\n",
    "- [Intro to Pandas Data Structures](https://pandas.pydata.org/pandas-docs/stable/dsintro.html)\n",
    "- [Descriptive Statistics for Pandas DataFrame](https://chrisalbon.com/python/data_wrangling/pandas_dataframe_descriptive_stats/)"
   ]
  },
  {
   "cell_type": "markdown",
   "metadata": {
    "colab_type": "text",
    "id": "yjGkOvNMOajh"
   },
   "source": [
    "# Introduction to Pandas\n",
    "\n",
    "Complete the following set of exercises to solidify your knowledge of Pandas fundamentals."
   ]
  },
  {
   "cell_type": "markdown",
   "metadata": {
    "colab_type": "text",
    "id": "wBPxNR9QOajj"
   },
   "source": [
    "#### 1. Import Numpy and Pandas and alias them to `np` and `pd` respectively."
   ]
  },
  {
   "cell_type": "code",
   "execution_count": 1,
   "metadata": {
    "colab": {},
    "colab_type": "code",
    "id": "iH3FotJGOajk"
   },
   "outputs": [],
   "source": [
    "# your code here\n",
    "\n",
    "import pandas as pd\n",
    "import numpy as np"
   ]
  },
  {
   "cell_type": "markdown",
   "metadata": {
    "colab_type": "text",
    "id": "Lx1LrDcHOajp"
   },
   "source": [
    "#### 2. Create a Pandas Series containing the elements of the list below.\n",
    "\n",
    "Expected output:\n",
    "\n",
    "````python\n",
    "            0     5.7\n",
    "            1    75.2\n",
    "            2    74.4\n",
    "            3    84.0\n",
    "            4    66.5\n",
    "            5    66.3\n",
    "            6    55.8\n",
    "            7    75.7\n",
    "            8    29.1\n",
    "            9    43.7\n",
    "            dtype: float64\n",
    "    \n",
    "````"
   ]
  },
  {
   "cell_type": "code",
   "execution_count": 2,
   "metadata": {
    "colab": {},
    "colab_type": "code",
    "id": "bx1BubQVOajq"
   },
   "outputs": [],
   "source": [
    "lst = [5.7, 75.2, 74.4, 84.0, 66.5, 66.3, 55.8, 75.7, 29.1, 43.7]"
   ]
  },
  {
   "cell_type": "code",
   "execution_count": 6,
   "metadata": {
    "colab": {},
    "colab_type": "code",
    "id": "jDIb1LZDOaju"
   },
   "outputs": [
    {
     "data": {
      "text/plain": [
       "0     5.7\n",
       "1    75.2\n",
       "2    74.4\n",
       "3    84.0\n",
       "4    66.5\n",
       "5    66.3\n",
       "6    55.8\n",
       "7    75.7\n",
       "8    29.1\n",
       "9    43.7\n",
       "dtype: float64"
      ]
     },
     "execution_count": 6,
     "metadata": {},
     "output_type": "execute_result"
    }
   ],
   "source": [
    "# your code here\n",
    "my_series = pd.Series(lst)\n",
    "my_series"
   ]
  },
  {
   "cell_type": "markdown",
   "metadata": {
    "colab_type": "text",
    "id": "D5asOdE0Oajy"
   },
   "source": [
    "#### 3. Use indexing to return the third value in the Series above.\n",
    "\n",
    "*Hint: Remember that indexing begins at 0.*"
   ]
  },
  {
   "cell_type": "code",
   "execution_count": 7,
   "metadata": {
    "colab": {},
    "colab_type": "code",
    "id": "Nd8JObixOajz"
   },
   "outputs": [
    {
     "data": {
      "text/plain": [
       "74.4"
      ]
     },
     "execution_count": 7,
     "metadata": {},
     "output_type": "execute_result"
    }
   ],
   "source": [
    "# your code here\n",
    "my_series[2]"
   ]
  },
  {
   "cell_type": "markdown",
   "metadata": {
    "colab_type": "text",
    "id": "M06z_OPLOaj3"
   },
   "source": [
    "#### 4. Create a Pandas DataFrame from the list of lists below. Each sublist should be represented as a row.\n",
    "\n",
    "Expected output:\n",
    "\n",
    "|    |    0 |    1 |    2 |    3 |    4 |\n",
    "|---:|-----:|-----:|-----:|-----:|-----:|\n",
    "|  0 | 53.1 | 95   | 67.5 | 35   | 78.4 |\n",
    "|  1 | 61.3 | 40.8 | 30.8 | 37.8 | 87.6 |\n",
    "|  2 | 20.6 | 73.2 | 44.2 | 14.6 | 91.8 |\n",
    "|  3 | 57.4 |  0.1 | 96.1 |  4.2 | 69.5 |\n",
    "|  4 | 83.6 | 20.5 | 85.4 | 22.8 | 35.9 |\n",
    "|  5 | 49   | 69   |  0.1 | 31.8 | 89.1 |\n",
    "|  6 | 23.3 | 40.7 | 95   | 83.8 | 26.9 |\n",
    "|  7 | 27.6 | 26.4 | 53.8 | 88.8 | 68.5 |\n",
    "|  8 | 96.6 | 96.4 | 53.4 | 72.4 | 50.1 |\n",
    "|  9 | 73.7 | 39   | 43.2 | 81.6 | 34.7 |"
   ]
  },
  {
   "cell_type": "code",
   "execution_count": 56,
   "metadata": {
    "colab": {},
    "colab_type": "code",
    "id": "TJ2X7jXvOaj5"
   },
   "outputs": [],
   "source": [
    "b = [[53.1, 95.0, 67.5, 35.0, 78.4],\n",
    "     [61.3, 40.8, 30.8, 37.8, 87.6],\n",
    "     [20.6, 73.2, 44.2, 14.6, 91.8],\n",
    "     [57.4, 0.1, 96.1, 4.2, 69.5],\n",
    "     [83.6, 20.5, 85.4, 22.8, 35.9],\n",
    "     [49.0, 69.0, 0.1, 31.8, 89.1],\n",
    "     [23.3, 40.7, 95.0, 83.8, 26.9],\n",
    "     [27.6, 26.4, 53.8, 88.8, 68.5],\n",
    "     [96.6, 96.4, 53.4, 72.4, 50.1],\n",
    "     [73.7, 39.0, 43.2, 81.6, 34.7]]"
   ]
  },
  {
   "cell_type": "code",
   "execution_count": 60,
   "metadata": {
    "colab": {},
    "colab_type": "code",
    "id": "uAjXmK9VOakA"
   },
   "outputs": [
    {
     "name": "stdout",
     "output_type": "stream",
     "text": [
      "{0: [53.1, 95.0, 67.5, 35.0, 78.4], 1: [61.3, 40.8, 30.8, 37.8, 87.6], 2: [20.6, 73.2, 44.2, 14.6, 91.8], 3: [57.4, 0.1, 96.1, 4.2, 69.5], 4: [83.6, 20.5, 85.4, 22.8, 35.9], 5: [49.0, 69.0, 0.1, 31.8, 89.1], 6: [23.3, 40.7, 95.0, 83.8, 26.9], 7: [27.6, 26.4, 53.8, 88.8, 68.5], 8: [96.6, 96.4, 53.4, 72.4, 50.1], 9: [73.7, 39.0, 43.2, 81.6, 34.7]}\n",
      "      0     1     2     3     4\n",
      "0  53.1  95.0  67.5  35.0  78.4\n",
      "1  61.3  40.8  30.8  37.8  87.6\n",
      "2  20.6  73.2  44.2  14.6  91.8\n",
      "3  57.4   0.1  96.1   4.2  69.5\n",
      "4  83.6  20.5  85.4  22.8  35.9\n",
      "5  49.0  69.0   0.1  31.8  89.1\n",
      "6  23.3  40.7  95.0  83.8  26.9\n",
      "7  27.6  26.4  53.8  88.8  68.5\n",
      "8  96.6  96.4  53.4  72.4  50.1\n",
      "9  73.7  39.0  43.2  81.6  34.7\n"
     ]
    }
   ],
   "source": [
    "my_dict = dict()\n",
    "\n",
    "for i in range(len(b)):\n",
    "    my_dict[i] = b[i]\n",
    "\n",
    "print(my_dict)\n",
    "\n",
    "my_DataFrame = pd.DataFrame(my_dict).transpose()\n",
    "\n",
    "print(my_DataFrame)"
   ]
  },
  {
   "cell_type": "markdown",
   "metadata": {
    "colab_type": "text",
    "id": "unMpXDeYOakG"
   },
   "source": [
    "#### 5. Rename the data frame columns based on the names in the list below.\n",
    "\n",
    "Expected output:\n",
    "\n",
    "|    |   Score_1 |   Score_2 |   Score_3 |   Score_4 |   Score_5 |\n",
    "|---:|----------:|----------:|----------:|----------:|----------:|\n",
    "|  0 |      53.1 |      95   |      67.5 |      35   |      78.4 |\n",
    "|  1 |      61.3 |      40.8 |      30.8 |      37.8 |      87.6 |\n",
    "|  2 |      20.6 |      73.2 |      44.2 |      14.6 |      91.8 |\n",
    "|  3 |      57.4 |       0.1 |      96.1 |       4.2 |      69.5 |\n",
    "|  4 |      83.6 |      20.5 |      85.4 |      22.8 |      35.9 |\n",
    "|  5 |      49   |      69   |       0.1 |      31.8 |      89.1 |\n",
    "|  6 |      23.3 |      40.7 |      95   |      83.8 |      26.9 |\n",
    "|  7 |      27.6 |      26.4 |      53.8 |      88.8 |      68.5 |\n",
    "|  8 |      96.6 |      96.4 |      53.4 |      72.4 |      50.1 |\n",
    "|  9 |      73.7 |      39   |      43.2 |      81.6 |      34.7 |"
   ]
  },
  {
   "cell_type": "code",
   "execution_count": 30,
   "metadata": {
    "colab": {},
    "colab_type": "code",
    "id": "CR6Od3jCOakH"
   },
   "outputs": [],
   "source": [
    "colnames = ['Score_1', 'Score_2', 'Score_3', 'Score_4', 'Score_5']\n"
   ]
  },
  {
   "cell_type": "code",
   "execution_count": 31,
   "metadata": {
    "colab": {},
    "colab_type": "code",
    "id": "4IGnjLB_OakL"
   },
   "outputs": [
    {
     "name": "stdout",
     "output_type": "stream",
     "text": [
      "   Score_1  Score_2  Score_3  Score_4  Score_5\n",
      "0     53.1     95.0     67.5     35.0     78.4\n",
      "1     61.3     40.8     30.8     37.8     87.6\n",
      "2     20.6     73.2     44.2     14.6     91.8\n",
      "3     57.4      0.1     96.1      4.2     69.5\n",
      "4     83.6     20.5     85.4     22.8     35.9\n",
      "5     49.0     69.0      0.1     31.8     89.1\n",
      "6     23.3     40.7     95.0     83.8     26.9\n",
      "7     27.6     26.4     53.8     88.8     68.5\n",
      "8     96.6     96.4     53.4     72.4     50.1\n",
      "9     73.7     39.0     43.2     81.6     34.7\n"
     ]
    }
   ],
   "source": [
    "#my_DataFrame.rename(columns=colnames)\n",
    "my_DataFrame.columns=colnames\n",
    "print(my_DataFrame)"
   ]
  },
  {
   "cell_type": "markdown",
   "metadata": {
    "colab_type": "text",
    "id": "BSSlC9sHOakQ"
   },
   "source": [
    "#### 6. Create a subset of this data frame that contains only the Score 1, 3, and 5 columns.\n",
    "\n",
    "Expected output:\n",
    "\n",
    "|    |   Score_1 |   Score_3 |   Score_5 |\n",
    "|---:|----------:|----------:|----------:|\n",
    "|  0 |      53.1 |      67.5 |      78.4 |\n",
    "|  1 |      61.3 |      30.8 |      87.6 |\n",
    "|  2 |      20.6 |      44.2 |      91.8 |\n",
    "|  3 |      57.4 |      96.1 |      69.5 |\n",
    "|  4 |      83.6 |      85.4 |      35.9 |\n",
    "|  5 |      49   |       0.1 |      89.1 |\n",
    "|  6 |      23.3 |      95   |      26.9 |\n",
    "|  7 |      27.6 |      53.8 |      68.5 |\n",
    "|  8 |      96.6 |      53.4 |      50.1 |\n",
    "|  9 |      73.7 |      43.2 |      34.7 |"
   ]
  },
  {
   "cell_type": "code",
   "execution_count": 34,
   "metadata": {
    "colab": {},
    "colab_type": "code",
    "id": "vAyr7_cpOakR"
   },
   "outputs": [
    {
     "data": {
      "text/html": [
       "<div>\n",
       "<style scoped>\n",
       "    .dataframe tbody tr th:only-of-type {\n",
       "        vertical-align: middle;\n",
       "    }\n",
       "\n",
       "    .dataframe tbody tr th {\n",
       "        vertical-align: top;\n",
       "    }\n",
       "\n",
       "    .dataframe thead th {\n",
       "        text-align: right;\n",
       "    }\n",
       "</style>\n",
       "<table border=\"1\" class=\"dataframe\">\n",
       "  <thead>\n",
       "    <tr style=\"text-align: right;\">\n",
       "      <th></th>\n",
       "      <th>Score_1</th>\n",
       "      <th>Score_3</th>\n",
       "      <th>Score_5</th>\n",
       "    </tr>\n",
       "  </thead>\n",
       "  <tbody>\n",
       "    <tr>\n",
       "      <th>0</th>\n",
       "      <td>53.1</td>\n",
       "      <td>67.5</td>\n",
       "      <td>78.4</td>\n",
       "    </tr>\n",
       "    <tr>\n",
       "      <th>1</th>\n",
       "      <td>61.3</td>\n",
       "      <td>30.8</td>\n",
       "      <td>87.6</td>\n",
       "    </tr>\n",
       "    <tr>\n",
       "      <th>2</th>\n",
       "      <td>20.6</td>\n",
       "      <td>44.2</td>\n",
       "      <td>91.8</td>\n",
       "    </tr>\n",
       "    <tr>\n",
       "      <th>3</th>\n",
       "      <td>57.4</td>\n",
       "      <td>96.1</td>\n",
       "      <td>69.5</td>\n",
       "    </tr>\n",
       "    <tr>\n",
       "      <th>4</th>\n",
       "      <td>83.6</td>\n",
       "      <td>85.4</td>\n",
       "      <td>35.9</td>\n",
       "    </tr>\n",
       "    <tr>\n",
       "      <th>5</th>\n",
       "      <td>49.0</td>\n",
       "      <td>0.1</td>\n",
       "      <td>89.1</td>\n",
       "    </tr>\n",
       "    <tr>\n",
       "      <th>6</th>\n",
       "      <td>23.3</td>\n",
       "      <td>95.0</td>\n",
       "      <td>26.9</td>\n",
       "    </tr>\n",
       "    <tr>\n",
       "      <th>7</th>\n",
       "      <td>27.6</td>\n",
       "      <td>53.8</td>\n",
       "      <td>68.5</td>\n",
       "    </tr>\n",
       "    <tr>\n",
       "      <th>8</th>\n",
       "      <td>96.6</td>\n",
       "      <td>53.4</td>\n",
       "      <td>50.1</td>\n",
       "    </tr>\n",
       "    <tr>\n",
       "      <th>9</th>\n",
       "      <td>73.7</td>\n",
       "      <td>43.2</td>\n",
       "      <td>34.7</td>\n",
       "    </tr>\n",
       "  </tbody>\n",
       "</table>\n",
       "</div>"
      ],
      "text/plain": [
       "   Score_1  Score_3  Score_5\n",
       "0     53.1     67.5     78.4\n",
       "1     61.3     30.8     87.6\n",
       "2     20.6     44.2     91.8\n",
       "3     57.4     96.1     69.5\n",
       "4     83.6     85.4     35.9\n",
       "5     49.0      0.1     89.1\n",
       "6     23.3     95.0     26.9\n",
       "7     27.6     53.8     68.5\n",
       "8     96.6     53.4     50.1\n",
       "9     73.7     43.2     34.7"
      ]
     },
     "execution_count": 34,
     "metadata": {},
     "output_type": "execute_result"
    }
   ],
   "source": [
    "my_DataFrame.iloc[:,[0,2,4]]"
   ]
  },
  {
   "cell_type": "markdown",
   "metadata": {
    "colab_type": "text",
    "id": "miFKTP45OakV"
   },
   "source": [
    "#### 7. From the original data frame, calculate the average Score_3 value.\n",
    "\n",
    "Expected output:\n",
    "\n",
    "````python\n",
    "            56.95\n",
    "````"
   ]
  },
  {
   "cell_type": "code",
   "execution_count": 40,
   "metadata": {
    "colab": {},
    "colab_type": "code",
    "id": "MtfW8kfjOakW"
   },
   "outputs": [
    {
     "data": {
      "text/plain": [
       "56.95000000000001"
      ]
     },
     "execution_count": 40,
     "metadata": {},
     "output_type": "execute_result"
    }
   ],
   "source": [
    "my_DataFrame.iloc[:,2].mean()"
   ]
  },
  {
   "cell_type": "markdown",
   "metadata": {
    "colab_type": "text",
    "id": "6_0HFCAMOakb"
   },
   "source": [
    "#### 8. From the original data frame, calculate the maximum Score_4 value.\n",
    "\n",
    "Expected output:\n",
    "\n",
    "````python\n",
    "            88.8\n",
    "````"
   ]
  },
  {
   "cell_type": "code",
   "execution_count": 41,
   "metadata": {
    "colab": {},
    "colab_type": "code",
    "id": "nafpPRIaOakc"
   },
   "outputs": [
    {
     "data": {
      "text/plain": [
       "88.8"
      ]
     },
     "execution_count": 41,
     "metadata": {},
     "output_type": "execute_result"
    }
   ],
   "source": [
    "my_DataFrame.iloc[:,3].max()"
   ]
  },
  {
   "cell_type": "markdown",
   "metadata": {
    "colab_type": "text",
    "id": "hEBEuc8NOakg"
   },
   "source": [
    "#### 9. From the original data frame, calculate the median Score 2 value.\n",
    "\n",
    "Expected output:\n",
    "\n",
    "````python\n",
    "            40.75\n",
    "````"
   ]
  },
  {
   "cell_type": "code",
   "execution_count": 42,
   "metadata": {
    "colab": {},
    "colab_type": "code",
    "id": "zn1IpKxuOakh"
   },
   "outputs": [
    {
     "data": {
      "text/plain": [
       "40.75"
      ]
     },
     "execution_count": 42,
     "metadata": {},
     "output_type": "execute_result"
    }
   ],
   "source": [
    "my_DataFrame.iloc[:,1].median()"
   ]
  },
  {
   "cell_type": "markdown",
   "metadata": {
    "colab_type": "text",
    "id": "LxoUIsIBOakl"
   },
   "source": [
    "#### 10. Create a Pandas DataFrame from the dictionary of product orders below.\n",
    "\n",
    "Expected output:\n",
    "\n",
    "|    | Description                       |   Quantity |   UnitPrice |   Revenue |\n",
    "|---:|:----------------------------------|-----------:|------------:|----------:|\n",
    "|  0 | LUNCH BAG APPLE DESIGN            |          1 |        1.65 |      1.65 |\n",
    "|  1 | SET OF 60 VINTAGE LEAF CAKE CASES |         24 |        0.55 |     13.2  |\n",
    "|  2 | RIBBON REEL STRIPES DESIGN        |          1 |        1.65 |      1.65 |\n",
    "|  3 | WORLD WAR 2 GLIDERS ASSTD DESIGNS |       2880 |        0.18 |    518.4  |\n",
    "|  4 | PLAYING CARDS JUBILEE UNION JACK  |          2 |        1.25 |      2.5  |\n",
    "|  5 | POPCORN HOLDER                    |          7 |        0.85 |      5.95 |\n",
    "|  6 | BOX OF VINTAGE ALPHABET BLOCKS    |          1 |       11.95 |     11.95 |\n",
    "|  7 | PARTY BUNTING                     |          4 |        4.95 |     19.8  |\n",
    "|  8 | JAZZ HEARTS ADDRESS BOOK          |         10 |        0.19 |      1.9  |\n",
    "|  9 | SET OF 4 SANTA PLACE SETTINGS     |         48 |        1.25 |     60    |"
   ]
  },
  {
   "cell_type": "code",
   "execution_count": 44,
   "metadata": {
    "colab": {},
    "colab_type": "code",
    "id": "-w5XVN-aOakl"
   },
   "outputs": [],
   "source": [
    "orders = {'Description': ['LUNCH BAG APPLE DESIGN',\n",
    "  'SET OF 60 VINTAGE LEAF CAKE CASES ',\n",
    "  'RIBBON REEL STRIPES DESIGN ',\n",
    "  'WORLD WAR 2 GLIDERS ASSTD DESIGNS',\n",
    "  'PLAYING CARDS JUBILEE UNION JACK',\n",
    "  'POPCORN HOLDER',\n",
    "  'BOX OF VINTAGE ALPHABET BLOCKS',\n",
    "  'PARTY BUNTING',\n",
    "  'JAZZ HEARTS ADDRESS BOOK',\n",
    "  'SET OF 4 SANTA PLACE SETTINGS'],\n",
    " 'Quantity': [1, 24, 1, 2880, 2, 7, 1, 4, 10, 48],\n",
    " 'UnitPrice': [1.65, 0.55, 1.65, 0.18, 1.25, 0.85, 11.95, 4.95, 0.19, 1.25],\n",
    " 'Revenue': [1.65, 13.2, 1.65, 518.4, 2.5, 5.95, 11.95, 19.8, 1.9, 60.0]}"
   ]
  },
  {
   "cell_type": "code",
   "execution_count": 45,
   "metadata": {
    "colab": {},
    "colab_type": "code",
    "id": "EBy90Me3Oakp"
   },
   "outputs": [
    {
     "data": {
      "text/html": [
       "<div>\n",
       "<style scoped>\n",
       "    .dataframe tbody tr th:only-of-type {\n",
       "        vertical-align: middle;\n",
       "    }\n",
       "\n",
       "    .dataframe tbody tr th {\n",
       "        vertical-align: top;\n",
       "    }\n",
       "\n",
       "    .dataframe thead th {\n",
       "        text-align: right;\n",
       "    }\n",
       "</style>\n",
       "<table border=\"1\" class=\"dataframe\">\n",
       "  <thead>\n",
       "    <tr style=\"text-align: right;\">\n",
       "      <th></th>\n",
       "      <th>Description</th>\n",
       "      <th>Quantity</th>\n",
       "      <th>UnitPrice</th>\n",
       "      <th>Revenue</th>\n",
       "    </tr>\n",
       "  </thead>\n",
       "  <tbody>\n",
       "    <tr>\n",
       "      <th>0</th>\n",
       "      <td>LUNCH BAG APPLE DESIGN</td>\n",
       "      <td>1</td>\n",
       "      <td>1.65</td>\n",
       "      <td>1.65</td>\n",
       "    </tr>\n",
       "    <tr>\n",
       "      <th>1</th>\n",
       "      <td>SET OF 60 VINTAGE LEAF CAKE CASES</td>\n",
       "      <td>24</td>\n",
       "      <td>0.55</td>\n",
       "      <td>13.20</td>\n",
       "    </tr>\n",
       "    <tr>\n",
       "      <th>2</th>\n",
       "      <td>RIBBON REEL STRIPES DESIGN</td>\n",
       "      <td>1</td>\n",
       "      <td>1.65</td>\n",
       "      <td>1.65</td>\n",
       "    </tr>\n",
       "    <tr>\n",
       "      <th>3</th>\n",
       "      <td>WORLD WAR 2 GLIDERS ASSTD DESIGNS</td>\n",
       "      <td>2880</td>\n",
       "      <td>0.18</td>\n",
       "      <td>518.40</td>\n",
       "    </tr>\n",
       "    <tr>\n",
       "      <th>4</th>\n",
       "      <td>PLAYING CARDS JUBILEE UNION JACK</td>\n",
       "      <td>2</td>\n",
       "      <td>1.25</td>\n",
       "      <td>2.50</td>\n",
       "    </tr>\n",
       "    <tr>\n",
       "      <th>5</th>\n",
       "      <td>POPCORN HOLDER</td>\n",
       "      <td>7</td>\n",
       "      <td>0.85</td>\n",
       "      <td>5.95</td>\n",
       "    </tr>\n",
       "    <tr>\n",
       "      <th>6</th>\n",
       "      <td>BOX OF VINTAGE ALPHABET BLOCKS</td>\n",
       "      <td>1</td>\n",
       "      <td>11.95</td>\n",
       "      <td>11.95</td>\n",
       "    </tr>\n",
       "    <tr>\n",
       "      <th>7</th>\n",
       "      <td>PARTY BUNTING</td>\n",
       "      <td>4</td>\n",
       "      <td>4.95</td>\n",
       "      <td>19.80</td>\n",
       "    </tr>\n",
       "    <tr>\n",
       "      <th>8</th>\n",
       "      <td>JAZZ HEARTS ADDRESS BOOK</td>\n",
       "      <td>10</td>\n",
       "      <td>0.19</td>\n",
       "      <td>1.90</td>\n",
       "    </tr>\n",
       "    <tr>\n",
       "      <th>9</th>\n",
       "      <td>SET OF 4 SANTA PLACE SETTINGS</td>\n",
       "      <td>48</td>\n",
       "      <td>1.25</td>\n",
       "      <td>60.00</td>\n",
       "    </tr>\n",
       "  </tbody>\n",
       "</table>\n",
       "</div>"
      ],
      "text/plain": [
       "                          Description  Quantity  UnitPrice  Revenue\n",
       "0              LUNCH BAG APPLE DESIGN         1       1.65     1.65\n",
       "1  SET OF 60 VINTAGE LEAF CAKE CASES         24       0.55    13.20\n",
       "2         RIBBON REEL STRIPES DESIGN          1       1.65     1.65\n",
       "3   WORLD WAR 2 GLIDERS ASSTD DESIGNS      2880       0.18   518.40\n",
       "4    PLAYING CARDS JUBILEE UNION JACK         2       1.25     2.50\n",
       "5                      POPCORN HOLDER         7       0.85     5.95\n",
       "6      BOX OF VINTAGE ALPHABET BLOCKS         1      11.95    11.95\n",
       "7                       PARTY BUNTING         4       4.95    19.80\n",
       "8            JAZZ HEARTS ADDRESS BOOK        10       0.19     1.90\n",
       "9       SET OF 4 SANTA PLACE SETTINGS        48       1.25    60.00"
      ]
     },
     "execution_count": 45,
     "metadata": {},
     "output_type": "execute_result"
    }
   ],
   "source": [
    "orders_DataFrame = pd.DataFrame(orders)\n",
    "orders_DataFrame"
   ]
  },
  {
   "cell_type": "markdown",
   "metadata": {
    "colab_type": "text",
    "id": "9ssXX6XPOakt"
   },
   "source": [
    "#### 11. Calculate the total quantity ordered and revenue generated from these orders.\n",
    "\n",
    "Expected output:\n",
    "\n",
    "````python\n",
    "            Quantity    2978.0\n",
    "            Revenue      637.0\n",
    "````"
   ]
  },
  {
   "cell_type": "code",
   "execution_count": 52,
   "metadata": {
    "colab": {},
    "colab_type": "code",
    "id": "YitrlNafOaku"
   },
   "outputs": [
    {
     "data": {
      "text/plain": [
       "Quantity    2978.0\n",
       "Revenue      637.0\n",
       "dtype: float64"
      ]
     },
     "execution_count": 52,
     "metadata": {},
     "output_type": "execute_result"
    }
   ],
   "source": [
    "orders_DataFrame.iloc[:,[1,3]].sum()"
   ]
  },
  {
   "cell_type": "markdown",
   "metadata": {
    "colab_type": "text",
    "id": "GlSWl9TZOakz"
   },
   "source": [
    "#### 12. Obtain the prices of the most expensive and least expensive items ordered and print the difference.\n",
    "Expected output:\n",
    "\n",
    "````python\n",
    "            Most expensive:  11.95\n",
    "            Least expensive:  0.18\n",
    "            Difference:  11.77\n",
    "````"
   ]
  },
  {
   "cell_type": "code",
   "execution_count": 54,
   "metadata": {
    "colab": {},
    "colab_type": "code",
    "id": "c1r8EZT6Oak0"
   },
   "outputs": [
    {
     "name": "stdout",
     "output_type": "stream",
     "text": [
      "Max: 11.95\n",
      "Min: 0.18\n",
      "Difference: 11.77\n"
     ]
    }
   ],
   "source": [
    "print('Max:',orders_DataFrame.iloc[:,2].max())\n",
    "\n",
    "print('Min:',orders_DataFrame.iloc[:,2].min())\n",
    "\n",
    "print('Difference:',orders_DataFrame.iloc[:,2].max()-orders_DataFrame.iloc[:,2].min())"
   ]
  },
  {
   "cell_type": "markdown",
   "metadata": {
    "colab_type": "text",
    "id": "RweZ9QLBOak3"
   },
   "source": [
    "# BONUS"
   ]
  },
  {
   "cell_type": "markdown",
   "metadata": {
    "colab_type": "text",
    "id": "1w9-ZnH6Oak4"
   },
   "source": [
    "#### 1 Create a random dataframe containing 3 columns and 10 rows. \n",
    "\n",
    "*Hint: You'll have to use a `numpy.random` method to create random observations*\n",
    "\n",
    "**Example of output:**\n",
    "\n",
    "|    |         0 |        1 |        2 |\n",
    "|---:|----------:|---------:|---------:|\n",
    "|  0 | 0.0883504 | 0.867054 | 0.977949 |\n",
    "|  1 | 0.819555  | 0.643927 | 0.122975 |\n",
    "|  2 | 0.484618  | 0.515125 | 0.807791 |\n",
    "|  3 | 0.539583  | 0.620799 | 0.926963 |\n",
    "|  4 | 0.0479896 | 0.772282 | 0.621921 |\n",
    "|  5 | 0.1398    | 0.767678 | 0.678816 |\n",
    "|  6 | 0.0895157 | 0.242867 | 0.887941 |\n",
    "|  7 | 0.160186  | 0.750576 | 0.439416 |\n",
    "|  8 | 0.982747  | 0.652903 | 0.575518 |\n",
    "|  9 | 0.646373  | 0.523237 | 0.700222 |"
   ]
  },
  {
   "cell_type": "code",
   "execution_count": 64,
   "metadata": {
    "colab": {},
    "colab_type": "code",
    "id": "ucxwFx9TOak5"
   },
   "outputs": [
    {
     "name": "stdout",
     "output_type": "stream",
     "text": [
      "          0         1         2\n",
      "0  0.672315  0.037751  0.827251\n",
      "1  0.791580  0.370178  0.862961\n",
      "2  0.147831  0.225389  0.770834\n",
      "3  0.999347  0.478254  0.621466\n",
      "4  0.171167  0.740563  0.040036\n",
      "5  0.098328  0.780894  0.749767\n",
      "6  0.854579  0.357789  0.160641\n",
      "7  0.714425  0.560977  0.303406\n",
      "8  0.251251  0.507354  0.739962\n",
      "9  0.421638  0.402987  0.293725\n"
     ]
    }
   ],
   "source": [
    "random_dict = dict()\n",
    "\n",
    "for i in range(3):\n",
    "    random_dict[i] = list()\n",
    "    for j in range(10):\n",
    "        random_dict[i].append(np.random.random())  \n",
    "    \n",
    "random_DataFrame = pd.DataFrame(random_dict)\n",
    "print(random_DataFrame)"
   ]
  },
  {
   "cell_type": "markdown",
   "metadata": {
    "colab_type": "text",
    "id": "clFAoNoYOak8"
   },
   "source": [
    "#### 2 Create a random dataframe containing 3 columns and 10 rows with specific column names. \n",
    "\n",
    "Use `['column1', 'column2', 'column3']` as the column names.\n",
    "\n",
    "**Example of output:**\n",
    "\n",
    "|    |   column1 |   column2 |   column3 |\n",
    "|---:|----------:|----------:|----------:|\n",
    "|  0 |        10 |        21 |        45 |\n",
    "|  1 |        32 |        87 |        39 |\n",
    "|  2 |        93 |        53 |         8 |\n",
    "|  3 |        52 |        77 |        41 |\n",
    "|  4 |        72 |        50 |        31 |\n",
    "|  5 |        16 |         6 |        41 |\n",
    "|  6 |        66 |        33 |        62 |\n",
    "|  7 |        97 |        50 |        92 |\n",
    "|  8 |        21 |        71 |        42 |\n",
    "|  9 |        91 |        97 |        32 |"
   ]
  },
  {
   "cell_type": "code",
   "execution_count": 65,
   "metadata": {
    "colab": {},
    "colab_type": "code",
    "id": "4VaCdj95Oak9"
   },
   "outputs": [
    {
     "name": "stdout",
     "output_type": "stream",
     "text": [
      "    column1   column2   column3\n",
      "0  0.672315  0.037751  0.827251\n",
      "1  0.791580  0.370178  0.862961\n",
      "2  0.147831  0.225389  0.770834\n",
      "3  0.999347  0.478254  0.621466\n",
      "4  0.171167  0.740563  0.040036\n",
      "5  0.098328  0.780894  0.749767\n",
      "6  0.854579  0.357789  0.160641\n",
      "7  0.714425  0.560977  0.303406\n",
      "8  0.251251  0.507354  0.739962\n",
      "9  0.421638  0.402987  0.293725\n"
     ]
    }
   ],
   "source": [
    "random_DataFrame.columns = ['column1', 'column2', 'column3']\n",
    "print(random_DataFrame)"
   ]
  },
  {
   "cell_type": "markdown",
   "metadata": {
    "colab_type": "text",
    "id": "t7SMOQNkOalA"
   },
   "source": [
    "#### 3 Create a random dataframe containing N columns and M rows with specific column names.\n",
    "\n",
    "For this task you'll have to name the columns as `['column1', 'column2', 'column3', ...,'columnN']`. You can use a list comprehension to do that."
   ]
  },
  {
   "cell_type": "code",
   "execution_count": 68,
   "metadata": {
    "colab": {},
    "colab_type": "code",
    "id": "y6o68u5HOalB"
   },
   "outputs": [
    {
     "name": "stdout",
     "output_type": "stream",
     "text": [
      "    column_0  column_1  column_2  column_3  column_4  column_5  column_6  \\\n",
      "0   0.935500  0.171833  0.475216  0.746308  0.975933  0.992570  0.262792   \n",
      "1   0.019330  0.360736  0.156581  0.006263  0.207716  0.112092  0.985294   \n",
      "2   0.015196  0.811122  0.095113  0.980372  0.513916  0.222622  0.781163   \n",
      "3   0.752141  0.895088  0.479423  0.559181  0.591096  0.061707  0.589826   \n",
      "4   0.119325  0.077002  0.736704  0.033812  0.795079  0.141227  0.840324   \n",
      "5   0.123207  0.752783  0.150309  0.605576  0.642894  0.731886  0.621082   \n",
      "6   0.485607  0.633166  0.042500  0.465524  0.463495  0.745922  0.947452   \n",
      "7   0.976669  0.958578  0.688504  0.598455  0.484795  0.701253  0.463752   \n",
      "8   0.516470  0.503916  0.351587  0.738339  0.073301  0.402768  0.532662   \n",
      "9   0.369385  0.598713  0.890944  0.841043  0.655841  0.319072  0.314373   \n",
      "10  0.458333  0.431472  0.870884  0.577132  0.428119  0.294179  0.630707   \n",
      "11  0.226852  0.837838  0.715165  0.314912  0.438729  0.775581  0.571101   \n",
      "12  0.993931  0.898567  0.717453  0.292853  0.158865  0.560348  0.417780   \n",
      "13  0.058351  0.121092  0.816116  0.252783  0.103184  0.664296  0.459545   \n",
      "14  0.847621  0.329360  0.033618  0.841860  0.243665  0.528867  0.013814   \n",
      "15  0.608062  0.559058  0.414898  0.529747  0.918366  0.374891  0.483468   \n",
      "16  0.137410  0.230129  0.246291  0.854106  0.850259  0.668893  0.847204   \n",
      "17  0.580749  0.646537  0.626960  0.224574  0.151351  0.807600  0.661352   \n",
      "18  0.046997  0.071777  0.276380  0.850678  0.318857  0.216275  0.411439   \n",
      "19  0.745202  0.801110  0.017294  0.224071  0.850558  0.452841  0.614708   \n",
      "20  0.418023  0.784679  0.840438  0.892918  0.840374  0.567475  0.179989   \n",
      "21  0.767764  0.105696  0.004032  0.350857  0.463653  0.547616  0.647881   \n",
      "22  0.314762  0.933924  0.573717  0.095559  0.553459  0.970217  0.684773   \n",
      "23  0.689673  0.872015  0.819622  0.001730  0.658032  0.264599  0.636673   \n",
      "24  0.782498  0.775195  0.882427  0.173944  0.538585  0.941728  0.531707   \n",
      "25  0.111644  0.616331  0.728067  0.699846  0.691324  0.329399  0.358661   \n",
      "26  0.368881  0.235247  0.096524  0.020485  0.362055  0.887986  0.002386   \n",
      "27  0.344732  0.185709  0.266192  0.810179  0.121128  0.926833  0.907925   \n",
      "28  0.191030  0.074857  0.601066  0.062003  0.826564  0.847702  0.402759   \n",
      "29  0.586155  0.544979  0.627595  0.452560  0.750653  0.711621  0.993852   \n",
      "\n",
      "    column_7  column_8  column_9  \n",
      "0   0.151674  0.638679  0.484586  \n",
      "1   0.828368  0.245194  0.760570  \n",
      "2   0.547330  0.729738  0.196528  \n",
      "3   0.089829  0.633626  0.541807  \n",
      "4   0.544572  0.322766  0.496588  \n",
      "5   0.299433  0.468039  0.544140  \n",
      "6   0.253314  0.078850  0.343154  \n",
      "7   0.711960  0.471432  0.658646  \n",
      "8   0.955383  0.104947  0.204503  \n",
      "9   0.712429  0.273766  0.325479  \n",
      "10  0.083426  0.922755  0.062214  \n",
      "11  0.482933  0.627748  0.365408  \n",
      "12  0.777298  0.225303  0.225631  \n",
      "13  0.200489  0.867559  0.867955  \n",
      "14  0.306905  0.898969  0.567784  \n",
      "15  0.702899  0.021310  0.842959  \n",
      "16  0.257392  0.294870  0.271998  \n",
      "17  0.214883  0.362070  0.489997  \n",
      "18  0.375062  0.263006  0.064156  \n",
      "19  0.461875  0.710382  0.003941  \n",
      "20  0.519241  0.343387  0.487628  \n",
      "21  0.631675  0.675768  0.188302  \n",
      "22  0.113152  0.438288  0.953054  \n",
      "23  0.850131  0.424585  0.904297  \n",
      "24  0.458039  0.670062  0.228828  \n",
      "25  0.959920  0.439787  0.764300  \n",
      "26  0.707751  0.383877  0.852690  \n",
      "27  0.136278  0.406306  0.413114  \n",
      "28  0.499554  0.138505  0.673611  \n",
      "29  0.653974  0.962365  0.650535  \n"
     ]
    }
   ],
   "source": [
    "N = 10\n",
    "M = 30\n",
    "\n",
    "random_dict = dict()\n",
    "\n",
    "for i in range(N):\n",
    "    random_dict[i] = list()\n",
    "    for j in range(M):\n",
    "        random_dict[i].append(np.random.random())  \n",
    "    \n",
    "random_DataFrame = pd.DataFrame(random_dict)\n",
    "\n",
    "nome_colunas = list()\n",
    "for i in range(N):\n",
    "    nome_colunas.append('column_'+str(i))\n",
    "\n",
    "random_DataFrame.columns = nome_colunas\n",
    "    \n",
    "print(random_DataFrame)"
   ]
  }
 ],
 "metadata": {
  "colab": {
   "collapsed_sections": [],
   "name": "main.ipynb",
   "provenance": []
  },
  "kernelspec": {
   "display_name": "Python 3 (ipykernel)",
   "language": "python",
   "name": "python3"
  },
  "language_info": {
   "codemirror_mode": {
    "name": "ipython",
    "version": 3
   },
   "file_extension": ".py",
   "mimetype": "text/x-python",
   "name": "python",
   "nbconvert_exporter": "python",
   "pygments_lexer": "ipython3",
   "version": "3.8.11"
  }
 },
 "nbformat": 4,
 "nbformat_minor": 1
}
