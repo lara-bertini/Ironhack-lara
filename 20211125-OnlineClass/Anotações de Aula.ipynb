{
 "cells": [
  {
   "cell_type": "markdown",
   "id": "a03c634c",
   "metadata": {},
   "source": [
    "## Classes e Objetos"
   ]
  },
  {
   "cell_type": "code",
   "execution_count": 1,
   "id": "959d0dad",
   "metadata": {},
   "outputs": [
    {
     "data": {
      "text/plain": [
       "type"
      ]
     },
     "execution_count": 1,
     "metadata": {},
     "output_type": "execute_result"
    }
   ],
   "source": [
    "type(str)"
   ]
  },
  {
   "cell_type": "code",
   "execution_count": 2,
   "id": "a86636fe",
   "metadata": {},
   "outputs": [
    {
     "data": {
      "text/plain": [
       "type"
      ]
     },
     "execution_count": 2,
     "metadata": {},
     "output_type": "execute_result"
    }
   ],
   "source": [
    "# as classes são tipos\n",
    "type(list)"
   ]
  },
  {
   "cell_type": "code",
   "execution_count": 3,
   "id": "26d8b322",
   "metadata": {},
   "outputs": [
    {
     "data": {
      "text/plain": [
       "type"
      ]
     },
     "execution_count": 3,
     "metadata": {},
     "output_type": "execute_result"
    }
   ],
   "source": [
    "class Retangulo:\n",
    "    pass\n",
    "\n",
    "type(Retangulo)"
   ]
  },
  {
   "cell_type": "code",
   "execution_count": 4,
   "id": "5e16125a",
   "metadata": {},
   "outputs": [
    {
     "data": {
      "text/plain": [
       "__main__.Retangulo"
      ]
     },
     "execution_count": 4,
     "metadata": {},
     "output_type": "execute_result"
    }
   ],
   "source": [
    "meu_retangulo = Retangulo()\n",
    "type(meu_retangulo)\n",
    "\n"
   ]
  },
  {
   "cell_type": "code",
   "execution_count": 19,
   "id": "4083c28d",
   "metadata": {},
   "outputs": [
    {
     "name": "stdout",
     "output_type": "stream",
     "text": [
      "(10, 15)\n",
      "vermelho\n",
      "Este é um retangulo de 10 por 15, e cor por vermelho\n",
      "150\n",
      "Este é um retangulo de 20 por 30, e cor por rosavermelho\n"
     ]
    }
   ],
   "source": [
    "class Retangulo:\n",
    "    def __init__(self, comprimento, largura, cor):\n",
    "        self.dim = (comprimento,largura)\n",
    "        self.cor = cor\n",
    "        \n",
    "    def __repr__(self):\n",
    "        return f'Este é um retangulo de {self.dim[0]} por {self.dim[1]}, e cor por {self.cor}' \n",
    "    \n",
    "    def calcular_area(self):\n",
    "        return self.dim[0]*self.dim[1]\n",
    "    \n",
    "    def __add__(self,other):\n",
    "        return Retangulo(self.dim[0]+other.dim[0],self.dim[1]+other.dim[1],self.cor + other.cor)\n",
    "\n",
    "meu_retangulo = Retangulo(10,15,'vermelho')\n",
    "print(meu_retangulo.dim)\n",
    "print(meu_retangulo.cor)\n",
    "print(meu_retangulo)\n",
    "print(meu_retangulo.calcular_area())\n",
    "meu_2o_retangulo = Retangulo(10,15,'rosa')\n",
    "meu_3o_retangulo = meu_2o_retangulo + meu_retangulo\n",
    "print(meu_3o_retangulo)"
   ]
  },
  {
   "cell_type": "markdown",
   "id": "342689f7",
   "metadata": {},
   "source": [
    "## Herança"
   ]
  },
  {
   "cell_type": "code",
   "execution_count": 25,
   "id": "43bab552",
   "metadata": {},
   "outputs": [
    {
     "name": "stdout",
     "output_type": "stream",
     "text": [
      "25\n"
     ]
    }
   ],
   "source": [
    "# Uma classe vai herdar outra predominantemente quando é mais restrita que uma classe já existente\n",
    "\n",
    "class Quadrado(Retangulo):\n",
    "    def __init__(self,lado, cor):\n",
    "        super().__init__(lado, lado, cor)\n",
    "        \n",
    "meu_quadradro = Quadrado(5,'laranja')\n",
    "print(meu_quadradro.calcular_area())"
   ]
  },
  {
   "cell_type": "code",
   "execution_count": 27,
   "id": "f0c081b0",
   "metadata": {},
   "outputs": [
    {
     "name": "stdout",
     "output_type": "stream",
     "text": [
      "125\n"
     ]
    }
   ],
   "source": [
    "class Cubo(Quadrado):\n",
    "    def calcular_volume(self):\n",
    "        return super().calcular_area()*self.dim[0]\n",
    "        \n",
    "meu_cubo = Cubo(5,'laranja')\n",
    "print(meu_cubo.calcular_volume())"
   ]
  },
  {
   "cell_type": "code",
   "execution_count": null,
   "id": "9989b66c",
   "metadata": {},
   "outputs": [],
   "source": []
  }
 ],
 "metadata": {
  "kernelspec": {
   "display_name": "Python 3 (ipykernel)",
   "language": "python",
   "name": "python3"
  },
  "language_info": {
   "codemirror_mode": {
    "name": "ipython",
    "version": 3
   },
   "file_extension": ".py",
   "mimetype": "text/x-python",
   "name": "python",
   "nbconvert_exporter": "python",
   "pygments_lexer": "ipython3",
   "version": "3.8.11"
  }
 },
 "nbformat": 4,
 "nbformat_minor": 5
}
