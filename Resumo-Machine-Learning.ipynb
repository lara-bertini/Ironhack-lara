{
 "cells": [
  {
   "cell_type": "markdown",
   "id": "256199a8",
   "metadata": {},
   "source": [
    "## EDA (Análise exploratória de dados)"
   ]
  },
  {
   "cell_type": "code",
   "execution_count": null,
   "id": "aac37317",
   "metadata": {},
   "outputs": [],
   "source": [
    "# Para variáveis contínuas:\n",
    "sns.pairplot(tb_insu.select_dtypes(include = 'number'))"
   ]
  },
  {
   "cell_type": "code",
   "execution_count": null,
   "id": "868caa8e",
   "metadata": {},
   "outputs": [],
   "source": [
    "# Para variáveis discretas:\n",
    "fig, ax = plt.subplots(1,3, figsize = (12,4))\n",
    "sns.boxplot(data = tb_insu, x = 'sex', y = 'expenses', ax=ax[0])\n",
    "sns.boxplot(data = tb_insu, x = 'smoker', y = 'expenses', ax=ax[1])\n",
    "sns.boxplot(data = tb_insu, x = 'region', y = 'expenses', ax=ax[2])"
   ]
  },
  {
   "cell_type": "code",
   "execution_count": null,
   "id": "64f1b134",
   "metadata": {},
   "outputs": [],
   "source": [
    "# tratamento de dados discretos para entrada de modelos de machine learning\n",
    "pd.get_dummies(tb_insu['obese'], prefix = 'obese') # prefixo muda automaticamente o nome da coluna incluindo categorias"
   ]
  },
  {
   "cell_type": "code",
   "execution_count": null,
   "id": "c00dfd52",
   "metadata": {},
   "outputs": [],
   "source": [
    "# sempre utilizar o dataset normalizado\n",
    "from sklearn.preprocessing import StandardScaler\n",
    "X = tb_insu[['obese_smoker', 'age', 'bmi_smoker', 'smoker_yes']]\n",
    "scaler = StandardScaler()\n",
    "scaler.fit(X)\n",
    "scaler.transform(X)\n",
    "\n",
    "Y = tb_insu['expenses']\n",
    "X_norm = scaler.transform(X)"
   ]
  },
  {
   "cell_type": "markdown",
   "id": "989059ea",
   "metadata": {
    "ExecuteTime": {
     "end_time": "2022-03-12T14:49:34.681944Z",
     "start_time": "2022-03-12T14:49:34.251078Z"
    }
   },
   "source": [
    "## Linear Regression"
   ]
  },
  {
   "cell_type": "markdown",
   "id": "4b1d89b0",
   "metadata": {},
   "source": [
    "#### Bibliotecas"
   ]
  },
  {
   "cell_type": "code",
   "execution_count": 1,
   "id": "e023d0ff",
   "metadata": {
    "ExecuteTime": {
     "end_time": "2022-03-17T14:33:31.999105Z",
     "start_time": "2022-03-17T14:33:31.991126Z"
    }
   },
   "outputs": [],
   "source": [
    "# biblioteca padrão para machine Learning\n",
    "from sklearn.linear_model import LinearRegression\n",
    "# biblioteca padrão para modelos estatíticos\n",
    "import statsmodels.api as sm"
   ]
  },
  {
   "cell_type": "markdown",
   "id": "323f7d25",
   "metadata": {},
   "source": [
    "#### Statsmodel"
   ]
  },
  {
   "cell_type": "code",
   "execution_count": null,
   "id": "5d04886b",
   "metadata": {},
   "outputs": [],
   "source": [
    "def simular_dado(media_X, desvpad_X, \n",
    "                 desvpad_E, A, B, \n",
    "                 samples):\n",
    "    x = np.random.normal(loc = media_X, scale = desvpad_X, size = samples)\n",
    "    E = np.random.normal(loc = 0, scale = desvpad_E, size = samples)\n",
    "    y = B + A * x + E\n",
    "    return pd.DataFrame({'x' : x, 'y' : y})"
   ]
  },
  {
   "cell_type": "code",
   "execution_count": null,
   "id": "3fab7d66",
   "metadata": {},
   "outputs": [],
   "source": [
    "def estimar_lm(data):\n",
    "    X = sm.add_constant(data['x'])\n",
    "    Y = data['y']\n",
    "    modelo = sm.OLS(Y, X)\n",
    "    lm_fit = modelo.fit()\n",
    "    return lm_fit\n",
    "\n",
    "teste_1 = simular_dado(media_X=0,\n",
    "                       desvpad_X=1,\n",
    "                       desvpad_E=10,\n",
    "                       A=1,\n",
    "                       B=0,\n",
    "                       samples=100)\n",
    "teste1_fit = estimar_lm(teste_1)\n",
    "teste1_fit.summary()\n",
    "\n",
    "RMSE = np.sqrt(np.mean([residual**2 for residual in teste1_fit.resid]))"
   ]
  },
  {
   "cell_type": "markdown",
   "id": "e2fb91d0",
   "metadata": {},
   "source": [
    "#### Sklearn"
   ]
  },
  {
   "cell_type": "code",
   "execution_count": 3,
   "id": "307785af",
   "metadata": {
    "ExecuteTime": {
     "end_time": "2022-03-05T14:22:54.848345Z",
     "start_time": "2022-03-05T14:22:54.839371Z"
    },
    "hidden": true
   },
   "outputs": [],
   "source": [
    "modelo = LinearRegression()\n",
    "X = teste_1[['x']]\n",
    "Y = teste_1['y']\n",
    "modelo.fit(X, Y)\n",
    "modelo.coef_\n",
    "modelo.intercept_\n",
    "teste_1['pred'] = modelo.predict(X)\n",
    "\n",
    "sns.scatterplot(data=teste_1, x = 'x', y = 'y')\n",
    "sns.lineplot(data=teste_1, x = 'x', y = 'pred', color = 'red')"
   ]
  },
  {
   "cell_type": "markdown",
   "id": "7cdb068a",
   "metadata": {},
   "source": [
    "#### Multiple Linear Regression"
   ]
  },
  {
   "cell_type": "code",
   "execution_count": null,
   "id": "26ac56fb",
   "metadata": {},
   "outputs": [],
   "source": [
    "# utilizado no caso de regressões com mais de uma variáve de entrada (o que é a maioria dos nossos problemas)\n",
    "X = sm.add_constant(tb_insu[['obese_smoker', 'age', 'smoker_yes']])\n",
    "Y = tb_insu['expenses']\n",
    "modelo = sm.OLS(Y, X)\n",
    "lm_fit = modelo.fit()\n",
    "lm_fit.summary()"
   ]
  },
  {
   "cell_type": "code",
   "execution_count": null,
   "id": "99fc61bc",
   "metadata": {},
   "outputs": [],
   "source": [
    "tb_insu['lm_pred'] = lm_fit.predict()\n",
    "sns.pairplot(tb_insu[['expenses', 'lm_pred', 'age', 'bmi']])"
   ]
  },
  {
   "cell_type": "code",
   "execution_count": null,
   "id": "828a2f09",
   "metadata": {},
   "outputs": [],
   "source": [
    "# comparando erros de regressões Linear_regression\n",
    "test_data[\"pred_trend_linear\"] = trend_fit.predict(test_data[[\"t_dias\"]])\n",
    "test_data[\"pred_trend_spline\"] = spline_fit.predict(test_data[spl_names])\n",
    "rmse_lin = np.sqrt(\n",
    "    mean_squared_error(test_data[\"per_canceladas\"], test_data[\"pred_trend_linear\"])\n",
    ")\n",
    "rmse_spl = np.sqrt(\n",
    "    mean_squared_error(test_data[\"per_canceladas\"], test_data[\"pred_trend_spline\"])\n",
    ")\n",
    "print(f\"Trend Lin.: {round(rmse_lin, 2)}\")\n",
    "print(f\"Trend Spline.: {round(rmse_spl, 2)}\")"
   ]
  },
  {
   "cell_type": "markdown",
   "id": "1ea89bf5",
   "metadata": {},
   "source": [
    "### Séries temporais"
   ]
  },
  {
   "cell_type": "code",
   "execution_count": null,
   "id": "9acbdd8b",
   "metadata": {},
   "outputs": [],
   "source": [
    "# A forma mais comum de visualizar dados de série temporal é através de **lineplots** onde o tempo é colocado no eixo X e as variáveis a serem analisadas no eixo Y.\n",
    "fig, ax = plt.subplots(3, 1, figsize=(15, 8))\n",
    "sns.lineplot(data=tb_resort_ts, x=\"arrival_dt\", y=\"num_reservas\", ax=ax[0])\n",
    "sns.lineplot(data=tb_resort_ts, x=\"arrival_dt\", y=\"num_canceladas\", ax=ax[1])\n",
    "sns.lineplot(data=tb_resort_ts, x=\"arrival_dt\", y=\"per_canceladas\", ax=ax[2])\n",
    "ax[0].set_xlabel(\"\")\n",
    "ax[1].set_xlabel(\"\")\n",
    "fig.suptitle(\"Evolução de Reservas por Data de Chegada\", y=0.95)"
   ]
  },
  {
   "cell_type": "code",
   "execution_count": null,
   "id": "6612409e",
   "metadata": {},
   "outputs": [],
   "source": [
    "# divisão em train and test\n",
    "tb_resort_ts[\"arrival_dt\"].describe()\n",
    "def split_hotel_ts(hotel_data):\n",
    "    train_data = hotel_data[hotel_data[\"arrival_dt\"] < \"2017-08-01\"].copy()\n",
    "    test_data = hotel_data[hotel_data[\"arrival_dt\"] >= \"2017-08-01\"].copy()\n",
    "    return train_data, test_data"
   ]
  },
  {
   "cell_type": "code",
   "execution_count": 2,
   "id": "82685cdf",
   "metadata": {},
   "outputs": [],
   "source": [
    "# Decomposição TCSI\n",
    "\n",
    "#A forma mais tradicional de se analisar um série temporal é através da decomposição TCSI:\n",
    "\n",
    "# T - Componente de Tendência (Trend):** representação da evolução a longo prazo da série (*a taxa de cancelamento está crescendo ou caindo?*)\n",
    "# C - Componente Ciclico (Cyclic)** representação da evolução ciclica não periódicas (*depois de altas de cancelamento tenho baixas?*)\n",
    "# S - Componente Sazonal (Seasonal)** representação da peridiocidade sazonal (ciclo regular) (*temos mais cancelamento para reservas em junho? ou para reservas de segunda-feira? ou da última semana do mês?*)\n",
    "# I - Componente de Ruído (Irregular/Noise)** o que não é representado pelos três componentes acima."
   ]
  },
  {
   "cell_type": "code",
   "execution_count": null,
   "id": "683057c8",
   "metadata": {},
   "outputs": [],
   "source": [
    "# tendência linear:\n",
    "train_data, test_data = split_hotel_ts(tb_resort_ts)\n",
    "trend_fit = lm.LinearRegression()\n",
    "trend_fit.fit(train_data[[\"t_dias\"]], train_data[\"per_canceladas\"])\n",
    "tb_resort_ts[\"pred_trend_linear\"] = trend_fit.predict(tb_resort_ts[[\"t_dias\"]])"
   ]
  },
  {
   "cell_type": "code",
   "execution_count": null,
   "id": "40b33fc4",
   "metadata": {},
   "outputs": [],
   "source": [
    "# Componente ciclico"
   ]
  },
  {
   "cell_type": "code",
   "execution_count": null,
   "id": "b9eb5ed8",
   "metadata": {},
   "outputs": [],
   "source": []
  },
  {
   "cell_type": "code",
   "execution_count": null,
   "id": "c9d78fe0",
   "metadata": {},
   "outputs": [],
   "source": []
  },
  {
   "cell_type": "code",
   "execution_count": null,
   "id": "b7a88ff3",
   "metadata": {},
   "outputs": [],
   "source": []
  },
  {
   "cell_type": "code",
   "execution_count": null,
   "id": "90b838fa",
   "metadata": {},
   "outputs": [],
   "source": []
  }
 ],
 "metadata": {
  "hide_input": false,
  "kernelspec": {
   "display_name": "Python 3",
   "language": "python",
   "name": "python3"
  },
  "language_info": {
   "codemirror_mode": {
    "name": "ipython",
    "version": 3
   },
   "file_extension": ".py",
   "mimetype": "text/x-python",
   "name": "python",
   "nbconvert_exporter": "python",
   "pygments_lexer": "ipython3",
   "version": "3.9.7"
  },
  "toc": {
   "base_numbering": 1,
   "nav_menu": {},
   "number_sections": true,
   "sideBar": true,
   "skip_h1_title": false,
   "title_cell": "Table of Contents",
   "title_sidebar": "Contents",
   "toc_cell": true,
   "toc_position": {
    "height": "calc(100% - 180px)",
    "left": "10px",
    "top": "150px",
    "width": "307.198px"
   },
   "toc_section_display": true,
   "toc_window_display": true
  }
 },
 "nbformat": 4,
 "nbformat_minor": 5
}
