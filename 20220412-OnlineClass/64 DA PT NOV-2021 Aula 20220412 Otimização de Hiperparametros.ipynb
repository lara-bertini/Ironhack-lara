{
 "cells": [
  {
   "cell_type": "code",
   "execution_count": 2,
   "metadata": {},
   "outputs": [],
   "source": [
    "import matplotlib.pyplot as plt\n",
    "import seaborn as sns\n",
    "import numpy as np\n",
    "import pandas as pd\n",
    "\n",
    "from sklearn.preprocessing import StandardScaler, OneHotEncoder\n",
    "from sklearn.decomposition import PCA\n",
    "from sklearn.model_selection import train_test_split\n",
    "from sklearn.metrics import mean_squared_error\n",
    "from sklearn.tree import DecisionTreeRegressor\n",
    "\n",
    "import warnings\n",
    "warnings.filterwarnings(\"ignore\")"
   ]
  },
  {
   "cell_type": "markdown",
   "metadata": {},
   "source": [
    "# Otimizando Hiperparâmetros"
   ]
  },
  {
   "cell_type": "markdown",
   "metadata": {},
   "source": [
    "## Carregando e pré-processando Ames Housing"
   ]
  },
  {
   "cell_type": "code",
   "execution_count": 3,
   "metadata": {},
   "outputs": [],
   "source": [
    "tb_housing = pd.read_csv(\"tb_ames_housing.csv\")\n",
    "tb_housing = tb_housing.dropna(axis=1)\n",
    "tb_housing = tb_housing.drop(\"Id\", axis=1)"
   ]
  },
  {
   "cell_type": "code",
   "execution_count": 4,
   "metadata": {},
   "outputs": [
    {
     "name": "stdout",
     "output_type": "stream",
     "text": [
      "<class 'pandas.core.frame.DataFrame'>\n",
      "RangeIndex: 1460 entries, 0 to 1459\n",
      "Data columns (total 61 columns):\n",
      " #   Column         Non-Null Count  Dtype \n",
      "---  ------         --------------  ----- \n",
      " 0   MSSubClass     1460 non-null   int64 \n",
      " 1   MSZoning       1460 non-null   object\n",
      " 2   LotArea        1460 non-null   int64 \n",
      " 3   Street         1460 non-null   object\n",
      " 4   LotShape       1460 non-null   object\n",
      " 5   LandContour    1460 non-null   object\n",
      " 6   Utilities      1460 non-null   object\n",
      " 7   LotConfig      1460 non-null   object\n",
      " 8   LandSlope      1460 non-null   object\n",
      " 9   Neighborhood   1460 non-null   object\n",
      " 10  Condition1     1460 non-null   object\n",
      " 11  Condition2     1460 non-null   object\n",
      " 12  BldgType       1460 non-null   object\n",
      " 13  HouseStyle     1460 non-null   object\n",
      " 14  OverallQual    1460 non-null   int64 \n",
      " 15  OverallCond    1460 non-null   int64 \n",
      " 16  YearBuilt      1460 non-null   int64 \n",
      " 17  YearRemodAdd   1460 non-null   int64 \n",
      " 18  RoofStyle      1460 non-null   object\n",
      " 19  RoofMatl       1460 non-null   object\n",
      " 20  Exterior1st    1460 non-null   object\n",
      " 21  Exterior2nd    1460 non-null   object\n",
      " 22  ExterQual      1460 non-null   object\n",
      " 23  ExterCond      1460 non-null   object\n",
      " 24  Foundation     1460 non-null   object\n",
      " 25  BsmtFinSF1     1460 non-null   int64 \n",
      " 26  BsmtFinSF2     1460 non-null   int64 \n",
      " 27  BsmtUnfSF      1460 non-null   int64 \n",
      " 28  TotalBsmtSF    1460 non-null   int64 \n",
      " 29  Heating        1460 non-null   object\n",
      " 30  HeatingQC      1460 non-null   object\n",
      " 31  CentralAir     1460 non-null   object\n",
      " 32  1stFlrSF       1460 non-null   int64 \n",
      " 33  2ndFlrSF       1460 non-null   int64 \n",
      " 34  LowQualFinSF   1460 non-null   int64 \n",
      " 35  GrLivArea      1460 non-null   int64 \n",
      " 36  BsmtFullBath   1460 non-null   int64 \n",
      " 37  BsmtHalfBath   1460 non-null   int64 \n",
      " 38  FullBath       1460 non-null   int64 \n",
      " 39  HalfBath       1460 non-null   int64 \n",
      " 40  BedroomAbvGr   1460 non-null   int64 \n",
      " 41  KitchenAbvGr   1460 non-null   int64 \n",
      " 42  KitchenQual    1460 non-null   object\n",
      " 43  TotRmsAbvGrd   1460 non-null   int64 \n",
      " 44  Functional     1460 non-null   object\n",
      " 45  Fireplaces     1460 non-null   int64 \n",
      " 46  GarageCars     1460 non-null   int64 \n",
      " 47  GarageArea     1460 non-null   int64 \n",
      " 48  PavedDrive     1460 non-null   object\n",
      " 49  WoodDeckSF     1460 non-null   int64 \n",
      " 50  OpenPorchSF    1460 non-null   int64 \n",
      " 51  EnclosedPorch  1460 non-null   int64 \n",
      " 52  3SsnPorch      1460 non-null   int64 \n",
      " 53  ScreenPorch    1460 non-null   int64 \n",
      " 54  PoolArea       1460 non-null   int64 \n",
      " 55  MiscVal        1460 non-null   int64 \n",
      " 56  MoSold         1460 non-null   int64 \n",
      " 57  YrSold         1460 non-null   int64 \n",
      " 58  SaleType       1460 non-null   object\n",
      " 59  SaleCondition  1460 non-null   object\n",
      " 60  SalePrice      1460 non-null   int64 \n",
      "dtypes: int64(34), object(27)\n",
      "memory usage: 695.9+ KB\n"
     ]
    }
   ],
   "source": [
    "tb_housing.info()\n"
   ]
  },
  {
   "cell_type": "markdown",
   "metadata": {},
   "source": [
    "Vamos separar as variáveis numéricas e categóricas, guardando os nomes de cada coluna e duas listas distintas."
   ]
  },
  {
   "cell_type": "code",
   "execution_count": 5,
   "metadata": {},
   "outputs": [],
   "source": [
    "cat_vars = list(tb_housing.select_dtypes(\"object\").columns)\n",
    "num_vars = list(tb_housing.select_dtypes(include=np.number).drop(\"SalePrice\", axis=1).columns)"
   ]
  },
  {
   "cell_type": "markdown",
   "metadata": {},
   "source": [
    "Agora vamos utilizar criar um OneHotEncoder capaz de lidar com os features salvos na lista `cat_vars`"
   ]
  },
  {
   "cell_type": "code",
   "execution_count": 6,
   "metadata": {},
   "outputs": [
    {
     "data": {
      "text/plain": [
       "OneHotEncoder(drop='first', sparse=False)"
      ]
     },
     "execution_count": 6,
     "metadata": {},
     "output_type": "execute_result"
    }
   ],
   "source": [
    "ohe_fit = OneHotEncoder(drop=\"first\", sparse = False)\n",
    "ohe_fit.fit(tb_housing[cat_vars])\n"
   ]
  },
  {
   "cell_type": "markdown",
   "metadata": {},
   "source": [
    "Vamos separar o conjunto de treinamento e teste e criar um StandardScaler a partir dos dados de treinamento. Após a separação vamos criar uma nova matriz de dados através da concatenação das variáveis categóricas codificadas como variáveis binárias e das variáves numéricas normalizadas."
   ]
  },
  {
   "cell_type": "code",
   "execution_count": 7,
   "metadata": {},
   "outputs": [],
   "source": [
    "X_train, X_test, y_train, y_test = train_test_split(tb_housing[cat_vars + num_vars], tb_housing['SalePrice'], test_size = 0.15, random_state = 42)"
   ]
  },
  {
   "cell_type": "code",
   "execution_count": 8,
   "metadata": {},
   "outputs": [],
   "source": [
    "scaler = StandardScaler()\n",
    "scaler.fit(X_train[num_vars])\n",
    "X_train_t = np.column_stack([scaler.transform(X_train[num_vars]), ohe_fit.transform(X_train[cat_vars])])\n",
    "X_test_t = np.column_stack([scaler.transform(X_test[num_vars]), ohe_fit.transform(X_test[cat_vars])])"
   ]
  },
  {
   "cell_type": "markdown",
   "metadata": {},
   "source": [
    "## Visualizando overfitting\n",
    "\n",
    "Como vimos nas últimas semanas, os algoritmos de ML são muito diferentes das regressões linear e logistica: enquanto estes modelos simples são definidos pelas variáveis de entrada, os modelos de ML são definidos também por hiperparâmetros. Também vimos que métodos como as árvores de decisão são muitas vezes capaz de explicar *perfeitamente* os dados de treinamento sem que isso se reflita no conjunto de teste.\n",
    "\n",
    "Essa capacidade dos modelos de ML de aprenderem estruturas complexas é ao mesmo tempo seu ponto forte e um risco: se ajustarmos os parâmetros de um modelo erroneamente podemos terminar achando que o modelo tem uma performance muito melhor do que realmente terá. A divisão em conjuntos de treinamento e teste mitiga muito desse risco, mas não nos dá, a priori, uma forma de encontrar o melhor conjunto de parâmetros para um dado problema.\n",
    "\n",
    "Nesta seção vamos visualizar como o overfitting acontece comparando o erro no conjunto de treinamento e o erro no conjunto de teste. A partir desse entendimento poderemos traçar estratégias para encontrar o melhor conjunto de hiperparâmetros para nossos dados sem que soframos nem com underfitting (variáveis tem mais poder explicativo do que modelo representa) ou overfitting (modelo não generaliza)."
   ]
  },
  {
   "cell_type": "code",
   "execution_count": 9,
   "metadata": {},
   "outputs": [],
   "source": [
    "depth_optim = [int(x) for x in np.linspace(1, 20, 20)]\n",
    "\n",
    "erro_train_list = []\n",
    "erro_test_list = []\n",
    "depth_list = []\n",
    "for depth in depth_optim:\n",
    "    tree_fit = DecisionTreeRegressor(max_depth = depth)\n",
    "    tree_fit.fit(X_train_t, y_train)\n",
    "    erro_train = mean_squared_error(y_train, tree_fit.predict(X_train_t))\n",
    "    erro_test = mean_squared_error(y_test, tree_fit.predict(X_test_t))\n",
    "    erro_train_list.append(erro_train)\n",
    "    erro_test_list.append(erro_test)\n",
    "    depth_list.append(depth)"
   ]
  },
  {
   "cell_type": "markdown",
   "metadata": {},
   "source": [
    "Assim como nas tarefas de classificação, a complexidade de uma árvore de decisão é ligada, principalmente, à três parâmetros fundamentais:\n",
    "\n",
    "* **max_depth**: a profundidade máxima da árvore, medida em número de splits entre as folhas e a raiz;\n",
    "* **min_samples_split**: o menor número de pontos necessário em um galho para que um split seja feito;\n",
    "* **min_samples_leaf**: o menor número de pontos em cada folha.\n",
    "\n",
    "Conforme aumentamos a `max_depth` e diminuimos o `min_samples_split` e `min_samples_leaf` aumentamos a complexidade de nossa árvore e, como em qualquer modelo, conforme aumentamos a complexidade aumentamos o risco  de sofrer com overfitting. No código acima variamos a complexidade da árvore aumentando sua profundidade de 1 à 20. Vamos visualizar o overfitting comparando o erro do modelo no conjunto de teste contra o conjunto de treinamento conforme aumentamos a complexidade:"
   ]
  },
  {
   "cell_type": "code",
   "execution_count": 10,
   "metadata": {},
   "outputs": [
    {
     "data": {
      "text/plain": [
       "<AxesSubplot:xlabel='depth', ylabel='erro_train_list'>"
      ]
     },
     "execution_count": 10,
     "metadata": {},
     "output_type": "execute_result"
    },
    {
     "data": {
      "image/png": "[encoded data removed]",
      "text/plain": [
       "<Figure size 432x288 with 1 Axes>"
      ]
     },
     "metadata": {
      "needs_background": "light"
     },
     "output_type": "display_data"
    }
   ],
   "source": [
    "tb_overfit = pd.DataFrame({'depth' : depth_list, 'erro_train_list' : erro_train_list, 'erro_test_list' : erro_test_list})\n",
    "sns.lineplot(data = tb_overfit, x= 'depth', y= 'erro_train_list')\n",
    "sns.lineplot(data = tb_overfit, x= 'depth', y= 'erro_test_list')"
   ]
  },
  {
   "cell_type": "markdown",
   "metadata": {},
   "source": [
    "Comoi podemos ver, inicialmente o aumento de complexidade da árvore reduz o erro tanto no conjunto de teste quanto no conjunto de treinamento. Conforme a complexidade aumenta, a velocidade de melhoría no conjunto teste cai, até que se estabiliza (e muitas vezes vemos o erro crescer a partir deste ponto).\n",
    "\n",
    "O melhor modelo é aquele que tem o melhor erro (aproveita toda informação disponível) e a menor complexidade (maior capacidade de generalização). No gráfico acima podemos ver que, no caso atual, a árvore com profundidade 4 se aproxima desse ideal."
   ]
  },
  {
   "cell_type": "code",
   "execution_count": 11,
   "metadata": {},
   "outputs": [
    {
     "name": "stdout",
     "output_type": "stream",
     "text": [
      "RMSE Train: 24040.69675820914\n",
      "RMSE Test: 38326.34099761229\n"
     ]
    }
   ],
   "source": [
    "tree_fit = DecisionTreeRegressor(max_depth = 6)\n",
    "tree_fit.fit(X_train_t, y_train)\n",
    "erro_train = mean_squared_error(y_train, tree_fit.predict(X_train_t))\n",
    "erro_test = mean_squared_error(y_test, tree_fit.predict(X_test_t))\n",
    "print(f\"RMSE Train: {np.sqrt(erro_train)}\\nRMSE Test: {np.sqrt(erro_test)}\")"
   ]
  },
  {
   "cell_type": "markdown",
   "metadata": {},
   "source": [
    "## Utilizando o gridsearch para automatizar a busca\n",
    "\n",
    "A tarefa realizada acima através de um loop é tão comum que podemos utilizar uma série de funções específicas para realizar a avaliação automática de hiperparâmetros. Alguns nomes importantes nesse processo:\n",
    "\n",
    "* **Espaço de Hiperparâmetros**: no exemplo acima varíamos apenas a profundidade da árvore que estávamos construindo - neste caso o espaço de hiperparâmetros era o vetor [1, 2, 3 ... 19, 20] (`np.linspace(1, 20, 20)`). Veremos abaixo um exemplo onde este espaço é composto por mais vetores.\n",
    "* **Busca com Validação Cruzada**: para manter o nosso conjunto teste original fora da busca de hiperparâmetros utilizaremos validação cruzada no conjunto de treinamento - para cada combinação possível dos nossos vetores de hiperparâmetros construiremos 5 conjuntos de teste sobre o qual avaliaremos o modelo. Utilizaremos esses 5 conjuntos para calcular o erro médio associado à um conjunto de hiperparâmetros."
   ]
  },
  {
   "cell_type": "code",
   "execution_count": 12,
   "metadata": {},
   "outputs": [],
   "source": [
    "from sklearn.model_selection import GridSearchCV"
   ]
  },
  {
   "cell_type": "markdown",
   "metadata": {},
   "source": [
    "Primeiro vamos usar o `GridSearchCV` para realizar a avaliação que fizemos através do loop acima."
   ]
  },
  {
   "cell_type": "code",
   "execution_count": 13,
   "metadata": {},
   "outputs": [
    {
     "data": {
      "text/plain": [
       "GridSearchCV(cv=5, estimator=DecisionTreeRegressor(),\n",
       "             param_grid={'max_depth': [1, 2, 3, 4, 5, 6, 7, 8, 9, 10, 11, 12,\n",
       "                                       13, 14, 15, 16, 17, 18, 19, 20]})"
      ]
     },
     "execution_count": 13,
     "metadata": {},
     "output_type": "execute_result"
    }
   ],
   "source": [
    "param_grid = {\n",
    "    'max_depth' : [int(x) for x in np.linspace(1, 20, 20)]\n",
    "}\n",
    "tree_fit = DecisionTreeRegressor()\n",
    "grid_fit = GridSearchCV(tree_fit, param_grid, cv = 5)\n",
    "grid_fit.fit(X_train_t, y_train)"
   ]
  },
  {
   "cell_type": "code",
   "execution_count": 14,
   "metadata": {},
   "outputs": [
    {
     "data": {
      "text/plain": [
       "DecisionTreeRegressor(max_depth=10)"
      ]
     },
     "execution_count": 14,
     "metadata": {},
     "output_type": "execute_result"
    }
   ],
   "source": [
    "grid_fit.best_estimator_"
   ]
  },
  {
   "cell_type": "code",
   "execution_count": 15,
   "metadata": {},
   "outputs": [
    {
     "name": "stdout",
     "output_type": "stream",
     "text": [
      "DecisionTreeRegressor(max_depth=10)\n",
      "RMSE Train: 9747.641308453103\n",
      "RMSE Test: 38192.08504708257\n"
     ]
    }
   ],
   "source": [
    "erro_train = mean_squared_error(y_train, grid_fit.predict(X_train_t))\n",
    "erro_test = mean_squared_error(y_test, grid_fit.predict(X_test_t))\n",
    "print(grid_fit.best_estimator_)\n",
    "print(f\"RMSE Train: {np.sqrt(erro_train)}\\nRMSE Test: {np.sqrt(erro_test)}\")"
   ]
  },
  {
   "cell_type": "markdown",
   "metadata": {},
   "source": [
    "O `GridSearchCV` tem duas grandes vantagens sobre o nosso loop original:\n",
    "\n",
    "1. Realiza automaticamente a busca utilizando validação cruzada;\n",
    "1. Cria automaticamente espaços de parâmetros mais complexos.\n",
    "\n",
    "Para entender melhor o segundo ponto vamos expandir nossa busca para contemplar os outros 2 hiperparâmetros fundamentais de complexidade das árvores de decisão (`min_samples_split` e `min_samples_leaf`)."
   ]
  },
  {
   "cell_type": "code",
   "execution_count": 16,
   "metadata": {},
   "outputs": [
    {
     "data": {
      "text/plain": [
       "GridSearchCV(cv=5, estimator=DecisionTreeRegressor(),\n",
       "             param_grid={'max_depth': [1, 6, 11, 17, 22, 28, 33, 39, 44, 50],\n",
       "                         'min_samples_leaf': [1, 3, 5, 7, 9, 11, 13, 15, 17,\n",
       "                                              20],\n",
       "                         'min_samples_split': [2, 6, 10, 14, 18, 23, 27, 31, 35,\n",
       "                                               40]})"
      ]
     },
     "execution_count": 16,
     "metadata": {},
     "output_type": "execute_result"
    }
   ],
   "source": [
    "param_grid = {\n",
    "    'max_depth' : [int(x) for x in np.linspace(1, 50, 10)],\n",
    "    'min_samples_split' : [int(x) for x in np.linspace(2, 40, 10)],\n",
    "    'min_samples_leaf' : [int(x) for x in np.linspace(1, 20, 10)]\n",
    "}\n",
    "tree_fit = DecisionTreeRegressor()\n",
    "grid_fit = GridSearchCV(tree_fit, param_grid, cv = 5)\n",
    "grid_fit.fit(X_train_t, y_train)"
   ]
  },
  {
   "cell_type": "code",
   "execution_count": 17,
   "metadata": {},
   "outputs": [
    {
     "data": {
      "text/plain": [
       "DecisionTreeRegressor(max_depth=11, min_samples_split=14)"
      ]
     },
     "execution_count": 17,
     "metadata": {},
     "output_type": "execute_result"
    }
   ],
   "source": [
    "grid_fit.best_estimator_"
   ]
  },
  {
   "cell_type": "markdown",
   "metadata": {},
   "source": [
    "O espaço de hiperparâmetros definido acima não é composto apenas por um vetor, mas por um **grade**: o `GridSearchCV` vai testar todos os pontos dessa grade, ou seja, todas as combinações de hiperparâmetros possíveis a partir dos vetores definidos dentro do dicionário `param_grid`.\n",
    "\n",
    "Podemos utilizar o atributo `.cv_results_` para acessar os resultados de cada fit feito pela busca. Temos que tomar cuidado com o erro apresentado aqui: ele é o `MSE * -1`, ou seja, quanto maior, melhor."
   ]
  },
  {
   "cell_type": "code",
   "execution_count": 18,
   "metadata": {},
   "outputs": [],
   "source": [
    "tb_gridfit = pd.DataFrame(grid_fit.cv_results_)"
   ]
  },
  {
   "cell_type": "code",
   "execution_count": 19,
   "metadata": {},
   "outputs": [
    {
     "data": {
      "text/plain": [
       "Index(['mean_fit_time', 'std_fit_time', 'mean_score_time', 'std_score_time',\n",
       "       'param_max_depth', 'param_min_samples_leaf', 'param_min_samples_split',\n",
       "       'params', 'split0_test_score', 'split1_test_score', 'split2_test_score',\n",
       "       'split3_test_score', 'split4_test_score', 'mean_test_score',\n",
       "       'std_test_score', 'rank_test_score'],\n",
       "      dtype='object')"
      ]
     },
     "execution_count": 19,
     "metadata": {},
     "output_type": "execute_result"
    }
   ],
   "source": [
    "tb_gridfit.columns"
   ]
  },
  {
   "cell_type": "markdown",
   "metadata": {},
   "source": [
    "Podemos utilizar gráficos e estatisticas descritivas para entender se a nossa busca foi suficiente ou se devemos extende-la em alguma direção não explorada."
   ]
  },
  {
   "cell_type": "code",
   "execution_count": 20,
   "metadata": {},
   "outputs": [
    {
     "data": {
      "text/plain": [
       "<AxesSubplot:xlabel='param_min_samples_leaf', ylabel='mean_test_score'>"
      ]
     },
     "execution_count": 20,
     "metadata": {},
     "output_type": "execute_result"
    },
    {
     "data": {
      "image/png": "[encoded data removed]",
      "text/plain": [
       "<Figure size 1080x360 with 3 Axes>"
      ]
     },
     "metadata": {
      "needs_background": "light"
     },
     "output_type": "display_data"
    }
   ],
   "source": [
    "fig, ax = plt.subplots(1, 3, figsize = (15, 5))\n",
    "sns.boxplot(data = tb_gridfit, x = 'param_max_depth', y = 'mean_test_score', ax = ax[0])\n",
    "sns.boxplot(data = tb_gridfit, x = 'param_min_samples_split', y = 'mean_test_score', ax = ax[1])\n",
    "sns.boxplot(data = tb_gridfit, x = 'param_min_samples_leaf', y = 'mean_test_score', ax = ax[2])"
   ]
  },
  {
   "cell_type": "markdown",
   "metadata": {},
   "source": [
    "No gráfico acima podemos ver um gap do espaço contruído: temos poucas árvores de baixa profundidade (nenhuma entre 0 e 6 por exemplo). Como as buscas exaustivas são computacionalmente caras, podemos acabar deixando buracos inadivertidamente na grade de hiperparâmetros.\n",
    "\n",
    "Abaixo veremos uma segunda forma de fazer esta busca que nos permite aumentar os vetores percorridos sem aumentar o custo da busca."
   ]
  },
  {
   "cell_type": "code",
   "execution_count": 21,
   "metadata": {},
   "outputs": [
    {
     "name": "stdout",
     "output_type": "stream",
     "text": [
      "DecisionTreeRegressor(max_depth=11, min_samples_split=14)\n",
      "RMSE Train: 16152.785898987435\n",
      "RMSE Test: 38159.75049631294\n"
     ]
    }
   ],
   "source": [
    "erro_train = mean_squared_error(y_train, grid_fit.predict(X_train_t))\n",
    "erro_test = mean_squared_error(y_test, grid_fit.predict(X_test_t))\n",
    "print(grid_fit.best_estimator_)\n",
    "print(f\"RMSE Train: {np.sqrt(erro_train)}\\nRMSE Test: {np.sqrt(erro_test)}\")"
   ]
  },
  {
   "cell_type": "markdown",
   "metadata": {},
   "source": [
    "## Usando buscas aleatória para acelerar o processo\n",
    "\n",
    "Ao invés de buscar exaustivamente todas as combinações, muitas vezes o ideal é começar utilizando uma busca aleatória: ao invés de buscar exaustivamente a grade de hiperparâmetros vamos *sortear* pontos dentro dessa grade para serem testados. As buscas aleatórias nos permitem percorrer um espaço maior com o mesmo custo que a busca exaustiva. No entanto podemos deixar passar o ponto *realmente ótimo* caso ele não seja sorteado. Por isso muitas vezes utilizamos uma busca aleatória para encontrar as melhores regiões no espaço de hiperparâmetros e então realizar buscas exaustivas nestas regiões.\n",
    "\n",
    "Vamos usar o `RandomizedSearchCV` para buscar um espaço maior de hiperparâmetros. A única diferença para o `GridSearchCV` é o parâmetro `n_iter = 1000` que define quantos pontos serão amostrados em nosso processo de busca."
   ]
  },
  {
   "cell_type": "code",
   "execution_count": 22,
   "metadata": {},
   "outputs": [],
   "source": [
    "from sklearn.model_selection import RandomizedSearchCV"
   ]
  },
  {
   "cell_type": "code",
   "execution_count": 23,
   "metadata": {},
   "outputs": [
    {
     "data": {
      "text/plain": [
       "RandomizedSearchCV(cv=5, estimator=DecisionTreeRegressor(), n_iter=1000,\n",
       "                   param_distributions={'max_depth': range(1, 150),\n",
       "                                        'min_samples_leaf': range(1, 20),\n",
       "                                        'min_samples_split': range(2, 40)})"
      ]
     },
     "execution_count": 23,
     "metadata": {},
     "output_type": "execute_result"
    }
   ],
   "source": [
    "param_grid = {\n",
    "    'max_depth' : range(1, 150),\n",
    "    'min_samples_split' : range(2, 40),\n",
    "    'min_samples_leaf' : range(1, 20)\n",
    "}\n",
    "tree_fit = DecisionTreeRegressor()\n",
    "grid_fit = RandomizedSearchCV(tree_fit, param_grid, cv = 5, n_iter = 1000)\n",
    "grid_fit.fit(X_train_t, y_train)"
   ]
  },
  {
   "cell_type": "code",
   "execution_count": 24,
   "metadata": {},
   "outputs": [
    {
     "data": {
      "text/plain": [
       "<AxesSubplot:xlabel='param_min_samples_leaf', ylabel='mean_test_score'>"
      ]
     },
     "execution_count": 24,
     "metadata": {},
     "output_type": "execute_result"
    },
    {
     "data": {
      "image/png": "[encoded data removed]",
      "text/plain": [
       "<Figure size 1800x360 with 3 Axes>"
      ]
     },
     "metadata": {
      "needs_background": "light"
     },
     "output_type": "display_data"
    }
   ],
   "source": [
    "tb_gridfit = pd.DataFrame(grid_fit.cv_results_)\n",
    "fig, ax = plt.subplots(1, 3, figsize = (25, 5))\n",
    "sns.boxplot(data = tb_gridfit, x = 'param_max_depth', y = 'mean_test_score', ax = ax[0])\n",
    "sns.boxplot(data = tb_gridfit, x = 'param_min_samples_split', y = 'mean_test_score', ax = ax[1])\n",
    "sns.boxplot(data = tb_gridfit, x = 'param_min_samples_leaf', y = 'mean_test_score', ax = ax[2])"
   ]
  },
  {
   "cell_type": "markdown",
   "metadata": {},
   "source": [
    "Como nosso espaço é muito grande, os gráficos não são mais tão informativos... Podemos analisar os 10 melhores modelos que a busca aleatória encontrou."
   ]
  },
  {
   "cell_type": "code",
   "execution_count": 25,
   "metadata": {},
   "outputs": [
    {
     "data": {
      "text/html": [
       "<div>\n",
       "<style scoped>\n",
       "    .dataframe tbody tr th:only-of-type {\n",
       "        vertical-align: middle;\n",
       "    }\n",
       "\n",
       "    .dataframe tbody tr th {\n",
       "        vertical-align: top;\n",
       "    }\n",
       "\n",
       "    .dataframe thead th {\n",
       "        text-align: right;\n",
       "    }\n",
       "</style>\n",
       "<table border=\"1\" class=\"dataframe\">\n",
       "  <thead>\n",
       "    <tr style=\"text-align: right;\">\n",
       "      <th></th>\n",
       "      <th>param_min_samples_split</th>\n",
       "      <th>param_min_samples_leaf</th>\n",
       "      <th>param_max_depth</th>\n",
       "      <th>mean_test_score</th>\n",
       "    </tr>\n",
       "  </thead>\n",
       "  <tbody>\n",
       "    <tr>\n",
       "      <th>290</th>\n",
       "      <td>15</td>\n",
       "      <td>6</td>\n",
       "      <td>122</td>\n",
       "      <td>0.757527</td>\n",
       "    </tr>\n",
       "    <tr>\n",
       "      <th>314</th>\n",
       "      <td>20</td>\n",
       "      <td>7</td>\n",
       "      <td>52</td>\n",
       "      <td>0.756219</td>\n",
       "    </tr>\n",
       "    <tr>\n",
       "      <th>959</th>\n",
       "      <td>3</td>\n",
       "      <td>6</td>\n",
       "      <td>10</td>\n",
       "      <td>0.755936</td>\n",
       "    </tr>\n",
       "    <tr>\n",
       "      <th>713</th>\n",
       "      <td>9</td>\n",
       "      <td>6</td>\n",
       "      <td>138</td>\n",
       "      <td>0.755900</td>\n",
       "    </tr>\n",
       "    <tr>\n",
       "      <th>700</th>\n",
       "      <td>10</td>\n",
       "      <td>6</td>\n",
       "      <td>82</td>\n",
       "      <td>0.755829</td>\n",
       "    </tr>\n",
       "    <tr>\n",
       "      <th>82</th>\n",
       "      <td>21</td>\n",
       "      <td>7</td>\n",
       "      <td>36</td>\n",
       "      <td>0.755633</td>\n",
       "    </tr>\n",
       "    <tr>\n",
       "      <th>312</th>\n",
       "      <td>11</td>\n",
       "      <td>6</td>\n",
       "      <td>80</td>\n",
       "      <td>0.755516</td>\n",
       "    </tr>\n",
       "    <tr>\n",
       "      <th>237</th>\n",
       "      <td>21</td>\n",
       "      <td>7</td>\n",
       "      <td>87</td>\n",
       "      <td>0.755420</td>\n",
       "    </tr>\n",
       "    <tr>\n",
       "      <th>123</th>\n",
       "      <td>21</td>\n",
       "      <td>7</td>\n",
       "      <td>80</td>\n",
       "      <td>0.755417</td>\n",
       "    </tr>\n",
       "    <tr>\n",
       "      <th>339</th>\n",
       "      <td>27</td>\n",
       "      <td>10</td>\n",
       "      <td>26</td>\n",
       "      <td>0.755377</td>\n",
       "    </tr>\n",
       "  </tbody>\n",
       "</table>\n",
       "</div>"
      ],
      "text/plain": [
       "    param_min_samples_split param_min_samples_leaf param_max_depth  \\\n",
       "290                      15                      6             122   \n",
       "314                      20                      7              52   \n",
       "959                       3                      6              10   \n",
       "713                       9                      6             138   \n",
       "700                      10                      6              82   \n",
       "82                       21                      7              36   \n",
       "312                      11                      6              80   \n",
       "237                      21                      7              87   \n",
       "123                      21                      7              80   \n",
       "339                      27                     10              26   \n",
       "\n",
       "     mean_test_score  \n",
       "290         0.757527  \n",
       "314         0.756219  \n",
       "959         0.755936  \n",
       "713         0.755900  \n",
       "700         0.755829  \n",
       "82          0.755633  \n",
       "312         0.755516  \n",
       "237         0.755420  \n",
       "123         0.755417  \n",
       "339         0.755377  "
      ]
     },
     "execution_count": 25,
     "metadata": {},
     "output_type": "execute_result"
    }
   ],
   "source": [
    "tb_gridfit.sort_values('mean_test_score', ascending= False).head(10)[['param_min_samples_split', 'param_min_samples_leaf', 'param_max_depth', 'mean_test_score']]"
   ]
  },
  {
   "cell_type": "code",
   "execution_count": 26,
   "metadata": {},
   "outputs": [
    {
     "name": "stdout",
     "output_type": "stream",
     "text": [
      "DecisionTreeRegressor(max_depth=122, min_samples_leaf=6, min_samples_split=15)\n",
      "RMSE Train: 22806.462308167294\n",
      "RMSE Test: 40361.447945352644\n"
     ]
    }
   ],
   "source": [
    "erro_train = mean_squared_error(y_train, grid_fit.predict(X_train_t))\n",
    "erro_test = mean_squared_error(y_test, grid_fit.predict(X_test_t))\n",
    "print(grid_fit.best_estimator_)\n",
    "print(f\"RMSE Train: {np.sqrt(erro_train)}\\nRMSE Test: {np.sqrt(erro_test)}\")"
   ]
  },
  {
   "cell_type": "code",
   "execution_count": 27,
   "metadata": {},
   "outputs": [
    {
     "data": {
      "text/plain": [
       "GridSearchCV(cv=5, estimator=DecisionTreeRegressor(),\n",
       "             param_grid={'max_depth': [4, 5, 6, 7, 11, 13, 16, 19, 22, 30, 35,\n",
       "                                       40, 45, 50, 80, 87, 95, 102, 110, None],\n",
       "                         'min_samples_leaf': [1, 5, 6, 8, 10, 11, 13, 15, 16,\n",
       "                                              18, 20],\n",
       "                         'min_samples_split': [1, 5, 7, 10, 12, 15, 18, 20, 22,\n",
       "                                               24, 26]})"
      ]
     },
     "execution_count": 27,
     "metadata": {},
     "output_type": "execute_result"
    }
   ],
   "source": [
    "param_grid = {\n",
    "    'max_depth' : [4, 5, 6, 7] + [int(x) for x in np.linspace(11, 22, 5)] + [int(x) for x in np.linspace(30, 50, 5)] + [int(x) for x in np.linspace(80, 110, 5)] + [None],\n",
    "    'min_samples_split' : [1] + [int(x) for x in np.linspace(5, 15, 5)] + [int(x) for x in np.linspace(18, 26, 5)],\n",
    "    'min_samples_leaf' : [1] + [int(x) for x in np.linspace(5, 20, 10)]\n",
    "}\n",
    "tree_fit = DecisionTreeRegressor()\n",
    "grid_fit = GridSearchCV(tree_fit, param_grid, cv = 5)\n",
    "grid_fit.fit(X_train_t, y_train)"
   ]
  },
  {
   "cell_type": "code",
   "execution_count": 28,
   "metadata": {},
   "outputs": [
    {
     "name": "stdout",
     "output_type": "stream",
     "text": [
      "DecisionTreeRegressor(max_depth=13, min_samples_split=15)\n",
      "RMSE Train: 15612.287912155294\n",
      "RMSE Test: 39855.76613046003\n"
     ]
    }
   ],
   "source": [
    "erro_train = mean_squared_error(y_train, grid_fit.predict(X_train_t))\n",
    "erro_test = mean_squared_error(y_test, grid_fit.predict(X_test_t))\n",
    "print(grid_fit.best_estimator_)\n",
    "print(f\"RMSE Train: {np.sqrt(erro_train)}\\nRMSE Test: {np.sqrt(erro_test)}\")"
   ]
  },
  {
   "cell_type": "markdown",
   "metadata": {},
   "source": [
    "## Otimizando etapas de pré-processamento\n",
    "\n",
    "Já vimos alguma formas de pré-processamento que também tem hiperparâmetros que causam impactos sobre o erro do modelo. Até agora vimos apenas técnicas de determinação desses atributos com base em características intrinsicas do modelo sendo aplicado (por exemplo, análise de variância representada quando utilizamos PCA). Vamos construir uma forma de inserir estes parâmetros no GridSearchCV."
   ]
  },
  {
   "cell_type": "markdown",
   "metadata": {},
   "source": [
    "### Pipelines de Modelagem - Simples\n",
    "\n",
    "Para fazer isso vamos utilizar pipelines - funções que agregam métodos de transformação, pré-processamento e modelos em uma única interface de train e predict. Vamos começar com um exemplo simples, utilizando PCA sobre as variáveis numéricas de nosso dataset, para tratar as muitas colinearidades presentes que estão causando problemas até no tuning."
   ]
  },
  {
   "cell_type": "code",
   "execution_count": 29,
   "metadata": {},
   "outputs": [],
   "source": [
    "from sklearn.pipeline import Pipeline"
   ]
  },
  {
   "cell_type": "code",
   "execution_count": 30,
   "metadata": {},
   "outputs": [],
   "source": [
    "scaler = StandardScaler()\n",
    "pca = PCA()\n",
    "tree_fit = DecisionTreeRegressor()\n",
    "\n",
    "pipeline = Pipeline([('SCALING', scaler), ('PCA', pca), ('MODEL', tree_fit)])"
   ]
  },
  {
   "cell_type": "markdown",
   "metadata": {},
   "source": [
    "Agora com nosso pipeline definido, vamos utiliza-lo como se fosse um modelo normal!"
   ]
  },
  {
   "cell_type": "code",
   "execution_count": 31,
   "metadata": {},
   "outputs": [],
   "source": [
    "X_train, X_test, y_train, y_test = train_test_split(tb_housing[num_vars], tb_housing['SalePrice'], test_size = 0.2, random_state = 42)"
   ]
  },
  {
   "cell_type": "code",
   "execution_count": 32,
   "metadata": {},
   "outputs": [
    {
     "data": {
      "text/plain": [
       "Pipeline(steps=[('SCALING', StandardScaler()), ('PCA', PCA()),\n",
       "                ('MODEL', DecisionTreeRegressor())])"
      ]
     },
     "execution_count": 32,
     "metadata": {},
     "output_type": "execute_result"
    }
   ],
   "source": [
    "pipeline.fit(X_train, y_train)"
   ]
  },
  {
   "cell_type": "code",
   "execution_count": 33,
   "metadata": {},
   "outputs": [
    {
     "name": "stdout",
     "output_type": "stream",
     "text": [
      "RMSE Train: 171.72822188499134\n",
      "RMSE Test: 50204.38326880119\n"
     ]
    }
   ],
   "source": [
    "erro_train = mean_squared_error(y_train, pipeline.predict(X_train))\n",
    "erro_test = mean_squared_error(y_test, pipeline.predict(X_test))\n",
    "print(f\"RMSE Train: {np.sqrt(erro_train)}\\nRMSE Test: {np.sqrt(erro_test)}\")"
   ]
  },
  {
   "cell_type": "code",
   "execution_count": 34,
   "metadata": {},
   "outputs": [
    {
     "data": {
      "text/plain": [
       "RandomizedSearchCV(cv=5,\n",
       "                   estimator=Pipeline(steps=[('SCALING', StandardScaler()),\n",
       "                                             ('PCA', PCA()),\n",
       "                                             ('MODEL',\n",
       "                                              DecisionTreeRegressor())]),\n",
       "                   n_iter=1000,\n",
       "                   param_distributions={'MODEL__max_depth': range(1, 150),\n",
       "                                        'MODEL__min_samples_leaf': range(1, 20),\n",
       "                                        'MODEL__min_samples_split': range(2, 40),\n",
       "                                        'PCA__n_components': range(1, 33)})"
      ]
     },
     "execution_count": 34,
     "metadata": {},
     "output_type": "execute_result"
    }
   ],
   "source": [
    "param_grid = {\n",
    "    'PCA__n_components' : range(1, len(num_vars)),\n",
    "    'MODEL__max_depth' : range(1, 150),\n",
    "    'MODEL__min_samples_split' : range(2, 40),\n",
    "    'MODEL__min_samples_leaf' : range(1, 20),\n",
    "}\n",
    "\n",
    "grid_fit = RandomizedSearchCV(pipeline, param_grid, cv = 5, n_iter = 1000)\n",
    "grid_fit.fit(X_train, y_train)"
   ]
  },
  {
   "cell_type": "code",
   "execution_count": 35,
   "metadata": {},
   "outputs": [
    {
     "name": "stdout",
     "output_type": "stream",
     "text": [
      "{'PCA__n_components': 6, 'MODEL__min_samples_split': 11, 'MODEL__min_samples_leaf': 14, 'MODEL__max_depth': 109}\n",
      "RMSE Train: 28618.55132865574\n",
      "RMSE Test: 35777.78333722148\n"
     ]
    }
   ],
   "source": [
    "erro_train = mean_squared_error(y_train, grid_fit.predict(X_train))\n",
    "erro_test = mean_squared_error(y_test, grid_fit.predict(X_test))\n",
    "print(grid_fit.best_params_)\n",
    "print(f\"RMSE Train: {np.sqrt(erro_train)}\\nRMSE Test: {np.sqrt(erro_test)}\")"
   ]
  },
  {
   "cell_type": "markdown",
   "metadata": {},
   "source": [
    "### Pipelines de Modelagem - Compostas\n",
    "\n",
    "Agora vamos construir um pipeline capaz de lidar de forma independente com dados categóricos e numéricos."
   ]
  },
  {
   "cell_type": "code",
   "execution_count": 36,
   "metadata": {},
   "outputs": [],
   "source": [
    "from sklearn.compose import ColumnTransformer"
   ]
  },
  {
   "cell_type": "code",
   "execution_count": 37,
   "metadata": {},
   "outputs": [],
   "source": [
    "X_train, X_test, y_train, y_test = train_test_split(tb_housing[num_vars+cat_vars], tb_housing['SalePrice'], test_size = 0.2, random_state = 42)"
   ]
  },
  {
   "cell_type": "code",
   "execution_count": 38,
   "metadata": {},
   "outputs": [],
   "source": [
    "scaler = StandardScaler()\n",
    "pca_num = PCA()\n",
    "num_pipeline = Pipeline([('SCALER', scaler), ('PCA', pca_num)])"
   ]
  },
  {
   "cell_type": "markdown",
   "metadata": {},
   "source": [
    "Iniciamos um pipeline, `num_pipeline`, para tratar exclusivamente de variáveis numéricas. Vamos criar o outro braço do nosso pipeline completo."
   ]
  },
  {
   "cell_type": "code",
   "execution_count": 39,
   "metadata": {},
   "outputs": [],
   "source": [
    "from sklearn.feature_selection import SelectKBest, f_regression"
   ]
  },
  {
   "cell_type": "markdown",
   "metadata": {},
   "source": [
    "Vamos utilizar a função `SelectKBest` para selecionar as principais variáveis dummies que impactam nossa variável resposta. Vamos utilizar o GridSearch para otimizar o K (número de variáveis que manteremos no modelo)."
   ]
  },
  {
   "cell_type": "code",
   "execution_count": 40,
   "metadata": {},
   "outputs": [],
   "source": [
    "ohe = OneHotEncoder(drop = 'first', handle_unknown=\"ignore\")\n",
    "kbest = SelectKBest(score_func = f_regression)\n",
    "cat_pipeline = Pipeline([('OHE', ohe), ('KB', kbest)])"
   ]
  },
  {
   "cell_type": "markdown",
   "metadata": {},
   "source": [
    "Vamos construir a etapa de pré-processamento de dados do pipeline utilizando um `ColumnTransformer` que nos permite especificar não só o nome e função de cada etapa do pipeline mas também quais variáveis são tratadas por cada etapa. Abaixo criamos o braço `NUMPREP` para lidar com variáveis numéricas e o braço `CATPREP` para lidar com variáveis categóricas."
   ]
  },
  {
   "cell_type": "code",
   "execution_count": 41,
   "metadata": {},
   "outputs": [],
   "source": [
    "dataprep = ColumnTransformer(transformers=[('NUMPREP', num_pipeline, num_vars),\n",
    "                                           ('CATPREP', cat_pipeline, cat_vars)])\n"
   ]
  },
  {
   "cell_type": "code",
   "execution_count": 42,
   "metadata": {},
   "outputs": [],
   "source": [
    "tree_fit = DecisionTreeRegressor()\n",
    "pipeline = Pipeline(steps=[('PRE', dataprep),\n",
    "                           ('MODEL', tree_fit)])"
   ]
  },
  {
   "cell_type": "code",
   "execution_count": 43,
   "metadata": {},
   "outputs": [
    {
     "data": {
      "text/plain": [
       "RandomizedSearchCV(cv=5,\n",
       "                   estimator=Pipeline(steps=[('PRE',\n",
       "                                              ColumnTransformer(transformers=[('NUMPREP',\n",
       "                                                                               Pipeline(steps=[('SCALER',\n",
       "                                                                                                StandardScaler()),\n",
       "                                                                                               ('PCA',\n",
       "                                                                                                PCA())]),\n",
       "                                                                               ['MSSubClass',\n",
       "                                                                                'LotArea',\n",
       "                                                                                'OverallQual',\n",
       "                                                                                'OverallCond',\n",
       "                                                                                'YearBuilt',\n",
       "                                                                                'YearRemodAdd',\n",
       "                                                                                'BsmtFinSF1',\n",
       "                                                                                'BsmtFinSF2',\n",
       "                                                                                'BsmtUnfSF',\n",
       "                                                                                'TotalBsmtSF',\n",
       "                                                                                '1stFlrSF',\n",
       "                                                                                '2ndFlrSF',\n",
       "                                                                                'LowQualFinSF',\n",
       "                                                                                'GrLivArea',\n",
       "                                                                                'BsmtFullB...\n",
       "                                                                                'HeatingQC',\n",
       "                                                                                'CentralAir',\n",
       "                                                                                'KitchenQual',\n",
       "                                                                                'Functional',\n",
       "                                                                                'PavedDrive',\n",
       "                                                                                'SaleType',\n",
       "                                                                                'SaleCondition'])])),\n",
       "                                             ('MODEL',\n",
       "                                              DecisionTreeRegressor())]),\n",
       "                   n_iter=500,\n",
       "                   param_distributions={'MODEL__max_depth': range(1, 150),\n",
       "                                        'MODEL__min_samples_leaf': range(1, 20),\n",
       "                                        'MODEL__min_samples_split': range(2, 40),\n",
       "                                        'PRE__CATPREP__KB__k': range(1, 27),\n",
       "                                        'PRE__NUMPREP__PCA__n_components': range(1, 33)})"
      ]
     },
     "execution_count": 43,
     "metadata": {},
     "output_type": "execute_result"
    }
   ],
   "source": [
    "param_grid = {\n",
    "    'PRE__NUMPREP__PCA__n_components' : range(1, len(num_vars)),\n",
    "    'PRE__CATPREP__KB__k' : range(1, len(cat_vars)),\n",
    "    'MODEL__max_depth' : range(1, 150),\n",
    "    'MODEL__min_samples_split' : range(2, 40),\n",
    "    'MODEL__min_samples_leaf' : range(1, 20),\n",
    "}\n",
    "\n",
    "grid_fit = RandomizedSearchCV(pipeline, param_grid, cv = 5, n_iter = 500)\n",
    "grid_fit.fit(X_train, y_train)"
   ]
  },
  {
   "cell_type": "code",
   "execution_count": 44,
   "metadata": {},
   "outputs": [
    {
     "name": "stdout",
     "output_type": "stream",
     "text": [
      "{'PRE__NUMPREP__PCA__n_components': 2, 'PRE__CATPREP__KB__k': 15, 'MODEL__min_samples_split': 39, 'MODEL__min_samples_leaf': 14, 'MODEL__max_depth': 101}\n",
      "RMSE Train: 29637.402677705097\n",
      "RMSE Test: 36234.79299345379\n"
     ]
    }
   ],
   "source": [
    "erro_train = mean_squared_error(y_train, grid_fit.predict(X_train))\n",
    "erro_test = mean_squared_error(y_test, grid_fit.predict(X_test))\n",
    "print(grid_fit.best_params_)\n",
    "print(f\"RMSE Train: {np.sqrt(erro_train)}\\nRMSE Test: {np.sqrt(erro_test)}\")"
   ]
  },
  {
   "cell_type": "markdown",
   "metadata": {},
   "source": [
    "## Utilizando Pipelines com XGBoost\n",
    "\n",
    "Nas últimas aulas vimos que podemos ir além da SKLEARN e utilizar modelos de ponta dentro do Python através da biblioteca catboost. Atualmente, 3 algoritmos são dominantes em termos de capacidade preditiva: catboost, XGBoost e LightGBM. Vimos como utilizar o catboost para criar modelos de boosting robustos, utilizando o early stopping para impedir o overfitting.\n",
    "\n",
    "Hoje vamos utilizar a XGBoost através de sua biblioteca Python. Como esta biblioteca fornece uma interface compatível com a SKLEARN, poderemos incluir o `XGBRegressor` em nosso pipeline preditivo.\n",
    "\n",
    "https://xgboost.readthedocs.io/en/latest/tutorials/param_tuning.html"
   ]
  },
  {
   "cell_type": "code",
   "execution_count": 69,
   "metadata": {},
   "outputs": [
    {
     "name": "stdout",
     "output_type": "stream",
     "text": [
      "Requirement already satisfied: xgboost in c:\\users\\lara\\anaconda3\\lib\\site-packages (1.5.2)\n",
      "Requirement already satisfied: scipy in c:\\users\\lara\\anaconda3\\lib\\site-packages (from xgboost) (1.6.2)\n",
      "Requirement already satisfied: numpy in c:\\users\\lara\\anaconda3\\lib\\site-packages (from xgboost) (1.20.1)\n"
     ]
    }
   ],
   "source": [
    "!pip install xgboost"
   ]
  },
  {
   "cell_type": "code",
   "execution_count": 45,
   "metadata": {},
   "outputs": [],
   "source": [
    "import xgboost as xgb\n",
    "import sys"
   ]
  },
  {
   "cell_type": "markdown",
   "metadata": {},
   "source": [
    "Vamos inicializar um novo pipeline com o XGBoost na etapa `MODEL`"
   ]
  },
  {
   "cell_type": "code",
   "execution_count": 46,
   "metadata": {},
   "outputs": [],
   "source": [
    "xgb_fit = xgb.XGBRegressor()\n",
    "pipeline = Pipeline(steps=[('PRE', dataprep),\n",
    "                           ('MODEL', xgb_fit)])"
   ]
  },
  {
   "cell_type": "markdown",
   "metadata": {},
   "source": [
    "O algoritmo XGBoost, assim como o catboost, é enorme e permite um altissimo grau de customização - permitindo a construção de modelos específicos para cada problema que precisarmos resolver. No entanto, essa flexibilidade tem um custo: complexidade. Primeiro, vamos lembrar que a complexidade de todo modelo de ensemble é ligada à dois fatores distintos: penalização de estimadores fracos individuais e penalizações gerais.\n",
    "\n",
    "Primeiro, vamos analisar 4 hiperparâmetros que controlam a complexidade do modelo ao longo desses dois eixos:\n",
    "* **max_depth**: profundidade máxima de cada estimador fraco **(penalização de estimador fraco)**. **QUANTO MAIOR, MAIS COMPLEXO, MAIS OVERFITTING**.\n",
    "* **min_child_weight**: um limite de pureza que o modelo busca em cada folha de cada árvore construída **(penalização de estimador fraco)**. **QUANTO MENOR, MAIS COMPLEXO, MAIS OVERFITTING**.\n",
    "* **gamma**: controla a complexidade de cada estimador com base na complexidade do modelo completo - conforme adicionamos árvores aumentamos o custo de novas árvores terem muitas folhas **(penalização geral)**. **QUANTO MENOR, MAIS COMPLEXO, MAIS OVERFITTING**.\n",
    "* **n_estimators**: o número de estimadores fracos que serão construídos **(penalização geral)**. **QUANTO MAIOR, MAIS COMPLEXO, MAIS OVERFITTING**.\n",
    "\n",
    "Além disso, o XGBoost realiza a construção de cada novo estimador sobre uma amostra dos dados completa. Podemos reduzir a chance de overfitting alterando 3 parâmetros chaves relativos a esse processo:\n",
    "\n",
    "\n",
    "* **eta**: taxa de aprendizagem, o quanto cada etapa de boosting pode contributir ao modelo. Idealmente queremos um eta baixo e um num_rounds alto, embora isso encorra em custos computacionais maiores. **QUANTO MAIOR, MAIS RÁPIDO, MAIS OVERFITTING**.\n",
    "* **subsample**: % da base completa de treinamento que o XGBoost utiliza para construir cada estimador fraco. **QUANTO MAIOR, MAIS RÁPIDO, MAIS OVERFITTING**.\n",
    "* **colsample_bytree**: % dos features que o XGBoost utilizará para construir cada estimador fraco. **QUANTO MAIOR, MAIS RÁPIDO, MAIS OVERFITTING**."
   ]
  },
  {
   "cell_type": "code",
   "execution_count": 47,
   "metadata": {},
   "outputs": [
    {
     "data": {
      "text/plain": [
       "33"
      ]
     },
     "execution_count": 47,
     "metadata": {},
     "output_type": "execute_result"
    }
   ],
   "source": [
    "len(num_vars)"
   ]
  },
  {
   "cell_type": "code",
   "execution_count": 48,
   "metadata": {},
   "outputs": [
    {
     "data": {
      "text/plain": [
       "27"
      ]
     },
     "execution_count": 48,
     "metadata": {},
     "output_type": "execute_result"
    }
   ],
   "source": [
    "len(cat_vars)"
   ]
  },
  {
   "cell_type": "code",
   "execution_count": 49,
   "metadata": {},
   "outputs": [
    {
     "name": "stdout",
     "output_type": "stream",
     "text": [
      "9223372036854775807\n"
     ]
    }
   ],
   "source": [
    "print(sys.maxsize)"
   ]
  },
  {
   "cell_type": "code",
   "execution_count": 50,
   "metadata": {},
   "outputs": [
    {
     "ename": "OverflowError",
     "evalue": "Python int too large to convert to C long",
     "output_type": "error",
     "traceback": [
      "\u001b[1;31m---------------------------------------------------------------------------\u001b[0m",
      "\u001b[1;31mOverflowError\u001b[0m                             Traceback (most recent call last)",
      "\u001b[1;32m<ipython-input-50-157d807e61f2>\u001b[0m in \u001b[0;36m<module>\u001b[1;34m\u001b[0m\n\u001b[0;32m     12\u001b[0m \u001b[1;33m\u001b[0m\u001b[0m\n\u001b[0;32m     13\u001b[0m \u001b[0mgrid_fit\u001b[0m \u001b[1;33m=\u001b[0m \u001b[0mRandomizedSearchCV\u001b[0m\u001b[1;33m(\u001b[0m\u001b[0mpipeline\u001b[0m\u001b[1;33m,\u001b[0m \u001b[0mparam_grid\u001b[0m\u001b[1;33m,\u001b[0m \u001b[0mcv\u001b[0m \u001b[1;33m=\u001b[0m \u001b[1;36m5\u001b[0m\u001b[1;33m,\u001b[0m \u001b[0mn_iter\u001b[0m \u001b[1;33m=\u001b[0m \u001b[1;36m100\u001b[0m\u001b[1;33m)\u001b[0m\u001b[1;33m\u001b[0m\u001b[1;33m\u001b[0m\u001b[0m\n\u001b[1;32m---> 14\u001b[1;33m \u001b[0mgrid_fit\u001b[0m\u001b[1;33m.\u001b[0m\u001b[0mfit\u001b[0m\u001b[1;33m(\u001b[0m\u001b[0mX_train\u001b[0m\u001b[1;33m,\u001b[0m \u001b[0my_train\u001b[0m\u001b[1;33m)\u001b[0m\u001b[1;33m\u001b[0m\u001b[1;33m\u001b[0m\u001b[0m\n\u001b[0m",
      "\u001b[1;32m~\\anaconda3\\lib\\site-packages\\sklearn\\model_selection\\_search.py\u001b[0m in \u001b[0;36mfit\u001b[1;34m(self, X, y, groups, **fit_params)\u001b[0m\n\u001b[0;32m    889\u001b[0m                 \u001b[1;32mreturn\u001b[0m \u001b[0mresults\u001b[0m\u001b[1;33m\u001b[0m\u001b[1;33m\u001b[0m\u001b[0m\n\u001b[0;32m    890\u001b[0m \u001b[1;33m\u001b[0m\u001b[0m\n\u001b[1;32m--> 891\u001b[1;33m             \u001b[0mself\u001b[0m\u001b[1;33m.\u001b[0m\u001b[0m_run_search\u001b[0m\u001b[1;33m(\u001b[0m\u001b[0mevaluate_candidates\u001b[0m\u001b[1;33m)\u001b[0m\u001b[1;33m\u001b[0m\u001b[1;33m\u001b[0m\u001b[0m\n\u001b[0m\u001b[0;32m    892\u001b[0m \u001b[1;33m\u001b[0m\u001b[0m\n\u001b[0;32m    893\u001b[0m             \u001b[1;31m# multimetric is determined here because in the case of a callable\u001b[0m\u001b[1;33m\u001b[0m\u001b[1;33m\u001b[0m\u001b[1;33m\u001b[0m\u001b[0m\n",
      "\u001b[1;32m~\\anaconda3\\lib\\site-packages\\sklearn\\model_selection\\_search.py\u001b[0m in \u001b[0;36m_run_search\u001b[1;34m(self, evaluate_candidates)\u001b[0m\n\u001b[0;32m   1764\u001b[0m     \u001b[1;32mdef\u001b[0m \u001b[0m_run_search\u001b[0m\u001b[1;33m(\u001b[0m\u001b[0mself\u001b[0m\u001b[1;33m,\u001b[0m \u001b[0mevaluate_candidates\u001b[0m\u001b[1;33m)\u001b[0m\u001b[1;33m:\u001b[0m\u001b[1;33m\u001b[0m\u001b[1;33m\u001b[0m\u001b[0m\n\u001b[0;32m   1765\u001b[0m         \u001b[1;34m\"\"\"Search n_iter candidates from param_distributions\"\"\"\u001b[0m\u001b[1;33m\u001b[0m\u001b[1;33m\u001b[0m\u001b[0m\n\u001b[1;32m-> 1766\u001b[1;33m         evaluate_candidates(\n\u001b[0m\u001b[0;32m   1767\u001b[0m             ParameterSampler(\n\u001b[0;32m   1768\u001b[0m                 \u001b[0mself\u001b[0m\u001b[1;33m.\u001b[0m\u001b[0mparam_distributions\u001b[0m\u001b[1;33m,\u001b[0m \u001b[0mself\u001b[0m\u001b[1;33m.\u001b[0m\u001b[0mn_iter\u001b[0m\u001b[1;33m,\u001b[0m \u001b[0mrandom_state\u001b[0m\u001b[1;33m=\u001b[0m\u001b[0mself\u001b[0m\u001b[1;33m.\u001b[0m\u001b[0mrandom_state\u001b[0m\u001b[1;33m\u001b[0m\u001b[1;33m\u001b[0m\u001b[0m\n",
      "\u001b[1;32m~\\anaconda3\\lib\\site-packages\\sklearn\\model_selection\\_search.py\u001b[0m in \u001b[0;36mevaluate_candidates\u001b[1;34m(candidate_params, cv, more_results)\u001b[0m\n\u001b[0;32m    825\u001b[0m             \u001b[1;32mdef\u001b[0m \u001b[0mevaluate_candidates\u001b[0m\u001b[1;33m(\u001b[0m\u001b[0mcandidate_params\u001b[0m\u001b[1;33m,\u001b[0m \u001b[0mcv\u001b[0m\u001b[1;33m=\u001b[0m\u001b[1;32mNone\u001b[0m\u001b[1;33m,\u001b[0m \u001b[0mmore_results\u001b[0m\u001b[1;33m=\u001b[0m\u001b[1;32mNone\u001b[0m\u001b[1;33m)\u001b[0m\u001b[1;33m:\u001b[0m\u001b[1;33m\u001b[0m\u001b[1;33m\u001b[0m\u001b[0m\n\u001b[0;32m    826\u001b[0m                 \u001b[0mcv\u001b[0m \u001b[1;33m=\u001b[0m \u001b[0mcv\u001b[0m \u001b[1;32mor\u001b[0m \u001b[0mcv_orig\u001b[0m\u001b[1;33m\u001b[0m\u001b[1;33m\u001b[0m\u001b[0m\n\u001b[1;32m--> 827\u001b[1;33m                 \u001b[0mcandidate_params\u001b[0m \u001b[1;33m=\u001b[0m \u001b[0mlist\u001b[0m\u001b[1;33m(\u001b[0m\u001b[0mcandidate_params\u001b[0m\u001b[1;33m)\u001b[0m\u001b[1;33m\u001b[0m\u001b[1;33m\u001b[0m\u001b[0m\n\u001b[0m\u001b[0;32m    828\u001b[0m                 \u001b[0mn_candidates\u001b[0m \u001b[1;33m=\u001b[0m \u001b[0mlen\u001b[0m\u001b[1;33m(\u001b[0m\u001b[0mcandidate_params\u001b[0m\u001b[1;33m)\u001b[0m\u001b[1;33m\u001b[0m\u001b[1;33m\u001b[0m\u001b[0m\n\u001b[0;32m    829\u001b[0m \u001b[1;33m\u001b[0m\u001b[0m\n",
      "\u001b[1;32m~\\anaconda3\\lib\\site-packages\\sklearn\\model_selection\\_search.py\u001b[0m in \u001b[0;36m__iter__\u001b[1;34m(self)\u001b[0m\n\u001b[0;32m    297\u001b[0m                 )\n\u001b[0;32m    298\u001b[0m                 \u001b[0mn_iter\u001b[0m \u001b[1;33m=\u001b[0m \u001b[0mgrid_size\u001b[0m\u001b[1;33m\u001b[0m\u001b[1;33m\u001b[0m\u001b[0m\n\u001b[1;32m--> 299\u001b[1;33m             \u001b[1;32mfor\u001b[0m \u001b[0mi\u001b[0m \u001b[1;32min\u001b[0m \u001b[0msample_without_replacement\u001b[0m\u001b[1;33m(\u001b[0m\u001b[0mgrid_size\u001b[0m\u001b[1;33m,\u001b[0m \u001b[0mn_iter\u001b[0m\u001b[1;33m,\u001b[0m \u001b[0mrandom_state\u001b[0m\u001b[1;33m=\u001b[0m\u001b[0mrng\u001b[0m\u001b[1;33m)\u001b[0m\u001b[1;33m:\u001b[0m\u001b[1;33m\u001b[0m\u001b[1;33m\u001b[0m\u001b[0m\n\u001b[0m\u001b[0;32m    300\u001b[0m                 \u001b[1;32myield\u001b[0m \u001b[0mparam_grid\u001b[0m\u001b[1;33m[\u001b[0m\u001b[0mi\u001b[0m\u001b[1;33m]\u001b[0m\u001b[1;33m\u001b[0m\u001b[1;33m\u001b[0m\u001b[0m\n\u001b[0;32m    301\u001b[0m \u001b[1;33m\u001b[0m\u001b[0m\n",
      "\u001b[1;32msklearn\\utils\\_random.pyx\u001b[0m in \u001b[0;36msklearn.utils._random.sample_without_replacement\u001b[1;34m()\u001b[0m\n",
      "\u001b[1;31mOverflowError\u001b[0m: Python int too large to convert to C long"
     ]
    }
   ],
   "source": [
    "param_grid = {\n",
    "    'PRE__NUMPREP__PCA__n_components' : range(1, len(num_vars)),\n",
    "    'PRE__CATPREP__KB__k' : range(1, len(cat_vars)),\n",
    "    'MODEL__max_depth' : range(1, 10),\n",
    "    'MODEL__eta' : np.linspace(0.01, 1, 10), \n",
    "    \"MODEL__min_child_weight\": np.linspace(0.01, 5, 10),          \n",
    "    \"MODEL__gamma\": np.linspace(0.01, 5, 10),                     \n",
    "    \"MODEL__colsample_bytree\" : np.linspace(0.6, 0.9, 10),                \n",
    "    'MODEL__subsample':np.linspace(0.4, 0.8, 10),\n",
    "    'MODEL__n_estimators':[int(x) for x in np.linspace(5, 150, 10)]\n",
    "}\n",
    "\n",
    "grid_fit = RandomizedSearchCV(pipeline, param_grid, cv = 5, n_iter = 100)\n",
    "grid_fit.fit(X_train, y_train)"
   ]
  },
  {
   "cell_type": "code",
   "execution_count": 62,
   "metadata": {},
   "outputs": [
    {
     "data": {
      "text/plain": [
       "Pipeline(steps=[('PRE',\n",
       "                 ColumnTransformer(transformers=[('NUMPREP',\n",
       "                                                  Pipeline(steps=[('SCALER',\n",
       "                                                                   StandardScaler()),\n",
       "                                                                  ('PCA',\n",
       "                                                                   PCA())]),\n",
       "                                                  ['MSSubClass', 'LotArea',\n",
       "                                                   'OverallQual', 'OverallCond',\n",
       "                                                   'YearBuilt', 'YearRemodAdd',\n",
       "                                                   'BsmtFinSF1', 'BsmtFinSF2',\n",
       "                                                   'BsmtUnfSF', 'TotalBsmtSF',\n",
       "                                                   '1stFlrSF', '2ndFlrSF',\n",
       "                                                   'LowQualFinSF', 'GrLivArea',\n",
       "                                                   'BsmtFullBath',\n",
       "                                                   'BsmtHalfBath', 'FullBath',\n",
       "                                                   'Ha...\n",
       "                              gamma=0, gpu_id=-1, importance_type=None,\n",
       "                              interaction_constraints='',\n",
       "                              learning_rate=0.300000012, max_delta_step=0,\n",
       "                              max_depth=6, min_child_weight=1, missing=nan,\n",
       "                              monotone_constraints='()', n_estimators=100,\n",
       "                              n_jobs=-1, num_parallel_tree=1, predictor='auto',\n",
       "                              random_state=0, reg_alpha=0, reg_lambda=1,\n",
       "                              scale_pos_weight=1, subsample=1,\n",
       "                              tree_method='exact', validate_parameters=1,\n",
       "                              verbosity=None))])"
      ]
     },
     "execution_count": 62,
     "metadata": {},
     "output_type": "execute_result"
    }
   ],
   "source": [
    "pipeline.fit(X_train, y_train)"
   ]
  },
  {
   "cell_type": "code",
   "execution_count": null,
   "metadata": {},
   "outputs": [],
   "source": [
    "erro_train = mean_squared_error(y_train, grid_fit.predict(X_train))\n",
    "erro_test = mean_squared_error(y_test, grid_fit.predict(X_test))\n",
    "print(grid_fit.best_params_)\n",
    "print(f\"RMSE Train: {np.sqrt(erro_train)}\\nRMSE Test: {np.sqrt(erro_test)}\")"
   ]
  },
  {
   "cell_type": "code",
   "execution_count": 52,
   "metadata": {},
   "outputs": [
    {
     "name": "stdout",
     "output_type": "stream",
     "text": [
      "1.0.2\n"
     ]
    }
   ],
   "source": [
    "import sklearn\n",
    "print(sklearn.__version__)"
   ]
  },
  {
   "cell_type": "code",
   "execution_count": null,
   "metadata": {},
   "outputs": [],
   "source": []
  }
 ],
 "metadata": {
  "interpreter": {
   "hash": "014f4a4a5af8f0104b12c029e500f4146d6d785e8cf714d2a35b7a9514230cd3"
  },
  "kernelspec": {
   "display_name": "Python 3 (ipykernel)",
   "language": "python",
   "name": "python3"
  },
  "language_info": {
   "codemirror_mode": {
    "name": "ipython",
    "version": 3
   },
   "file_extension": ".py",
   "mimetype": "text/x-python",
   "name": "python",
   "nbconvert_exporter": "python",
   "pygments_lexer": "ipython3",
   "version": "3.8.8"
  },
  "toc": {
   "base_numbering": 1,
   "nav_menu": {},
   "number_sections": true,
   "sideBar": true,
   "skip_h1_title": false,
   "title_cell": "Table of Contents",
   "title_sidebar": "Contents",
   "toc_cell": false,
   "toc_position": {},
   "toc_section_display": true,
   "toc_window_display": false
  }
 },
 "nbformat": 4,
 "nbformat_minor": 2
}
