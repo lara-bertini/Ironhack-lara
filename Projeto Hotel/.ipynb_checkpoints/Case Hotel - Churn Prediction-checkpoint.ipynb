{
 "cells": [
  {
   "cell_type": "code",
   "execution_count": 57,
   "id": "926818f9",
   "metadata": {},
   "outputs": [],
   "source": [
    "# Importação de bibliotecas\n",
    "import pandas as pd\n",
    "import seaborn as sns\n",
    "from sklearn.linear_model import LogisticRegression\n",
    "from sklearn.decomposition import PCA\n",
    "from sklearn.preprocessing import StandardScaler\n",
    "from sklearn.model_selection import train_test_split\n",
    "from sklearn.neighbors import KNeighborsClassifier\n",
    "import numpy as np"
   ]
  },
  {
   "cell_type": "markdown",
   "id": "191919d7",
   "metadata": {},
   "source": [
    "# Leitura de dados"
   ]
  },
  {
   "cell_type": "code",
   "execution_count": 26,
   "id": "00ac33e8",
   "metadata": {},
   "outputs": [],
   "source": [
    "# Ler arquivo .csv para um DataFrame pandas\n",
    "tb_hotel = pd.read_csv(\"tb_hotel_traintest.csv\")\n",
    "# Validar número de colunas\n",
    "# Validar e tratar tipo das colunas (principalmente datas através da função pd.to_datetime)\n",
    "tb_hotel_cleaned = tb_hotel[['is_cancelled',\n",
    "                              'hotel',\n",
    "                              'stays_in_weekend_nights',\n",
    "                              'stays_in_week_nights',\n",
    "                              'adults',\n",
    "                              'children',\n",
    "                              'babies',\n",
    "                              #'meal',\n",
    "                              #'country',\n",
    "                              #'market_segment',\n",
    "                              'is_repeated_guest',\n",
    "                              'previous_cancellations',\n",
    "                              'previous_bookings_not_canceled',\n",
    "                              #'reserved_room_type',\n",
    "                              'booking_changes',\n",
    "                              #'deposit_type',\n",
    "                              'days_in_waiting_list',\n",
    "                              #'customer_type',\n",
    "                              'adr',\n",
    "                              'required_car_parking_spaces',\n",
    "                              'total_of_special_requests'\n",
    "                              #'reservation_status_date',\n",
    "                              #'arrival_date'\n",
    "                              ]]\n",
    "tb_hotel_cleaned = tb_hotel_cleaned.dropna()"
   ]
  },
  {
   "cell_type": "code",
   "execution_count": 27,
   "id": "1d74db99",
   "metadata": {},
   "outputs": [],
   "source": [
    "#transformação de variável input 'hotel' em numérico\n",
    "tb_hotel_cleaned = pd.concat([pd.get_dummies(tb_hotel_cleaned['hotel'],dtype=int,drop_first = True),tb_hotel_cleaned],axis=1)\n",
    "tb_hotel_cleaned = tb_hotel_cleaned.drop('hotel', axis=1)"
   ]
  },
  {
   "cell_type": "code",
   "execution_count": 28,
   "id": "7ff33309",
   "metadata": {},
   "outputs": [
    {
     "data": {
      "text/html": [
       "<div>\n",
       "<style scoped>\n",
       "    .dataframe tbody tr th:only-of-type {\n",
       "        vertical-align: middle;\n",
       "    }\n",
       "\n",
       "    .dataframe tbody tr th {\n",
       "        vertical-align: top;\n",
       "    }\n",
       "\n",
       "    .dataframe thead th {\n",
       "        text-align: right;\n",
       "    }\n",
       "</style>\n",
       "<table border=\"1\" class=\"dataframe\">\n",
       "  <thead>\n",
       "    <tr style=\"text-align: right;\">\n",
       "      <th></th>\n",
       "      <th>Resort Hotel</th>\n",
       "      <th>is_cancelled</th>\n",
       "      <th>stays_in_weekend_nights</th>\n",
       "      <th>stays_in_week_nights</th>\n",
       "      <th>adults</th>\n",
       "      <th>children</th>\n",
       "      <th>babies</th>\n",
       "      <th>is_repeated_guest</th>\n",
       "      <th>previous_cancellations</th>\n",
       "      <th>previous_bookings_not_canceled</th>\n",
       "      <th>booking_changes</th>\n",
       "      <th>days_in_waiting_list</th>\n",
       "      <th>adr</th>\n",
       "      <th>required_car_parking_spaces</th>\n",
       "      <th>total_of_special_requests</th>\n",
       "    </tr>\n",
       "  </thead>\n",
       "  <tbody>\n",
       "    <tr>\n",
       "      <th>0</th>\n",
       "      <td>1</td>\n",
       "      <td>0</td>\n",
       "      <td>0</td>\n",
       "      <td>0</td>\n",
       "      <td>2</td>\n",
       "      <td>0.0</td>\n",
       "      <td>0</td>\n",
       "      <td>0</td>\n",
       "      <td>0</td>\n",
       "      <td>0</td>\n",
       "      <td>3</td>\n",
       "      <td>0</td>\n",
       "      <td>0.0</td>\n",
       "      <td>0</td>\n",
       "      <td>0</td>\n",
       "    </tr>\n",
       "    <tr>\n",
       "      <th>1</th>\n",
       "      <td>1</td>\n",
       "      <td>0</td>\n",
       "      <td>0</td>\n",
       "      <td>0</td>\n",
       "      <td>2</td>\n",
       "      <td>0.0</td>\n",
       "      <td>0</td>\n",
       "      <td>0</td>\n",
       "      <td>0</td>\n",
       "      <td>0</td>\n",
       "      <td>4</td>\n",
       "      <td>0</td>\n",
       "      <td>0.0</td>\n",
       "      <td>0</td>\n",
       "      <td>0</td>\n",
       "    </tr>\n",
       "    <tr>\n",
       "      <th>2</th>\n",
       "      <td>1</td>\n",
       "      <td>0</td>\n",
       "      <td>0</td>\n",
       "      <td>1</td>\n",
       "      <td>1</td>\n",
       "      <td>0.0</td>\n",
       "      <td>0</td>\n",
       "      <td>0</td>\n",
       "      <td>0</td>\n",
       "      <td>0</td>\n",
       "      <td>0</td>\n",
       "      <td>0</td>\n",
       "      <td>75.0</td>\n",
       "      <td>0</td>\n",
       "      <td>0</td>\n",
       "    </tr>\n",
       "    <tr>\n",
       "      <th>3</th>\n",
       "      <td>1</td>\n",
       "      <td>0</td>\n",
       "      <td>0</td>\n",
       "      <td>1</td>\n",
       "      <td>1</td>\n",
       "      <td>0.0</td>\n",
       "      <td>0</td>\n",
       "      <td>0</td>\n",
       "      <td>0</td>\n",
       "      <td>0</td>\n",
       "      <td>0</td>\n",
       "      <td>0</td>\n",
       "      <td>75.0</td>\n",
       "      <td>0</td>\n",
       "      <td>0</td>\n",
       "    </tr>\n",
       "    <tr>\n",
       "      <th>4</th>\n",
       "      <td>1</td>\n",
       "      <td>0</td>\n",
       "      <td>0</td>\n",
       "      <td>2</td>\n",
       "      <td>2</td>\n",
       "      <td>0.0</td>\n",
       "      <td>0</td>\n",
       "      <td>0</td>\n",
       "      <td>0</td>\n",
       "      <td>0</td>\n",
       "      <td>0</td>\n",
       "      <td>0</td>\n",
       "      <td>98.0</td>\n",
       "      <td>0</td>\n",
       "      <td>1</td>\n",
       "    </tr>\n",
       "  </tbody>\n",
       "</table>\n",
       "</div>"
      ],
      "text/plain": [
       "   Resort Hotel  is_cancelled  stays_in_weekend_nights  stays_in_week_nights  \\\n",
       "0             1             0                        0                     0   \n",
       "1             1             0                        0                     0   \n",
       "2             1             0                        0                     1   \n",
       "3             1             0                        0                     1   \n",
       "4             1             0                        0                     2   \n",
       "\n",
       "   adults  children  babies  is_repeated_guest  previous_cancellations  \\\n",
       "0       2       0.0       0                  0                       0   \n",
       "1       2       0.0       0                  0                       0   \n",
       "2       1       0.0       0                  0                       0   \n",
       "3       1       0.0       0                  0                       0   \n",
       "4       2       0.0       0                  0                       0   \n",
       "\n",
       "   previous_bookings_not_canceled  booking_changes  days_in_waiting_list  \\\n",
       "0                               0                3                     0   \n",
       "1                               0                4                     0   \n",
       "2                               0                0                     0   \n",
       "3                               0                0                     0   \n",
       "4                               0                0                     0   \n",
       "\n",
       "    adr  required_car_parking_spaces  total_of_special_requests  \n",
       "0   0.0                            0                          0  \n",
       "1   0.0                            0                          0  \n",
       "2  75.0                            0                          0  \n",
       "3  75.0                            0                          0  \n",
       "4  98.0                            0                          1  "
      ]
     },
     "execution_count": 28,
     "metadata": {},
     "output_type": "execute_result"
    }
   ],
   "source": [
    "tb_hotel_cleaned.head()"
   ]
  },
  {
   "cell_type": "code",
   "execution_count": 29,
   "id": "2c465a9c",
   "metadata": {},
   "outputs": [],
   "source": [
    "# separando em variáveis X e Y\n",
    "tb_hotel_cleaned_Y = tb_hotel_cleaned['is_cancelled']\n",
    "tb_hotel_cleaned_X = tb_hotel_cleaned.drop(['is_cancelled'], axis=1)"
   ]
  },
  {
   "cell_type": "markdown",
   "id": "a67625c6",
   "metadata": {},
   "source": [
    "# EDA (Análise Exploratória de Dados)"
   ]
  },
  {
   "cell_type": "markdown",
   "id": "bf0ab39a",
   "metadata": {},
   "source": [
    "#### Avaliação de problemas nos dados (missing value e informações incorretas)"
   ]
  },
  {
   "cell_type": "code",
   "execution_count": null,
   "id": "d2476c91",
   "metadata": {},
   "outputs": [],
   "source": [
    "tb_hotel.describe()"
   ]
  },
  {
   "cell_type": "code",
   "execution_count": null,
   "id": "6c48d15e",
   "metadata": {},
   "outputs": [],
   "source": [
    "tb_hotel.info()"
   ]
  },
  {
   "cell_type": "code",
   "execution_count": null,
   "id": "e594a11a",
   "metadata": {},
   "outputs": [],
   "source": [
    "tb_hotel.head()"
   ]
  },
  {
   "cell_type": "code",
   "execution_count": null,
   "id": "ca2ce205",
   "metadata": {},
   "outputs": [],
   "source": [
    "sns.histplot(data=tb_hotel[['hotel','is_cancelled']],x='is_cancelled', hue='hotel', multiple=\"dodge\")"
   ]
  },
  {
   "cell_type": "code",
   "execution_count": null,
   "id": "fd631c72",
   "metadata": {},
   "outputs": [],
   "source": [
    "# dúvida\n",
    "# Como faço pra plotar sem esses números do meio (precisa transformar em boolean)"
   ]
  },
  {
   "cell_type": "code",
   "execution_count": null,
   "id": "c68b3a85",
   "metadata": {},
   "outputs": [],
   "source": [
    "tb_city_resort = tb_hotel[['is_cancelled','hotel','id_booking']].groupby(by=['hotel', 'is_cancelled']).count()\n",
    "print(tb_city_resort)"
   ]
  },
  {
   "cell_type": "code",
   "execution_count": null,
   "id": "97e0a097",
   "metadata": {},
   "outputs": [],
   "source": [
    "tb_city_resort = tb_city_resort.reset_index()"
   ]
  },
  {
   "cell_type": "code",
   "execution_count": null,
   "id": "f701801b",
   "metadata": {},
   "outputs": [],
   "source": [
    "tb_city_resort['sum_bookings'] = tb_city_resort.groupby(by=['hotel']).transform(sum)['id_booking']\n",
    "tb_city_resort['%cancelled'] = tb_city_resort['id_booking'] / tb_city_resort['sum_bookings']\n",
    "print(tb_city_resort)"
   ]
  },
  {
   "cell_type": "code",
   "execution_count": null,
   "id": "008ab9c2",
   "metadata": {},
   "outputs": [],
   "source": [
    "tb_hotel.corr()"
   ]
  },
  {
   "cell_type": "markdown",
   "id": "3603a473",
   "metadata": {},
   "source": [
    "# Modelo Baseline"
   ]
  },
  {
   "cell_type": "code",
   "execution_count": null,
   "id": "f9fc33c8",
   "metadata": {},
   "outputs": [],
   "source": [
    "# Variáveis:\n",
    "# hotel -- criar boolean"
   ]
  },
  {
   "cell_type": "code",
   "execution_count": null,
   "id": "ec7db677",
   "metadata": {},
   "outputs": [],
   "source": [
    "# dúvida\n",
    "# todas as variáveis deram uma correlação meio baixa, é isso mesmo?"
   ]
  },
  {
   "cell_type": "markdown",
   "id": "b1cd4653",
   "metadata": {},
   "source": [
    "#### Divisão do dataset em train e test para evitar leakage"
   ]
  },
  {
   "cell_type": "code",
   "execution_count": 59,
   "id": "66d36725",
   "metadata": {},
   "outputs": [],
   "source": [
    "X_train, X_test, y_train, y_test = train_test_split(tb_hotel_cleaned_X, tb_hotel_cleaned_Y, test_size = 0.2)"
   ]
  },
  {
   "cell_type": "code",
   "execution_count": 60,
   "id": "0e2bdbaf",
   "metadata": {},
   "outputs": [
    {
     "name": "stdout",
     "output_type": "stream",
     "text": [
      "<class 'pandas.core.frame.DataFrame'>\n",
      "Int64Index: 90724 entries, 82200 to 64574\n",
      "Data columns (total 14 columns):\n",
      " #   Column                          Non-Null Count  Dtype  \n",
      "---  ------                          --------------  -----  \n",
      " 0   Resort Hotel                    90724 non-null  int32  \n",
      " 1   stays_in_weekend_nights         90724 non-null  int64  \n",
      " 2   stays_in_week_nights            90724 non-null  int64  \n",
      " 3   adults                          90724 non-null  int64  \n",
      " 4   children                        90724 non-null  float64\n",
      " 5   babies                          90724 non-null  int64  \n",
      " 6   is_repeated_guest               90724 non-null  int64  \n",
      " 7   previous_cancellations          90724 non-null  int64  \n",
      " 8   previous_bookings_not_canceled  90724 non-null  int64  \n",
      " 9   booking_changes                 90724 non-null  int64  \n",
      " 10  days_in_waiting_list            90724 non-null  int64  \n",
      " 11  adr                             90724 non-null  float64\n",
      " 12  required_car_parking_spaces     90724 non-null  int64  \n",
      " 13  total_of_special_requests       90724 non-null  int64  \n",
      "dtypes: float64(2), int32(1), int64(11)\n",
      "memory usage: 10.0 MB\n"
     ]
    }
   ],
   "source": [
    "X_train.info()"
   ]
  },
  {
   "cell_type": "markdown",
   "id": "4adb8e4a",
   "metadata": {},
   "source": [
    "#### PCA evitará não convergência de regressão logística"
   ]
  },
  {
   "cell_type": "code",
   "execution_count": 61,
   "id": "c3147ed9",
   "metadata": {},
   "outputs": [],
   "source": [
    "norm = StandardScaler().fit(X_train)\n",
    "X_train_norm = norm.transform(X_train)\n",
    "pca_t = PCA()\n",
    "pca_t.fit(X_train_norm)\n",
    "X_train_pca = pca_t.transform(X_train_norm)"
   ]
  },
  {
   "cell_type": "code",
   "execution_count": 62,
   "id": "89d026f0",
   "metadata": {},
   "outputs": [],
   "source": [
    "X_test_norm = norm.transform(X_test)\n",
    "X_test_pca = pca_t.transform(X_test_norm)"
   ]
  },
  {
   "cell_type": "markdown",
   "id": "ec6586e4",
   "metadata": {},
   "source": [
    "#### Regressão logística"
   ]
  },
  {
   "cell_type": "code",
   "execution_count": 63,
   "id": "6bdefe4d",
   "metadata": {},
   "outputs": [
    {
     "data": {
      "text/plain": [
       "LogisticRegression()"
      ]
     },
     "execution_count": 63,
     "metadata": {},
     "output_type": "execute_result"
    }
   ],
   "source": [
    "# falta evitar leakage\n",
    "logistic = LogisticRegression()\n",
    "logistic.fit(X=X_train_pca, y=y_train)"
   ]
  },
  {
   "cell_type": "code",
   "execution_count": 66,
   "id": "201c8498",
   "metadata": {},
   "outputs": [
    {
     "data": {
      "text/plain": [
       "0.37026586129359373"
      ]
     },
     "execution_count": 66,
     "metadata": {},
     "output_type": "execute_result"
    }
   ],
   "source": [
    "np.mean(y_train)"
   ]
  },
  {
   "cell_type": "code",
   "execution_count": 68,
   "id": "58d8de89",
   "metadata": {},
   "outputs": [
    {
     "data": {
      "text/plain": [
       "0.37195493311232714"
      ]
     },
     "execution_count": 68,
     "metadata": {},
     "output_type": "execute_result"
    }
   ],
   "source": [
    "np.mean(logistic.predict_proba(X_test_pca)[:,1])"
   ]
  },
  {
   "cell_type": "code",
   "execution_count": 71,
   "id": "15f476df",
   "metadata": {},
   "outputs": [],
   "source": [
    "\n",
    "y_test['pred_prob'] = logistic.predict_proba(X_test_pca)[:,1]"
   ]
  },
  {
   "cell_type": "code",
   "execution_count": 72,
   "id": "180fc22e",
   "metadata": {},
   "outputs": [
    {
     "data": {
      "text/plain": [
       "pandas.core.series.Series"
      ]
     },
     "execution_count": 72,
     "metadata": {},
     "output_type": "execute_result"
    }
   ],
   "source": [
    "type(y_test)"
   ]
  },
  {
   "cell_type": "code",
   "execution_count": 73,
   "id": "6e506b97",
   "metadata": {},
   "outputs": [
    {
     "data": {
      "text/plain": [
       "68766                                                        1\n",
       "3687                                                         1\n",
       "13147                                                        0\n",
       "6183                                                         1\n",
       "34339                                                        0\n",
       "                                   ...                        \n",
       "98925                                                        0\n",
       "100817                                                       0\n",
       "112301                                                       0\n",
       "64338                                                        1\n",
       "pred_prob    [0.4731090814008845, 0.30566869009788905, 0.17...\n",
       "Name: is_cancelled, Length: 22683, dtype: object"
      ]
     },
     "execution_count": 73,
     "metadata": {},
     "output_type": "execute_result"
    }
   ],
   "source": [
    "y_test"
   ]
  },
  {
   "cell_type": "markdown",
   "id": "5496059d",
   "metadata": {},
   "source": [
    "#### 1-NN (kNN com n-neighbors = 1)"
   ]
  },
  {
   "cell_type": "code",
   "execution_count": 16,
   "id": "94fc3e4a",
   "metadata": {},
   "outputs": [
    {
     "data": {
      "text/plain": [
       "KNeighborsClassifier(n_neighbors=1)"
      ]
     },
     "execution_count": 16,
     "metadata": {},
     "output_type": "execute_result"
    }
   ],
   "source": [
    "knn_fit = KNeighborsClassifier(n_neighbors=1)\n",
    "knn_fit.fit(X_train, y_train)"
   ]
  },
  {
   "cell_type": "code",
   "execution_count": 17,
   "id": "21f13b0b",
   "metadata": {},
   "outputs": [],
   "source": [
    "y_test['pred_prob'] = knn_fit.predict(X_test)"
   ]
  },
  {
   "cell_type": "code",
   "execution_count": 43,
   "id": "4b19113b",
   "metadata": {},
   "outputs": [
    {
     "data": {
      "text/plain": [
       "69684                                                        1\n",
       "27028                                                        0\n",
       "98961                                                        0\n",
       "99134                                                        0\n",
       "73664                                                        1\n",
       "                                   ...                        \n",
       "81992                                                        0\n",
       "80708                                                        0\n",
       "30547                                                        0\n",
       "72923                                                        1\n",
       "pred_prob    [[0.0, 1.0], [1.4925838343060605e-11, 0.999999...\n",
       "Name: is_cancelled, Length: 22683, dtype: object"
      ]
     },
     "execution_count": 43,
     "metadata": {},
     "output_type": "execute_result"
    }
   ],
   "source": [
    "y_test"
   ]
  },
  {
   "cell_type": "markdown",
   "id": "3cd6e2b2",
   "metadata": {},
   "source": [
    "#### Teste do sample"
   ]
  },
  {
   "cell_type": "code",
   "execution_count": 18,
   "id": "c7c04648",
   "metadata": {},
   "outputs": [],
   "source": [
    "sample = pd.read_csv(\"tb_hotel_feat_valid.csv\")\n",
    "logistic_output = pd.DataFrame()\n",
    "KNN_output = pd.DataFrame()"
   ]
  },
  {
   "cell_type": "code",
   "execution_count": 19,
   "id": "234825fe",
   "metadata": {},
   "outputs": [
    {
     "name": "stdout",
     "output_type": "stream",
     "text": [
      "<class 'pandas.core.frame.DataFrame'>\n",
      "RangeIndex: 5981 entries, 0 to 5980\n",
      "Data columns (total 28 columns):\n",
      " #   Column                          Non-Null Count  Dtype  \n",
      "---  ------                          --------------  -----  \n",
      " 0   hotel                           5981 non-null   object \n",
      " 1   lead_time                       5981 non-null   int64  \n",
      " 2   stays_in_weekend_nights         5981 non-null   int64  \n",
      " 3   stays_in_week_nights            5981 non-null   int64  \n",
      " 4   adults                          5981 non-null   int64  \n",
      " 5   children                        5980 non-null   float64\n",
      " 6   babies                          5981 non-null   int64  \n",
      " 7   meal                            5981 non-null   object \n",
      " 8   country                         5951 non-null   object \n",
      " 9   market_segment                  5981 non-null   object \n",
      " 10  distribution_channel            5981 non-null   object \n",
      " 11  is_repeated_guest               5981 non-null   int64  \n",
      " 12  previous_cancellations          5981 non-null   int64  \n",
      " 13  previous_bookings_not_canceled  5981 non-null   int64  \n",
      " 14  reserved_room_type              5981 non-null   object \n",
      " 15  assigned_room_type              5981 non-null   object \n",
      " 16  booking_changes                 5981 non-null   int64  \n",
      " 17  deposit_type                    5981 non-null   object \n",
      " 18  agent                           5132 non-null   float64\n",
      " 19  company                         360 non-null    float64\n",
      " 20  days_in_waiting_list            5981 non-null   int64  \n",
      " 21  customer_type                   5981 non-null   object \n",
      " 22  adr                             5981 non-null   float64\n",
      " 23  required_car_parking_spaces     5981 non-null   int64  \n",
      " 24  total_of_special_requests       5981 non-null   int64  \n",
      " 25  reservation_status_date         5981 non-null   object \n",
      " 26  arrival_date                    5981 non-null   object \n",
      " 27  id_booking                      5981 non-null   int64  \n",
      "dtypes: float64(4), int64(13), object(11)\n",
      "memory usage: 1.3+ MB\n"
     ]
    }
   ],
   "source": [
    "sample.info()"
   ]
  },
  {
   "cell_type": "code",
   "execution_count": 20,
   "id": "7d1281dd",
   "metadata": {},
   "outputs": [],
   "source": [
    "sample = sample[['hotel',\n",
    "                              'stays_in_weekend_nights',\n",
    "                              'stays_in_week_nights',\n",
    "                              'adults',\n",
    "                              'children',\n",
    "                              'babies',\n",
    "                              #'meal',\n",
    "                              #'country',\n",
    "                              #'market_segment',\n",
    "                              'is_repeated_guest',\n",
    "                              'previous_cancellations',\n",
    "                              'previous_bookings_not_canceled',\n",
    "                              #'reserved_room_type',\n",
    "                              'booking_changes',\n",
    "                              #'deposit_type',\n",
    "                              'days_in_waiting_list',\n",
    "                              #'customer_type',\n",
    "                              'adr',\n",
    "                              'required_car_parking_spaces',\n",
    "                              'total_of_special_requests',\n",
    "                 'id_booking'\n",
    "                              #'reservation_status_date',\n",
    "                              #'arrival_date'\n",
    "                              ]]\n",
    "sample = sample.dropna()"
   ]
  },
  {
   "cell_type": "code",
   "execution_count": null,
   "id": "b1302196",
   "metadata": {},
   "outputs": [],
   "source": [
    "logistic_output['id_booking'] = sample['id_booking'].copy()\n",
    "KNN_output['id_booking'] = sample['id_booking'].copy()"
   ]
  },
  {
   "cell_type": "code",
   "execution_count": null,
   "id": "4f93cde0",
   "metadata": {},
   "outputs": [],
   "source": [
    "sample_X = sample.drop(['id_booking'], axis=1)\n",
    "sample_X = pd.concat([pd.get_dummies(sample_X['hotel'],dtype=int,drop_first = True),sample_X],axis=1)\n",
    "sample_X = sample.drop('hotel', axis=1)"
   ]
  },
  {
   "cell_type": "code",
   "execution_count": 21,
   "id": "8bfb7217",
   "metadata": {},
   "outputs": [
    {
     "name": "stderr",
     "output_type": "stream",
     "text": [
      "C:\\Users\\Lara\\anaconda3\\envs\\Python3\\lib\\site-packages\\sklearn\\base.py:443: UserWarning: X has feature names, but StandardScaler was fitted without feature names\n",
      "  warnings.warn(\n"
     ]
    }
   ],
   "source": [
    "sample_X_norm = norm.transform(sample_X)\n",
    "sample_X_pca = pca_t.transform(sample_X_norm)"
   ]
  },
  {
   "cell_type": "code",
   "execution_count": null,
   "id": "9437431d",
   "metadata": {},
   "outputs": [],
   "source": [
    "logistic_output['is_cancelled'] = logistic.predict_proba(sample_X_pca)\n",
    "KNN_output['is_cancelled'] = knn_fit.predict(sample_X_pca)"
   ]
  },
  {
   "cell_type": "code",
   "execution_count": 24,
   "id": "adcc8803",
   "metadata": {},
   "outputs": [
    {
     "ename": "AttributeError",
     "evalue": "'numpy.ndarray' object has no attribute 'info'",
     "output_type": "error",
     "traceback": [
      "\u001b[1;31m---------------------------------------------------------------------------\u001b[0m",
      "\u001b[1;31mAttributeError\u001b[0m                            Traceback (most recent call last)",
      "\u001b[1;32m~\\AppData\\Local\\Temp/ipykernel_11944/581197040.py\u001b[0m in \u001b[0;36m<module>\u001b[1;34m\u001b[0m\n\u001b[1;32m----> 1\u001b[1;33m \u001b[0mX_train\u001b[0m\u001b[1;33m.\u001b[0m\u001b[0minfo\u001b[0m\u001b[1;33m(\u001b[0m\u001b[1;33m)\u001b[0m\u001b[1;33m\u001b[0m\u001b[1;33m\u001b[0m\u001b[0m\n\u001b[0m",
      "\u001b[1;31mAttributeError\u001b[0m: 'numpy.ndarray' object has no attribute 'info'"
     ]
    }
   ],
   "source": [
    "X_train.info()"
   ]
  },
  {
   "cell_type": "code",
   "execution_count": null,
   "id": "2799ceca",
   "metadata": {},
   "outputs": [],
   "source": []
  }
 ],
 "metadata": {
  "kernelspec": {
   "display_name": "Python 3 (ipykernel)",
   "language": "python",
   "name": "python3"
  },
  "language_info": {
   "codemirror_mode": {
    "name": "ipython",
    "version": 3
   },
   "file_extension": ".py",
   "mimetype": "text/x-python",
   "name": "python",
   "nbconvert_exporter": "python",
   "pygments_lexer": "ipython3",
   "version": "3.8.11"
  }
 },
 "nbformat": 4,
 "nbformat_minor": 5
}
