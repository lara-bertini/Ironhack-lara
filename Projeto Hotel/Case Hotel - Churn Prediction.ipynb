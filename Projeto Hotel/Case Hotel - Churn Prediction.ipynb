{
 "cells": [
  {
   "cell_type": "code",
   "execution_count": 85,
   "id": "4f977168",
   "metadata": {},
   "outputs": [],
   "source": [
    "# Importação de bibliotecas\n",
    "import pandas as pd\n",
    "import seaborn as sns\n",
    "from sklearn.linear_model import LogisticRegression\n",
    "from sklearn.decomposition import PCA\n",
    "from sklearn.preprocessing import StandardScaler\n",
    "from sklearn.model_selection import train_test_split\n",
    "from sklearn.neighbors import KNeighborsClassifier\n",
    "import numpy as np\n",
    "from sklearn.metrics import f1_score"
   ]
  },
  {
   "cell_type": "markdown",
   "id": "8bb0fbe4",
   "metadata": {},
   "source": [
    "# Leitura de dados"
   ]
  },
  {
   "cell_type": "code",
   "execution_count": 26,
   "id": "cdfc8ffc",
   "metadata": {},
   "outputs": [],
   "source": [
    "# Ler arquivo .csv para um DataFrame pandas\n",
    "tb_hotel = pd.read_csv(\"tb_hotel_traintest.csv\")\n",
    "# Validar número de colunas\n",
    "# Validar e tratar tipo das colunas (principalmente datas através da função pd.to_datetime)\n",
    "tb_hotel_cleaned = tb_hotel[['is_cancelled',\n",
    "                              'hotel',\n",
    "                              'stays_in_weekend_nights',\n",
    "                              'stays_in_week_nights',\n",
    "                              'adults',\n",
    "                              'children',\n",
    "                              'babies',\n",
    "                              #'meal',\n",
    "                              #'country',\n",
    "                              #'market_segment',\n",
    "                              'is_repeated_guest',\n",
    "                              'previous_cancellations',\n",
    "                              'previous_bookings_not_canceled',\n",
    "                              #'reserved_room_type',\n",
    "                              'booking_changes',\n",
    "                              #'deposit_type',\n",
    "                              'days_in_waiting_list',\n",
    "                              #'customer_type',\n",
    "                              'adr',\n",
    "                              'required_car_parking_spaces',\n",
    "                              'total_of_special_requests'\n",
    "                              #'reservation_status_date',\n",
    "                              #'arrival_date'\n",
    "                              ]]\n",
    "tb_hotel_cleaned = tb_hotel_cleaned.dropna()"
   ]
  },
  {
   "cell_type": "code",
   "execution_count": 27,
   "id": "67355810",
   "metadata": {},
   "outputs": [],
   "source": [
    "#transformação de variável input 'hotel' em numérico\n",
    "tb_hotel_cleaned = pd.concat([pd.get_dummies(tb_hotel_cleaned['hotel'],dtype=int,drop_first = True),tb_hotel_cleaned],axis=1)\n",
    "tb_hotel_cleaned = tb_hotel_cleaned.drop('hotel', axis=1)"
   ]
  },
  {
   "cell_type": "code",
   "execution_count": 28,
   "id": "95820a82",
   "metadata": {},
   "outputs": [
    {
     "data": {
      "text/html": [
       "<div>\n",
       "<style scoped>\n",
       "    .dataframe tbody tr th:only-of-type {\n",
       "        vertical-align: middle;\n",
       "    }\n",
       "\n",
       "    .dataframe tbody tr th {\n",
       "        vertical-align: top;\n",
       "    }\n",
       "\n",
       "    .dataframe thead th {\n",
       "        text-align: right;\n",
       "    }\n",
       "</style>\n",
       "<table border=\"1\" class=\"dataframe\">\n",
       "  <thead>\n",
       "    <tr style=\"text-align: right;\">\n",
       "      <th></th>\n",
       "      <th>Resort Hotel</th>\n",
       "      <th>is_cancelled</th>\n",
       "      <th>stays_in_weekend_nights</th>\n",
       "      <th>stays_in_week_nights</th>\n",
       "      <th>adults</th>\n",
       "      <th>children</th>\n",
       "      <th>babies</th>\n",
       "      <th>is_repeated_guest</th>\n",
       "      <th>previous_cancellations</th>\n",
       "      <th>previous_bookings_not_canceled</th>\n",
       "      <th>booking_changes</th>\n",
       "      <th>days_in_waiting_list</th>\n",
       "      <th>adr</th>\n",
       "      <th>required_car_parking_spaces</th>\n",
       "      <th>total_of_special_requests</th>\n",
       "    </tr>\n",
       "  </thead>\n",
       "  <tbody>\n",
       "    <tr>\n",
       "      <th>0</th>\n",
       "      <td>1</td>\n",
       "      <td>0</td>\n",
       "      <td>0</td>\n",
       "      <td>0</td>\n",
       "      <td>2</td>\n",
       "      <td>0.0</td>\n",
       "      <td>0</td>\n",
       "      <td>0</td>\n",
       "      <td>0</td>\n",
       "      <td>0</td>\n",
       "      <td>3</td>\n",
       "      <td>0</td>\n",
       "      <td>0.0</td>\n",
       "      <td>0</td>\n",
       "      <td>0</td>\n",
       "    </tr>\n",
       "    <tr>\n",
       "      <th>1</th>\n",
       "      <td>1</td>\n",
       "      <td>0</td>\n",
       "      <td>0</td>\n",
       "      <td>0</td>\n",
       "      <td>2</td>\n",
       "      <td>0.0</td>\n",
       "      <td>0</td>\n",
       "      <td>0</td>\n",
       "      <td>0</td>\n",
       "      <td>0</td>\n",
       "      <td>4</td>\n",
       "      <td>0</td>\n",
       "      <td>0.0</td>\n",
       "      <td>0</td>\n",
       "      <td>0</td>\n",
       "    </tr>\n",
       "    <tr>\n",
       "      <th>2</th>\n",
       "      <td>1</td>\n",
       "      <td>0</td>\n",
       "      <td>0</td>\n",
       "      <td>1</td>\n",
       "      <td>1</td>\n",
       "      <td>0.0</td>\n",
       "      <td>0</td>\n",
       "      <td>0</td>\n",
       "      <td>0</td>\n",
       "      <td>0</td>\n",
       "      <td>0</td>\n",
       "      <td>0</td>\n",
       "      <td>75.0</td>\n",
       "      <td>0</td>\n",
       "      <td>0</td>\n",
       "    </tr>\n",
       "    <tr>\n",
       "      <th>3</th>\n",
       "      <td>1</td>\n",
       "      <td>0</td>\n",
       "      <td>0</td>\n",
       "      <td>1</td>\n",
       "      <td>1</td>\n",
       "      <td>0.0</td>\n",
       "      <td>0</td>\n",
       "      <td>0</td>\n",
       "      <td>0</td>\n",
       "      <td>0</td>\n",
       "      <td>0</td>\n",
       "      <td>0</td>\n",
       "      <td>75.0</td>\n",
       "      <td>0</td>\n",
       "      <td>0</td>\n",
       "    </tr>\n",
       "    <tr>\n",
       "      <th>4</th>\n",
       "      <td>1</td>\n",
       "      <td>0</td>\n",
       "      <td>0</td>\n",
       "      <td>2</td>\n",
       "      <td>2</td>\n",
       "      <td>0.0</td>\n",
       "      <td>0</td>\n",
       "      <td>0</td>\n",
       "      <td>0</td>\n",
       "      <td>0</td>\n",
       "      <td>0</td>\n",
       "      <td>0</td>\n",
       "      <td>98.0</td>\n",
       "      <td>0</td>\n",
       "      <td>1</td>\n",
       "    </tr>\n",
       "  </tbody>\n",
       "</table>\n",
       "</div>"
      ],
      "text/plain": [
       "   Resort Hotel  is_cancelled  stays_in_weekend_nights  stays_in_week_nights  \\\n",
       "0             1             0                        0                     0   \n",
       "1             1             0                        0                     0   \n",
       "2             1             0                        0                     1   \n",
       "3             1             0                        0                     1   \n",
       "4             1             0                        0                     2   \n",
       "\n",
       "   adults  children  babies  is_repeated_guest  previous_cancellations  \\\n",
       "0       2       0.0       0                  0                       0   \n",
       "1       2       0.0       0                  0                       0   \n",
       "2       1       0.0       0                  0                       0   \n",
       "3       1       0.0       0                  0                       0   \n",
       "4       2       0.0       0                  0                       0   \n",
       "\n",
       "   previous_bookings_not_canceled  booking_changes  days_in_waiting_list  \\\n",
       "0                               0                3                     0   \n",
       "1                               0                4                     0   \n",
       "2                               0                0                     0   \n",
       "3                               0                0                     0   \n",
       "4                               0                0                     0   \n",
       "\n",
       "    adr  required_car_parking_spaces  total_of_special_requests  \n",
       "0   0.0                            0                          0  \n",
       "1   0.0                            0                          0  \n",
       "2  75.0                            0                          0  \n",
       "3  75.0                            0                          0  \n",
       "4  98.0                            0                          1  "
      ]
     },
     "execution_count": 28,
     "metadata": {},
     "output_type": "execute_result"
    }
   ],
   "source": [
    "tb_hotel_cleaned.head()"
   ]
  },
  {
   "cell_type": "code",
   "execution_count": 29,
   "id": "f432cd45",
   "metadata": {},
   "outputs": [],
   "source": [
    "# separando em variáveis X e Y\n",
    "tb_hotel_cleaned_Y = tb_hotel_cleaned['is_cancelled']\n",
    "tb_hotel_cleaned_X = tb_hotel_cleaned.drop(['is_cancelled'], axis=1)"
   ]
  },
  {
   "cell_type": "markdown",
   "id": "a84ba3aa",
   "metadata": {},
   "source": [
    "# EDA (Análise Exploratória de Dados)"
   ]
  },
  {
   "cell_type": "markdown",
   "id": "1e72a939",
   "metadata": {},
   "source": [
    "#### Avaliação de problemas nos dados (missing value e informações incorretas)"
   ]
  },
  {
   "cell_type": "code",
   "execution_count": null,
   "id": "c2b29d2f",
   "metadata": {},
   "outputs": [],
   "source": [
    "tb_hotel.describe()"
   ]
  },
  {
   "cell_type": "code",
   "execution_count": null,
   "id": "2b0b2907",
   "metadata": {},
   "outputs": [],
   "source": [
    "tb_hotel.info()"
   ]
  },
  {
   "cell_type": "code",
   "execution_count": null,
   "id": "2984e42a",
   "metadata": {},
   "outputs": [],
   "source": [
    "tb_hotel.head()"
   ]
  },
  {
   "cell_type": "code",
   "execution_count": null,
   "id": "9b8f2b3a",
   "metadata": {},
   "outputs": [],
   "source": [
    "sns.histplot(data=tb_hotel[['hotel','is_cancelled']],x='is_cancelled', hue='hotel', multiple=\"dodge\")"
   ]
  },
  {
   "cell_type": "code",
   "execution_count": null,
   "id": "2f38500c",
   "metadata": {},
   "outputs": [],
   "source": [
    "# dúvida\n",
    "# Como faço pra plotar sem esses números do meio (precisa transformar em boolean)"
   ]
  },
  {
   "cell_type": "code",
   "execution_count": null,
   "id": "a0267221",
   "metadata": {},
   "outputs": [],
   "source": [
    "tb_city_resort = tb_hotel[['is_cancelled','hotel','id_booking']].groupby(by=['hotel', 'is_cancelled']).count()\n",
    "print(tb_city_resort)"
   ]
  },
  {
   "cell_type": "code",
   "execution_count": null,
   "id": "b71b1562",
   "metadata": {},
   "outputs": [],
   "source": [
    "tb_city_resort = tb_city_resort.reset_index()"
   ]
  },
  {
   "cell_type": "code",
   "execution_count": null,
   "id": "df82f725",
   "metadata": {},
   "outputs": [],
   "source": [
    "tb_city_resort['sum_bookings'] = tb_city_resort.groupby(by=['hotel']).transform(sum)['id_booking']\n",
    "tb_city_resort['%cancelled'] = tb_city_resort['id_booking'] / tb_city_resort['sum_bookings']\n",
    "print(tb_city_resort)"
   ]
  },
  {
   "cell_type": "code",
   "execution_count": null,
   "id": "fe246ed2",
   "metadata": {},
   "outputs": [],
   "source": [
    "tb_hotel.corr()"
   ]
  },
  {
   "cell_type": "markdown",
   "id": "30830f15",
   "metadata": {},
   "source": [
    "# Modelo Baseline"
   ]
  },
  {
   "cell_type": "code",
   "execution_count": null,
   "id": "c294c1c1",
   "metadata": {},
   "outputs": [],
   "source": [
    "# Variáveis:\n",
    "# hotel -- criar boolean"
   ]
  },
  {
   "cell_type": "code",
   "execution_count": null,
   "id": "01f1c186",
   "metadata": {},
   "outputs": [],
   "source": [
    "# dúvida\n",
    "# todas as variáveis deram uma correlação meio baixa, é isso mesmo?"
   ]
  },
  {
   "cell_type": "markdown",
   "id": "c528d854",
   "metadata": {},
   "source": [
    "#### Divisão do dataset em train e test para evitar leakage"
   ]
  },
  {
   "cell_type": "code",
   "execution_count": 76,
   "id": "61ac2945",
   "metadata": {},
   "outputs": [],
   "source": [
    "X_train, X_test, y_train, y_test = train_test_split(tb_hotel_cleaned_X, tb_hotel_cleaned_Y, test_size = 0.2)"
   ]
  },
  {
   "cell_type": "code",
   "execution_count": 77,
   "id": "2fc9ecab",
   "metadata": {},
   "outputs": [
    {
     "name": "stdout",
     "output_type": "stream",
     "text": [
      "<class 'pandas.core.frame.DataFrame'>\n",
      "Int64Index: 90724 entries, 93860 to 111687\n",
      "Data columns (total 14 columns):\n",
      " #   Column                          Non-Null Count  Dtype  \n",
      "---  ------                          --------------  -----  \n",
      " 0   Resort Hotel                    90724 non-null  int32  \n",
      " 1   stays_in_weekend_nights         90724 non-null  int64  \n",
      " 2   stays_in_week_nights            90724 non-null  int64  \n",
      " 3   adults                          90724 non-null  int64  \n",
      " 4   children                        90724 non-null  float64\n",
      " 5   babies                          90724 non-null  int64  \n",
      " 6   is_repeated_guest               90724 non-null  int64  \n",
      " 7   previous_cancellations          90724 non-null  int64  \n",
      " 8   previous_bookings_not_canceled  90724 non-null  int64  \n",
      " 9   booking_changes                 90724 non-null  int64  \n",
      " 10  days_in_waiting_list            90724 non-null  int64  \n",
      " 11  adr                             90724 non-null  float64\n",
      " 12  required_car_parking_spaces     90724 non-null  int64  \n",
      " 13  total_of_special_requests       90724 non-null  int64  \n",
      "dtypes: float64(2), int32(1), int64(11)\n",
      "memory usage: 10.0 MB\n"
     ]
    }
   ],
   "source": [
    "X_train.info()"
   ]
  },
  {
   "cell_type": "markdown",
   "id": "cd46adcf",
   "metadata": {},
   "source": [
    "#### PCA evitará não convergência de regressão logística"
   ]
  },
  {
   "cell_type": "code",
   "execution_count": 78,
   "id": "db1b12c6",
   "metadata": {},
   "outputs": [],
   "source": [
    "norm = StandardScaler().fit(X_train)\n",
    "X_train_norm = norm.transform(X_train)\n",
    "pca_t = PCA()\n",
    "pca_t.fit(X_train_norm)\n",
    "X_train_pca = pca_t.transform(X_train_norm)"
   ]
  },
  {
   "cell_type": "code",
   "execution_count": 79,
   "id": "bfd05dbf",
   "metadata": {},
   "outputs": [],
   "source": [
    "X_test_norm = norm.transform(X_test)\n",
    "X_test_pca = pca_t.transform(X_test_norm)"
   ]
  },
  {
   "cell_type": "markdown",
   "id": "79d31d5a",
   "metadata": {},
   "source": [
    "#### Regressão logística"
   ]
  },
  {
   "cell_type": "code",
   "execution_count": 80,
   "id": "b02f447e",
   "metadata": {},
   "outputs": [
    {
     "data": {
      "text/plain": [
       "LogisticRegression()"
      ]
     },
     "execution_count": 80,
     "metadata": {},
     "output_type": "execute_result"
    }
   ],
   "source": [
    "# falta evitar leakage\n",
    "logistic = LogisticRegression()\n",
    "logistic.fit(X=X_train_pca, y=y_train)"
   ]
  },
  {
   "cell_type": "code",
   "execution_count": 83,
   "id": "4ac9b555",
   "metadata": {},
   "outputs": [],
   "source": [
    "tb_predict_log = pd.DataFrame({'y_real': y_test, 'y_predict': logistic.predict(X_test_pca)})"
   ]
  },
  {
   "cell_type": "code",
   "execution_count": 84,
   "id": "84c1188f",
   "metadata": {},
   "outputs": [
    {
     "data": {
      "text/html": [
       "<div>\n",
       "<style scoped>\n",
       "    .dataframe tbody tr th:only-of-type {\n",
       "        vertical-align: middle;\n",
       "    }\n",
       "\n",
       "    .dataframe tbody tr th {\n",
       "        vertical-align: top;\n",
       "    }\n",
       "\n",
       "    .dataframe thead th {\n",
       "        text-align: right;\n",
       "    }\n",
       "</style>\n",
       "<table border=\"1\" class=\"dataframe\">\n",
       "  <thead>\n",
       "    <tr style=\"text-align: right;\">\n",
       "      <th></th>\n",
       "      <th>y_real</th>\n",
       "      <th>y_predict</th>\n",
       "    </tr>\n",
       "  </thead>\n",
       "  <tbody>\n",
       "    <tr>\n",
       "      <th>46384</th>\n",
       "      <td>0</td>\n",
       "      <td>0</td>\n",
       "    </tr>\n",
       "    <tr>\n",
       "      <th>103692</th>\n",
       "      <td>0</td>\n",
       "      <td>1</td>\n",
       "    </tr>\n",
       "    <tr>\n",
       "      <th>40443</th>\n",
       "      <td>0</td>\n",
       "      <td>1</td>\n",
       "    </tr>\n",
       "    <tr>\n",
       "      <th>8961</th>\n",
       "      <td>1</td>\n",
       "      <td>0</td>\n",
       "    </tr>\n",
       "    <tr>\n",
       "      <th>29989</th>\n",
       "      <td>0</td>\n",
       "      <td>0</td>\n",
       "    </tr>\n",
       "  </tbody>\n",
       "</table>\n",
       "</div>"
      ],
      "text/plain": [
       "        y_real  y_predict\n",
       "46384        0          0\n",
       "103692       0          1\n",
       "40443        0          1\n",
       "8961         1          0\n",
       "29989        0          0"
      ]
     },
     "execution_count": 84,
     "metadata": {},
     "output_type": "execute_result"
    }
   ],
   "source": [
    "tb_predict_log.head()"
   ]
  },
  {
   "cell_type": "code",
   "execution_count": 86,
   "id": "839007b9",
   "metadata": {},
   "outputs": [
    {
     "name": "stdout",
     "output_type": "stream",
     "text": [
      "0.5387636363636364\n"
     ]
    }
   ],
   "source": [
    "print(f1_score(y_true = tb_predict_log['y_real'],\n",
    "             y_pred = tb_predict_log['y_predict']))"
   ]
  },
  {
   "cell_type": "markdown",
   "id": "2c75ad8a",
   "metadata": {},
   "source": [
    "#### 1-NN (kNN com n-neighbors = 1)"
   ]
  },
  {
   "cell_type": "code",
   "execution_count": 89,
   "id": "5552d30e",
   "metadata": {},
   "outputs": [
    {
     "data": {
      "text/plain": [
       "KNeighborsClassifier(n_neighbors=1)"
      ]
     },
     "execution_count": 89,
     "metadata": {},
     "output_type": "execute_result"
    }
   ],
   "source": [
    "knn_fit = KNeighborsClassifier(n_neighbors=1)\n",
    "knn_fit.fit(X_train_pca, y_train)"
   ]
  },
  {
   "cell_type": "code",
   "execution_count": 90,
   "id": "0dbad7b0",
   "metadata": {},
   "outputs": [],
   "source": [
    "tb_predict_KNN = pd.DataFrame({'y_real': y_test, 'y_predict': knn_fit.predict(X_test_pca)})"
   ]
  },
  {
   "cell_type": "code",
   "execution_count": 92,
   "id": "5b5bd19e",
   "metadata": {},
   "outputs": [
    {
     "data": {
      "text/html": [
       "<div>\n",
       "<style scoped>\n",
       "    .dataframe tbody tr th:only-of-type {\n",
       "        vertical-align: middle;\n",
       "    }\n",
       "\n",
       "    .dataframe tbody tr th {\n",
       "        vertical-align: top;\n",
       "    }\n",
       "\n",
       "    .dataframe thead th {\n",
       "        text-align: right;\n",
       "    }\n",
       "</style>\n",
       "<table border=\"1\" class=\"dataframe\">\n",
       "  <thead>\n",
       "    <tr style=\"text-align: right;\">\n",
       "      <th></th>\n",
       "      <th>y_real</th>\n",
       "      <th>y_predict</th>\n",
       "    </tr>\n",
       "  </thead>\n",
       "  <tbody>\n",
       "    <tr>\n",
       "      <th>46384</th>\n",
       "      <td>0</td>\n",
       "      <td>0</td>\n",
       "    </tr>\n",
       "    <tr>\n",
       "      <th>103692</th>\n",
       "      <td>0</td>\n",
       "      <td>1</td>\n",
       "    </tr>\n",
       "    <tr>\n",
       "      <th>40443</th>\n",
       "      <td>0</td>\n",
       "      <td>0</td>\n",
       "    </tr>\n",
       "    <tr>\n",
       "      <th>8961</th>\n",
       "      <td>1</td>\n",
       "      <td>0</td>\n",
       "    </tr>\n",
       "    <tr>\n",
       "      <th>29989</th>\n",
       "      <td>0</td>\n",
       "      <td>0</td>\n",
       "    </tr>\n",
       "  </tbody>\n",
       "</table>\n",
       "</div>"
      ],
      "text/plain": [
       "        y_real  y_predict\n",
       "46384        0          0\n",
       "103692       0          1\n",
       "40443        0          0\n",
       "8961         1          0\n",
       "29989        0          0"
      ]
     },
     "execution_count": 92,
     "metadata": {},
     "output_type": "execute_result"
    }
   ],
   "source": [
    "tb_predict_KNN.head()"
   ]
  },
  {
   "cell_type": "code",
   "execution_count": 93,
   "id": "33c43d22",
   "metadata": {},
   "outputs": [
    {
     "name": "stdout",
     "output_type": "stream",
     "text": [
      "0.6609040158472897\n"
     ]
    }
   ],
   "source": [
    "print(f1_score(y_true = tb_predict_KNN['y_real'],\n",
    "             y_pred = tb_predict_KNN['y_predict']))"
   ]
  },
  {
   "cell_type": "markdown",
   "id": "7044e95c",
   "metadata": {},
   "source": [
    "#### Teste do sample"
   ]
  },
  {
   "cell_type": "code",
   "execution_count": 109,
   "id": "158bd19d",
   "metadata": {},
   "outputs": [],
   "source": [
    "sample = pd.read_csv(\"tb_hotel_feat_valid.csv\")\n",
    "logistic_output = pd.DataFrame()\n",
    "KNN_output = pd.DataFrame()"
   ]
  },
  {
   "cell_type": "code",
   "execution_count": 110,
   "id": "c4ec2d42",
   "metadata": {},
   "outputs": [
    {
     "name": "stdout",
     "output_type": "stream",
     "text": [
      "<class 'pandas.core.frame.DataFrame'>\n",
      "RangeIndex: 5981 entries, 0 to 5980\n",
      "Data columns (total 28 columns):\n",
      " #   Column                          Non-Null Count  Dtype  \n",
      "---  ------                          --------------  -----  \n",
      " 0   hotel                           5981 non-null   object \n",
      " 1   lead_time                       5981 non-null   int64  \n",
      " 2   stays_in_weekend_nights         5981 non-null   int64  \n",
      " 3   stays_in_week_nights            5981 non-null   int64  \n",
      " 4   adults                          5981 non-null   int64  \n",
      " 5   children                        5980 non-null   float64\n",
      " 6   babies                          5981 non-null   int64  \n",
      " 7   meal                            5981 non-null   object \n",
      " 8   country                         5951 non-null   object \n",
      " 9   market_segment                  5981 non-null   object \n",
      " 10  distribution_channel            5981 non-null   object \n",
      " 11  is_repeated_guest               5981 non-null   int64  \n",
      " 12  previous_cancellations          5981 non-null   int64  \n",
      " 13  previous_bookings_not_canceled  5981 non-null   int64  \n",
      " 14  reserved_room_type              5981 non-null   object \n",
      " 15  assigned_room_type              5981 non-null   object \n",
      " 16  booking_changes                 5981 non-null   int64  \n",
      " 17  deposit_type                    5981 non-null   object \n",
      " 18  agent                           5132 non-null   float64\n",
      " 19  company                         360 non-null    float64\n",
      " 20  days_in_waiting_list            5981 non-null   int64  \n",
      " 21  customer_type                   5981 non-null   object \n",
      " 22  adr                             5981 non-null   float64\n",
      " 23  required_car_parking_spaces     5981 non-null   int64  \n",
      " 24  total_of_special_requests       5981 non-null   int64  \n",
      " 25  reservation_status_date         5981 non-null   object \n",
      " 26  arrival_date                    5981 non-null   object \n",
      " 27  id_booking                      5981 non-null   int64  \n",
      "dtypes: float64(4), int64(13), object(11)\n",
      "memory usage: 1.3+ MB\n"
     ]
    }
   ],
   "source": [
    "sample.info()"
   ]
  },
  {
   "cell_type": "code",
   "execution_count": 111,
   "id": "020c6437",
   "metadata": {},
   "outputs": [],
   "source": [
    "sample = sample[['hotel',\n",
    "                              'stays_in_weekend_nights',\n",
    "                              'stays_in_week_nights',\n",
    "                              'adults',\n",
    "                              'children',\n",
    "                              'babies',\n",
    "                              #'meal',\n",
    "                              #'country',\n",
    "                              #'market_segment',\n",
    "                              'is_repeated_guest',\n",
    "                              'previous_cancellations',\n",
    "                              'previous_bookings_not_canceled',\n",
    "                              #'reserved_room_type',\n",
    "                              'booking_changes',\n",
    "                              #'deposit_type',\n",
    "                              'days_in_waiting_list',\n",
    "                              #'customer_type',\n",
    "                              'adr',\n",
    "                              'required_car_parking_spaces',\n",
    "                              'total_of_special_requests',\n",
    "                 'id_booking'\n",
    "                              #'reservation_status_date',\n",
    "                              #'arrival_date'\n",
    "                              ]]\n",
    "sample = sample.dropna()"
   ]
  },
  {
   "cell_type": "code",
   "execution_count": 112,
   "id": "79fc879d",
   "metadata": {},
   "outputs": [],
   "source": [
    "logistic_output['id_booking'] = sample['id_booking'].copy()\n",
    "KNN_output['id_booking'] = sample['id_booking'].copy()"
   ]
  },
  {
   "cell_type": "code",
   "execution_count": 113,
   "id": "7b338837",
   "metadata": {},
   "outputs": [],
   "source": [
    "sample_X = sample.drop(['id_booking'], axis=1)\n",
    "sample_X = pd.concat([pd.get_dummies(sample_X['hotel'],dtype=int,drop_first = True),sample_X],axis=1)\n",
    "sample_X = sample_X.drop('hotel', axis=1)"
   ]
  },
  {
   "cell_type": "code",
   "execution_count": 114,
   "id": "359464c0",
   "metadata": {},
   "outputs": [
    {
     "data": {
      "text/html": [
       "<div>\n",
       "<style scoped>\n",
       "    .dataframe tbody tr th:only-of-type {\n",
       "        vertical-align: middle;\n",
       "    }\n",
       "\n",
       "    .dataframe tbody tr th {\n",
       "        vertical-align: top;\n",
       "    }\n",
       "\n",
       "    .dataframe thead th {\n",
       "        text-align: right;\n",
       "    }\n",
       "</style>\n",
       "<table border=\"1\" class=\"dataframe\">\n",
       "  <thead>\n",
       "    <tr style=\"text-align: right;\">\n",
       "      <th></th>\n",
       "      <th>Resort Hotel</th>\n",
       "      <th>stays_in_weekend_nights</th>\n",
       "      <th>stays_in_week_nights</th>\n",
       "      <th>adults</th>\n",
       "      <th>children</th>\n",
       "      <th>babies</th>\n",
       "      <th>is_repeated_guest</th>\n",
       "      <th>previous_cancellations</th>\n",
       "      <th>previous_bookings_not_canceled</th>\n",
       "      <th>booking_changes</th>\n",
       "      <th>days_in_waiting_list</th>\n",
       "      <th>adr</th>\n",
       "      <th>required_car_parking_spaces</th>\n",
       "      <th>total_of_special_requests</th>\n",
       "    </tr>\n",
       "  </thead>\n",
       "  <tbody>\n",
       "    <tr>\n",
       "      <th>0</th>\n",
       "      <td>1</td>\n",
       "      <td>2</td>\n",
       "      <td>5</td>\n",
       "      <td>2</td>\n",
       "      <td>0.0</td>\n",
       "      <td>0</td>\n",
       "      <td>0</td>\n",
       "      <td>0</td>\n",
       "      <td>0</td>\n",
       "      <td>0</td>\n",
       "      <td>0</td>\n",
       "      <td>82.88</td>\n",
       "      <td>0</td>\n",
       "      <td>2</td>\n",
       "    </tr>\n",
       "    <tr>\n",
       "      <th>1</th>\n",
       "      <td>1</td>\n",
       "      <td>1</td>\n",
       "      <td>0</td>\n",
       "      <td>2</td>\n",
       "      <td>0.0</td>\n",
       "      <td>0</td>\n",
       "      <td>0</td>\n",
       "      <td>0</td>\n",
       "      <td>0</td>\n",
       "      <td>0</td>\n",
       "      <td>0</td>\n",
       "      <td>97.00</td>\n",
       "      <td>0</td>\n",
       "      <td>0</td>\n",
       "    </tr>\n",
       "    <tr>\n",
       "      <th>2</th>\n",
       "      <td>1</td>\n",
       "      <td>1</td>\n",
       "      <td>3</td>\n",
       "      <td>2</td>\n",
       "      <td>2.0</td>\n",
       "      <td>0</td>\n",
       "      <td>0</td>\n",
       "      <td>0</td>\n",
       "      <td>0</td>\n",
       "      <td>0</td>\n",
       "      <td>0</td>\n",
       "      <td>210.00</td>\n",
       "      <td>1</td>\n",
       "      <td>0</td>\n",
       "    </tr>\n",
       "    <tr>\n",
       "      <th>3</th>\n",
       "      <td>1</td>\n",
       "      <td>1</td>\n",
       "      <td>1</td>\n",
       "      <td>2</td>\n",
       "      <td>0.0</td>\n",
       "      <td>0</td>\n",
       "      <td>0</td>\n",
       "      <td>0</td>\n",
       "      <td>0</td>\n",
       "      <td>0</td>\n",
       "      <td>0</td>\n",
       "      <td>87.30</td>\n",
       "      <td>1</td>\n",
       "      <td>1</td>\n",
       "    </tr>\n",
       "    <tr>\n",
       "      <th>4</th>\n",
       "      <td>1</td>\n",
       "      <td>1</td>\n",
       "      <td>5</td>\n",
       "      <td>2</td>\n",
       "      <td>0.0</td>\n",
       "      <td>0</td>\n",
       "      <td>0</td>\n",
       "      <td>0</td>\n",
       "      <td>0</td>\n",
       "      <td>0</td>\n",
       "      <td>0</td>\n",
       "      <td>117.80</td>\n",
       "      <td>1</td>\n",
       "      <td>1</td>\n",
       "    </tr>\n",
       "  </tbody>\n",
       "</table>\n",
       "</div>"
      ],
      "text/plain": [
       "   Resort Hotel  stays_in_weekend_nights  stays_in_week_nights  adults  \\\n",
       "0             1                        2                     5       2   \n",
       "1             1                        1                     0       2   \n",
       "2             1                        1                     3       2   \n",
       "3             1                        1                     1       2   \n",
       "4             1                        1                     5       2   \n",
       "\n",
       "   children  babies  is_repeated_guest  previous_cancellations  \\\n",
       "0       0.0       0                  0                       0   \n",
       "1       0.0       0                  0                       0   \n",
       "2       2.0       0                  0                       0   \n",
       "3       0.0       0                  0                       0   \n",
       "4       0.0       0                  0                       0   \n",
       "\n",
       "   previous_bookings_not_canceled  booking_changes  days_in_waiting_list  \\\n",
       "0                               0                0                     0   \n",
       "1                               0                0                     0   \n",
       "2                               0                0                     0   \n",
       "3                               0                0                     0   \n",
       "4                               0                0                     0   \n",
       "\n",
       "      adr  required_car_parking_spaces  total_of_special_requests  \n",
       "0   82.88                            0                          2  \n",
       "1   97.00                            0                          0  \n",
       "2  210.00                            1                          0  \n",
       "3   87.30                            1                          1  \n",
       "4  117.80                            1                          1  "
      ]
     },
     "execution_count": 114,
     "metadata": {},
     "output_type": "execute_result"
    }
   ],
   "source": [
    "sample_X.head()"
   ]
  },
  {
   "cell_type": "code",
   "execution_count": 115,
   "id": "c31ceb5f",
   "metadata": {},
   "outputs": [],
   "source": [
    "sample_X_norm = norm.transform(sample_X)\n",
    "sample_X_pca = pca_t.transform(sample_X_norm)"
   ]
  },
  {
   "cell_type": "code",
   "execution_count": 118,
   "id": "4a9499fb",
   "metadata": {},
   "outputs": [],
   "source": [
    "KNN_output['is_cancelled'] = pd.DataFrame(knn_fit.predict(sample_X_pca))\n",
    "logistic_output['is_cancelled'] = pd.DataFrame(logistic.predict(sample_X_pca))"
   ]
  },
  {
   "cell_type": "code",
   "execution_count": 119,
   "id": "4e9413bd",
   "metadata": {},
   "outputs": [
    {
     "data": {
      "text/html": [
       "<div>\n",
       "<style scoped>\n",
       "    .dataframe tbody tr th:only-of-type {\n",
       "        vertical-align: middle;\n",
       "    }\n",
       "\n",
       "    .dataframe tbody tr th {\n",
       "        vertical-align: top;\n",
       "    }\n",
       "\n",
       "    .dataframe thead th {\n",
       "        text-align: right;\n",
       "    }\n",
       "</style>\n",
       "<table border=\"1\" class=\"dataframe\">\n",
       "  <thead>\n",
       "    <tr style=\"text-align: right;\">\n",
       "      <th></th>\n",
       "      <th>id_booking</th>\n",
       "      <th>is_cancelled</th>\n",
       "    </tr>\n",
       "  </thead>\n",
       "  <tbody>\n",
       "    <tr>\n",
       "      <th>0</th>\n",
       "      <td>47</td>\n",
       "      <td>0.0</td>\n",
       "    </tr>\n",
       "    <tr>\n",
       "      <th>1</th>\n",
       "      <td>132</td>\n",
       "      <td>1.0</td>\n",
       "    </tr>\n",
       "    <tr>\n",
       "      <th>2</th>\n",
       "      <td>164</td>\n",
       "      <td>0.0</td>\n",
       "    </tr>\n",
       "    <tr>\n",
       "      <th>3</th>\n",
       "      <td>171</td>\n",
       "      <td>0.0</td>\n",
       "    </tr>\n",
       "    <tr>\n",
       "      <th>4</th>\n",
       "      <td>178</td>\n",
       "      <td>0.0</td>\n",
       "    </tr>\n",
       "  </tbody>\n",
       "</table>\n",
       "</div>"
      ],
      "text/plain": [
       "   id_booking  is_cancelled\n",
       "0          47           0.0\n",
       "1         132           1.0\n",
       "2         164           0.0\n",
       "3         171           0.0\n",
       "4         178           0.0"
      ]
     },
     "execution_count": 119,
     "metadata": {},
     "output_type": "execute_result"
    }
   ],
   "source": [
    "KNN_output.head()"
   ]
  },
  {
   "cell_type": "code",
   "execution_count": 120,
   "id": "42a95188",
   "metadata": {},
   "outputs": [
    {
     "data": {
      "text/html": [
       "<div>\n",
       "<style scoped>\n",
       "    .dataframe tbody tr th:only-of-type {\n",
       "        vertical-align: middle;\n",
       "    }\n",
       "\n",
       "    .dataframe tbody tr th {\n",
       "        vertical-align: top;\n",
       "    }\n",
       "\n",
       "    .dataframe thead th {\n",
       "        text-align: right;\n",
       "    }\n",
       "</style>\n",
       "<table border=\"1\" class=\"dataframe\">\n",
       "  <thead>\n",
       "    <tr style=\"text-align: right;\">\n",
       "      <th></th>\n",
       "      <th>id_booking</th>\n",
       "      <th>is_cancelled</th>\n",
       "    </tr>\n",
       "  </thead>\n",
       "  <tbody>\n",
       "    <tr>\n",
       "      <th>0</th>\n",
       "      <td>47</td>\n",
       "      <td>0.0</td>\n",
       "    </tr>\n",
       "    <tr>\n",
       "      <th>1</th>\n",
       "      <td>132</td>\n",
       "      <td>0.0</td>\n",
       "    </tr>\n",
       "    <tr>\n",
       "      <th>2</th>\n",
       "      <td>164</td>\n",
       "      <td>0.0</td>\n",
       "    </tr>\n",
       "    <tr>\n",
       "      <th>3</th>\n",
       "      <td>171</td>\n",
       "      <td>0.0</td>\n",
       "    </tr>\n",
       "    <tr>\n",
       "      <th>4</th>\n",
       "      <td>178</td>\n",
       "      <td>0.0</td>\n",
       "    </tr>\n",
       "  </tbody>\n",
       "</table>\n",
       "</div>"
      ],
      "text/plain": [
       "   id_booking  is_cancelled\n",
       "0          47           0.0\n",
       "1         132           0.0\n",
       "2         164           0.0\n",
       "3         171           0.0\n",
       "4         178           0.0"
      ]
     },
     "execution_count": 120,
     "metadata": {},
     "output_type": "execute_result"
    }
   ],
   "source": [
    "logistic_output.head()"
   ]
  },
  {
   "cell_type": "code",
   "execution_count": 124,
   "id": "54e07bd7",
   "metadata": {},
   "outputs": [],
   "source": [
    "logistic_output.to_csv('out_log.csv',index=False)"
   ]
  },
  {
   "cell_type": "code",
   "execution_count": 125,
   "id": "73facbb9",
   "metadata": {},
   "outputs": [],
   "source": [
    "KNN_output.to_csv('out_knn.csv',index=False)"
   ]
  },
  {
   "cell_type": "code",
   "execution_count": null,
   "id": "7d18c02a",
   "metadata": {},
   "outputs": [],
   "source": []
  }
 ],
 "metadata": {
  "kernelspec": {
   "display_name": "Python 3 (ipykernel)",
   "language": "python",
   "name": "python3"
  },
  "language_info": {
   "codemirror_mode": {
    "name": "ipython",
    "version": 3
   },
   "file_extension": ".py",
   "mimetype": "text/x-python",
   "name": "python",
   "nbconvert_exporter": "python",
   "pygments_lexer": "ipython3",
   "version": "3.8.11"
  }
 },
 "nbformat": 4,
 "nbformat_minor": 5
}
