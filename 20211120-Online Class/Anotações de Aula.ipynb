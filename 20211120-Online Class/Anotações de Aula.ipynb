{
 "cells": [
  {
   "cell_type": "code",
   "execution_count": 1,
   "id": "6998d3a2",
   "metadata": {},
   "outputs": [
    {
     "name": "stdout",
     "output_type": "stream",
     "text": [
      "0\n",
      "1\n",
      "2\n",
      "3\n",
      "4\n",
      "5\n",
      "6\n",
      "7\n",
      "8\n",
      "9\n"
     ]
    }
   ],
   "source": [
    "for i in range(10):\n",
    "    print(i)"
   ]
  },
  {
   "cell_type": "markdown",
   "id": "d8b60622",
   "metadata": {},
   "source": [
    "## Lists Comprehensions"
   ]
  },
  {
   "cell_type": "code",
   "execution_count": 2,
   "id": "f88380fc",
   "metadata": {},
   "outputs": [
    {
     "name": "stdout",
     "output_type": "stream",
     "text": [
      "Collecting tqdm\n",
      "  Downloading tqdm-4.62.3-py2.py3-none-any.whl (76 kB)\n",
      "Requirement already satisfied: colorama in c:\\users\\lara\\anaconda3\\envs\\python3\\lib\\site-packages (from tqdm) (0.4.4)\n",
      "Installing collected packages: tqdm\n",
      "Successfully installed tqdm-4.62.3\n"
     ]
    }
   ],
   "source": [
    "!pip install tqdm"
   ]
  },
  {
   "cell_type": "code",
   "execution_count": null,
   "id": "86f02739",
   "metadata": {},
   "outputs": [],
   "source": [
    "from tqdm.auto import tqdm\n",
    "import time\n",
    "\n",
    "# new_list = []\n",
    "# for item in tqdm(range (100), desc)\n",
    "# comandos finalizados nas notas de aula do professor"
   ]
  },
  {
   "cell_type": "code",
   "execution_count": 3,
   "id": "870d1dc8",
   "metadata": {},
   "outputs": [
    {
     "name": "stdout",
     "output_type": "stream",
     "text": [
      "[0, 1, 2, 3, 4, 5, 6, 7, 8, 9]\n"
     ]
    }
   ],
   "source": [
    "new_lc = [x for x in range(100)]\n",
    "print(new_lc[:10])"
   ]
  },
  {
   "cell_type": "code",
   "execution_count": 6,
   "id": "1445ae17",
   "metadata": {},
   "outputs": [
    {
     "name": "stdout",
     "output_type": "stream",
     "text": [
      "[0, 4, 16, 36, 64, 100, 144, 196, 256, 324]\n"
     ]
    }
   ],
   "source": [
    "new_lc = [x**2 for x in range(100) if x%2==0]\n",
    "print(new_lc[:10])"
   ]
  },
  {
   "cell_type": "code",
   "execution_count": 8,
   "id": "663c5975",
   "metadata": {},
   "outputs": [
    {
     "data": {
      "text/plain": [
       "[6, 7, 8, 6, 8]"
      ]
     },
     "execution_count": 8,
     "metadata": {},
     "output_type": "execute_result"
    }
   ],
   "source": [
    "list_of_lists = [[1,2,3,4],[5,6,7,8],[1,3,6,8]]\n",
    "new_lc = [item for lista in list_of_lists for item in lista if item>5]\n",
    "new_lc"
   ]
  },
  {
   "cell_type": "code",
   "execution_count": 10,
   "id": "68e92120",
   "metadata": {},
   "outputs": [
    {
     "data": {
      "text/plain": [
       "[0, 0, 0, 0, 0, 1, 1, 1, 1, 1]"
      ]
     },
     "execution_count": 10,
     "metadata": {},
     "output_type": "execute_result"
    }
   ],
   "source": [
    "new_lc = [0 if i<5 else 1 for i in range(10)]\n",
    "new_lc"
   ]
  },
  {
   "cell_type": "code",
   "execution_count": 11,
   "id": "663cead0",
   "metadata": {},
   "outputs": [
    {
     "name": "stdout",
     "output_type": "stream",
     "text": [
      "[6, 8]\n",
      "[6, 8]\n"
     ]
    }
   ],
   "source": [
    "new_lc_2 = [x for x in range(10) if x>5 if x%2==0]\n",
    "print(new_lc_2)\n",
    "new_lc_3 = [x for x in range(10) if x>5 and x%2==0]\n",
    "print(new_lc_3)"
   ]
  },
  {
   "cell_type": "code",
   "execution_count": 12,
   "id": "46628e7f",
   "metadata": {},
   "outputs": [
    {
     "data": {
      "text/plain": [
       "[21, 17]"
      ]
     },
     "execution_count": 12,
     "metadata": {},
     "output_type": "execute_result"
    }
   ],
   "source": [
    "# list comprehentions podem desempacotar valores\n",
    "lista_uplas = [(19,2), (12,3), (12,4), (15,2)]\n",
    "new_lc = [x+y for x,y in lista_uplas if x>12]\n",
    "new_lc"
   ]
  },
  {
   "cell_type": "code",
   "execution_count": null,
   "id": "678a433f",
   "metadata": {},
   "outputs": [],
   "source": []
  }
 ],
 "metadata": {
  "kernelspec": {
   "display_name": "Python 3 (ipykernel)",
   "language": "python",
   "name": "python3"
  },
  "language_info": {
   "codemirror_mode": {
    "name": "ipython",
    "version": 3
   },
   "file_extension": ".py",
   "mimetype": "text/x-python",
   "name": "python",
   "nbconvert_exporter": "python",
   "pygments_lexer": "ipython3",
   "version": "3.8.11"
  }
 },
 "nbformat": 4,
 "nbformat_minor": 5
}
