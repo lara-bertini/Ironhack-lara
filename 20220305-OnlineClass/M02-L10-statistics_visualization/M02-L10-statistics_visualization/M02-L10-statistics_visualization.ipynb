{
 "cells": [
  {
   "cell_type": "markdown",
   "metadata": {
    "colab_type": "text",
    "id": "IDajsaA66_XV"
   },
   "source": [
    "![Ironhack logo](https://i.imgur.com/1QgrNNw.png)\n",
    "# LAB | Statistics Visualization\n",
    "\n",
    "## Introduction\n",
    "We'll use the datasets to have a deeper understanding of some important variable distributions.\n",
    "\n",
    "We'll understand how to:\n",
    "- have a glance on the statistics distribution just by observing the main statistical numerical description of our dataset.\n",
    "- understand the effect of a normal and non-normal distribution on our outlier analysis\n",
    "- understand how one variable can impact on another variable distribution"
   ]
  },
  {
   "cell_type": "markdown",
   "metadata": {
    "colab_type": "text",
    "id": "onNqQWXN6_XY"
   },
   "source": [
    "## Import libraries "
   ]
  },
  {
   "cell_type": "code",
   "execution_count": 1,
   "metadata": {
    "ExecuteTime": {
     "end_time": "2020-04-06T03:11:02.341542Z",
     "start_time": "2020-04-06T03:11:01.633436Z"
    },
    "colab": {},
    "colab_type": "code",
    "id": "XReTo0-96_XY"
   },
   "outputs": [],
   "source": [
    "import pandas as pd\n",
    "import numpy as np\n",
    "import matplotlib.pyplot as plt\n",
    "import seaborn as sns"
   ]
  },
  {
   "cell_type": "markdown",
   "metadata": {
    "colab_type": "text",
    "id": "1TkZPHRk6_Xb"
   },
   "source": [
    "## Read dataset from `weight-height-money.csv`.\n",
    "\n",
    "Take a look at the first rows of the dataset."
   ]
  },
  {
   "cell_type": "code",
   "execution_count": 3,
   "metadata": {
    "ExecuteTime": {
     "end_time": "2020-04-06T04:20:35.568509Z",
     "start_time": "2020-04-06T04:20:35.565517Z"
    },
    "colab": {},
    "colab_type": "code",
    "id": "DxmxwuGY6_Xb"
   },
   "outputs": [
    {
     "data": {
      "text/html": [
       "<div>\n",
       "<style scoped>\n",
       "    .dataframe tbody tr th:only-of-type {\n",
       "        vertical-align: middle;\n",
       "    }\n",
       "\n",
       "    .dataframe tbody tr th {\n",
       "        vertical-align: top;\n",
       "    }\n",
       "\n",
       "    .dataframe thead th {\n",
       "        text-align: right;\n",
       "    }\n",
       "</style>\n",
       "<table border=\"1\" class=\"dataframe\">\n",
       "  <thead>\n",
       "    <tr style=\"text-align: right;\">\n",
       "      <th></th>\n",
       "      <th>Gender</th>\n",
       "      <th>Height</th>\n",
       "      <th>Weight</th>\n",
       "      <th>Money</th>\n",
       "    </tr>\n",
       "  </thead>\n",
       "  <tbody>\n",
       "    <tr>\n",
       "      <th>0</th>\n",
       "      <td>Male</td>\n",
       "      <td>73.847017</td>\n",
       "      <td>241.893563</td>\n",
       "      <td>21.462754</td>\n",
       "    </tr>\n",
       "    <tr>\n",
       "      <th>1</th>\n",
       "      <td>Male</td>\n",
       "      <td>68.781904</td>\n",
       "      <td>162.310473</td>\n",
       "      <td>94.732358</td>\n",
       "    </tr>\n",
       "    <tr>\n",
       "      <th>2</th>\n",
       "      <td>Male</td>\n",
       "      <td>74.110105</td>\n",
       "      <td>212.740856</td>\n",
       "      <td>130.077362</td>\n",
       "    </tr>\n",
       "    <tr>\n",
       "      <th>3</th>\n",
       "      <td>Male</td>\n",
       "      <td>71.730978</td>\n",
       "      <td>220.042470</td>\n",
       "      <td>214.096064</td>\n",
       "    </tr>\n",
       "    <tr>\n",
       "      <th>4</th>\n",
       "      <td>Male</td>\n",
       "      <td>69.881796</td>\n",
       "      <td>206.349801</td>\n",
       "      <td>765.091245</td>\n",
       "    </tr>\n",
       "  </tbody>\n",
       "</table>\n",
       "</div>"
      ],
      "text/plain": [
       "  Gender     Height      Weight       Money\n",
       "0   Male  73.847017  241.893563   21.462754\n",
       "1   Male  68.781904  162.310473   94.732358\n",
       "2   Male  74.110105  212.740856  130.077362\n",
       "3   Male  71.730978  220.042470  214.096064\n",
       "4   Male  69.881796  206.349801  765.091245"
      ]
     },
     "execution_count": 3,
     "metadata": {},
     "output_type": "execute_result"
    }
   ],
   "source": [
    "result = pd.read_csv('data/weight-height-money.csv')\n",
    "result.head()"
   ]
  },
  {
   "cell_type": "markdown",
   "metadata": {
    "colab_type": "text",
    "id": "5dT2rAyw6_Xe"
   },
   "source": [
    "## Use the describe method to understand the data."
   ]
  },
  {
   "cell_type": "code",
   "execution_count": 4,
   "metadata": {
    "ExecuteTime": {
     "end_time": "2020-04-06T04:20:07.002350Z",
     "start_time": "2020-04-06T04:20:06.998360Z"
    },
    "colab": {},
    "colab_type": "code",
    "id": "2s8i42qY6_Xe"
   },
   "outputs": [
    {
     "data": {
      "text/html": [
       "<div>\n",
       "<style scoped>\n",
       "    .dataframe tbody tr th:only-of-type {\n",
       "        vertical-align: middle;\n",
       "    }\n",
       "\n",
       "    .dataframe tbody tr th {\n",
       "        vertical-align: top;\n",
       "    }\n",
       "\n",
       "    .dataframe thead th {\n",
       "        text-align: right;\n",
       "    }\n",
       "</style>\n",
       "<table border=\"1\" class=\"dataframe\">\n",
       "  <thead>\n",
       "    <tr style=\"text-align: right;\">\n",
       "      <th></th>\n",
       "      <th>Height</th>\n",
       "      <th>Weight</th>\n",
       "      <th>Money</th>\n",
       "    </tr>\n",
       "  </thead>\n",
       "  <tbody>\n",
       "    <tr>\n",
       "      <th>count</th>\n",
       "      <td>10000.000000</td>\n",
       "      <td>10000.000000</td>\n",
       "      <td>1.000000e+04</td>\n",
       "    </tr>\n",
       "    <tr>\n",
       "      <th>mean</th>\n",
       "      <td>66.367560</td>\n",
       "      <td>161.440357</td>\n",
       "      <td>6.311565e+02</td>\n",
       "    </tr>\n",
       "    <tr>\n",
       "      <th>std</th>\n",
       "      <td>3.847528</td>\n",
       "      <td>32.108439</td>\n",
       "      <td>8.060481e+02</td>\n",
       "    </tr>\n",
       "    <tr>\n",
       "      <th>min</th>\n",
       "      <td>54.263133</td>\n",
       "      <td>64.700127</td>\n",
       "      <td>1.735664e-07</td>\n",
       "    </tr>\n",
       "    <tr>\n",
       "      <th>25%</th>\n",
       "      <td>63.505620</td>\n",
       "      <td>135.818051</td>\n",
       "      <td>8.906720e+01</td>\n",
       "    </tr>\n",
       "    <tr>\n",
       "      <th>50%</th>\n",
       "      <td>66.318070</td>\n",
       "      <td>161.212928</td>\n",
       "      <td>3.390872e+02</td>\n",
       "    </tr>\n",
       "    <tr>\n",
       "      <th>75%</th>\n",
       "      <td>69.174262</td>\n",
       "      <td>187.169525</td>\n",
       "      <td>8.515404e+02</td>\n",
       "    </tr>\n",
       "    <tr>\n",
       "      <th>max</th>\n",
       "      <td>78.998742</td>\n",
       "      <td>269.989699</td>\n",
       "      <td>8.168216e+03</td>\n",
       "    </tr>\n",
       "  </tbody>\n",
       "</table>\n",
       "</div>"
      ],
      "text/plain": [
       "             Height        Weight         Money\n",
       "count  10000.000000  10000.000000  1.000000e+04\n",
       "mean      66.367560    161.440357  6.311565e+02\n",
       "std        3.847528     32.108439  8.060481e+02\n",
       "min       54.263133     64.700127  1.735664e-07\n",
       "25%       63.505620    135.818051  8.906720e+01\n",
       "50%       66.318070    161.212928  3.390872e+02\n",
       "75%       69.174262    187.169525  8.515404e+02\n",
       "max       78.998742    269.989699  8.168216e+03"
      ]
     },
     "execution_count": 4,
     "metadata": {},
     "output_type": "execute_result"
    }
   ],
   "source": [
    "result.describe()"
   ]
  },
  {
   "cell_type": "markdown",
   "metadata": {
    "colab_type": "text",
    "id": "QMuYYMkC6_Xg"
   },
   "source": [
    "## What can you observe? Compare mean and median values for each variable of our dataset."
   ]
  },
  {
   "cell_type": "code",
   "execution_count": 5,
   "metadata": {
    "colab": {},
    "colab_type": "code",
    "id": "KTT7N4Xv6_Xh"
   },
   "outputs": [],
   "source": [
    "# mean + median para Heigh e Weight estão bem próximos, o que indicaria uma concentração maior de dados (menos pontos fora da curva)\n",
    "# Já no caso de Money, a média é 631, com um std bem alto (806), o valor mínimo é próximo de 0 e o máximo 8.168. O fato da mediana ser 339 (metade da média) indica que há muitos pontos fora da curva, basta ver o valor máximo, que difere de 75% dos pontos inclusive pela ordem de grandeza;"
   ]
  },
  {
   "cell_type": "markdown",
   "metadata": {
    "colab_type": "text",
    "id": "97z21EZ56_Xj"
   },
   "source": [
    "## From that observation, what can you conclude? Can you imagine which kind of distribution each one has?\n",
    "\n",
    "Try to predict which category each variable most likely seems to fall into (without plotting it yet):\n",
    "- Left skewed\n",
    "- Right skewed\n",
    "- Gaussian-like\n",
    "\n",
    "_hint: Remember the effect of outliers on the mean and median values. Usually, the comparison between mean and median already leads us to meaningful insights regarding the variable's distribution. If mean and median are close, you can suppose that most of the data is concentrated in a region within the mean. However, if median and mean are far apart, you can suppose that some observations are pulling the mean closer to them._"
   ]
  },
  {
   "cell_type": "code",
   "execution_count": null,
   "metadata": {
    "colab": {},
    "colab_type": "code",
    "id": "e6Pm83sN6_Xj"
   },
   "outputs": [],
   "source": [
    "# Height >> Gaussian-like\n",
    "# Weight >> Gaussian-like\n",
    "# Money >> Right skewed"
   ]
  },
  {
   "cell_type": "markdown",
   "metadata": {
    "colab_type": "text",
    "id": "SZ5EUnL36_Xl"
   },
   "source": [
    "# Univariate Analysis"
   ]
  },
  {
   "cell_type": "markdown",
   "metadata": {
    "colab_type": "text",
    "id": "MonHc-Dv6_Xm"
   },
   "source": [
    "## Gender count\n",
    "\n",
    "Count how many Male and Female exist on this dataset using pandas. "
   ]
  },
  {
   "cell_type": "code",
   "execution_count": 6,
   "metadata": {
    "ExecuteTime": {
     "end_time": "2020-04-06T04:21:26.005141Z",
     "start_time": "2020-04-06T04:21:26.002149Z"
    },
    "colab": {},
    "colab_type": "code",
    "id": "550hCUU26_Xm"
   },
   "outputs": [
    {
     "data": {
      "text/plain": [
       "Gender    5000\n",
       "Height    5000\n",
       "Weight    5000\n",
       "Money     5000\n",
       "dtype: int64"
      ]
     },
     "execution_count": 6,
     "metadata": {},
     "output_type": "execute_result"
    }
   ],
   "source": [
    "result[result['Gender']=='Female'].count()"
   ]
  },
  {
   "cell_type": "code",
   "execution_count": 7,
   "metadata": {},
   "outputs": [
    {
     "data": {
      "text/plain": [
       "Gender    5000\n",
       "Height    5000\n",
       "Weight    5000\n",
       "Money     5000\n",
       "dtype: int64"
      ]
     },
     "execution_count": 7,
     "metadata": {},
     "output_type": "execute_result"
    }
   ],
   "source": [
    "result[result['Gender']=='Male'].count()"
   ]
  },
  {
   "cell_type": "markdown",
   "metadata": {
    "colab_type": "text",
    "id": "8PYiGbsg6_Xo"
   },
   "source": [
    "## Visual gender count\n",
    "\n",
    "Use seaborn (sns) to visually see how many male and female exist on the dataset.\n",
    "\n",
    "_hint: If you don't know how to do this, you can google: seaborn + the pandas method to count itens_"
   ]
  },
  {
   "cell_type": "code",
   "execution_count": 8,
   "metadata": {
    "ExecuteTime": {
     "end_time": "2020-04-06T04:23:52.685393Z",
     "start_time": "2020-04-06T04:23:52.683368Z"
    },
    "colab": {},
    "colab_type": "code",
    "id": "8ZiHJakJ6_Xp"
   },
   "outputs": [
    {
     "data": {
      "image/png": "[encoded data removed]",
      "text/plain": [
       "<Figure size 432x288 with 1 Axes>"
      ]
     },
     "metadata": {
      "needs_background": "light"
     },
     "output_type": "display_data"
    }
   ],
   "source": [
    "plot_1 = sns.countplot(x='Gender', data=result)"
   ]
  },
  {
   "cell_type": "markdown",
   "metadata": {
    "colab_type": "text",
    "id": "OKAJFx0w6_Xq"
   },
   "source": [
    "## Consider only Height\n",
    "\n",
    "Create a pandas series of the `height` variable."
   ]
  },
  {
   "cell_type": "code",
   "execution_count": 12,
   "metadata": {
    "colab": {},
    "colab_type": "code",
    "id": "QN-nwoar6_Xr"
   },
   "outputs": [],
   "source": [
    "height_series = pd.Series(result['Height'])"
   ]
  },
  {
   "cell_type": "markdown",
   "metadata": {
    "colab_type": "text",
    "id": "ATOR57i06_Xt"
   },
   "source": [
    "### Histogram-plot\n",
    "\n",
    "Plot the histogram of the `height`"
   ]
  },
  {
   "cell_type": "code",
   "execution_count": 15,
   "metadata": {
    "colab": {},
    "colab_type": "code",
    "id": "DETusxSt6_Xu"
   },
   "outputs": [
    {
     "data": {
      "text/plain": [
       "<Figure size 864x576 with 0 Axes>"
      ]
     },
     "execution_count": 15,
     "metadata": {},
     "output_type": "execute_result"
    },
    {
     "data": {
      "text/plain": [
       "<Figure size 864x576 with 0 Axes>"
      ]
     },
     "metadata": {},
     "output_type": "display_data"
    }
   ],
   "source": [
    "plt.figure(figsize=(12, 8))"
   ]
  },
  {
   "cell_type": "code",
   "execution_count": 19,
   "metadata": {},
   "outputs": [
    {
     "data": {
      "image/png": "[encoded data removed]",
      "text/plain": [
       "<Figure size 432x288 with 1 Axes>"
      ]
     },
     "metadata": {
      "needs_background": "light"
     },
     "output_type": "display_data"
    }
   ],
   "source": [
    "plot_height = plt.hist(height_series)"
   ]
  },
  {
   "cell_type": "code",
   "execution_count": 20,
   "metadata": {},
   "outputs": [
    {
     "data": {
      "image/png": "[encoded data removed]",
      "text/plain": [
       "<Figure size 432x288 with 1 Axes>"
      ]
     },
     "metadata": {
      "needs_background": "light"
     },
     "output_type": "display_data"
    }
   ],
   "source": [
    "plot_weight = plt.hist(result['Weight'])"
   ]
  },
  {
   "cell_type": "code",
   "execution_count": 22,
   "metadata": {},
   "outputs": [
    {
     "data": {
      "image/png": "[encoded data removed]",
      "text/plain": [
       "<Figure size 432x288 with 1 Axes>"
      ]
     },
     "metadata": {
      "needs_background": "light"
     },
     "output_type": "display_data"
    }
   ],
   "source": [
    "plot_weight = plt.hist(result['Money'])"
   ]
  },
  {
   "cell_type": "markdown",
   "metadata": {
    "colab_type": "text",
    "id": "0z4log2p6_Xw"
   },
   "source": [
    "### Box-plot\n",
    "\n",
    "Plot the boxplot of the `height`"
   ]
  },
  {
   "cell_type": "code",
   "execution_count": 24,
   "metadata": {
    "colab": {},
    "colab_type": "code",
    "id": "KPvda1GA6_Xx"
   },
   "outputs": [
    {
     "data": {
      "image/png": "[encoded data removed]",
      "text/plain": [
       "<Figure size 864x576 with 1 Axes>"
      ]
     },
     "metadata": {
      "needs_background": "light"
     },
     "output_type": "display_data"
    }
   ],
   "source": [
    "plt.figure(figsize=(12, 8))\n",
    "plt.boxplot(height_series);"
   ]
  },
  {
   "cell_type": "markdown",
   "metadata": {
    "colab_type": "text",
    "id": "yOJYQJNK6_Xy"
   },
   "source": [
    "What do you think the distribution of `height` is like? Do you think it is common for variables to behave like that in real life?"
   ]
  },
  {
   "cell_type": "code",
   "execution_count": null,
   "metadata": {
    "colab": {},
    "colab_type": "code",
    "id": "1AUPhMGX6_Xy"
   },
   "outputs": [],
   "source": [
    "# Distribuição normal. Sim. >> https://www.ime.usp.br/~salles/fatec/estatistica/aula8.pdf"
   ]
  },
  {
   "cell_type": "markdown",
   "metadata": {
    "colab_type": "text",
    "id": "qTyDt57_6_X0"
   },
   "source": [
    "### KDE distribution for height"
   ]
  },
  {
   "cell_type": "markdown",
   "metadata": {
    "colab_type": "text",
    "id": "KGzIwcRV6_X0"
   },
   "source": [
    "Plot the kde (kernel-density-estimation) distribution (without the hist distribution) of the `height`."
   ]
  },
  {
   "cell_type": "code",
   "execution_count": 28,
   "metadata": {},
   "outputs": [
    {
     "data": {
      "image/png": "[encoded data removed]",
      "text/plain": [
       "<Figure size 432x288 with 1 Axes>"
      ]
     },
     "metadata": {
      "needs_background": "light"
     },
     "output_type": "display_data"
    }
   ],
   "source": [
    "plot_3 = sns.kdeplot(data=result, x=\"Height\")"
   ]
  },
  {
   "cell_type": "markdown",
   "metadata": {
    "colab_type": "text",
    "id": "ikhooBE46_X1"
   },
   "source": [
    "### Analysis"
   ]
  },
  {
   "cell_type": "markdown",
   "metadata": {
    "colab_type": "text",
    "id": "opXZgn7q6_X1"
   },
   "source": [
    "As we can see we have a high count for height in the range near 60 to 75. How many people fall off 3 standard deviations from the mean? Can you consider them outliers? Why is that?"
   ]
  },
  {
   "cell_type": "markdown",
   "metadata": {
    "colab_type": "text",
    "id": "dgkPi6856_X1"
   },
   "source": [
    "#### Calculate the mean"
   ]
  },
  {
   "cell_type": "code",
   "execution_count": 53,
   "metadata": {
    "ExecuteTime": {
     "end_time": "2020-04-06T04:26:43.977959Z",
     "start_time": "2020-04-06T04:26:43.974967Z"
    },
    "colab": {},
    "colab_type": "code",
    "id": "SkxJqzbq6_X2"
   },
   "outputs": [
    {
     "name": "stdout",
     "output_type": "stream",
     "text": [
      "66.36755975482124\n"
     ]
    }
   ],
   "source": [
    "height_mean = result['Height'].mean()\n",
    "print(height_mean)"
   ]
  },
  {
   "cell_type": "markdown",
   "metadata": {
    "colab_type": "text",
    "id": "F3nLhNNu6_X4"
   },
   "source": [
    "#### Calculate the standard deviation "
   ]
  },
  {
   "cell_type": "code",
   "execution_count": 54,
   "metadata": {
    "ExecuteTime": {
     "end_time": "2020-04-06T04:26:50.252000Z",
     "start_time": "2020-04-06T04:26:50.249009Z"
    },
    "colab": {},
    "colab_type": "code",
    "id": "bUK8X9RY6_X5"
   },
   "outputs": [
    {
     "name": "stdout",
     "output_type": "stream",
     "text": [
      "3.8475281207732284\n"
     ]
    }
   ],
   "source": [
    "height_std = result['Height'].std()\n",
    "print(height_std)"
   ]
  },
  {
   "cell_type": "markdown",
   "metadata": {
    "colab_type": "text",
    "id": "270jlexC6_X6"
   },
   "source": [
    "#### Calculate the values for the cutoffs:\n",
    "\n",
    "`upper_cutoff = mean` <b><span style=\"color:red\">+</span></b> `3 * standard_deviation` \n",
    "\n",
    "`lower_cutoff = mean` <b><span style=\"color:red\">-</span></b> `3 * standard_deviation`"
   ]
  },
  {
   "cell_type": "markdown",
   "metadata": {
    "colab_type": "text",
    "id": "isBRD1mN6_X7"
   },
   "source": [
    "#### Now filter the original dataset. \n",
    "\n",
    "Use the values you calculated above to filter the original dataset. \n",
    "\n",
    "You should obtain a filtered dataset containing only the rows in which the `Height` column is greater than the upper cutoff and lower than the lower cutoff."
   ]
  },
  {
   "cell_type": "code",
   "execution_count": 55,
   "metadata": {
    "colab": {},
    "colab_type": "code",
    "id": "RTL9hhAi6_X7",
    "outputId": "c5cc08d8-842e-420a-dff3-7dbfa10ebb38"
   },
   "outputs": [
    {
     "name": "stdout",
     "output_type": "stream",
     "text": [
      "77.91014411714093\n",
      "54.82497539250156\n"
     ]
    }
   ],
   "source": [
    "height_upper_cutoff = height_mean+3*height_std\n",
    "print(height_upper_cutoff)\n",
    "height_lower_cutoff = height_mean-3*height_std\n",
    "print(height_lower_cutoff)"
   ]
  },
  {
   "cell_type": "code",
   "execution_count": 39,
   "metadata": {},
   "outputs": [
    {
     "data": {
      "text/plain": [
       "0       True\n",
       "1       True\n",
       "2       True\n",
       "3       True\n",
       "4       True\n",
       "        ... \n",
       "9995    True\n",
       "9996    True\n",
       "9997    True\n",
       "9998    True\n",
       "9999    True\n",
       "Name: Height, Length: 10000, dtype: bool"
      ]
     },
     "execution_count": 39,
     "metadata": {},
     "output_type": "execute_result"
    }
   ],
   "source": [
    "result['Height']>height_lower_cutoff"
   ]
  },
  {
   "cell_type": "code",
   "execution_count": 40,
   "metadata": {},
   "outputs": [
    {
     "data": {
      "text/plain": [
       "0       True\n",
       "1       True\n",
       "2       True\n",
       "3       True\n",
       "4       True\n",
       "        ... \n",
       "9995    True\n",
       "9996    True\n",
       "9997    True\n",
       "9998    True\n",
       "9999    True\n",
       "Name: Height, Length: 10000, dtype: bool"
      ]
     },
     "execution_count": 40,
     "metadata": {},
     "output_type": "execute_result"
    }
   ],
   "source": [
    "result['Height']<height_upper_cutoff"
   ]
  },
  {
   "cell_type": "code",
   "execution_count": 47,
   "metadata": {},
   "outputs": [
    {
     "data": {
      "text/html": [
       "<div>\n",
       "<style scoped>\n",
       "    .dataframe tbody tr th:only-of-type {\n",
       "        vertical-align: middle;\n",
       "    }\n",
       "\n",
       "    .dataframe tbody tr th {\n",
       "        vertical-align: top;\n",
       "    }\n",
       "\n",
       "    .dataframe thead th {\n",
       "        text-align: right;\n",
       "    }\n",
       "</style>\n",
       "<table border=\"1\" class=\"dataframe\">\n",
       "  <thead>\n",
       "    <tr style=\"text-align: right;\">\n",
       "      <th></th>\n",
       "      <th>Gender</th>\n",
       "      <th>Height</th>\n",
       "      <th>Weight</th>\n",
       "      <th>Money</th>\n",
       "    </tr>\n",
       "  </thead>\n",
       "  <tbody>\n",
       "    <tr>\n",
       "      <th>0</th>\n",
       "      <td>Male</td>\n",
       "      <td>73.847017</td>\n",
       "      <td>241.893563</td>\n",
       "      <td>21.462754</td>\n",
       "    </tr>\n",
       "    <tr>\n",
       "      <th>1</th>\n",
       "      <td>Male</td>\n",
       "      <td>68.781904</td>\n",
       "      <td>162.310473</td>\n",
       "      <td>94.732358</td>\n",
       "    </tr>\n",
       "    <tr>\n",
       "      <th>2</th>\n",
       "      <td>Male</td>\n",
       "      <td>74.110105</td>\n",
       "      <td>212.740856</td>\n",
       "      <td>130.077362</td>\n",
       "    </tr>\n",
       "    <tr>\n",
       "      <th>3</th>\n",
       "      <td>Male</td>\n",
       "      <td>71.730978</td>\n",
       "      <td>220.042470</td>\n",
       "      <td>214.096064</td>\n",
       "    </tr>\n",
       "    <tr>\n",
       "      <th>4</th>\n",
       "      <td>Male</td>\n",
       "      <td>69.881796</td>\n",
       "      <td>206.349801</td>\n",
       "      <td>765.091245</td>\n",
       "    </tr>\n",
       "    <tr>\n",
       "      <th>...</th>\n",
       "      <td>...</td>\n",
       "      <td>...</td>\n",
       "      <td>...</td>\n",
       "      <td>...</td>\n",
       "    </tr>\n",
       "    <tr>\n",
       "      <th>9995</th>\n",
       "      <td>Female</td>\n",
       "      <td>66.172652</td>\n",
       "      <td>136.777454</td>\n",
       "      <td>240.933121</td>\n",
       "    </tr>\n",
       "    <tr>\n",
       "      <th>9996</th>\n",
       "      <td>Female</td>\n",
       "      <td>67.067155</td>\n",
       "      <td>170.867906</td>\n",
       "      <td>1220.781276</td>\n",
       "    </tr>\n",
       "    <tr>\n",
       "      <th>9997</th>\n",
       "      <td>Female</td>\n",
       "      <td>63.867992</td>\n",
       "      <td>128.475319</td>\n",
       "      <td>0.258369</td>\n",
       "    </tr>\n",
       "    <tr>\n",
       "      <th>9998</th>\n",
       "      <td>Female</td>\n",
       "      <td>69.034243</td>\n",
       "      <td>163.852461</td>\n",
       "      <td>1552.920529</td>\n",
       "    </tr>\n",
       "    <tr>\n",
       "      <th>9999</th>\n",
       "      <td>Female</td>\n",
       "      <td>61.944246</td>\n",
       "      <td>113.649103</td>\n",
       "      <td>2232.337002</td>\n",
       "    </tr>\n",
       "  </tbody>\n",
       "</table>\n",
       "<p>9993 rows × 4 columns</p>\n",
       "</div>"
      ],
      "text/plain": [
       "      Gender     Height      Weight        Money\n",
       "0       Male  73.847017  241.893563    21.462754\n",
       "1       Male  68.781904  162.310473    94.732358\n",
       "2       Male  74.110105  212.740856   130.077362\n",
       "3       Male  71.730978  220.042470   214.096064\n",
       "4       Male  69.881796  206.349801   765.091245\n",
       "...      ...        ...         ...          ...\n",
       "9995  Female  66.172652  136.777454   240.933121\n",
       "9996  Female  67.067155  170.867906  1220.781276\n",
       "9997  Female  63.867992  128.475319     0.258369\n",
       "9998  Female  69.034243  163.852461  1552.920529\n",
       "9999  Female  61.944246  113.649103  2232.337002\n",
       "\n",
       "[9993 rows x 4 columns]"
      ]
     },
     "execution_count": 47,
     "metadata": {},
     "output_type": "execute_result"
    }
   ],
   "source": [
    "result[(result['Height']<height_upper_cutoff) & (result['Height']>height_lower_cutoff)]"
   ]
  },
  {
   "cell_type": "code",
   "execution_count": 51,
   "metadata": {},
   "outputs": [],
   "source": [
    "result_filtered = result.loc[result['Height']<=height_upper_cutoff].loc[result['Height']>=height_lower_cutoff]"
   ]
  },
  {
   "cell_type": "code",
   "execution_count": 52,
   "metadata": {},
   "outputs": [
    {
     "data": {
      "text/html": [
       "<div>\n",
       "<style scoped>\n",
       "    .dataframe tbody tr th:only-of-type {\n",
       "        vertical-align: middle;\n",
       "    }\n",
       "\n",
       "    .dataframe tbody tr th {\n",
       "        vertical-align: top;\n",
       "    }\n",
       "\n",
       "    .dataframe thead th {\n",
       "        text-align: right;\n",
       "    }\n",
       "</style>\n",
       "<table border=\"1\" class=\"dataframe\">\n",
       "  <thead>\n",
       "    <tr style=\"text-align: right;\">\n",
       "      <th></th>\n",
       "      <th>Gender</th>\n",
       "      <th>Height</th>\n",
       "      <th>Weight</th>\n",
       "      <th>Money</th>\n",
       "    </tr>\n",
       "  </thead>\n",
       "  <tbody>\n",
       "    <tr>\n",
       "      <th>4569</th>\n",
       "      <td>Male</td>\n",
       "      <td>77.547186</td>\n",
       "      <td>242.041173</td>\n",
       "      <td>1191.497177</td>\n",
       "    </tr>\n",
       "    <tr>\n",
       "      <th>2070</th>\n",
       "      <td>Male</td>\n",
       "      <td>77.465569</td>\n",
       "      <td>252.556689</td>\n",
       "      <td>332.683547</td>\n",
       "    </tr>\n",
       "    <tr>\n",
       "      <th>1922</th>\n",
       "      <td>Male</td>\n",
       "      <td>77.446620</td>\n",
       "      <td>232.651079</td>\n",
       "      <td>1309.431356</td>\n",
       "    </tr>\n",
       "    <tr>\n",
       "      <th>912</th>\n",
       "      <td>Male</td>\n",
       "      <td>77.160801</td>\n",
       "      <td>228.707301</td>\n",
       "      <td>549.413723</td>\n",
       "    </tr>\n",
       "    <tr>\n",
       "      <th>4297</th>\n",
       "      <td>Male</td>\n",
       "      <td>77.100872</td>\n",
       "      <td>240.455352</td>\n",
       "      <td>12.228225</td>\n",
       "    </tr>\n",
       "    <tr>\n",
       "      <th>...</th>\n",
       "      <td>...</td>\n",
       "      <td>...</td>\n",
       "      <td>...</td>\n",
       "      <td>...</td>\n",
       "    </tr>\n",
       "    <tr>\n",
       "      <th>5360</th>\n",
       "      <td>Female</td>\n",
       "      <td>55.668202</td>\n",
       "      <td>68.982530</td>\n",
       "      <td>1983.217259</td>\n",
       "    </tr>\n",
       "    <tr>\n",
       "      <th>8692</th>\n",
       "      <td>Female</td>\n",
       "      <td>55.651892</td>\n",
       "      <td>85.621776</td>\n",
       "      <td>3.906509</td>\n",
       "    </tr>\n",
       "    <tr>\n",
       "      <th>5345</th>\n",
       "      <td>Female</td>\n",
       "      <td>55.336492</td>\n",
       "      <td>88.366583</td>\n",
       "      <td>991.072650</td>\n",
       "    </tr>\n",
       "    <tr>\n",
       "      <th>7617</th>\n",
       "      <td>Female</td>\n",
       "      <td>55.148557</td>\n",
       "      <td>88.812412</td>\n",
       "      <td>572.823600</td>\n",
       "    </tr>\n",
       "    <tr>\n",
       "      <th>7294</th>\n",
       "      <td>Female</td>\n",
       "      <td>54.873728</td>\n",
       "      <td>78.606670</td>\n",
       "      <td>2311.025418</td>\n",
       "    </tr>\n",
       "  </tbody>\n",
       "</table>\n",
       "<p>9993 rows × 4 columns</p>\n",
       "</div>"
      ],
      "text/plain": [
       "      Gender     Height      Weight        Money\n",
       "4569    Male  77.547186  242.041173  1191.497177\n",
       "2070    Male  77.465569  252.556689   332.683547\n",
       "1922    Male  77.446620  232.651079  1309.431356\n",
       "912     Male  77.160801  228.707301   549.413723\n",
       "4297    Male  77.100872  240.455352    12.228225\n",
       "...      ...        ...         ...          ...\n",
       "5360  Female  55.668202   68.982530  1983.217259\n",
       "8692  Female  55.651892   85.621776     3.906509\n",
       "5345  Female  55.336492   88.366583   991.072650\n",
       "7617  Female  55.148557   88.812412   572.823600\n",
       "7294  Female  54.873728   78.606670  2311.025418\n",
       "\n",
       "[9993 rows x 4 columns]"
      ]
     },
     "execution_count": 52,
     "metadata": {},
     "output_type": "execute_result"
    }
   ],
   "source": [
    "result_filtered.sort_values(by = 'Height', ascending = False)"
   ]
  },
  {
   "cell_type": "code",
   "execution_count": 45,
   "metadata": {},
   "outputs": [
    {
     "data": {
      "text/html": [
       "<div>\n",
       "<style scoped>\n",
       "    .dataframe tbody tr th:only-of-type {\n",
       "        vertical-align: middle;\n",
       "    }\n",
       "\n",
       "    .dataframe tbody tr th {\n",
       "        vertical-align: top;\n",
       "    }\n",
       "\n",
       "    .dataframe thead th {\n",
       "        text-align: right;\n",
       "    }\n",
       "</style>\n",
       "<table border=\"1\" class=\"dataframe\">\n",
       "  <thead>\n",
       "    <tr style=\"text-align: right;\">\n",
       "      <th></th>\n",
       "      <th>Gender</th>\n",
       "      <th>Height</th>\n",
       "      <th>Weight</th>\n",
       "      <th>Money</th>\n",
       "    </tr>\n",
       "  </thead>\n",
       "  <tbody>\n",
       "  </tbody>\n",
       "</table>\n",
       "</div>"
      ],
      "text/plain": [
       "Empty DataFrame\n",
       "Columns: [Gender, Height, Weight, Money]\n",
       "Index: []"
      ]
     },
     "execution_count": 45,
     "metadata": {},
     "output_type": "execute_result"
    }
   ],
   "source": [
    "# result_filtered[result_filtered['Height']==78.4621]\n",
    "# meu resultado não está dando igual ao da tabela"
   ]
  },
  {
   "cell_type": "markdown",
   "metadata": {},
   "source": [
    "Expected results:\n",
    "\n",
    "|      | Gender   |   Height |   Weight |        Money |\n",
    "|-----:|:---------|---------:|---------:|-------------:|\n",
    "|  994 | Male     |  78.0959 | 255.691  | 1357.11      |\n",
    "| 1317 | Male     |  78.4621 | 227.343  |    5.45797   |\n",
    "| 2014 | Male     |  78.9987 | 269.99   |  131.474     |\n",
    "| 3285 | Male     |  78.5282 | 253.889  |    0.0896631 |\n",
    "| 3757 | Male     |  78.6214 | 245.734  |  204.113     |\n",
    "| 6624 | Female   |  54.6169 |  71.3937 |  226.061     |\n",
    "| 9285 | Female   |  54.2631 |  64.7001 |  646.532     |"
   ]
  },
  {
   "cell_type": "markdown",
   "metadata": {
    "ExecuteTime": {
     "end_time": "2020-04-06T04:33:34.040229Z",
     "start_time": "2020-04-06T04:33:34.035243Z"
    },
    "colab_type": "text",
    "id": "nG_njBjW6_X_"
   },
   "source": [
    "#### Finally, calculate the shape of this filtered dataset and compare with the original dataframe.\n",
    "\n",
    "Which percentage felt in these thresholds? Did you expect this value? Why?"
   ]
  },
  {
   "cell_type": "code",
   "execution_count": 46,
   "metadata": {
    "colab": {},
    "colab_type": "code",
    "id": "hud6jYs96_X_"
   },
   "outputs": [
    {
     "data": {
      "text/html": [
       "<div>\n",
       "<style scoped>\n",
       "    .dataframe tbody tr th:only-of-type {\n",
       "        vertical-align: middle;\n",
       "    }\n",
       "\n",
       "    .dataframe tbody tr th {\n",
       "        vertical-align: top;\n",
       "    }\n",
       "\n",
       "    .dataframe thead th {\n",
       "        text-align: right;\n",
       "    }\n",
       "</style>\n",
       "<table border=\"1\" class=\"dataframe\">\n",
       "  <thead>\n",
       "    <tr style=\"text-align: right;\">\n",
       "      <th></th>\n",
       "      <th>Height</th>\n",
       "      <th>Weight</th>\n",
       "      <th>Money</th>\n",
       "    </tr>\n",
       "  </thead>\n",
       "  <tbody>\n",
       "    <tr>\n",
       "      <th>count</th>\n",
       "      <td>9993.000000</td>\n",
       "      <td>9993.000000</td>\n",
       "      <td>9.993000e+03</td>\n",
       "    </tr>\n",
       "    <tr>\n",
       "      <th>mean</th>\n",
       "      <td>66.363856</td>\n",
       "      <td>161.414473</td>\n",
       "      <td>6.313413e+02</td>\n",
       "    </tr>\n",
       "    <tr>\n",
       "      <th>std</th>\n",
       "      <td>3.835511</td>\n",
       "      <td>32.028986</td>\n",
       "      <td>8.062116e+02</td>\n",
       "    </tr>\n",
       "    <tr>\n",
       "      <th>min</th>\n",
       "      <td>54.873728</td>\n",
       "      <td>68.982530</td>\n",
       "      <td>1.735664e-07</td>\n",
       "    </tr>\n",
       "    <tr>\n",
       "      <th>25%</th>\n",
       "      <td>63.505894</td>\n",
       "      <td>135.819094</td>\n",
       "      <td>8.908791e+01</td>\n",
       "    </tr>\n",
       "    <tr>\n",
       "      <th>50%</th>\n",
       "      <td>66.317755</td>\n",
       "      <td>161.193433</td>\n",
       "      <td>3.392380e+02</td>\n",
       "    </tr>\n",
       "    <tr>\n",
       "      <th>75%</th>\n",
       "      <td>69.169353</td>\n",
       "      <td>187.120945</td>\n",
       "      <td>8.520559e+02</td>\n",
       "    </tr>\n",
       "    <tr>\n",
       "      <th>max</th>\n",
       "      <td>77.547186</td>\n",
       "      <td>255.863326</td>\n",
       "      <td>8.168216e+03</td>\n",
       "    </tr>\n",
       "  </tbody>\n",
       "</table>\n",
       "</div>"
      ],
      "text/plain": [
       "            Height       Weight         Money\n",
       "count  9993.000000  9993.000000  9.993000e+03\n",
       "mean     66.363856   161.414473  6.313413e+02\n",
       "std       3.835511    32.028986  8.062116e+02\n",
       "min      54.873728    68.982530  1.735664e-07\n",
       "25%      63.505894   135.819094  8.908791e+01\n",
       "50%      66.317755   161.193433  3.392380e+02\n",
       "75%      69.169353   187.120945  8.520559e+02\n",
       "max      77.547186   255.863326  8.168216e+03"
      ]
     },
     "execution_count": 46,
     "metadata": {},
     "output_type": "execute_result"
    }
   ],
   "source": [
    "result_filtered.describe()"
   ]
  },
  {
   "cell_type": "code",
   "execution_count": null,
   "metadata": {},
   "outputs": [],
   "source": [
    "result_filtered[]"
   ]
  },
  {
   "cell_type": "markdown",
   "metadata": {
    "colab_type": "text",
    "id": "E9elL5936_YB"
   },
   "source": [
    "## Now perform the same analysis for `money` variable."
   ]
  },
  {
   "cell_type": "markdown",
   "metadata": {
    "colab_type": "text",
    "id": "iHTk6LhO6_YB"
   },
   "source": [
    "You'll do exactly the same analysis for a variable of your dataset that has some different aspects. Let's try to understand that."
   ]
  },
  {
   "cell_type": "markdown",
   "metadata": {
    "colab_type": "text",
    "id": "jBi_YffX6_YB"
   },
   "source": [
    "## Consider only Money\n",
    "\n",
    "Create a pandas series of the `money` variable."
   ]
  },
  {
   "cell_type": "code",
   "execution_count": null,
   "metadata": {
    "colab": {},
    "colab_type": "code",
    "id": "VlGJ0JoG6_YC"
   },
   "outputs": [],
   "source": [
    "# your code here"
   ]
  },
  {
   "cell_type": "markdown",
   "metadata": {},
   "source": [
    "Shape"
   ]
  },
  {
   "cell_type": "code",
   "execution_count": null,
   "metadata": {
    "colab": {},
    "colab_type": "code",
    "id": "tYzsJnzo6_YD",
    "outputId": "b8f36a66-939e-45d6-fd9c-06e95dc939bd"
   },
   "outputs": [],
   "source": [
    "# your code here"
   ]
  },
  {
   "cell_type": "markdown",
   "metadata": {
    "colab_type": "text",
    "id": "KXMvChJi6_YF"
   },
   "source": [
    "### Histogram-plot"
   ]
  },
  {
   "cell_type": "code",
   "execution_count": null,
   "metadata": {
    "colab": {},
    "colab_type": "code",
    "id": "oexSHeHc6_YF"
   },
   "outputs": [],
   "source": [
    "# your code here"
   ]
  },
  {
   "cell_type": "markdown",
   "metadata": {
    "colab_type": "text",
    "id": "oZcX8mYB6_YH"
   },
   "source": [
    "### Box-plot"
   ]
  },
  {
   "cell_type": "code",
   "execution_count": null,
   "metadata": {
    "colab": {},
    "colab_type": "code",
    "id": "NoG2kvO86_YI"
   },
   "outputs": [],
   "source": [
    "# your code here"
   ]
  },
  {
   "cell_type": "markdown",
   "metadata": {
    "colab_type": "text",
    "id": "u9gi0NLV6_YJ"
   },
   "source": [
    "### KDE distribution for height"
   ]
  },
  {
   "cell_type": "code",
   "execution_count": null,
   "metadata": {
    "colab": {},
    "colab_type": "code",
    "id": "sfT2BzQe6_YK"
   },
   "outputs": [],
   "source": [
    "# your code here"
   ]
  },
  {
   "cell_type": "markdown",
   "metadata": {
    "colab_type": "text",
    "id": "kzJUTeh36_YM"
   },
   "source": [
    "### Analysis"
   ]
  },
  {
   "cell_type": "markdown",
   "metadata": {
    "colab_type": "text",
    "id": "Gl1ewWWR6_YM"
   },
   "source": [
    "Again, how many people fall off 3 standard deviations in both cases (which percentage of the dataset)? Let's do it by parts:"
   ]
  },
  {
   "cell_type": "markdown",
   "metadata": {
    "colab_type": "text",
    "id": "nkEp1XFN6_YM"
   },
   "source": [
    "#### Calculate the mean"
   ]
  },
  {
   "cell_type": "code",
   "execution_count": null,
   "metadata": {
    "ExecuteTime": {
     "end_time": "2020-04-06T04:36:40.326455Z",
     "start_time": "2020-04-06T04:36:40.323463Z"
    },
    "colab": {},
    "colab_type": "code",
    "id": "_LAoCUi06_YN"
   },
   "outputs": [],
   "source": [
    "# your answer here"
   ]
  },
  {
   "cell_type": "markdown",
   "metadata": {
    "colab_type": "text",
    "id": "k7tGEVD96_YO"
   },
   "source": [
    "#### Calculate the standard deviation "
   ]
  },
  {
   "cell_type": "code",
   "execution_count": null,
   "metadata": {
    "colab": {},
    "colab_type": "code",
    "id": "KkW0F87D6_YP"
   },
   "outputs": [],
   "source": [
    "# your answer here."
   ]
  },
  {
   "cell_type": "markdown",
   "metadata": {
    "colab_type": "text",
    "id": "hyHPl0TD6_YQ"
   },
   "source": [
    "#### Calculate the values for the cutoffs:\n",
    "\n",
    "`upper_cutoff = mean` <b><span style=\"color:red\">+</span></b> `3 * standard_deviation` \n",
    "\n",
    "`lower_cutoff = mean` <b><span style=\"color:red\">-</span></b> `3 * standard_deviation`"
   ]
  },
  {
   "cell_type": "markdown",
   "metadata": {
    "colab_type": "text",
    "id": "lO6g6RXi6_YQ"
   },
   "source": [
    "#### Again, filter the original dataset. "
   ]
  },
  {
   "cell_type": "code",
   "execution_count": null,
   "metadata": {
    "ExecuteTime": {
     "end_time": "2020-04-06T04:37:25.851255Z",
     "start_time": "2020-04-06T04:37:25.848263Z"
    },
    "colab": {},
    "colab_type": "code",
    "id": "VjdtbNc06_YR"
   },
   "outputs": [],
   "source": [
    "# your answer here"
   ]
  },
  {
   "cell_type": "markdown",
   "metadata": {
    "colab_type": "text",
    "id": "vGnDsa-s6_YT"
   },
   "source": [
    "#### Finally, calculate the shape of this filtered dataset and compare with the original dataframe.\n",
    "\n",
    "Which percentage felt in these thresholds? Did you expect this value?"
   ]
  },
  {
   "cell_type": "code",
   "execution_count": null,
   "metadata": {
    "colab": {},
    "colab_type": "code",
    "id": "P2m7MHNF6_YT"
   },
   "outputs": [],
   "source": [
    "# your answer here"
   ]
  },
  {
   "cell_type": "markdown",
   "metadata": {},
   "source": [
    "Expected result:\n",
    "\n",
    "|     | Gender   |   Height |   Weight |   Money |\n",
    "|----:|:---------|---------:|---------:|--------:|\n",
    "| 234 | Male     |  67.3698 |  176.636 | 3725.08 |\n",
    "| 294 | Male     |  64.4252 |  169.109 | 3942.97 |\n",
    "| 355 | Male     |  72.9386 |  216.097 | 3762.42 |\n",
    "| 518 | Male     |  68.3465 |  178.676 | 3286.66 |\n",
    "| 662 | Male     |  69.431  |  172.326 | 3798.71 |\n",
    "|   ...   | ...   |   ... |   ... |   ... |\n",
    "| 9873 | Female   |  63.7072 |  132.761 | 3164.37 |\n",
    "| 9888 | Female   |  65.1059 |  149.695 | 3929.57 |\n",
    "| 9922 | Female   |  58.7525 |  106.846 | 3541.68 |\n",
    "| 9930 | Female   |  68.5444 |  148.828 | 3916.32 |\n",
    "| 9946 | Female   |  66.6245 |  149.828 | 6535.36 |"
   ]
  },
  {
   "cell_type": "markdown",
   "metadata": {
    "colab_type": "text",
    "id": "5GvjLe4s6_YV"
   },
   "source": [
    "Can you consider them outliers?"
   ]
  },
  {
   "cell_type": "code",
   "execution_count": null,
   "metadata": {
    "colab": {},
    "colab_type": "code",
    "id": "hMv78bh-6_YV"
   },
   "outputs": [],
   "source": [
    "# your answer here"
   ]
  },
  {
   "cell_type": "markdown",
   "metadata": {
    "colab_type": "text",
    "id": "LodtGIlf8PyK"
   },
   "source": [
    "By now, you should have observed that in order to consider an observation an `outlier`, one needs to take into account the **distribution** of the variable. In fact, most statistical aspects do not mean anything until you understand the variable's distribution."
   ]
  },
  {
   "cell_type": "markdown",
   "metadata": {
    "colab_type": "text",
    "id": "4xo8UdNG6_YX"
   },
   "source": [
    "# Bivariate Analysis"
   ]
  },
  {
   "cell_type": "markdown",
   "metadata": {
    "colab_type": "text",
    "id": "ZPow_mX16_YX"
   },
   "source": [
    "## Considering both height and weight\n",
    "\n",
    "Now we'll consider both height and weight variables to understand our data. We'll perform what is called a bivariate analysis."
   ]
  },
  {
   "cell_type": "markdown",
   "metadata": {},
   "source": [
    "### Perform a scatterplot to check the relation between Height and Weight"
   ]
  },
  {
   "cell_type": "code",
   "execution_count": null,
   "metadata": {
    "colab": {},
    "colab_type": "code",
    "id": "SigXKLfC6_YY"
   },
   "outputs": [],
   "source": [
    "plt.figure(figsize=(12, 8))\n",
    "# your answer here"
   ]
  },
  {
   "cell_type": "markdown",
   "metadata": {
    "colab_type": "text",
    "id": "59aT_5lW6_Ya"
   },
   "source": [
    "### Do the same plot, but color the markers by Gender"
   ]
  },
  {
   "cell_type": "code",
   "execution_count": null,
   "metadata": {
    "ExecuteTime": {
     "end_time": "2020-04-06T04:40:28.745269Z",
     "start_time": "2020-04-06T04:40:28.738261Z"
    },
    "colab": {},
    "colab_type": "code",
    "id": "il_2ixhp6_Ya"
   },
   "outputs": [],
   "source": [
    "plt.figure(figsize=(12, 8))\n",
    "# your answer here"
   ]
  },
  {
   "cell_type": "markdown",
   "metadata": {
    "colab_type": "text",
    "id": "dvqrbq6M6_Yc"
   },
   "source": [
    "### Which insights hue'ing the plot using the variable Gender has brought to you? "
   ]
  },
  {
   "cell_type": "code",
   "execution_count": null,
   "metadata": {
    "colab": {},
    "colab_type": "code",
    "id": "JAAdWKOo6_Yc"
   },
   "outputs": [],
   "source": [
    "# your answer here"
   ]
  },
  {
   "cell_type": "markdown",
   "metadata": {
    "colab_type": "text",
    "id": "BG61NYRy6_Ye"
   },
   "source": [
    "### Create a variable called `gender_groupby` to group data by `Gender`. However, don't define any aggregations yet. \n",
    "\n",
    "Just perform the groupby operation."
   ]
  },
  {
   "cell_type": "code",
   "execution_count": null,
   "metadata": {
    "colab": {},
    "colab_type": "code",
    "id": "T1-ve0L86_Ye"
   },
   "outputs": [],
   "source": [
    "# your code here"
   ]
  },
  {
   "cell_type": "markdown",
   "metadata": {
    "colab_type": "text",
    "id": "QgBhuRB_6_Yh"
   },
   "source": [
    "#### Run `gender_groupby.head()` to check the groups obtained."
   ]
  },
  {
   "cell_type": "code",
   "execution_count": null,
   "metadata": {
    "ExecuteTime": {
     "end_time": "2020-04-06T04:42:01.551953Z",
     "start_time": "2020-04-06T04:42:01.544967Z"
    },
    "colab": {},
    "colab_type": "code",
    "id": "ry9aSDKm6_Yh"
   },
   "outputs": [],
   "source": [
    "# your answer here"
   ]
  },
  {
   "cell_type": "markdown",
   "metadata": {
    "colab_type": "text",
    "id": "Fw0jkp5D6_Yj"
   },
   "source": [
    "#### Run gender_groupby.describe().T to check the statistics for each group. \n",
    "\n",
    "_hint: You can transpose this result to obtain a better visualization of the results_\n"
   ]
  },
  {
   "cell_type": "code",
   "execution_count": null,
   "metadata": {
    "colab": {},
    "colab_type": "code",
    "id": "2BqS-oLr6_Yk"
   },
   "outputs": [],
   "source": [
    "# your answer here"
   ]
  },
  {
   "cell_type": "markdown",
   "metadata": {
    "colab_type": "text",
    "id": "rdqDmgC36_Yl"
   },
   "source": [
    "The results above should give you some insights of the effect of gender on your dataset both visually and numerically."
   ]
  },
  {
   "cell_type": "markdown",
   "metadata": {
    "colab_type": "text",
    "id": "rcOvujkn6_Ym"
   },
   "source": [
    "## Distribution plots"
   ]
  },
  {
   "cell_type": "markdown",
   "metadata": {
    "colab_type": "text",
    "id": "3JUuAPkq6_Ym"
   },
   "source": [
    "### Verifying the distribution of your variables for each Gender.\n",
    "\n",
    "We have seen that each variable in our dataset has its own \"DNA\". This is the distribution of each variable. However, the story does not stop there. Each variable has peculiarities within it and it is our job as data analyst to discover it. We'll see futurely that what `machine learning models` mostly do for us is automate this process (if we understand them, of course) \n",
    "\n",
    "In this case, specifically, we want to understand the effect of our `Gender` variable on the distribution of our dataset.\n"
   ]
  },
  {
   "cell_type": "markdown",
   "metadata": {
    "colab_type": "text",
    "id": "7VbGftCN6_Ym"
   },
   "source": [
    "### First, plot the distribution of the `Height` variable again."
   ]
  },
  {
   "cell_type": "code",
   "execution_count": null,
   "metadata": {
    "ExecuteTime": {
     "end_time": "2020-04-06T04:47:47.783941Z",
     "start_time": "2020-04-06T04:47:47.780949Z"
    },
    "colab": {},
    "colab_type": "code",
    "id": "agy8521H6_Yn"
   },
   "outputs": [],
   "source": [
    "# your answer here"
   ]
  },
  {
   "cell_type": "markdown",
   "metadata": {
    "colab_type": "text",
    "id": "iHH6KpQr6_Yp"
   },
   "source": [
    "### Now, filter your dataset for each gender. Create a dataframe called `men` and another called `women` and plot the `Height` distribution for each of them in the same plot."
   ]
  },
  {
   "cell_type": "code",
   "execution_count": null,
   "metadata": {
    "ExecuteTime": {
     "end_time": "2020-04-06T04:47:52.663764Z",
     "start_time": "2020-04-06T04:47:52.659775Z"
    },
    "colab": {},
    "colab_type": "code",
    "id": "gS71p7-K6_Yp"
   },
   "outputs": [],
   "source": [
    "# your answer here"
   ]
  },
  {
   "cell_type": "markdown",
   "metadata": {
    "colab_type": "text",
    "id": "cagOUAyG6_Yr"
   },
   "source": [
    "### What insights could you observe from that? What is the impact of `Gender` on `Height`"
   ]
  },
  {
   "cell_type": "code",
   "execution_count": null,
   "metadata": {
    "colab": {},
    "colab_type": "code",
    "id": "i5H3RXJr6_Yr"
   },
   "outputs": [],
   "source": [
    "# your answer here"
   ]
  },
  {
   "cell_type": "markdown",
   "metadata": {
    "colab_type": "text",
    "id": "D9_EoGmV6_Yt"
   },
   "source": [
    "**Extra Note:** The issue: https://github.com/mwaskom/seaborn/issues/861 has a discussion of why distplot doesn't have a `hue` argument and how to overcome it (look for FacetGrid)"
   ]
  },
  {
   "cell_type": "markdown",
   "metadata": {
    "colab_type": "text",
    "id": "qGNDPX3l6_Yt"
   },
   "source": [
    "Try to do the same for the `Money` variable. What is the impact of `Gender` on `Money` ?\n",
    "\n",
    "_Hint: for the Money variable, try specifying `hist=False`_\n"
   ]
  },
  {
   "cell_type": "code",
   "execution_count": null,
   "metadata": {
    "colab": {},
    "colab_type": "code",
    "id": "ZZXIuhlb6_Yu"
   },
   "outputs": [],
   "source": [
    "# your answer here"
   ]
  },
  {
   "cell_type": "markdown",
   "metadata": {
    "colab_type": "text",
    "id": "OKn0Zyrc6_Yw"
   },
   "source": [
    "## Boxplot "
   ]
  },
  {
   "cell_type": "markdown",
   "metadata": {
    "colab_type": "text",
    "id": "8Em89WIn6_Yw"
   },
   "source": [
    "### Gender vs Height\n",
    "\n",
    "Plot the boxplot considering the x-axis as `Gender` and y-axis as `Height`"
   ]
  },
  {
   "cell_type": "code",
   "execution_count": null,
   "metadata": {
    "colab": {},
    "colab_type": "code",
    "id": "gw4HbUh36_Yx"
   },
   "outputs": [],
   "source": [
    "plt.figure(figsize=(12, 8))\n",
    "# your answer here"
   ]
  },
  {
   "cell_type": "markdown",
   "metadata": {
    "colab_type": "text",
    "id": "CSIGCqV66_Yy"
   },
   "source": [
    "### Gender vs Money"
   ]
  },
  {
   "cell_type": "code",
   "execution_count": null,
   "metadata": {
    "colab": {},
    "colab_type": "code",
    "id": "weexLFSX6_Yz"
   },
   "outputs": [],
   "source": [
    "plt.figure(figsize=(12, 8))\n",
    "# your answer here"
   ]
  },
  {
   "cell_type": "markdown",
   "metadata": {
    "colab_type": "text",
    "id": "GLOqMlrT6_Y0"
   },
   "source": [
    "From the conclusions of the previous exercises, did you expect the bloxplots to be like the ones above?"
   ]
  },
  {
   "cell_type": "code",
   "execution_count": null,
   "metadata": {
    "ExecuteTime": {
     "end_time": "2020-04-06T04:58:29.670900Z",
     "start_time": "2020-04-06T04:58:29.666887Z"
    },
    "colab": {},
    "colab_type": "code",
    "id": "Xi7kF5v_6_Y1"
   },
   "outputs": [],
   "source": [
    "# your answer here"
   ]
  },
  {
   "cell_type": "markdown",
   "metadata": {
    "colab_type": "text",
    "id": "HNT8LjTI6_Y3"
   },
   "source": [
    "### Multivariate Analysis"
   ]
  },
  {
   "cell_type": "markdown",
   "metadata": {
    "colab_type": "text",
    "id": "_affOA406_Y3"
   },
   "source": [
    "Use `sns.pairplot` to see some combinations obtained so far. Use `hue = 'Gender`. \n",
    "\n",
    "Note that in a real problem, pairplot starts to get messy since there can be countless number of variables in a dataset. Use it wisely.\n",
    "\n",
    "Usually people only plot this graph and don't take any conclusions from it. Don't fall into that trap. "
   ]
  },
  {
   "cell_type": "code",
   "execution_count": null,
   "metadata": {
    "colab": {},
    "colab_type": "code",
    "id": "LxvLM7Vf6_Y3"
   },
   "outputs": [],
   "source": [
    "# your answer here"
   ]
  }
 ],
 "metadata": {
  "colab": {
   "collapsed_sections": [],
   "name": "main.ipynb",
   "provenance": []
  },
  "interpreter": {
   "hash": "ac59ebe37160ed0dfa835113d9b8498d9f09ceb179beaac4002f036b9467c963"
  },
  "kernelspec": {
   "display_name": "Python 3 (ipykernel)",
   "language": "python",
   "name": "python3"
  },
  "language_info": {
   "codemirror_mode": {
    "name": "ipython",
    "version": 3
   },
   "file_extension": ".py",
   "mimetype": "text/x-python",
   "name": "python",
   "nbconvert_exporter": "python",
   "pygments_lexer": "ipython3",
   "version": "3.8.11"
  },
  "toc": {
   "base_numbering": 1,
   "nav_menu": {},
   "number_sections": true,
   "sideBar": true,
   "skip_h1_title": false,
   "title_cell": "Table of Contents",
   "title_sidebar": "Contents",
   "toc_cell": false,
   "toc_position": {},
   "toc_section_display": true,
   "toc_window_display": false
  }
 },
 "nbformat": 4,
 "nbformat_minor": 2
}
