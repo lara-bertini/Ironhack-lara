{
 "cells": [
  {
   "cell_type": "markdown",
   "metadata": {
    "colab_type": "text",
    "id": "6I1W1y5zDCIN"
   },
   "source": [
    "# Before your start:\n",
    "- Comment as much as you can\n",
    "- Happy learning!"
   ]
  },
  {
   "cell_type": "code",
   "execution_count": 1,
   "metadata": {
    "colab": {},
    "colab_type": "code",
    "id": "1t-NDi5NDCIW"
   },
   "outputs": [],
   "source": [
    "import numpy as np\n",
    "import pandas as pd"
   ]
  },
  {
   "cell_type": "markdown",
   "metadata": {
    "colab_type": "text",
    "id": "P53qCn3xDCIg"
   },
   "source": [
    "# Inside a function\n",
    "You are already familiar with several built in functions on python as well as libraries.  \n",
    "Let's try to figure out how they are made in pure python. "
   ]
  },
  {
   "cell_type": "markdown",
   "metadata": {
    "colab_type": "text",
    "id": "7Vq9tOLcDCIi"
   },
   "source": [
    "Create a function that `returns the count` of a list of numbers"
   ]
  },
  {
   "cell_type": "code",
   "execution_count": 2,
   "metadata": {},
   "outputs": [],
   "source": [
    "test_list = [1,2,3,4,5,6,7,8,9,10,12,13]"
   ]
  },
  {
   "cell_type": "code",
   "execution_count": 3,
   "metadata": {},
   "outputs": [
    {
     "data": {
      "text/plain": [
       "12"
      ]
     },
     "execution_count": 3,
     "metadata": {},
     "output_type": "execute_result"
    }
   ],
   "source": [
    "def count_list(local_list):\n",
    "    return len(local_list)\n",
    "\n",
    "count_list(test_list)"
   ]
  },
  {
   "cell_type": "markdown",
   "metadata": {
    "colab_type": "text",
    "id": "02PYrNc5DCIt"
   },
   "source": [
    "Create a function that `returns the mean` of a list of numbers"
   ]
  },
  {
   "cell_type": "code",
   "execution_count": 4,
   "metadata": {},
   "outputs": [
    {
     "data": {
      "text/plain": [
       "6.666666666666667"
      ]
     },
     "execution_count": 4,
     "metadata": {},
     "output_type": "execute_result"
    }
   ],
   "source": [
    "def mean_list(local_list):\n",
    "    return np.mean(local_list)\n",
    "\n",
    "mean_list(test_list)"
   ]
  },
  {
   "cell_type": "markdown",
   "metadata": {
    "colab_type": "text",
    "id": "xy1rA4EeDCI5"
   },
   "source": [
    "Create a function that `returns the standard deviation` of a list of numbers using the previous functions you created. "
   ]
  },
  {
   "cell_type": "code",
   "execution_count": 5,
   "metadata": {},
   "outputs": [
    {
     "data": {
      "text/plain": [
       "3.7043517951488116"
      ]
     },
     "execution_count": 5,
     "metadata": {},
     "output_type": "execute_result"
    }
   ],
   "source": [
    "def std_list(local_list):\n",
    "    return np.std(local_list)\n",
    "\n",
    "std_list(test_list)"
   ]
  },
  {
   "cell_type": "markdown",
   "metadata": {
    "colab_type": "text",
    "id": "Dro2ll4WDCJB"
   },
   "source": [
    "Create a function that `returns the count, mean and standard deviation` of a given list.  \n",
    "`Document this function` using triple quotes, your documentation should have description, parameters, returns and examples. "
   ]
  },
  {
   "cell_type": "code",
   "execution_count": 6,
   "metadata": {},
   "outputs": [
    {
     "data": {
      "text/plain": [
       "(12, 6.666666666666667, 3.7043517951488116)"
      ]
     },
     "execution_count": 6,
     "metadata": {},
     "output_type": "execute_result"
    }
   ],
   "source": [
    "def len_mean_std_list(local_list):\n",
    "    '''\n",
    "    Parâmetro: lista\n",
    "    \n",
    "    Retorno: tamanho da lista, média dos elementos da lista, e desvio padrão dos elementos da lista\n",
    "    \n",
    "    Ex: len_mean_std_list ([2,2,2])\n",
    "    \n",
    "    '''\n",
    "    \n",
    "    return (count_list(local_list),mean_list(local_list), std_list(local_list))\n",
    "\n",
    "len_mean_std_list(test_list)"
   ]
  },
  {
   "cell_type": "markdown",
   "metadata": {
    "colab_type": "text",
    "id": "-_YUdHo7DCJJ"
   },
   "source": [
    "# String Cleaning\n",
    "When working with textual data you will often have to clean it before being able to analyze it.  \n",
    "Create a function that receives a string and `returns that string in all lower case, without special characters and in alphabetical order`. "
   ]
  },
  {
   "cell_type": "code",
   "execution_count": null,
   "metadata": {},
   "outputs": [],
   "source": []
  },
  {
   "cell_type": "code",
   "execution_count": 7,
   "metadata": {},
   "outputs": [
    {
     "name": "stdout",
     "output_type": "stream",
     "text": [
      "aabccddeeimmnossvwxxxx\n"
     ]
    }
   ],
   "source": [
    "import re\n",
    "\n",
    "def alphabetical_function(test_string):\n",
    "    test_string = list(''.join(re.findall('[A-z]+',test_string)).replace('_',''))\n",
    "    test_string = sorted(test_string)\n",
    "    test_string = ''.join(test_string)\n",
    "    return test_string.lower()\n",
    "\n",
    "string = \"xnsiAAx_vcdsmc oB.,/?xedxmew\"\n",
    "print(alphabetical_function (string))\n"
   ]
  },
  {
   "cell_type": "markdown",
   "metadata": {
    "colab_type": "text",
    "id": "23s3vEQ-DCJO"
   },
   "source": [
    "# Classification\n",
    "Sometimes datasets provide very good and precise information but not in the way we need to use it.  \n",
    "In this challenge, `make a function` that takes the list below and turns it into a category list. \n",
    "You can use the median to set the center of your  scale:  \n",
    "`\"above the median\", \"median\", \"below the median\"`."
   ]
  },
  {
   "cell_type": "code",
   "execution_count": 8,
   "metadata": {},
   "outputs": [
    {
     "name": "stdout",
     "output_type": "stream",
     "text": [
      "50.0\n",
      "['median', 'above the median', 'below the median', 'below the median', 'above the median', 'above the median', 'below the median']\n"
     ]
    }
   ],
   "source": [
    "list_for_classification = [ 50, 120, 30, 10, 90, 70, 10]\n",
    "\n",
    "def classification(list_classification):\n",
    "    list_classification_final = list()\n",
    "    list_median = np.median(list_classification)\n",
    "    print(list_median)\n",
    "    for elemento in list_classification:\n",
    "        if elemento < list_median:\n",
    "            list_classification_final.append(\"below the median\")\n",
    "        elif elemento == list_median:\n",
    "            list_classification_final.append(\"median\")\n",
    "        else:\n",
    "            list_classification_final.append(\"above the median\")\n",
    "    return(list_classification_final)\n",
    "\n",
    "print(classification(list_for_classification))"
   ]
  },
  {
   "cell_type": "code",
   "execution_count": null,
   "metadata": {},
   "outputs": [],
   "source": []
  },
  {
   "cell_type": "markdown",
   "metadata": {
    "colab_type": "text",
    "id": "qgCz4w1XDCJU"
   },
   "source": [
    "# Recursion \n",
    "In some cases it is interesting to build a function that calls itself.  \n",
    "Use a `recursive function` that asks for an `input` from the users age.  \n",
    "Keeps asking it until the input is a `number between 0 and 150`. "
   ]
  },
  {
   "cell_type": "code",
   "execution_count": 9,
   "metadata": {},
   "outputs": [
    {
     "name": "stdout",
     "output_type": "stream",
     "text": [
      "Sua idade(entre 0 e 150): 0\n"
     ]
    },
    {
     "data": {
      "text/plain": [
       "'0'"
      ]
     },
     "execution_count": 9,
     "metadata": {},
     "output_type": "execute_result"
    }
   ],
   "source": [
    "def ask_age():\n",
    "    x = input('Sua idade(entre 0 e 150): ')\n",
    "    if x.isnumeric() and int(x)<=150 and int(x)>=0:\n",
    "        return x\n",
    "    else:\n",
    "        print('Digite um número de 0 a 150 válido.')\n",
    "        return ask_age()\n",
    "    \n",
    "ask_age()"
   ]
  },
  {
   "cell_type": "markdown",
   "metadata": {
    "colab_type": "text",
    "id": "k0oT8Xo2DCJa"
   },
   "source": [
    "# Global and local variables "
   ]
  },
  {
   "cell_type": "markdown",
   "metadata": {},
   "source": [
    "Make a function sort as words in alphabetical order.  \n",
    "Expected output:\n",
    "````python\n",
    "'AI Big Data Data Warehouse Machine Learning Pipeline'\n",
    "````"
   ]
  },
  {
   "cell_type": "markdown",
   "metadata": {},
   "source": [
    "Make the function using local variables"
   ]
  },
  {
   "cell_type": "code",
   "execution_count": 13,
   "metadata": {},
   "outputs": [
    {
     "name": "stdout",
     "output_type": "stream",
     "text": [
      "AI Big Data Data Warehouse Machine Learning Pipeline\n"
     ]
    }
   ],
   "source": [
    "# Your code here\n",
    "def alphabetical_order_local(loca_variable):\n",
    "    loca_variable = loca_variable.split(',')\n",
    "    loca_variable = sorted(loca_variable)\n",
    "    loca_variable = ' '.join(loca_variable)\n",
    "    return loca_variable\n",
    "\n",
    "teste = 'AI Big Data Data Warehouse Machine Learning Pipeline'\n",
    "print(alphabetical_order_local(teste))\n"
   ]
  },
  {
   "cell_type": "markdown",
   "metadata": {},
   "source": [
    "Make the function using global variables"
   ]
  },
  {
   "cell_type": "code",
   "execution_count": 4,
   "metadata": {},
   "outputs": [
    {
     "name": "stdout",
     "output_type": "stream",
     "text": [
      " AI  Data Warehouse  Machine Learning  Pipeline Big Data\n"
     ]
    }
   ],
   "source": [
    "# Uma variável global só pode ser utilizada como uma constante dentro do escopo de uma função.\n",
    "# Senão, no caso de uma atribuição, ela se torna uma variável local.\n",
    "global_variable = \"Big Data, Machine Learning, AI, Data Warehouse, Pipeline\"\n",
    "\n",
    "def alphabetical_order_global():\n",
    "    global_variable_local = global_variable.split(',')\n",
    "    global_variable_local = sorted(global_variable_local)\n",
    "    global_variable_local = ' '.join(global_variable_local)\n",
    "    return global_variable_local\n",
    "\n",
    "print(alphabetical_order_global())"
   ]
  }
 ],
 "metadata": {
  "colab": {
   "name": "functional_programming.ipynb",
   "provenance": []
  },
  "kernelspec": {
   "display_name": "Python 3 (ipykernel)",
   "language": "python",
   "name": "python3"
  },
  "language_info": {
   "codemirror_mode": {
    "name": "ipython",
    "version": 3
   },
   "file_extension": ".py",
   "mimetype": "text/x-python",
   "name": "python",
   "nbconvert_exporter": "python",
   "pygments_lexer": "ipython3",
   "version": "3.8.11"
  },
  "toc": {
   "base_numbering": 1,
   "nav_menu": {},
   "number_sections": true,
   "sideBar": true,
   "skip_h1_title": false,
   "title_cell": "Table of Contents",
   "title_sidebar": "Contents",
   "toc_cell": false,
   "toc_position": {},
   "toc_section_display": true,
   "toc_window_display": false
  },
  "varInspector": {
   "cols": {
    "lenName": 16,
    "lenType": 16,
    "lenVar": 40
   },
   "kernels_config": {
    "python": {
     "delete_cmd_postfix": "",
     "delete_cmd_prefix": "del ",
     "library": "var_list.py",
     "varRefreshCmd": "print(var_dic_list())"
    },
    "r": {
     "delete_cmd_postfix": ") ",
     "delete_cmd_prefix": "rm(",
     "library": "var_list.r",
     "varRefreshCmd": "cat(var_dic_list()) "
    }
   },
   "types_to_exclude": [
    "module",
    "function",
    "builtin_function_or_method",
    "instance",
    "_Feature"
   ],
   "window_display": false
  }
 },
 "nbformat": 4,
 "nbformat_minor": 1
}
