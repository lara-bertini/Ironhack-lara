{
 "cells": [
  {
   "cell_type": "code",
   "execution_count": 14,
   "metadata": {
    "ExecuteTime": {
     "end_time": "2022-01-20T20:11:38.847672Z",
     "start_time": "2022-01-20T20:11:38.442706Z"
    }
   },
   "outputs": [],
   "source": [
    "import pandas as pd\n",
    "import os"
   ]
  },
  {
   "cell_type": "markdown",
   "metadata": {},
   "source": [
    "# API Wrappers"
   ]
  },
  {
   "cell_type": "markdown",
   "metadata": {},
   "source": [
    "## Dealing with `keys` in code\n",
    "\n",
    "Usually, when you access an API, you'll use some password or `key`. \n",
    "\n",
    "There's a package called `dotenv` that helps you hide your keys inside a file."
   ]
  },
  {
   "cell_type": "markdown",
   "metadata": {},
   "source": [
    "- Install dotenv `!pip install dotenv` (or `!pip install python-dotenv`)\n",
    "- Create a file with a `.env` extension and variables inside of it like \n",
    "```\n",
    "API_KEY=\"l1noPOPAixCPM\"\n",
    "API_SECRET=\"GraGq0zrGhs1qvbA0xQXsZBKuTkK5MJ\"\n",
    "```\n",
    "- run dotenv.load_dotenv('filename.env')\n",
    "- now if you run os.getenv('API_KEY'), it will contain the string 'l1noPOPAixCPM'\n",
    "- the idea is that you can upload your code to Github and **DON'T** upload the `.env` file"
   ]
  },
  {
   "cell_type": "code",
   "execution_count": 15,
   "metadata": {
    "ExecuteTime": {
     "end_time": "2022-01-20T14:01:33.096315Z",
     "start_time": "2022-01-20T14:01:30.503439Z"
    }
   },
   "outputs": [
    {
     "name": "stdout",
     "output_type": "stream",
     "text": [
      "Requirement already satisfied: python-dotenv in c:\\users\\lara\\anaconda3\\envs\\python3\\lib\\site-packages (0.19.2)\n"
     ]
    }
   ],
   "source": [
    "!pip3 install python-dotenv"
   ]
  },
  {
   "cell_type": "code",
   "execution_count": 16,
   "metadata": {
    "ExecuteTime": {
     "end_time": "2022-01-20T20:11:41.235409Z",
     "start_time": "2022-01-20T20:11:41.222443Z"
    }
   },
   "outputs": [],
   "source": [
    "from dotenv import load_dotenv"
   ]
  },
  {
   "cell_type": "code",
   "execution_count": 17,
   "metadata": {
    "ExecuteTime": {
     "end_time": "2022-01-20T20:11:41.889309Z",
     "start_time": "2022-01-20T20:11:41.865373Z"
    }
   },
   "outputs": [
    {
     "data": {
      "text/plain": [
       "True"
      ]
     },
     "execution_count": 17,
     "metadata": {},
     "output_type": "execute_result"
    }
   ],
   "source": [
    "load_dotenv('credentials/credentials.env')"
   ]
  },
  {
   "cell_type": "code",
   "execution_count": 18,
   "metadata": {
    "ExecuteTime": {
     "end_time": "2022-01-20T20:11:42.992303Z",
     "start_time": "2022-01-20T20:11:42.982324Z"
    }
   },
   "outputs": [
    {
     "name": "stdout",
     "output_type": "stream",
     "text": [
      "l1noPOPAixCPM\n"
     ]
    }
   ],
   "source": [
    "print(os.getenv('API_KEY'))"
   ]
  },
  {
   "cell_type": "markdown",
   "metadata": {},
   "source": [
    "## List of API wrappers\n",
    "\n",
    "- This is a list of some known python packages that facilitates the use of some APIs:\n",
    "https://github.com/realpython/list-of-python-api-wrappers\n",
    "\n",
    "- But there are much more than that. You just have to look for it. Here's a list of some public APIs grouped by type: https://github.com/public-apis/public-apis. Maybe you can find an API wrapper for those too. You just need to search google something like: `name_of_the_api python wrapper`\n",
    "\n",
    "- API para o `Portal da Transparência` (Brasil): http://www.transparencia.gov.br/swagger-ui.html\n",
    "\n",
    "- Here's another list of fun APIs: https://apilist.fun/\n"
   ]
  },
  {
   "cell_type": "markdown",
   "metadata": {},
   "source": [
    "# Use Cases"
   ]
  },
  {
   "cell_type": "markdown",
   "metadata": {},
   "source": [
    "## OMDB\n",
    "\n",
    "http://www.omdbapi.com/"
   ]
  },
  {
   "cell_type": "markdown",
   "metadata": {
    "ExecuteTime": {
     "end_time": "2020-06-20T21:58:04.761865Z",
     "start_time": "2020-06-20T21:57:58.365989Z"
    }
   },
   "source": [
    "https://github.com/dgilland/omdb.py\n",
    "\n",
    "Install API wrapper: `!pip install omdb`\n"
   ]
  },
  {
   "cell_type": "code",
   "execution_count": 19,
   "metadata": {
    "ExecuteTime": {
     "end_time": "2022-01-20T10:57:21.583370Z",
     "start_time": "2022-01-20T10:57:18.624644Z"
    }
   },
   "outputs": [
    {
     "name": "stdout",
     "output_type": "stream",
     "text": [
      "Requirement already satisfied: omdb in c:\\users\\lara\\anaconda3\\envs\\python3\\lib\\site-packages (0.10.1)\n",
      "Requirement already satisfied: requests>=2.0.1 in c:\\users\\lara\\anaconda3\\envs\\python3\\lib\\site-packages (from omdb) (2.26.0)\n",
      "Requirement already satisfied: charset-normalizer~=2.0.0 in c:\\users\\lara\\anaconda3\\envs\\python3\\lib\\site-packages (from requests>=2.0.1->omdb) (2.0.4)\n",
      "Requirement already satisfied: certifi>=2017.4.17 in c:\\users\\lara\\anaconda3\\envs\\python3\\lib\\site-packages (from requests>=2.0.1->omdb) (2021.10.8)\n",
      "Requirement already satisfied: urllib3<1.27,>=1.21.1 in c:\\users\\lara\\anaconda3\\envs\\python3\\lib\\site-packages (from requests>=2.0.1->omdb) (1.26.7)\n",
      "Requirement already satisfied: idna<4,>=2.5 in c:\\users\\lara\\anaconda3\\envs\\python3\\lib\\site-packages (from requests>=2.0.1->omdb) (3.2)\n"
     ]
    }
   ],
   "source": [
    "!pip install omdb"
   ]
  },
  {
   "cell_type": "code",
   "execution_count": 21,
   "metadata": {
    "ExecuteTime": {
     "end_time": "2022-01-20T20:11:49.093439Z",
     "start_time": "2022-01-20T20:11:48.979352Z"
    }
   },
   "outputs": [],
   "source": [
    "from omdb import OMDBClient"
   ]
  },
  {
   "cell_type": "code",
   "execution_count": 22,
   "metadata": {
    "ExecuteTime": {
     "end_time": "2022-01-20T20:11:50.045407Z",
     "start_time": "2022-01-20T20:11:50.030456Z"
    }
   },
   "outputs": [],
   "source": [
    "load_dotenv('credentials/key_omdb.env')\n",
    "client = OMDBClient(apikey=os.getenv('OMDB_KEY'))"
   ]
  },
  {
   "cell_type": "code",
   "execution_count": 23,
   "metadata": {
    "ExecuteTime": {
     "end_time": "2022-01-20T20:11:51.057642Z",
     "start_time": "2022-01-20T20:11:50.989472Z"
    }
   },
   "outputs": [],
   "source": [
    "results = client.title('Stalker')"
   ]
  },
  {
   "cell_type": "code",
   "execution_count": 24,
   "metadata": {
    "ExecuteTime": {
     "end_time": "2022-01-20T20:11:51.779364Z",
     "start_time": "2022-01-20T20:11:51.768364Z"
    }
   },
   "outputs": [
    {
     "data": {
      "text/plain": [
       "{'title': 'Stalker',\n",
       " 'year': '1979',\n",
       " 'rated': 'Not Rated',\n",
       " 'released': '17 Apr 1980',\n",
       " 'runtime': '162 min',\n",
       " 'genre': 'Drama, Sci-Fi',\n",
       " 'director': 'Andrei Tarkovsky',\n",
       " 'writer': 'Arkadiy Strugatskiy, Boris Strugatskiy, Andrei Tarkovsky',\n",
       " 'actors': 'Alisa Freyndlikh, Aleksandr Kaydanovskiy, Anatoliy Solonitsyn',\n",
       " 'plot': 'A guide leads two men through an area known as the Zone to find a room that grants wishes.',\n",
       " 'language': 'Russian',\n",
       " 'country': 'Soviet Union',\n",
       " 'awards': '2 wins & 2 nominations',\n",
       " 'poster': 'https://m.media-amazon.com/images/M/MV5BMDgwODNmMGItMDcwYi00OWZjLTgyZjAtMGYwMmI4N2Q0NmJmXkEyXkFqcGdeQXVyNzY1MTU0Njk@._V1_SX300.jpg',\n",
       " 'ratings': [{'source': 'Internet Movie Database', 'value': '8.1/10'},\n",
       "  {'source': 'Rotten Tomatoes', 'value': '100%'}],\n",
       " 'metascore': 'N/A',\n",
       " 'imdb_rating': '8.1',\n",
       " 'imdb_votes': '128,364',\n",
       " 'imdb_id': 'tt0079944',\n",
       " 'type': 'movie',\n",
       " 'dvd': '19 Jun 2001',\n",
       " 'box_office': '$292,049',\n",
       " 'production': 'N/A',\n",
       " 'website': 'N/A',\n",
       " 'response': 'True'}"
      ]
     },
     "execution_count": 24,
     "metadata": {},
     "output_type": "execute_result"
    }
   ],
   "source": [
    "results"
   ]
  },
  {
   "cell_type": "code",
   "execution_count": 25,
   "metadata": {
    "ExecuteTime": {
     "end_time": "2022-01-20T20:13:31.950190Z",
     "start_time": "2022-01-20T20:13:31.781454Z"
    }
   },
   "outputs": [
    {
     "data": {
      "image/png": "[encoded data removed]",
      "text/plain": [
       "<PIL.JpegImagePlugin.JpegImageFile image mode=RGB size=300x424 at 0x20063E8A670>"
      ]
     },
     "execution_count": 25,
     "metadata": {},
     "output_type": "execute_result"
    }
   ],
   "source": [
    "import requests\n",
    "from PIL import Image\n",
    "\n",
    "response = requests.get(results['poster'], stream=True)\n",
    "Image.open(response.raw)"
   ]
  },
  {
   "cell_type": "code",
   "execution_count": 27,
   "metadata": {
    "ExecuteTime": {
     "end_time": "2022-01-20T20:31:37.879321Z",
     "start_time": "2022-01-20T20:31:37.857381Z"
    }
   },
   "outputs": [],
   "source": [
    "tb_top_movies = pd.read_csv('data/top_gross_ltv.csv', sep = \";\", decimal = \",\")"
   ]
  },
  {
   "cell_type": "code",
   "execution_count": 28,
   "metadata": {
    "ExecuteTime": {
     "end_time": "2022-01-20T20:13:59.716417Z",
     "start_time": "2022-01-20T20:13:59.695473Z"
    }
   },
   "outputs": [
    {
     "data": {
      "text/html": [
       "<div>\n",
       "<style scoped>\n",
       "    .dataframe tbody tr th:only-of-type {\n",
       "        vertical-align: middle;\n",
       "    }\n",
       "\n",
       "    .dataframe tbody tr th {\n",
       "        vertical-align: top;\n",
       "    }\n",
       "\n",
       "    .dataframe thead th {\n",
       "        text-align: right;\n",
       "    }\n",
       "</style>\n",
       "<table border=\"1\" class=\"dataframe\">\n",
       "  <thead>\n",
       "    <tr style=\"text-align: right;\">\n",
       "      <th></th>\n",
       "      <th>movie_name</th>\n",
       "      <th>adj_gross_ltv</th>\n",
       "    </tr>\n",
       "  </thead>\n",
       "  <tbody>\n",
       "    <tr>\n",
       "      <th>0</th>\n",
       "      <td>Gone with the Wind</td>\n",
       "      <td>1850581586</td>\n",
       "    </tr>\n",
       "    <tr>\n",
       "      <th>1</th>\n",
       "      <td>Star Wars: Episode IV - A New Hope</td>\n",
       "      <td>1629496559</td>\n",
       "    </tr>\n",
       "    <tr>\n",
       "      <th>2</th>\n",
       "      <td>The Sound of Music</td>\n",
       "      <td>1303502105</td>\n",
       "    </tr>\n",
       "    <tr>\n",
       "      <th>3</th>\n",
       "      <td>E.T. the Extra-Terrestrial</td>\n",
       "      <td>1297730421</td>\n",
       "    </tr>\n",
       "    <tr>\n",
       "      <th>4</th>\n",
       "      <td>Titanic</td>\n",
       "      <td>1240054754</td>\n",
       "    </tr>\n",
       "    <tr>\n",
       "      <th>...</th>\n",
       "      <td>...</td>\n",
       "      <td>...</td>\n",
       "    </tr>\n",
       "    <tr>\n",
       "      <th>195</th>\n",
       "      <td>Patton</td>\n",
       "      <td>364456792</td>\n",
       "    </tr>\n",
       "    <tr>\n",
       "      <th>196</th>\n",
       "      <td>Fatal Attraction</td>\n",
       "      <td>363012270</td>\n",
       "    </tr>\n",
       "    <tr>\n",
       "      <th>197</th>\n",
       "      <td>Iron Man 2</td>\n",
       "      <td>362898831</td>\n",
       "    </tr>\n",
       "    <tr>\n",
       "      <th>198</th>\n",
       "      <td>Zootopia</td>\n",
       "      <td>362329805</td>\n",
       "    </tr>\n",
       "    <tr>\n",
       "      <th>199</th>\n",
       "      <td>Liar Liar</td>\n",
       "      <td>361569578</td>\n",
       "    </tr>\n",
       "  </tbody>\n",
       "</table>\n",
       "<p>200 rows × 2 columns</p>\n",
       "</div>"
      ],
      "text/plain": [
       "                             movie_name  adj_gross_ltv\n",
       "0                    Gone with the Wind     1850581586\n",
       "1    Star Wars: Episode IV - A New Hope     1629496559\n",
       "2                    The Sound of Music     1303502105\n",
       "3            E.T. the Extra-Terrestrial     1297730421\n",
       "4                               Titanic     1240054754\n",
       "..                                  ...            ...\n",
       "195                              Patton      364456792\n",
       "196                    Fatal Attraction      363012270\n",
       "197                          Iron Man 2      362898831\n",
       "198                            Zootopia      362329805\n",
       "199                           Liar Liar      361569578\n",
       "\n",
       "[200 rows x 2 columns]"
      ]
     },
     "execution_count": 28,
     "metadata": {},
     "output_type": "execute_result"
    }
   ],
   "source": [
    "tb_top_movies"
   ]
  },
  {
   "cell_type": "code",
   "execution_count": 29,
   "metadata": {
    "ExecuteTime": {
     "end_time": "2022-01-20T20:14:02.387403Z",
     "start_time": "2022-01-20T20:14:02.380421Z"
    }
   },
   "outputs": [
    {
     "name": "stdout",
     "output_type": "stream",
     "text": [
      "200\n",
      "['Gone with the Wind', 'Star Wars: Episode IV - A New Hope', 'The Sound of Music', 'E.T. the Extra-Terrestrial', 'Titanic']\n"
     ]
    }
   ],
   "source": [
    "top_movies = list(tb_top_movies['movie_name'])\n",
    "print(len(top_movies))\n",
    "print(top_movies[0:5])"
   ]
  },
  {
   "cell_type": "code",
   "execution_count": 30,
   "metadata": {
    "ExecuteTime": {
     "end_time": "2022-01-20T20:14:04.825300Z",
     "start_time": "2022-01-20T20:14:04.776430Z"
    }
   },
   "outputs": [],
   "source": [
    "results = client.title(top_movies[0])"
   ]
  },
  {
   "cell_type": "code",
   "execution_count": 33,
   "metadata": {},
   "outputs": [
    {
     "data": {
      "text/plain": [
       "{'title': 'Gone with the Wind',\n",
       " 'year': '1939',\n",
       " 'rated': 'Passed',\n",
       " 'released': '17 Jan 1940',\n",
       " 'runtime': '238 min',\n",
       " 'genre': 'Drama, History, Romance',\n",
       " 'director': 'Victor Fleming, George Cukor, Sam Wood',\n",
       " 'writer': 'Margaret Mitchell, Sidney Howard, Oliver H.P. Garrett',\n",
       " 'actors': 'Clark Gable, Vivien Leigh, Thomas Mitchell',\n",
       " 'plot': 'The manipulative daughter of a Georgia plantation owner conducts a turbulent romance with a roguish profiteer during the American Civil War and Reconstruction periods.',\n",
       " 'language': 'English',\n",
       " 'country': 'United States',\n",
       " 'awards': 'Won 10 Oscars. 21 wins & 12 nominations total',\n",
       " 'poster': 'https://m.media-amazon.com/images/M/MV5BYjUyZWZkM2UtMzYxYy00ZmQ3LWFmZTQtOGE2YjBkNjA3YWZlXkEyXkFqcGdeQXVyNzkwMjQ5NzM@._V1_SX300.jpg',\n",
       " 'ratings': [{'source': 'Internet Movie Database', 'value': '8.1/10'},\n",
       "  {'source': 'Rotten Tomatoes', 'value': '90%'},\n",
       "  {'source': 'Metacritic', 'value': '97/100'}],\n",
       " 'metascore': '97',\n",
       " 'imdb_rating': '8.1',\n",
       " 'imdb_votes': '304,365',\n",
       " 'imdb_id': 'tt0031381',\n",
       " 'type': 'movie',\n",
       " 'dvd': '17 Nov 2009',\n",
       " 'box_office': '$200,852,579',\n",
       " 'production': 'N/A',\n",
       " 'website': 'N/A',\n",
       " 'response': 'True'}"
      ]
     },
     "execution_count": 33,
     "metadata": {},
     "output_type": "execute_result"
    }
   ],
   "source": [
    "results"
   ]
  },
  {
   "cell_type": "code",
   "execution_count": 34,
   "metadata": {
    "ExecuteTime": {
     "end_time": "2022-01-20T20:31:30.234623Z",
     "start_time": "2022-01-20T20:31:30.086021Z"
    }
   },
   "outputs": [
    {
     "data": {
      "text/plain": [
       "'238 min'"
      ]
     },
     "execution_count": 34,
     "metadata": {},
     "output_type": "execute_result"
    }
   ],
   "source": [
    "dataframe_new = pd.DataFrame()\n",
    "\n",
    "for i in range(100):\n",
    "    results = client.title(top_movies[i])\n",
    "    dataframe_aux = pd.DataFrame([results['title'] results['released'] results['ratings'][0] results['runtime']])\n",
    "    dataframe_new = dataframe_new.append(dataframe_aux)"
   ]
  },
  {
   "cell_type": "code",
   "execution_count": null,
   "metadata": {},
   "outputs": [],
   "source": [
    "# Criar um DataFrame com os dados abaixo para os 100 maiores:\n",
    "# - NOME DO FILME (STRING)\n",
    "# - ANO DE LANÇAMENTO (INTEGER)\n",
    "# - NOTA NO IMDB (FLOAT)\n",
    "# - NOTA NO ROTTEN TOMATOES (FLOAT)\n",
    "# - DURAÇÃO EM MINUTOS (INTEGER)"
   ]
  },
  {
   "cell_type": "markdown",
   "metadata": {},
   "source": [
    "## Spotify"
   ]
  },
  {
   "cell_type": "markdown",
   "metadata": {},
   "source": [
    "Install spotipy: `pip install spotipy`"
   ]
  },
  {
   "cell_type": "markdown",
   "metadata": {},
   "source": [
    "Read its documentation: https://spotipy.readthedocs.io/en/2.17.1/"
   ]
  },
  {
   "cell_type": "markdown",
   "metadata": {
    "ExecuteTime": {
     "end_time": "2020-09-04T21:23:27.745083Z",
     "start_time": "2020-09-04T21:23:27.741113Z"
    }
   },
   "source": [
    "If you read the documentation, it tells you to get your `access key` at https://developer.spotify.com/documentation/web-api/. You can view the `quick-start` tab or follow the guidelines here.\n",
    "\n",
    "- Click on `Dashboard`\n",
    "- Log in to your Spotify account\n",
    "- Create an APP\n",
    "- Collect your `Client ID` and `Client Secret` (click on SHOW CLIENT SECRET)\n",
    "- Click on `Edit Settings` on your app's dashboard\n",
    "    - You have to insert a `redirect_uri` (I've put: https://www.google.com. You can put anything.)\n",
    "- Find your username ID in your profile settings.\n",
    "\n",
    "\n",
    "- Code Samples: https://github.com/plamere/spotipy/tree/master/examples"
   ]
  },
  {
   "cell_type": "code",
   "execution_count": 35,
   "metadata": {
    "ExecuteTime": {
     "end_time": "2022-01-20T13:15:16.488780Z",
     "start_time": "2022-01-20T13:15:13.307306Z"
    }
   },
   "outputs": [
    {
     "name": "stdout",
     "output_type": "stream",
     "text": [
      "Collecting spotipy\n",
      "  Downloading spotipy-2.19.0-py3-none-any.whl (27 kB)\n",
      "Requirement already satisfied: six>=1.15.0 in c:\\users\\lara\\anaconda3\\envs\\python3\\lib\\site-packages (from spotipy) (1.16.0)\n",
      "Requirement already satisfied: urllib3>=1.26.0 in c:\\users\\lara\\anaconda3\\envs\\python3\\lib\\site-packages (from spotipy) (1.26.7)\n",
      "Requirement already satisfied: requests>=2.25.0 in c:\\users\\lara\\anaconda3\\envs\\python3\\lib\\site-packages (from spotipy) (2.26.0)\n",
      "Requirement already satisfied: certifi>=2017.4.17 in c:\\users\\lara\\anaconda3\\envs\\python3\\lib\\site-packages (from requests>=2.25.0->spotipy) (2021.10.8)\n",
      "Requirement already satisfied: idna<4,>=2.5 in c:\\users\\lara\\anaconda3\\envs\\python3\\lib\\site-packages (from requests>=2.25.0->spotipy) (3.2)\n",
      "Requirement already satisfied: charset-normalizer~=2.0.0 in c:\\users\\lara\\anaconda3\\envs\\python3\\lib\\site-packages (from requests>=2.25.0->spotipy) (2.0.4)\n",
      "Installing collected packages: spotipy\n",
      "Successfully installed spotipy-2.19.0\n"
     ]
    }
   ],
   "source": [
    "!pip install spotipy"
   ]
  },
  {
   "cell_type": "code",
   "execution_count": 36,
   "metadata": {
    "ExecuteTime": {
     "end_time": "2022-01-20T20:14:12.344306Z",
     "start_time": "2022-01-20T20:14:12.320342Z"
    }
   },
   "outputs": [
    {
     "data": {
      "text/plain": [
       "True"
      ]
     },
     "execution_count": 36,
     "metadata": {},
     "output_type": "execute_result"
    }
   ],
   "source": [
    "load_dotenv('credentials/key_spotify.env')"
   ]
  },
  {
   "cell_type": "code",
   "execution_count": 37,
   "metadata": {
    "ExecuteTime": {
     "end_time": "2022-01-20T20:14:13.140675Z",
     "start_time": "2022-01-20T20:14:12.938206Z"
    }
   },
   "outputs": [],
   "source": [
    "from spotipy import util, oauth2, Spotify"
   ]
  },
  {
   "cell_type": "markdown",
   "metadata": {},
   "source": [
    "### Authentication "
   ]
  },
  {
   "cell_type": "code",
   "execution_count": 38,
   "metadata": {
    "ExecuteTime": {
     "end_time": "2022-01-20T20:14:15.219369Z",
     "start_time": "2022-01-20T20:14:15.214384Z"
    }
   },
   "outputs": [],
   "source": [
    "client = Spotify(auth_manager=oauth2.SpotifyClientCredentials(\n",
    "    client_id=os.getenv('CLIENT_ID'), client_secret=os.getenv('CLIENT_SECRET')))"
   ]
  },
  {
   "cell_type": "code",
   "execution_count": 39,
   "metadata": {
    "ExecuteTime": {
     "end_time": "2022-01-20T20:14:15.874213Z",
     "start_time": "2022-01-20T20:14:15.855240Z"
    }
   },
   "outputs": [
    {
     "data": {
      "text/plain": [
       "<spotipy.client.Spotify at 0x200641a13d0>"
      ]
     },
     "execution_count": 39,
     "metadata": {},
     "output_type": "execute_result"
    }
   ],
   "source": [
    "client"
   ]
  },
  {
   "cell_type": "markdown",
   "metadata": {},
   "source": [
    "### Get Audio Features"
   ]
  },
  {
   "cell_type": "code",
   "execution_count": 40,
   "metadata": {
    "ExecuteTime": {
     "end_time": "2022-01-20T20:14:18.918348Z",
     "start_time": "2022-01-20T20:14:18.462411Z"
    }
   },
   "outputs": [
    {
     "data": {
      "text/html": [
       "<div>\n",
       "<style scoped>\n",
       "    .dataframe tbody tr th:only-of-type {\n",
       "        vertical-align: middle;\n",
       "    }\n",
       "\n",
       "    .dataframe tbody tr th {\n",
       "        vertical-align: top;\n",
       "    }\n",
       "\n",
       "    .dataframe thead th {\n",
       "        text-align: right;\n",
       "    }\n",
       "</style>\n",
       "<table border=\"1\" class=\"dataframe\">\n",
       "  <thead>\n",
       "    <tr style=\"text-align: right;\">\n",
       "      <th></th>\n",
       "      <th>danceability</th>\n",
       "      <th>energy</th>\n",
       "      <th>key</th>\n",
       "      <th>loudness</th>\n",
       "      <th>mode</th>\n",
       "      <th>speechiness</th>\n",
       "      <th>acousticness</th>\n",
       "      <th>instrumentalness</th>\n",
       "      <th>liveness</th>\n",
       "      <th>valence</th>\n",
       "      <th>tempo</th>\n",
       "      <th>type</th>\n",
       "      <th>id</th>\n",
       "      <th>uri</th>\n",
       "      <th>track_href</th>\n",
       "      <th>analysis_url</th>\n",
       "      <th>duration_ms</th>\n",
       "      <th>time_signature</th>\n",
       "    </tr>\n",
       "  </thead>\n",
       "  <tbody>\n",
       "    <tr>\n",
       "      <th>0</th>\n",
       "      <td>0.357</td>\n",
       "      <td>0.565</td>\n",
       "      <td>8</td>\n",
       "      <td>-9.915</td>\n",
       "      <td>0</td>\n",
       "      <td>0.0419</td>\n",
       "      <td>0.2160</td>\n",
       "      <td>0.835000</td>\n",
       "      <td>0.980</td>\n",
       "      <td>0.2180</td>\n",
       "      <td>158.032</td>\n",
       "      <td>audio_features</td>\n",
       "      <td>4vy2YnIiU37OB7BonhYWgZ</td>\n",
       "      <td>spotify:track:4vy2YnIiU37OB7BonhYWgZ</td>\n",
       "      <td>https://api.spotify.com/v1/tracks/4vy2YnIiU37O...</td>\n",
       "      <td>https://api.spotify.com/v1/audio-analysis/4vy2...</td>\n",
       "      <td>758360</td>\n",
       "      <td>4</td>\n",
       "    </tr>\n",
       "    <tr>\n",
       "      <th>1</th>\n",
       "      <td>0.624</td>\n",
       "      <td>0.597</td>\n",
       "      <td>0</td>\n",
       "      <td>-10.542</td>\n",
       "      <td>1</td>\n",
       "      <td>0.0490</td>\n",
       "      <td>0.0992</td>\n",
       "      <td>0.778000</td>\n",
       "      <td>0.108</td>\n",
       "      <td>0.0840</td>\n",
       "      <td>119.964</td>\n",
       "      <td>audio_features</td>\n",
       "      <td>5P9qFmIiMqE6r2UfwVIdIZ</td>\n",
       "      <td>spotify:track:5P9qFmIiMqE6r2UfwVIdIZ</td>\n",
       "      <td>https://api.spotify.com/v1/tracks/5P9qFmIiMqE6...</td>\n",
       "      <td>https://api.spotify.com/v1/audio-analysis/5P9q...</td>\n",
       "      <td>538320</td>\n",
       "      <td>4</td>\n",
       "    </tr>\n",
       "    <tr>\n",
       "      <th>2</th>\n",
       "      <td>0.377</td>\n",
       "      <td>0.402</td>\n",
       "      <td>5</td>\n",
       "      <td>-8.564</td>\n",
       "      <td>1</td>\n",
       "      <td>0.0295</td>\n",
       "      <td>0.5360</td>\n",
       "      <td>0.786000</td>\n",
       "      <td>0.117</td>\n",
       "      <td>0.0415</td>\n",
       "      <td>159.819</td>\n",
       "      <td>audio_features</td>\n",
       "      <td>7oGwKNBX90dXL53ZbhPxJk</td>\n",
       "      <td>spotify:track:7oGwKNBX90dXL53ZbhPxJk</td>\n",
       "      <td>https://api.spotify.com/v1/tracks/7oGwKNBX90dX...</td>\n",
       "      <td>https://api.spotify.com/v1/audio-analysis/7oGw...</td>\n",
       "      <td>257972</td>\n",
       "      <td>4</td>\n",
       "    </tr>\n",
       "    <tr>\n",
       "      <th>3</th>\n",
       "      <td>0.657</td>\n",
       "      <td>0.693</td>\n",
       "      <td>0</td>\n",
       "      <td>-7.149</td>\n",
       "      <td>0</td>\n",
       "      <td>0.0650</td>\n",
       "      <td>0.5270</td>\n",
       "      <td>0.000129</td>\n",
       "      <td>0.326</td>\n",
       "      <td>0.7500</td>\n",
       "      <td>93.483</td>\n",
       "      <td>audio_features</td>\n",
       "      <td>3u4jdEDB2WmOBIxxpzq44f</td>\n",
       "      <td>spotify:track:3u4jdEDB2WmOBIxxpzq44f</td>\n",
       "      <td>https://api.spotify.com/v1/tracks/3u4jdEDB2WmO...</td>\n",
       "      <td>https://api.spotify.com/v1/audio-analysis/3u4j...</td>\n",
       "      <td>262653</td>\n",
       "      <td>4</td>\n",
       "    </tr>\n",
       "  </tbody>\n",
       "</table>\n",
       "</div>"
      ],
      "text/plain": [
       "   danceability  energy  key  loudness  mode  speechiness  acousticness  \\\n",
       "0         0.357   0.565    8    -9.915     0       0.0419        0.2160   \n",
       "1         0.624   0.597    0   -10.542     1       0.0490        0.0992   \n",
       "2         0.377   0.402    5    -8.564     1       0.0295        0.5360   \n",
       "3         0.657   0.693    0    -7.149     0       0.0650        0.5270   \n",
       "\n",
       "   instrumentalness  liveness  valence    tempo            type  \\\n",
       "0          0.835000     0.980   0.2180  158.032  audio_features   \n",
       "1          0.778000     0.108   0.0840  119.964  audio_features   \n",
       "2          0.786000     0.117   0.0415  159.819  audio_features   \n",
       "3          0.000129     0.326   0.7500   93.483  audio_features   \n",
       "\n",
       "                       id                                   uri  \\\n",
       "0  4vy2YnIiU37OB7BonhYWgZ  spotify:track:4vy2YnIiU37OB7BonhYWgZ   \n",
       "1  5P9qFmIiMqE6r2UfwVIdIZ  spotify:track:5P9qFmIiMqE6r2UfwVIdIZ   \n",
       "2  7oGwKNBX90dXL53ZbhPxJk  spotify:track:7oGwKNBX90dXL53ZbhPxJk   \n",
       "3  3u4jdEDB2WmOBIxxpzq44f  spotify:track:3u4jdEDB2WmOBIxxpzq44f   \n",
       "\n",
       "                                          track_href  \\\n",
       "0  https://api.spotify.com/v1/tracks/4vy2YnIiU37O...   \n",
       "1  https://api.spotify.com/v1/tracks/5P9qFmIiMqE6...   \n",
       "2  https://api.spotify.com/v1/tracks/7oGwKNBX90dX...   \n",
       "3  https://api.spotify.com/v1/tracks/3u4jdEDB2WmO...   \n",
       "\n",
       "                                        analysis_url  duration_ms  \\\n",
       "0  https://api.spotify.com/v1/audio-analysis/4vy2...       758360   \n",
       "1  https://api.spotify.com/v1/audio-analysis/5P9q...       538320   \n",
       "2  https://api.spotify.com/v1/audio-analysis/7oGw...       257972   \n",
       "3  https://api.spotify.com/v1/audio-analysis/3u4j...       262653   \n",
       "\n",
       "   time_signature  \n",
       "0               4  \n",
       "1               4  \n",
       "2               4  \n",
       "3               4  "
      ]
     },
     "execution_count": 40,
     "metadata": {},
     "output_type": "execute_result"
    }
   ],
   "source": [
    "pd.DataFrame(client.audio_features(['https://open.spotify.com/track/4vy2YnIiU37OB7BonhYWgZ?si=c9f97bf9a6494803',\n",
    "                                    'https://open.spotify.com/track/5P9qFmIiMqE6r2UfwVIdIZ?si=4b95ccef589d4924',\n",
    "                                    'https://open.spotify.com/track/7oGwKNBX90dXL53ZbhPxJk?si=8bb44916119a413a',\n",
    "                                    'https://open.spotify.com/track/3u4jdEDB2WmOBIxxpzq44f?si=471e5e610d8646f4']))"
   ]
  },
  {
   "cell_type": "markdown",
   "metadata": {},
   "source": [
    "### Get top tracks given artist URI"
   ]
  },
  {
   "cell_type": "code",
   "execution_count": 41,
   "metadata": {
    "ExecuteTime": {
     "end_time": "2022-01-20T20:17:51.489220Z",
     "start_time": "2022-01-20T20:17:51.297283Z"
    }
   },
   "outputs": [],
   "source": [
    "artist = client.artist('6FXMGgJwohJLUSr5nVlf9X')"
   ]
  },
  {
   "cell_type": "code",
   "execution_count": 42,
   "metadata": {
    "ExecuteTime": {
     "end_time": "2022-01-20T20:17:54.684492Z",
     "start_time": "2022-01-20T20:17:54.665545Z"
    }
   },
   "outputs": [
    {
     "data": {
      "text/plain": [
       "{'external_urls': {'spotify': 'https://open.spotify.com/artist/6FXMGgJwohJLUSr5nVlf9X'},\n",
       " 'followers': {'href': None, 'total': 1816552},\n",
       " 'genres': ['big beat', 'downtempo', 'electronica', 'trip hop'],\n",
       " 'href': 'https://api.spotify.com/v1/artists/6FXMGgJwohJLUSr5nVlf9X',\n",
       " 'id': '6FXMGgJwohJLUSr5nVlf9X',\n",
       " 'images': [{'height': 1335,\n",
       "   'url': 'https://i.scdn.co/image/c8bbeedb05f38ae5cb982a7daf4bf7129cca892c',\n",
       "   'width': 1000},\n",
       "  {'height': 855,\n",
       "   'url': 'https://i.scdn.co/image/52c2a824e84f4e8adf0b12418f9f8306b4b5b77a',\n",
       "   'width': 640},\n",
       "  {'height': 267,\n",
       "   'url': 'https://i.scdn.co/image/0d6b7677f8291c5158bdace8a6e027880c527c2a',\n",
       "   'width': 200},\n",
       "  {'height': 85,\n",
       "   'url': 'https://i.scdn.co/image/c055290bb6e97a589d8ca659cd452a8e9831c2c4',\n",
       "   'width': 64}],\n",
       " 'name': 'Massive Attack',\n",
       " 'popularity': 67,\n",
       " 'type': 'artist',\n",
       " 'uri': 'spotify:artist:6FXMGgJwohJLUSr5nVlf9X'}"
      ]
     },
     "execution_count": 42,
     "metadata": {},
     "output_type": "execute_result"
    }
   ],
   "source": [
    "artist"
   ]
  },
  {
   "cell_type": "code",
   "execution_count": 44,
   "metadata": {
    "ExecuteTime": {
     "end_time": "2022-01-20T20:18:29.780398Z",
     "start_time": "2022-01-20T20:18:29.573320Z"
    }
   },
   "outputs": [],
   "source": [
    "related_artists = client.artist_related_artists('6FXMGgJwohJLUSr5nVlf9X')"
   ]
  },
  {
   "cell_type": "code",
   "execution_count": 45,
   "metadata": {
    "ExecuteTime": {
     "end_time": "2022-01-20T20:18:30.310466Z",
     "start_time": "2022-01-20T20:18:30.280547Z"
    }
   },
   "outputs": [
    {
     "data": {
      "text/plain": [
       "{'artists': [{'external_urls': {'spotify': 'https://open.spotify.com/artist/6hhA8TKRNryM8FNzqCqdDO'},\n",
       "   'followers': {'href': None, 'total': 413979},\n",
       "   'genres': ['art pop', 'big beat', 'electronica', 'nu jazz', 'trip hop'],\n",
       "   'href': 'https://api.spotify.com/v1/artists/6hhA8TKRNryM8FNzqCqdDO',\n",
       "   'id': '6hhA8TKRNryM8FNzqCqdDO',\n",
       "   'images': [{'height': 640,\n",
       "     'url': 'https://i.scdn.co/image/ab6761610000e5ebe9766b4ae86d12fec7d51379',\n",
       "     'width': 640},\n",
       "    {'height': 320,\n",
       "     'url': 'https://i.scdn.co/image/ab67616100005174e9766b4ae86d12fec7d51379',\n",
       "     'width': 320},\n",
       "    {'height': 160,\n",
       "     'url': 'https://i.scdn.co/image/ab6761610000f178e9766b4ae86d12fec7d51379',\n",
       "     'width': 160}],\n",
       "   'name': 'Tricky',\n",
       "   'popularity': 57,\n",
       "   'type': 'artist',\n",
       "   'uri': 'spotify:artist:6hhA8TKRNryM8FNzqCqdDO'},\n",
       "  {'external_urls': {'spotify': 'https://open.spotify.com/artist/6liAMWkVf5LH7YR9yfFy1Y'},\n",
       "   'followers': {'href': None, 'total': 1536148},\n",
       "   'genres': ['electronica', 'laboratorio', 'trip hop'],\n",
       "   'href': 'https://api.spotify.com/v1/artists/6liAMWkVf5LH7YR9yfFy1Y',\n",
       "   'id': '6liAMWkVf5LH7YR9yfFy1Y',\n",
       "   'images': [{'height': 680,\n",
       "     'url': 'https://i.scdn.co/image/05d3721739aee511a898081ab140daa7890a0120',\n",
       "     'width': 1000},\n",
       "    {'height': 435,\n",
       "     'url': 'https://i.scdn.co/image/27802710b01453435de93d71bab2c9988a841ace',\n",
       "     'width': 640},\n",
       "    {'height': 136,\n",
       "     'url': 'https://i.scdn.co/image/333ac38e3c8ab5fcdc238cc46535a4abb802eccc',\n",
       "     'width': 200},\n",
       "    {'height': 44,\n",
       "     'url': 'https://i.scdn.co/image/10052054c06626f6a900e687b20886e462f75568',\n",
       "     'width': 64}],\n",
       "   'name': 'Portishead',\n",
       "   'popularity': 64,\n",
       "   'type': 'artist',\n",
       "   'uri': 'spotify:artist:6liAMWkVf5LH7YR9yfFy1Y'},\n",
       "  {'external_urls': {'spotify': 'https://open.spotify.com/artist/08YvZ2qzFrDSITfHLbPKMP'},\n",
       "   'followers': {'href': None, 'total': 209801},\n",
       "   'genres': ['art pop', 'electronica', 'nu jazz', 'trip hop'],\n",
       "   'href': 'https://api.spotify.com/v1/artists/08YvZ2qzFrDSITfHLbPKMP',\n",
       "   'id': '08YvZ2qzFrDSITfHLbPKMP',\n",
       "   'images': [{'height': 640,\n",
       "     'url': 'https://i.scdn.co/image/ab6761610000e5eb7212f5c9b495683f5a12dd20',\n",
       "     'width': 640},\n",
       "    {'height': 320,\n",
       "     'url': 'https://i.scdn.co/image/ab676161000051747212f5c9b495683f5a12dd20',\n",
       "     'width': 320},\n",
       "    {'height': 160,\n",
       "     'url': 'https://i.scdn.co/image/ab6761610000f1787212f5c9b495683f5a12dd20',\n",
       "     'width': 160}],\n",
       "   'name': 'Lamb',\n",
       "   'popularity': 49,\n",
       "   'type': 'artist',\n",
       "   'uri': 'spotify:artist:08YvZ2qzFrDSITfHLbPKMP'},\n",
       "  {'external_urls': {'spotify': 'https://open.spotify.com/artist/6bWxFw65IEJzBYjx3SxUXd'},\n",
       "   'followers': {'href': None, 'total': 695565},\n",
       "   'genres': ['big beat', 'downtempo', 'electronica', 'nu jazz', 'trip hop'],\n",
       "   'href': 'https://api.spotify.com/v1/artists/6bWxFw65IEJzBYjx3SxUXd',\n",
       "   'id': '6bWxFw65IEJzBYjx3SxUXd',\n",
       "   'images': [{'height': 640,\n",
       "     'url': 'https://i.scdn.co/image/ab6761610000e5eb36946a718b9ab08ca42b43f6',\n",
       "     'width': 640},\n",
       "    {'height': 320,\n",
       "     'url': 'https://i.scdn.co/image/ab6761610000517436946a718b9ab08ca42b43f6',\n",
       "     'width': 320},\n",
       "    {'height': 160,\n",
       "     'url': 'https://i.scdn.co/image/ab6761610000f17836946a718b9ab08ca42b43f6',\n",
       "     'width': 160}],\n",
       "   'name': 'Morcheeba',\n",
       "   'popularity': 62,\n",
       "   'type': 'artist',\n",
       "   'uri': 'spotify:artist:6bWxFw65IEJzBYjx3SxUXd'},\n",
       "  {'external_urls': {'spotify': 'https://open.spotify.com/artist/2nszamLjZFgu3Yx77mKxuC'},\n",
       "   'followers': {'href': None, 'total': 322981},\n",
       "   'genres': ['alternative dance',\n",
       "    'art pop',\n",
       "    'big beat',\n",
       "    'electronica',\n",
       "    'ninja',\n",
       "    'nu jazz',\n",
       "    'trip hop'],\n",
       "   'href': 'https://api.spotify.com/v1/artists/2nszamLjZFgu3Yx77mKxuC',\n",
       "   'id': '2nszamLjZFgu3Yx77mKxuC',\n",
       "   'images': [{'height': 640,\n",
       "     'url': 'https://i.scdn.co/image/ab6761610000e5ebf765d40a1554189b213f9f40',\n",
       "     'width': 640},\n",
       "    {'height': 320,\n",
       "     'url': 'https://i.scdn.co/image/ab67616100005174f765d40a1554189b213f9f40',\n",
       "     'width': 320},\n",
       "    {'height': 160,\n",
       "     'url': 'https://i.scdn.co/image/ab6761610000f178f765d40a1554189b213f9f40',\n",
       "     'width': 160}],\n",
       "   'name': 'UNKLE',\n",
       "   'popularity': 56,\n",
       "   'type': 'artist',\n",
       "   'uri': 'spotify:artist:2nszamLjZFgu3Yx77mKxuC'},\n",
       "  {'external_urls': {'spotify': 'https://open.spotify.com/artist/1EJWNhiYbOyeUHbsS7Kp1P'},\n",
       "   'followers': {'href': None, 'total': 201157},\n",
       "   'genres': ['alternative dance', 'electronica', 'trip hop'],\n",
       "   'href': 'https://api.spotify.com/v1/artists/1EJWNhiYbOyeUHbsS7Kp1P',\n",
       "   'id': '1EJWNhiYbOyeUHbsS7Kp1P',\n",
       "   'images': [{'height': 640,\n",
       "     'url': 'https://i.scdn.co/image/ab6761610000e5ebd62076e2fcf2bcd6243edb27',\n",
       "     'width': 640},\n",
       "    {'height': 320,\n",
       "     'url': 'https://i.scdn.co/image/ab67616100005174d62076e2fcf2bcd6243edb27',\n",
       "     'width': 320},\n",
       "    {'height': 160,\n",
       "     'url': 'https://i.scdn.co/image/ab6761610000f178d62076e2fcf2bcd6243edb27',\n",
       "     'width': 160}],\n",
       "   'name': 'Sneaker Pimps',\n",
       "   'popularity': 51,\n",
       "   'type': 'artist',\n",
       "   'uri': 'spotify:artist:1EJWNhiYbOyeUHbsS7Kp1P'},\n",
       "  {'external_urls': {'spotify': 'https://open.spotify.com/artist/14H7ag1wpQOsPPQJOD6Dqr'},\n",
       "   'followers': {'href': None, 'total': 443112},\n",
       "   'genres': ['downtempo', 'electronica', 'nu jazz', 'trip hop'],\n",
       "   'href': 'https://api.spotify.com/v1/artists/14H7ag1wpQOsPPQJOD6Dqr',\n",
       "   'id': '14H7ag1wpQOsPPQJOD6Dqr',\n",
       "   'images': [{'height': 640,\n",
       "     'url': 'https://i.scdn.co/image/ab6761610000e5eb85c10aefe83110535eea474c',\n",
       "     'width': 640},\n",
       "    {'height': 320,\n",
       "     'url': 'https://i.scdn.co/image/ab6761610000517485c10aefe83110535eea474c',\n",
       "     'width': 320},\n",
       "    {'height': 160,\n",
       "     'url': 'https://i.scdn.co/image/ab6761610000f17885c10aefe83110535eea474c',\n",
       "     'width': 160}],\n",
       "   'name': 'Zero 7',\n",
       "   'popularity': 61,\n",
       "   'type': 'artist',\n",
       "   'uri': 'spotify:artist:14H7ag1wpQOsPPQJOD6Dqr'},\n",
       "  {'external_urls': {'spotify': 'https://open.spotify.com/artist/5EP020iZcwBqHRnJftibXX'},\n",
       "   'followers': {'href': None, 'total': 354101},\n",
       "   'genres': ['downtempo', 'electronica', 'trip hop'],\n",
       "   'href': 'https://api.spotify.com/v1/artists/5EP020iZcwBqHRnJftibXX',\n",
       "   'id': '5EP020iZcwBqHRnJftibXX',\n",
       "   'images': [{'height': 640,\n",
       "     'url': 'https://i.scdn.co/image/ab6761610000e5eb2ebcf2a5cc31cf1c83bab244',\n",
       "     'width': 640},\n",
       "    {'height': 320,\n",
       "     'url': 'https://i.scdn.co/image/ab676161000051742ebcf2a5cc31cf1c83bab244',\n",
       "     'width': 320},\n",
       "    {'height': 160,\n",
       "     'url': 'https://i.scdn.co/image/ab6761610000f1782ebcf2a5cc31cf1c83bab244',\n",
       "     'width': 160}],\n",
       "   'name': 'Hooverphonic',\n",
       "   'popularity': 57,\n",
       "   'type': 'artist',\n",
       "   'uri': 'spotify:artist:5EP020iZcwBqHRnJftibXX'},\n",
       "  {'external_urls': {'spotify': 'https://open.spotify.com/artist/1Q776wzj2mrtXrNu3iH6nk'},\n",
       "   'followers': {'href': None, 'total': 222596},\n",
       "   'genres': ['electronica', 'trip hop'],\n",
       "   'href': 'https://api.spotify.com/v1/artists/1Q776wzj2mrtXrNu3iH6nk',\n",
       "   'id': '1Q776wzj2mrtXrNu3iH6nk',\n",
       "   'images': [{'height': 640,\n",
       "     'url': 'https://i.scdn.co/image/ab6761610000e5eb7e2b46bfa294e4ab17134595',\n",
       "     'width': 640},\n",
       "    {'height': 320,\n",
       "     'url': 'https://i.scdn.co/image/ab676161000051747e2b46bfa294e4ab17134595',\n",
       "     'width': 320},\n",
       "    {'height': 160,\n",
       "     'url': 'https://i.scdn.co/image/ab6761610000f1787e2b46bfa294e4ab17134595',\n",
       "     'width': 160}],\n",
       "   'name': 'Archive',\n",
       "   'popularity': 53,\n",
       "   'type': 'artist',\n",
       "   'uri': 'spotify:artist:1Q776wzj2mrtXrNu3iH6nk'},\n",
       "  {'external_urls': {'spotify': 'https://open.spotify.com/artist/6sKLLGj7SqbP2qDBdEOoZ6'},\n",
       "   'followers': {'href': None, 'total': 59183},\n",
       "   'genres': ['art pop', 'electronica', 'solo wave', 'trip hop'],\n",
       "   'href': 'https://api.spotify.com/v1/artists/6sKLLGj7SqbP2qDBdEOoZ6',\n",
       "   'id': '6sKLLGj7SqbP2qDBdEOoZ6',\n",
       "   'images': [{'height': 640,\n",
       "     'url': 'https://i.scdn.co/image/ab6761610000e5eb8976f9742610b224d07609ac',\n",
       "     'width': 640},\n",
       "    {'height': 320,\n",
       "     'url': 'https://i.scdn.co/image/ab676161000051748976f9742610b224d07609ac',\n",
       "     'width': 320},\n",
       "    {'height': 160,\n",
       "     'url': 'https://i.scdn.co/image/ab6761610000f1788976f9742610b224d07609ac',\n",
       "     'width': 160}],\n",
       "   'name': 'Martina Topley-Bird',\n",
       "   'popularity': 43,\n",
       "   'type': 'artist',\n",
       "   'uri': 'spotify:artist:6sKLLGj7SqbP2qDBdEOoZ6'},\n",
       "  {'external_urls': {'spotify': 'https://open.spotify.com/artist/39ywlwtGw8RTGobakgb11L'},\n",
       "   'followers': {'href': None, 'total': 165592},\n",
       "   'genres': ['big beat',\n",
       "    'downtempo',\n",
       "    'electronica',\n",
       "    'ninja',\n",
       "    'nu jazz',\n",
       "    'trip hop'],\n",
       "   'href': 'https://api.spotify.com/v1/artists/39ywlwtGw8RTGobakgb11L',\n",
       "   'id': '39ywlwtGw8RTGobakgb11L',\n",
       "   'images': [{'height': 640,\n",
       "     'url': 'https://i.scdn.co/image/ab6761610000e5ebde4e41e1e9e80abf82e646c0',\n",
       "     'width': 640},\n",
       "    {'height': 320,\n",
       "     'url': 'https://i.scdn.co/image/ab67616100005174de4e41e1e9e80abf82e646c0',\n",
       "     'width': 320},\n",
       "    {'height': 160,\n",
       "     'url': 'https://i.scdn.co/image/ab6761610000f178de4e41e1e9e80abf82e646c0',\n",
       "     'width': 160}],\n",
       "   'name': 'Kruder & Dorfmeister',\n",
       "   'popularity': 49,\n",
       "   'type': 'artist',\n",
       "   'uri': 'spotify:artist:39ywlwtGw8RTGobakgb11L'},\n",
       "  {'external_urls': {'spotify': 'https://open.spotify.com/artist/25KNo5GDS6ZpLkjasaecA3'},\n",
       "   'followers': {'href': None, 'total': 670654},\n",
       "   'genres': ['downtempo',\n",
       "    'electronica',\n",
       "    'livetronica',\n",
       "    'nu jazz',\n",
       "    'trip hop'],\n",
       "   'href': 'https://api.spotify.com/v1/artists/25KNo5GDS6ZpLkjasaecA3',\n",
       "   'id': '25KNo5GDS6ZpLkjasaecA3',\n",
       "   'images': [{'height': 640,\n",
       "     'url': 'https://i.scdn.co/image/ab6761610000e5eb3d9378b0995517ff9f4f2354',\n",
       "     'width': 640},\n",
       "    {'height': 320,\n",
       "     'url': 'https://i.scdn.co/image/ab676161000051743d9378b0995517ff9f4f2354',\n",
       "     'width': 320},\n",
       "    {'height': 160,\n",
       "     'url': 'https://i.scdn.co/image/ab6761610000f1783d9378b0995517ff9f4f2354',\n",
       "     'width': 160}],\n",
       "   'name': 'Thievery Corporation',\n",
       "   'popularity': 64,\n",
       "   'type': 'artist',\n",
       "   'uri': 'spotify:artist:25KNo5GDS6ZpLkjasaecA3'},\n",
       "  {'external_urls': {'spotify': 'https://open.spotify.com/artist/4aaBjq7VqqQvpSF69GglvO'},\n",
       "   'followers': {'href': None, 'total': 377250},\n",
       "   'genres': ['alternative dance', 'big beat', 'electronica', 'trip hop'],\n",
       "   'href': 'https://api.spotify.com/v1/artists/4aaBjq7VqqQvpSF69GglvO',\n",
       "   'id': '4aaBjq7VqqQvpSF69GglvO',\n",
       "   'images': [{'height': 982,\n",
       "     'url': 'https://i.scdn.co/image/da34856608ab863451a8492546cf589b8267493c',\n",
       "     'width': 1000},\n",
       "    {'height': 629,\n",
       "     'url': 'https://i.scdn.co/image/5bf5624bc7ff9e97ffb2f47c3a25f2c536d6d6b7',\n",
       "     'width': 640},\n",
       "    {'height': 196,\n",
       "     'url': 'https://i.scdn.co/image/800253832557446667007d8d3c389a4e6d878de9',\n",
       "     'width': 200},\n",
       "    {'height': 63,\n",
       "     'url': 'https://i.scdn.co/image/261169cd9afd1bae885b370ba6723143677c6a94',\n",
       "     'width': 64}],\n",
       "   'name': 'Moloko',\n",
       "   'popularity': 58,\n",
       "   'type': 'artist',\n",
       "   'uri': 'spotify:artist:4aaBjq7VqqQvpSF69GglvO'},\n",
       "  {'external_urls': {'spotify': 'https://open.spotify.com/artist/1P6U1dCeHxPui5pIrGmndZ'},\n",
       "   'followers': {'href': None, 'total': 743613},\n",
       "   'genres': ['ambient pop', 'downtempo', 'electronica', 'trip hop'],\n",
       "   'href': 'https://api.spotify.com/v1/artists/1P6U1dCeHxPui5pIrGmndZ',\n",
       "   'id': '1P6U1dCeHxPui5pIrGmndZ',\n",
       "   'images': [{'height': 640,\n",
       "     'url': 'https://i.scdn.co/image/ab6761610000e5ebb3f06b20f1391c3d1b2c14e7',\n",
       "     'width': 640},\n",
       "    {'height': 320,\n",
       "     'url': 'https://i.scdn.co/image/ab67616100005174b3f06b20f1391c3d1b2c14e7',\n",
       "     'width': 320},\n",
       "    {'height': 160,\n",
       "     'url': 'https://i.scdn.co/image/ab6761610000f178b3f06b20f1391c3d1b2c14e7',\n",
       "     'width': 160}],\n",
       "   'name': 'Air',\n",
       "   'popularity': 63,\n",
       "   'type': 'artist',\n",
       "   'uri': 'spotify:artist:1P6U1dCeHxPui5pIrGmndZ'},\n",
       "  {'external_urls': {'spotify': 'https://open.spotify.com/artist/1ViF5mdcW7pEn7md71YjOL'},\n",
       "   'followers': {'href': None, 'total': 87803},\n",
       "   'genres': ['big beat', 'electronica', 'ninja', 'nu jazz', 'trip hop'],\n",
       "   'href': 'https://api.spotify.com/v1/artists/1ViF5mdcW7pEn7md71YjOL',\n",
       "   'id': '1ViF5mdcW7pEn7md71YjOL',\n",
       "   'images': [{'height': 640,\n",
       "     'url': 'https://i.scdn.co/image/ab6761610000e5ebc714c008f0261b2e18ddea30',\n",
       "     'width': 640},\n",
       "    {'height': 320,\n",
       "     'url': 'https://i.scdn.co/image/ab67616100005174c714c008f0261b2e18ddea30',\n",
       "     'width': 320},\n",
       "    {'height': 160,\n",
       "     'url': 'https://i.scdn.co/image/ab6761610000f178c714c008f0261b2e18ddea30',\n",
       "     'width': 160}],\n",
       "   'name': 'Kid Loco',\n",
       "   'popularity': 48,\n",
       "   'type': 'artist',\n",
       "   'uri': 'spotify:artist:1ViF5mdcW7pEn7md71YjOL'},\n",
       "  {'external_urls': {'spotify': 'https://open.spotify.com/artist/5CE2IfdYZEQGIDsfiRm8SI'},\n",
       "   'followers': {'href': None, 'total': 500936},\n",
       "   'genres': ['big beat',\n",
       "    'downtempo',\n",
       "    'electronica',\n",
       "    'hip hop',\n",
       "    'trip hop',\n",
       "    'turntablism'],\n",
       "   'href': 'https://api.spotify.com/v1/artists/5CE2IfdYZEQGIDsfiRm8SI',\n",
       "   'id': '5CE2IfdYZEQGIDsfiRm8SI',\n",
       "   'images': [{'height': 640,\n",
       "     'url': 'https://i.scdn.co/image/ab6761610000e5ebed22769b2770a78dd6826f50',\n",
       "     'width': 640},\n",
       "    {'height': 320,\n",
       "     'url': 'https://i.scdn.co/image/ab67616100005174ed22769b2770a78dd6826f50',\n",
       "     'width': 320},\n",
       "    {'height': 160,\n",
       "     'url': 'https://i.scdn.co/image/ab6761610000f178ed22769b2770a78dd6826f50',\n",
       "     'width': 160}],\n",
       "   'name': 'DJ Shadow',\n",
       "   'popularity': 66,\n",
       "   'type': 'artist',\n",
       "   'uri': 'spotify:artist:5CE2IfdYZEQGIDsfiRm8SI'},\n",
       "  {'external_urls': {'spotify': 'https://open.spotify.com/artist/4tNxq9NGKTKaX8OkZBLgf0'},\n",
       "   'followers': {'href': None, 'total': 374129},\n",
       "   'genres': ['bleep techno',\n",
       "    'downtempo',\n",
       "    'electronica',\n",
       "    'nu jazz',\n",
       "    'trip hop',\n",
       "    'turntablism'],\n",
       "   'href': 'https://api.spotify.com/v1/artists/4tNxq9NGKTKaX8OkZBLgf0',\n",
       "   'id': '4tNxq9NGKTKaX8OkZBLgf0',\n",
       "   'images': [{'height': 640,\n",
       "     'url': 'https://i.scdn.co/image/ab6761610000e5ebf55522db17a6034ca9a895cf',\n",
       "     'width': 640},\n",
       "    {'height': 320,\n",
       "     'url': 'https://i.scdn.co/image/ab67616100005174f55522db17a6034ca9a895cf',\n",
       "     'width': 320},\n",
       "    {'height': 160,\n",
       "     'url': 'https://i.scdn.co/image/ab6761610000f178f55522db17a6034ca9a895cf',\n",
       "     'width': 160}],\n",
       "   'name': 'Nightmares On Wax',\n",
       "   'popularity': 61,\n",
       "   'type': 'artist',\n",
       "   'uri': 'spotify:artist:4tNxq9NGKTKaX8OkZBLgf0'},\n",
       "  {'external_urls': {'spotify': 'https://open.spotify.com/artist/67tgMwUfnmqzYsNAtnP6YJ'},\n",
       "   'followers': {'href': None, 'total': 566834},\n",
       "   'genres': ['alternative dance',\n",
       "    'big beat',\n",
       "    'electronica',\n",
       "    'new rave',\n",
       "    'nu jazz',\n",
       "    'nu skool breaks',\n",
       "    'trip hop'],\n",
       "   'href': 'https://api.spotify.com/v1/artists/67tgMwUfnmqzYsNAtnP6YJ',\n",
       "   'id': '67tgMwUfnmqzYsNAtnP6YJ',\n",
       "   'images': [{'height': 640,\n",
       "     'url': 'https://i.scdn.co/image/ab6761610000e5eb922cfaf258406578ccb12bcc',\n",
       "     'width': 640},\n",
       "    {'height': 320,\n",
       "     'url': 'https://i.scdn.co/image/ab67616100005174922cfaf258406578ccb12bcc',\n",
       "     'width': 320},\n",
       "    {'height': 160,\n",
       "     'url': 'https://i.scdn.co/image/ab6761610000f178922cfaf258406578ccb12bcc',\n",
       "     'width': 160}],\n",
       "   'name': 'Groove Armada',\n",
       "   'popularity': 61,\n",
       "   'type': 'artist',\n",
       "   'uri': 'spotify:artist:67tgMwUfnmqzYsNAtnP6YJ'},\n",
       "  {'external_urls': {'spotify': 'https://open.spotify.com/artist/5nPOO9iTcrs9k6yFffPxjH'},\n",
       "   'followers': {'href': None, 'total': 762817},\n",
       "   'genres': ['alternative dance',\n",
       "    'big beat',\n",
       "    'downtempo',\n",
       "    'electronica',\n",
       "    'electropop',\n",
       "    'new rave',\n",
       "    'trip hop'],\n",
       "   'href': 'https://api.spotify.com/v1/artists/5nPOO9iTcrs9k6yFffPxjH',\n",
       "   'id': '5nPOO9iTcrs9k6yFffPxjH',\n",
       "   'images': [{'height': 640,\n",
       "     'url': 'https://i.scdn.co/image/ab6761610000e5eb63e7e23f8d563acde6bd571c',\n",
       "     'width': 640},\n",
       "    {'height': 320,\n",
       "     'url': 'https://i.scdn.co/image/ab6761610000517463e7e23f8d563acde6bd571c',\n",
       "     'width': 320},\n",
       "    {'height': 160,\n",
       "     'url': 'https://i.scdn.co/image/ab6761610000f17863e7e23f8d563acde6bd571c',\n",
       "     'width': 160}],\n",
       "   'name': 'Röyksopp',\n",
       "   'popularity': 63,\n",
       "   'type': 'artist',\n",
       "   'uri': 'spotify:artist:5nPOO9iTcrs9k6yFffPxjH'},\n",
       "  {'external_urls': {'spotify': 'https://open.spotify.com/artist/5uh8Bhewltd8j0TLZjNImc'},\n",
       "   'followers': {'href': None, 'total': 152523},\n",
       "   'genres': ['downtempo',\n",
       "    'electronica',\n",
       "    'ninja',\n",
       "    'nu jazz',\n",
       "    'trip hop',\n",
       "    'turntablism'],\n",
       "   'href': 'https://api.spotify.com/v1/artists/5uh8Bhewltd8j0TLZjNImc',\n",
       "   'id': '5uh8Bhewltd8j0TLZjNImc',\n",
       "   'images': [{'height': 640,\n",
       "     'url': 'https://i.scdn.co/image/ab67616d0000b273699c6d0199bad947d149164c',\n",
       "     'width': 640},\n",
       "    {'height': 300,\n",
       "     'url': 'https://i.scdn.co/image/ab67616d00001e02699c6d0199bad947d149164c',\n",
       "     'width': 300},\n",
       "    {'height': 64,\n",
       "     'url': 'https://i.scdn.co/image/ab67616d00004851699c6d0199bad947d149164c',\n",
       "     'width': 64}],\n",
       "   'name': 'Lemon Jelly',\n",
       "   'popularity': 49,\n",
       "   'type': 'artist',\n",
       "   'uri': 'spotify:artist:5uh8Bhewltd8j0TLZjNImc'}]}"
      ]
     },
     "execution_count": 45,
     "metadata": {},
     "output_type": "execute_result"
    }
   ],
   "source": [
    "related_artists"
   ]
  },
  {
   "cell_type": "code",
   "execution_count": null,
   "metadata": {
    "ExecuteTime": {
     "end_time": "2022-01-20T20:15:34.504256Z",
     "start_time": "2022-01-20T20:15:34.499272Z"
    }
   },
   "outputs": [],
   "source": [
    "print(related_artists.keys())"
   ]
  },
  {
   "cell_type": "code",
   "execution_count": null,
   "metadata": {
    "ExecuteTime": {
     "end_time": "2022-01-20T20:15:35.003300Z",
     "start_time": "2022-01-20T20:15:34.995332Z"
    }
   },
   "outputs": [],
   "source": [
    "type(related_artists['artists'])"
   ]
  },
  {
   "cell_type": "code",
   "execution_count": null,
   "metadata": {
    "ExecuteTime": {
     "end_time": "2022-01-20T20:18:44.622203Z",
     "start_time": "2022-01-20T20:18:44.615220Z"
    }
   },
   "outputs": [],
   "source": [
    "related_artists['artists'][0]"
   ]
  },
  {
   "cell_type": "code",
   "execution_count": null,
   "metadata": {
    "ExecuteTime": {
     "end_time": "2022-01-20T20:19:11.966242Z",
     "start_time": "2022-01-20T20:19:11.948260Z"
    }
   },
   "outputs": [],
   "source": [
    "related_artists['artists'][0]['name']"
   ]
  },
  {
   "cell_type": "code",
   "execution_count": null,
   "metadata": {
    "ExecuteTime": {
     "end_time": "2022-01-20T20:19:16.238382Z",
     "start_time": "2022-01-20T20:19:16.222426Z"
    }
   },
   "outputs": [],
   "source": [
    "[artist['name'] for artist in related_artists['artists']]"
   ]
  },
  {
   "cell_type": "code",
   "execution_count": null,
   "metadata": {
    "ExecuteTime": {
     "end_time": "2022-01-20T20:19:29.951315Z",
     "start_time": "2022-01-20T20:19:29.743435Z"
    }
   },
   "outputs": [],
   "source": [
    "top_tracks = client.artist_top_tracks('6FXMGgJwohJLUSr5nVlf9X')\n",
    "top_tracks"
   ]
  },
  {
   "cell_type": "code",
   "execution_count": null,
   "metadata": {
    "ExecuteTime": {
     "end_time": "2022-01-20T20:19:39.199432Z",
     "start_time": "2022-01-20T20:19:39.193449Z"
    }
   },
   "outputs": [],
   "source": [
    "top_tracks.keys()"
   ]
  },
  {
   "cell_type": "code",
   "execution_count": null,
   "metadata": {
    "ExecuteTime": {
     "end_time": "2022-01-20T20:19:52.910247Z",
     "start_time": "2022-01-20T20:19:52.895279Z"
    }
   },
   "outputs": [],
   "source": [
    "type(top_tracks['tracks'])"
   ]
  },
  {
   "cell_type": "code",
   "execution_count": null,
   "metadata": {
    "ExecuteTime": {
     "end_time": "2022-01-20T20:22:45.683149Z",
     "start_time": "2022-01-20T20:22:45.668196Z"
    }
   },
   "outputs": [],
   "source": [
    "top_tracks['tracks'][0]"
   ]
  },
  {
   "cell_type": "code",
   "execution_count": null,
   "metadata": {
    "ExecuteTime": {
     "end_time": "2022-01-20T20:20:08.237315Z",
     "start_time": "2022-01-20T20:20:08.220362Z"
    }
   },
   "outputs": [],
   "source": [
    "top_tracks['tracks'][0].keys()"
   ]
  },
  {
   "cell_type": "code",
   "execution_count": null,
   "metadata": {
    "ExecuteTime": {
     "end_time": "2022-01-20T20:22:50.755068Z",
     "start_time": "2022-01-20T20:22:50.738113Z"
    }
   },
   "outputs": [],
   "source": [
    "top_tracks['tracks'][0]['name']"
   ]
  },
  {
   "cell_type": "code",
   "execution_count": null,
   "metadata": {
    "ExecuteTime": {
     "end_time": "2022-01-20T20:22:53.264142Z",
     "start_time": "2022-01-20T20:22:53.249153Z"
    }
   },
   "outputs": [],
   "source": [
    "top_tracks['tracks'][0]['popularity']"
   ]
  },
  {
   "cell_type": "code",
   "execution_count": null,
   "metadata": {
    "ExecuteTime": {
     "end_time": "2022-01-20T20:22:55.120349Z",
     "start_time": "2022-01-20T20:22:55.101387Z"
    }
   },
   "outputs": [],
   "source": [
    "top_tracks['tracks'][0]['uri']"
   ]
  },
  {
   "cell_type": "code",
   "execution_count": null,
   "metadata": {
    "ExecuteTime": {
     "end_time": "2022-01-20T20:23:10.663953Z",
     "start_time": "2022-01-20T20:23:10.469263Z"
    }
   },
   "outputs": [],
   "source": [
    "pd.DataFrame(client.audio_features([top_tracks['tracks'][0]['uri']]))"
   ]
  },
  {
   "cell_type": "code",
   "execution_count": 51,
   "metadata": {},
   "outputs": [
    {
     "data": {
      "text/html": [
       "<div>\n",
       "<style scoped>\n",
       "    .dataframe tbody tr th:only-of-type {\n",
       "        vertical-align: middle;\n",
       "    }\n",
       "\n",
       "    .dataframe tbody tr th {\n",
       "        vertical-align: top;\n",
       "    }\n",
       "\n",
       "    .dataframe thead th {\n",
       "        text-align: right;\n",
       "    }\n",
       "</style>\n",
       "<table border=\"1\" class=\"dataframe\">\n",
       "  <thead>\n",
       "    <tr style=\"text-align: right;\">\n",
       "      <th></th>\n",
       "      <th>tracks</th>\n",
       "    </tr>\n",
       "  </thead>\n",
       "  <tbody>\n",
       "    <tr>\n",
       "      <th>0</th>\n",
       "      <td>{'album': {'album_type': 'album', 'artists': [...</td>\n",
       "    </tr>\n",
       "    <tr>\n",
       "      <th>1</th>\n",
       "      <td>{'album': {'album_type': 'album', 'artists': [...</td>\n",
       "    </tr>\n",
       "    <tr>\n",
       "      <th>2</th>\n",
       "      <td>{'album': {'album_type': 'album', 'artists': [...</td>\n",
       "    </tr>\n",
       "    <tr>\n",
       "      <th>3</th>\n",
       "      <td>{'album': {'album_type': 'album', 'artists': [...</td>\n",
       "    </tr>\n",
       "    <tr>\n",
       "      <th>4</th>\n",
       "      <td>{'album': {'album_type': 'album', 'artists': [...</td>\n",
       "    </tr>\n",
       "    <tr>\n",
       "      <th>5</th>\n",
       "      <td>{'album': {'album_type': 'album', 'artists': [...</td>\n",
       "    </tr>\n",
       "    <tr>\n",
       "      <th>6</th>\n",
       "      <td>{'album': {'album_type': 'single', 'artists': ...</td>\n",
       "    </tr>\n",
       "    <tr>\n",
       "      <th>7</th>\n",
       "      <td>{'album': {'album_type': 'album', 'artists': [...</td>\n",
       "    </tr>\n",
       "    <tr>\n",
       "      <th>8</th>\n",
       "      <td>{'album': {'album_type': 'single', 'artists': ...</td>\n",
       "    </tr>\n",
       "    <tr>\n",
       "      <th>9</th>\n",
       "      <td>{'album': {'album_type': 'single', 'artists': ...</td>\n",
       "    </tr>\n",
       "  </tbody>\n",
       "</table>\n",
       "</div>"
      ],
      "text/plain": [
       "                                              tracks\n",
       "0  {'album': {'album_type': 'album', 'artists': [...\n",
       "1  {'album': {'album_type': 'album', 'artists': [...\n",
       "2  {'album': {'album_type': 'album', 'artists': [...\n",
       "3  {'album': {'album_type': 'album', 'artists': [...\n",
       "4  {'album': {'album_type': 'album', 'artists': [...\n",
       "5  {'album': {'album_type': 'album', 'artists': [...\n",
       "6  {'album': {'album_type': 'single', 'artists': ...\n",
       "7  {'album': {'album_type': 'album', 'artists': [...\n",
       "8  {'album': {'album_type': 'single', 'artists': ...\n",
       "9  {'album': {'album_type': 'single', 'artists': ..."
      ]
     },
     "execution_count": 51,
     "metadata": {},
     "output_type": "execute_result"
    }
   ],
   "source": [
    "# Extrair as audio features das 10 maiores faixas de cada artista na lista de clientes.\n",
    "# - NOME CLIENTE (String)\n",
    "# - NOME FAIXA (String) >> nome da música\n",
    "# - POPULARIDADE ARTISTA (Integer)\n",
    "# - POPULARIDADE FAIXA (Integer)\n",
    "# - DANCEABILITY (Float)\n",
    "# - ENERGY (Float)\n",
    "# - TEMPO (Float)\n",
    "# - DURAÇÃO em MINUTOS (Float)\n",
    "\n",
    "# lista de clientes\n",
    "lista_clientes = [\n",
    "    '6kBDZFXuLrZgHnvmPu9NsG',\n",
    "    '2VAvhf61GgLYmC6C8anyX1',\n",
    "    '7AiamoV760pPGGM5PbOC6X'\n",
    "]\n",
    "\n",
    "# cada artista na lista de clientes\n",
    "nome_cliente  = lista_clientes[0]\n",
    "pd.DataFrame(client.artist_top_tracks(nome_cliente))"
   ]
  },
  {
   "cell_type": "code",
   "execution_count": null,
   "metadata": {},
   "outputs": [],
   "source": [
    "client.artist_top_tracks('6FXMGgJwohJLUSr5nVlf9X')"
   ]
  }
 ],
 "metadata": {
  "hide_input": false,
  "kernelspec": {
   "display_name": "Python 3 (ipykernel)",
   "language": "python",
   "name": "python3"
  },
  "language_info": {
   "codemirror_mode": {
    "name": "ipython",
    "version": 3
   },
   "file_extension": ".py",
   "mimetype": "text/x-python",
   "name": "python",
   "nbconvert_exporter": "python",
   "pygments_lexer": "ipython3",
   "version": "3.8.11"
  },
  "toc": {
   "base_numbering": 1,
   "nav_menu": {},
   "number_sections": true,
   "sideBar": true,
   "skip_h1_title": false,
   "title_cell": "Table of Contents",
   "title_sidebar": "Contents",
   "toc_cell": false,
   "toc_position": {},
   "toc_section_display": true,
   "toc_window_display": false
  },
  "varInspector": {
   "cols": {
    "lenName": 16,
    "lenType": 16,
    "lenVar": 40
   },
   "kernels_config": {
    "python": {
     "delete_cmd_postfix": "",
     "delete_cmd_prefix": "del ",
     "library": "var_list.py",
     "varRefreshCmd": "print(var_dic_list())"
    },
    "r": {
     "delete_cmd_postfix": ") ",
     "delete_cmd_prefix": "rm(",
     "library": "var_list.r",
     "varRefreshCmd": "cat(var_dic_list()) "
    }
   },
   "types_to_exclude": [
    "module",
    "function",
    "builtin_function_or_method",
    "instance",
    "_Feature"
   ],
   "window_display": false
  }
 },
 "nbformat": 4,
 "nbformat_minor": 4
}
