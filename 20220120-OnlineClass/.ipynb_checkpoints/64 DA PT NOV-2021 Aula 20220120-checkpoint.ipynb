{
 "cells": [
  {
   "cell_type": "code",
   "execution_count": null,
   "metadata": {
    "ExecuteTime": {
     "end_time": "2022-01-20T20:11:38.847672Z",
     "start_time": "2022-01-20T20:11:38.442706Z"
    }
   },
   "outputs": [],
   "source": [
    "import pandas as pd\n",
    "import os"
   ]
  },
  {
   "cell_type": "markdown",
   "metadata": {},
   "source": [
    "# API Wrappers"
   ]
  },
  {
   "cell_type": "markdown",
   "metadata": {},
   "source": [
    "## Dealing with `keys` in code\n",
    "\n",
    "Usually, when you access an API, you'll use some password or `key`. \n",
    "\n",
    "There's a package called `dotenv` that helps you hide your keys inside a file."
   ]
  },
  {
   "cell_type": "markdown",
   "metadata": {},
   "source": [
    "- Install dotenv `!pip install dotenv` (or `!pip install python-dotenv`)\n",
    "- Create a file with a `.env` extension and variables inside of it like \n",
    "```\n",
    "API_KEY=\"l1noPOPAixCPM\"\n",
    "API_SECRET=\"GraGq0zrGhs1qvbA0xQXsZBKuTkK5MJ\"\n",
    "```\n",
    "- run dotenv.load_dotenv('filename.env')\n",
    "- now if you run os.getenv('API_KEY'), it will contain the string 'l1noPOPAixCPM'\n",
    "- the idea is that you can upload your code to Github and **DON'T** upload the `.env` file"
   ]
  },
  {
   "cell_type": "code",
   "execution_count": null,
   "metadata": {
    "ExecuteTime": {
     "end_time": "2022-01-20T14:01:33.096315Z",
     "start_time": "2022-01-20T14:01:30.503439Z"
    }
   },
   "outputs": [],
   "source": [
    "!pip3 install python-dotenv"
   ]
  },
  {
   "cell_type": "code",
   "execution_count": null,
   "metadata": {
    "ExecuteTime": {
     "end_time": "2022-01-20T20:11:41.235409Z",
     "start_time": "2022-01-20T20:11:41.222443Z"
    }
   },
   "outputs": [],
   "source": [
    "from dotenv import load_dotenv"
   ]
  },
  {
   "cell_type": "code",
   "execution_count": null,
   "metadata": {
    "ExecuteTime": {
     "end_time": "2022-01-20T20:11:41.889309Z",
     "start_time": "2022-01-20T20:11:41.865373Z"
    }
   },
   "outputs": [],
   "source": [
    "load_dotenv('credentials/credentials.env')"
   ]
  },
  {
   "cell_type": "code",
   "execution_count": null,
   "metadata": {
    "ExecuteTime": {
     "end_time": "2022-01-20T20:11:42.992303Z",
     "start_time": "2022-01-20T20:11:42.982324Z"
    }
   },
   "outputs": [],
   "source": [
    "print(os.getenv('API_KEY'))"
   ]
  },
  {
   "cell_type": "markdown",
   "metadata": {},
   "source": [
    "## List of API wrappers\n",
    "\n",
    "- This is a list of some known python packages that facilitates the use of some APIs:\n",
    "https://github.com/realpython/list-of-python-api-wrappers\n",
    "\n",
    "- But there are much more than that. You just have to look for it. Here's a list of some public APIs grouped by type: https://github.com/public-apis/public-apis. Maybe you can find an API wrapper for those too. You just need to search google something like: `name_of_the_api python wrapper`\n",
    "\n",
    "- API para o `Portal da Transparência` (Brasil): http://www.transparencia.gov.br/swagger-ui.html\n",
    "\n",
    "- Here's another list of fun APIs: https://apilist.fun/\n"
   ]
  },
  {
   "cell_type": "markdown",
   "metadata": {},
   "source": [
    "# Use Cases"
   ]
  },
  {
   "cell_type": "markdown",
   "metadata": {},
   "source": [
    "## OMDB\n",
    "\n",
    "http://www.omdbapi.com/"
   ]
  },
  {
   "cell_type": "markdown",
   "metadata": {
    "ExecuteTime": {
     "end_time": "2020-06-20T21:58:04.761865Z",
     "start_time": "2020-06-20T21:57:58.365989Z"
    }
   },
   "source": [
    "https://github.com/dgilland/omdb.py\n",
    "\n",
    "Install API wrapper: `!pip install omdb`\n"
   ]
  },
  {
   "cell_type": "code",
   "execution_count": null,
   "metadata": {
    "ExecuteTime": {
     "end_time": "2022-01-20T10:57:21.583370Z",
     "start_time": "2022-01-20T10:57:18.624644Z"
    }
   },
   "outputs": [],
   "source": [
    "!pip install omdb"
   ]
  },
  {
   "cell_type": "code",
   "execution_count": null,
   "metadata": {
    "ExecuteTime": {
     "end_time": "2022-01-20T20:11:49.093439Z",
     "start_time": "2022-01-20T20:11:48.979352Z"
    }
   },
   "outputs": [],
   "source": [
    "from omdb import OMDBClient"
   ]
  },
  {
   "cell_type": "code",
   "execution_count": null,
   "metadata": {
    "ExecuteTime": {
     "end_time": "2022-01-20T20:11:50.045407Z",
     "start_time": "2022-01-20T20:11:50.030456Z"
    }
   },
   "outputs": [],
   "source": [
    "load_dotenv('credentials/key_omdb.env')\n",
    "client = OMDBClient(apikey=os.getenv('OMDB_KEY'))"
   ]
  },
  {
   "cell_type": "code",
   "execution_count": null,
   "metadata": {
    "ExecuteTime": {
     "end_time": "2022-01-20T20:11:51.057642Z",
     "start_time": "2022-01-20T20:11:50.989472Z"
    }
   },
   "outputs": [],
   "source": [
    "results = client.title('Stalker')"
   ]
  },
  {
   "cell_type": "code",
   "execution_count": null,
   "metadata": {
    "ExecuteTime": {
     "end_time": "2022-01-20T20:11:51.779364Z",
     "start_time": "2022-01-20T20:11:51.768364Z"
    }
   },
   "outputs": [],
   "source": [
    "results"
   ]
  },
  {
   "cell_type": "code",
   "execution_count": null,
   "metadata": {
    "ExecuteTime": {
     "end_time": "2022-01-20T20:13:31.950190Z",
     "start_time": "2022-01-20T20:13:31.781454Z"
    }
   },
   "outputs": [],
   "source": [
    "import requests\n",
    "from PIL import Image\n",
    "\n",
    "response = requests.get(results['poster'], stream=True)\n",
    "Image.open(response.raw)"
   ]
  },
  {
   "cell_type": "code",
   "execution_count": null,
   "metadata": {
    "ExecuteTime": {
     "end_time": "2022-01-20T20:31:37.879321Z",
     "start_time": "2022-01-20T20:31:37.857381Z"
    }
   },
   "outputs": [],
   "source": [
    "tb_top_movies = pd.read_csv('data/top_gross_ltv.csv', sep = \";\", decimal = \",\")"
   ]
  },
  {
   "cell_type": "code",
   "execution_count": null,
   "metadata": {
    "ExecuteTime": {
     "end_time": "2022-01-20T20:13:59.716417Z",
     "start_time": "2022-01-20T20:13:59.695473Z"
    }
   },
   "outputs": [],
   "source": [
    "tb_top_movies"
   ]
  },
  {
   "cell_type": "code",
   "execution_count": null,
   "metadata": {
    "ExecuteTime": {
     "end_time": "2022-01-20T20:14:02.387403Z",
     "start_time": "2022-01-20T20:14:02.380421Z"
    }
   },
   "outputs": [],
   "source": [
    "top_movies = list(tb_top_movies['movie_name'])\n",
    "print(len(top_movies))\n",
    "print(top_movies[0:5])"
   ]
  },
  {
   "cell_type": "code",
   "execution_count": null,
   "metadata": {
    "ExecuteTime": {
     "end_time": "2022-01-20T20:14:04.825300Z",
     "start_time": "2022-01-20T20:14:04.776430Z"
    }
   },
   "outputs": [],
   "source": [
    "results = client.title(top_movies[0])"
   ]
  },
  {
   "cell_type": "code",
   "execution_count": null,
   "metadata": {
    "ExecuteTime": {
     "end_time": "2022-01-20T20:31:30.234623Z",
     "start_time": "2022-01-20T20:31:30.086021Z"
    }
   },
   "outputs": [],
   "source": [
    "results"
   ]
  },
  {
   "cell_type": "code",
   "execution_count": null,
   "metadata": {},
   "outputs": [],
   "source": [
    "# Criar um DataFrame com os dados abaixo para os 100 maiores:\n",
    "# - NOME DO FILME (STRING)\n",
    "# - ANO DE LANÇAMENTO (INTEGER)\n",
    "# - NOTA NO IMDB (FLOAT)\n",
    "# - NOTA NO ROTTEN TOMATOES (FLOAT)\n",
    "# - DURAÇÃO EM MINUTOS (INTEGER)"
   ]
  },
  {
   "cell_type": "markdown",
   "metadata": {},
   "source": [
    "## Spotify"
   ]
  },
  {
   "cell_type": "markdown",
   "metadata": {},
   "source": [
    "Install spotipy: `pip install spotipy`"
   ]
  },
  {
   "cell_type": "markdown",
   "metadata": {},
   "source": [
    "Read its documentation: https://spotipy.readthedocs.io/en/2.17.1/"
   ]
  },
  {
   "cell_type": "markdown",
   "metadata": {
    "ExecuteTime": {
     "end_time": "2020-09-04T21:23:27.745083Z",
     "start_time": "2020-09-04T21:23:27.741113Z"
    }
   },
   "source": [
    "If you read the documentation, it tells you to get your `access key` at https://developer.spotify.com/documentation/web-api/. You can view the `quick-start` tab or follow the guidelines here.\n",
    "\n",
    "- Click on `Dashboard`\n",
    "- Log in to your Spotify account\n",
    "- Create an APP\n",
    "- Collect your `Client ID` and `Client Secret` (click on SHOW CLIENT SECRET)\n",
    "- Click on `Edit Settings` on your app's dashboard\n",
    "    - You have to insert a `redirect_uri` (I've put: https://www.google.com. You can put anything.)\n",
    "- Find your username ID in your profile settings.\n",
    "\n",
    "\n",
    "- Code Samples: https://github.com/plamere/spotipy/tree/master/examples"
   ]
  },
  {
   "cell_type": "code",
   "execution_count": null,
   "metadata": {
    "ExecuteTime": {
     "end_time": "2022-01-20T13:15:16.488780Z",
     "start_time": "2022-01-20T13:15:13.307306Z"
    }
   },
   "outputs": [],
   "source": [
    "!pip install spotipy"
   ]
  },
  {
   "cell_type": "code",
   "execution_count": null,
   "metadata": {
    "ExecuteTime": {
     "end_time": "2022-01-20T20:14:12.344306Z",
     "start_time": "2022-01-20T20:14:12.320342Z"
    }
   },
   "outputs": [],
   "source": [
    "load_dotenv('credentials/key_spotify.env')"
   ]
  },
  {
   "cell_type": "code",
   "execution_count": null,
   "metadata": {
    "ExecuteTime": {
     "end_time": "2022-01-20T20:14:13.140675Z",
     "start_time": "2022-01-20T20:14:12.938206Z"
    }
   },
   "outputs": [],
   "source": [
    "from spotipy import util, oauth2, Spotify"
   ]
  },
  {
   "cell_type": "markdown",
   "metadata": {},
   "source": [
    "### Authentication "
   ]
  },
  {
   "cell_type": "code",
   "execution_count": null,
   "metadata": {
    "ExecuteTime": {
     "end_time": "2022-01-20T20:14:15.219369Z",
     "start_time": "2022-01-20T20:14:15.214384Z"
    }
   },
   "outputs": [],
   "source": [
    "client = Spotify(auth_manager=oauth2.SpotifyClientCredentials(\n",
    "    client_id=os.getenv('CLIENT_ID'), client_secret=os.getenv('CLIENT_SECRET')))"
   ]
  },
  {
   "cell_type": "code",
   "execution_count": null,
   "metadata": {
    "ExecuteTime": {
     "end_time": "2022-01-20T20:14:15.874213Z",
     "start_time": "2022-01-20T20:14:15.855240Z"
    }
   },
   "outputs": [],
   "source": [
    "client"
   ]
  },
  {
   "cell_type": "markdown",
   "metadata": {},
   "source": [
    "### Get Audio Features"
   ]
  },
  {
   "cell_type": "code",
   "execution_count": null,
   "metadata": {
    "ExecuteTime": {
     "end_time": "2022-01-20T20:14:18.918348Z",
     "start_time": "2022-01-20T20:14:18.462411Z"
    }
   },
   "outputs": [],
   "source": [
    "pd.DataFrame(client.audio_features(['https://open.spotify.com/track/4vy2YnIiU37OB7BonhYWgZ?si=c9f97bf9a6494803',\n",
    "                                    'https://open.spotify.com/track/5P9qFmIiMqE6r2UfwVIdIZ?si=4b95ccef589d4924',\n",
    "                                    'https://open.spotify.com/track/7oGwKNBX90dXL53ZbhPxJk?si=8bb44916119a413a',\n",
    "                                    'https://open.spotify.com/track/3u4jdEDB2WmOBIxxpzq44f?si=471e5e610d8646f4']))"
   ]
  },
  {
   "cell_type": "markdown",
   "metadata": {},
   "source": [
    "### Get top tracks given artist URI"
   ]
  },
  {
   "cell_type": "code",
   "execution_count": null,
   "metadata": {
    "ExecuteTime": {
     "end_time": "2022-01-20T20:17:51.489220Z",
     "start_time": "2022-01-20T20:17:51.297283Z"
    }
   },
   "outputs": [],
   "source": [
    "artist = client.artist('6FXMGgJwohJLUSr5nVlf9X')"
   ]
  },
  {
   "cell_type": "code",
   "execution_count": null,
   "metadata": {
    "ExecuteTime": {
     "end_time": "2022-01-20T20:17:54.684492Z",
     "start_time": "2022-01-20T20:17:54.665545Z"
    }
   },
   "outputs": [],
   "source": [
    "artist"
   ]
  },
  {
   "cell_type": "code",
   "execution_count": null,
   "metadata": {
    "ExecuteTime": {
     "end_time": "2022-01-20T20:18:29.780398Z",
     "start_time": "2022-01-20T20:18:29.573320Z"
    }
   },
   "outputs": [],
   "source": [
    "related_artists = client.artist_related_artists('6FXMGgJwohJLUSr5nVlf9X')"
   ]
  },
  {
   "cell_type": "code",
   "execution_count": null,
   "metadata": {
    "ExecuteTime": {
     "end_time": "2022-01-20T20:18:30.310466Z",
     "start_time": "2022-01-20T20:18:30.280547Z"
    }
   },
   "outputs": [],
   "source": [
    "related_artists"
   ]
  },
  {
   "cell_type": "code",
   "execution_count": null,
   "metadata": {
    "ExecuteTime": {
     "end_time": "2022-01-20T20:15:34.504256Z",
     "start_time": "2022-01-20T20:15:34.499272Z"
    }
   },
   "outputs": [],
   "source": [
    "print(related_artists.keys())"
   ]
  },
  {
   "cell_type": "code",
   "execution_count": null,
   "metadata": {
    "ExecuteTime": {
     "end_time": "2022-01-20T20:15:35.003300Z",
     "start_time": "2022-01-20T20:15:34.995332Z"
    }
   },
   "outputs": [],
   "source": [
    "type(related_artists['artists'])"
   ]
  },
  {
   "cell_type": "code",
   "execution_count": null,
   "metadata": {
    "ExecuteTime": {
     "end_time": "2022-01-20T20:18:44.622203Z",
     "start_time": "2022-01-20T20:18:44.615220Z"
    }
   },
   "outputs": [],
   "source": [
    "related_artists['artists'][0]"
   ]
  },
  {
   "cell_type": "code",
   "execution_count": null,
   "metadata": {
    "ExecuteTime": {
     "end_time": "2022-01-20T20:19:11.966242Z",
     "start_time": "2022-01-20T20:19:11.948260Z"
    }
   },
   "outputs": [],
   "source": [
    "related_artists['artists'][0]['name']"
   ]
  },
  {
   "cell_type": "code",
   "execution_count": null,
   "metadata": {
    "ExecuteTime": {
     "end_time": "2022-01-20T20:19:16.238382Z",
     "start_time": "2022-01-20T20:19:16.222426Z"
    }
   },
   "outputs": [],
   "source": [
    "[artist['name'] for artist in related_artists['artists']]"
   ]
  },
  {
   "cell_type": "code",
   "execution_count": null,
   "metadata": {
    "ExecuteTime": {
     "end_time": "2022-01-20T20:19:29.951315Z",
     "start_time": "2022-01-20T20:19:29.743435Z"
    }
   },
   "outputs": [],
   "source": [
    "top_tracks = client.artist_top_tracks('6FXMGgJwohJLUSr5nVlf9X')\n",
    "top_tracks"
   ]
  },
  {
   "cell_type": "code",
   "execution_count": null,
   "metadata": {
    "ExecuteTime": {
     "end_time": "2022-01-20T20:19:39.199432Z",
     "start_time": "2022-01-20T20:19:39.193449Z"
    }
   },
   "outputs": [],
   "source": [
    "top_tracks.keys()"
   ]
  },
  {
   "cell_type": "code",
   "execution_count": null,
   "metadata": {
    "ExecuteTime": {
     "end_time": "2022-01-20T20:19:52.910247Z",
     "start_time": "2022-01-20T20:19:52.895279Z"
    }
   },
   "outputs": [],
   "source": [
    "type(top_tracks['tracks'])"
   ]
  },
  {
   "cell_type": "code",
   "execution_count": null,
   "metadata": {
    "ExecuteTime": {
     "end_time": "2022-01-20T20:22:45.683149Z",
     "start_time": "2022-01-20T20:22:45.668196Z"
    }
   },
   "outputs": [],
   "source": [
    "top_tracks['tracks'][0]"
   ]
  },
  {
   "cell_type": "code",
   "execution_count": null,
   "metadata": {
    "ExecuteTime": {
     "end_time": "2022-01-20T20:20:08.237315Z",
     "start_time": "2022-01-20T20:20:08.220362Z"
    }
   },
   "outputs": [],
   "source": [
    "top_tracks['tracks'][0].keys()"
   ]
  },
  {
   "cell_type": "code",
   "execution_count": null,
   "metadata": {
    "ExecuteTime": {
     "end_time": "2022-01-20T20:22:50.755068Z",
     "start_time": "2022-01-20T20:22:50.738113Z"
    }
   },
   "outputs": [],
   "source": [
    "top_tracks['tracks'][0]['name']"
   ]
  },
  {
   "cell_type": "code",
   "execution_count": null,
   "metadata": {
    "ExecuteTime": {
     "end_time": "2022-01-20T20:22:53.264142Z",
     "start_time": "2022-01-20T20:22:53.249153Z"
    }
   },
   "outputs": [],
   "source": [
    "top_tracks['tracks'][0]['popularity']"
   ]
  },
  {
   "cell_type": "code",
   "execution_count": null,
   "metadata": {
    "ExecuteTime": {
     "end_time": "2022-01-20T20:22:55.120349Z",
     "start_time": "2022-01-20T20:22:55.101387Z"
    }
   },
   "outputs": [],
   "source": [
    "top_tracks['tracks'][0]['uri']"
   ]
  },
  {
   "cell_type": "code",
   "execution_count": null,
   "metadata": {
    "ExecuteTime": {
     "end_time": "2022-01-20T20:23:10.663953Z",
     "start_time": "2022-01-20T20:23:10.469263Z"
    }
   },
   "outputs": [],
   "source": [
    "pd.DataFrame(client.audio_features([top_tracks['tracks'][0]['uri']]))"
   ]
  },
  {
   "cell_type": "code",
   "execution_count": null,
   "metadata": {},
   "outputs": [],
   "source": [
    "# Extrair as audio features das 10 maiores faixas de cada artista na lista de clientes.\n",
    "# - NOME CLIENTE (String)\n",
    "# - NOME FAIXA (String)\n",
    "# - POPULARIDADE ARTISTA (Integer)\n",
    "# - POPULARIDADE FAIXA (Integer)\n",
    "# - DANCEABILITY (Float)\n",
    "# - ENERGY (Float)\n",
    "# - TEMPO (Float)\n",
    "# - DURAÇÃO em MINUTOS (Float)\n",
    "\n",
    "lista_clientes = [\n",
    "    '6kBDZFXuLrZgHnvmPu9NsG',\n",
    "    '2VAvhf61GgLYmC6C8anyX1',\n",
    "    '7AiamoV760pPGGM5PbOC6X'\n",
    "]"
   ]
  }
 ],
 "metadata": {
  "hide_input": false,
  "kernelspec": {
   "display_name": "Python 3 (ipykernel)",
   "language": "python",
   "name": "python3"
  },
  "language_info": {
   "codemirror_mode": {
    "name": "ipython",
    "version": 3
   },
   "file_extension": ".py",
   "mimetype": "text/x-python",
   "name": "python",
   "nbconvert_exporter": "python",
   "pygments_lexer": "ipython3",
   "version": "3.8.11"
  },
  "toc": {
   "base_numbering": 1,
   "nav_menu": {},
   "number_sections": true,
   "sideBar": true,
   "skip_h1_title": false,
   "title_cell": "Table of Contents",
   "title_sidebar": "Contents",
   "toc_cell": false,
   "toc_position": {},
   "toc_section_display": true,
   "toc_window_display": false
  },
  "varInspector": {
   "cols": {
    "lenName": 16,
    "lenType": 16,
    "lenVar": 40
   },
   "kernels_config": {
    "python": {
     "delete_cmd_postfix": "",
     "delete_cmd_prefix": "del ",
     "library": "var_list.py",
     "varRefreshCmd": "print(var_dic_list())"
    },
    "r": {
     "delete_cmd_postfix": ") ",
     "delete_cmd_prefix": "rm(",
     "library": "var_list.r",
     "varRefreshCmd": "cat(var_dic_list()) "
    }
   },
   "types_to_exclude": [
    "module",
    "function",
    "builtin_function_or_method",
    "instance",
    "_Feature"
   ],
   "window_display": false
  }
 },
 "nbformat": 4,
 "nbformat_minor": 4
}
