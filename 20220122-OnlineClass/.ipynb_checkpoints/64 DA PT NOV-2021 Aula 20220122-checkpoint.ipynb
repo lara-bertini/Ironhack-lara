{
 "cells": [
  {
   "cell_type": "code",
   "execution_count": 1,
   "metadata": {},
   "outputs": [
    {
     "name": "stdout",
     "output_type": "stream",
     "text": [
      "Collecting bs4\n",
      "  Downloading bs4-0.0.1.tar.gz (1.1 kB)\n",
      "Collecting beautifulsoup4\n",
      "  Downloading beautifulsoup4-4.10.0-py3-none-any.whl (97 kB)\n",
      "Collecting soupsieve>1.2\n",
      "  Downloading soupsieve-2.3.1-py3-none-any.whl (37 kB)\n",
      "Building wheels for collected packages: bs4\n",
      "  Building wheel for bs4 (setup.py): started\n",
      "  Building wheel for bs4 (setup.py): finished with status 'done'\n",
      "  Created wheel for bs4: filename=bs4-0.0.1-py3-none-any.whl size=1271 sha256=9ab0e50993ffdb8f27f80a8f4f0c23786adf1c02f22d34dce7fbfe487c1c8b13\n",
      "  Stored in directory: c:\\users\\lara\\appdata\\local\\pip\\cache\\wheels\\75\\78\\21\\68b124549c9bdc94f822c02fb9aa3578a669843f9767776bca\n",
      "Successfully built bs4\n",
      "Installing collected packages: soupsieve, beautifulsoup4, bs4\n",
      "Successfully installed beautifulsoup4-4.10.0 bs4-0.0.1 soupsieve-2.3.1\n"
     ]
    }
   ],
   "source": [
    "!pip3 install bs4"
   ]
  },
  {
   "cell_type": "code",
   "execution_count": 2,
   "metadata": {
    "ExecuteTime": {
     "end_time": "2022-01-22T10:15:15.285675Z",
     "start_time": "2022-01-22T10:15:14.722874Z"
    },
    "scrolled": true
   },
   "outputs": [],
   "source": [
    "import pandas as pd\n",
    "import numpy as np\n",
    "import requests\n",
    "from bs4 import BeautifulSoup"
   ]
  },
  {
   "cell_type": "markdown",
   "metadata": {},
   "source": [
    "# The url to scrape"
   ]
  },
  {
   "cell_type": "code",
   "execution_count": null,
   "metadata": {
    "ExecuteTime": {
     "end_time": "2022-01-22T10:15:18.136225Z",
     "start_time": "2022-01-22T10:15:18.120246Z"
    }
   },
   "outputs": [],
   "source": [
    "url = 'https://www.uol.com.br/esporte/futebol/ultimas-noticias/2022/01/22/em-1995-decisao-na-base-entre-palmeiras-x-sp-terminou-em-morte-no-pacaembu.htm'"
   ]
  },
  {
   "cell_type": "markdown",
   "metadata": {},
   "source": [
    "# Get the response"
   ]
  },
  {
   "cell_type": "code",
   "execution_count": null,
   "metadata": {
    "ExecuteTime": {
     "end_time": "2022-01-22T10:15:20.487074Z",
     "start_time": "2022-01-22T10:15:20.362556Z"
    }
   },
   "outputs": [],
   "source": [
    "# Your code here!\n",
    "response = requests.get(url)"
   ]
  },
  {
   "cell_type": "code",
   "execution_count": null,
   "metadata": {
    "ExecuteTime": {
     "end_time": "2022-01-22T10:15:21.235207Z",
     "start_time": "2022-01-22T10:15:21.225236Z"
    }
   },
   "outputs": [],
   "source": [
    "html_str = response.text\n",
    "type(html_str)"
   ]
  },
  {
   "cell_type": "code",
   "execution_count": null,
   "metadata": {
    "ExecuteTime": {
     "end_time": "2022-01-22T10:15:24.194540Z",
     "start_time": "2022-01-22T10:15:24.164594Z"
    }
   },
   "outputs": [],
   "source": [
    "html_str"
   ]
  },
  {
   "cell_type": "markdown",
   "metadata": {},
   "source": [
    "# Get the html"
   ]
  },
  {
   "cell_type": "code",
   "execution_count": null,
   "metadata": {
    "ExecuteTime": {
     "end_time": "2022-01-22T10:15:29.264285Z",
     "start_time": "2022-01-22T10:15:29.246334Z"
    }
   },
   "outputs": [],
   "source": [
    "# Your code here!\n",
    "html_bytes = response.content\n",
    "type(html_bytes)"
   ]
  },
  {
   "cell_type": "code",
   "execution_count": null,
   "metadata": {
    "ExecuteTime": {
     "end_time": "2022-01-22T10:15:32.373987Z",
     "start_time": "2022-01-22T10:15:32.358007Z"
    }
   },
   "outputs": [],
   "source": [
    "html_bytes"
   ]
  },
  {
   "cell_type": "markdown",
   "metadata": {},
   "source": [
    "# Do the soup"
   ]
  },
  {
   "cell_type": "code",
   "execution_count": null,
   "metadata": {
    "ExecuteTime": {
     "end_time": "2022-01-22T10:15:39.306197Z",
     "start_time": "2022-01-22T10:15:39.244274Z"
    }
   },
   "outputs": [],
   "source": [
    "soup = BeautifulSoup(html_bytes)"
   ]
  },
  {
   "cell_type": "code",
   "execution_count": null,
   "metadata": {
    "ExecuteTime": {
     "end_time": "2022-01-22T10:15:42.161040Z",
     "start_time": "2022-01-22T10:15:42.056293Z"
    }
   },
   "outputs": [],
   "source": [
    "soup"
   ]
  },
  {
   "cell_type": "code",
   "execution_count": null,
   "metadata": {
    "ExecuteTime": {
     "end_time": "2022-01-22T10:15:47.499459Z",
     "start_time": "2022-01-22T10:15:47.492478Z"
    }
   },
   "outputs": [],
   "source": [
    "type(soup)"
   ]
  },
  {
   "cell_type": "code",
   "execution_count": null,
   "metadata": {
    "ExecuteTime": {
     "end_time": "2022-01-22T10:16:02.845397Z",
     "start_time": "2022-01-22T10:16:02.798497Z"
    }
   },
   "outputs": [],
   "source": [
    "print(soup.prettify())"
   ]
  },
  {
   "cell_type": "markdown",
   "metadata": {},
   "source": [
    "# With the soup, you'll be able to walk through the HTML tree. \n",
    "## Looking for tag h1"
   ]
  },
  {
   "cell_type": "code",
   "execution_count": null,
   "metadata": {
    "ExecuteTime": {
     "end_time": "2022-01-22T10:16:26.280047Z",
     "start_time": "2022-01-22T10:16:26.263105Z"
    }
   },
   "outputs": [],
   "source": [
    "soup.find_all('h1')[0]"
   ]
  },
  {
   "cell_type": "code",
   "execution_count": null,
   "metadata": {
    "ExecuteTime": {
     "end_time": "2022-01-22T10:16:27.393939Z",
     "start_time": "2022-01-22T10:16:27.388953Z"
    }
   },
   "outputs": [],
   "source": [
    "headers = soup.find_all('h1')"
   ]
  },
  {
   "cell_type": "code",
   "execution_count": null,
   "metadata": {
    "ExecuteTime": {
     "end_time": "2022-01-22T10:16:47.788731Z",
     "start_time": "2022-01-22T10:16:47.783774Z"
    }
   },
   "outputs": [],
   "source": [
    "headers"
   ]
  },
  {
   "cell_type": "code",
   "execution_count": null,
   "metadata": {
    "ExecuteTime": {
     "end_time": "2022-01-22T10:31:39.971986Z",
     "start_time": "2022-01-22T10:31:39.959990Z"
    }
   },
   "outputs": [],
   "source": [
    "header = headers[0]"
   ]
  },
  {
   "cell_type": "code",
   "execution_count": null,
   "metadata": {
    "ExecuteTime": {
     "end_time": "2022-01-22T10:31:48.325934Z",
     "start_time": "2022-01-22T10:31:48.312941Z"
    }
   },
   "outputs": [],
   "source": [
    "header.text"
   ]
  },
  {
   "cell_type": "code",
   "execution_count": null,
   "metadata": {
    "ExecuteTime": {
     "end_time": "2022-01-22T10:31:52.125967Z",
     "start_time": "2022-01-22T10:31:52.107013Z"
    }
   },
   "outputs": [],
   "source": [
    "type(header)"
   ]
  },
  {
   "cell_type": "markdown",
   "metadata": {},
   "source": [
    "## Looking for tag a"
   ]
  },
  {
   "cell_type": "code",
   "execution_count": null,
   "metadata": {
    "ExecuteTime": {
     "end_time": "2022-01-22T10:33:29.624986Z",
     "start_time": "2022-01-22T10:33:29.618009Z"
    },
    "scrolled": true
   },
   "outputs": [],
   "source": [
    "# Your code here!\n",
    "tag_a = soup.find_all('a')"
   ]
  },
  {
   "cell_type": "code",
   "execution_count": null,
   "metadata": {
    "ExecuteTime": {
     "end_time": "2022-01-22T10:33:31.586082Z",
     "start_time": "2022-01-22T10:33:31.547187Z"
    }
   },
   "outputs": [],
   "source": [
    "tag_a"
   ]
  },
  {
   "cell_type": "code",
   "execution_count": null,
   "metadata": {
    "ExecuteTime": {
     "end_time": "2022-01-22T10:33:49.710121Z",
     "start_time": "2022-01-22T10:33:49.706131Z"
    }
   },
   "outputs": [],
   "source": [
    "first_link = tag_a[0]"
   ]
  },
  {
   "cell_type": "code",
   "execution_count": null,
   "metadata": {
    "ExecuteTime": {
     "end_time": "2022-01-22T10:33:50.364949Z",
     "start_time": "2022-01-22T10:33:50.352954Z"
    }
   },
   "outputs": [],
   "source": [
    "first_link"
   ]
  },
  {
   "cell_type": "code",
   "execution_count": null,
   "metadata": {
    "ExecuteTime": {
     "end_time": "2022-01-22T10:34:03.566635Z",
     "start_time": "2022-01-22T10:34:03.558658Z"
    }
   },
   "outputs": [],
   "source": [
    "first_link.attrs"
   ]
  },
  {
   "cell_type": "code",
   "execution_count": null,
   "metadata": {
    "ExecuteTime": {
     "end_time": "2022-01-22T10:34:36.042957Z",
     "start_time": "2022-01-22T10:34:36.030989Z"
    }
   },
   "outputs": [],
   "source": [
    "first_link['href']"
   ]
  },
  {
   "cell_type": "code",
   "execution_count": null,
   "metadata": {
    "ExecuteTime": {
     "end_time": "2022-01-22T10:34:46.008036Z",
     "start_time": "2022-01-22T10:34:45.980111Z"
    }
   },
   "outputs": [],
   "source": [
    "[tag['href'] for tag in tag_a]"
   ]
  },
  {
   "cell_type": "code",
   "execution_count": null,
   "metadata": {
    "ExecuteTime": {
     "end_time": "2022-01-22T10:40:59.308731Z",
     "start_time": "2022-01-22T10:40:59.302752Z"
    }
   },
   "outputs": [],
   "source": [
    "results = []\n",
    "for tag in tag_a:\n",
    "    try:\n",
    "        results.append(tag['href'])\n",
    "    except KeyError:\n",
    "        continue"
   ]
  },
  {
   "cell_type": "code",
   "execution_count": null,
   "metadata": {
    "ExecuteTime": {
     "end_time": "2022-01-22T10:41:02.944697Z",
     "start_time": "2022-01-22T10:41:02.932726Z"
    }
   },
   "outputs": [],
   "source": [
    "results"
   ]
  },
  {
   "cell_type": "markdown",
   "metadata": {},
   "source": [
    "## Searching for a list of tags"
   ]
  },
  {
   "cell_type": "code",
   "execution_count": null,
   "metadata": {
    "ExecuteTime": {
     "end_time": "2022-01-22T10:43:24.582137Z",
     "start_time": "2022-01-22T10:43:24.558198Z"
    }
   },
   "outputs": [],
   "source": [
    "# Your code here!\n",
    "tags = soup.find_all(['h1', 'h2', 'h3'])"
   ]
  },
  {
   "cell_type": "code",
   "execution_count": null,
   "metadata": {
    "ExecuteTime": {
     "end_time": "2022-01-22T10:43:29.176482Z",
     "start_time": "2022-01-22T10:43:29.171494Z"
    }
   },
   "outputs": [],
   "source": [
    "results = [tag.text for tag in tags]\n",
    "len(results)"
   ]
  },
  {
   "cell_type": "code",
   "execution_count": null,
   "metadata": {
    "ExecuteTime": {
     "end_time": "2022-01-22T10:43:32.918577Z",
     "start_time": "2022-01-22T10:43:32.898630Z"
    }
   },
   "outputs": [],
   "source": [
    "results"
   ]
  },
  {
   "cell_type": "code",
   "execution_count": null,
   "metadata": {
    "ExecuteTime": {
     "end_time": "2022-01-22T10:43:55.424439Z",
     "start_time": "2022-01-22T10:43:55.402475Z"
    }
   },
   "outputs": [],
   "source": [
    "tags = soup.find_all(['article'])\n",
    "len(tags)"
   ]
  },
  {
   "cell_type": "code",
   "execution_count": null,
   "metadata": {
    "ExecuteTime": {
     "end_time": "2022-01-22T10:43:57.591897Z",
     "start_time": "2022-01-22T10:43:57.583890Z"
    }
   },
   "outputs": [],
   "source": [
    "tags[0].text"
   ]
  },
  {
   "cell_type": "code",
   "execution_count": null,
   "metadata": {
    "ExecuteTime": {
     "end_time": "2022-01-22T10:44:19.661193Z",
     "start_time": "2022-01-22T10:44:19.638254Z"
    }
   },
   "outputs": [],
   "source": [
    "# Your code here!\n",
    "tags = soup.find(['article'])"
   ]
  },
  {
   "cell_type": "code",
   "execution_count": null,
   "metadata": {
    "ExecuteTime": {
     "end_time": "2022-01-22T10:44:20.063595Z",
     "start_time": "2022-01-22T10:44:20.056584Z"
    }
   },
   "outputs": [],
   "source": [
    "tags.text"
   ]
  },
  {
   "cell_type": "markdown",
   "metadata": {},
   "source": [
    "# Another example"
   ]
  },
  {
   "cell_type": "markdown",
   "metadata": {},
   "source": [
    "<ol>\n",
    "    <li> request the url </li>\n",
    "    <li> get its html </li>\n",
    "    <li> convert to soup </li>\n",
    "    <li> being a soup, we can look for tags </li>\n",
    "</ol>\n",
    "    "
   ]
  },
  {
   "cell_type": "code",
   "execution_count": 3,
   "metadata": {
    "ExecuteTime": {
     "end_time": "2022-01-22T10:44:45.359541Z",
     "start_time": "2022-01-22T10:44:45.353531Z"
    }
   },
   "outputs": [],
   "source": [
    "# Your code here!\n",
    "url = 'https://en.wikipedia.org/wiki/List_of_European_countries_by_life_expectancy'"
   ]
  },
  {
   "cell_type": "code",
   "execution_count": 4,
   "metadata": {
    "ExecuteTime": {
     "end_time": "2022-01-22T10:44:46.587608Z",
     "start_time": "2022-01-22T10:44:45.951604Z"
    }
   },
   "outputs": [],
   "source": [
    "# Your code here!\n",
    "response = requests.get(url)\n",
    "html = response.text"
   ]
  },
  {
   "cell_type": "code",
   "execution_count": 5,
   "metadata": {
    "ExecuteTime": {
     "end_time": "2022-01-22T10:44:48.698505Z",
     "start_time": "2022-01-22T10:44:48.653418Z"
    }
   },
   "outputs": [],
   "source": [
    "soup = BeautifulSoup(html)"
   ]
  },
  {
   "cell_type": "markdown",
   "metadata": {},
   "source": [
    "## Extraindo a tabela ('table')"
   ]
  },
  {
   "cell_type": "code",
   "execution_count": 6,
   "metadata": {
    "ExecuteTime": {
     "end_time": "2022-01-22T10:49:18.436081Z",
     "start_time": "2022-01-22T10:49:18.427106Z"
    }
   },
   "outputs": [],
   "source": [
    "table_wiki_raw = soup.find('table', attrs={'class': 'sortable wikitable'})"
   ]
  },
  {
   "cell_type": "code",
   "execution_count": 7,
   "metadata": {
    "ExecuteTime": {
     "end_time": "2022-01-22T10:49:29.545764Z",
     "start_time": "2022-01-22T10:49:29.539805Z"
    }
   },
   "outputs": [
    {
     "data": {
      "text/plain": [
       "bs4.element.Tag"
      ]
     },
     "execution_count": 7,
     "metadata": {},
     "output_type": "execute_result"
    }
   ],
   "source": [
    "type(table_wiki_raw)"
   ]
  },
  {
   "cell_type": "code",
   "execution_count": 8,
   "metadata": {
    "ExecuteTime": {
     "end_time": "2022-01-22T10:49:36.026104Z",
     "start_time": "2022-01-22T10:49:36.010173Z"
    }
   },
   "outputs": [
    {
     "name": "stdout",
     "output_type": "stream",
     "text": [
      "<table class=\"sortable wikitable\">\n",
      "<tbody><tr bgcolor=\"#efefef\">\n",
      "<th>Rank\n",
      "</th>\n",
      "<th>Country</th>\n",
      "<th><a href=\"/wiki/List_of_countries_by_life_expectancy\" title=\"List of countries by life expectancy\">Life expectancy</a><sup class=\"reference\" id=\"cite_ref-:0_1-1\"><a href=\"#cite_note-:0-1\">[1]</a></sup>\n",
      "</th>\n",
      "<th>Influenza vaccination rate, people aged 65 and over, 2016 (%)<sup class=\"reference\" id=\"cite_ref-2\"><a href=\"#cite_note-2\">[2]</a></sup>\n",
      "</th></tr>\n",
      "<tr>\n",
      "<td>1\n",
      "</td>\n",
      "<td><span class=\"flagicon\"><img alt=\"\" class=\"thumbborder\" data-file-height=\"800\" data-file-width=\"1000\" decoding=\"async\" height=\"15\" src=\"//upload.wikimedia.org/wikipedia/commons/thumb/e/ea/Flag_of_Monaco.svg/19px-Flag_of_Monaco.svg.png\" srcset=\"//upload.wikimedia.org/wikipedia/commons/thumb/e/ea/Flag_of_Monaco.svg/29px-Flag_of_Monaco.svg.png 1.5x, //upload.wikimedia.org/wikipedia/commons/thumb/e/ea/Flag_of_Monaco.svg/38px-Flag_of_Monaco.svg.png 2x\" width=\"19\"/> </span><a href=\"/wiki/Monaco\" title=\"Monaco\">Monaco</a><sup class=\"reference\" id=\"cite_ref-3\"><a href=\"#cite_note-3\">[3]</a></sup>\n",
      "</td>\n",
      "<td>89.4\n",
      "</td>\n",
      "<td>\n",
      "</td></tr>\n",
      "<tr>\n",
      "<td>2\n",
      "</td>\n",
      "<td><span class=\"flagicon\"><img alt=\"\" class=\"thumbborder\" data-file-height=\"600\" data-file-width=\"800\" decoding=\"async\" height=\"15\" src=\"//upload.wikimedia.org/wikipedia/commons/thumb/b/b1/Flag_of_San_Marino.svg/20px-Flag_of_San_Marino.svg.png\" srcset=\"//upload.wikimedia.org/wikipedia/commons/thumb/b/b1/Flag_of_San_Marino.svg/31px-Flag_of_San_Marino.svg.png 1.5x, //upload.wikimedia.org/wikipedia/commons/thumb/b/b1/Flag_of_San_Marino.svg/40px-Flag_of_San_Marino.svg.png 2x\" width=\"20\"/> </span><a href=\"/wiki/San_Marino\" title=\"San Marino\">San Marino</a><sup class=\"reference\" id=\"cite_ref-4\"><a href=\"#cite_note-4\">[4]</a></sup>\n",
      "</td>\n",
      "<td>83.4\n",
      "</td>\n",
      "<td>\n",
      "</td></tr>\n",
      "<tr>\n",
      "<td>3\n",
      "</td>\n",
      "<td><span class=\"flagicon\"><img alt=\"\" class=\"thumbborder\" data-file-height=\"512\" data-file-width=\"512\" decoding=\"async\" height=\"16\" src=\"//upload.wikimedia.org/wikipedia/commons/thumb/f/f3/Flag_of_Switzerland.svg/16px-Flag_of_Switzerland.svg.png\" srcset=\"//upload.wikimedia.org/wikipedia/commons/thumb/f/f3/Flag_of_Switzerland.svg/24px-Flag_of_Switzerland.svg.png 1.5x, //upload.wikimedia.org/wikipedia/commons/thumb/f/f3/Flag_of_Switzerland.svg/32px-Flag_of_Switzerland.svg.png 2x\" width=\"16\"/>  </span><a href=\"/wiki/Switzerland\" title=\"Switzerland\">Switzerland</a></td>\n",
      "<td>83.0\n",
      "</td>\n",
      "<td>\n",
      "</td></tr>\n",
      "<tr>\n",
      "<td>4\n",
      "</td>\n",
      "<td><span class=\"flagicon\"><img alt=\"\" class=\"thumbborder\" data-file-height=\"500\" data-file-width=\"750\" decoding=\"async\" height=\"15\" src=\"//upload.wikimedia.org/wikipedia/en/thumb/9/9a/Flag_of_Spain.svg/23px-Flag_of_Spain.svg.png\" srcset=\"//upload.wikimedia.org/wikipedia/en/thumb/9/9a/Flag_of_Spain.svg/35px-Flag_of_Spain.svg.png 1.5x, //upload.wikimedia.org/wikipedia/en/thumb/9/9a/Flag_of_Spain.svg/45px-Flag_of_Spain.svg.png 2x\" width=\"23\"/> </span><a href=\"/wiki/Spain\" title=\"Spain\">Spain</a></td>\n",
      "<td>82.8\n",
      "</td>\n",
      "<td>56%\n",
      "</td></tr>\n",
      "<tr>\n",
      "<td>5\n",
      "</td>\n",
      "<td><span class=\"flagicon\"><img alt=\"\" class=\"thumbborder\" data-file-height=\"600\" data-file-width=\"1000\" decoding=\"async\" height=\"14\" src=\"//upload.wikimedia.org/wikipedia/commons/thumb/4/47/Flag_of_Liechtenstein.svg/23px-Flag_of_Liechtenstein.svg.png\" srcset=\"//upload.wikimedia.org/wikipedia/commons/thumb/4/47/Flag_of_Liechtenstein.svg/35px-Flag_of_Liechtenstein.svg.png 1.5x, //upload.wikimedia.org/wikipedia/commons/thumb/4/47/Flag_of_Liechtenstein.svg/46px-Flag_of_Liechtenstein.svg.png 2x\" width=\"23\"/> </span><a href=\"/wiki/Liechtenstein\" title=\"Liechtenstein\">Liechtenstein</a></td>\n",
      "<td>82.7\n",
      "</td>\n",
      "<td>28%\n",
      "</td></tr>\n",
      "<tr>\n",
      "<td>6\n",
      "</td>\n",
      "<td><span class=\"flagicon\"><img alt=\"\" class=\"thumbborder\" data-file-height=\"1000\" data-file-width=\"1500\" decoding=\"async\" height=\"15\" src=\"//upload.wikimedia.org/wikipedia/en/thumb/0/03/Flag_of_Italy.svg/23px-Flag_of_Italy.svg.png\" srcset=\"//upload.wikimedia.org/wikipedia/en/thumb/0/03/Flag_of_Italy.svg/35px-Flag_of_Italy.svg.png 1.5x, //upload.wikimedia.org/wikipedia/en/thumb/0/03/Flag_of_Italy.svg/45px-Flag_of_Italy.svg.png 2x\" width=\"23\"/> </span><a href=\"/wiki/Italy\" title=\"Italy\">Italy</a></td>\n",
      "<td>82.7\n",
      "</td>\n",
      "<td>50%\n",
      "</td></tr>\n",
      "<tr>\n",
      "<td>7\n",
      "</td>\n",
      "<td><span class=\"flagicon\"><img alt=\"\" class=\"thumbborder\" data-file-height=\"372\" data-file-width=\"512\" decoding=\"async\" height=\"15\" src=\"//upload.wikimedia.org/wikipedia/commons/thumb/d/d9/Flag_of_Norway.svg/21px-Flag_of_Norway.svg.png\" srcset=\"//upload.wikimedia.org/wikipedia/commons/thumb/d/d9/Flag_of_Norway.svg/32px-Flag_of_Norway.svg.png 1.5x, //upload.wikimedia.org/wikipedia/commons/thumb/d/d9/Flag_of_Norway.svg/41px-Flag_of_Norway.svg.png 2x\" width=\"21\"/> </span><a href=\"/wiki/Norway\" title=\"Norway\">Norway</a></td>\n",
      "<td>82.5\n",
      "</td>\n",
      "<td>38%\n",
      "</td></tr>\n",
      "<tr>\n",
      "<td>8\n",
      "</td>\n",
      "<td><span class=\"flagicon\"><img alt=\"\" class=\"thumbborder\" data-file-height=\"900\" data-file-width=\"1250\" decoding=\"async\" height=\"15\" src=\"//upload.wikimedia.org/wikipedia/commons/thumb/c/ce/Flag_of_Iceland.svg/21px-Flag_of_Iceland.svg.png\" srcset=\"//upload.wikimedia.org/wikipedia/commons/thumb/c/ce/Flag_of_Iceland.svg/32px-Flag_of_Iceland.svg.png 1.5x, //upload.wikimedia.org/wikipedia/commons/thumb/c/ce/Flag_of_Iceland.svg/42px-Flag_of_Iceland.svg.png 2x\" width=\"21\"/> </span><a href=\"/wiki/Iceland\" title=\"Iceland\">Iceland</a></td>\n",
      "<td>82.5\n",
      "</td>\n",
      "<td>47%\n",
      "</td></tr>\n",
      "<tr>\n",
      "<td>9\n",
      "</td>\n",
      "<td><span class=\"flagicon\"><img alt=\"\" class=\"thumbborder\" data-file-height=\"600\" data-file-width=\"1000\" decoding=\"async\" height=\"14\" src=\"//upload.wikimedia.org/wikipedia/commons/thumb/d/da/Flag_of_Luxembourg.svg/23px-Flag_of_Luxembourg.svg.png\" srcset=\"//upload.wikimedia.org/wikipedia/commons/thumb/d/da/Flag_of_Luxembourg.svg/35px-Flag_of_Luxembourg.svg.png 1.5x, //upload.wikimedia.org/wikipedia/commons/thumb/d/da/Flag_of_Luxembourg.svg/46px-Flag_of_Luxembourg.svg.png 2x\" width=\"23\"/> </span><a href=\"/wiki/Luxembourg\" title=\"Luxembourg\">Luxembourg</a></td>\n",
      "<td>82.3\n",
      "</td>\n",
      "<td>38%\n",
      "</td></tr>\n",
      "<tr>\n",
      "<td>10\n",
      "</td>\n",
      "<td><span class=\"flagicon\"><img alt=\"\" class=\"thumbborder\" data-file-height=\"600\" data-file-width=\"900\" decoding=\"async\" height=\"15\" src=\"//upload.wikimedia.org/wikipedia/en/thumb/c/c3/Flag_of_France.svg/23px-Flag_of_France.svg.png\" srcset=\"//upload.wikimedia.org/wikipedia/en/thumb/c/c3/Flag_of_France.svg/35px-Flag_of_France.svg.png 1.5x, //upload.wikimedia.org/wikipedia/en/thumb/c/c3/Flag_of_France.svg/45px-Flag_of_France.svg.png 2x\" width=\"23\"/> </span><a href=\"/wiki/France\" title=\"France\">France</a></td>\n",
      "<td>82.3\n",
      "</td>\n",
      "<td>50%\n",
      "</td></tr>\n",
      "<tr>\n",
      "<td>11\n",
      "</td>\n",
      "<td><span class=\"flagicon\"><img alt=\"\" class=\"thumbborder\" data-file-height=\"1000\" data-file-width=\"1600\" decoding=\"async\" height=\"14\" src=\"//upload.wikimedia.org/wikipedia/en/thumb/4/4c/Flag_of_Sweden.svg/23px-Flag_of_Sweden.svg.png\" srcset=\"//upload.wikimedia.org/wikipedia/en/thumb/4/4c/Flag_of_Sweden.svg/35px-Flag_of_Sweden.svg.png 1.5x, //upload.wikimedia.org/wikipedia/en/thumb/4/4c/Flag_of_Sweden.svg/46px-Flag_of_Sweden.svg.png 2x\" width=\"23\"/> </span><a href=\"/wiki/Sweden\" title=\"Sweden\">Sweden</a></td>\n",
      "<td>82.2\n",
      "</td>\n",
      "<td>49%\n",
      "</td></tr>\n",
      "<tr>\n",
      "<td>12\n",
      "</td>\n",
      "<td><span class=\"flagicon\"><img alt=\"\" class=\"thumbborder\" data-file-height=\"600\" data-file-width=\"900\" decoding=\"async\" height=\"15\" src=\"//upload.wikimedia.org/wikipedia/commons/thumb/7/73/Flag_of_Malta.svg/23px-Flag_of_Malta.svg.png\" srcset=\"//upload.wikimedia.org/wikipedia/commons/thumb/7/73/Flag_of_Malta.svg/35px-Flag_of_Malta.svg.png 1.5x, //upload.wikimedia.org/wikipedia/commons/thumb/7/73/Flag_of_Malta.svg/45px-Flag_of_Malta.svg.png 2x\" width=\"23\"/> </span><a href=\"/wiki/Malta\" title=\"Malta\">Malta</a></td>\n",
      "<td>81.8\n",
      "</td>\n",
      "<td>\n",
      "</td></tr>\n",
      "<tr>\n",
      "<td>13\n",
      "</td>\n",
      "<td><span class=\"flagicon\"><img alt=\"\" class=\"thumbborder\" data-file-height=\"1100\" data-file-width=\"1800\" decoding=\"async\" height=\"14\" src=\"//upload.wikimedia.org/wikipedia/commons/thumb/b/bc/Flag_of_Finland.svg/23px-Flag_of_Finland.svg.png\" srcset=\"//upload.wikimedia.org/wikipedia/commons/thumb/b/bc/Flag_of_Finland.svg/35px-Flag_of_Finland.svg.png 1.5x, //upload.wikimedia.org/wikipedia/commons/thumb/b/bc/Flag_of_Finland.svg/46px-Flag_of_Finland.svg.png 2x\" width=\"23\"/> </span><a href=\"/wiki/Finland\" title=\"Finland\">Finland</a></td>\n",
      "<td>81.8\n",
      "</td>\n",
      "<td>47%\n",
      "</td></tr>\n",
      "<tr>\n",
      "<td>14\n",
      "</td>\n",
      "<td><span class=\"flagicon\"><img alt=\"\" class=\"thumbborder\" data-file-height=\"600\" data-file-width=\"1200\" decoding=\"async\" height=\"12\" src=\"//upload.wikimedia.org/wikipedia/commons/thumb/4/45/Flag_of_Ireland.svg/23px-Flag_of_Ireland.svg.png\" srcset=\"//upload.wikimedia.org/wikipedia/commons/thumb/4/45/Flag_of_Ireland.svg/35px-Flag_of_Ireland.svg.png 1.5x, //upload.wikimedia.org/wikipedia/commons/thumb/4/45/Flag_of_Ireland.svg/46px-Flag_of_Ireland.svg.png 2x\" width=\"23\"/> </span><a href=\"/wiki/Republic_of_Ireland\" title=\"Republic of Ireland\">Ireland</a></td>\n",
      "<td>81.6\n",
      "</td>\n",
      "<td>55%\n",
      "</td></tr>\n",
      "<tr>\n",
      "<td>15\n",
      "</td>\n",
      "<td><span class=\"flagicon\"><img alt=\"\" class=\"thumbborder\" data-file-height=\"600\" data-file-width=\"900\" decoding=\"async\" height=\"15\" src=\"//upload.wikimedia.org/wikipedia/commons/thumb/2/20/Flag_of_the_Netherlands.svg/23px-Flag_of_the_Netherlands.svg.png\" srcset=\"//upload.wikimedia.org/wikipedia/commons/thumb/2/20/Flag_of_the_Netherlands.svg/35px-Flag_of_the_Netherlands.svg.png 1.5x, //upload.wikimedia.org/wikipedia/commons/thumb/2/20/Flag_of_the_Netherlands.svg/45px-Flag_of_the_Netherlands.svg.png 2x\" width=\"23\"/> </span><a href=\"/wiki/Netherlands\" title=\"Netherlands\">Netherlands</a></td>\n",
      "<td>81.5\n",
      "</td>\n",
      "<td>65%\n",
      "</td></tr>\n",
      "<tr>\n",
      "<td>16\n",
      "</td>\n",
      "<td><span class=\"flagicon\"><img alt=\"\" class=\"thumbborder\" data-file-height=\"400\" data-file-width=\"600\" decoding=\"async\" height=\"15\" src=\"//upload.wikimedia.org/wikipedia/commons/thumb/5/5c/Flag_of_Portugal.svg/23px-Flag_of_Portugal.svg.png\" srcset=\"//upload.wikimedia.org/wikipedia/commons/thumb/5/5c/Flag_of_Portugal.svg/35px-Flag_of_Portugal.svg.png 1.5x, //upload.wikimedia.org/wikipedia/commons/thumb/5/5c/Flag_of_Portugal.svg/45px-Flag_of_Portugal.svg.png 2x\" width=\"23\"/> </span><a href=\"/wiki/Portugal\" title=\"Portugal\">Portugal</a></td>\n",
      "<td>81.1\n",
      "</td>\n",
      "<td>58%\n",
      "</td></tr>\n",
      "<tr>\n",
      "<td>17\n",
      "</td>\n",
      "<td><span class=\"flagicon\"><img alt=\"\" class=\"thumbborder\" data-file-height=\"400\" data-file-width=\"600\" decoding=\"async\" height=\"15\" src=\"//upload.wikimedia.org/wikipedia/commons/thumb/5/5c/Flag_of_Greece.svg/23px-Flag_of_Greece.svg.png\" srcset=\"//upload.wikimedia.org/wikipedia/commons/thumb/5/5c/Flag_of_Greece.svg/35px-Flag_of_Greece.svg.png 1.5x, //upload.wikimedia.org/wikipedia/commons/thumb/5/5c/Flag_of_Greece.svg/45px-Flag_of_Greece.svg.png 2x\" width=\"23\"/> </span><a href=\"/wiki/Greece\" title=\"Greece\">Greece</a></td>\n",
      "<td>81.0\n",
      "</td>\n",
      "<td>\n",
      "</td></tr>\n",
      "<tr>\n",
      "<td>18\n",
      "</td>\n",
      "<td><span class=\"flagicon\"><img alt=\"\" class=\"thumbborder\" data-file-height=\"600\" data-file-width=\"1200\" decoding=\"async\" height=\"12\" src=\"//upload.wikimedia.org/wikipedia/en/thumb/a/ae/Flag_of_the_United_Kingdom.svg/23px-Flag_of_the_United_Kingdom.svg.png\" srcset=\"//upload.wikimedia.org/wikipedia/en/thumb/a/ae/Flag_of_the_United_Kingdom.svg/35px-Flag_of_the_United_Kingdom.svg.png 1.5x, //upload.wikimedia.org/wikipedia/en/thumb/a/ae/Flag_of_the_United_Kingdom.svg/46px-Flag_of_the_United_Kingdom.svg.png 2x\" width=\"23\"/> </span><a href=\"/wiki/United_Kingdom\" title=\"United Kingdom\">United Kingdom</a></td>\n",
      "<td>81.0\n",
      "</td>\n",
      "<td>71%\n",
      "</td></tr>\n",
      "<tr>\n",
      "<td>19\n",
      "</td>\n",
      "<td><span class=\"flagicon\"><img alt=\"\" class=\"thumbborder\" data-file-height=\"600\" data-file-width=\"900\" decoding=\"async\" height=\"15\" src=\"//upload.wikimedia.org/wikipedia/commons/thumb/9/92/Flag_of_Belgium_%28civil%29.svg/23px-Flag_of_Belgium_%28civil%29.svg.png\" srcset=\"//upload.wikimedia.org/wikipedia/commons/thumb/9/92/Flag_of_Belgium_%28civil%29.svg/35px-Flag_of_Belgium_%28civil%29.svg.png 1.5x, //upload.wikimedia.org/wikipedia/commons/thumb/9/92/Flag_of_Belgium_%28civil%29.svg/45px-Flag_of_Belgium_%28civil%29.svg.png 2x\" width=\"23\"/> </span><a href=\"/wiki/Belgium\" title=\"Belgium\">Belgium</a></td>\n",
      "<td>81.0\n",
      "</td>\n",
      "<td>\n",
      "</td></tr>\n",
      "<tr>\n",
      "<td>20\n",
      "</td>\n",
      "<td><span class=\"flagicon\"><img alt=\"\" class=\"thumbborder\" data-file-height=\"600\" data-file-width=\"900\" decoding=\"async\" height=\"15\" src=\"//upload.wikimedia.org/wikipedia/commons/thumb/4/41/Flag_of_Austria.svg/23px-Flag_of_Austria.svg.png\" srcset=\"//upload.wikimedia.org/wikipedia/commons/thumb/4/41/Flag_of_Austria.svg/35px-Flag_of_Austria.svg.png 1.5x, //upload.wikimedia.org/wikipedia/commons/thumb/4/41/Flag_of_Austria.svg/45px-Flag_of_Austria.svg.png 2x\" width=\"23\"/> </span><a href=\"/wiki/Austria\" title=\"Austria\">Austria</a></td>\n",
      "<td>80.9\n",
      "</td>\n",
      "<td>\n",
      "</td></tr>\n",
      "<tr>\n",
      "<td>21\n",
      "</td>\n",
      "<td><span class=\"flagicon\"><img alt=\"\" class=\"thumbborder\" data-file-height=\"600\" data-file-width=\"1200\" decoding=\"async\" height=\"12\" src=\"//upload.wikimedia.org/wikipedia/commons/thumb/f/f0/Flag_of_Slovenia.svg/23px-Flag_of_Slovenia.svg.png\" srcset=\"//upload.wikimedia.org/wikipedia/commons/thumb/f/f0/Flag_of_Slovenia.svg/35px-Flag_of_Slovenia.svg.png 1.5x, //upload.wikimedia.org/wikipedia/commons/thumb/f/f0/Flag_of_Slovenia.svg/46px-Flag_of_Slovenia.svg.png 2x\" width=\"23\"/> </span><a href=\"/wiki/Slovenia\" title=\"Slovenia\">Slovenia</a></td>\n",
      "<td>80.8\n",
      "</td>\n",
      "<td>10%\n",
      "</td></tr>\n",
      "<tr>\n",
      "<td>22\n",
      "</td>\n",
      "<td><span class=\"flagicon\"><img alt=\"\" class=\"thumbborder\" data-file-height=\"387\" data-file-width=\"512\" decoding=\"async\" height=\"15\" src=\"//upload.wikimedia.org/wikipedia/commons/thumb/9/9c/Flag_of_Denmark.svg/20px-Flag_of_Denmark.svg.png\" srcset=\"//upload.wikimedia.org/wikipedia/commons/thumb/9/9c/Flag_of_Denmark.svg/31px-Flag_of_Denmark.svg.png 1.5x, //upload.wikimedia.org/wikipedia/commons/thumb/9/9c/Flag_of_Denmark.svg/40px-Flag_of_Denmark.svg.png 2x\" width=\"20\"/> </span><a href=\"/wiki/Denmark\" title=\"Denmark\">Denmark</a></td>\n",
      "<td>80.7\n",
      "</td>\n",
      "<td>41%\n",
      "</td></tr>\n",
      "<tr>\n",
      "<td>23\n",
      "</td>\n",
      "<td><span class=\"flagicon\"><img alt=\"\" class=\"thumbborder\" data-file-height=\"600\" data-file-width=\"1000\" decoding=\"async\" height=\"14\" src=\"//upload.wikimedia.org/wikipedia/en/thumb/b/ba/Flag_of_Germany.svg/23px-Flag_of_Germany.svg.png\" srcset=\"//upload.wikimedia.org/wikipedia/en/thumb/b/ba/Flag_of_Germany.svg/35px-Flag_of_Germany.svg.png 1.5x, //upload.wikimedia.org/wikipedia/en/thumb/b/ba/Flag_of_Germany.svg/46px-Flag_of_Germany.svg.png 2x\" width=\"23\"/> </span><a href=\"/wiki/Germany\" title=\"Germany\">Germany</a></td>\n",
      "<td>80.6\n",
      "</td>\n",
      "<td>35%\n",
      "</td></tr>\n",
      "<tr>\n",
      "<td>24\n",
      "</td>\n",
      "<td><span class=\"flagicon\"><img alt=\"\" class=\"thumbborder\" data-file-height=\"600\" data-file-width=\"900\" decoding=\"async\" height=\"15\" src=\"//upload.wikimedia.org/wikipedia/commons/thumb/d/d4/Flag_of_Cyprus.svg/23px-Flag_of_Cyprus.svg.png\" srcset=\"//upload.wikimedia.org/wikipedia/commons/thumb/d/d4/Flag_of_Cyprus.svg/35px-Flag_of_Cyprus.svg.png 1.5x, //upload.wikimedia.org/wikipedia/commons/thumb/d/d4/Flag_of_Cyprus.svg/45px-Flag_of_Cyprus.svg.png 2x\" width=\"23\"/> </span><a href=\"/wiki/Cyprus\" title=\"Cyprus\">Cyprus</a></td>\n",
      "<td>80.5\n",
      "</td>\n",
      "<td>\n",
      "</td></tr>\n",
      "<tr>\n",
      "<td>25\n",
      "</td>\n",
      "<td><span class=\"flagicon\"><img alt=\"\" class=\"thumbborder\" data-file-height=\"700\" data-file-width=\"980\" decoding=\"async\" height=\"15\" src=\"//upload.wikimedia.org/wikipedia/commons/thumb/3/36/Flag_of_Albania.svg/21px-Flag_of_Albania.svg.png\" srcset=\"//upload.wikimedia.org/wikipedia/commons/thumb/3/36/Flag_of_Albania.svg/32px-Flag_of_Albania.svg.png 1.5x, //upload.wikimedia.org/wikipedia/commons/thumb/3/36/Flag_of_Albania.svg/42px-Flag_of_Albania.svg.png 2x\" width=\"21\"/> </span><a href=\"/wiki/Albania\" title=\"Albania\">Albania</a></td>\n",
      "<td>78.3\n",
      "</td>\n",
      "<td>\n",
      "</td></tr>\n",
      "<tr>\n",
      "<td>26\n",
      "</td>\n",
      "<td><span class=\"flagicon\"><img alt=\"\" class=\"thumbborder\" data-file-height=\"600\" data-file-width=\"900\" decoding=\"async\" height=\"15\" src=\"//upload.wikimedia.org/wikipedia/commons/thumb/c/cb/Flag_of_the_Czech_Republic.svg/23px-Flag_of_the_Czech_Republic.svg.png\" srcset=\"//upload.wikimedia.org/wikipedia/commons/thumb/c/cb/Flag_of_the_Czech_Republic.svg/35px-Flag_of_the_Czech_Republic.svg.png 1.5x, //upload.wikimedia.org/wikipedia/commons/thumb/c/cb/Flag_of_the_Czech_Republic.svg/45px-Flag_of_the_Czech_Republic.svg.png 2x\" width=\"23\"/> </span><a href=\"/wiki/Czech_Republic\" title=\"Czech Republic\">Czech Republic</a></td>\n",
      "<td>78.3\n",
      "</td>\n",
      "<td>\n",
      "</td></tr>\n",
      "<tr>\n",
      "<td>27\n",
      "</td>\n",
      "<td><span class=\"flagicon\"><img alt=\"\" class=\"thumbborder\" data-file-height=\"600\" data-file-width=\"1200\" decoding=\"async\" height=\"12\" src=\"//upload.wikimedia.org/wikipedia/commons/thumb/1/1b/Flag_of_Croatia.svg/23px-Flag_of_Croatia.svg.png\" srcset=\"//upload.wikimedia.org/wikipedia/commons/thumb/1/1b/Flag_of_Croatia.svg/35px-Flag_of_Croatia.svg.png 1.5x, //upload.wikimedia.org/wikipedia/commons/thumb/1/1b/Flag_of_Croatia.svg/46px-Flag_of_Croatia.svg.png 2x\" width=\"23\"/> </span><a href=\"/wiki/Croatia\" title=\"Croatia\">Croatia</a></td>\n",
      "<td>78.0\n",
      "</td>\n",
      "<td>21%\n",
      "</td></tr>\n",
      "<tr>\n",
      "<td>28\n",
      "</td>\n",
      "<td><span class=\"flagicon\"><img alt=\"\" class=\"thumbborder\" data-file-height=\"630\" data-file-width=\"990\" decoding=\"async\" height=\"15\" src=\"//upload.wikimedia.org/wikipedia/commons/thumb/8/8f/Flag_of_Estonia.svg/23px-Flag_of_Estonia.svg.png\" srcset=\"//upload.wikimedia.org/wikipedia/commons/thumb/8/8f/Flag_of_Estonia.svg/35px-Flag_of_Estonia.svg.png 1.5x, //upload.wikimedia.org/wikipedia/commons/thumb/8/8f/Flag_of_Estonia.svg/46px-Flag_of_Estonia.svg.png 2x\" width=\"23\"/> </span><a href=\"/wiki/Estonia\" title=\"Estonia\">Estonia</a></td>\n",
      "<td>77.7\n",
      "</td>\n",
      "<td>3%\n",
      "</td></tr>\n",
      "<tr>\n",
      "<td>29\n",
      "</td>\n",
      "<td><span class=\"flagicon\"><img alt=\"\" class=\"thumbborder\" data-file-height=\"800\" data-file-width=\"1280\" decoding=\"async\" height=\"14\" src=\"//upload.wikimedia.org/wikipedia/en/thumb/1/12/Flag_of_Poland.svg/23px-Flag_of_Poland.svg.png\" srcset=\"//upload.wikimedia.org/wikipedia/en/thumb/1/12/Flag_of_Poland.svg/35px-Flag_of_Poland.svg.png 1.5x, //upload.wikimedia.org/wikipedia/en/thumb/1/12/Flag_of_Poland.svg/46px-Flag_of_Poland.svg.png 2x\" width=\"23\"/> </span><a href=\"/wiki/Poland\" title=\"Poland\">Poland</a></td>\n",
      "<td>77.5\n",
      "</td>\n",
      "<td>\n",
      "</td></tr>\n",
      "<tr>\n",
      "<td>30\n",
      "</td>\n",
      "<td><span class=\"flagicon\"><img alt=\"\" class=\"thumbborder\" data-file-height=\"320\" data-file-width=\"640\" decoding=\"async\" height=\"12\" src=\"//upload.wikimedia.org/wikipedia/commons/thumb/6/64/Flag_of_Montenegro.svg/23px-Flag_of_Montenegro.svg.png\" srcset=\"//upload.wikimedia.org/wikipedia/commons/thumb/6/64/Flag_of_Montenegro.svg/35px-Flag_of_Montenegro.svg.png 1.5x, //upload.wikimedia.org/wikipedia/commons/thumb/6/64/Flag_of_Montenegro.svg/46px-Flag_of_Montenegro.svg.png 2x\" width=\"23\"/> </span><a href=\"/wiki/Montenegro\" title=\"Montenegro\">Montenegro</a></td>\n",
      "<td>77.1\n",
      "</td>\n",
      "<td>13%\n",
      "</td></tr>\n",
      "<tr>\n",
      "<td>31\n",
      "</td>\n",
      "<td><span class=\"flagicon\"><img alt=\"\" class=\"thumbborder\" data-file-height=\"400\" data-file-width=\"800\" decoding=\"async\" height=\"12\" src=\"//upload.wikimedia.org/wikipedia/commons/thumb/b/bf/Flag_of_Bosnia_and_Herzegovina.svg/23px-Flag_of_Bosnia_and_Herzegovina.svg.png\" srcset=\"//upload.wikimedia.org/wikipedia/commons/thumb/b/bf/Flag_of_Bosnia_and_Herzegovina.svg/35px-Flag_of_Bosnia_and_Herzegovina.svg.png 1.5x, //upload.wikimedia.org/wikipedia/commons/thumb/b/bf/Flag_of_Bosnia_and_Herzegovina.svg/46px-Flag_of_Bosnia_and_Herzegovina.svg.png 2x\" width=\"23\"/> </span><a href=\"/wiki/Bosnia_and_Herzegovina\" title=\"Bosnia and Herzegovina\">Bosnia and Herzegovina</a></td>\n",
      "<td>76.9\n",
      "</td>\n",
      "<td>\n",
      "</td></tr>\n",
      "<tr>\n",
      "<td>32\n",
      "</td>\n",
      "<td><span class=\"flagicon\"><img alt=\"\" class=\"thumbborder\" data-file-height=\"341\" data-file-width=\"512\" decoding=\"async\" height=\"15\" src=\"//upload.wikimedia.org/wikipedia/commons/thumb/e/e6/Flag_of_Slovakia.svg/23px-Flag_of_Slovakia.svg.png\" srcset=\"//upload.wikimedia.org/wikipedia/commons/thumb/e/e6/Flag_of_Slovakia.svg/35px-Flag_of_Slovakia.svg.png 1.5x, //upload.wikimedia.org/wikipedia/commons/thumb/e/e6/Flag_of_Slovakia.svg/45px-Flag_of_Slovakia.svg.png 2x\" width=\"23\"/> </span><a href=\"/wiki/Slovakia\" title=\"Slovakia\">Slovakia</a></td>\n",
      "<td>76.6\n",
      "</td>\n",
      "<td>10%\n",
      "</td></tr>\n",
      "<tr>\n",
      "<td>33\n",
      "</td>\n",
      "<td><span class=\"flagicon\"><img alt=\"\" class=\"thumbborder\" data-file-height=\"800\" data-file-width=\"1200\" decoding=\"async\" height=\"15\" src=\"//upload.wikimedia.org/wikipedia/commons/thumb/b/b4/Flag_of_Turkey.svg/23px-Flag_of_Turkey.svg.png\" srcset=\"//upload.wikimedia.org/wikipedia/commons/thumb/b/b4/Flag_of_Turkey.svg/35px-Flag_of_Turkey.svg.png 1.5x, //upload.wikimedia.org/wikipedia/commons/thumb/b/b4/Flag_of_Turkey.svg/45px-Flag_of_Turkey.svg.png 2x\" width=\"23\"/> </span><a href=\"/wiki/Turkey\" title=\"Turkey\">Turkey</a></td>\n",
      "<td>75.8\n",
      "</td>\n",
      "<td>7%\n",
      "</td></tr>\n",
      "<tr>\n",
      "<td>34\n",
      "</td>\n",
      "<td><span class=\"flagicon\"><img alt=\"\" class=\"thumbborder\" data-file-height=\"600\" data-file-width=\"1200\" decoding=\"async\" height=\"12\" src=\"//upload.wikimedia.org/wikipedia/commons/thumb/7/79/Flag_of_North_Macedonia.svg/23px-Flag_of_North_Macedonia.svg.png\" srcset=\"//upload.wikimedia.org/wikipedia/commons/thumb/7/79/Flag_of_North_Macedonia.svg/35px-Flag_of_North_Macedonia.svg.png 1.5x, //upload.wikimedia.org/wikipedia/commons/thumb/7/79/Flag_of_North_Macedonia.svg/46px-Flag_of_North_Macedonia.svg.png 2x\" width=\"23\"/> </span><a href=\"/wiki/North_Macedonia\" title=\"North Macedonia\">North Macedonia</a></td>\n",
      "<td>75.7\n",
      "</td>\n",
      "<td>6%\n",
      "</td></tr>\n",
      "<tr>\n",
      "<td>35\n",
      "</td>\n",
      "<td><span class=\"flagicon\"><img alt=\"\" class=\"thumbborder\" data-file-height=\"600\" data-file-width=\"1200\" decoding=\"async\" height=\"12\" src=\"//upload.wikimedia.org/wikipedia/commons/thumb/c/c1/Flag_of_Hungary.svg/23px-Flag_of_Hungary.svg.png\" srcset=\"//upload.wikimedia.org/wikipedia/commons/thumb/c/c1/Flag_of_Hungary.svg/35px-Flag_of_Hungary.svg.png 1.5x, //upload.wikimedia.org/wikipedia/commons/thumb/c/c1/Flag_of_Hungary.svg/46px-Flag_of_Hungary.svg.png 2x\" width=\"23\"/> </span><a href=\"/wiki/Hungary\" title=\"Hungary\">Hungary</a></td>\n",
      "<td>75.6\n",
      "</td>\n",
      "<td>20%\n",
      "</td></tr>\n",
      "<tr>\n",
      "<td>36\n",
      "</td>\n",
      "<td><span class=\"flagicon\"><img alt=\"\" class=\"thumbborder\" data-file-height=\"630\" data-file-width=\"945\" decoding=\"async\" height=\"15\" src=\"//upload.wikimedia.org/wikipedia/commons/thumb/f/ff/Flag_of_Serbia.svg/23px-Flag_of_Serbia.svg.png\" srcset=\"//upload.wikimedia.org/wikipedia/commons/thumb/f/ff/Flag_of_Serbia.svg/35px-Flag_of_Serbia.svg.png 1.5x, //upload.wikimedia.org/wikipedia/commons/thumb/f/ff/Flag_of_Serbia.svg/45px-Flag_of_Serbia.svg.png 2x\" width=\"23\"/> </span><a href=\"/wiki/Serbia\" title=\"Serbia\">Serbia</a></td>\n",
      "<td>75.2\n",
      "</td>\n",
      "<td>11%\n",
      "</td></tr>\n",
      "<tr>\n",
      "<td>37\n",
      "</td>\n",
      "<td><span class=\"flagicon\"><img alt=\"\" class=\"thumbborder\" data-file-height=\"400\" data-file-width=\"600\" decoding=\"async\" height=\"15\" src=\"//upload.wikimedia.org/wikipedia/commons/thumb/7/73/Flag_of_Romania.svg/23px-Flag_of_Romania.svg.png\" srcset=\"//upload.wikimedia.org/wikipedia/commons/thumb/7/73/Flag_of_Romania.svg/35px-Flag_of_Romania.svg.png 1.5x, //upload.wikimedia.org/wikipedia/commons/thumb/7/73/Flag_of_Romania.svg/45px-Flag_of_Romania.svg.png 2x\" width=\"23\"/> </span><a href=\"/wiki/Romania\" title=\"Romania\">Romania</a></td>\n",
      "<td>75.0\n",
      "</td>\n",
      "<td>8%\n",
      "</td></tr>\n",
      "<tr>\n",
      "<td>38\n",
      "</td>\n",
      "<td><span class=\"flagicon\"><img alt=\"\" class=\"thumbborder\" data-file-height=\"600\" data-file-width=\"1000\" decoding=\"async\" height=\"14\" src=\"//upload.wikimedia.org/wikipedia/commons/thumb/9/9a/Flag_of_Bulgaria.svg/23px-Flag_of_Bulgaria.svg.png\" srcset=\"//upload.wikimedia.org/wikipedia/commons/thumb/9/9a/Flag_of_Bulgaria.svg/35px-Flag_of_Bulgaria.svg.png 1.5x, //upload.wikimedia.org/wikipedia/commons/thumb/9/9a/Flag_of_Bulgaria.svg/46px-Flag_of_Bulgaria.svg.png 2x\" width=\"23\"/> </span><a href=\"/wiki/Bulgaria\" title=\"Bulgaria\">Bulgaria</a></td>\n",
      "<td>74.6\n",
      "</td>\n",
      "<td>\n",
      "</td></tr>\n",
      "<tr>\n",
      "<td>39\n",
      "</td>\n",
      "<td><span class=\"flagicon\"><img alt=\"\" class=\"thumbborder\" data-file-height=\"600\" data-file-width=\"1200\" decoding=\"async\" height=\"12\" src=\"//upload.wikimedia.org/wikipedia/commons/thumb/8/84/Flag_of_Latvia.svg/23px-Flag_of_Latvia.svg.png\" srcset=\"//upload.wikimedia.org/wikipedia/commons/thumb/8/84/Flag_of_Latvia.svg/35px-Flag_of_Latvia.svg.png 1.5x, //upload.wikimedia.org/wikipedia/commons/thumb/8/84/Flag_of_Latvia.svg/46px-Flag_of_Latvia.svg.png 2x\" width=\"23\"/> </span><a href=\"/wiki/Latvia\" title=\"Latvia\">Latvia</a></td>\n",
      "<td>74.5\n",
      "</td>\n",
      "<td>4%\n",
      "</td></tr>\n",
      "<tr>\n",
      "<td>40\n",
      "</td>\n",
      "<td><span class=\"flagicon\"><img alt=\"\" class=\"thumbborder\" data-file-height=\"600\" data-file-width=\"1000\" decoding=\"async\" height=\"14\" src=\"//upload.wikimedia.org/wikipedia/commons/thumb/1/11/Flag_of_Lithuania.svg/23px-Flag_of_Lithuania.svg.png\" srcset=\"//upload.wikimedia.org/wikipedia/commons/thumb/1/11/Flag_of_Lithuania.svg/35px-Flag_of_Lithuania.svg.png 1.5x, //upload.wikimedia.org/wikipedia/commons/thumb/1/11/Flag_of_Lithuania.svg/46px-Flag_of_Lithuania.svg.png 2x\" width=\"23\"/> </span><a href=\"/wiki/Lithuania\" title=\"Lithuania\">Lithuania</a></td>\n",
      "<td>74.3\n",
      "</td>\n",
      "<td>23%\n",
      "</td></tr>\n",
      "<tr>\n",
      "<td>41\n",
      "</td>\n",
      "<td><span class=\"flagicon\"><img alt=\"\" class=\"thumbborder\" data-file-height=\"450\" data-file-width=\"900\" decoding=\"async\" height=\"12\" src=\"//upload.wikimedia.org/wikipedia/commons/thumb/8/85/Flag_of_Belarus.svg/23px-Flag_of_Belarus.svg.png\" srcset=\"//upload.wikimedia.org/wikipedia/commons/thumb/8/85/Flag_of_Belarus.svg/35px-Flag_of_Belarus.svg.png 1.5x, //upload.wikimedia.org/wikipedia/commons/thumb/8/85/Flag_of_Belarus.svg/46px-Flag_of_Belarus.svg.png 2x\" width=\"23\"/> </span><a href=\"/wiki/Belarus\" title=\"Belarus\">Belarus</a></td>\n",
      "<td>73.8\n",
      "</td>\n",
      "<td>\n",
      "</td></tr>\n",
      "<tr>\n",
      "<td>42\n",
      "</td>\n",
      "<td><span class=\"flagicon\"><img alt=\"\" class=\"thumbborder\" data-file-height=\"800\" data-file-width=\"1200\" decoding=\"async\" height=\"15\" src=\"//upload.wikimedia.org/wikipedia/commons/thumb/4/49/Flag_of_Ukraine.svg/23px-Flag_of_Ukraine.svg.png\" srcset=\"//upload.wikimedia.org/wikipedia/commons/thumb/4/49/Flag_of_Ukraine.svg/35px-Flag_of_Ukraine.svg.png 1.5x, //upload.wikimedia.org/wikipedia/commons/thumb/4/49/Flag_of_Ukraine.svg/45px-Flag_of_Ukraine.svg.png 2x\" width=\"23\"/> </span><a href=\"/wiki/Ukraine\" title=\"Ukraine\">Ukraine</a></td>\n",
      "<td>72.1\n",
      "</td>\n",
      "<td>\n",
      "</td></tr>\n",
      "<tr>\n",
      "<td>43\n",
      "</td>\n",
      "<td><span class=\"flagicon\"><img alt=\"\" class=\"thumbborder\" data-file-height=\"900\" data-file-width=\"1800\" decoding=\"async\" height=\"12\" src=\"//upload.wikimedia.org/wikipedia/commons/thumb/2/27/Flag_of_Moldova.svg/23px-Flag_of_Moldova.svg.png\" srcset=\"//upload.wikimedia.org/wikipedia/commons/thumb/2/27/Flag_of_Moldova.svg/35px-Flag_of_Moldova.svg.png 1.5x, //upload.wikimedia.org/wikipedia/commons/thumb/2/27/Flag_of_Moldova.svg/46px-Flag_of_Moldova.svg.png 2x\" width=\"23\"/> </span><a href=\"/wiki/Moldova\" title=\"Moldova\">Moldova</a></td>\n",
      "<td>71.6\n",
      "</td>\n",
      "<td>\n",
      "</td></tr>\n",
      "<tr>\n",
      "<td>44\n",
      "</td>\n",
      "<td><span class=\"flagicon\"><img alt=\"\" class=\"thumbborder\" data-file-height=\"600\" data-file-width=\"900\" decoding=\"async\" height=\"15\" src=\"//upload.wikimedia.org/wikipedia/en/thumb/f/f3/Flag_of_Russia.svg/23px-Flag_of_Russia.svg.png\" srcset=\"//upload.wikimedia.org/wikipedia/en/thumb/f/f3/Flag_of_Russia.svg/35px-Flag_of_Russia.svg.png 1.5x, //upload.wikimedia.org/wikipedia/en/thumb/f/f3/Flag_of_Russia.svg/45px-Flag_of_Russia.svg.png 2x\" width=\"23\"/> </span><a href=\"/wiki/Russia\" title=\"Russia\">Russia</a></td>\n",
      "<td>71.6\n",
      "</td>\n",
      "<td>\n",
      "</td></tr>\n",
      "</tbody></table>\n"
     ]
    }
   ],
   "source": [
    "print(table_wiki_raw)"
   ]
  },
  {
   "cell_type": "markdown",
   "metadata": {},
   "source": [
    "## Extraindo o corpo da tabela ('tbody')"
   ]
  },
  {
   "cell_type": "code",
   "execution_count": 9,
   "metadata": {
    "ExecuteTime": {
     "end_time": "2022-01-22T10:50:32.439424Z",
     "start_time": "2022-01-22T10:50:32.426457Z"
    }
   },
   "outputs": [],
   "source": [
    "table_wiki = table_wiki_raw.find('tbody')"
   ]
  },
  {
   "cell_type": "code",
   "execution_count": 10,
   "metadata": {
    "ExecuteTime": {
     "end_time": "2022-01-22T10:50:51.923096Z",
     "start_time": "2022-01-22T10:50:51.909106Z"
    }
   },
   "outputs": [
    {
     "name": "stdout",
     "output_type": "stream",
     "text": [
      "<tbody><tr bgcolor=\"#efefef\">\n",
      "<th>Rank\n",
      "</th>\n",
      "<th>Country</th>\n",
      "<th><a href=\"/wiki/List_of_countries_by_life_expectancy\" title=\"List of countries by life expectancy\">Life expectancy</a><sup class=\"reference\" id=\"cite_ref-:0_1-1\"><a href=\"#cite_note-:0-1\">[1]</a></sup>\n",
      "</th>\n",
      "<th>Influenza vaccination rate, people aged 65 and over, 2016 (%)<sup class=\"reference\" id=\"cite_ref-2\"><a href=\"#cite_note-2\">[2]</a></sup>\n",
      "</th></tr>\n",
      "<tr>\n",
      "<td>1\n",
      "</td>\n",
      "<td><span class=\"flagicon\"><img alt=\"\" class=\"thumbborder\" data-file-height=\"800\" data-file-width=\"1000\" decoding=\"async\" height=\"15\" src=\"//upload.wikimedia.org/wikipedia/commons/thumb/e/ea/Flag_of_Monaco.svg/19px-Flag_of_Monaco.svg.png\" srcset=\"//upload.wikimedia.org/wikipedia/commons/thumb/e/ea/Flag_of_Monaco.svg/29px-Flag_of_Monaco.svg.png 1.5x, //upload.wikimedia.org/wikipedia/commons/thumb/e/ea/Flag_of_Monaco.svg/38px-Flag_of_Monaco.svg.png 2x\" width=\"19\"/> </span><a href=\"/wiki/Monaco\" title=\"Monaco\">Monaco</a><sup class=\"reference\" id=\"cite_ref-3\"><a href=\"#cite_note-3\">[3]</a></sup>\n",
      "</td>\n",
      "<td>89.4\n",
      "</td>\n",
      "<td>\n",
      "</td></tr>\n",
      "<tr>\n",
      "<td>2\n",
      "</td>\n",
      "<td><span class=\"flagicon\"><img alt=\"\" class=\"thumbborder\" data-file-height=\"600\" data-file-width=\"800\" decoding=\"async\" height=\"15\" src=\"//upload.wikimedia.org/wikipedia/commons/thumb/b/b1/Flag_of_San_Marino.svg/20px-Flag_of_San_Marino.svg.png\" srcset=\"//upload.wikimedia.org/wikipedia/commons/thumb/b/b1/Flag_of_San_Marino.svg/31px-Flag_of_San_Marino.svg.png 1.5x, //upload.wikimedia.org/wikipedia/commons/thumb/b/b1/Flag_of_San_Marino.svg/40px-Flag_of_San_Marino.svg.png 2x\" width=\"20\"/> </span><a href=\"/wiki/San_Marino\" title=\"San Marino\">San Marino</a><sup class=\"reference\" id=\"cite_ref-4\"><a href=\"#cite_note-4\">[4]</a></sup>\n",
      "</td>\n",
      "<td>83.4\n",
      "</td>\n",
      "<td>\n",
      "</td></tr>\n",
      "<tr>\n",
      "<td>3\n",
      "</td>\n",
      "<td><span class=\"flagicon\"><img alt=\"\" class=\"thumbborder\" data-file-height=\"512\" data-file-width=\"512\" decoding=\"async\" height=\"16\" src=\"//upload.wikimedia.org/wikipedia/commons/thumb/f/f3/Flag_of_Switzerland.svg/16px-Flag_of_Switzerland.svg.png\" srcset=\"//upload.wikimedia.org/wikipedia/commons/thumb/f/f3/Flag_of_Switzerland.svg/24px-Flag_of_Switzerland.svg.png 1.5x, //upload.wikimedia.org/wikipedia/commons/thumb/f/f3/Flag_of_Switzerland.svg/32px-Flag_of_Switzerland.svg.png 2x\" width=\"16\"/>  </span><a href=\"/wiki/Switzerland\" title=\"Switzerland\">Switzerland</a></td>\n",
      "<td>83.0\n",
      "</td>\n",
      "<td>\n",
      "</td></tr>\n",
      "<tr>\n",
      "<td>4\n",
      "</td>\n",
      "<td><span class=\"flagicon\"><img alt=\"\" class=\"thumbborder\" data-file-height=\"500\" data-file-width=\"750\" decoding=\"async\" height=\"15\" src=\"//upload.wikimedia.org/wikipedia/en/thumb/9/9a/Flag_of_Spain.svg/23px-Flag_of_Spain.svg.png\" srcset=\"//upload.wikimedia.org/wikipedia/en/thumb/9/9a/Flag_of_Spain.svg/35px-Flag_of_Spain.svg.png 1.5x, //upload.wikimedia.org/wikipedia/en/thumb/9/9a/Flag_of_Spain.svg/45px-Flag_of_Spain.svg.png 2x\" width=\"23\"/> </span><a href=\"/wiki/Spain\" title=\"Spain\">Spain</a></td>\n",
      "<td>82.8\n",
      "</td>\n",
      "<td>56%\n",
      "</td></tr>\n",
      "<tr>\n",
      "<td>5\n",
      "</td>\n",
      "<td><span class=\"flagicon\"><img alt=\"\" class=\"thumbborder\" data-file-height=\"600\" data-file-width=\"1000\" decoding=\"async\" height=\"14\" src=\"//upload.wikimedia.org/wikipedia/commons/thumb/4/47/Flag_of_Liechtenstein.svg/23px-Flag_of_Liechtenstein.svg.png\" srcset=\"//upload.wikimedia.org/wikipedia/commons/thumb/4/47/Flag_of_Liechtenstein.svg/35px-Flag_of_Liechtenstein.svg.png 1.5x, //upload.wikimedia.org/wikipedia/commons/thumb/4/47/Flag_of_Liechtenstein.svg/46px-Flag_of_Liechtenstein.svg.png 2x\" width=\"23\"/> </span><a href=\"/wiki/Liechtenstein\" title=\"Liechtenstein\">Liechtenstein</a></td>\n",
      "<td>82.7\n",
      "</td>\n",
      "<td>28%\n",
      "</td></tr>\n",
      "<tr>\n",
      "<td>6\n",
      "</td>\n",
      "<td><span class=\"flagicon\"><img alt=\"\" class=\"thumbborder\" data-file-height=\"1000\" data-file-width=\"1500\" decoding=\"async\" height=\"15\" src=\"//upload.wikimedia.org/wikipedia/en/thumb/0/03/Flag_of_Italy.svg/23px-Flag_of_Italy.svg.png\" srcset=\"//upload.wikimedia.org/wikipedia/en/thumb/0/03/Flag_of_Italy.svg/35px-Flag_of_Italy.svg.png 1.5x, //upload.wikimedia.org/wikipedia/en/thumb/0/03/Flag_of_Italy.svg/45px-Flag_of_Italy.svg.png 2x\" width=\"23\"/> </span><a href=\"/wiki/Italy\" title=\"Italy\">Italy</a></td>\n",
      "<td>82.7\n",
      "</td>\n",
      "<td>50%\n",
      "</td></tr>\n",
      "<tr>\n",
      "<td>7\n",
      "</td>\n",
      "<td><span class=\"flagicon\"><img alt=\"\" class=\"thumbborder\" data-file-height=\"372\" data-file-width=\"512\" decoding=\"async\" height=\"15\" src=\"//upload.wikimedia.org/wikipedia/commons/thumb/d/d9/Flag_of_Norway.svg/21px-Flag_of_Norway.svg.png\" srcset=\"//upload.wikimedia.org/wikipedia/commons/thumb/d/d9/Flag_of_Norway.svg/32px-Flag_of_Norway.svg.png 1.5x, //upload.wikimedia.org/wikipedia/commons/thumb/d/d9/Flag_of_Norway.svg/41px-Flag_of_Norway.svg.png 2x\" width=\"21\"/> </span><a href=\"/wiki/Norway\" title=\"Norway\">Norway</a></td>\n",
      "<td>82.5\n",
      "</td>\n",
      "<td>38%\n",
      "</td></tr>\n",
      "<tr>\n",
      "<td>8\n",
      "</td>\n",
      "<td><span class=\"flagicon\"><img alt=\"\" class=\"thumbborder\" data-file-height=\"900\" data-file-width=\"1250\" decoding=\"async\" height=\"15\" src=\"//upload.wikimedia.org/wikipedia/commons/thumb/c/ce/Flag_of_Iceland.svg/21px-Flag_of_Iceland.svg.png\" srcset=\"//upload.wikimedia.org/wikipedia/commons/thumb/c/ce/Flag_of_Iceland.svg/32px-Flag_of_Iceland.svg.png 1.5x, //upload.wikimedia.org/wikipedia/commons/thumb/c/ce/Flag_of_Iceland.svg/42px-Flag_of_Iceland.svg.png 2x\" width=\"21\"/> </span><a href=\"/wiki/Iceland\" title=\"Iceland\">Iceland</a></td>\n",
      "<td>82.5\n",
      "</td>\n",
      "<td>47%\n",
      "</td></tr>\n",
      "<tr>\n",
      "<td>9\n",
      "</td>\n",
      "<td><span class=\"flagicon\"><img alt=\"\" class=\"thumbborder\" data-file-height=\"600\" data-file-width=\"1000\" decoding=\"async\" height=\"14\" src=\"//upload.wikimedia.org/wikipedia/commons/thumb/d/da/Flag_of_Luxembourg.svg/23px-Flag_of_Luxembourg.svg.png\" srcset=\"//upload.wikimedia.org/wikipedia/commons/thumb/d/da/Flag_of_Luxembourg.svg/35px-Flag_of_Luxembourg.svg.png 1.5x, //upload.wikimedia.org/wikipedia/commons/thumb/d/da/Flag_of_Luxembourg.svg/46px-Flag_of_Luxembourg.svg.png 2x\" width=\"23\"/> </span><a href=\"/wiki/Luxembourg\" title=\"Luxembourg\">Luxembourg</a></td>\n",
      "<td>82.3\n",
      "</td>\n",
      "<td>38%\n",
      "</td></tr>\n",
      "<tr>\n",
      "<td>10\n",
      "</td>\n",
      "<td><span class=\"flagicon\"><img alt=\"\" class=\"thumbborder\" data-file-height=\"600\" data-file-width=\"900\" decoding=\"async\" height=\"15\" src=\"//upload.wikimedia.org/wikipedia/en/thumb/c/c3/Flag_of_France.svg/23px-Flag_of_France.svg.png\" srcset=\"//upload.wikimedia.org/wikipedia/en/thumb/c/c3/Flag_of_France.svg/35px-Flag_of_France.svg.png 1.5x, //upload.wikimedia.org/wikipedia/en/thumb/c/c3/Flag_of_France.svg/45px-Flag_of_France.svg.png 2x\" width=\"23\"/> </span><a href=\"/wiki/France\" title=\"France\">France</a></td>\n",
      "<td>82.3\n",
      "</td>\n",
      "<td>50%\n",
      "</td></tr>\n",
      "<tr>\n",
      "<td>11\n",
      "</td>\n",
      "<td><span class=\"flagicon\"><img alt=\"\" class=\"thumbborder\" data-file-height=\"1000\" data-file-width=\"1600\" decoding=\"async\" height=\"14\" src=\"//upload.wikimedia.org/wikipedia/en/thumb/4/4c/Flag_of_Sweden.svg/23px-Flag_of_Sweden.svg.png\" srcset=\"//upload.wikimedia.org/wikipedia/en/thumb/4/4c/Flag_of_Sweden.svg/35px-Flag_of_Sweden.svg.png 1.5x, //upload.wikimedia.org/wikipedia/en/thumb/4/4c/Flag_of_Sweden.svg/46px-Flag_of_Sweden.svg.png 2x\" width=\"23\"/> </span><a href=\"/wiki/Sweden\" title=\"Sweden\">Sweden</a></td>\n",
      "<td>82.2\n",
      "</td>\n",
      "<td>49%\n",
      "</td></tr>\n",
      "<tr>\n",
      "<td>12\n",
      "</td>\n",
      "<td><span class=\"flagicon\"><img alt=\"\" class=\"thumbborder\" data-file-height=\"600\" data-file-width=\"900\" decoding=\"async\" height=\"15\" src=\"//upload.wikimedia.org/wikipedia/commons/thumb/7/73/Flag_of_Malta.svg/23px-Flag_of_Malta.svg.png\" srcset=\"//upload.wikimedia.org/wikipedia/commons/thumb/7/73/Flag_of_Malta.svg/35px-Flag_of_Malta.svg.png 1.5x, //upload.wikimedia.org/wikipedia/commons/thumb/7/73/Flag_of_Malta.svg/45px-Flag_of_Malta.svg.png 2x\" width=\"23\"/> </span><a href=\"/wiki/Malta\" title=\"Malta\">Malta</a></td>\n",
      "<td>81.8\n",
      "</td>\n",
      "<td>\n",
      "</td></tr>\n",
      "<tr>\n",
      "<td>13\n",
      "</td>\n",
      "<td><span class=\"flagicon\"><img alt=\"\" class=\"thumbborder\" data-file-height=\"1100\" data-file-width=\"1800\" decoding=\"async\" height=\"14\" src=\"//upload.wikimedia.org/wikipedia/commons/thumb/b/bc/Flag_of_Finland.svg/23px-Flag_of_Finland.svg.png\" srcset=\"//upload.wikimedia.org/wikipedia/commons/thumb/b/bc/Flag_of_Finland.svg/35px-Flag_of_Finland.svg.png 1.5x, //upload.wikimedia.org/wikipedia/commons/thumb/b/bc/Flag_of_Finland.svg/46px-Flag_of_Finland.svg.png 2x\" width=\"23\"/> </span><a href=\"/wiki/Finland\" title=\"Finland\">Finland</a></td>\n",
      "<td>81.8\n",
      "</td>\n",
      "<td>47%\n",
      "</td></tr>\n",
      "<tr>\n",
      "<td>14\n",
      "</td>\n",
      "<td><span class=\"flagicon\"><img alt=\"\" class=\"thumbborder\" data-file-height=\"600\" data-file-width=\"1200\" decoding=\"async\" height=\"12\" src=\"//upload.wikimedia.org/wikipedia/commons/thumb/4/45/Flag_of_Ireland.svg/23px-Flag_of_Ireland.svg.png\" srcset=\"//upload.wikimedia.org/wikipedia/commons/thumb/4/45/Flag_of_Ireland.svg/35px-Flag_of_Ireland.svg.png 1.5x, //upload.wikimedia.org/wikipedia/commons/thumb/4/45/Flag_of_Ireland.svg/46px-Flag_of_Ireland.svg.png 2x\" width=\"23\"/> </span><a href=\"/wiki/Republic_of_Ireland\" title=\"Republic of Ireland\">Ireland</a></td>\n",
      "<td>81.6\n",
      "</td>\n",
      "<td>55%\n",
      "</td></tr>\n",
      "<tr>\n",
      "<td>15\n",
      "</td>\n",
      "<td><span class=\"flagicon\"><img alt=\"\" class=\"thumbborder\" data-file-height=\"600\" data-file-width=\"900\" decoding=\"async\" height=\"15\" src=\"//upload.wikimedia.org/wikipedia/commons/thumb/2/20/Flag_of_the_Netherlands.svg/23px-Flag_of_the_Netherlands.svg.png\" srcset=\"//upload.wikimedia.org/wikipedia/commons/thumb/2/20/Flag_of_the_Netherlands.svg/35px-Flag_of_the_Netherlands.svg.png 1.5x, //upload.wikimedia.org/wikipedia/commons/thumb/2/20/Flag_of_the_Netherlands.svg/45px-Flag_of_the_Netherlands.svg.png 2x\" width=\"23\"/> </span><a href=\"/wiki/Netherlands\" title=\"Netherlands\">Netherlands</a></td>\n",
      "<td>81.5\n",
      "</td>\n",
      "<td>65%\n",
      "</td></tr>\n",
      "<tr>\n",
      "<td>16\n",
      "</td>\n",
      "<td><span class=\"flagicon\"><img alt=\"\" class=\"thumbborder\" data-file-height=\"400\" data-file-width=\"600\" decoding=\"async\" height=\"15\" src=\"//upload.wikimedia.org/wikipedia/commons/thumb/5/5c/Flag_of_Portugal.svg/23px-Flag_of_Portugal.svg.png\" srcset=\"//upload.wikimedia.org/wikipedia/commons/thumb/5/5c/Flag_of_Portugal.svg/35px-Flag_of_Portugal.svg.png 1.5x, //upload.wikimedia.org/wikipedia/commons/thumb/5/5c/Flag_of_Portugal.svg/45px-Flag_of_Portugal.svg.png 2x\" width=\"23\"/> </span><a href=\"/wiki/Portugal\" title=\"Portugal\">Portugal</a></td>\n",
      "<td>81.1\n",
      "</td>\n",
      "<td>58%\n",
      "</td></tr>\n",
      "<tr>\n",
      "<td>17\n",
      "</td>\n",
      "<td><span class=\"flagicon\"><img alt=\"\" class=\"thumbborder\" data-file-height=\"400\" data-file-width=\"600\" decoding=\"async\" height=\"15\" src=\"//upload.wikimedia.org/wikipedia/commons/thumb/5/5c/Flag_of_Greece.svg/23px-Flag_of_Greece.svg.png\" srcset=\"//upload.wikimedia.org/wikipedia/commons/thumb/5/5c/Flag_of_Greece.svg/35px-Flag_of_Greece.svg.png 1.5x, //upload.wikimedia.org/wikipedia/commons/thumb/5/5c/Flag_of_Greece.svg/45px-Flag_of_Greece.svg.png 2x\" width=\"23\"/> </span><a href=\"/wiki/Greece\" title=\"Greece\">Greece</a></td>\n",
      "<td>81.0\n",
      "</td>\n",
      "<td>\n",
      "</td></tr>\n",
      "<tr>\n",
      "<td>18\n",
      "</td>\n",
      "<td><span class=\"flagicon\"><img alt=\"\" class=\"thumbborder\" data-file-height=\"600\" data-file-width=\"1200\" decoding=\"async\" height=\"12\" src=\"//upload.wikimedia.org/wikipedia/en/thumb/a/ae/Flag_of_the_United_Kingdom.svg/23px-Flag_of_the_United_Kingdom.svg.png\" srcset=\"//upload.wikimedia.org/wikipedia/en/thumb/a/ae/Flag_of_the_United_Kingdom.svg/35px-Flag_of_the_United_Kingdom.svg.png 1.5x, //upload.wikimedia.org/wikipedia/en/thumb/a/ae/Flag_of_the_United_Kingdom.svg/46px-Flag_of_the_United_Kingdom.svg.png 2x\" width=\"23\"/> </span><a href=\"/wiki/United_Kingdom\" title=\"United Kingdom\">United Kingdom</a></td>\n",
      "<td>81.0\n",
      "</td>\n",
      "<td>71%\n",
      "</td></tr>\n",
      "<tr>\n",
      "<td>19\n",
      "</td>\n",
      "<td><span class=\"flagicon\"><img alt=\"\" class=\"thumbborder\" data-file-height=\"600\" data-file-width=\"900\" decoding=\"async\" height=\"15\" src=\"//upload.wikimedia.org/wikipedia/commons/thumb/9/92/Flag_of_Belgium_%28civil%29.svg/23px-Flag_of_Belgium_%28civil%29.svg.png\" srcset=\"//upload.wikimedia.org/wikipedia/commons/thumb/9/92/Flag_of_Belgium_%28civil%29.svg/35px-Flag_of_Belgium_%28civil%29.svg.png 1.5x, //upload.wikimedia.org/wikipedia/commons/thumb/9/92/Flag_of_Belgium_%28civil%29.svg/45px-Flag_of_Belgium_%28civil%29.svg.png 2x\" width=\"23\"/> </span><a href=\"/wiki/Belgium\" title=\"Belgium\">Belgium</a></td>\n",
      "<td>81.0\n",
      "</td>\n",
      "<td>\n",
      "</td></tr>\n",
      "<tr>\n",
      "<td>20\n",
      "</td>\n",
      "<td><span class=\"flagicon\"><img alt=\"\" class=\"thumbborder\" data-file-height=\"600\" data-file-width=\"900\" decoding=\"async\" height=\"15\" src=\"//upload.wikimedia.org/wikipedia/commons/thumb/4/41/Flag_of_Austria.svg/23px-Flag_of_Austria.svg.png\" srcset=\"//upload.wikimedia.org/wikipedia/commons/thumb/4/41/Flag_of_Austria.svg/35px-Flag_of_Austria.svg.png 1.5x, //upload.wikimedia.org/wikipedia/commons/thumb/4/41/Flag_of_Austria.svg/45px-Flag_of_Austria.svg.png 2x\" width=\"23\"/> </span><a href=\"/wiki/Austria\" title=\"Austria\">Austria</a></td>\n",
      "<td>80.9\n",
      "</td>\n",
      "<td>\n",
      "</td></tr>\n",
      "<tr>\n",
      "<td>21\n",
      "</td>\n",
      "<td><span class=\"flagicon\"><img alt=\"\" class=\"thumbborder\" data-file-height=\"600\" data-file-width=\"1200\" decoding=\"async\" height=\"12\" src=\"//upload.wikimedia.org/wikipedia/commons/thumb/f/f0/Flag_of_Slovenia.svg/23px-Flag_of_Slovenia.svg.png\" srcset=\"//upload.wikimedia.org/wikipedia/commons/thumb/f/f0/Flag_of_Slovenia.svg/35px-Flag_of_Slovenia.svg.png 1.5x, //upload.wikimedia.org/wikipedia/commons/thumb/f/f0/Flag_of_Slovenia.svg/46px-Flag_of_Slovenia.svg.png 2x\" width=\"23\"/> </span><a href=\"/wiki/Slovenia\" title=\"Slovenia\">Slovenia</a></td>\n",
      "<td>80.8\n",
      "</td>\n",
      "<td>10%\n",
      "</td></tr>\n",
      "<tr>\n",
      "<td>22\n",
      "</td>\n",
      "<td><span class=\"flagicon\"><img alt=\"\" class=\"thumbborder\" data-file-height=\"387\" data-file-width=\"512\" decoding=\"async\" height=\"15\" src=\"//upload.wikimedia.org/wikipedia/commons/thumb/9/9c/Flag_of_Denmark.svg/20px-Flag_of_Denmark.svg.png\" srcset=\"//upload.wikimedia.org/wikipedia/commons/thumb/9/9c/Flag_of_Denmark.svg/31px-Flag_of_Denmark.svg.png 1.5x, //upload.wikimedia.org/wikipedia/commons/thumb/9/9c/Flag_of_Denmark.svg/40px-Flag_of_Denmark.svg.png 2x\" width=\"20\"/> </span><a href=\"/wiki/Denmark\" title=\"Denmark\">Denmark</a></td>\n",
      "<td>80.7\n",
      "</td>\n",
      "<td>41%\n",
      "</td></tr>\n",
      "<tr>\n",
      "<td>23\n",
      "</td>\n",
      "<td><span class=\"flagicon\"><img alt=\"\" class=\"thumbborder\" data-file-height=\"600\" data-file-width=\"1000\" decoding=\"async\" height=\"14\" src=\"//upload.wikimedia.org/wikipedia/en/thumb/b/ba/Flag_of_Germany.svg/23px-Flag_of_Germany.svg.png\" srcset=\"//upload.wikimedia.org/wikipedia/en/thumb/b/ba/Flag_of_Germany.svg/35px-Flag_of_Germany.svg.png 1.5x, //upload.wikimedia.org/wikipedia/en/thumb/b/ba/Flag_of_Germany.svg/46px-Flag_of_Germany.svg.png 2x\" width=\"23\"/> </span><a href=\"/wiki/Germany\" title=\"Germany\">Germany</a></td>\n",
      "<td>80.6\n",
      "</td>\n",
      "<td>35%\n",
      "</td></tr>\n",
      "<tr>\n",
      "<td>24\n",
      "</td>\n",
      "<td><span class=\"flagicon\"><img alt=\"\" class=\"thumbborder\" data-file-height=\"600\" data-file-width=\"900\" decoding=\"async\" height=\"15\" src=\"//upload.wikimedia.org/wikipedia/commons/thumb/d/d4/Flag_of_Cyprus.svg/23px-Flag_of_Cyprus.svg.png\" srcset=\"//upload.wikimedia.org/wikipedia/commons/thumb/d/d4/Flag_of_Cyprus.svg/35px-Flag_of_Cyprus.svg.png 1.5x, //upload.wikimedia.org/wikipedia/commons/thumb/d/d4/Flag_of_Cyprus.svg/45px-Flag_of_Cyprus.svg.png 2x\" width=\"23\"/> </span><a href=\"/wiki/Cyprus\" title=\"Cyprus\">Cyprus</a></td>\n",
      "<td>80.5\n",
      "</td>\n",
      "<td>\n",
      "</td></tr>\n",
      "<tr>\n",
      "<td>25\n",
      "</td>\n",
      "<td><span class=\"flagicon\"><img alt=\"\" class=\"thumbborder\" data-file-height=\"700\" data-file-width=\"980\" decoding=\"async\" height=\"15\" src=\"//upload.wikimedia.org/wikipedia/commons/thumb/3/36/Flag_of_Albania.svg/21px-Flag_of_Albania.svg.png\" srcset=\"//upload.wikimedia.org/wikipedia/commons/thumb/3/36/Flag_of_Albania.svg/32px-Flag_of_Albania.svg.png 1.5x, //upload.wikimedia.org/wikipedia/commons/thumb/3/36/Flag_of_Albania.svg/42px-Flag_of_Albania.svg.png 2x\" width=\"21\"/> </span><a href=\"/wiki/Albania\" title=\"Albania\">Albania</a></td>\n",
      "<td>78.3\n",
      "</td>\n",
      "<td>\n",
      "</td></tr>\n",
      "<tr>\n",
      "<td>26\n",
      "</td>\n",
      "<td><span class=\"flagicon\"><img alt=\"\" class=\"thumbborder\" data-file-height=\"600\" data-file-width=\"900\" decoding=\"async\" height=\"15\" src=\"//upload.wikimedia.org/wikipedia/commons/thumb/c/cb/Flag_of_the_Czech_Republic.svg/23px-Flag_of_the_Czech_Republic.svg.png\" srcset=\"//upload.wikimedia.org/wikipedia/commons/thumb/c/cb/Flag_of_the_Czech_Republic.svg/35px-Flag_of_the_Czech_Republic.svg.png 1.5x, //upload.wikimedia.org/wikipedia/commons/thumb/c/cb/Flag_of_the_Czech_Republic.svg/45px-Flag_of_the_Czech_Republic.svg.png 2x\" width=\"23\"/> </span><a href=\"/wiki/Czech_Republic\" title=\"Czech Republic\">Czech Republic</a></td>\n",
      "<td>78.3\n",
      "</td>\n",
      "<td>\n",
      "</td></tr>\n",
      "<tr>\n",
      "<td>27\n",
      "</td>\n",
      "<td><span class=\"flagicon\"><img alt=\"\" class=\"thumbborder\" data-file-height=\"600\" data-file-width=\"1200\" decoding=\"async\" height=\"12\" src=\"//upload.wikimedia.org/wikipedia/commons/thumb/1/1b/Flag_of_Croatia.svg/23px-Flag_of_Croatia.svg.png\" srcset=\"//upload.wikimedia.org/wikipedia/commons/thumb/1/1b/Flag_of_Croatia.svg/35px-Flag_of_Croatia.svg.png 1.5x, //upload.wikimedia.org/wikipedia/commons/thumb/1/1b/Flag_of_Croatia.svg/46px-Flag_of_Croatia.svg.png 2x\" width=\"23\"/> </span><a href=\"/wiki/Croatia\" title=\"Croatia\">Croatia</a></td>\n",
      "<td>78.0\n",
      "</td>\n",
      "<td>21%\n",
      "</td></tr>\n",
      "<tr>\n",
      "<td>28\n",
      "</td>\n",
      "<td><span class=\"flagicon\"><img alt=\"\" class=\"thumbborder\" data-file-height=\"630\" data-file-width=\"990\" decoding=\"async\" height=\"15\" src=\"//upload.wikimedia.org/wikipedia/commons/thumb/8/8f/Flag_of_Estonia.svg/23px-Flag_of_Estonia.svg.png\" srcset=\"//upload.wikimedia.org/wikipedia/commons/thumb/8/8f/Flag_of_Estonia.svg/35px-Flag_of_Estonia.svg.png 1.5x, //upload.wikimedia.org/wikipedia/commons/thumb/8/8f/Flag_of_Estonia.svg/46px-Flag_of_Estonia.svg.png 2x\" width=\"23\"/> </span><a href=\"/wiki/Estonia\" title=\"Estonia\">Estonia</a></td>\n",
      "<td>77.7\n",
      "</td>\n",
      "<td>3%\n",
      "</td></tr>\n",
      "<tr>\n",
      "<td>29\n",
      "</td>\n",
      "<td><span class=\"flagicon\"><img alt=\"\" class=\"thumbborder\" data-file-height=\"800\" data-file-width=\"1280\" decoding=\"async\" height=\"14\" src=\"//upload.wikimedia.org/wikipedia/en/thumb/1/12/Flag_of_Poland.svg/23px-Flag_of_Poland.svg.png\" srcset=\"//upload.wikimedia.org/wikipedia/en/thumb/1/12/Flag_of_Poland.svg/35px-Flag_of_Poland.svg.png 1.5x, //upload.wikimedia.org/wikipedia/en/thumb/1/12/Flag_of_Poland.svg/46px-Flag_of_Poland.svg.png 2x\" width=\"23\"/> </span><a href=\"/wiki/Poland\" title=\"Poland\">Poland</a></td>\n",
      "<td>77.5\n",
      "</td>\n",
      "<td>\n",
      "</td></tr>\n",
      "<tr>\n",
      "<td>30\n",
      "</td>\n",
      "<td><span class=\"flagicon\"><img alt=\"\" class=\"thumbborder\" data-file-height=\"320\" data-file-width=\"640\" decoding=\"async\" height=\"12\" src=\"//upload.wikimedia.org/wikipedia/commons/thumb/6/64/Flag_of_Montenegro.svg/23px-Flag_of_Montenegro.svg.png\" srcset=\"//upload.wikimedia.org/wikipedia/commons/thumb/6/64/Flag_of_Montenegro.svg/35px-Flag_of_Montenegro.svg.png 1.5x, //upload.wikimedia.org/wikipedia/commons/thumb/6/64/Flag_of_Montenegro.svg/46px-Flag_of_Montenegro.svg.png 2x\" width=\"23\"/> </span><a href=\"/wiki/Montenegro\" title=\"Montenegro\">Montenegro</a></td>\n",
      "<td>77.1\n",
      "</td>\n",
      "<td>13%\n",
      "</td></tr>\n",
      "<tr>\n",
      "<td>31\n",
      "</td>\n",
      "<td><span class=\"flagicon\"><img alt=\"\" class=\"thumbborder\" data-file-height=\"400\" data-file-width=\"800\" decoding=\"async\" height=\"12\" src=\"//upload.wikimedia.org/wikipedia/commons/thumb/b/bf/Flag_of_Bosnia_and_Herzegovina.svg/23px-Flag_of_Bosnia_and_Herzegovina.svg.png\" srcset=\"//upload.wikimedia.org/wikipedia/commons/thumb/b/bf/Flag_of_Bosnia_and_Herzegovina.svg/35px-Flag_of_Bosnia_and_Herzegovina.svg.png 1.5x, //upload.wikimedia.org/wikipedia/commons/thumb/b/bf/Flag_of_Bosnia_and_Herzegovina.svg/46px-Flag_of_Bosnia_and_Herzegovina.svg.png 2x\" width=\"23\"/> </span><a href=\"/wiki/Bosnia_and_Herzegovina\" title=\"Bosnia and Herzegovina\">Bosnia and Herzegovina</a></td>\n",
      "<td>76.9\n",
      "</td>\n",
      "<td>\n",
      "</td></tr>\n",
      "<tr>\n",
      "<td>32\n",
      "</td>\n",
      "<td><span class=\"flagicon\"><img alt=\"\" class=\"thumbborder\" data-file-height=\"341\" data-file-width=\"512\" decoding=\"async\" height=\"15\" src=\"//upload.wikimedia.org/wikipedia/commons/thumb/e/e6/Flag_of_Slovakia.svg/23px-Flag_of_Slovakia.svg.png\" srcset=\"//upload.wikimedia.org/wikipedia/commons/thumb/e/e6/Flag_of_Slovakia.svg/35px-Flag_of_Slovakia.svg.png 1.5x, //upload.wikimedia.org/wikipedia/commons/thumb/e/e6/Flag_of_Slovakia.svg/45px-Flag_of_Slovakia.svg.png 2x\" width=\"23\"/> </span><a href=\"/wiki/Slovakia\" title=\"Slovakia\">Slovakia</a></td>\n",
      "<td>76.6\n",
      "</td>\n",
      "<td>10%\n",
      "</td></tr>\n",
      "<tr>\n",
      "<td>33\n",
      "</td>\n",
      "<td><span class=\"flagicon\"><img alt=\"\" class=\"thumbborder\" data-file-height=\"800\" data-file-width=\"1200\" decoding=\"async\" height=\"15\" src=\"//upload.wikimedia.org/wikipedia/commons/thumb/b/b4/Flag_of_Turkey.svg/23px-Flag_of_Turkey.svg.png\" srcset=\"//upload.wikimedia.org/wikipedia/commons/thumb/b/b4/Flag_of_Turkey.svg/35px-Flag_of_Turkey.svg.png 1.5x, //upload.wikimedia.org/wikipedia/commons/thumb/b/b4/Flag_of_Turkey.svg/45px-Flag_of_Turkey.svg.png 2x\" width=\"23\"/> </span><a href=\"/wiki/Turkey\" title=\"Turkey\">Turkey</a></td>\n",
      "<td>75.8\n",
      "</td>\n",
      "<td>7%\n",
      "</td></tr>\n",
      "<tr>\n",
      "<td>34\n",
      "</td>\n",
      "<td><span class=\"flagicon\"><img alt=\"\" class=\"thumbborder\" data-file-height=\"600\" data-file-width=\"1200\" decoding=\"async\" height=\"12\" src=\"//upload.wikimedia.org/wikipedia/commons/thumb/7/79/Flag_of_North_Macedonia.svg/23px-Flag_of_North_Macedonia.svg.png\" srcset=\"//upload.wikimedia.org/wikipedia/commons/thumb/7/79/Flag_of_North_Macedonia.svg/35px-Flag_of_North_Macedonia.svg.png 1.5x, //upload.wikimedia.org/wikipedia/commons/thumb/7/79/Flag_of_North_Macedonia.svg/46px-Flag_of_North_Macedonia.svg.png 2x\" width=\"23\"/> </span><a href=\"/wiki/North_Macedonia\" title=\"North Macedonia\">North Macedonia</a></td>\n",
      "<td>75.7\n",
      "</td>\n",
      "<td>6%\n",
      "</td></tr>\n",
      "<tr>\n",
      "<td>35\n",
      "</td>\n",
      "<td><span class=\"flagicon\"><img alt=\"\" class=\"thumbborder\" data-file-height=\"600\" data-file-width=\"1200\" decoding=\"async\" height=\"12\" src=\"//upload.wikimedia.org/wikipedia/commons/thumb/c/c1/Flag_of_Hungary.svg/23px-Flag_of_Hungary.svg.png\" srcset=\"//upload.wikimedia.org/wikipedia/commons/thumb/c/c1/Flag_of_Hungary.svg/35px-Flag_of_Hungary.svg.png 1.5x, //upload.wikimedia.org/wikipedia/commons/thumb/c/c1/Flag_of_Hungary.svg/46px-Flag_of_Hungary.svg.png 2x\" width=\"23\"/> </span><a href=\"/wiki/Hungary\" title=\"Hungary\">Hungary</a></td>\n",
      "<td>75.6\n",
      "</td>\n",
      "<td>20%\n",
      "</td></tr>\n",
      "<tr>\n",
      "<td>36\n",
      "</td>\n",
      "<td><span class=\"flagicon\"><img alt=\"\" class=\"thumbborder\" data-file-height=\"630\" data-file-width=\"945\" decoding=\"async\" height=\"15\" src=\"//upload.wikimedia.org/wikipedia/commons/thumb/f/ff/Flag_of_Serbia.svg/23px-Flag_of_Serbia.svg.png\" srcset=\"//upload.wikimedia.org/wikipedia/commons/thumb/f/ff/Flag_of_Serbia.svg/35px-Flag_of_Serbia.svg.png 1.5x, //upload.wikimedia.org/wikipedia/commons/thumb/f/ff/Flag_of_Serbia.svg/45px-Flag_of_Serbia.svg.png 2x\" width=\"23\"/> </span><a href=\"/wiki/Serbia\" title=\"Serbia\">Serbia</a></td>\n",
      "<td>75.2\n",
      "</td>\n",
      "<td>11%\n",
      "</td></tr>\n",
      "<tr>\n",
      "<td>37\n",
      "</td>\n",
      "<td><span class=\"flagicon\"><img alt=\"\" class=\"thumbborder\" data-file-height=\"400\" data-file-width=\"600\" decoding=\"async\" height=\"15\" src=\"//upload.wikimedia.org/wikipedia/commons/thumb/7/73/Flag_of_Romania.svg/23px-Flag_of_Romania.svg.png\" srcset=\"//upload.wikimedia.org/wikipedia/commons/thumb/7/73/Flag_of_Romania.svg/35px-Flag_of_Romania.svg.png 1.5x, //upload.wikimedia.org/wikipedia/commons/thumb/7/73/Flag_of_Romania.svg/45px-Flag_of_Romania.svg.png 2x\" width=\"23\"/> </span><a href=\"/wiki/Romania\" title=\"Romania\">Romania</a></td>\n",
      "<td>75.0\n",
      "</td>\n",
      "<td>8%\n",
      "</td></tr>\n",
      "<tr>\n",
      "<td>38\n",
      "</td>\n",
      "<td><span class=\"flagicon\"><img alt=\"\" class=\"thumbborder\" data-file-height=\"600\" data-file-width=\"1000\" decoding=\"async\" height=\"14\" src=\"//upload.wikimedia.org/wikipedia/commons/thumb/9/9a/Flag_of_Bulgaria.svg/23px-Flag_of_Bulgaria.svg.png\" srcset=\"//upload.wikimedia.org/wikipedia/commons/thumb/9/9a/Flag_of_Bulgaria.svg/35px-Flag_of_Bulgaria.svg.png 1.5x, //upload.wikimedia.org/wikipedia/commons/thumb/9/9a/Flag_of_Bulgaria.svg/46px-Flag_of_Bulgaria.svg.png 2x\" width=\"23\"/> </span><a href=\"/wiki/Bulgaria\" title=\"Bulgaria\">Bulgaria</a></td>\n",
      "<td>74.6\n",
      "</td>\n",
      "<td>\n",
      "</td></tr>\n",
      "<tr>\n",
      "<td>39\n",
      "</td>\n",
      "<td><span class=\"flagicon\"><img alt=\"\" class=\"thumbborder\" data-file-height=\"600\" data-file-width=\"1200\" decoding=\"async\" height=\"12\" src=\"//upload.wikimedia.org/wikipedia/commons/thumb/8/84/Flag_of_Latvia.svg/23px-Flag_of_Latvia.svg.png\" srcset=\"//upload.wikimedia.org/wikipedia/commons/thumb/8/84/Flag_of_Latvia.svg/35px-Flag_of_Latvia.svg.png 1.5x, //upload.wikimedia.org/wikipedia/commons/thumb/8/84/Flag_of_Latvia.svg/46px-Flag_of_Latvia.svg.png 2x\" width=\"23\"/> </span><a href=\"/wiki/Latvia\" title=\"Latvia\">Latvia</a></td>\n",
      "<td>74.5\n",
      "</td>\n",
      "<td>4%\n",
      "</td></tr>\n",
      "<tr>\n",
      "<td>40\n",
      "</td>\n",
      "<td><span class=\"flagicon\"><img alt=\"\" class=\"thumbborder\" data-file-height=\"600\" data-file-width=\"1000\" decoding=\"async\" height=\"14\" src=\"//upload.wikimedia.org/wikipedia/commons/thumb/1/11/Flag_of_Lithuania.svg/23px-Flag_of_Lithuania.svg.png\" srcset=\"//upload.wikimedia.org/wikipedia/commons/thumb/1/11/Flag_of_Lithuania.svg/35px-Flag_of_Lithuania.svg.png 1.5x, //upload.wikimedia.org/wikipedia/commons/thumb/1/11/Flag_of_Lithuania.svg/46px-Flag_of_Lithuania.svg.png 2x\" width=\"23\"/> </span><a href=\"/wiki/Lithuania\" title=\"Lithuania\">Lithuania</a></td>\n",
      "<td>74.3\n",
      "</td>\n",
      "<td>23%\n",
      "</td></tr>\n",
      "<tr>\n",
      "<td>41\n",
      "</td>\n",
      "<td><span class=\"flagicon\"><img alt=\"\" class=\"thumbborder\" data-file-height=\"450\" data-file-width=\"900\" decoding=\"async\" height=\"12\" src=\"//upload.wikimedia.org/wikipedia/commons/thumb/8/85/Flag_of_Belarus.svg/23px-Flag_of_Belarus.svg.png\" srcset=\"//upload.wikimedia.org/wikipedia/commons/thumb/8/85/Flag_of_Belarus.svg/35px-Flag_of_Belarus.svg.png 1.5x, //upload.wikimedia.org/wikipedia/commons/thumb/8/85/Flag_of_Belarus.svg/46px-Flag_of_Belarus.svg.png 2x\" width=\"23\"/> </span><a href=\"/wiki/Belarus\" title=\"Belarus\">Belarus</a></td>\n",
      "<td>73.8\n",
      "</td>\n",
      "<td>\n",
      "</td></tr>\n",
      "<tr>\n",
      "<td>42\n",
      "</td>\n",
      "<td><span class=\"flagicon\"><img alt=\"\" class=\"thumbborder\" data-file-height=\"800\" data-file-width=\"1200\" decoding=\"async\" height=\"15\" src=\"//upload.wikimedia.org/wikipedia/commons/thumb/4/49/Flag_of_Ukraine.svg/23px-Flag_of_Ukraine.svg.png\" srcset=\"//upload.wikimedia.org/wikipedia/commons/thumb/4/49/Flag_of_Ukraine.svg/35px-Flag_of_Ukraine.svg.png 1.5x, //upload.wikimedia.org/wikipedia/commons/thumb/4/49/Flag_of_Ukraine.svg/45px-Flag_of_Ukraine.svg.png 2x\" width=\"23\"/> </span><a href=\"/wiki/Ukraine\" title=\"Ukraine\">Ukraine</a></td>\n",
      "<td>72.1\n",
      "</td>\n",
      "<td>\n",
      "</td></tr>\n",
      "<tr>\n",
      "<td>43\n",
      "</td>\n",
      "<td><span class=\"flagicon\"><img alt=\"\" class=\"thumbborder\" data-file-height=\"900\" data-file-width=\"1800\" decoding=\"async\" height=\"12\" src=\"//upload.wikimedia.org/wikipedia/commons/thumb/2/27/Flag_of_Moldova.svg/23px-Flag_of_Moldova.svg.png\" srcset=\"//upload.wikimedia.org/wikipedia/commons/thumb/2/27/Flag_of_Moldova.svg/35px-Flag_of_Moldova.svg.png 1.5x, //upload.wikimedia.org/wikipedia/commons/thumb/2/27/Flag_of_Moldova.svg/46px-Flag_of_Moldova.svg.png 2x\" width=\"23\"/> </span><a href=\"/wiki/Moldova\" title=\"Moldova\">Moldova</a></td>\n",
      "<td>71.6\n",
      "</td>\n",
      "<td>\n",
      "</td></tr>\n",
      "<tr>\n",
      "<td>44\n",
      "</td>\n",
      "<td><span class=\"flagicon\"><img alt=\"\" class=\"thumbborder\" data-file-height=\"600\" data-file-width=\"900\" decoding=\"async\" height=\"15\" src=\"//upload.wikimedia.org/wikipedia/en/thumb/f/f3/Flag_of_Russia.svg/23px-Flag_of_Russia.svg.png\" srcset=\"//upload.wikimedia.org/wikipedia/en/thumb/f/f3/Flag_of_Russia.svg/35px-Flag_of_Russia.svg.png 1.5x, //upload.wikimedia.org/wikipedia/en/thumb/f/f3/Flag_of_Russia.svg/45px-Flag_of_Russia.svg.png 2x\" width=\"23\"/> </span><a href=\"/wiki/Russia\" title=\"Russia\">Russia</a></td>\n",
      "<td>71.6\n",
      "</td>\n",
      "<td>\n",
      "</td></tr>\n",
      "</tbody>\n"
     ]
    }
   ],
   "source": [
    "print(table_wiki)"
   ]
  },
  {
   "cell_type": "code",
   "execution_count": 11,
   "metadata": {
    "ExecuteTime": {
     "end_time": "2022-01-22T10:52:25.441514Z",
     "start_time": "2022-01-22T10:52:25.426557Z"
    }
   },
   "outputs": [
    {
     "data": {
      "text/plain": [
       "bs4.element.Tag"
      ]
     },
     "execution_count": 11,
     "metadata": {},
     "output_type": "execute_result"
    }
   ],
   "source": [
    "type(table_wiki)"
   ]
  },
  {
   "cell_type": "markdown",
   "metadata": {},
   "source": [
    "### Extraindo as linhas da tabela ('tr')"
   ]
  },
  {
   "cell_type": "code",
   "execution_count": 12,
   "metadata": {
    "ExecuteTime": {
     "end_time": "2022-01-22T10:52:48.635587Z",
     "start_time": "2022-01-22T10:52:48.625586Z"
    }
   },
   "outputs": [],
   "source": [
    "table_rows = table_wiki.find_all('tr')"
   ]
  },
  {
   "cell_type": "code",
   "execution_count": 13,
   "metadata": {
    "ExecuteTime": {
     "end_time": "2022-01-22T10:53:17.757225Z",
     "start_time": "2022-01-22T10:53:17.737303Z"
    }
   },
   "outputs": [
    {
     "data": {
      "text/plain": [
       "<tr>\n",
       "<td>1\n",
       "</td>\n",
       "<td><span class=\"flagicon\"><img alt=\"\" class=\"thumbborder\" data-file-height=\"800\" data-file-width=\"1000\" decoding=\"async\" height=\"15\" src=\"//upload.wikimedia.org/wikipedia/commons/thumb/e/ea/Flag_of_Monaco.svg/19px-Flag_of_Monaco.svg.png\" srcset=\"//upload.wikimedia.org/wikipedia/commons/thumb/e/ea/Flag_of_Monaco.svg/29px-Flag_of_Monaco.svg.png 1.5x, //upload.wikimedia.org/wikipedia/commons/thumb/e/ea/Flag_of_Monaco.svg/38px-Flag_of_Monaco.svg.png 2x\" width=\"19\"/> </span><a href=\"/wiki/Monaco\" title=\"Monaco\">Monaco</a><sup class=\"reference\" id=\"cite_ref-3\"><a href=\"#cite_note-3\">[3]</a></sup>\n",
       "</td>\n",
       "<td>89.4\n",
       "</td>\n",
       "<td>\n",
       "</td></tr>"
      ]
     },
     "execution_count": 13,
     "metadata": {},
     "output_type": "execute_result"
    }
   ],
   "source": [
    "table_rows[1]"
   ]
  },
  {
   "cell_type": "markdown",
   "metadata": {},
   "source": [
    "### Extraindo as colunas de cada linha ('td')"
   ]
  },
  {
   "cell_type": "code",
   "execution_count": 14,
   "metadata": {
    "ExecuteTime": {
     "end_time": "2022-01-22T10:57:05.390252Z",
     "start_time": "2022-01-22T10:57:05.374293Z"
    }
   },
   "outputs": [
    {
     "data": {
      "text/plain": [
       "[<td>1\n",
       " </td>,\n",
       " <td><span class=\"flagicon\"><img alt=\"\" class=\"thumbborder\" data-file-height=\"800\" data-file-width=\"1000\" decoding=\"async\" height=\"15\" src=\"//upload.wikimedia.org/wikipedia/commons/thumb/e/ea/Flag_of_Monaco.svg/19px-Flag_of_Monaco.svg.png\" srcset=\"//upload.wikimedia.org/wikipedia/commons/thumb/e/ea/Flag_of_Monaco.svg/29px-Flag_of_Monaco.svg.png 1.5x, //upload.wikimedia.org/wikipedia/commons/thumb/e/ea/Flag_of_Monaco.svg/38px-Flag_of_Monaco.svg.png 2x\" width=\"19\"/> </span><a href=\"/wiki/Monaco\" title=\"Monaco\">Monaco</a><sup class=\"reference\" id=\"cite_ref-3\"><a href=\"#cite_note-3\">[3]</a></sup>\n",
       " </td>,\n",
       " <td>89.4\n",
       " </td>,\n",
       " <td>\n",
       " </td>]"
      ]
     },
     "execution_count": 14,
     "metadata": {},
     "output_type": "execute_result"
    }
   ],
   "source": [
    "table_rows[1].find_all('td')"
   ]
  },
  {
   "cell_type": "code",
   "execution_count": 30,
   "metadata": {
    "ExecuteTime": {
     "end_time": "2022-01-22T11:19:48.558221Z",
     "start_time": "2022-01-22T11:19:48.541239Z"
    }
   },
   "outputs": [],
   "source": [
    "first_row = table_rows[1].find_all('td')\n",
    "second_row = table_rows[2].find_all('td')"
   ]
  },
  {
   "cell_type": "code",
   "execution_count": 32,
   "metadata": {},
   "outputs": [
    {
     "name": "stdout",
     "output_type": "stream",
     "text": [
      "[<td>1\n",
      "</td>, <td><span class=\"flagicon\"><img alt=\"\" class=\"thumbborder\" data-file-height=\"800\" data-file-width=\"1000\" decoding=\"async\" height=\"15\" src=\"//upload.wikimedia.org/wikipedia/commons/thumb/e/ea/Flag_of_Monaco.svg/19px-Flag_of_Monaco.svg.png\" srcset=\"//upload.wikimedia.org/wikipedia/commons/thumb/e/ea/Flag_of_Monaco.svg/29px-Flag_of_Monaco.svg.png 1.5x, //upload.wikimedia.org/wikipedia/commons/thumb/e/ea/Flag_of_Monaco.svg/38px-Flag_of_Monaco.svg.png 2x\" width=\"19\"/> </span><a href=\"/wiki/Monaco\" title=\"Monaco\">Monaco</a><sup class=\"reference\" id=\"cite_ref-3\"><a href=\"#cite_note-3\">[3]</a></sup>\n",
      "</td>, <td>89.4\n",
      "</td>, <td>\n",
      "</td>]\n"
     ]
    }
   ],
   "source": [
    "print(first_row)"
   ]
  },
  {
   "cell_type": "code",
   "execution_count": 33,
   "metadata": {},
   "outputs": [
    {
     "name": "stdout",
     "output_type": "stream",
     "text": [
      "[<td>2\n",
      "</td>, <td><span class=\"flagicon\"><img alt=\"\" class=\"thumbborder\" data-file-height=\"600\" data-file-width=\"800\" decoding=\"async\" height=\"15\" src=\"//upload.wikimedia.org/wikipedia/commons/thumb/b/b1/Flag_of_San_Marino.svg/20px-Flag_of_San_Marino.svg.png\" srcset=\"//upload.wikimedia.org/wikipedia/commons/thumb/b/b1/Flag_of_San_Marino.svg/31px-Flag_of_San_Marino.svg.png 1.5x, //upload.wikimedia.org/wikipedia/commons/thumb/b/b1/Flag_of_San_Marino.svg/40px-Flag_of_San_Marino.svg.png 2x\" width=\"20\"/> </span><a href=\"/wiki/San_Marino\" title=\"San Marino\">San Marino</a><sup class=\"reference\" id=\"cite_ref-4\"><a href=\"#cite_note-4\">[4]</a></sup>\n",
      "</td>, <td>83.4\n",
      "</td>, <td>\n",
      "</td>]\n"
     ]
    }
   ],
   "source": [
    "print(second_row)"
   ]
  },
  {
   "cell_type": "code",
   "execution_count": 48,
   "metadata": {
    "ExecuteTime": {
     "end_time": "2022-01-22T11:19:49.133870Z",
     "start_time": "2022-01-22T11:19:49.115888Z"
    }
   },
   "outputs": [
    {
     "name": "stdout",
     "output_type": "stream",
     "text": [
      "['1', 'Monaco[3]', '89.4', '']\n"
     ]
    }
   ],
   "source": [
    "row_1 = [elemento.text.strip() for elemento in first_row]\n",
    "print(row_1)"
   ]
  },
  {
   "cell_type": "code",
   "execution_count": 49,
   "metadata": {},
   "outputs": [
    {
     "name": "stdout",
     "output_type": "stream",
     "text": [
      "['2', 'San Marino[4]', '83.4', '']\n"
     ]
    }
   ],
   "source": [
    "row_2 = [elemento.text.strip() for elemento in second_row]\n",
    "print(row_2)"
   ]
  },
  {
   "cell_type": "code",
   "execution_count": 50,
   "metadata": {},
   "outputs": [
    {
     "name": "stdout",
     "output_type": "stream",
     "text": [
      "[]\n"
     ]
    }
   ],
   "source": [
    "matriz =list()\n",
    "print(matriz)"
   ]
  },
  {
   "cell_type": "code",
   "execution_count": 51,
   "metadata": {},
   "outputs": [
    {
     "name": "stdout",
     "output_type": "stream",
     "text": [
      "['1', 'Monaco[3]', '89.4', '']\n"
     ]
    }
   ],
   "source": [
    "print(row_1)"
   ]
  },
  {
   "cell_type": "code",
   "execution_count": 52,
   "metadata": {},
   "outputs": [
    {
     "name": "stdout",
     "output_type": "stream",
     "text": [
      "[['1', 'Monaco[3]', '89.4', '']]\n"
     ]
    }
   ],
   "source": [
    "matriz.append(row_1)\n",
    "print(matriz)"
   ]
  },
  {
   "cell_type": "code",
   "execution_count": 53,
   "metadata": {},
   "outputs": [
    {
     "name": "stdout",
     "output_type": "stream",
     "text": [
      "[['1', 'Monaco[3]', '89.4', ''], ['2', 'San Marino[4]', '83.4', '']]\n"
     ]
    }
   ],
   "source": [
    "matriz.append(row_2)\n",
    "print(matriz)"
   ]
  },
  {
   "cell_type": "markdown",
   "metadata": {},
   "source": [
    "### Juntando tudo!"
   ]
  },
  {
   "cell_type": "code",
   "execution_count": null,
   "metadata": {
    "ExecuteTime": {
     "end_time": "2022-01-22T11:21:40.577276Z",
     "start_time": "2022-01-22T11:21:40.560349Z"
    }
   },
   "outputs": [],
   "source": [
    "# EXERCICIO\n",
    "# Construir um DataFrame com os dados da tabela de Expectativa de Vida na Europa da Wikipedia\n",
    "# BONUS - faça isso com um list comprehension!\n",
    "# BONUS - contrua uma função que receba um link da Wikipedia com uma tabela e retorne um DataFrame (teste em outra tabela)"
   ]
  },
  {
   "cell_type": "code",
   "execution_count": 55,
   "metadata": {},
   "outputs": [
    {
     "data": {
      "text/html": [
       "<div>\n",
       "<style scoped>\n",
       "    .dataframe tbody tr th:only-of-type {\n",
       "        vertical-align: middle;\n",
       "    }\n",
       "\n",
       "    .dataframe tbody tr th {\n",
       "        vertical-align: top;\n",
       "    }\n",
       "\n",
       "    .dataframe thead th {\n",
       "        text-align: right;\n",
       "    }\n",
       "</style>\n",
       "<table border=\"1\" class=\"dataframe\">\n",
       "  <thead>\n",
       "    <tr style=\"text-align: right;\">\n",
       "      <th></th>\n",
       "      <th>rank</th>\n",
       "      <th>country</th>\n",
       "      <th>life_expectancy</th>\n",
       "      <th>vacination_rate</th>\n",
       "    </tr>\n",
       "  </thead>\n",
       "  <tbody>\n",
       "    <tr>\n",
       "      <th>0</th>\n",
       "      <td>1</td>\n",
       "      <td>Monaco[3]</td>\n",
       "      <td>89.4</td>\n",
       "      <td></td>\n",
       "    </tr>\n",
       "    <tr>\n",
       "      <th>1</th>\n",
       "      <td>2</td>\n",
       "      <td>San Marino[4]</td>\n",
       "      <td>83.4</td>\n",
       "      <td></td>\n",
       "    </tr>\n",
       "  </tbody>\n",
       "</table>\n",
       "</div>"
      ],
      "text/plain": [
       "  rank        country life_expectancy vacination_rate\n",
       "0    1      Monaco[3]            89.4                \n",
       "1    2  San Marino[4]            83.4                "
      ]
     },
     "execution_count": 55,
     "metadata": {},
     "output_type": "execute_result"
    }
   ],
   "source": [
    "pd.DataFrame(matriz, columns = ['rank','country','life_expectancy','vacination_rate'])"
   ]
  },
  {
   "cell_type": "code",
   "execution_count": null,
   "metadata": {},
   "outputs": [],
   "source": []
  },
  {
   "cell_type": "markdown",
   "metadata": {},
   "source": [
    "# Creating a spider"
   ]
  },
  {
   "cell_type": "markdown",
   "metadata": {},
   "source": [
    "## Find the book name, price and stock availability as a pandas dataframe."
   ]
  },
  {
   "cell_type": "code",
   "execution_count": null,
   "metadata": {
    "ExecuteTime": {
     "end_time": "2022-01-22T12:27:05.246313Z",
     "start_time": "2022-01-22T12:27:04.423043Z"
    }
   },
   "outputs": [],
   "source": [
    "# Your code here!\n",
    "url = 'https://books.toscrape.com/catalogue/page-1.html'\n",
    "response = requests.get(url)\n",
    "html = response.content\n",
    "soup = BeautifulSoup(html)"
   ]
  },
  {
   "cell_type": "code",
   "execution_count": null,
   "metadata": {
    "ExecuteTime": {
     "end_time": "2022-01-22T12:29:08.259705Z",
     "start_time": "2022-01-22T12:29:08.246736Z"
    }
   },
   "outputs": [],
   "source": [
    "articles = soup.find_all('article')\n",
    "print(articles[0].prettify())"
   ]
  },
  {
   "cell_type": "code",
   "execution_count": null,
   "metadata": {
    "ExecuteTime": {
     "end_time": "2022-01-22T12:28:55.793982Z",
     "start_time": "2022-01-22T12:28:55.779022Z"
    }
   },
   "outputs": [],
   "source": [
    "article_head = articles[0].find('h3')\n",
    "print(article_head.prettify())"
   ]
  },
  {
   "cell_type": "code",
   "execution_count": null,
   "metadata": {
    "ExecuteTime": {
     "end_time": "2022-01-22T12:29:44.451346Z",
     "start_time": "2022-01-22T12:29:44.436386Z"
    }
   },
   "outputs": [],
   "source": [
    "article_head.find('a')['title']"
   ]
  },
  {
   "cell_type": "code",
   "execution_count": null,
   "metadata": {
    "ExecuteTime": {
     "end_time": "2022-01-22T12:30:38.684233Z",
     "start_time": "2022-01-22T12:30:38.666281Z"
    }
   },
   "outputs": [],
   "source": [
    "articles[0].find('h3').find('a')['title']"
   ]
  },
  {
   "cell_type": "code",
   "execution_count": null,
   "metadata": {
    "ExecuteTime": {
     "end_time": "2022-01-22T12:30:52.103855Z",
     "start_time": "2022-01-22T12:30:52.086899Z"
    }
   },
   "outputs": [],
   "source": [
    "lista_titulos = [item.find('h3').find('a')['title'] for item in articles]"
   ]
  },
  {
   "cell_type": "code",
   "execution_count": null,
   "metadata": {
    "ExecuteTime": {
     "end_time": "2022-01-22T12:33:09.409913Z",
     "start_time": "2022-01-22T12:33:09.394953Z"
    }
   },
   "outputs": [],
   "source": [
    "articles[0].find('div', attrs = {'class' : 'product_price'})"
   ]
  },
  {
   "cell_type": "code",
   "execution_count": null,
   "metadata": {
    "ExecuteTime": {
     "end_time": "2022-01-22T12:34:08.689328Z",
     "start_time": "2022-01-22T12:34:08.684341Z"
    }
   },
   "outputs": [],
   "source": [
    "articles[0].find('div', attrs = {'class' : 'product_price'}).find('p', attrs = {'class' : 'price_color'})"
   ]
  },
  {
   "cell_type": "code",
   "execution_count": null,
   "metadata": {
    "ExecuteTime": {
     "end_time": "2022-01-22T12:34:51.359397Z",
     "start_time": "2022-01-22T12:34:51.345405Z"
    }
   },
   "outputs": [],
   "source": [
    "lista_preco = [\n",
    "    item.find('div', attrs={\n",
    "        'class': 'product_price'\n",
    "    }).find('p', attrs={\n",
    "        'class': 'price_color'\n",
    "    }).text for item in articles\n",
    "]"
   ]
  },
  {
   "cell_type": "code",
   "execution_count": null,
   "metadata": {
    "ExecuteTime": {
     "end_time": "2022-01-22T12:35:43.789581Z",
     "start_time": "2022-01-22T12:35:43.779582Z"
    }
   },
   "outputs": [],
   "source": [
    "articles[0].find('div', attrs = {'class' : 'product_price'}).find('p', attrs = {'class' : 'instock availability'}).text.strip()"
   ]
  },
  {
   "cell_type": "code",
   "execution_count": null,
   "metadata": {},
   "outputs": [],
   "source": [
    "stock_list = [\n",
    "    item.find('div', attrs={\n",
    "        'class': 'product_price'\n",
    "    }).find('p', attrs={\n",
    "        'class': 'instock availability'\n",
    "    }).text.strip() for item in articles\n",
    "]"
   ]
  },
  {
   "cell_type": "code",
   "execution_count": null,
   "metadata": {},
   "outputs": [],
   "source": [
    "# EXERCICIO\n",
    "# Extrair as informações acima para as primeiras 10 páginas e guarda-las em um DataFrame"
   ]
  },
  {
   "cell_type": "markdown",
   "metadata": {},
   "source": [
    "## Percorrer artigos relacionados à outro artigo"
   ]
  },
  {
   "cell_type": "code",
   "execution_count": null,
   "metadata": {
    "ExecuteTime": {
     "end_time": "2022-01-22T11:46:34.722724Z",
     "start_time": "2022-01-22T11:46:34.622073Z"
    }
   },
   "outputs": [],
   "source": [
    "url = \"https://www.theguardian.com/world/2022/jan/22/one-canadian-killed-after-tourists-shot-at-mexican-beach-resort-hotel\"\n",
    "response = requests.get(url)\n",
    "html = response.content\n",
    "soup = BeautifulSoup(html)"
   ]
  },
  {
   "cell_type": "code",
   "execution_count": null,
   "metadata": {
    "ExecuteTime": {
     "end_time": "2022-01-22T11:58:11.096046Z",
     "start_time": "2022-01-22T11:58:11.089065Z"
    }
   },
   "outputs": [],
   "source": [
    "artigo = soup.find('article')\n",
    "links_artigo = artigo.find_all('a', attrs={'data-link-name': 'in body link'})\n",
    "len(links_artigo)"
   ]
  },
  {
   "cell_type": "code",
   "execution_count": null,
   "metadata": {
    "ExecuteTime": {
     "end_time": "2022-01-22T11:58:41.864949Z",
     "start_time": "2022-01-22T11:58:41.854007Z"
    }
   },
   "outputs": [],
   "source": [
    "[link['href'] for link in links_artigo]"
   ]
  },
  {
   "cell_type": "code",
   "execution_count": null,
   "metadata": {
    "ExecuteTime": {
     "end_time": "2022-01-22T12:49:21.120757Z",
     "start_time": "2022-01-22T12:49:20.493766Z"
    }
   },
   "outputs": [],
   "source": [
    "url_filho = links_artigo[2]['href']\n",
    "response_filho = requests.get(url_filho)\n",
    "html_filho = response_filho.content\n",
    "soup_filho = BeautifulSoup(html_filho)\n",
    "artigo_filho = soup_filho.find('article').text\n",
    "print(artigo_filho)"
   ]
  },
  {
   "cell_type": "code",
   "execution_count": null,
   "metadata": {
    "ExecuteTime": {
     "end_time": "2022-01-22T12:50:42.821704Z",
     "start_time": "2022-01-22T12:50:40.467283Z"
    }
   },
   "outputs": [],
   "source": [
    "lista_artigos = []\n",
    "lista_links = [link['href'] for link in links_artigo]\n",
    "for link in lista_links:\n",
    "    if link.find('guardian') >= 0:\n",
    "        try:\n",
    "            response_filho = requests.get(link)\n",
    "            html_filho = response_filho.content\n",
    "            soup_filho = BeautifulSoup(html_filho)\n",
    "            lista_artigos.append(soup_filho.find('article').text)\n",
    "        except AttributeError:\n",
    "            continue"
   ]
  },
  {
   "cell_type": "code",
   "execution_count": null,
   "metadata": {
    "ExecuteTime": {
     "end_time": "2022-01-22T12:50:54.878340Z",
     "start_time": "2022-01-22T12:50:54.862379Z"
    }
   },
   "outputs": [],
   "source": [
    "# EXERCICIO\n",
    "# Transforme o código acima em uma função que recebe um link de artigo do Guardian como argumento\n",
    "# e retorna uma lista com o texto do artigo original e o texto de quaisquer artigos do Guardian\n",
    "# linkados no texto do artigo original\n",
    "# BONUS - crie uma função que faça isso em profundidade maior que um: além do artigo original e dos artigos\n",
    "# filhos (artigos linkados no artigo original) trazer os artigos netos (artigos linkados nos artigos filhos)\n",
    "# BONUS BONUS - contrua uma função capaz de extrair uma profundidade arbitraria de artigos (filhos, netos, bisnetos...) \n",
    "# a partir de um parametro 'depth' (0 = original, 1 = filhos, 2 = netos, 3 = bisnetos, etc)"
   ]
  },
  {
   "cell_type": "code",
   "execution_count": null,
   "metadata": {},
   "outputs": [],
   "source": []
  }
 ],
 "metadata": {
  "hide_input": false,
  "kernelspec": {
   "display_name": "Python 3 (ipykernel)",
   "language": "python",
   "name": "python3"
  },
  "language_info": {
   "codemirror_mode": {
    "name": "ipython",
    "version": 3
   },
   "file_extension": ".py",
   "mimetype": "text/x-python",
   "name": "python",
   "nbconvert_exporter": "python",
   "pygments_lexer": "ipython3",
   "version": "3.8.11"
  },
  "toc": {
   "base_numbering": 1,
   "nav_menu": {},
   "number_sections": true,
   "sideBar": true,
   "skip_h1_title": false,
   "title_cell": "Table of Contents",
   "title_sidebar": "Contents",
   "toc_cell": false,
   "toc_position": {},
   "toc_section_display": true,
   "toc_window_display": false
  },
  "varInspector": {
   "cols": {
    "lenName": 16,
    "lenType": 16,
    "lenVar": 40
   },
   "kernels_config": {
    "python": {
     "delete_cmd_postfix": "",
     "delete_cmd_prefix": "del ",
     "library": "var_list.py",
     "varRefreshCmd": "print(var_dic_list())"
    },
    "r": {
     "delete_cmd_postfix": ") ",
     "delete_cmd_prefix": "rm(",
     "library": "var_list.r",
     "varRefreshCmd": "cat(var_dic_list()) "
    }
   },
   "types_to_exclude": [
    "module",
    "function",
    "builtin_function_or_method",
    "instance",
    "_Feature"
   ],
   "window_display": false
  }
 },
 "nbformat": 4,
 "nbformat_minor": 4
}
