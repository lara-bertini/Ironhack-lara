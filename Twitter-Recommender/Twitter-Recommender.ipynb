{
 "cells": [
  {
   "cell_type": "markdown",
   "id": "b7078b8a",
   "metadata": {
    "toc": true
   },
   "source": [
    "<h1>Table of Contents<span class=\"tocSkip\"></span></h1>\n",
    "<div class=\"toc\"><ul class=\"toc-item\"></ul></div>"
   ]
  },
  {
   "cell_type": "code",
   "execution_count": null,
   "id": "1392dd12",
   "metadata": {},
   "outputs": [],
   "source": [
    "# pip install SQLAlchemy\n",
    "# pip install psycopg2\n",
    "# pip install PyMySQL\n",
    "# pip install networkx"
   ]
  },
  {
   "cell_type": "code",
   "execution_count": 30,
   "id": "7a086e53",
   "metadata": {
    "ExecuteTime": {
     "end_time": "2022-02-19T10:42:11.372292Z",
     "start_time": "2022-02-19T10:42:10.023773Z"
    }
   },
   "outputs": [],
   "source": [
    "# For sending GET requests from the AP\n",
    "import requests\n",
    "# For hiding my keys inside a file\n",
    "from dotenv import load_dotenv\n",
    "# For saving access tokens and for file management when creating and adding to the dataset\n",
    "import os\n",
    "# For creating connection between PostgreSQL & Python\n",
    "from sqlalchemy import create_engine\n",
    "import psycopg2\n",
    "import pandas as pd\n",
    "import numpy as np\n",
    "import time\n",
    "import networkx as nx\n",
    "import pandas as pd\n",
    "import seaborn as sns\n",
    "import matplotlib.pyplot as plt\n",
    "import statistics"
   ]
  },
  {
   "cell_type": "code",
   "execution_count": 15,
   "id": "2c5d595e",
   "metadata": {
    "ExecuteTime": {
     "end_time": "2022-02-19T10:47:48.349522Z",
     "start_time": "2022-02-19T10:47:48.333564Z"
    }
   },
   "outputs": [],
   "source": [
    "load_dotenv('credentials.env')\n",
    "Bearer_Token = os.getenv('Bearer_Token')\n",
    "header = {\"Authorization\" : \"Bearer \"+Bearer_Token}"
   ]
  },
  {
   "cell_type": "code",
   "execution_count": 16,
   "id": "e2dcef82",
   "metadata": {
    "ExecuteTime": {
     "end_time": "2022-02-19T10:47:50.037649Z",
     "start_time": "2022-02-19T10:47:49.786269Z"
    }
   },
   "outputs": [
    {
     "data": {
      "text/plain": [
       "{'data': [{'id': '827216467',\n",
       "   'name': 'Lara Bertini Vieira',\n",
       "   'username': 'LaraBertini'}]}"
      ]
     },
     "execution_count": 16,
     "metadata": {},
     "output_type": "execute_result"
    }
   ],
   "source": [
    "endpoint = \"https://api.twitter.com/2/users\"\n",
    "query = {\"ids\" : \"827216467\"}\n",
    "response = requests.request('GET', url = endpoint, headers=header, params = query)\n",
    "results = response.json()\n",
    "results"
   ]
  },
  {
   "cell_type": "code",
   "execution_count": 18,
   "id": "b0daf8b4",
   "metadata": {
    "ExecuteTime": {
     "end_time": "2022-02-19T10:49:06.095781Z",
     "start_time": "2022-02-19T10:49:06.083813Z"
    }
   },
   "outputs": [],
   "source": [
    "def get_name(user_id):\n",
    "    endpoint = \"https://api.twitter.com/2/users\"\n",
    "    query = {\"ids\" : user_id}\n",
    "    response = requests.request('GET', url = endpoint, headers=header, params = query)\n",
    "    results = response.json()\n",
    "    return results['data'][0]['name']\n",
    "\n",
    "def get_username(user_id):\n",
    "    endpoint = \"https://api.twitter.com/2/users\"\n",
    "    query = {\"ids\" : user_id}\n",
    "    response = requests.request('GET', url = endpoint, headers=header, params = query)\n",
    "    results = response.json()\n",
    "    return results['data'][0]['username']"
   ]
  },
  {
   "cell_type": "code",
   "execution_count": 19,
   "id": "de3e30d8",
   "metadata": {
    "ExecuteTime": {
     "end_time": "2022-02-19T10:49:06.629751Z",
     "start_time": "2022-02-19T10:49:06.622769Z"
    }
   },
   "outputs": [],
   "source": [
    "def get_id(username):\n",
    "    endpoint = \"https://api.twitter.com/2/users/by/username/\"+username\n",
    "    response = requests.request('GET', url = endpoint, headers=header)\n",
    "    results = response.json()\n",
    "    return results['data']['id']"
   ]
  },
  {
   "cell_type": "code",
   "execution_count": 48,
   "id": "a3c4121e",
   "metadata": {},
   "outputs": [
    {
     "data": {
      "text/plain": [
       "('827216467', 'Lara Bertini Vieira', 'LaraBertini', 9, 55, 28, 0)"
      ]
     },
     "execution_count": 48,
     "metadata": {},
     "output_type": "execute_result"
    }
   ],
   "source": [
    "def get_user_all_infos(user_id):\n",
    "    endpoint = \"https://api.twitter.com/2/users/\"+user_id\n",
    "    query = {\"user.fields\" : \"location\", \"user.fields\" : \"created_at\", \"user.fields\" : \"public_metrics\"}\n",
    "    response = requests.request('GET', url = endpoint, headers=header, params = query)\n",
    "    results = response.json()\n",
    "    try:\n",
    "        user_all_infos = (results['data']['id'],\n",
    "                results['data']['name'],\n",
    "                results['data']['username'],\n",
    "                results['data']['public_metrics']['followers_count'],\n",
    "                results['data']['public_metrics']['following_count'],\n",
    "                results['data']['public_metrics']['tweet_count'],\n",
    "                results['data']['public_metrics']['listed_count'])\n",
    "    except KeyError:\n",
    "        print('Limite da API excedido')\n",
    "        time.sleep(15*60)\n",
    "        user_all_infos = get_user_all_infos(user_id)\n",
    "    return user_all_infos\n",
    "\n",
    "get_user_all_infos(\"827216467\")"
   ]
  },
  {
   "cell_type": "code",
   "execution_count": 21,
   "id": "20a3c679",
   "metadata": {
    "ExecuteTime": {
     "end_time": "2022-02-19T10:49:08.370541Z",
     "start_time": "2022-02-19T10:49:07.763608Z"
    }
   },
   "outputs": [
    {
     "data": {
      "text/plain": [
       "14253"
      ]
     },
     "execution_count": 21,
     "metadata": {},
     "output_type": "execute_result"
    }
   ],
   "source": [
    "def get_followers_number(user_id):\n",
    "    endpoint = \"https://api.twitter.com/2/users\"\n",
    "    query = {\"ids\" : user_id, \"user.fields\" : \"public_metrics\"}\n",
    "    response = requests.request('GET', url = endpoint, headers=header, params = query)\n",
    "    results = response.json()\n",
    "    return results['data'][0]['public_metrics']['followers_count']\n",
    "\n",
    "get_followers_number(get_id(\"romerorodrigues\"))"
   ]
  },
  {
   "cell_type": "code",
   "execution_count": 49,
   "id": "0e1b2d9c",
   "metadata": {
    "ExecuteTime": {
     "end_time": "2022-02-19T11:12:40.739683Z",
     "start_time": "2022-02-19T11:12:40.720369Z"
    }
   },
   "outputs": [],
   "source": [
    "# Returns a list of all users infos who are followers of the specified user ID\n",
    "def get_followers(user_id):\n",
    "    endpoint = \"https://api.twitter.com/2/users/\"+user_id+\"/followers\"\n",
    "    response = requests.request('GET', url = endpoint, headers=header)\n",
    "    results = response.json()\n",
    "    try:\n",
    "        followers_list = [follower['id'] for follower in results['data']]\n",
    "    except KeyError:\n",
    "        if 'title' in results.keys():\n",
    "            print('Limite da API excedido')\n",
    "            time.sleep(15*60)\n",
    "            followers_list = get_followers(user_id)\n",
    "        else:\n",
    "            print('Usuário Privado')\n",
    "            followers_list = []\n",
    "    return followers_list"
   ]
  },
  {
   "cell_type": "code",
   "execution_count": null,
   "id": "1e7ca9a0",
   "metadata": {
    "ExecuteTime": {
     "start_time": "2022-02-19T11:12:42.477Z"
    }
   },
   "outputs": [
    {
     "name": "stdout",
     "output_type": "stream",
     "text": [
      "Limite da API excedido\n",
      "Usuário Privado\n",
      "Usuário Privado\n",
      "Limite da API excedido\n",
      "Limite da API excedido\n",
      "Limite da API excedido\n",
      "Usuário Privado\n",
      "Limite da API excedido\n",
      "Limite da API excedido\n",
      "Usuário Privado\n",
      "Limite da API excedido\n",
      "Usuário Privado\n",
      "Limite da API excedido\n",
      "Limite da API excedido\n",
      "Usuário Privado\n",
      "Limite da API excedido\n",
      "Usuário Privado\n",
      "Usuário Privado\n",
      "Usuário Privado\n",
      "Limite da API excedido\n"
     ]
    }
   ],
   "source": [
    "from queue import Queue\n",
    "MAX_DEPTH = 4\n",
    "CUR_MAX_DEPTH = -1\n",
    "user_q = Queue()\n",
    "user_q.put(('827216467', 0))\n",
    "user_set = set()\n",
    "while not user_q.empty():\n",
    "    current_user, current_depth = user_q.get()\n",
    "    if current_depth > CUR_MAX_DEPTH:\n",
    "        print(current_depth)\n",
    "        CUR_MAX_DEPTH = current_depth\n",
    "    user_set.add(current_user)\n",
    "    if current_depth <= MAX_DEPTH:\n",
    "        cu_followers = get_followers(current_user)\n",
    "        follower_db = []\n",
    "        for follower in cu_followers:\n",
    "            user_q.put((follower, current_depth + 1))\n",
    "            follower_db.append((current_user, follower))\n",
    "    else:\n",
    "        continue"
   ]
  },
  {
   "cell_type": "code",
   "execution_count": 110,
   "id": "69540e26",
   "metadata": {},
   "outputs": [],
   "source": [
    "# extracting dataframe with all connections between users and it´s followers\n",
    "followers_df = pd.read_csv('followers-dataset.csv')\n",
    "followers_df = followers_df.drop(columns=['relationship_id'])"
   ]
  },
  {
   "cell_type": "code",
   "execution_count": 113,
   "id": "8ec723f6",
   "metadata": {},
   "outputs": [],
   "source": [
    "G = nx.Graph()\n",
    "G.add_edges_from([tuple(x) for x in followers_df.values])"
   ]
  },
  {
   "cell_type": "code",
   "execution_count": 114,
   "id": "275f0c47",
   "metadata": {},
   "outputs": [
    {
     "data": {
      "image/png": "[encoded data removed]",
      "text/plain": [
       "<Figure size 432x288 with 1 Axes>"
      ]
     },
     "metadata": {},
     "output_type": "display_data"
    }
   ],
   "source": [
    "nx.draw(G)"
   ]
  },
  {
   "cell_type": "code",
   "execution_count": 115,
   "id": "52f3f2d6",
   "metadata": {},
   "outputs": [
    {
     "data": {
      "text/plain": [
       "4"
      ]
     },
     "execution_count": 115,
     "metadata": {},
     "output_type": "execute_result"
    }
   ],
   "source": [
    "nx.diameter(G)"
   ]
  },
  {
   "cell_type": "code",
   "execution_count": 116,
   "id": "68794761",
   "metadata": {},
   "outputs": [
    {
     "data": {
      "text/html": [
       "<div>\n",
       "<style scoped>\n",
       "    .dataframe tbody tr th:only-of-type {\n",
       "        vertical-align: middle;\n",
       "    }\n",
       "\n",
       "    .dataframe tbody tr th {\n",
       "        vertical-align: top;\n",
       "    }\n",
       "\n",
       "    .dataframe thead th {\n",
       "        text-align: right;\n",
       "    }\n",
       "</style>\n",
       "<table border=\"1\" class=\"dataframe\">\n",
       "  <thead>\n",
       "    <tr style=\"text-align: right;\">\n",
       "      <th></th>\n",
       "      <th>origin_id</th>\n",
       "      <th>following_id</th>\n",
       "    </tr>\n",
       "  </thead>\n",
       "  <tbody>\n",
       "    <tr>\n",
       "      <th>0</th>\n",
       "      <td>827216467</td>\n",
       "      <td>217436563</td>\n",
       "    </tr>\n",
       "    <tr>\n",
       "      <th>1</th>\n",
       "      <td>827216467</td>\n",
       "      <td>215823703</td>\n",
       "    </tr>\n",
       "    <tr>\n",
       "      <th>2</th>\n",
       "      <td>827216467</td>\n",
       "      <td>58183547</td>\n",
       "    </tr>\n",
       "    <tr>\n",
       "      <th>3</th>\n",
       "      <td>827216467</td>\n",
       "      <td>11189402</td>\n",
       "    </tr>\n",
       "    <tr>\n",
       "      <th>4</th>\n",
       "      <td>827216467</td>\n",
       "      <td>705552870</td>\n",
       "    </tr>\n",
       "  </tbody>\n",
       "</table>\n",
       "</div>"
      ],
      "text/plain": [
       "   origin_id  following_id\n",
       "0  827216467     217436563\n",
       "1  827216467     215823703\n",
       "2  827216467      58183547\n",
       "3  827216467      11189402\n",
       "4  827216467     705552870"
      ]
     },
     "execution_count": 116,
     "metadata": {},
     "output_type": "execute_result"
    }
   ],
   "source": [
    "followers_df.head()"
   ]
  },
  {
   "cell_type": "code",
   "execution_count": 118,
   "id": "c7266241",
   "metadata": {},
   "outputs": [],
   "source": [
    "unique_u_lst = list(set(list(followers_df['origin_id'])))+list(set(list(followers_df['following_id'])))\n",
    "all_infos_u_lst = [get_user_all_infos(str(user_id)) for user_id in unique_u_lst]\n",
    "unique_u_df = pd.DataFrame(all_infos_u_lst)\n",
    "unique_u_df.columns = ['u_id', 'u_name', 'u_username', 'u_followers_count', 'u_following_count', 'u_tweet_count', 'u_listed_count']"
   ]
  },
  {
   "cell_type": "code",
   "execution_count": 122,
   "id": "a35e4e75",
   "metadata": {},
   "outputs": [
    {
     "name": "stdout",
     "output_type": "stream",
     "text": [
      "<class 'pandas.core.frame.DataFrame'>\n",
      "RangeIndex: 53 entries, 0 to 52\n",
      "Data columns (total 7 columns):\n",
      " #   Column             Non-Null Count  Dtype \n",
      "---  ------             --------------  ----- \n",
      " 0   u_id               53 non-null     object\n",
      " 1   u_name             53 non-null     object\n",
      " 2   u_username         53 non-null     object\n",
      " 3   u_followers_count  53 non-null     int64 \n",
      " 4   u_following_count  53 non-null     int64 \n",
      " 5   u_tweet_count      53 non-null     int64 \n",
      " 6   u_listed_count     53 non-null     int64 \n",
      "dtypes: int64(4), object(3)\n",
      "memory usage: 3.0+ KB\n"
     ]
    }
   ],
   "source": [
    "unique_u_df.info()"
   ]
  },
  {
   "cell_type": "code",
   "execution_count": 123,
   "id": "34fe7e3b",
   "metadata": {},
   "outputs": [
    {
     "data": {
      "text/html": [
       "<div>\n",
       "<style scoped>\n",
       "    .dataframe tbody tr th:only-of-type {\n",
       "        vertical-align: middle;\n",
       "    }\n",
       "\n",
       "    .dataframe tbody tr th {\n",
       "        vertical-align: top;\n",
       "    }\n",
       "\n",
       "    .dataframe thead th {\n",
       "        text-align: right;\n",
       "    }\n",
       "</style>\n",
       "<table border=\"1\" class=\"dataframe\">\n",
       "  <thead>\n",
       "    <tr style=\"text-align: right;\">\n",
       "      <th></th>\n",
       "      <th>u_followers_count</th>\n",
       "      <th>u_following_count</th>\n",
       "      <th>u_tweet_count</th>\n",
       "      <th>u_listed_count</th>\n",
       "    </tr>\n",
       "  </thead>\n",
       "  <tbody>\n",
       "    <tr>\n",
       "      <th>count</th>\n",
       "      <td>53.000000</td>\n",
       "      <td>53.000000</td>\n",
       "      <td>53.000000</td>\n",
       "      <td>53.000000</td>\n",
       "    </tr>\n",
       "    <tr>\n",
       "      <th>mean</th>\n",
       "      <td>124.679245</td>\n",
       "      <td>301.679245</td>\n",
       "      <td>663.207547</td>\n",
       "      <td>1.962264</td>\n",
       "    </tr>\n",
       "    <tr>\n",
       "      <th>std</th>\n",
       "      <td>250.158163</td>\n",
       "      <td>426.090175</td>\n",
       "      <td>1552.373188</td>\n",
       "      <td>4.052360</td>\n",
       "    </tr>\n",
       "    <tr>\n",
       "      <th>min</th>\n",
       "      <td>1.000000</td>\n",
       "      <td>2.000000</td>\n",
       "      <td>0.000000</td>\n",
       "      <td>0.000000</td>\n",
       "    </tr>\n",
       "    <tr>\n",
       "      <th>25%</th>\n",
       "      <td>12.000000</td>\n",
       "      <td>55.000000</td>\n",
       "      <td>7.000000</td>\n",
       "      <td>0.000000</td>\n",
       "    </tr>\n",
       "    <tr>\n",
       "      <th>50%</th>\n",
       "      <td>27.000000</td>\n",
       "      <td>117.000000</td>\n",
       "      <td>30.000000</td>\n",
       "      <td>0.000000</td>\n",
       "    </tr>\n",
       "    <tr>\n",
       "      <th>75%</th>\n",
       "      <td>85.000000</td>\n",
       "      <td>328.000000</td>\n",
       "      <td>521.000000</td>\n",
       "      <td>1.000000</td>\n",
       "    </tr>\n",
       "    <tr>\n",
       "      <th>max</th>\n",
       "      <td>1138.000000</td>\n",
       "      <td>1970.000000</td>\n",
       "      <td>8537.000000</td>\n",
       "      <td>15.000000</td>\n",
       "    </tr>\n",
       "  </tbody>\n",
       "</table>\n",
       "</div>"
      ],
      "text/plain": [
       "       u_followers_count  u_following_count  u_tweet_count  u_listed_count\n",
       "count          53.000000          53.000000      53.000000       53.000000\n",
       "mean          124.679245         301.679245     663.207547        1.962264\n",
       "std           250.158163         426.090175    1552.373188        4.052360\n",
       "min             1.000000           2.000000       0.000000        0.000000\n",
       "25%            12.000000          55.000000       7.000000        0.000000\n",
       "50%            27.000000         117.000000      30.000000        0.000000\n",
       "75%            85.000000         328.000000     521.000000        1.000000\n",
       "max          1138.000000        1970.000000    8537.000000       15.000000"
      ]
     },
     "execution_count": 123,
     "metadata": {},
     "output_type": "execute_result"
    }
   ],
   "source": [
    "unique_u_df.describe()"
   ]
  },
  {
   "cell_type": "code",
   "execution_count": 125,
   "id": "8c1f0965",
   "metadata": {},
   "outputs": [
    {
     "data": {
      "text/html": [
       "<div>\n",
       "<style scoped>\n",
       "    .dataframe tbody tr th:only-of-type {\n",
       "        vertical-align: middle;\n",
       "    }\n",
       "\n",
       "    .dataframe tbody tr th {\n",
       "        vertical-align: top;\n",
       "    }\n",
       "\n",
       "    .dataframe thead th {\n",
       "        text-align: right;\n",
       "    }\n",
       "</style>\n",
       "<table border=\"1\" class=\"dataframe\">\n",
       "  <thead>\n",
       "    <tr style=\"text-align: right;\">\n",
       "      <th></th>\n",
       "      <th>u_id</th>\n",
       "      <th>u_name</th>\n",
       "      <th>u_username</th>\n",
       "      <th>u_followers_count</th>\n",
       "      <th>u_following_count</th>\n",
       "      <th>u_tweet_count</th>\n",
       "      <th>u_listed_count</th>\n",
       "    </tr>\n",
       "  </thead>\n",
       "  <tbody>\n",
       "    <tr>\n",
       "      <th>0</th>\n",
       "      <td>1606817833</td>\n",
       "      <td>Luciano Dellier</td>\n",
       "      <td>lucianodellier</td>\n",
       "      <td>12</td>\n",
       "      <td>58</td>\n",
       "      <td>10</td>\n",
       "      <td>0</td>\n",
       "    </tr>\n",
       "    <tr>\n",
       "      <th>1</th>\n",
       "      <td>340607650</td>\n",
       "      <td>Luis Pereira</td>\n",
       "      <td>pereira_lui</td>\n",
       "      <td>4</td>\n",
       "      <td>24</td>\n",
       "      <td>5</td>\n",
       "      <td>0</td>\n",
       "    </tr>\n",
       "    <tr>\n",
       "      <th>2</th>\n",
       "      <td>827216467</td>\n",
       "      <td>Lara Bertini Vieira</td>\n",
       "      <td>LaraBertini</td>\n",
       "      <td>9</td>\n",
       "      <td>55</td>\n",
       "      <td>28</td>\n",
       "      <td>0</td>\n",
       "    </tr>\n",
       "    <tr>\n",
       "      <th>3</th>\n",
       "      <td>32215318</td>\n",
       "      <td>Hamed S</td>\n",
       "      <td>hshalileh</td>\n",
       "      <td>24</td>\n",
       "      <td>91</td>\n",
       "      <td>7</td>\n",
       "      <td>0</td>\n",
       "    </tr>\n",
       "    <tr>\n",
       "      <th>4</th>\n",
       "      <td>1234216847173652480</td>\n",
       "      <td>Julia Ìràwò #VidasIndígenasImportam</td>\n",
       "      <td>ju_irawo</td>\n",
       "      <td>29</td>\n",
       "      <td>77</td>\n",
       "      <td>250</td>\n",
       "      <td>0</td>\n",
       "    </tr>\n",
       "  </tbody>\n",
       "</table>\n",
       "</div>"
      ],
      "text/plain": [
       "                  u_id                               u_name      u_username  \\\n",
       "0           1606817833                      Luciano Dellier  lucianodellier   \n",
       "1            340607650                         Luis Pereira     pereira_lui   \n",
       "2            827216467                  Lara Bertini Vieira     LaraBertini   \n",
       "3             32215318                              Hamed S       hshalileh   \n",
       "4  1234216847173652480  Julia Ìràwò #VidasIndígenasImportam        ju_irawo   \n",
       "\n",
       "   u_followers_count  u_following_count  u_tweet_count  u_listed_count  \n",
       "0                 12                 58             10               0  \n",
       "1                  4                 24              5               0  \n",
       "2                  9                 55             28               0  \n",
       "3                 24                 91              7               0  \n",
       "4                 29                 77            250               0  "
      ]
     },
     "execution_count": 125,
     "metadata": {},
     "output_type": "execute_result"
    }
   ],
   "source": [
    "unique_u_df.head()"
   ]
  },
  {
   "cell_type": "code",
   "execution_count": 158,
   "id": "f6a79065",
   "metadata": {},
   "outputs": [
    {
     "data": {
      "image/png": "[encoded data removed]",
      "text/plain": [
       "<Figure size 360x360 with 1 Axes>"
      ]
     },
     "metadata": {
      "needs_background": "light"
     },
     "output_type": "display_data"
    }
   ],
   "source": [
    "fig1 = sns.displot(data=unique_u_df, x='u_following_count');\n",
    "plt.axvline(unique_u_df['u_following_count'].mean(), color='red',label='Mean')\n",
    "plt.axvline(unique_u_df['u_following_count'].median(), color='green',label='Median')\n",
    "fig1.set_axis_labels('Number of Followings', 'Users Count')\n",
    "plt.legend();"
   ]
  },
  {
   "cell_type": "code",
   "execution_count": 157,
   "id": "eaa0f2fe",
   "metadata": {},
   "outputs": [
    {
     "data": {
      "image/png": "[encoded data removed]",
      "text/plain": [
       "<Figure size 360x360 with 1 Axes>"
      ]
     },
     "metadata": {
      "needs_background": "light"
     },
     "output_type": "display_data"
    }
   ],
   "source": [
    "fig1 = sns.displot(data=unique_u_df, x='u_followers_count');\n",
    "plt.axvline(unique_u_df['u_followers_count'].mean(), color='red',label='Mean')\n",
    "plt.axvline(unique_u_df['u_followers_count'].median(), color='green',label='Median')\n",
    "fig1.set_axis_labels('Number of Followers', 'Users Count')\n",
    "plt.legend();"
   ]
  },
  {
   "cell_type": "code",
   "execution_count": 159,
   "id": "2513d4ad",
   "metadata": {},
   "outputs": [
    {
     "data": {
      "image/png": "[encoded data removed]",
      "text/plain": [
       "<Figure size 360x360 with 1 Axes>"
      ]
     },
     "metadata": {
      "needs_background": "light"
     },
     "output_type": "display_data"
    }
   ],
   "source": [
    "fig1 = sns.displot(data=unique_u_df, x='u_tweet_count');\n",
    "plt.axvline(unique_u_df['u_tweet_count'].mean(), color='red',label='Mean')\n",
    "plt.axvline(unique_u_df['u_tweet_count'].median(), color='green',label='Median')\n",
    "fig1.set_axis_labels('Number of Tweets', 'Users Count')\n",
    "plt.legend();"
   ]
  },
  {
   "cell_type": "code",
   "execution_count": 2,
   "id": "a488953e",
   "metadata": {},
   "outputs": [],
   "source": [
    "edge_external_tb = pd.read_csv('twitter_external_DB.txt', sep = ' ', header= None)"
   ]
  },
  {
   "cell_type": "code",
   "execution_count": 3,
   "id": "dc750a76",
   "metadata": {
    "scrolled": true
   },
   "outputs": [
    {
     "name": "stdout",
     "output_type": "stream",
     "text": [
      "<class 'pandas.core.frame.DataFrame'>\n",
      "RangeIndex: 2420766 entries, 0 to 2420765\n",
      "Data columns (total 2 columns):\n",
      " #   Column       Dtype\n",
      "---  ------       -----\n",
      " 0   origin_id    int64\n",
      " 1   follower_id  int64\n",
      "dtypes: int64(2)\n",
      "memory usage: 36.9 MB\n"
     ]
    }
   ],
   "source": [
    "edge_external_tb.columns = ['origin_id', 'follower_id']\n",
    "edge_external_tb.info()"
   ]
  },
  {
   "cell_type": "code",
   "execution_count": 4,
   "id": "3df16366",
   "metadata": {},
   "outputs": [
    {
     "data": {
      "text/html": [
       "<div>\n",
       "<style scoped>\n",
       "    .dataframe tbody tr th:only-of-type {\n",
       "        vertical-align: middle;\n",
       "    }\n",
       "\n",
       "    .dataframe tbody tr th {\n",
       "        vertical-align: top;\n",
       "    }\n",
       "\n",
       "    .dataframe thead th {\n",
       "        text-align: right;\n",
       "    }\n",
       "</style>\n",
       "<table border=\"1\" class=\"dataframe\">\n",
       "  <thead>\n",
       "    <tr style=\"text-align: right;\">\n",
       "      <th></th>\n",
       "      <th>origin_id</th>\n",
       "      <th>follower_id</th>\n",
       "    </tr>\n",
       "  </thead>\n",
       "  <tbody>\n",
       "    <tr>\n",
       "      <th>0</th>\n",
       "      <td>214328887</td>\n",
       "      <td>34428380</td>\n",
       "    </tr>\n",
       "    <tr>\n",
       "      <th>1</th>\n",
       "      <td>17116707</td>\n",
       "      <td>28465635</td>\n",
       "    </tr>\n",
       "    <tr>\n",
       "      <th>2</th>\n",
       "      <td>380580781</td>\n",
       "      <td>18996905</td>\n",
       "    </tr>\n",
       "    <tr>\n",
       "      <th>3</th>\n",
       "      <td>221036078</td>\n",
       "      <td>153460275</td>\n",
       "    </tr>\n",
       "    <tr>\n",
       "      <th>4</th>\n",
       "      <td>107830991</td>\n",
       "      <td>17868918</td>\n",
       "    </tr>\n",
       "  </tbody>\n",
       "</table>\n",
       "</div>"
      ],
      "text/plain": [
       "   origin_id  follower_id\n",
       "0  214328887     34428380\n",
       "1   17116707     28465635\n",
       "2  380580781     18996905\n",
       "3  221036078    153460275\n",
       "4  107830991     17868918"
      ]
     },
     "execution_count": 4,
     "metadata": {},
     "output_type": "execute_result"
    }
   ],
   "source": [
    "edge_external_tb.head()"
   ]
  },
  {
   "cell_type": "code",
   "execution_count": 5,
   "id": "1a32dbbd",
   "metadata": {},
   "outputs": [
    {
     "data": {
      "text/plain": [
       "81306"
      ]
     },
     "execution_count": 5,
     "metadata": {},
     "output_type": "execute_result"
    }
   ],
   "source": [
    "G = nx.Graph()\n",
    "G.add_edges_from(list(edge_external_tb.to_records(index = False)))\n",
    "G.number_of_nodes()"
   ]
  },
  {
   "cell_type": "code",
   "execution_count": 6,
   "id": "ab02b2ba",
   "metadata": {},
   "outputs": [
    {
     "data": {
      "text/plain": [
       "0.0004061093340594295"
      ]
     },
     "execution_count": 6,
     "metadata": {},
     "output_type": "execute_result"
    }
   ],
   "source": [
    "nx.density(G)"
   ]
  },
  {
   "cell_type": "code",
   "execution_count": 10,
   "id": "3ab8d177",
   "metadata": {},
   "outputs": [
    {
     "name": "stderr",
     "output_type": "stream",
     "text": [
      "C:\\Users\\Lara\\AppData\\Local\\Temp/ipykernel_25992/1081262608.py:2: RuntimeWarning: divide by zero encountered in log\n",
      "  fig1 = sns.boxplot(y=np.log(degree_histogram_G));\n",
      "C:\\Users\\Lara\\anaconda3\\envs\\Python3\\lib\\site-packages\\numpy\\lib\\function_base.py:4009: RuntimeWarning: invalid value encountered in subtract\n",
      "  diff_b_a = subtract(b, a)\n"
     ]
    },
    {
     "data": {
      "image/png": "[encoded data removed]",
      "text/plain": [
       "<Figure size 432x288 with 1 Axes>"
      ]
     },
     "metadata": {
      "needs_background": "light"
     },
     "output_type": "display_data"
    }
   ],
   "source": [
    "degree_histogram_G = nx.degree_histogram(G)\n",
    "fig1 = sns.boxplot(y=np.log(degree_histogram_G));"
   ]
  },
  {
   "cell_type": "code",
   "execution_count": 11,
   "id": "0e552f8d",
   "metadata": {},
   "outputs": [
    {
     "data": {
      "text/plain": [
       "[0, 4995, 4857, 4191, 3671, 3313, 2980, 2757, 2422, 2245]"
      ]
     },
     "execution_count": 11,
     "metadata": {},
     "output_type": "execute_result"
    }
   ],
   "source": [
    "degree_histogram_G[0:10]"
   ]
  },
  {
   "cell_type": "code",
   "execution_count": 16,
   "id": "328596ee",
   "metadata": {},
   "outputs": [],
   "source": [
    "degree_G = [d for n, d in G.degree()]"
   ]
  },
  {
   "cell_type": "code",
   "execution_count": 17,
   "id": "c4cfc653",
   "metadata": {},
   "outputs": [
    {
     "data": {
      "text/plain": [
       "[284, 2476, 257, 719, 306, 1023, 116, 76, 242, 822]"
      ]
     },
     "execution_count": 17,
     "metadata": {},
     "output_type": "execute_result"
    }
   ],
   "source": [
    "degree_G[0:10]"
   ]
  },
  {
   "cell_type": "code",
   "execution_count": null,
   "id": "730365e0",
   "metadata": {},
   "outputs": [],
   "source": []
  },
  {
   "cell_type": "code",
   "execution_count": 32,
   "id": "53ae2e7c",
   "metadata": {},
   "outputs": [],
   "source": [
    "node_deg = [d for n, d in G.degree()]"
   ]
  },
  {
   "cell_type": "code",
   "execution_count": 33,
   "id": "b5b77c01",
   "metadata": {},
   "outputs": [],
   "source": [
    "log_node_deg = [np.log(d) for n, d in G.degree()]"
   ]
  },
  {
   "cell_type": "code",
   "execution_count": 41,
   "id": "6f2c5e25",
   "metadata": {
    "scrolled": true
   },
   "outputs": [
    {
     "data": {
      "image/png": "[encoded data removed]",
      "text/plain": [
       "<Figure size 432x288 with 1 Axes>"
      ]
     },
     "metadata": {
      "needs_background": "light"
     },
     "output_type": "display_data"
    }
   ],
   "source": [
    "fig1 = sns.boxplot(y=log_node_deg); # the rich get richer\n",
    "fig1.set_ylabel(\"Degree of nodes (logarithmic scale)\");\n",
    "plt.axhline(np.log(statistics.mean(node_deg)), color='red',label='Mean')\n",
    "plt.legend();"
   ]
  },
  {
   "cell_type": "code",
   "execution_count": 42,
   "id": "04cd8b73",
   "metadata": {},
   "outputs": [
    {
     "name": "stdout",
     "output_type": "stream",
     "text": [
      "33.018719405701916\n",
      "3.4970746553565797\n"
     ]
    }
   ],
   "source": [
    "print(statistics.mean(node_deg))\n",
    "print(np.log(statistics.mean(node_deg)))"
   ]
  },
  {
   "cell_type": "code",
   "execution_count": 43,
   "id": "3dd9ff82",
   "metadata": {},
   "outputs": [
    {
     "name": "stdout",
     "output_type": "stream",
     "text": [
      "15.0\n",
      "2.70805020110221\n"
     ]
    }
   ],
   "source": [
    "print(statistics.median(node_deg))\n",
    "print(np.log(statistics.median(node_deg)))"
   ]
  },
  {
   "cell_type": "code",
   "execution_count": 21,
   "id": "70d88175",
   "metadata": {},
   "outputs": [],
   "source": [
    "node_deg_unique = list(set(node_deg))"
   ]
  },
  {
   "cell_type": "code",
   "execution_count": 30,
   "id": "b9617af7",
   "metadata": {},
   "outputs": [],
   "source": [
    "node_deg_histogram = [(degree,node_deg.count(degree)) for degree in node_deg_unique]\n",
    "# node_deg_histogram = [(np.log(degree),node_deg.count(degree)) for degree in node_deg_unique]"
   ]
  },
  {
   "cell_type": "code",
   "execution_count": 23,
   "id": "e6c22513",
   "metadata": {},
   "outputs": [
    {
     "data": {
      "text/plain": [
       "[(0.0, 4995),\n",
       " (2.302585092994046, 2074),\n",
       " (3.4339872044851463, 663),\n",
       " (4.127134385045092, 241),\n",
       " (5.117993812416755, 18)]"
      ]
     },
     "execution_count": 23,
     "metadata": {},
     "output_type": "execute_result"
    }
   ],
   "source": [
    "node_deg_histogram[0:5]"
   ]
  },
  {
   "cell_type": "code",
   "execution_count": 27,
   "id": "d030975b",
   "metadata": {},
   "outputs": [
    {
     "data": {
      "image/png": "[encoded data removed]",
      "text/plain": [
       "<Figure size 432x288 with 1 Axes>"
      ]
     },
     "metadata": {
      "needs_background": "light"
     },
     "output_type": "display_data"
    }
   ],
   "source": [
    "fig2 = sns.histplot(data=pd.DataFrame(node_deg_histogram))"
   ]
  },
  {
   "cell_type": "code",
   "execution_count": 28,
   "id": "55b0f0a8",
   "metadata": {},
   "outputs": [
    {
     "data": {
      "image/png": "[encoded data removed]",
      "text/plain": [
       "<Figure size 402.375x360 with 1 Axes>"
      ]
     },
     "metadata": {
      "needs_background": "light"
     },
     "output_type": "display_data"
    }
   ],
   "source": [
    "fig2 = sns.displot(data=pd.DataFrame(node_deg_histogram));"
   ]
  },
  {
   "cell_type": "code",
   "execution_count": null,
   "id": "352d1021",
   "metadata": {},
   "outputs": [],
   "source": [
    "# Índice de comunalidade\n",
    "# criar uma função que a partir de 2 usuários A e B\n",
    "# calcular a % de seguidores de A que também seguem B\n",
    "# calcular a % de seguidores de B que também seguem A"
   ]
  },
  {
   "cell_type": "code",
   "execution_count": 45,
   "id": "f83248d2",
   "metadata": {},
   "outputs": [],
   "source": [
    "all_edges_lst = [(node_A, node_B) for (node_A, node_B) in G.edges()]"
   ]
  },
  {
   "cell_type": "code",
   "execution_count": 46,
   "id": "0ceedc46",
   "metadata": {},
   "outputs": [
    {
     "name": "stdout",
     "output_type": "stream",
     "text": [
      "[0.9401408450704225, 0.5985915492957746, 0.7147887323943662, 0.6302816901408451, 0.41901408450704225, 0.25704225352112675, 0.7183098591549296, 0.5140845070422535, 0.397887323943662, 0.11619718309859155]\n",
      "[284, 284, 284, 284, 284, 284, 284, 284, 284, 284]\n",
      "[2476, 356, 320, 335, 549, 251, 346, 306, 505, 307]\n"
     ]
    }
   ],
   "source": [
    "# calculando índice de comunalidade do nó A com o no B para as x primeiras conexões\n",
    "sample_edges_lst = all_edges_lst[0:10000]\n",
    "com_list = list()\n",
    "degree_A_list = list()\n",
    "degree_B_list = list()\n",
    "for (node_A, node_B) in sample_edges_lst:\n",
    "    connections_node_A = set([i for i in G[node_A]])\n",
    "    connections_node_B = set([i for i in G[node_B]])\n",
    "    intersection_A_B = connections_node_A.intersection(connections_node_B)\n",
    "    com_list.append(len(intersection_A_B)/len(connections_node_A))\n",
    "    degree_A_list.append(G.degree(node_A))\n",
    "    degree_B_list.append(G.degree(node_B))\n",
    "print(com_list[0:10])\n",
    "print(degree_A_list[0:10])\n",
    "print(degree_B_list[0:10])"
   ]
  },
  {
   "cell_type": "code",
   "execution_count": 47,
   "id": "87a90745",
   "metadata": {
    "scrolled": true
   },
   "outputs": [
    {
     "data": {
      "image/png": "[encoded data removed]",
      "text/plain": [
       "<Figure size 432x288 with 1 Axes>"
      ]
     },
     "metadata": {
      "needs_background": "light"
     },
     "output_type": "display_data"
    }
   ],
   "source": [
    "# vizualizar distribuição de comunalidade para 1000 elos\n",
    "fig2 = sns.boxplot(y=com_list)\n",
    "fig2.set_ylabel(\"Commonality Index\");\n",
    "plt.axhline(statistics.mean(com_list), color='red',label='Mean')\n",
    "plt.legend();"
   ]
  },
  {
   "cell_type": "code",
   "execution_count": 48,
   "id": "bc83e845",
   "metadata": {},
   "outputs": [
    {
     "name": "stdout",
     "output_type": "stream",
     "text": [
      "0.12590721225377308\n",
      "0.05907172995780591\n"
     ]
    }
   ],
   "source": [
    "print(statistics.mean(com_list))\n",
    "print(statistics.median(com_list))"
   ]
  },
  {
   "cell_type": "code",
   "execution_count": 49,
   "id": "7713971a",
   "metadata": {},
   "outputs": [
    {
     "data": {
      "image/png": "[encoded data removed]",
      "text/plain": [
       "<Figure size 432x288 with 1 Axes>"
      ]
     },
     "metadata": {
      "needs_background": "light"
     },
     "output_type": "display_data"
    }
   ],
   "source": [
    "fig2 = sns.histplot(y=com_list)\n",
    "fig2.set_ylabel(\"Commonality Index\");\n",
    "fig2.set_xlabel(\"Count of Connections\");\n",
    "plt.axhline(statistics.mean(com_list), color='red',label='Mean')\n",
    "plt.axhline(statistics.median(com_list), color='green',label='Median')\n",
    "plt.legend();"
   ]
  },
  {
   "cell_type": "code",
   "execution_count": 62,
   "id": "618f562e",
   "metadata": {},
   "outputs": [
    {
     "data": {
      "text/html": [
       "<div>\n",
       "<style scoped>\n",
       "    .dataframe tbody tr th:only-of-type {\n",
       "        vertical-align: middle;\n",
       "    }\n",
       "\n",
       "    .dataframe tbody tr th {\n",
       "        vertical-align: top;\n",
       "    }\n",
       "\n",
       "    .dataframe thead th {\n",
       "        text-align: right;\n",
       "    }\n",
       "</style>\n",
       "<table border=\"1\" class=\"dataframe\">\n",
       "  <thead>\n",
       "    <tr style=\"text-align: right;\">\n",
       "      <th></th>\n",
       "      <th>comunalidade_index</th>\n",
       "      <th>degree_node_A</th>\n",
       "      <th>degree_node_B</th>\n",
       "    </tr>\n",
       "  </thead>\n",
       "  <tbody>\n",
       "    <tr>\n",
       "      <th>0</th>\n",
       "      <td>0.940141</td>\n",
       "      <td>284</td>\n",
       "      <td>2476</td>\n",
       "    </tr>\n",
       "    <tr>\n",
       "      <th>1</th>\n",
       "      <td>0.598592</td>\n",
       "      <td>284</td>\n",
       "      <td>356</td>\n",
       "    </tr>\n",
       "    <tr>\n",
       "      <th>2</th>\n",
       "      <td>0.714789</td>\n",
       "      <td>284</td>\n",
       "      <td>320</td>\n",
       "    </tr>\n",
       "    <tr>\n",
       "      <th>3</th>\n",
       "      <td>0.630282</td>\n",
       "      <td>284</td>\n",
       "      <td>335</td>\n",
       "    </tr>\n",
       "    <tr>\n",
       "      <th>4</th>\n",
       "      <td>0.419014</td>\n",
       "      <td>284</td>\n",
       "      <td>549</td>\n",
       "    </tr>\n",
       "  </tbody>\n",
       "</table>\n",
       "</div>"
      ],
      "text/plain": [
       "   comunalidade_index  degree_node_A  degree_node_B\n",
       "0            0.940141            284           2476\n",
       "1            0.598592            284            356\n",
       "2            0.714789            284            320\n",
       "3            0.630282            284            335\n",
       "4            0.419014            284            549"
      ]
     },
     "execution_count": 62,
     "metadata": {},
     "output_type": "execute_result"
    }
   ],
   "source": [
    "# será que a existe uma relação entre a comunalidade entre A e B (B e A) e o grau de A/B?\n",
    "correlation_dict = {'comunalidade_index': com_list, 'degree_node_A': degree_A_list, 'degree_node_B': degree_B_list} \n",
    "correlation_df = pd.DataFrame(correlation_dict)\n",
    "correlation_df.head()"
   ]
  },
  {
   "cell_type": "code",
   "execution_count": 63,
   "id": "448bc89a",
   "metadata": {},
   "outputs": [
    {
     "data": {
      "image/png": "[encoded data removed]",
      "text/plain": [
       "<Figure size 432x288 with 2 Axes>"
      ]
     },
     "metadata": {
      "needs_background": "light"
     },
     "output_type": "display_data"
    }
   ],
   "source": [
    "fig3 = sns.heatmap(correlation_df.corr()) "
   ]
  },
  {
   "cell_type": "code",
   "execution_count": null,
   "id": "51525924",
   "metadata": {},
   "outputs": [],
   "source": []
  },
  {
   "cell_type": "code",
   "execution_count": null,
   "id": "adb1da2b",
   "metadata": {},
   "outputs": [],
   "source": []
  },
  {
   "cell_type": "code",
   "execution_count": null,
   "id": "e8ab53d1",
   "metadata": {},
   "outputs": [],
   "source": [
    "# calcular indice de comunalidade para todos(ou alguns?) os elos\n",
    "# vizualizar distribuição de comunalidade para todos os elos\n",
    "# Quantos elos você adicionaria se fizesse recomendações com base neste indice?"
   ]
  },
  {
   "cell_type": "code",
   "execution_count": null,
   "id": "5a19de7a",
   "metadata": {},
   "outputs": [],
   "source": [
    "# To do´s\n",
    "# Fazer readme file, subit projeto no github, finalizar apresentação e submeter pelo portal do Ironhack\n",
    "# *** Fazer visualizações com o grafo maior\n",
    "# Deixar rodando a noite a função que o Pedro criou para grafos"
   ]
  }
 ],
 "metadata": {
  "hide_input": false,
  "kernelspec": {
   "display_name": "Python 3 (ipykernel)",
   "language": "python",
   "name": "python3"
  },
  "language_info": {
   "codemirror_mode": {
    "name": "ipython",
    "version": 3
   },
   "file_extension": ".py",
   "mimetype": "text/x-python",
   "name": "python",
   "nbconvert_exporter": "python",
   "pygments_lexer": "ipython3",
   "version": "3.8.11"
  },
  "toc": {
   "base_numbering": 1,
   "nav_menu": {},
   "number_sections": true,
   "sideBar": true,
   "skip_h1_title": false,
   "title_cell": "Table of Contents",
   "title_sidebar": "Contents",
   "toc_cell": true,
   "toc_position": {},
   "toc_section_display": true,
   "toc_window_display": true
  }
 },
 "nbformat": 4,
 "nbformat_minor": 5
}
