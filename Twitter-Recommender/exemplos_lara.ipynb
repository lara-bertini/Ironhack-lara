{
 "cells": [
  {
   "cell_type": "markdown",
   "id": "90ff354e",
   "metadata": {
    "toc": true
   },
   "source": [
    "<h1>Table of Contents<span class=\"tocSkip\"></span></h1>\n",
    "<div class=\"toc\"><ul class=\"toc-item\"></ul></div>"
   ]
  },
  {
   "cell_type": "code",
   "execution_count": 57,
   "id": "1b0491af",
   "metadata": {
    "ExecuteTime": {
     "end_time": "2022-02-19T17:42:44.900013Z",
     "start_time": "2022-02-19T17:42:44.376803Z"
    }
   },
   "outputs": [],
   "source": [
    "import pandas as pd\n",
    "edge_table = pd.read_csv('twitter_combined.txt', sep = ' ',\n",
    "                        header= None)"
   ]
  },
  {
   "cell_type": "code",
   "execution_count": 26,
   "id": "6954c79d",
   "metadata": {
    "ExecuteTime": {
     "end_time": "2022-02-19T16:50:38.621265Z",
     "start_time": "2022-02-19T16:50:38.532921Z"
    }
   },
   "outputs": [],
   "source": [
    "edge_table.columns = ['origin_id', 'follower_id']\n",
    "sample = list(edge_table.sample(5)['origin_id'])"
   ]
  },
  {
   "cell_type": "code",
   "execution_count": 35,
   "id": "c986dafe",
   "metadata": {
    "ExecuteTime": {
     "end_time": "2022-02-19T16:59:14.797240Z",
     "start_time": "2022-02-19T16:59:14.779287Z"
    }
   },
   "outputs": [
    {
     "name": "stdout",
     "output_type": "stream",
     "text": [
      "<class 'pandas.core.frame.DataFrame'>\n",
      "RangeIndex: 2420766 entries, 0 to 2420765\n",
      "Data columns (total 2 columns):\n",
      " #   Column       Dtype\n",
      "---  ------       -----\n",
      " 0   origin_id    int64\n",
      " 1   follower_id  int64\n",
      "dtypes: int64(2)\n",
      "memory usage: 36.9 MB\n"
     ]
    }
   ],
   "source": [
    "edge_table.info()"
   ]
  },
  {
   "cell_type": "code",
   "execution_count": 43,
   "id": "b8aba483",
   "metadata": {
    "ExecuteTime": {
     "end_time": "2022-02-19T17:01:04.436054Z",
     "start_time": "2022-02-19T17:00:57.323069Z"
    }
   },
   "outputs": [
    {
     "name": "stdout",
     "output_type": "stream",
     "text": [
      "0\n",
      "1\n",
      "2\n",
      "3\n"
     ]
    }
   ],
   "source": [
    "from queue import Queue\n",
    "MAX_DEPTH = 2\n",
    "CUR_MAX_DEPTH = -1\n",
    "i = 0\n",
    "follower_db = []\n",
    "\n",
    "seed_id = 25577874\n",
    "user_q = Queue()\n",
    "user_q.put((seed_id, 0))\n",
    "while not user_q.empty():\n",
    "    current_user, current_depth = user_q.get()\n",
    "    if current_depth > CUR_MAX_DEPTH:\n",
    "        print(current_depth)\n",
    "        CUR_MAX_DEPTH = current_depth\n",
    "        \n",
    "    if current_depth <= MAX_DEPTH:\n",
    "        cu_followers = list(edge_table.loc[edge_table['origin_id'] == current_user, 'follower_id'])[0:50]\n",
    "        if len(cu_followers) < 1001:\n",
    "            for follower in cu_followers:\n",
    "                user_q.put((follower, current_depth + 1))\n",
    "                follower_db.append((current_user, follower))\n",
    "    else:\n",
    "        continue"
   ]
  },
  {
   "cell_type": "code",
   "execution_count": 59,
   "id": "c78e67a9",
   "metadata": {
    "ExecuteTime": {
     "end_time": "2022-02-19T17:44:55.756704Z",
     "start_time": "2022-02-19T17:44:50.358764Z"
    }
   },
   "outputs": [],
   "source": [
    "follower_db = list(edge_table.to_records(index = False))"
   ]
  },
  {
   "cell_type": "code",
   "execution_count": 60,
   "id": "61885b70",
   "metadata": {
    "ExecuteTime": {
     "end_time": "2022-02-19T17:44:59.049792Z",
     "start_time": "2022-02-19T17:44:59.035831Z"
    }
   },
   "outputs": [],
   "source": [
    "G = nx.Graph()"
   ]
  },
  {
   "cell_type": "code",
   "execution_count": 61,
   "id": "ccc6b62e",
   "metadata": {
    "ExecuteTime": {
     "end_time": "2022-02-19T17:45:13.478259Z",
     "start_time": "2022-02-19T17:45:01.992147Z"
    }
   },
   "outputs": [],
   "source": [
    "G.add_edges_from(follower_db)"
   ]
  },
  {
   "cell_type": "code",
   "execution_count": 62,
   "id": "3769b83b",
   "metadata": {
    "ExecuteTime": {
     "end_time": "2022-02-19T17:45:21.889342Z",
     "start_time": "2022-02-19T17:45:21.883355Z"
    }
   },
   "outputs": [
    {
     "data": {
      "text/plain": [
       "81306"
      ]
     },
     "execution_count": 62,
     "metadata": {},
     "output_type": "execute_result"
    }
   ],
   "source": [
    "G.number_of_nodes()"
   ]
  },
  {
   "cell_type": "code",
   "execution_count": 63,
   "id": "20f19ba2",
   "metadata": {
    "ExecuteTime": {
     "end_time": "2022-02-19T17:45:34.572338Z",
     "start_time": "2022-02-19T17:45:34.496541Z"
    }
   },
   "outputs": [
    {
     "data": {
      "text/plain": [
       "1342310"
      ]
     },
     "execution_count": 63,
     "metadata": {},
     "output_type": "execute_result"
    }
   ],
   "source": [
    "G.number_of_edges()"
   ]
  },
  {
   "cell_type": "code",
   "execution_count": 85,
   "id": "64d40e7d",
   "metadata": {
    "ExecuteTime": {
     "end_time": "2022-02-19T18:11:52.728000Z",
     "start_time": "2022-02-19T18:11:52.575409Z"
    }
   },
   "outputs": [],
   "source": [
    "import numpy as np\n",
    "node_deg = [np.log(d) for n, d in G.degree()]"
   ]
  },
  {
   "cell_type": "code",
   "execution_count": 86,
   "id": "e87e7125",
   "metadata": {
    "ExecuteTime": {
     "end_time": "2022-02-19T18:11:52.837707Z",
     "start_time": "2022-02-19T18:11:52.820753Z"
    }
   },
   "outputs": [],
   "source": [
    "import seaborn as sns"
   ]
  },
  {
   "cell_type": "code",
   "execution_count": null,
   "id": "3729937a",
   "metadata": {},
   "outputs": [],
   "source": [
    "i = 0\n",
    "for A, B in G.edges():\n",
    "    i += 1\n",
    "    if i < 1000:\n",
    "            "
   ]
  },
  {
   "cell_type": "code",
   "execution_count": 87,
   "id": "8c0bda01",
   "metadata": {
    "ExecuteTime": {
     "end_time": "2022-02-19T18:11:53.288176Z",
     "start_time": "2022-02-19T18:11:53.103157Z"
    }
   },
   "outputs": [
    {
     "data": {
      "text/plain": [
       "<AxesSubplot:>"
      ]
     },
     "execution_count": 87,
     "metadata": {},
     "output_type": "execute_result"
    },
    {
     "data": {
      "image/png": "[encoded data removed]",
      "text/plain": [
       "<Figure size 432x288 with 1 Axes>"
      ]
     },
     "metadata": {
      "needs_background": "light"
     },
     "output_type": "display_data"
    }
   ],
   "source": [
    "sns.boxplot(y=node_deg) # the rich get richer"
   ]
  },
  {
   "cell_type": "code",
   "execution_count": null,
   "id": "80c1b33e",
   "metadata": {},
   "outputs": [],
   "source": [
    "# comunalidade\n",
    "# criar uma função que a partir de 2 usuários A e B\n",
    "# calcular a % de seguidores de A que também seguem B\n",
    "# calcular a % de seguidores de B que também seguem A"
   ]
  },
  {
   "cell_type": "code",
   "execution_count": null,
   "id": "2be86e58",
   "metadata": {},
   "outputs": [],
   "source": [
    "# calcular indice de comunalidade para todos(ou alguns?) os elos"
   ]
  },
  {
   "cell_type": "code",
   "execution_count": null,
   "id": "617d39ff",
   "metadata": {},
   "outputs": [],
   "source": [
    "# vizualizar distribuição de comunalidade para todos os elos"
   ]
  },
  {
   "cell_type": "code",
   "execution_count": null,
   "id": "eadc037c",
   "metadata": {},
   "outputs": [],
   "source": [
    "# será que a existe uma relação entre a comunalidade entre A e B (B e A) e o grau de A/B?"
   ]
  },
  {
   "cell_type": "code",
   "execution_count": null,
   "id": "84c1f7b8",
   "metadata": {},
   "outputs": [],
   "source": [
    "# Quantos elos você adicionaria se fizesse recomendassões com base neste indice?"
   ]
  }
 ],
 "metadata": {
  "hide_input": false,
  "kernelspec": {
   "display_name": "Python 3 (ipykernel)",
   "language": "python",
   "name": "python3"
  },
  "language_info": {
   "codemirror_mode": {
    "name": "ipython",
    "version": 3
   },
   "file_extension": ".py",
   "mimetype": "text/x-python",
   "name": "python",
   "nbconvert_exporter": "python",
   "pygments_lexer": "ipython3",
   "version": "3.8.11"
  },
  "toc": {
   "base_numbering": 1,
   "nav_menu": {},
   "number_sections": true,
   "sideBar": true,
   "skip_h1_title": false,
   "title_cell": "Table of Contents",
   "title_sidebar": "Contents",
   "toc_cell": true,
   "toc_position": {},
   "toc_section_display": true,
   "toc_window_display": true
  }
 },
 "nbformat": 4,
 "nbformat_minor": 5
}
