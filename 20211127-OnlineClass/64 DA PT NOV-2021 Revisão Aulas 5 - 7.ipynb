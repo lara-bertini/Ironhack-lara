{
 "cells": [
  {
   "cell_type": "markdown",
   "id": "d20e6ba1",
   "metadata": {},
   "source": [
    "# Revisão Aulas 5, 6 e 7\n",
    "\n",
    "* List Comprehensions\n",
    "* Error Raising/Handling\n",
    "* OOP (Object-oriented paradigm)"
   ]
  },
  {
   "cell_type": "markdown",
   "id": "4ca7cba0",
   "metadata": {},
   "source": [
    "## List Comprehension\n",
    "\n",
    "Uma forma de criar lista a partir de outros iteráveis sem utilizar um loop explicito. Pode substituir o padrão:\n",
    "\n",
    "```\n",
    "LISTA_INTERESSANTE = [1, 2, 3, 4...]\n",
    "LISTA_VAZIA = []\n",
    "for ELEMENTO in LISTA_INTERESSANTE:\n",
    "    resultado = FUNCAO_INTERESSANTE(ELEMENTO)\n",
    "    LISTA_VAZIA.append(resultado)\n",
    "```\n",
    "\n",
    "onde inicializamos uma lista vazia (LISTA_VAZIA), iteramos sobre um objeto de interesse (LISTA_INTERESSANTE) através de um for loop, calculamos o resultado de uma função (FUNCAO_INTERESSANTE) sobre os elementos do objeto de interesse e guardamos os resultados em nossa lista vazia.\n",
    "\n",
    "### Exemplos"
   ]
  },
  {
   "cell_type": "code",
   "execution_count": 1,
   "id": "9cb0a639",
   "metadata": {},
   "outputs": [
    {
     "name": "stdout",
     "output_type": "stream",
     "text": [
      "LAT-LONG L.C. [(-23, -46)]\n"
     ]
    }
   ],
   "source": [
    "# Operações sobre lista de iteráveis (uplas, listas, etc)\n",
    "coord_list = [(-23, -46), (-25, -42), (-27, 48), (-21, -49), (-21, -40), (21, -40), (32, 66), (89, -1)]\n",
    "\n",
    "# Extrair as coordenadas de todos os locais onde a latitude é menor que -22 e a longitude é menor que -45\n",
    "lat_long_list = [lat_long for lat_long in coord_list if lat_long[0] < -22 and lat_long[1] < -45]\n",
    "print(f'LAT-LONG L.C. {lat_long_list}')"
   ]
  },
  {
   "cell_type": "code",
   "execution_count": 2,
   "id": "c8951109",
   "metadata": {},
   "outputs": [
    {
     "name": "stdout",
     "output_type": "stream",
     "text": [
      "LAT L.C. [-23, -25, -27, -21, -21, 21, 32, 89]\n"
     ]
    }
   ],
   "source": [
    "# Extrair a latitude de uma lista de uplas (latitude, longitude)\n",
    "lat_list = [lat_long[0] for lat_long in coord_list]\n",
    "print(f'LAT L.C. {lat_list}')"
   ]
  },
  {
   "cell_type": "code",
   "execution_count": 3,
   "id": "e1b254ae",
   "metadata": {},
   "outputs": [
    {
     "name": "stdout",
     "output_type": "stream",
     "text": [
      "LAT FILTER L.C. [-23, -21]\n"
     ]
    }
   ],
   "source": [
    "# Extrair a latitude de todas as coordenadas onde a longitude seja menor que -45\n",
    "lat_filter_list = [lat_long[0] for lat_long in coord_list if lat_long[1] <-45]\n",
    "print(f'LAT FILTER L.C. {lat_filter_list}')"
   ]
  },
  {
   "cell_type": "code",
   "execution_count": 4,
   "id": "2abbf93a",
   "metadata": {},
   "outputs": [
    {
     "name": "stdout",
     "output_type": "stream",
     "text": [
      "LAT-LONG Loop [(-23, -46)]\n",
      "LAT Loop [-23, -25, -27, -21, -21, 21, 32, 89]\n",
      "LAT FILTER Loop [-23, -21]\n"
     ]
    }
   ],
   "source": [
    "# Loop equivalente\n",
    "lat_long_list_LOOP = []\n",
    "lat_list_LOOP = []\n",
    "lat_filter_list_LOOP = []\n",
    "for lat_long in coord_list:\n",
    "    #Extrair as coordenadas de todos os locais onde a latitude é menor que -22 e a longitude é menor que -45\n",
    "    if lat_long[0] < -22 and lat_long[1] < -45:\n",
    "        lat_long_list_LOOP.append(lat_long)\n",
    "    #Extrair a latitude de uma lista de uplas (latitude, longitude)\n",
    "    lat_list_LOOP.append(lat_long[0])\n",
    "    # Extrair a latitude de todas as coordenadas onde a longitude seja menor que -45\n",
    "    if lat_long[1] < -45:\n",
    "        lat_filter_list_LOOP.append(lat_long[0])\n",
    "        \n",
    "print(f'LAT-LONG Loop {lat_long_list_LOOP}')\n",
    "print(f'LAT Loop {lat_list_LOOP}')\n",
    "print(f'LAT FILTER Loop {lat_filter_list_LOOP}')"
   ]
  },
  {
   "cell_type": "markdown",
   "id": "f274b54e",
   "metadata": {},
   "source": [
    "Um uso importante de list comprehensions é o mapeamento de uma função para os elementos de um iterável (paradigma de programação funcional)."
   ]
  },
  {
   "cell_type": "code",
   "execution_count": 5,
   "id": "8fb27f5e",
   "metadata": {},
   "outputs": [
    {
     "name": "stdout",
     "output_type": "stream",
     "text": [
      "[('S', 'O'), ('S', 'O'), ('S', 'L'), ('S', 'O'), ('S', 'O'), ('N', 'O'), ('N', 'L'), ('N', 'O')]\n"
     ]
    }
   ],
   "source": [
    "def latlong_to_hems(lat_long):\n",
    "    '''\n",
    "    Recebe uma dupla (lat, long) de floats e converte em uma dupla de strings i.e.: (-26, -47) -> (\"S\", \"O\")\n",
    "        lat_long: (Float, Float)\n",
    "    '''\n",
    "    \n",
    "    if lat_long[0] < 0:\n",
    "        hem_sn = \"S\"\n",
    "    else:\n",
    "        hem_sn = \"N\"\n",
    "        \n",
    "    if lat_long[1] < 0:\n",
    "        hem_ol = \"O\"\n",
    "    else:\n",
    "        hem_ol = \"L\"\n",
    "        \n",
    "    return (hem_sn, hem_ol)\n",
    "\n",
    "hem_list = [latlong_to_hems(lat_long) for lat_long in coord_list]\n",
    "print(hem_list)"
   ]
  },
  {
   "cell_type": "code",
   "execution_count": 6,
   "id": "a1cf7efd",
   "metadata": {},
   "outputs": [
    {
     "name": "stdout",
     "output_type": "stream",
     "text": [
      "[3.5, 4.0, 3.75, 0.75, 5.0, 3.0, 4.5, 2.75, 2.25, 3.0]\n"
     ]
    }
   ],
   "source": [
    "def calcular_media(iteravel_num):\n",
    "    '''\n",
    "    Calcula a media aritmética dos elementos em iteravel_num.\n",
    "    \n",
    "    iteravel_num: (Float, Float, Float...)\n",
    "    '''\n",
    "    return sum(iteravel_num)/len(iteravel_num)\n",
    "    \n",
    "notas_alunos = [(5, 2, 2, 5), (5, 3, 4, 4),\n",
    "                (2, 4, 4, 5), (1, 0, 0, 2),\n",
    "                (5, 5, 5, 5), (4, 4, 3, 1),\n",
    "                (5, 4, 4, 5), (2, 2, 3, 4),\n",
    "                (1, 1, 2, 5), (5, 3, 4, 0)]\n",
    "\n",
    "medias_alunos = [calcular_media(aluno) for aluno in notas_alunos]\n",
    "print(medias_alunos)"
   ]
  },
  {
   "cell_type": "markdown",
   "id": "724c60a3",
   "metadata": {},
   "source": [
    "## Error Handling\n",
    "\n",
    "Erros nos ajudam a entender onde estão os bugs no nosso código _é sempre melhor um programa que não roda do que um que roda e retorna resultados inesperados_... O Python nos informa o tipo de erro através das exceptions. Como vimos em aula podemos utilizar a palavra chave ```raise``` para _levantar_ nossos proprios erros.\n",
    "\n",
    "Também vimos como utilizar a estrutura ```try: except:``` para tratar erros esperados dentro do nosso código."
   ]
  },
  {
   "cell_type": "code",
   "execution_count": 7,
   "id": "98ff3d96",
   "metadata": {},
   "outputs": [
    {
     "ename": "TypeError",
     "evalue": "unsupported operand type(s) for +: 'int' and 'NoneType'",
     "output_type": "error",
     "traceback": [
      "\u001b[1;31m---------------------------------------------------------------------------\u001b[0m",
      "\u001b[1;31mTypeError\u001b[0m                                 Traceback (most recent call last)",
      "\u001b[1;32m<ipython-input-7-6853155ae90d>\u001b[0m in \u001b[0;36m<module>\u001b[1;34m\u001b[0m\n\u001b[1;32m----> 1\u001b[1;33m \u001b[0mcalcular_media\u001b[0m\u001b[1;33m(\u001b[0m\u001b[1;33m[\u001b[0m\u001b[1;36m5\u001b[0m\u001b[1;33m,\u001b[0m \u001b[1;36m5\u001b[0m\u001b[1;33m,\u001b[0m \u001b[1;36m5\u001b[0m\u001b[1;33m,\u001b[0m \u001b[1;32mNone\u001b[0m\u001b[1;33m,\u001b[0m\u001b[1;36m1\u001b[0m\u001b[1;33m]\u001b[0m\u001b[1;33m)\u001b[0m\u001b[1;33m\u001b[0m\u001b[1;33m\u001b[0m\u001b[0m\n\u001b[0m",
      "\u001b[1;32m<ipython-input-6-dde7c42603bd>\u001b[0m in \u001b[0;36mcalcular_media\u001b[1;34m(iteravel_num)\u001b[0m\n\u001b[0;32m      5\u001b[0m     \u001b[0miteravel_num\u001b[0m\u001b[1;33m:\u001b[0m \u001b[1;33m(\u001b[0m\u001b[0mFloat\u001b[0m\u001b[1;33m,\u001b[0m \u001b[0mFloat\u001b[0m\u001b[1;33m,\u001b[0m \u001b[0mFloat\u001b[0m\u001b[1;33m...\u001b[0m\u001b[1;33m)\u001b[0m\u001b[1;33m\u001b[0m\u001b[1;33m\u001b[0m\u001b[0m\n\u001b[0;32m      6\u001b[0m     '''\n\u001b[1;32m----> 7\u001b[1;33m     \u001b[1;32mreturn\u001b[0m \u001b[0msum\u001b[0m\u001b[1;33m(\u001b[0m\u001b[0miteravel_num\u001b[0m\u001b[1;33m)\u001b[0m\u001b[1;33m/\u001b[0m\u001b[0mlen\u001b[0m\u001b[1;33m(\u001b[0m\u001b[0miteravel_num\u001b[0m\u001b[1;33m)\u001b[0m\u001b[1;33m\u001b[0m\u001b[1;33m\u001b[0m\u001b[0m\n\u001b[0m\u001b[0;32m      8\u001b[0m \u001b[1;33m\u001b[0m\u001b[0m\n\u001b[0;32m      9\u001b[0m notas_alunos = [(5, 2, 2, 5), (5, 3, 4, 4),\n",
      "\u001b[1;31mTypeError\u001b[0m: unsupported operand type(s) for +: 'int' and 'NoneType'"
     ]
    }
   ],
   "source": [
    "calcular_media([5, 5, 5, None,1])"
   ]
  },
  {
   "cell_type": "code",
   "execution_count": 8,
   "id": "d0fb33ad",
   "metadata": {},
   "outputs": [
    {
     "ename": "TypeError",
     "evalue": "unsupported operand type(s) for +: 'int' and 'str'",
     "output_type": "error",
     "traceback": [
      "\u001b[1;31m---------------------------------------------------------------------------\u001b[0m",
      "\u001b[1;31mTypeError\u001b[0m                                 Traceback (most recent call last)",
      "\u001b[1;32m<ipython-input-8-a50114376a03>\u001b[0m in \u001b[0;36m<module>\u001b[1;34m\u001b[0m\n\u001b[1;32m----> 1\u001b[1;33m \u001b[0mcalcular_media\u001b[0m\u001b[1;33m(\u001b[0m\u001b[1;33m[\u001b[0m\u001b[1;36m5\u001b[0m\u001b[1;33m,\u001b[0m \u001b[1;36m5\u001b[0m\u001b[1;33m,\u001b[0m \u001b[1;36m5\u001b[0m\u001b[1;33m,\u001b[0m \u001b[1;34m'5'\u001b[0m\u001b[1;33m,\u001b[0m\u001b[1;36m1\u001b[0m\u001b[1;33m]\u001b[0m\u001b[1;33m)\u001b[0m\u001b[1;33m\u001b[0m\u001b[1;33m\u001b[0m\u001b[0m\n\u001b[0m",
      "\u001b[1;32m<ipython-input-6-dde7c42603bd>\u001b[0m in \u001b[0;36mcalcular_media\u001b[1;34m(iteravel_num)\u001b[0m\n\u001b[0;32m      5\u001b[0m     \u001b[0miteravel_num\u001b[0m\u001b[1;33m:\u001b[0m \u001b[1;33m(\u001b[0m\u001b[0mFloat\u001b[0m\u001b[1;33m,\u001b[0m \u001b[0mFloat\u001b[0m\u001b[1;33m,\u001b[0m \u001b[0mFloat\u001b[0m\u001b[1;33m...\u001b[0m\u001b[1;33m)\u001b[0m\u001b[1;33m\u001b[0m\u001b[1;33m\u001b[0m\u001b[0m\n\u001b[0;32m      6\u001b[0m     '''\n\u001b[1;32m----> 7\u001b[1;33m     \u001b[1;32mreturn\u001b[0m \u001b[0msum\u001b[0m\u001b[1;33m(\u001b[0m\u001b[0miteravel_num\u001b[0m\u001b[1;33m)\u001b[0m\u001b[1;33m/\u001b[0m\u001b[0mlen\u001b[0m\u001b[1;33m(\u001b[0m\u001b[0miteravel_num\u001b[0m\u001b[1;33m)\u001b[0m\u001b[1;33m\u001b[0m\u001b[1;33m\u001b[0m\u001b[0m\n\u001b[0m\u001b[0;32m      8\u001b[0m \u001b[1;33m\u001b[0m\u001b[0m\n\u001b[0;32m      9\u001b[0m notas_alunos = [(5, 2, 2, 5), (5, 3, 4, 4),\n",
      "\u001b[1;31mTypeError\u001b[0m: unsupported operand type(s) for +: 'int' and 'str'"
     ]
    }
   ],
   "source": [
    "calcular_media([5, 5, 5, '5',1])"
   ]
  },
  {
   "cell_type": "code",
   "execution_count": 9,
   "id": "34347656",
   "metadata": {},
   "outputs": [],
   "source": [
    "def calcular_media(iteravel_num):\n",
    "    '''\n",
    "    Calcula a media aritmética dos elementos em iteravel_num.\n",
    "    \n",
    "    iteravel_num: (Float, Float, Float...)\n",
    "    '''\n",
    "    try:\n",
    "        media = sum(iteravel_num)/len(iteravel_num)\n",
    "    except TypeError as e:\n",
    "        try:\n",
    "            num_validos = [num for num in iteravel_num if type(num) in {int, float}]\n",
    "            media = sum(num_validos)/len(num_validos)\n",
    "            print('Lista de números contém valores não numéricos, considerando apenas floats e ints.')\n",
    "        except ZeroDivisionError as e:\n",
    "            raise ZeroDivisionError('Lista de números não contém nenhum valor numérico')\n",
    "    return media"
   ]
  },
  {
   "cell_type": "code",
   "execution_count": 11,
   "id": "8d442721",
   "metadata": {},
   "outputs": [
    {
     "ename": "ZeroDivisionError",
     "evalue": "Lista de números não contém nenhum valor numérico",
     "output_type": "error",
     "traceback": [
      "\u001b[1;31m---------------------------------------------------------------------------\u001b[0m",
      "\u001b[1;31mTypeError\u001b[0m                                 Traceback (most recent call last)",
      "\u001b[1;32m<ipython-input-9-e097adc9956a>\u001b[0m in \u001b[0;36mcalcular_media\u001b[1;34m(iteravel_num)\u001b[0m\n\u001b[0;32m      7\u001b[0m     \u001b[1;32mtry\u001b[0m\u001b[1;33m:\u001b[0m\u001b[1;33m\u001b[0m\u001b[1;33m\u001b[0m\u001b[0m\n\u001b[1;32m----> 8\u001b[1;33m         \u001b[0mmedia\u001b[0m \u001b[1;33m=\u001b[0m \u001b[0msum\u001b[0m\u001b[1;33m(\u001b[0m\u001b[0miteravel_num\u001b[0m\u001b[1;33m)\u001b[0m\u001b[1;33m/\u001b[0m\u001b[0mlen\u001b[0m\u001b[1;33m(\u001b[0m\u001b[0miteravel_num\u001b[0m\u001b[1;33m)\u001b[0m\u001b[1;33m\u001b[0m\u001b[1;33m\u001b[0m\u001b[0m\n\u001b[0m\u001b[0;32m      9\u001b[0m     \u001b[1;32mexcept\u001b[0m \u001b[0mTypeError\u001b[0m \u001b[1;32mas\u001b[0m \u001b[0me\u001b[0m\u001b[1;33m:\u001b[0m\u001b[1;33m\u001b[0m\u001b[1;33m\u001b[0m\u001b[0m\n",
      "\u001b[1;31mTypeError\u001b[0m: unsupported operand type(s) for +: 'int' and 'str'",
      "\nDuring handling of the above exception, another exception occurred:\n",
      "\u001b[1;31mZeroDivisionError\u001b[0m                         Traceback (most recent call last)",
      "\u001b[1;32m<ipython-input-9-e097adc9956a>\u001b[0m in \u001b[0;36mcalcular_media\u001b[1;34m(iteravel_num)\u001b[0m\n\u001b[0;32m     11\u001b[0m             \u001b[0mnum_validos\u001b[0m \u001b[1;33m=\u001b[0m \u001b[1;33m[\u001b[0m\u001b[0mnum\u001b[0m \u001b[1;32mfor\u001b[0m \u001b[0mnum\u001b[0m \u001b[1;32min\u001b[0m \u001b[0miteravel_num\u001b[0m \u001b[1;32mif\u001b[0m \u001b[0mtype\u001b[0m\u001b[1;33m(\u001b[0m\u001b[0mnum\u001b[0m\u001b[1;33m)\u001b[0m \u001b[1;32min\u001b[0m \u001b[1;33m{\u001b[0m\u001b[0mint\u001b[0m\u001b[1;33m,\u001b[0m \u001b[0mfloat\u001b[0m\u001b[1;33m}\u001b[0m\u001b[1;33m]\u001b[0m\u001b[1;33m\u001b[0m\u001b[1;33m\u001b[0m\u001b[0m\n\u001b[1;32m---> 12\u001b[1;33m             \u001b[0mmedia\u001b[0m \u001b[1;33m=\u001b[0m \u001b[0msum\u001b[0m\u001b[1;33m(\u001b[0m\u001b[0mnum_validos\u001b[0m\u001b[1;33m)\u001b[0m\u001b[1;33m/\u001b[0m\u001b[0mlen\u001b[0m\u001b[1;33m(\u001b[0m\u001b[0mnum_validos\u001b[0m\u001b[1;33m)\u001b[0m\u001b[1;33m\u001b[0m\u001b[1;33m\u001b[0m\u001b[0m\n\u001b[0m\u001b[0;32m     13\u001b[0m             \u001b[0mprint\u001b[0m\u001b[1;33m(\u001b[0m\u001b[1;34m'Lista de números contém valores não numéricos, considerando apenas floats e ints.'\u001b[0m\u001b[1;33m)\u001b[0m\u001b[1;33m\u001b[0m\u001b[1;33m\u001b[0m\u001b[0m\n",
      "\u001b[1;31mZeroDivisionError\u001b[0m: division by zero",
      "\nDuring handling of the above exception, another exception occurred:\n",
      "\u001b[1;31mZeroDivisionError\u001b[0m                         Traceback (most recent call last)",
      "\u001b[1;32m<ipython-input-11-34d1b648ecce>\u001b[0m in \u001b[0;36m<module>\u001b[1;34m\u001b[0m\n\u001b[1;32m----> 1\u001b[1;33m \u001b[0mcalcular_media\u001b[0m\u001b[1;33m(\u001b[0m\u001b[1;33m[\u001b[0m\u001b[1;34m'3'\u001b[0m\u001b[1;33m,\u001b[0m \u001b[1;34m'3'\u001b[0m\u001b[1;33m,\u001b[0m \u001b[1;32mNone\u001b[0m\u001b[1;33m,\u001b[0m \u001b[1;34m'a'\u001b[0m\u001b[1;33m]\u001b[0m\u001b[1;33m)\u001b[0m\u001b[1;33m\u001b[0m\u001b[1;33m\u001b[0m\u001b[0m\n\u001b[0m",
      "\u001b[1;32m<ipython-input-9-e097adc9956a>\u001b[0m in \u001b[0;36mcalcular_media\u001b[1;34m(iteravel_num)\u001b[0m\n\u001b[0;32m     13\u001b[0m             \u001b[0mprint\u001b[0m\u001b[1;33m(\u001b[0m\u001b[1;34m'Lista de números contém valores não numéricos, considerando apenas floats e ints.'\u001b[0m\u001b[1;33m)\u001b[0m\u001b[1;33m\u001b[0m\u001b[1;33m\u001b[0m\u001b[0m\n\u001b[0;32m     14\u001b[0m         \u001b[1;32mexcept\u001b[0m \u001b[0mZeroDivisionError\u001b[0m \u001b[1;32mas\u001b[0m \u001b[0me\u001b[0m\u001b[1;33m:\u001b[0m\u001b[1;33m\u001b[0m\u001b[1;33m\u001b[0m\u001b[0m\n\u001b[1;32m---> 15\u001b[1;33m             \u001b[1;32mraise\u001b[0m \u001b[0mZeroDivisionError\u001b[0m\u001b[1;33m(\u001b[0m\u001b[1;34m'Lista de números não contém nenhum valor numérico'\u001b[0m\u001b[1;33m)\u001b[0m\u001b[1;33m\u001b[0m\u001b[1;33m\u001b[0m\u001b[0m\n\u001b[0m\u001b[0;32m     16\u001b[0m     \u001b[1;32mreturn\u001b[0m \u001b[0mmedia\u001b[0m\u001b[1;33m\u001b[0m\u001b[1;33m\u001b[0m\u001b[0m\n",
      "\u001b[1;31mZeroDivisionError\u001b[0m: Lista de números não contém nenhum valor numérico"
     ]
    }
   ],
   "source": [
    "calcular_media(['3', '3', None, 'a'])"
   ]
  },
  {
   "cell_type": "markdown",
   "id": "8029630f",
   "metadata": {},
   "source": [
    "## OOP (Object-Oriented Programming)\n",
    "\n",
    "Vimos que objetos são estruturas que contém dados (atributos) e algoritmos (métodos). Já vimos os objetos nativos do Python (listas, dicts, sets, etc) e em aula vimos como criar nossos próprios objetos através da keyword ```class```."
   ]
  },
  {
   "cell_type": "code",
   "execution_count": 12,
   "id": "8b7612de",
   "metadata": {},
   "outputs": [
    {
     "name": "stdout",
     "output_type": "stream",
     "text": [
      "<class 'list'>\n"
     ]
    }
   ],
   "source": [
    "minha_lista = [1,2,3]\n",
    "print(type(minha_lista))"
   ]
  },
  {
   "cell_type": "code",
   "execution_count": 13,
   "id": "b68a0794",
   "metadata": {},
   "outputs": [
    {
     "name": "stdout",
     "output_type": "stream",
     "text": [
      "<class 'type'>\n"
     ]
    }
   ],
   "source": [
    "print(type(list))"
   ]
  },
  {
   "cell_type": "code",
   "execution_count": 14,
   "id": "212c716e",
   "metadata": {},
   "outputs": [],
   "source": [
    "class Pessoa:\n",
    "    def __init__(self, nome, idade):\n",
    "        self.nome = nome\n",
    "        self.idade = idade\n",
    "        \n",
    "    def fazer_aniversario(self):\n",
    "        print(f'Parabéns, {self.nome}!')\n",
    "        self.idade += 1\n",
    "        \n",
    "    def nome_aocontrario(self):\n",
    "        return self.nome[::-1]\n",
    "    \n",
    "    def mudar_nome(self, novo_nome):\n",
    "        self.nome = novo_nome"
   ]
  },
  {
   "cell_type": "code",
   "execution_count": 15,
   "id": "5f87f1fa",
   "metadata": {},
   "outputs": [],
   "source": [
    "pedro = Pessoa('Pedro', 35)"
   ]
  },
  {
   "cell_type": "code",
   "execution_count": 16,
   "id": "d9efe736",
   "metadata": {},
   "outputs": [
    {
     "name": "stdout",
     "output_type": "stream",
     "text": [
      "Pedro\n"
     ]
    }
   ],
   "source": [
    "print(pedro.nome)"
   ]
  },
  {
   "cell_type": "code",
   "execution_count": 17,
   "id": "2f8704c7",
   "metadata": {},
   "outputs": [
    {
     "name": "stdout",
     "output_type": "stream",
     "text": [
      "35\n"
     ]
    }
   ],
   "source": [
    "print(pedro.idade)"
   ]
  },
  {
   "cell_type": "code",
   "execution_count": 18,
   "id": "2956121b",
   "metadata": {},
   "outputs": [
    {
     "name": "stdout",
     "output_type": "stream",
     "text": [
      "ordeP\n"
     ]
    }
   ],
   "source": [
    "a = pedro.nome_aocontrario()\n",
    "print(a)"
   ]
  },
  {
   "cell_type": "code",
   "execution_count": 19,
   "id": "e51c6a67",
   "metadata": {},
   "outputs": [
    {
     "data": {
      "text/plain": [
       "str"
      ]
     },
     "execution_count": 19,
     "metadata": {},
     "output_type": "execute_result"
    }
   ],
   "source": [
    "type(a)"
   ]
  },
  {
   "cell_type": "code",
   "execution_count": 20,
   "id": "e67aa491",
   "metadata": {},
   "outputs": [
    {
     "name": "stdout",
     "output_type": "stream",
     "text": [
      "<class '__main__.Pessoa'>\n"
     ]
    }
   ],
   "source": [
    "print(type(pedro))"
   ]
  },
  {
   "cell_type": "code",
   "execution_count": 21,
   "id": "8cfe2b1a",
   "metadata": {},
   "outputs": [
    {
     "name": "stdout",
     "output_type": "stream",
     "text": [
      "<class 'type'>\n"
     ]
    }
   ],
   "source": [
    "print(type(Pessoa))"
   ]
  },
  {
   "cell_type": "code",
   "execution_count": 22,
   "id": "978513d4",
   "metadata": {},
   "outputs": [
    {
     "name": "stdout",
     "output_type": "stream",
     "text": [
      "Parabéns, Pedro!\n",
      "Pedro Teche de Lima\n",
      "36\n"
     ]
    }
   ],
   "source": [
    "pedro.fazer_aniversario()\n",
    "pedro.mudar_nome('Pedro Teche de Lima')\n",
    "print(pedro.nome)\n",
    "print(pedro.idade)"
   ]
  },
  {
   "cell_type": "code",
   "execution_count": 23,
   "id": "ac8b6577",
   "metadata": {},
   "outputs": [],
   "source": [
    "class Professor(Pessoa):\n",
    "    \n",
    "    def __init__(self, nome, idade, materia):\n",
    "        super().__init__(nome, idade)\n",
    "        self.materia = materia"
   ]
  },
  {
   "cell_type": "code",
   "execution_count": 24,
   "id": "8ff6b7be",
   "metadata": {},
   "outputs": [
    {
     "name": "stdout",
     "output_type": "stream",
     "text": [
      "Pedro\n",
      "35\n",
      "ordeP\n",
      "<class '__main__.Professor'>\n"
     ]
    }
   ],
   "source": [
    "pedro = Professor('Pedro', 35, 'DA')\n",
    "print(pedro.nome)\n",
    "print(pedro.idade)\n",
    "print(pedro.nome_aocontrario())\n",
    "print(type(pedro))"
   ]
  },
  {
   "cell_type": "code",
   "execution_count": 25,
   "id": "2115a9dd",
   "metadata": {},
   "outputs": [],
   "source": [
    "class Racional:\n",
    "    def __init__(self, numerador, divisor):\n",
    "        self.fracao = (numerador, divisor)\n",
    "    \n",
    "    def __repr__(self):\n",
    "        return f'{self.fracao[0]}/{self.fracao[1]}'\n",
    "    \n",
    "    def __mul__(self, other):\n",
    "        return Racional(other.fracao[0] * self.fracao[0],\n",
    "                        other.fracao[1] * self.fracao[1])\n",
    "    \n",
    "    def __float__(self):\n",
    "        return self.fracao[0]/self.fracao[1]\n",
    "    \n",
    "    def __add__(self, other):\n",
    "        if self.fracao[1] == other.fracao[1]:\n",
    "            resultado =  Racional(other.fracao[0] + self.fracao[0], self.fracao[1])\n",
    "        else:\n",
    "            resultado = Racional(other.fracao[1] * self.fracao[0] + other.fracao[0] * self.fracao[1], \n",
    "                                 self.fracao[1] * other.fracao[1])\n",
    "        return resultado"
   ]
  },
  {
   "cell_type": "code",
   "execution_count": 34,
   "id": "7a78c68c",
   "metadata": {},
   "outputs": [],
   "source": [
    "q = Racional(2, 3) + Racional(2,4)"
   ]
  },
  {
   "cell_type": "code",
   "execution_count": 36,
   "id": "3abcbc90",
   "metadata": {},
   "outputs": [
    {
     "name": "stdout",
     "output_type": "stream",
     "text": [
      "['__abs__', '__add__', '__bool__', '__class__', '__delattr__', '__dir__', '__divmod__', '__doc__', '__eq__', '__float__', '__floordiv__', '__format__', '__ge__', '__getattribute__', '__getformat__', '__getnewargs__', '__gt__', '__hash__', '__init__', '__init_subclass__', '__int__', '__le__', '__lt__', '__mod__', '__mul__', '__ne__', '__neg__', '__new__', '__pos__', '__pow__', '__radd__', '__rdivmod__', '__reduce__', '__reduce_ex__', '__repr__', '__rfloordiv__', '__rmod__', '__rmul__', '__round__', '__rpow__', '__rsub__', '__rtruediv__', '__set_format__', '__setattr__', '__sizeof__', '__str__', '__sub__', '__subclasshook__', '__truediv__', '__trunc__', 'as_integer_ratio', 'conjugate', 'fromhex', 'hex', 'imag', 'is_integer', 'real']\n"
     ]
    }
   ],
   "source": [
    "print(dir(float))"
   ]
  },
  {
   "cell_type": "code",
   "execution_count": null,
   "id": "238819da",
   "metadata": {},
   "outputs": [],
   "source": [
    "class Cadastro:\n",
    "    '''\n",
    "    Cadastro de pessoas no sistema de ensino.\n",
    "    '''\n",
    "    def __init__(self, user_id, nome):\n",
    "        self.user_id = user_id\n",
    "        self.nome = nome\n",
    "        \n",
    "class Aluno(Cadastro):\n",
    "    \n",
    "    def __init__(self, user_id, nome):\n",
    "        super().__init__(user_id, nome)\n",
    "        self.notas_recebidas = dict()\n",
    "        self.notas_dadas = dict()\n",
    "    \n",
    "    def receber_nota(self, professor, nota):\n",
    "        if type(professor) == Professor:\n",
    "            if professor not in self.notas_recebidas.keys():\n",
    "                self.notas_recebidas[professor] = [nota]\n",
    "            else:\n",
    "                self.notas_recebidas[professor].append(nota)\n",
    "        else:\n",
    "            raise TypeError('Apenas professores podem dar notas aos alunos!')\n",
    "    \n",
    "    def dar_nota_professor(self, professor, nota):\n",
    "        if type(professor) == Professor:\n",
    "            professor.receber_nota(self, nota)\n",
    "            if professor not in self.notas_dadas.keys():\n",
    "                self.notas_dadas[professor] = [nota]\n",
    "            else:\n",
    "                self.notas_dadas[professor].append(nota)\n",
    "        else:\n",
    "            raise TypeError('Alunos só podem dar notas aos professores!')\n",
    "            \n",
    "    def imprimir_notas_recebidas(self):\n",
    "        for professor in self.notas_recebidas.keys():\n",
    "            print(f'O professor {professor.nome} deu notas {self.notas_recebidas[professor]}')\n",
    "\n",
    "class Professor(Cadastro):\n",
    "    \n",
    "    def __init__(self, user_id, nome, materia):\n",
    "        super().__init__(user_id, nome)\n",
    "        self.materia = materia\n",
    "        self.notas_recebidas = dict()\n",
    "        self.notas_dadas = dict()\n",
    "    \n",
    "    def receber_nota(self, aluno, nota):\n",
    "        if type(aluno) == Aluno:\n",
    "            if aluno not in self.notas_recebidas.keys():\n",
    "                self.notas_recebidas[aluno] = [nota]\n",
    "            else:\n",
    "                self.notas_recebidas[aluno].append(nota)\n",
    "        else:\n",
    "            raise TypeError('Apenas alunos podem dar notas aos alunos!')\n",
    "            \n",
    "    def dar_nota_aluno(self, aluno, nota):\n",
    "        if type(aluno) == Aluno:\n",
    "            aluno.receber_nota(self, nota)\n",
    "            if aluno not in self.notas_dadas.keys():\n",
    "                self.notas_dadas[aluno] = [nota]\n",
    "            else:\n",
    "                self.notas_dadas[aluno].append(nota)\n",
    "        else:\n",
    "            raise TypeError('Professores só podem dar notas aos alunos!')"
   ]
  }
 ],
 "metadata": {
  "kernelspec": {
   "display_name": "Python 3 (ipykernel)",
   "language": "python",
   "name": "python3"
  },
  "language_info": {
   "codemirror_mode": {
    "name": "ipython",
    "version": 3
   },
   "file_extension": ".py",
   "mimetype": "text/x-python",
   "name": "python",
   "nbconvert_exporter": "python",
   "pygments_lexer": "ipython3",
   "version": "3.8.11"
  }
 },
 "nbformat": 4,
 "nbformat_minor": 5
}
