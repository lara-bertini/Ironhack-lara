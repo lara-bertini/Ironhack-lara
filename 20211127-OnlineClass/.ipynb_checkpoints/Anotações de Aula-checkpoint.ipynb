{
 "cells": [
  {
   "cell_type": "code",
   "execution_count": 1,
   "id": "026e17a8",
   "metadata": {},
   "outputs": [
    {
     "name": "stdout",
     "output_type": "stream",
     "text": [
      "[1 2 3 4]\n",
      "[1, 2, 3, 4]\n"
     ]
    }
   ],
   "source": [
    "import numpy as np\n",
    "\n",
    "minha_lista = [1,2,3,4]\n",
    "meu_array = np.array(minha_lista)\n",
    "print(meu_array)\n",
    "print(minha_lista)"
   ]
  },
  {
   "cell_type": "code",
   "execution_count": 3,
   "id": "ab73a98c",
   "metadata": {},
   "outputs": [
    {
     "name": "stdout",
     "output_type": "stream",
     "text": [
      "[0.79273656 0.93596047 0.56945981 0.43498199 0.84655103 0.29565587\n",
      " 0.86390537 0.73091019 0.17397136 0.17207524]\n"
     ]
    }
   ],
   "source": [
    "meu_array_aleatorio = np.random.random(size=10)\n",
    "print(meu_array_aleatorio)"
   ]
  },
  {
   "cell_type": "code",
   "execution_count": 7,
   "id": "95f6fd5a",
   "metadata": {},
   "outputs": [
    {
     "data": {
      "text/plain": [
       "array([1, 2, 3, 4])"
      ]
     },
     "execution_count": 7,
     "metadata": {},
     "output_type": "execute_result"
    }
   ],
   "source": [
    "np.array([1,2,3,'4'],dtype=int)"
   ]
  },
  {
   "cell_type": "code",
   "execution_count": 8,
   "id": "bab80bfd",
   "metadata": {},
   "outputs": [
    {
     "data": {
      "text/plain": [
       "array(['1', '2', '3', '4'], dtype='<U11')"
      ]
     },
     "execution_count": 8,
     "metadata": {},
     "output_type": "execute_result"
    }
   ],
   "source": [
    "np.array([1,2,3,'4'])"
   ]
  },
  {
   "cell_type": "code",
   "execution_count": 9,
   "id": "61dd37d4",
   "metadata": {},
   "outputs": [
    {
     "data": {
      "text/plain": [
       "array(['1', '2', '3', '4'], dtype='<U1')"
      ]
     },
     "execution_count": 9,
     "metadata": {},
     "output_type": "execute_result"
    }
   ],
   "source": [
    "np.array([1,2,3,'4'],dtype=str)"
   ]
  },
  {
   "cell_type": "code",
   "execution_count": 10,
   "id": "ec69a1c1",
   "metadata": {},
   "outputs": [
    {
     "data": {
      "text/plain": [
       "array([10, 10, 10, 10, 10, 10, 10, 10, 10, 10])"
      ]
     },
     "execution_count": 10,
     "metadata": {},
     "output_type": "execute_result"
    }
   ],
   "source": [
    "array_dez = np.full((10,), fill_value = 10)\n",
    "array_dez"
   ]
  },
  {
   "cell_type": "code",
   "execution_count": 12,
   "id": "4a7969ff",
   "metadata": {},
   "outputs": [
    {
     "data": {
      "text/plain": [
       "array([[0., 0., 0., 0., 0.],\n",
       "       [0., 0., 0., 0., 0.],\n",
       "       [0., 0., 0., 0., 0.],\n",
       "       [0., 0., 0., 0., 0.],\n",
       "       [0., 0., 0., 0., 0.],\n",
       "       [0., 0., 0., 0., 0.],\n",
       "       [0., 0., 0., 0., 0.],\n",
       "       [0., 0., 0., 0., 0.],\n",
       "       [0., 0., 0., 0., 0.],\n",
       "       [0., 0., 0., 0., 0.]])"
      ]
     },
     "execution_count": 12,
     "metadata": {},
     "output_type": "execute_result"
    }
   ],
   "source": [
    "m_10_5 = np.zeros((10,5))\n",
    "m_10_5"
   ]
  },
  {
   "cell_type": "code",
   "execution_count": 13,
   "id": "e157faa1",
   "metadata": {},
   "outputs": [
    {
     "name": "stdout",
     "output_type": "stream",
     "text": [
      "(10, 5)\n",
      "50\n"
     ]
    }
   ],
   "source": [
    "print(m_10_5.shape)\n",
    "print(m_10_5.size)"
   ]
  },
  {
   "cell_type": "code",
   "execution_count": 14,
   "id": "3239acd5",
   "metadata": {},
   "outputs": [
    {
     "data": {
      "text/plain": [
       "array([[0.77277424, 0.16724252, 0.0301677 ],\n",
       "       [0.56903145, 0.68440187, 0.01218691],\n",
       "       [0.48443981, 0.77122398, 0.89308741]])"
      ]
     },
     "execution_count": 14,
     "metadata": {},
     "output_type": "execute_result"
    }
   ],
   "source": [
    "m_3_3 = np.random.random(size=(3,3))\n",
    "m_3_3"
   ]
  },
  {
   "cell_type": "code",
   "execution_count": 15,
   "id": "b85dd322",
   "metadata": {},
   "outputs": [
    {
     "data": {
      "text/plain": [
       "0.5690314531901972"
      ]
     },
     "execution_count": 15,
     "metadata": {},
     "output_type": "execute_result"
    }
   ],
   "source": [
    "m_3_3.ravel()[3]"
   ]
  },
  {
   "cell_type": "code",
   "execution_count": null,
   "id": "fee4f8bd",
   "metadata": {},
   "outputs": [],
   "source": []
  }
 ],
 "metadata": {
  "kernelspec": {
   "display_name": "Python 3 (ipykernel)",
   "language": "python",
   "name": "python3"
  },
  "language_info": {
   "codemirror_mode": {
    "name": "ipython",
    "version": 3
   },
   "file_extension": ".py",
   "mimetype": "text/x-python",
   "name": "python",
   "nbconvert_exporter": "python",
   "pygments_lexer": "ipython3",
   "version": "3.8.11"
  }
 },
 "nbformat": 4,
 "nbformat_minor": 5
}
