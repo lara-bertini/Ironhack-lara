{
 "cells": [
  {
   "cell_type": "markdown",
   "metadata": {},
   "source": [
    "# Pandas: Importing and Exporting"
   ]
  },
  {
   "cell_type": "code",
   "execution_count": null,
   "metadata": {},
   "outputs": [],
   "source": [
    "!pip install openpyxl"
   ]
  },
  {
   "cell_type": "code",
   "execution_count": null,
   "metadata": {},
   "outputs": [],
   "source": [
    "pip install xlrd"
   ]
  },
  {
   "cell_type": "code",
   "execution_count": 1,
   "metadata": {},
   "outputs": [],
   "source": [
    "import xlrd"
   ]
  },
  {
   "cell_type": "code",
   "execution_count": null,
   "metadata": {
    "ExecuteTime": {
     "end_time": "2021-12-04T12:05:30.733368Z",
     "start_time": "2021-12-04T12:05:30.705470Z"
    }
   },
   "outputs": [],
   "source": [
    "#import xlrd\n",
    "#from openpyxl import xlrd\n",
    "#import openpyxl"
   ]
  },
  {
   "cell_type": "code",
   "execution_count": 8,
   "metadata": {
    "ExecuteTime": {
     "end_time": "2021-12-04T12:05:31.618273Z",
     "start_time": "2021-12-04T12:05:31.228262Z"
    }
   },
   "outputs": [],
   "source": [
    "import pandas as pd"
   ]
  },
  {
   "cell_type": "markdown",
   "metadata": {},
   "source": [
    "## Import **delimited files**"
   ]
  },
  {
   "cell_type": "code",
   "execution_count": 9,
   "metadata": {
    "ExecuteTime": {
     "end_time": "2021-12-04T12:04:38.694940Z",
     "start_time": "2021-12-04T12:04:38.688955Z"
    }
   },
   "outputs": [
    {
     "name": "stdout",
     "output_type": "stream",
     "text": [
      "Make,Model,Year,Engine Displacement,Cylinders,Transmission,Drivetrain,Vehicle Class,Fuel Type,Fuel Barrels/Year,City MPG,Highway MPG,Combined MPG,CO2 Emission Grams/Mile,Fuel Cost/Year\r\n",
      "\n",
      "AM General,DJ Po Vehicle 2WD,1984,2.5,4.0,Automatic 3-spd,2-Wheel Drive,Special Purpose Vehicle 2WD,Regular,19.388823529411766,18,17,17,522.7647058823529,1950\r\n",
      "\n",
      "AM General,FJ8c Post Office,1984,4.2,6.0,Automatic 3-spd,2-Wheel Drive,Special Purpose Vehicle 2WD,Regular,25.35461538461539,13,13,13,683.6153846153846,2550\r\n",
      "\n",
      "AM General,Post Office DJ5 2WD,1985,2.5,4.0,Automatic 3-spd,Rear-Wheel Drive,Special Purpose Vehicle 2WD,Regular,20.600625,16,17,16,555.4375,2100\r\n",
      "\n",
      "AM General,Post Office DJ8 2WD,1985,4.2,6.0,Automatic 3-spd,Rear-Wheel Drive,Special Purpose Vehicle 2WD,Regular,25.35461538461539,13,13,13,683.6153846153846,2550\r\n",
      "\n"
     ]
    }
   ],
   "source": [
    "file = open('data/dados_veiculos.csv', 'rb')\n",
    "file_lines = file.readlines(10000)\n",
    "for i in range(5):\n",
    "    print(file_lines[i].decode('utf-8'))\n",
    "file.close()"
   ]
  },
  {
   "cell_type": "markdown",
   "metadata": {},
   "source": [
    "Most common: comma separated values `(.csv)` files. A file that is separated (or delimited) by commas (or anything else):\n",
    "\n",
    "Examples:\n",
    "    \n",
    "**-- comma separated file --**\n",
    "\n",
    "    name,year,value\n",
    "    Andre,2020,100\n",
    "    Fernanda,1900,1\n",
    "    \n",
    "**-- tab separated file --**\n",
    "\n",
    "    name    year    value\n",
    "    Andre    2020    100\n",
    "    Fernanda    1900    1\n",
    "    \n",
    "**-- tab separated file (another way) --**\n",
    "\n",
    "    name\\tyear\\tvalue\n",
    "    Andre\\t2020\\t100\n",
    "    Fernanda\\t1900\\t1\n",
    "    \n",
    "**-- hash separated file --**\n",
    "\n",
    "    name#year#value\n",
    "    Andre#2020#100\n",
    "    Fernanda#1900#1\n",
    "\n",
    "**-- pipe separated file --**\n",
    "\n",
    "    name|year|value\n",
    "    Andre|2020|100\n",
    "    Fernanda|1900|1\n",
    "\n",
    "    ..."
   ]
  },
  {
   "cell_type": "markdown",
   "metadata": {},
   "source": [
    "### Comma Separated Files"
   ]
  },
  {
   "cell_type": "code",
   "execution_count": 10,
   "metadata": {
    "ExecuteTime": {
     "end_time": "2021-12-04T12:05:34.890672Z",
     "start_time": "2021-12-04T12:05:34.783957Z"
    }
   },
   "outputs": [
    {
     "data": {
      "text/html": [
       "<div>\n",
       "<style scoped>\n",
       "    .dataframe tbody tr th:only-of-type {\n",
       "        vertical-align: middle;\n",
       "    }\n",
       "\n",
       "    .dataframe tbody tr th {\n",
       "        vertical-align: top;\n",
       "    }\n",
       "\n",
       "    .dataframe thead th {\n",
       "        text-align: right;\n",
       "    }\n",
       "</style>\n",
       "<table border=\"1\" class=\"dataframe\">\n",
       "  <thead>\n",
       "    <tr style=\"text-align: right;\">\n",
       "      <th></th>\n",
       "      <th>Make</th>\n",
       "      <th>Model</th>\n",
       "      <th>Year</th>\n",
       "      <th>Engine Displacement</th>\n",
       "      <th>Cylinders</th>\n",
       "      <th>Transmission</th>\n",
       "      <th>Drivetrain</th>\n",
       "      <th>Vehicle Class</th>\n",
       "      <th>Fuel Type</th>\n",
       "      <th>Fuel Barrels/Year</th>\n",
       "      <th>City MPG</th>\n",
       "      <th>Highway MPG</th>\n",
       "      <th>Combined MPG</th>\n",
       "      <th>CO2 Emission Grams/Mile</th>\n",
       "      <th>Fuel Cost/Year</th>\n",
       "    </tr>\n",
       "  </thead>\n",
       "  <tbody>\n",
       "    <tr>\n",
       "      <th>0</th>\n",
       "      <td>AM General</td>\n",
       "      <td>DJ Po Vehicle 2WD</td>\n",
       "      <td>1984</td>\n",
       "      <td>2.5</td>\n",
       "      <td>4.0</td>\n",
       "      <td>Automatic 3-spd</td>\n",
       "      <td>2-Wheel Drive</td>\n",
       "      <td>Special Purpose Vehicle 2WD</td>\n",
       "      <td>Regular</td>\n",
       "      <td>19.388824</td>\n",
       "      <td>18</td>\n",
       "      <td>17</td>\n",
       "      <td>17</td>\n",
       "      <td>522.764706</td>\n",
       "      <td>1950</td>\n",
       "    </tr>\n",
       "    <tr>\n",
       "      <th>1</th>\n",
       "      <td>AM General</td>\n",
       "      <td>FJ8c Post Office</td>\n",
       "      <td>1984</td>\n",
       "      <td>4.2</td>\n",
       "      <td>6.0</td>\n",
       "      <td>Automatic 3-spd</td>\n",
       "      <td>2-Wheel Drive</td>\n",
       "      <td>Special Purpose Vehicle 2WD</td>\n",
       "      <td>Regular</td>\n",
       "      <td>25.354615</td>\n",
       "      <td>13</td>\n",
       "      <td>13</td>\n",
       "      <td>13</td>\n",
       "      <td>683.615385</td>\n",
       "      <td>2550</td>\n",
       "    </tr>\n",
       "    <tr>\n",
       "      <th>2</th>\n",
       "      <td>AM General</td>\n",
       "      <td>Post Office DJ5 2WD</td>\n",
       "      <td>1985</td>\n",
       "      <td>2.5</td>\n",
       "      <td>4.0</td>\n",
       "      <td>Automatic 3-spd</td>\n",
       "      <td>Rear-Wheel Drive</td>\n",
       "      <td>Special Purpose Vehicle 2WD</td>\n",
       "      <td>Regular</td>\n",
       "      <td>20.600625</td>\n",
       "      <td>16</td>\n",
       "      <td>17</td>\n",
       "      <td>16</td>\n",
       "      <td>555.437500</td>\n",
       "      <td>2100</td>\n",
       "    </tr>\n",
       "    <tr>\n",
       "      <th>3</th>\n",
       "      <td>AM General</td>\n",
       "      <td>Post Office DJ8 2WD</td>\n",
       "      <td>1985</td>\n",
       "      <td>4.2</td>\n",
       "      <td>6.0</td>\n",
       "      <td>Automatic 3-spd</td>\n",
       "      <td>Rear-Wheel Drive</td>\n",
       "      <td>Special Purpose Vehicle 2WD</td>\n",
       "      <td>Regular</td>\n",
       "      <td>25.354615</td>\n",
       "      <td>13</td>\n",
       "      <td>13</td>\n",
       "      <td>13</td>\n",
       "      <td>683.615385</td>\n",
       "      <td>2550</td>\n",
       "    </tr>\n",
       "    <tr>\n",
       "      <th>4</th>\n",
       "      <td>ASC Incorporated</td>\n",
       "      <td>GNX</td>\n",
       "      <td>1987</td>\n",
       "      <td>3.8</td>\n",
       "      <td>6.0</td>\n",
       "      <td>Automatic 4-spd</td>\n",
       "      <td>Rear-Wheel Drive</td>\n",
       "      <td>Midsize Cars</td>\n",
       "      <td>Premium</td>\n",
       "      <td>20.600625</td>\n",
       "      <td>14</td>\n",
       "      <td>21</td>\n",
       "      <td>16</td>\n",
       "      <td>555.437500</td>\n",
       "      <td>2550</td>\n",
       "    </tr>\n",
       "    <tr>\n",
       "      <th>...</th>\n",
       "      <td>...</td>\n",
       "      <td>...</td>\n",
       "      <td>...</td>\n",
       "      <td>...</td>\n",
       "      <td>...</td>\n",
       "      <td>...</td>\n",
       "      <td>...</td>\n",
       "      <td>...</td>\n",
       "      <td>...</td>\n",
       "      <td>...</td>\n",
       "      <td>...</td>\n",
       "      <td>...</td>\n",
       "      <td>...</td>\n",
       "      <td>...</td>\n",
       "      <td>...</td>\n",
       "    </tr>\n",
       "    <tr>\n",
       "      <th>35947</th>\n",
       "      <td>smart</td>\n",
       "      <td>fortwo coupe</td>\n",
       "      <td>2013</td>\n",
       "      <td>1.0</td>\n",
       "      <td>3.0</td>\n",
       "      <td>Auto(AM5)</td>\n",
       "      <td>Rear-Wheel Drive</td>\n",
       "      <td>Two Seaters</td>\n",
       "      <td>Premium</td>\n",
       "      <td>9.155833</td>\n",
       "      <td>34</td>\n",
       "      <td>38</td>\n",
       "      <td>36</td>\n",
       "      <td>244.000000</td>\n",
       "      <td>1100</td>\n",
       "    </tr>\n",
       "    <tr>\n",
       "      <th>35948</th>\n",
       "      <td>smart</td>\n",
       "      <td>fortwo coupe</td>\n",
       "      <td>2014</td>\n",
       "      <td>1.0</td>\n",
       "      <td>3.0</td>\n",
       "      <td>Auto(AM5)</td>\n",
       "      <td>Rear-Wheel Drive</td>\n",
       "      <td>Two Seaters</td>\n",
       "      <td>Premium</td>\n",
       "      <td>9.155833</td>\n",
       "      <td>34</td>\n",
       "      <td>38</td>\n",
       "      <td>36</td>\n",
       "      <td>243.000000</td>\n",
       "      <td>1100</td>\n",
       "    </tr>\n",
       "    <tr>\n",
       "      <th>35949</th>\n",
       "      <td>smart</td>\n",
       "      <td>fortwo coupe</td>\n",
       "      <td>2015</td>\n",
       "      <td>1.0</td>\n",
       "      <td>3.0</td>\n",
       "      <td>Auto(AM5)</td>\n",
       "      <td>Rear-Wheel Drive</td>\n",
       "      <td>Two Seaters</td>\n",
       "      <td>Premium</td>\n",
       "      <td>9.155833</td>\n",
       "      <td>34</td>\n",
       "      <td>38</td>\n",
       "      <td>36</td>\n",
       "      <td>244.000000</td>\n",
       "      <td>1100</td>\n",
       "    </tr>\n",
       "    <tr>\n",
       "      <th>35950</th>\n",
       "      <td>smart</td>\n",
       "      <td>fortwo coupe</td>\n",
       "      <td>2016</td>\n",
       "      <td>0.9</td>\n",
       "      <td>3.0</td>\n",
       "      <td>Auto(AM6)</td>\n",
       "      <td>Rear-Wheel Drive</td>\n",
       "      <td>Two Seaters</td>\n",
       "      <td>Premium</td>\n",
       "      <td>9.155833</td>\n",
       "      <td>34</td>\n",
       "      <td>39</td>\n",
       "      <td>36</td>\n",
       "      <td>246.000000</td>\n",
       "      <td>1100</td>\n",
       "    </tr>\n",
       "    <tr>\n",
       "      <th>35951</th>\n",
       "      <td>smart</td>\n",
       "      <td>fortwo coupe</td>\n",
       "      <td>2016</td>\n",
       "      <td>0.9</td>\n",
       "      <td>3.0</td>\n",
       "      <td>Manual 5-spd</td>\n",
       "      <td>Rear-Wheel Drive</td>\n",
       "      <td>Two Seaters</td>\n",
       "      <td>Premium</td>\n",
       "      <td>9.417429</td>\n",
       "      <td>32</td>\n",
       "      <td>39</td>\n",
       "      <td>35</td>\n",
       "      <td>255.000000</td>\n",
       "      <td>1150</td>\n",
       "    </tr>\n",
       "  </tbody>\n",
       "</table>\n",
       "<p>35952 rows × 15 columns</p>\n",
       "</div>"
      ],
      "text/plain": [
       "                   Make                Model  Year  Engine Displacement  \\\n",
       "0            AM General    DJ Po Vehicle 2WD  1984                  2.5   \n",
       "1            AM General     FJ8c Post Office  1984                  4.2   \n",
       "2            AM General  Post Office DJ5 2WD  1985                  2.5   \n",
       "3            AM General  Post Office DJ8 2WD  1985                  4.2   \n",
       "4      ASC Incorporated                  GNX  1987                  3.8   \n",
       "...                 ...                  ...   ...                  ...   \n",
       "35947             smart         fortwo coupe  2013                  1.0   \n",
       "35948             smart         fortwo coupe  2014                  1.0   \n",
       "35949             smart         fortwo coupe  2015                  1.0   \n",
       "35950             smart         fortwo coupe  2016                  0.9   \n",
       "35951             smart         fortwo coupe  2016                  0.9   \n",
       "\n",
       "       Cylinders     Transmission        Drivetrain  \\\n",
       "0            4.0  Automatic 3-spd     2-Wheel Drive   \n",
       "1            6.0  Automatic 3-spd     2-Wheel Drive   \n",
       "2            4.0  Automatic 3-spd  Rear-Wheel Drive   \n",
       "3            6.0  Automatic 3-spd  Rear-Wheel Drive   \n",
       "4            6.0  Automatic 4-spd  Rear-Wheel Drive   \n",
       "...          ...              ...               ...   \n",
       "35947        3.0        Auto(AM5)  Rear-Wheel Drive   \n",
       "35948        3.0        Auto(AM5)  Rear-Wheel Drive   \n",
       "35949        3.0        Auto(AM5)  Rear-Wheel Drive   \n",
       "35950        3.0        Auto(AM6)  Rear-Wheel Drive   \n",
       "35951        3.0     Manual 5-spd  Rear-Wheel Drive   \n",
       "\n",
       "                     Vehicle Class Fuel Type  Fuel Barrels/Year  City MPG  \\\n",
       "0      Special Purpose Vehicle 2WD   Regular          19.388824        18   \n",
       "1      Special Purpose Vehicle 2WD   Regular          25.354615        13   \n",
       "2      Special Purpose Vehicle 2WD   Regular          20.600625        16   \n",
       "3      Special Purpose Vehicle 2WD   Regular          25.354615        13   \n",
       "4                     Midsize Cars   Premium          20.600625        14   \n",
       "...                            ...       ...                ...       ...   \n",
       "35947                  Two Seaters   Premium           9.155833        34   \n",
       "35948                  Two Seaters   Premium           9.155833        34   \n",
       "35949                  Two Seaters   Premium           9.155833        34   \n",
       "35950                  Two Seaters   Premium           9.155833        34   \n",
       "35951                  Two Seaters   Premium           9.417429        32   \n",
       "\n",
       "       Highway MPG  Combined MPG  CO2 Emission Grams/Mile  Fuel Cost/Year  \n",
       "0               17            17               522.764706            1950  \n",
       "1               13            13               683.615385            2550  \n",
       "2               17            16               555.437500            2100  \n",
       "3               13            13               683.615385            2550  \n",
       "4               21            16               555.437500            2550  \n",
       "...            ...           ...                      ...             ...  \n",
       "35947           38            36               244.000000            1100  \n",
       "35948           38            36               243.000000            1100  \n",
       "35949           38            36               244.000000            1100  \n",
       "35950           39            36               246.000000            1100  \n",
       "35951           39            35               255.000000            1150  \n",
       "\n",
       "[35952 rows x 15 columns]"
      ]
     },
     "execution_count": 10,
     "metadata": {},
     "output_type": "execute_result"
    }
   ],
   "source": [
    "pd.read_csv('data/dados_veiculos.csv')"
   ]
  },
  {
   "cell_type": "markdown",
   "metadata": {},
   "source": [
    "In this way, the `pd.read_csv()` method is just outputing the results on screen.\n",
    "\n",
    "If I wanted to store it in a variable I would have to **assign** this result into a variable"
   ]
  },
  {
   "cell_type": "code",
   "execution_count": 11,
   "metadata": {
    "ExecuteTime": {
     "end_time": "2021-12-04T12:05:37.656697Z",
     "start_time": "2021-12-04T12:05:37.577466Z"
    }
   },
   "outputs": [],
   "source": [
    "tb_veic = pd.read_csv('data/dados_veiculos.csv')"
   ]
  },
  {
   "cell_type": "code",
   "execution_count": 12,
   "metadata": {
    "ExecuteTime": {
     "end_time": "2021-12-04T12:05:45.283025Z",
     "start_time": "2021-12-04T12:05:45.251114Z"
    }
   },
   "outputs": [
    {
     "name": "stdout",
     "output_type": "stream",
     "text": [
      "<class 'pandas.core.frame.DataFrame'>\n",
      "RangeIndex: 35952 entries, 0 to 35951\n",
      "Data columns (total 15 columns):\n",
      " #   Column                   Non-Null Count  Dtype  \n",
      "---  ------                   --------------  -----  \n",
      " 0   Make                     35952 non-null  object \n",
      " 1   Model                    35952 non-null  object \n",
      " 2   Year                     35952 non-null  int64  \n",
      " 3   Engine Displacement      35952 non-null  float64\n",
      " 4   Cylinders                35952 non-null  float64\n",
      " 5   Transmission             35952 non-null  object \n",
      " 6   Drivetrain               35952 non-null  object \n",
      " 7   Vehicle Class            35952 non-null  object \n",
      " 8   Fuel Type                35952 non-null  object \n",
      " 9   Fuel Barrels/Year        35952 non-null  float64\n",
      " 10  City MPG                 35952 non-null  int64  \n",
      " 11  Highway MPG              35952 non-null  int64  \n",
      " 12  Combined MPG             35952 non-null  int64  \n",
      " 13  CO2 Emission Grams/Mile  35952 non-null  float64\n",
      " 14  Fuel Cost/Year           35952 non-null  int64  \n",
      "dtypes: float64(4), int64(5), object(6)\n",
      "memory usage: 4.1+ MB\n"
     ]
    }
   ],
   "source": [
    "tb_veic.info()"
   ]
  },
  {
   "cell_type": "markdown",
   "metadata": {},
   "source": [
    "### Import tab-delimited file\n"
   ]
  },
  {
   "cell_type": "code",
   "execution_count": 13,
   "metadata": {
    "ExecuteTime": {
     "end_time": "2021-12-04T12:05:57.710122Z",
     "start_time": "2021-12-04T12:05:57.560522Z"
    }
   },
   "outputs": [
    {
     "ename": "UnicodeDecodeError",
     "evalue": "'utf-8' codec can't decode byte 0xe7 in position 316: invalid continuation byte",
     "output_type": "error",
     "traceback": [
      "\u001b[1;31m---------------------------------------------------------------------------\u001b[0m",
      "\u001b[1;31mUnicodeDecodeError\u001b[0m                        Traceback (most recent call last)",
      "\u001b[1;32m~\\AppData\\Local\\Temp/ipykernel_7608/1692140192.py\u001b[0m in \u001b[0;36m<module>\u001b[1;34m\u001b[0m\n\u001b[1;32m----> 1\u001b[1;33m \u001b[0mtb_oscsp\u001b[0m \u001b[1;33m=\u001b[0m \u001b[0mpd\u001b[0m\u001b[1;33m.\u001b[0m\u001b[0mread_csv\u001b[0m\u001b[1;33m(\u001b[0m\u001b[1;34m'data/tb_empenho_cnpj_osc.txt'\u001b[0m\u001b[1;33m)\u001b[0m\u001b[1;33m\u001b[0m\u001b[1;33m\u001b[0m\u001b[0m\n\u001b[0m",
      "\u001b[1;32m~\\anaconda3\\envs\\Python3\\lib\\site-packages\\pandas\\util\\_decorators.py\u001b[0m in \u001b[0;36mwrapper\u001b[1;34m(*args, **kwargs)\u001b[0m\n\u001b[0;32m    309\u001b[0m                     \u001b[0mstacklevel\u001b[0m\u001b[1;33m=\u001b[0m\u001b[0mstacklevel\u001b[0m\u001b[1;33m,\u001b[0m\u001b[1;33m\u001b[0m\u001b[1;33m\u001b[0m\u001b[0m\n\u001b[0;32m    310\u001b[0m                 )\n\u001b[1;32m--> 311\u001b[1;33m             \u001b[1;32mreturn\u001b[0m \u001b[0mfunc\u001b[0m\u001b[1;33m(\u001b[0m\u001b[1;33m*\u001b[0m\u001b[0margs\u001b[0m\u001b[1;33m,\u001b[0m \u001b[1;33m**\u001b[0m\u001b[0mkwargs\u001b[0m\u001b[1;33m)\u001b[0m\u001b[1;33m\u001b[0m\u001b[1;33m\u001b[0m\u001b[0m\n\u001b[0m\u001b[0;32m    312\u001b[0m \u001b[1;33m\u001b[0m\u001b[0m\n\u001b[0;32m    313\u001b[0m         \u001b[1;32mreturn\u001b[0m \u001b[0mwrapper\u001b[0m\u001b[1;33m\u001b[0m\u001b[1;33m\u001b[0m\u001b[0m\n",
      "\u001b[1;32m~\\anaconda3\\envs\\Python3\\lib\\site-packages\\pandas\\io\\parsers\\readers.py\u001b[0m in \u001b[0;36mread_csv\u001b[1;34m(filepath_or_buffer, sep, delimiter, header, names, index_col, usecols, squeeze, prefix, mangle_dupe_cols, dtype, engine, converters, true_values, false_values, skipinitialspace, skiprows, skipfooter, nrows, na_values, keep_default_na, na_filter, verbose, skip_blank_lines, parse_dates, infer_datetime_format, keep_date_col, date_parser, dayfirst, cache_dates, iterator, chunksize, compression, thousands, decimal, lineterminator, quotechar, quoting, doublequote, escapechar, comment, encoding, encoding_errors, dialect, error_bad_lines, warn_bad_lines, on_bad_lines, delim_whitespace, low_memory, memory_map, float_precision, storage_options)\u001b[0m\n\u001b[0;32m    584\u001b[0m     \u001b[0mkwds\u001b[0m\u001b[1;33m.\u001b[0m\u001b[0mupdate\u001b[0m\u001b[1;33m(\u001b[0m\u001b[0mkwds_defaults\u001b[0m\u001b[1;33m)\u001b[0m\u001b[1;33m\u001b[0m\u001b[1;33m\u001b[0m\u001b[0m\n\u001b[0;32m    585\u001b[0m \u001b[1;33m\u001b[0m\u001b[0m\n\u001b[1;32m--> 586\u001b[1;33m     \u001b[1;32mreturn\u001b[0m \u001b[0m_read\u001b[0m\u001b[1;33m(\u001b[0m\u001b[0mfilepath_or_buffer\u001b[0m\u001b[1;33m,\u001b[0m \u001b[0mkwds\u001b[0m\u001b[1;33m)\u001b[0m\u001b[1;33m\u001b[0m\u001b[1;33m\u001b[0m\u001b[0m\n\u001b[0m\u001b[0;32m    587\u001b[0m \u001b[1;33m\u001b[0m\u001b[0m\n\u001b[0;32m    588\u001b[0m \u001b[1;33m\u001b[0m\u001b[0m\n",
      "\u001b[1;32m~\\anaconda3\\envs\\Python3\\lib\\site-packages\\pandas\\io\\parsers\\readers.py\u001b[0m in \u001b[0;36m_read\u001b[1;34m(filepath_or_buffer, kwds)\u001b[0m\n\u001b[0;32m    480\u001b[0m \u001b[1;33m\u001b[0m\u001b[0m\n\u001b[0;32m    481\u001b[0m     \u001b[1;31m# Create the parser.\u001b[0m\u001b[1;33m\u001b[0m\u001b[1;33m\u001b[0m\u001b[1;33m\u001b[0m\u001b[0m\n\u001b[1;32m--> 482\u001b[1;33m     \u001b[0mparser\u001b[0m \u001b[1;33m=\u001b[0m \u001b[0mTextFileReader\u001b[0m\u001b[1;33m(\u001b[0m\u001b[0mfilepath_or_buffer\u001b[0m\u001b[1;33m,\u001b[0m \u001b[1;33m**\u001b[0m\u001b[0mkwds\u001b[0m\u001b[1;33m)\u001b[0m\u001b[1;33m\u001b[0m\u001b[1;33m\u001b[0m\u001b[0m\n\u001b[0m\u001b[0;32m    483\u001b[0m \u001b[1;33m\u001b[0m\u001b[0m\n\u001b[0;32m    484\u001b[0m     \u001b[1;32mif\u001b[0m \u001b[0mchunksize\u001b[0m \u001b[1;32mor\u001b[0m \u001b[0miterator\u001b[0m\u001b[1;33m:\u001b[0m\u001b[1;33m\u001b[0m\u001b[1;33m\u001b[0m\u001b[0m\n",
      "\u001b[1;32m~\\anaconda3\\envs\\Python3\\lib\\site-packages\\pandas\\io\\parsers\\readers.py\u001b[0m in \u001b[0;36m__init__\u001b[1;34m(self, f, engine, **kwds)\u001b[0m\n\u001b[0;32m    809\u001b[0m             \u001b[0mself\u001b[0m\u001b[1;33m.\u001b[0m\u001b[0moptions\u001b[0m\u001b[1;33m[\u001b[0m\u001b[1;34m\"has_index_names\"\u001b[0m\u001b[1;33m]\u001b[0m \u001b[1;33m=\u001b[0m \u001b[0mkwds\u001b[0m\u001b[1;33m[\u001b[0m\u001b[1;34m\"has_index_names\"\u001b[0m\u001b[1;33m]\u001b[0m\u001b[1;33m\u001b[0m\u001b[1;33m\u001b[0m\u001b[0m\n\u001b[0;32m    810\u001b[0m \u001b[1;33m\u001b[0m\u001b[0m\n\u001b[1;32m--> 811\u001b[1;33m         \u001b[0mself\u001b[0m\u001b[1;33m.\u001b[0m\u001b[0m_engine\u001b[0m \u001b[1;33m=\u001b[0m \u001b[0mself\u001b[0m\u001b[1;33m.\u001b[0m\u001b[0m_make_engine\u001b[0m\u001b[1;33m(\u001b[0m\u001b[0mself\u001b[0m\u001b[1;33m.\u001b[0m\u001b[0mengine\u001b[0m\u001b[1;33m)\u001b[0m\u001b[1;33m\u001b[0m\u001b[1;33m\u001b[0m\u001b[0m\n\u001b[0m\u001b[0;32m    812\u001b[0m \u001b[1;33m\u001b[0m\u001b[0m\n\u001b[0;32m    813\u001b[0m     \u001b[1;32mdef\u001b[0m \u001b[0mclose\u001b[0m\u001b[1;33m(\u001b[0m\u001b[0mself\u001b[0m\u001b[1;33m)\u001b[0m\u001b[1;33m:\u001b[0m\u001b[1;33m\u001b[0m\u001b[1;33m\u001b[0m\u001b[0m\n",
      "\u001b[1;32m~\\anaconda3\\envs\\Python3\\lib\\site-packages\\pandas\\io\\parsers\\readers.py\u001b[0m in \u001b[0;36m_make_engine\u001b[1;34m(self, engine)\u001b[0m\n\u001b[0;32m   1038\u001b[0m             )\n\u001b[0;32m   1039\u001b[0m         \u001b[1;31m# error: Too many arguments for \"ParserBase\"\u001b[0m\u001b[1;33m\u001b[0m\u001b[1;33m\u001b[0m\u001b[1;33m\u001b[0m\u001b[0m\n\u001b[1;32m-> 1040\u001b[1;33m         \u001b[1;32mreturn\u001b[0m \u001b[0mmapping\u001b[0m\u001b[1;33m[\u001b[0m\u001b[0mengine\u001b[0m\u001b[1;33m]\u001b[0m\u001b[1;33m(\u001b[0m\u001b[0mself\u001b[0m\u001b[1;33m.\u001b[0m\u001b[0mf\u001b[0m\u001b[1;33m,\u001b[0m \u001b[1;33m**\u001b[0m\u001b[0mself\u001b[0m\u001b[1;33m.\u001b[0m\u001b[0moptions\u001b[0m\u001b[1;33m)\u001b[0m  \u001b[1;31m# type: ignore[call-arg]\u001b[0m\u001b[1;33m\u001b[0m\u001b[1;33m\u001b[0m\u001b[0m\n\u001b[0m\u001b[0;32m   1041\u001b[0m \u001b[1;33m\u001b[0m\u001b[0m\n\u001b[0;32m   1042\u001b[0m     \u001b[1;32mdef\u001b[0m \u001b[0m_failover_to_python\u001b[0m\u001b[1;33m(\u001b[0m\u001b[0mself\u001b[0m\u001b[1;33m)\u001b[0m\u001b[1;33m:\u001b[0m\u001b[1;33m\u001b[0m\u001b[1;33m\u001b[0m\u001b[0m\n",
      "\u001b[1;32m~\\anaconda3\\envs\\Python3\\lib\\site-packages\\pandas\\io\\parsers\\c_parser_wrapper.py\u001b[0m in \u001b[0;36m__init__\u001b[1;34m(self, src, **kwds)\u001b[0m\n\u001b[0;32m     67\u001b[0m         \u001b[0mkwds\u001b[0m\u001b[1;33m[\u001b[0m\u001b[1;34m\"dtype\"\u001b[0m\u001b[1;33m]\u001b[0m \u001b[1;33m=\u001b[0m \u001b[0mensure_dtype_objs\u001b[0m\u001b[1;33m(\u001b[0m\u001b[0mkwds\u001b[0m\u001b[1;33m.\u001b[0m\u001b[0mget\u001b[0m\u001b[1;33m(\u001b[0m\u001b[1;34m\"dtype\"\u001b[0m\u001b[1;33m,\u001b[0m \u001b[1;32mNone\u001b[0m\u001b[1;33m)\u001b[0m\u001b[1;33m)\u001b[0m\u001b[1;33m\u001b[0m\u001b[1;33m\u001b[0m\u001b[0m\n\u001b[0;32m     68\u001b[0m         \u001b[1;32mtry\u001b[0m\u001b[1;33m:\u001b[0m\u001b[1;33m\u001b[0m\u001b[1;33m\u001b[0m\u001b[0m\n\u001b[1;32m---> 69\u001b[1;33m             \u001b[0mself\u001b[0m\u001b[1;33m.\u001b[0m\u001b[0m_reader\u001b[0m \u001b[1;33m=\u001b[0m \u001b[0mparsers\u001b[0m\u001b[1;33m.\u001b[0m\u001b[0mTextReader\u001b[0m\u001b[1;33m(\u001b[0m\u001b[0mself\u001b[0m\u001b[1;33m.\u001b[0m\u001b[0mhandles\u001b[0m\u001b[1;33m.\u001b[0m\u001b[0mhandle\u001b[0m\u001b[1;33m,\u001b[0m \u001b[1;33m**\u001b[0m\u001b[0mkwds\u001b[0m\u001b[1;33m)\u001b[0m\u001b[1;33m\u001b[0m\u001b[1;33m\u001b[0m\u001b[0m\n\u001b[0m\u001b[0;32m     70\u001b[0m         \u001b[1;32mexcept\u001b[0m \u001b[0mException\u001b[0m\u001b[1;33m:\u001b[0m\u001b[1;33m\u001b[0m\u001b[1;33m\u001b[0m\u001b[0m\n\u001b[0;32m     71\u001b[0m             \u001b[0mself\u001b[0m\u001b[1;33m.\u001b[0m\u001b[0mhandles\u001b[0m\u001b[1;33m.\u001b[0m\u001b[0mclose\u001b[0m\u001b[1;33m(\u001b[0m\u001b[1;33m)\u001b[0m\u001b[1;33m\u001b[0m\u001b[1;33m\u001b[0m\u001b[0m\n",
      "\u001b[1;32m~\\anaconda3\\envs\\Python3\\lib\\site-packages\\pandas\\_libs\\parsers.pyx\u001b[0m in \u001b[0;36mpandas._libs.parsers.TextReader.__cinit__\u001b[1;34m()\u001b[0m\n",
      "\u001b[1;32m~\\anaconda3\\envs\\Python3\\lib\\site-packages\\pandas\\_libs\\parsers.pyx\u001b[0m in \u001b[0;36mpandas._libs.parsers.TextReader._get_header\u001b[1;34m()\u001b[0m\n",
      "\u001b[1;32m~\\anaconda3\\envs\\Python3\\lib\\site-packages\\pandas\\_libs\\parsers.pyx\u001b[0m in \u001b[0;36mpandas._libs.parsers.TextReader._tokenize_rows\u001b[1;34m()\u001b[0m\n",
      "\u001b[1;32m~\\anaconda3\\envs\\Python3\\lib\\site-packages\\pandas\\_libs\\parsers.pyx\u001b[0m in \u001b[0;36mpandas._libs.parsers.raise_parser_error\u001b[1;34m()\u001b[0m\n",
      "\u001b[1;31mUnicodeDecodeError\u001b[0m: 'utf-8' codec can't decode byte 0xe7 in position 316: invalid continuation byte"
     ]
    }
   ],
   "source": [
    "tb_oscsp = pd.read_csv('data/tb_empenho_cnpj_osc.txt')"
   ]
  },
  {
   "cell_type": "code",
   "execution_count": 14,
   "metadata": {
    "ExecuteTime": {
     "end_time": "2021-12-04T12:06:33.284013Z",
     "start_time": "2021-12-04T12:06:33.270051Z"
    }
   },
   "outputs": [
    {
     "name": "stdout",
     "output_type": "stream",
     "text": [
      "codOrgao\tcodFuncao\ttxtModalidadeAplicacao\tnumCpfCnpj\tANO_API\tvaltotalempenhado\tcd_identificador_osc\ttx_razao_social_osc\ttx_nome_fantasia_osc\tdt_fundacao_osc\ttx_nome_classe_atividade_economica\tcd_natureza_juridica_osc\tedmu_cd_municipio\tedmu_nm_municipio\teduf_cd_uf\teduf_sg_uf\tclassif_religiao\tclassif_osc\r\n",
      "\n"
     ]
    },
    {
     "ename": "UnicodeDecodeError",
     "evalue": "'utf-8' codec can't decode byte 0xe7 in position 11: invalid continuation byte",
     "output_type": "error",
     "traceback": [
      "\u001b[1;31m---------------------------------------------------------------------------\u001b[0m",
      "\u001b[1;31mUnicodeDecodeError\u001b[0m                        Traceback (most recent call last)",
      "\u001b[1;32m~\\AppData\\Local\\Temp/ipykernel_7608/3412500754.py\u001b[0m in \u001b[0;36m<module>\u001b[1;34m\u001b[0m\n\u001b[0;32m      2\u001b[0m \u001b[0mfile_lines\u001b[0m \u001b[1;33m=\u001b[0m \u001b[0mfile\u001b[0m\u001b[1;33m.\u001b[0m\u001b[0mreadlines\u001b[0m\u001b[1;33m(\u001b[0m\u001b[1;36m10000\u001b[0m\u001b[1;33m)\u001b[0m\u001b[1;33m\u001b[0m\u001b[1;33m\u001b[0m\u001b[0m\n\u001b[0;32m      3\u001b[0m \u001b[1;32mfor\u001b[0m \u001b[0mi\u001b[0m \u001b[1;32min\u001b[0m \u001b[0mrange\u001b[0m\u001b[1;33m(\u001b[0m\u001b[1;36m5\u001b[0m\u001b[1;33m)\u001b[0m\u001b[1;33m:\u001b[0m\u001b[1;33m\u001b[0m\u001b[1;33m\u001b[0m\u001b[0m\n\u001b[1;32m----> 4\u001b[1;33m     \u001b[0mprint\u001b[0m\u001b[1;33m(\u001b[0m\u001b[0mfile_lines\u001b[0m\u001b[1;33m[\u001b[0m\u001b[0mi\u001b[0m\u001b[1;33m]\u001b[0m\u001b[1;33m.\u001b[0m\u001b[0mdecode\u001b[0m\u001b[1;33m(\u001b[0m\u001b[1;34m'utf-8'\u001b[0m\u001b[1;33m)\u001b[0m\u001b[1;33m)\u001b[0m\u001b[1;33m\u001b[0m\u001b[1;33m\u001b[0m\u001b[0m\n\u001b[0m\u001b[0;32m      5\u001b[0m \u001b[0mfile\u001b[0m\u001b[1;33m.\u001b[0m\u001b[0mclose\u001b[0m\u001b[1;33m(\u001b[0m\u001b[1;33m)\u001b[0m\u001b[1;33m\u001b[0m\u001b[1;33m\u001b[0m\u001b[0m\n",
      "\u001b[1;31mUnicodeDecodeError\u001b[0m: 'utf-8' codec can't decode byte 0xe7 in position 11: invalid continuation byte"
     ]
    }
   ],
   "source": [
    "file = open('data/tb_empenho_cnpj_osc.txt', 'rb')\n",
    "file_lines = file.readlines(10000)\n",
    "for i in range(5):\n",
    "    print(file_lines[i].decode('latin-1'))\n",
    "file.close()"
   ]
  },
  {
   "cell_type": "code",
   "execution_count": 15,
   "metadata": {
    "ExecuteTime": {
     "end_time": "2021-12-04T12:06:45.546859Z",
     "start_time": "2021-12-04T12:06:45.413189Z"
    }
   },
   "outputs": [
    {
     "ename": "UnicodeDecodeError",
     "evalue": "'utf-8' codec can't decode byte 0xe7 in position 316: invalid continuation byte",
     "output_type": "error",
     "traceback": [
      "\u001b[1;31m---------------------------------------------------------------------------\u001b[0m",
      "\u001b[1;31mUnicodeDecodeError\u001b[0m                        Traceback (most recent call last)",
      "\u001b[1;32m~\\AppData\\Local\\Temp/ipykernel_7608/905551324.py\u001b[0m in \u001b[0;36m<module>\u001b[1;34m\u001b[0m\n\u001b[1;32m----> 1\u001b[1;33m \u001b[0mtb_oscsp\u001b[0m \u001b[1;33m=\u001b[0m \u001b[0mpd\u001b[0m\u001b[1;33m.\u001b[0m\u001b[0mread_csv\u001b[0m\u001b[1;33m(\u001b[0m\u001b[1;34m'data/tb_empenho_cnpj_osc.txt'\u001b[0m\u001b[1;33m,\u001b[0m \u001b[0msep\u001b[0m \u001b[1;33m=\u001b[0m \u001b[1;34m'\\t'\u001b[0m\u001b[1;33m)\u001b[0m\u001b[1;33m\u001b[0m\u001b[1;33m\u001b[0m\u001b[0m\n\u001b[0m\u001b[0;32m      2\u001b[0m \u001b[0mtb_oscsp\u001b[0m\u001b[1;33m.\u001b[0m\u001b[0minfo\u001b[0m\u001b[1;33m(\u001b[0m\u001b[1;33m)\u001b[0m\u001b[1;33m\u001b[0m\u001b[1;33m\u001b[0m\u001b[0m\n",
      "\u001b[1;32m~\\anaconda3\\envs\\Python3\\lib\\site-packages\\pandas\\util\\_decorators.py\u001b[0m in \u001b[0;36mwrapper\u001b[1;34m(*args, **kwargs)\u001b[0m\n\u001b[0;32m    309\u001b[0m                     \u001b[0mstacklevel\u001b[0m\u001b[1;33m=\u001b[0m\u001b[0mstacklevel\u001b[0m\u001b[1;33m,\u001b[0m\u001b[1;33m\u001b[0m\u001b[1;33m\u001b[0m\u001b[0m\n\u001b[0;32m    310\u001b[0m                 )\n\u001b[1;32m--> 311\u001b[1;33m             \u001b[1;32mreturn\u001b[0m \u001b[0mfunc\u001b[0m\u001b[1;33m(\u001b[0m\u001b[1;33m*\u001b[0m\u001b[0margs\u001b[0m\u001b[1;33m,\u001b[0m \u001b[1;33m**\u001b[0m\u001b[0mkwargs\u001b[0m\u001b[1;33m)\u001b[0m\u001b[1;33m\u001b[0m\u001b[1;33m\u001b[0m\u001b[0m\n\u001b[0m\u001b[0;32m    312\u001b[0m \u001b[1;33m\u001b[0m\u001b[0m\n\u001b[0;32m    313\u001b[0m         \u001b[1;32mreturn\u001b[0m \u001b[0mwrapper\u001b[0m\u001b[1;33m\u001b[0m\u001b[1;33m\u001b[0m\u001b[0m\n",
      "\u001b[1;32m~\\anaconda3\\envs\\Python3\\lib\\site-packages\\pandas\\io\\parsers\\readers.py\u001b[0m in \u001b[0;36mread_csv\u001b[1;34m(filepath_or_buffer, sep, delimiter, header, names, index_col, usecols, squeeze, prefix, mangle_dupe_cols, dtype, engine, converters, true_values, false_values, skipinitialspace, skiprows, skipfooter, nrows, na_values, keep_default_na, na_filter, verbose, skip_blank_lines, parse_dates, infer_datetime_format, keep_date_col, date_parser, dayfirst, cache_dates, iterator, chunksize, compression, thousands, decimal, lineterminator, quotechar, quoting, doublequote, escapechar, comment, encoding, encoding_errors, dialect, error_bad_lines, warn_bad_lines, on_bad_lines, delim_whitespace, low_memory, memory_map, float_precision, storage_options)\u001b[0m\n\u001b[0;32m    584\u001b[0m     \u001b[0mkwds\u001b[0m\u001b[1;33m.\u001b[0m\u001b[0mupdate\u001b[0m\u001b[1;33m(\u001b[0m\u001b[0mkwds_defaults\u001b[0m\u001b[1;33m)\u001b[0m\u001b[1;33m\u001b[0m\u001b[1;33m\u001b[0m\u001b[0m\n\u001b[0;32m    585\u001b[0m \u001b[1;33m\u001b[0m\u001b[0m\n\u001b[1;32m--> 586\u001b[1;33m     \u001b[1;32mreturn\u001b[0m \u001b[0m_read\u001b[0m\u001b[1;33m(\u001b[0m\u001b[0mfilepath_or_buffer\u001b[0m\u001b[1;33m,\u001b[0m \u001b[0mkwds\u001b[0m\u001b[1;33m)\u001b[0m\u001b[1;33m\u001b[0m\u001b[1;33m\u001b[0m\u001b[0m\n\u001b[0m\u001b[0;32m    587\u001b[0m \u001b[1;33m\u001b[0m\u001b[0m\n\u001b[0;32m    588\u001b[0m \u001b[1;33m\u001b[0m\u001b[0m\n",
      "\u001b[1;32m~\\anaconda3\\envs\\Python3\\lib\\site-packages\\pandas\\io\\parsers\\readers.py\u001b[0m in \u001b[0;36m_read\u001b[1;34m(filepath_or_buffer, kwds)\u001b[0m\n\u001b[0;32m    480\u001b[0m \u001b[1;33m\u001b[0m\u001b[0m\n\u001b[0;32m    481\u001b[0m     \u001b[1;31m# Create the parser.\u001b[0m\u001b[1;33m\u001b[0m\u001b[1;33m\u001b[0m\u001b[1;33m\u001b[0m\u001b[0m\n\u001b[1;32m--> 482\u001b[1;33m     \u001b[0mparser\u001b[0m \u001b[1;33m=\u001b[0m \u001b[0mTextFileReader\u001b[0m\u001b[1;33m(\u001b[0m\u001b[0mfilepath_or_buffer\u001b[0m\u001b[1;33m,\u001b[0m \u001b[1;33m**\u001b[0m\u001b[0mkwds\u001b[0m\u001b[1;33m)\u001b[0m\u001b[1;33m\u001b[0m\u001b[1;33m\u001b[0m\u001b[0m\n\u001b[0m\u001b[0;32m    483\u001b[0m \u001b[1;33m\u001b[0m\u001b[0m\n\u001b[0;32m    484\u001b[0m     \u001b[1;32mif\u001b[0m \u001b[0mchunksize\u001b[0m \u001b[1;32mor\u001b[0m \u001b[0miterator\u001b[0m\u001b[1;33m:\u001b[0m\u001b[1;33m\u001b[0m\u001b[1;33m\u001b[0m\u001b[0m\n",
      "\u001b[1;32m~\\anaconda3\\envs\\Python3\\lib\\site-packages\\pandas\\io\\parsers\\readers.py\u001b[0m in \u001b[0;36m__init__\u001b[1;34m(self, f, engine, **kwds)\u001b[0m\n\u001b[0;32m    809\u001b[0m             \u001b[0mself\u001b[0m\u001b[1;33m.\u001b[0m\u001b[0moptions\u001b[0m\u001b[1;33m[\u001b[0m\u001b[1;34m\"has_index_names\"\u001b[0m\u001b[1;33m]\u001b[0m \u001b[1;33m=\u001b[0m \u001b[0mkwds\u001b[0m\u001b[1;33m[\u001b[0m\u001b[1;34m\"has_index_names\"\u001b[0m\u001b[1;33m]\u001b[0m\u001b[1;33m\u001b[0m\u001b[1;33m\u001b[0m\u001b[0m\n\u001b[0;32m    810\u001b[0m \u001b[1;33m\u001b[0m\u001b[0m\n\u001b[1;32m--> 811\u001b[1;33m         \u001b[0mself\u001b[0m\u001b[1;33m.\u001b[0m\u001b[0m_engine\u001b[0m \u001b[1;33m=\u001b[0m \u001b[0mself\u001b[0m\u001b[1;33m.\u001b[0m\u001b[0m_make_engine\u001b[0m\u001b[1;33m(\u001b[0m\u001b[0mself\u001b[0m\u001b[1;33m.\u001b[0m\u001b[0mengine\u001b[0m\u001b[1;33m)\u001b[0m\u001b[1;33m\u001b[0m\u001b[1;33m\u001b[0m\u001b[0m\n\u001b[0m\u001b[0;32m    812\u001b[0m \u001b[1;33m\u001b[0m\u001b[0m\n\u001b[0;32m    813\u001b[0m     \u001b[1;32mdef\u001b[0m \u001b[0mclose\u001b[0m\u001b[1;33m(\u001b[0m\u001b[0mself\u001b[0m\u001b[1;33m)\u001b[0m\u001b[1;33m:\u001b[0m\u001b[1;33m\u001b[0m\u001b[1;33m\u001b[0m\u001b[0m\n",
      "\u001b[1;32m~\\anaconda3\\envs\\Python3\\lib\\site-packages\\pandas\\io\\parsers\\readers.py\u001b[0m in \u001b[0;36m_make_engine\u001b[1;34m(self, engine)\u001b[0m\n\u001b[0;32m   1038\u001b[0m             )\n\u001b[0;32m   1039\u001b[0m         \u001b[1;31m# error: Too many arguments for \"ParserBase\"\u001b[0m\u001b[1;33m\u001b[0m\u001b[1;33m\u001b[0m\u001b[1;33m\u001b[0m\u001b[0m\n\u001b[1;32m-> 1040\u001b[1;33m         \u001b[1;32mreturn\u001b[0m \u001b[0mmapping\u001b[0m\u001b[1;33m[\u001b[0m\u001b[0mengine\u001b[0m\u001b[1;33m]\u001b[0m\u001b[1;33m(\u001b[0m\u001b[0mself\u001b[0m\u001b[1;33m.\u001b[0m\u001b[0mf\u001b[0m\u001b[1;33m,\u001b[0m \u001b[1;33m**\u001b[0m\u001b[0mself\u001b[0m\u001b[1;33m.\u001b[0m\u001b[0moptions\u001b[0m\u001b[1;33m)\u001b[0m  \u001b[1;31m# type: ignore[call-arg]\u001b[0m\u001b[1;33m\u001b[0m\u001b[1;33m\u001b[0m\u001b[0m\n\u001b[0m\u001b[0;32m   1041\u001b[0m \u001b[1;33m\u001b[0m\u001b[0m\n\u001b[0;32m   1042\u001b[0m     \u001b[1;32mdef\u001b[0m \u001b[0m_failover_to_python\u001b[0m\u001b[1;33m(\u001b[0m\u001b[0mself\u001b[0m\u001b[1;33m)\u001b[0m\u001b[1;33m:\u001b[0m\u001b[1;33m\u001b[0m\u001b[1;33m\u001b[0m\u001b[0m\n",
      "\u001b[1;32m~\\anaconda3\\envs\\Python3\\lib\\site-packages\\pandas\\io\\parsers\\c_parser_wrapper.py\u001b[0m in \u001b[0;36m__init__\u001b[1;34m(self, src, **kwds)\u001b[0m\n\u001b[0;32m     67\u001b[0m         \u001b[0mkwds\u001b[0m\u001b[1;33m[\u001b[0m\u001b[1;34m\"dtype\"\u001b[0m\u001b[1;33m]\u001b[0m \u001b[1;33m=\u001b[0m \u001b[0mensure_dtype_objs\u001b[0m\u001b[1;33m(\u001b[0m\u001b[0mkwds\u001b[0m\u001b[1;33m.\u001b[0m\u001b[0mget\u001b[0m\u001b[1;33m(\u001b[0m\u001b[1;34m\"dtype\"\u001b[0m\u001b[1;33m,\u001b[0m \u001b[1;32mNone\u001b[0m\u001b[1;33m)\u001b[0m\u001b[1;33m)\u001b[0m\u001b[1;33m\u001b[0m\u001b[1;33m\u001b[0m\u001b[0m\n\u001b[0;32m     68\u001b[0m         \u001b[1;32mtry\u001b[0m\u001b[1;33m:\u001b[0m\u001b[1;33m\u001b[0m\u001b[1;33m\u001b[0m\u001b[0m\n\u001b[1;32m---> 69\u001b[1;33m             \u001b[0mself\u001b[0m\u001b[1;33m.\u001b[0m\u001b[0m_reader\u001b[0m \u001b[1;33m=\u001b[0m \u001b[0mparsers\u001b[0m\u001b[1;33m.\u001b[0m\u001b[0mTextReader\u001b[0m\u001b[1;33m(\u001b[0m\u001b[0mself\u001b[0m\u001b[1;33m.\u001b[0m\u001b[0mhandles\u001b[0m\u001b[1;33m.\u001b[0m\u001b[0mhandle\u001b[0m\u001b[1;33m,\u001b[0m \u001b[1;33m**\u001b[0m\u001b[0mkwds\u001b[0m\u001b[1;33m)\u001b[0m\u001b[1;33m\u001b[0m\u001b[1;33m\u001b[0m\u001b[0m\n\u001b[0m\u001b[0;32m     70\u001b[0m         \u001b[1;32mexcept\u001b[0m \u001b[0mException\u001b[0m\u001b[1;33m:\u001b[0m\u001b[1;33m\u001b[0m\u001b[1;33m\u001b[0m\u001b[0m\n\u001b[0;32m     71\u001b[0m             \u001b[0mself\u001b[0m\u001b[1;33m.\u001b[0m\u001b[0mhandles\u001b[0m\u001b[1;33m.\u001b[0m\u001b[0mclose\u001b[0m\u001b[1;33m(\u001b[0m\u001b[1;33m)\u001b[0m\u001b[1;33m\u001b[0m\u001b[1;33m\u001b[0m\u001b[0m\n",
      "\u001b[1;32m~\\anaconda3\\envs\\Python3\\lib\\site-packages\\pandas\\_libs\\parsers.pyx\u001b[0m in \u001b[0;36mpandas._libs.parsers.TextReader.__cinit__\u001b[1;34m()\u001b[0m\n",
      "\u001b[1;32m~\\anaconda3\\envs\\Python3\\lib\\site-packages\\pandas\\_libs\\parsers.pyx\u001b[0m in \u001b[0;36mpandas._libs.parsers.TextReader._get_header\u001b[1;34m()\u001b[0m\n",
      "\u001b[1;32m~\\anaconda3\\envs\\Python3\\lib\\site-packages\\pandas\\_libs\\parsers.pyx\u001b[0m in \u001b[0;36mpandas._libs.parsers.TextReader._tokenize_rows\u001b[1;34m()\u001b[0m\n",
      "\u001b[1;32m~\\anaconda3\\envs\\Python3\\lib\\site-packages\\pandas\\_libs\\parsers.pyx\u001b[0m in \u001b[0;36mpandas._libs.parsers.raise_parser_error\u001b[1;34m()\u001b[0m\n",
      "\u001b[1;31mUnicodeDecodeError\u001b[0m: 'utf-8' codec can't decode byte 0xe7 in position 316: invalid continuation byte"
     ]
    }
   ],
   "source": [
    "tb_oscsp = pd.read_csv('data/tb_empenho_cnpj_osc.txt', sep = '\\t')\n",
    "tb_oscsp.info()"
   ]
  },
  {
   "cell_type": "code",
   "execution_count": 16,
   "metadata": {
    "ExecuteTime": {
     "end_time": "2021-12-04T12:06:49.238730Z",
     "start_time": "2021-12-04T12:06:49.125007Z"
    }
   },
   "outputs": [
    {
     "ename": "UnicodeDecodeError",
     "evalue": "'utf-8' codec can't decode byte 0xe7 in position 316: invalid continuation byte",
     "output_type": "error",
     "traceback": [
      "\u001b[1;31m---------------------------------------------------------------------------\u001b[0m",
      "\u001b[1;31mUnicodeDecodeError\u001b[0m                        Traceback (most recent call last)",
      "\u001b[1;32m~\\AppData\\Local\\Temp/ipykernel_7608/3657220043.py\u001b[0m in \u001b[0;36m<module>\u001b[1;34m\u001b[0m\n\u001b[1;32m----> 1\u001b[1;33m \u001b[0mtb_oscsp\u001b[0m \u001b[1;33m=\u001b[0m \u001b[0mpd\u001b[0m\u001b[1;33m.\u001b[0m\u001b[0mread_csv\u001b[0m\u001b[1;33m(\u001b[0m\u001b[1;34m'data/tb_empenho_cnpj_osc.txt'\u001b[0m\u001b[1;33m,\u001b[0m \u001b[0msep\u001b[0m \u001b[1;33m=\u001b[0m \u001b[1;34m'\\t'\u001b[0m\u001b[1;33m,\u001b[0m \u001b[0mdecimal\u001b[0m \u001b[1;33m=\u001b[0m \u001b[1;34m','\u001b[0m\u001b[1;33m)\u001b[0m\u001b[1;33m\u001b[0m\u001b[1;33m\u001b[0m\u001b[0m\n\u001b[0m\u001b[0;32m      2\u001b[0m \u001b[0mtb_oscsp\u001b[0m\u001b[1;33m.\u001b[0m\u001b[0minfo\u001b[0m\u001b[1;33m(\u001b[0m\u001b[1;33m)\u001b[0m\u001b[1;33m\u001b[0m\u001b[1;33m\u001b[0m\u001b[0m\n",
      "\u001b[1;32m~\\anaconda3\\envs\\Python3\\lib\\site-packages\\pandas\\util\\_decorators.py\u001b[0m in \u001b[0;36mwrapper\u001b[1;34m(*args, **kwargs)\u001b[0m\n\u001b[0;32m    309\u001b[0m                     \u001b[0mstacklevel\u001b[0m\u001b[1;33m=\u001b[0m\u001b[0mstacklevel\u001b[0m\u001b[1;33m,\u001b[0m\u001b[1;33m\u001b[0m\u001b[1;33m\u001b[0m\u001b[0m\n\u001b[0;32m    310\u001b[0m                 )\n\u001b[1;32m--> 311\u001b[1;33m             \u001b[1;32mreturn\u001b[0m \u001b[0mfunc\u001b[0m\u001b[1;33m(\u001b[0m\u001b[1;33m*\u001b[0m\u001b[0margs\u001b[0m\u001b[1;33m,\u001b[0m \u001b[1;33m**\u001b[0m\u001b[0mkwargs\u001b[0m\u001b[1;33m)\u001b[0m\u001b[1;33m\u001b[0m\u001b[1;33m\u001b[0m\u001b[0m\n\u001b[0m\u001b[0;32m    312\u001b[0m \u001b[1;33m\u001b[0m\u001b[0m\n\u001b[0;32m    313\u001b[0m         \u001b[1;32mreturn\u001b[0m \u001b[0mwrapper\u001b[0m\u001b[1;33m\u001b[0m\u001b[1;33m\u001b[0m\u001b[0m\n",
      "\u001b[1;32m~\\anaconda3\\envs\\Python3\\lib\\site-packages\\pandas\\io\\parsers\\readers.py\u001b[0m in \u001b[0;36mread_csv\u001b[1;34m(filepath_or_buffer, sep, delimiter, header, names, index_col, usecols, squeeze, prefix, mangle_dupe_cols, dtype, engine, converters, true_values, false_values, skipinitialspace, skiprows, skipfooter, nrows, na_values, keep_default_na, na_filter, verbose, skip_blank_lines, parse_dates, infer_datetime_format, keep_date_col, date_parser, dayfirst, cache_dates, iterator, chunksize, compression, thousands, decimal, lineterminator, quotechar, quoting, doublequote, escapechar, comment, encoding, encoding_errors, dialect, error_bad_lines, warn_bad_lines, on_bad_lines, delim_whitespace, low_memory, memory_map, float_precision, storage_options)\u001b[0m\n\u001b[0;32m    584\u001b[0m     \u001b[0mkwds\u001b[0m\u001b[1;33m.\u001b[0m\u001b[0mupdate\u001b[0m\u001b[1;33m(\u001b[0m\u001b[0mkwds_defaults\u001b[0m\u001b[1;33m)\u001b[0m\u001b[1;33m\u001b[0m\u001b[1;33m\u001b[0m\u001b[0m\n\u001b[0;32m    585\u001b[0m \u001b[1;33m\u001b[0m\u001b[0m\n\u001b[1;32m--> 586\u001b[1;33m     \u001b[1;32mreturn\u001b[0m \u001b[0m_read\u001b[0m\u001b[1;33m(\u001b[0m\u001b[0mfilepath_or_buffer\u001b[0m\u001b[1;33m,\u001b[0m \u001b[0mkwds\u001b[0m\u001b[1;33m)\u001b[0m\u001b[1;33m\u001b[0m\u001b[1;33m\u001b[0m\u001b[0m\n\u001b[0m\u001b[0;32m    587\u001b[0m \u001b[1;33m\u001b[0m\u001b[0m\n\u001b[0;32m    588\u001b[0m \u001b[1;33m\u001b[0m\u001b[0m\n",
      "\u001b[1;32m~\\anaconda3\\envs\\Python3\\lib\\site-packages\\pandas\\io\\parsers\\readers.py\u001b[0m in \u001b[0;36m_read\u001b[1;34m(filepath_or_buffer, kwds)\u001b[0m\n\u001b[0;32m    480\u001b[0m \u001b[1;33m\u001b[0m\u001b[0m\n\u001b[0;32m    481\u001b[0m     \u001b[1;31m# Create the parser.\u001b[0m\u001b[1;33m\u001b[0m\u001b[1;33m\u001b[0m\u001b[1;33m\u001b[0m\u001b[0m\n\u001b[1;32m--> 482\u001b[1;33m     \u001b[0mparser\u001b[0m \u001b[1;33m=\u001b[0m \u001b[0mTextFileReader\u001b[0m\u001b[1;33m(\u001b[0m\u001b[0mfilepath_or_buffer\u001b[0m\u001b[1;33m,\u001b[0m \u001b[1;33m**\u001b[0m\u001b[0mkwds\u001b[0m\u001b[1;33m)\u001b[0m\u001b[1;33m\u001b[0m\u001b[1;33m\u001b[0m\u001b[0m\n\u001b[0m\u001b[0;32m    483\u001b[0m \u001b[1;33m\u001b[0m\u001b[0m\n\u001b[0;32m    484\u001b[0m     \u001b[1;32mif\u001b[0m \u001b[0mchunksize\u001b[0m \u001b[1;32mor\u001b[0m \u001b[0miterator\u001b[0m\u001b[1;33m:\u001b[0m\u001b[1;33m\u001b[0m\u001b[1;33m\u001b[0m\u001b[0m\n",
      "\u001b[1;32m~\\anaconda3\\envs\\Python3\\lib\\site-packages\\pandas\\io\\parsers\\readers.py\u001b[0m in \u001b[0;36m__init__\u001b[1;34m(self, f, engine, **kwds)\u001b[0m\n\u001b[0;32m    809\u001b[0m             \u001b[0mself\u001b[0m\u001b[1;33m.\u001b[0m\u001b[0moptions\u001b[0m\u001b[1;33m[\u001b[0m\u001b[1;34m\"has_index_names\"\u001b[0m\u001b[1;33m]\u001b[0m \u001b[1;33m=\u001b[0m \u001b[0mkwds\u001b[0m\u001b[1;33m[\u001b[0m\u001b[1;34m\"has_index_names\"\u001b[0m\u001b[1;33m]\u001b[0m\u001b[1;33m\u001b[0m\u001b[1;33m\u001b[0m\u001b[0m\n\u001b[0;32m    810\u001b[0m \u001b[1;33m\u001b[0m\u001b[0m\n\u001b[1;32m--> 811\u001b[1;33m         \u001b[0mself\u001b[0m\u001b[1;33m.\u001b[0m\u001b[0m_engine\u001b[0m \u001b[1;33m=\u001b[0m \u001b[0mself\u001b[0m\u001b[1;33m.\u001b[0m\u001b[0m_make_engine\u001b[0m\u001b[1;33m(\u001b[0m\u001b[0mself\u001b[0m\u001b[1;33m.\u001b[0m\u001b[0mengine\u001b[0m\u001b[1;33m)\u001b[0m\u001b[1;33m\u001b[0m\u001b[1;33m\u001b[0m\u001b[0m\n\u001b[0m\u001b[0;32m    812\u001b[0m \u001b[1;33m\u001b[0m\u001b[0m\n\u001b[0;32m    813\u001b[0m     \u001b[1;32mdef\u001b[0m \u001b[0mclose\u001b[0m\u001b[1;33m(\u001b[0m\u001b[0mself\u001b[0m\u001b[1;33m)\u001b[0m\u001b[1;33m:\u001b[0m\u001b[1;33m\u001b[0m\u001b[1;33m\u001b[0m\u001b[0m\n",
      "\u001b[1;32m~\\anaconda3\\envs\\Python3\\lib\\site-packages\\pandas\\io\\parsers\\readers.py\u001b[0m in \u001b[0;36m_make_engine\u001b[1;34m(self, engine)\u001b[0m\n\u001b[0;32m   1038\u001b[0m             )\n\u001b[0;32m   1039\u001b[0m         \u001b[1;31m# error: Too many arguments for \"ParserBase\"\u001b[0m\u001b[1;33m\u001b[0m\u001b[1;33m\u001b[0m\u001b[1;33m\u001b[0m\u001b[0m\n\u001b[1;32m-> 1040\u001b[1;33m         \u001b[1;32mreturn\u001b[0m \u001b[0mmapping\u001b[0m\u001b[1;33m[\u001b[0m\u001b[0mengine\u001b[0m\u001b[1;33m]\u001b[0m\u001b[1;33m(\u001b[0m\u001b[0mself\u001b[0m\u001b[1;33m.\u001b[0m\u001b[0mf\u001b[0m\u001b[1;33m,\u001b[0m \u001b[1;33m**\u001b[0m\u001b[0mself\u001b[0m\u001b[1;33m.\u001b[0m\u001b[0moptions\u001b[0m\u001b[1;33m)\u001b[0m  \u001b[1;31m# type: ignore[call-arg]\u001b[0m\u001b[1;33m\u001b[0m\u001b[1;33m\u001b[0m\u001b[0m\n\u001b[0m\u001b[0;32m   1041\u001b[0m \u001b[1;33m\u001b[0m\u001b[0m\n\u001b[0;32m   1042\u001b[0m     \u001b[1;32mdef\u001b[0m \u001b[0m_failover_to_python\u001b[0m\u001b[1;33m(\u001b[0m\u001b[0mself\u001b[0m\u001b[1;33m)\u001b[0m\u001b[1;33m:\u001b[0m\u001b[1;33m\u001b[0m\u001b[1;33m\u001b[0m\u001b[0m\n",
      "\u001b[1;32m~\\anaconda3\\envs\\Python3\\lib\\site-packages\\pandas\\io\\parsers\\c_parser_wrapper.py\u001b[0m in \u001b[0;36m__init__\u001b[1;34m(self, src, **kwds)\u001b[0m\n\u001b[0;32m     67\u001b[0m         \u001b[0mkwds\u001b[0m\u001b[1;33m[\u001b[0m\u001b[1;34m\"dtype\"\u001b[0m\u001b[1;33m]\u001b[0m \u001b[1;33m=\u001b[0m \u001b[0mensure_dtype_objs\u001b[0m\u001b[1;33m(\u001b[0m\u001b[0mkwds\u001b[0m\u001b[1;33m.\u001b[0m\u001b[0mget\u001b[0m\u001b[1;33m(\u001b[0m\u001b[1;34m\"dtype\"\u001b[0m\u001b[1;33m,\u001b[0m \u001b[1;32mNone\u001b[0m\u001b[1;33m)\u001b[0m\u001b[1;33m)\u001b[0m\u001b[1;33m\u001b[0m\u001b[1;33m\u001b[0m\u001b[0m\n\u001b[0;32m     68\u001b[0m         \u001b[1;32mtry\u001b[0m\u001b[1;33m:\u001b[0m\u001b[1;33m\u001b[0m\u001b[1;33m\u001b[0m\u001b[0m\n\u001b[1;32m---> 69\u001b[1;33m             \u001b[0mself\u001b[0m\u001b[1;33m.\u001b[0m\u001b[0m_reader\u001b[0m \u001b[1;33m=\u001b[0m \u001b[0mparsers\u001b[0m\u001b[1;33m.\u001b[0m\u001b[0mTextReader\u001b[0m\u001b[1;33m(\u001b[0m\u001b[0mself\u001b[0m\u001b[1;33m.\u001b[0m\u001b[0mhandles\u001b[0m\u001b[1;33m.\u001b[0m\u001b[0mhandle\u001b[0m\u001b[1;33m,\u001b[0m \u001b[1;33m**\u001b[0m\u001b[0mkwds\u001b[0m\u001b[1;33m)\u001b[0m\u001b[1;33m\u001b[0m\u001b[1;33m\u001b[0m\u001b[0m\n\u001b[0m\u001b[0;32m     70\u001b[0m         \u001b[1;32mexcept\u001b[0m \u001b[0mException\u001b[0m\u001b[1;33m:\u001b[0m\u001b[1;33m\u001b[0m\u001b[1;33m\u001b[0m\u001b[0m\n\u001b[0;32m     71\u001b[0m             \u001b[0mself\u001b[0m\u001b[1;33m.\u001b[0m\u001b[0mhandles\u001b[0m\u001b[1;33m.\u001b[0m\u001b[0mclose\u001b[0m\u001b[1;33m(\u001b[0m\u001b[1;33m)\u001b[0m\u001b[1;33m\u001b[0m\u001b[1;33m\u001b[0m\u001b[0m\n",
      "\u001b[1;32m~\\anaconda3\\envs\\Python3\\lib\\site-packages\\pandas\\_libs\\parsers.pyx\u001b[0m in \u001b[0;36mpandas._libs.parsers.TextReader.__cinit__\u001b[1;34m()\u001b[0m\n",
      "\u001b[1;32m~\\anaconda3\\envs\\Python3\\lib\\site-packages\\pandas\\_libs\\parsers.pyx\u001b[0m in \u001b[0;36mpandas._libs.parsers.TextReader._get_header\u001b[1;34m()\u001b[0m\n",
      "\u001b[1;32m~\\anaconda3\\envs\\Python3\\lib\\site-packages\\pandas\\_libs\\parsers.pyx\u001b[0m in \u001b[0;36mpandas._libs.parsers.TextReader._tokenize_rows\u001b[1;34m()\u001b[0m\n",
      "\u001b[1;32m~\\anaconda3\\envs\\Python3\\lib\\site-packages\\pandas\\_libs\\parsers.pyx\u001b[0m in \u001b[0;36mpandas._libs.parsers.raise_parser_error\u001b[1;34m()\u001b[0m\n",
      "\u001b[1;31mUnicodeDecodeError\u001b[0m: 'utf-8' codec can't decode byte 0xe7 in position 316: invalid continuation byte"
     ]
    }
   ],
   "source": [
    "tb_oscsp = pd.read_csv('data/tb_empenho_cnpj_osc.txt', sep = '\\t', decimal = ',')\n",
    "tb_oscsp.info()"
   ]
  },
  {
   "cell_type": "code",
   "execution_count": null,
   "metadata": {
    "ExecuteTime": {
     "end_time": "2021-12-04T12:06:56.630388Z",
     "start_time": "2021-12-04T12:06:56.592486Z"
    }
   },
   "outputs": [],
   "source": [
    "tb_oscsp"
   ]
  },
  {
   "cell_type": "code",
   "execution_count": 17,
   "metadata": {
    "ExecuteTime": {
     "end_time": "2021-12-04T12:07:08.237791Z",
     "start_time": "2021-12-04T12:07:08.154015Z"
    }
   },
   "outputs": [],
   "source": [
    "tb_oscsp = pd.read_csv('data/tb_empenho_cnpj_osc.txt', sep = '\\t', decimal = ',', encoding = 'latin-1')"
   ]
  },
  {
   "cell_type": "code",
   "execution_count": 18,
   "metadata": {
    "ExecuteTime": {
     "end_time": "2021-12-04T12:07:18.022621Z",
     "start_time": "2021-12-04T12:07:17.998685Z"
    }
   },
   "outputs": [
    {
     "data": {
      "text/html": [
       "<div>\n",
       "<style scoped>\n",
       "    .dataframe tbody tr th:only-of-type {\n",
       "        vertical-align: middle;\n",
       "    }\n",
       "\n",
       "    .dataframe tbody tr th {\n",
       "        vertical-align: top;\n",
       "    }\n",
       "\n",
       "    .dataframe thead th {\n",
       "        text-align: right;\n",
       "    }\n",
       "</style>\n",
       "<table border=\"1\" class=\"dataframe\">\n",
       "  <thead>\n",
       "    <tr style=\"text-align: right;\">\n",
       "      <th></th>\n",
       "      <th>codOrgao</th>\n",
       "      <th>codFuncao</th>\n",
       "      <th>txtModalidadeAplicacao</th>\n",
       "      <th>numCpfCnpj</th>\n",
       "      <th>ANO_API</th>\n",
       "      <th>valtotalempenhado</th>\n",
       "      <th>cd_identificador_osc</th>\n",
       "      <th>tx_razao_social_osc</th>\n",
       "      <th>tx_nome_fantasia_osc</th>\n",
       "      <th>dt_fundacao_osc</th>\n",
       "      <th>tx_nome_classe_atividade_economica</th>\n",
       "      <th>cd_natureza_juridica_osc</th>\n",
       "      <th>edmu_cd_municipio</th>\n",
       "      <th>edmu_nm_municipio</th>\n",
       "      <th>eduf_cd_uf</th>\n",
       "      <th>eduf_sg_uf</th>\n",
       "      <th>classif_religiao</th>\n",
       "      <th>classif_osc</th>\n",
       "    </tr>\n",
       "  </thead>\n",
       "  <tbody>\n",
       "    <tr>\n",
       "      <th>0</th>\n",
       "      <td>1</td>\n",
       "      <td>10</td>\n",
       "      <td>Aplicações Diretas</td>\n",
       "      <td>4.373080e+13</td>\n",
       "      <td>2011</td>\n",
       "      <td>3900.00</td>\n",
       "      <td>4.373080e+13</td>\n",
       "      <td>ABTD ASSOCIACAO BRASILEIRA DE TREINAMENTO</td>\n",
       "      <td>NaN</td>\n",
       "      <td>08/01/1973</td>\n",
       "      <td>Atividades de associações de defesa de direito...</td>\n",
       "      <td>3999</td>\n",
       "      <td>3550308</td>\n",
       "      <td>São Paulo</td>\n",
       "      <td>35</td>\n",
       "      <td>SP</td>\n",
       "      <td>0</td>\n",
       "      <td>1</td>\n",
       "    </tr>\n",
       "    <tr>\n",
       "      <th>1</th>\n",
       "      <td>1</td>\n",
       "      <td>10</td>\n",
       "      <td>Aplicações Diretas</td>\n",
       "      <td>6.104700e+13</td>\n",
       "      <td>2011</td>\n",
       "      <td>3874019.86</td>\n",
       "      <td>6.104700e+13</td>\n",
       "      <td>COLSAN - ASSOCIACAO BENEFICENTE DE COLETA DE S...</td>\n",
       "      <td>NaN</td>\n",
       "      <td>03/01/1967</td>\n",
       "      <td>Atividades de serviços de complementação diagn...</td>\n",
       "      <td>3999</td>\n",
       "      <td>3550308</td>\n",
       "      <td>São Paulo</td>\n",
       "      <td>35</td>\n",
       "      <td>SP</td>\n",
       "      <td>0</td>\n",
       "      <td>1</td>\n",
       "    </tr>\n",
       "    <tr>\n",
       "      <th>2</th>\n",
       "      <td>1</td>\n",
       "      <td>10</td>\n",
       "      <td>Aplicações Diretas</td>\n",
       "      <td>6.169960e+13</td>\n",
       "      <td>2011</td>\n",
       "      <td>431318.50</td>\n",
       "      <td>6.169960e+13</td>\n",
       "      <td>SPDM - ASSOCIACAO PAULISTA PARA O DESENVOLVIME...</td>\n",
       "      <td>HOSPITAL SAO PAULO</td>\n",
       "      <td>02/01/1971</td>\n",
       "      <td>Atividades de atendimento hospitalar</td>\n",
       "      <td>3999</td>\n",
       "      <td>3550308</td>\n",
       "      <td>São Paulo</td>\n",
       "      <td>35</td>\n",
       "      <td>SP</td>\n",
       "      <td>0</td>\n",
       "      <td>1</td>\n",
       "    </tr>\n",
       "    <tr>\n",
       "      <th>3</th>\n",
       "      <td>1</td>\n",
       "      <td>10</td>\n",
       "      <td>Aplicações Diretas</td>\n",
       "      <td>6.054420e+13</td>\n",
       "      <td>2012</td>\n",
       "      <td>172085.13</td>\n",
       "      <td>6.054420e+13</td>\n",
       "      <td>ASSOCIACAO SAMARITANO</td>\n",
       "      <td>ASSOCIACAO SAMARITANO</td>\n",
       "      <td>04/01/1967</td>\n",
       "      <td>Atividades associativas não especificadas ante...</td>\n",
       "      <td>3999</td>\n",
       "      <td>3550308</td>\n",
       "      <td>São Paulo</td>\n",
       "      <td>35</td>\n",
       "      <td>SP</td>\n",
       "      <td>0</td>\n",
       "      <td>1</td>\n",
       "    </tr>\n",
       "    <tr>\n",
       "      <th>4</th>\n",
       "      <td>1</td>\n",
       "      <td>10</td>\n",
       "      <td>Aplicações Diretas</td>\n",
       "      <td>6.097950e+13</td>\n",
       "      <td>2012</td>\n",
       "      <td>2236.00</td>\n",
       "      <td>6.097950e+13</td>\n",
       "      <td>ASSOCIACAO DE ASSISTENCIA A CRIANCA DEFICIENTE</td>\n",
       "      <td>AACD IBIRAPUERA</td>\n",
       "      <td>02/01/1967</td>\n",
       "      <td>Atividades de atenção ambulatorial executadas ...</td>\n",
       "      <td>3999</td>\n",
       "      <td>3550308</td>\n",
       "      <td>São Paulo</td>\n",
       "      <td>35</td>\n",
       "      <td>SP</td>\n",
       "      <td>0</td>\n",
       "      <td>1</td>\n",
       "    </tr>\n",
       "    <tr>\n",
       "      <th>...</th>\n",
       "      <td>...</td>\n",
       "      <td>...</td>\n",
       "      <td>...</td>\n",
       "      <td>...</td>\n",
       "      <td>...</td>\n",
       "      <td>...</td>\n",
       "      <td>...</td>\n",
       "      <td>...</td>\n",
       "      <td>...</td>\n",
       "      <td>...</td>\n",
       "      <td>...</td>\n",
       "      <td>...</td>\n",
       "      <td>...</td>\n",
       "      <td>...</td>\n",
       "      <td>...</td>\n",
       "      <td>...</td>\n",
       "      <td>...</td>\n",
       "      <td>...</td>\n",
       "    </tr>\n",
       "    <tr>\n",
       "      <th>24380</th>\n",
       "      <td>95</td>\n",
       "      <td>13</td>\n",
       "      <td>Aplicações Diretas</td>\n",
       "      <td>5.119050e+13</td>\n",
       "      <td>2019</td>\n",
       "      <td>15000.00</td>\n",
       "      <td>5.119050e+13</td>\n",
       "      <td>TEATRO POPULAR UNIAO E OLHO VIVO</td>\n",
       "      <td>NaN</td>\n",
       "      <td>02/01/1979</td>\n",
       "      <td>Artes cênicas, espetáculos e atividades comple...</td>\n",
       "      <td>3999</td>\n",
       "      <td>3550308</td>\n",
       "      <td>São Paulo</td>\n",
       "      <td>35</td>\n",
       "      <td>SP</td>\n",
       "      <td>0</td>\n",
       "      <td>1</td>\n",
       "    </tr>\n",
       "    <tr>\n",
       "      <th>24381</th>\n",
       "      <td>95</td>\n",
       "      <td>13</td>\n",
       "      <td>Transferências a Instituições Privadas sem Fin...</td>\n",
       "      <td>7.173220e+13</td>\n",
       "      <td>2013</td>\n",
       "      <td>250000.00</td>\n",
       "      <td>7.173220e+13</td>\n",
       "      <td>ASSOCIACAO BRASILEIRA MOSTRA INTERNACIONAL DE ...</td>\n",
       "      <td>ABMIC</td>\n",
       "      <td>09/01/1993</td>\n",
       "      <td>Atividades de exibição cinematográfica</td>\n",
       "      <td>3999</td>\n",
       "      <td>3550308</td>\n",
       "      <td>São Paulo</td>\n",
       "      <td>35</td>\n",
       "      <td>SP</td>\n",
       "      <td>0</td>\n",
       "      <td>1</td>\n",
       "    </tr>\n",
       "    <tr>\n",
       "      <th>24382</th>\n",
       "      <td>96</td>\n",
       "      <td>23</td>\n",
       "      <td>Aplicações Diretas</td>\n",
       "      <td>2.521970e+13</td>\n",
       "      <td>2019</td>\n",
       "      <td>400000.00</td>\n",
       "      <td>2.521970e+13</td>\n",
       "      <td>INSTITUTO INTERNACIONAL DE DESENVOLVIMENTO SOC...</td>\n",
       "      <td>FEAFRO</td>\n",
       "      <td>07/01/2016</td>\n",
       "      <td>Atividades associativas não especificadas ante...</td>\n",
       "      <td>3301</td>\n",
       "      <td>3550308</td>\n",
       "      <td>São Paulo</td>\n",
       "      <td>35</td>\n",
       "      <td>SP</td>\n",
       "      <td>0</td>\n",
       "      <td>1</td>\n",
       "    </tr>\n",
       "    <tr>\n",
       "      <th>24383</th>\n",
       "      <td>98</td>\n",
       "      <td>15</td>\n",
       "      <td>Aplicações Diretas</td>\n",
       "      <td>6.910490e+13</td>\n",
       "      <td>2011</td>\n",
       "      <td>56825.86</td>\n",
       "      <td>6.910490e+13</td>\n",
       "      <td>GRUPO TECNICO DE APOIO</td>\n",
       "      <td>NaN</td>\n",
       "      <td>07/01/1993</td>\n",
       "      <td>Atividades de associações de defesa de direito...</td>\n",
       "      <td>3999</td>\n",
       "      <td>3550308</td>\n",
       "      <td>São Paulo</td>\n",
       "      <td>35</td>\n",
       "      <td>SP</td>\n",
       "      <td>0</td>\n",
       "      <td>1</td>\n",
       "    </tr>\n",
       "    <tr>\n",
       "      <th>24384</th>\n",
       "      <td>99</td>\n",
       "      <td>15</td>\n",
       "      <td>Aplicações Diretas</td>\n",
       "      <td>4.431590e+13</td>\n",
       "      <td>2019</td>\n",
       "      <td>8421349.00</td>\n",
       "      <td>4.431590e+13</td>\n",
       "      <td>FUNDACAO INSTITUTO DE ADMINISTRACAO</td>\n",
       "      <td>NaN</td>\n",
       "      <td>08/01/1980</td>\n",
       "      <td>Educação superior - pós-graduação e extensão</td>\n",
       "      <td>3069</td>\n",
       "      <td>3550308</td>\n",
       "      <td>São Paulo</td>\n",
       "      <td>35</td>\n",
       "      <td>SP</td>\n",
       "      <td>0</td>\n",
       "      <td>1</td>\n",
       "    </tr>\n",
       "  </tbody>\n",
       "</table>\n",
       "<p>24385 rows × 18 columns</p>\n",
       "</div>"
      ],
      "text/plain": [
       "       codOrgao  codFuncao                             txtModalidadeAplicacao  \\\n",
       "0             1         10                                 Aplicações Diretas   \n",
       "1             1         10                                 Aplicações Diretas   \n",
       "2             1         10                                 Aplicações Diretas   \n",
       "3             1         10                                 Aplicações Diretas   \n",
       "4             1         10                                 Aplicações Diretas   \n",
       "...         ...        ...                                                ...   \n",
       "24380        95         13                                 Aplicações Diretas   \n",
       "24381        95         13  Transferências a Instituições Privadas sem Fin...   \n",
       "24382        96         23                                 Aplicações Diretas   \n",
       "24383        98         15                                 Aplicações Diretas   \n",
       "24384        99         15                                 Aplicações Diretas   \n",
       "\n",
       "         numCpfCnpj  ANO_API  valtotalempenhado  cd_identificador_osc  \\\n",
       "0      4.373080e+13     2011            3900.00          4.373080e+13   \n",
       "1      6.104700e+13     2011         3874019.86          6.104700e+13   \n",
       "2      6.169960e+13     2011          431318.50          6.169960e+13   \n",
       "3      6.054420e+13     2012          172085.13          6.054420e+13   \n",
       "4      6.097950e+13     2012            2236.00          6.097950e+13   \n",
       "...             ...      ...                ...                   ...   \n",
       "24380  5.119050e+13     2019           15000.00          5.119050e+13   \n",
       "24381  7.173220e+13     2013          250000.00          7.173220e+13   \n",
       "24382  2.521970e+13     2019          400000.00          2.521970e+13   \n",
       "24383  6.910490e+13     2011           56825.86          6.910490e+13   \n",
       "24384  4.431590e+13     2019         8421349.00          4.431590e+13   \n",
       "\n",
       "                                     tx_razao_social_osc  \\\n",
       "0              ABTD ASSOCIACAO BRASILEIRA DE TREINAMENTO   \n",
       "1      COLSAN - ASSOCIACAO BENEFICENTE DE COLETA DE S...   \n",
       "2      SPDM - ASSOCIACAO PAULISTA PARA O DESENVOLVIME...   \n",
       "3                                  ASSOCIACAO SAMARITANO   \n",
       "4         ASSOCIACAO DE ASSISTENCIA A CRIANCA DEFICIENTE   \n",
       "...                                                  ...   \n",
       "24380                   TEATRO POPULAR UNIAO E OLHO VIVO   \n",
       "24381  ASSOCIACAO BRASILEIRA MOSTRA INTERNACIONAL DE ...   \n",
       "24382  INSTITUTO INTERNACIONAL DE DESENVOLVIMENTO SOC...   \n",
       "24383                             GRUPO TECNICO DE APOIO   \n",
       "24384                FUNDACAO INSTITUTO DE ADMINISTRACAO   \n",
       "\n",
       "        tx_nome_fantasia_osc dt_fundacao_osc  \\\n",
       "0                        NaN      08/01/1973   \n",
       "1                        NaN      03/01/1967   \n",
       "2         HOSPITAL SAO PAULO      02/01/1971   \n",
       "3      ASSOCIACAO SAMARITANO      04/01/1967   \n",
       "4            AACD IBIRAPUERA      02/01/1967   \n",
       "...                      ...             ...   \n",
       "24380                    NaN      02/01/1979   \n",
       "24381                  ABMIC      09/01/1993   \n",
       "24382                 FEAFRO      07/01/2016   \n",
       "24383                    NaN      07/01/1993   \n",
       "24384                    NaN      08/01/1980   \n",
       "\n",
       "                      tx_nome_classe_atividade_economica  \\\n",
       "0      Atividades de associações de defesa de direito...   \n",
       "1      Atividades de serviços de complementação diagn...   \n",
       "2                   Atividades de atendimento hospitalar   \n",
       "3      Atividades associativas não especificadas ante...   \n",
       "4      Atividades de atenção ambulatorial executadas ...   \n",
       "...                                                  ...   \n",
       "24380  Artes cênicas, espetáculos e atividades comple...   \n",
       "24381             Atividades de exibição cinematográfica   \n",
       "24382  Atividades associativas não especificadas ante...   \n",
       "24383  Atividades de associações de defesa de direito...   \n",
       "24384       Educação superior - pós-graduação e extensão   \n",
       "\n",
       "       cd_natureza_juridica_osc  edmu_cd_municipio edmu_nm_municipio  \\\n",
       "0                          3999            3550308         São Paulo   \n",
       "1                          3999            3550308         São Paulo   \n",
       "2                          3999            3550308         São Paulo   \n",
       "3                          3999            3550308         São Paulo   \n",
       "4                          3999            3550308         São Paulo   \n",
       "...                         ...                ...               ...   \n",
       "24380                      3999            3550308         São Paulo   \n",
       "24381                      3999            3550308         São Paulo   \n",
       "24382                      3301            3550308         São Paulo   \n",
       "24383                      3999            3550308         São Paulo   \n",
       "24384                      3069            3550308         São Paulo   \n",
       "\n",
       "       eduf_cd_uf eduf_sg_uf  classif_religiao  classif_osc  \n",
       "0              35         SP                 0            1  \n",
       "1              35         SP                 0            1  \n",
       "2              35         SP                 0            1  \n",
       "3              35         SP                 0            1  \n",
       "4              35         SP                 0            1  \n",
       "...           ...        ...               ...          ...  \n",
       "24380          35         SP                 0            1  \n",
       "24381          35         SP                 0            1  \n",
       "24382          35         SP                 0            1  \n",
       "24383          35         SP                 0            1  \n",
       "24384          35         SP                 0            1  \n",
       "\n",
       "[24385 rows x 18 columns]"
      ]
     },
     "execution_count": 18,
     "metadata": {},
     "output_type": "execute_result"
    }
   ],
   "source": [
    "tb_oscsp"
   ]
  },
  {
   "cell_type": "markdown",
   "metadata": {},
   "source": [
    "### Import pipe delimited file "
   ]
  },
  {
   "cell_type": "code",
   "execution_count": null,
   "metadata": {
    "ExecuteTime": {
     "end_time": "2021-12-04T12:07:54.167780Z",
     "start_time": "2021-12-04T12:07:54.143823Z"
    }
   },
   "outputs": [],
   "source": [
    "file = open('data/eletricidade_india.csv', 'rb')\n",
    "file_lines = file.readlines(10000)\n",
    "for i in range(5):\n",
    "    print(file_lines[i].decode('latin-1'))\n",
    "file.close()"
   ]
  },
  {
   "cell_type": "code",
   "execution_count": null,
   "metadata": {
    "ExecuteTime": {
     "end_time": "2021-12-04T12:08:13.114341Z",
     "start_time": "2021-12-04T12:08:13.092401Z"
    }
   },
   "outputs": [],
   "source": [
    "tb_elecindia = pd.read_csv('data/eletricidade_india.csv', sep = '|', decimal = '.')\n",
    "tb_elecindia"
   ]
  },
  {
   "cell_type": "code",
   "execution_count": null,
   "metadata": {},
   "outputs": [],
   "source": [
    "tb_elecindia.info()"
   ]
  },
  {
   "cell_type": "code",
   "execution_count": null,
   "metadata": {
    "ExecuteTime": {
     "end_time": "2021-12-04T12:08:06.576698Z",
     "start_time": "2021-12-04T12:08:06.532816Z"
    }
   },
   "outputs": [],
   "source": [
    "tb_elecindia = pd.read_csv('data/eletricidade_india.csv', sep = '|', decimal = '.',\n",
    "                          parse_dates = ['Date'], infer_datetime_format = True)\n",
    "tb_elecindia['Date'].describe()"
   ]
  },
  {
   "cell_type": "markdown",
   "metadata": {},
   "source": [
    "## Import files from URLs"
   ]
  },
  {
   "cell_type": "markdown",
   "metadata": {},
   "source": [
    "Example: https://datasets.imdbws.com/"
   ]
  },
  {
   "cell_type": "code",
   "execution_count": null,
   "metadata": {
    "ExecuteTime": {
     "end_time": "2021-12-04T12:08:58.841431Z",
     "start_time": "2021-12-04T12:08:57.591503Z"
    }
   },
   "outputs": [],
   "source": [
    "url_csv = 'https://datasets.imdbws.com/title.ratings.tsv.gz'\n",
    "tb_imdbratings = pd.read_csv(url_csv, sep = '\\t', encoding = 'utf-8', na_values = '\\\\N')"
   ]
  },
  {
   "cell_type": "markdown",
   "metadata": {},
   "source": [
    "## Import Excel Files"
   ]
  },
  {
   "cell_type": "markdown",
   "metadata": {},
   "source": [
    "Fonte: https://www.kaggle.com/sanjeetsinghnaik/most-expensive-footballers-2021"
   ]
  },
  {
   "cell_type": "code",
   "execution_count": null,
   "metadata": {
    "ExecuteTime": {
     "end_time": "2021-12-04T12:09:00.052522Z",
     "start_time": "2021-12-04T12:09:00.010636Z"
    }
   },
   "outputs": [],
   "source": [
    "pd.read_csv('data/Dados Jogadores Futebol.xlsx')"
   ]
  },
  {
   "cell_type": "code",
   "execution_count": null,
   "metadata": {
    "ExecuteTime": {
     "end_time": "2021-12-04T12:09:08.348743Z",
     "start_time": "2021-12-04T12:09:07.798166Z"
    }
   },
   "outputs": [],
   "source": [
    "tb_futebol = pd.read_excel('data/Dados Jogadores Futebol.xlsx')\n",
    "tb_futebol"
   ]
  },
  {
   "cell_type": "markdown",
   "metadata": {},
   "source": [
    "## Import Google Drive Files"
   ]
  },
  {
   "cell_type": "markdown",
   "metadata": {},
   "source": [
    "**Cool Application: Google Sheets**\n",
    "\n",
    "Get the shareable link and replace the last piece of the url:\n",
    "* replace `/edit?usp=sharing` by `/export?format=csv`\n",
    "    \n",
    "(https://stackoverflow.com/questions/19611729/getting-google-spreadsheet-csv-into-a-pandas-dataframe)    "
   ]
  },
  {
   "cell_type": "code",
   "execution_count": null,
   "metadata": {
    "ExecuteTime": {
     "end_time": "2021-12-04T12:09:37.374140Z",
     "start_time": "2021-12-04T12:09:37.358183Z"
    }
   },
   "outputs": [],
   "source": [
    "def read_from_gsheets(spreadsheet):\n",
    "    \"\"\"\n",
    "    Transform url into csv \n",
    "    \"\"\"\n",
    "    working_spreadsheet = spreadsheet.replace('/edit?usp=sharing','/export?format=csv')\n",
    "    \n",
    "    return pd.read_csv(working_spreadsheet)"
   ]
  },
  {
   "cell_type": "code",
   "execution_count": null,
   "metadata": {
    "ExecuteTime": {
     "end_time": "2021-12-04T12:09:38.929504Z",
     "start_time": "2021-12-04T12:09:37.884764Z"
    }
   },
   "outputs": [],
   "source": [
    "tb_tsunami = read_from_gsheets('https://docs.google.com/spreadsheets/d/1pfUsMP5IVvNagS-YaqpoBWQewmc0_RK9Mr1DlmQnlqE/edit?usp=sharing')"
   ]
  },
  {
   "cell_type": "code",
   "execution_count": null,
   "metadata": {
    "ExecuteTime": {
     "end_time": "2021-12-04T12:09:39.457223Z",
     "start_time": "2021-12-04T12:09:39.433286Z"
    }
   },
   "outputs": [],
   "source": [
    "tb_tsunami.info()"
   ]
  },
  {
   "cell_type": "markdown",
   "metadata": {},
   "source": [
    "## Import and export JSON files\n",
    "\n",
    "What is a JSON file?\n",
    "\n",
    "JSON 1:\n",
    "```json\n",
    "{ \"name\":\"John\", \"age\":30, \"car\":null }\n",
    "```\n",
    "\n",
    "JSON 2: \n",
    "```json\n",
    "{\"students\":[\n",
    "   {\"name\":\"Andre\", \"age\":23, \"state\":\"SP\"},\n",
    "   {\"name\":\"Rodrigo\", \"age\":28, \"state\":\"SP\"},\n",
    "   {\"name\":\"Raiana\", \"age\":32, \"state\":\"DF\"},\n",
    "   {\"name\":\"Tieko\", \"age\":28, \"state\":\"BA\"}\n",
    "]}\n",
    "```\n",
    "\n",
    "Orientação de `records`, onde o JSON é uma lista de dicionários. Cada dicionário desta lista é uma linha da nossa tabela\n",
    "```python\n",
    "[\n",
    "    {\"coluna1\" : valor, \"coluna2\" : valor},\n",
    "    {\"coluna1\" : valor, \"coluna2\" : valor},\n",
    "    {\"coluna1\" : valor, \"coluna2\" : valor},\n",
    "    {\"coluna1\" : valor, \"coluna2\" : valor},\n",
    "    {\"coluna1\" : valor, \"coluna2\" : valor},\n",
    "]\n",
    "```\n",
    "\n",
    "Orientação de `index`, onde o JSON é um dicionário. Cada chave desse dicionário é uma linha de nossa tabela e guarda um outro dicionário com os dados da tabela referente àquela linha.\n",
    "```python\n",
    "{\n",
    "    linha_1 : {\"coluna1\" : valor, \"coluna2\" : valor},\n",
    "    linha_2 : {\"coluna1\" : valor, \"coluna2\" : valor},\n",
    "    linha_3 : {\"coluna1\" : valor, \"coluna2\" : valor},\n",
    "    linha_4 : {\"coluna1\" : valor, \"coluna2\" : valor},\n",
    "}\n",
    "```"
   ]
  },
  {
   "cell_type": "code",
   "execution_count": null,
   "metadata": {
    "ExecuteTime": {
     "end_time": "2021-12-04T12:10:02.141767Z",
     "start_time": "2021-12-04T12:10:02.061968Z"
    }
   },
   "outputs": [],
   "source": [
    "tb_crypto = pd.read_json('data/crypto_data_records.json', orient = 'records') # orient informa a orientação do JSO\n",
    "tb_crypto"
   ]
  },
  {
   "cell_type": "code",
   "execution_count": null,
   "metadata": {
    "ExecuteTime": {
     "end_time": "2021-12-04T12:10:50.281700Z",
     "start_time": "2021-12-04T12:10:50.206884Z"
    }
   },
   "outputs": [],
   "source": [
    "tb_crypto = pd.read_json('data/crypto_data_index.json', orient = 'index') # orient informa a orientação do JSO\n",
    "tb_crypto"
   ]
  },
  {
   "cell_type": "markdown",
   "metadata": {},
   "source": [
    "## Bonus: Read CSV using For\n",
    "* create copy with files vehicles\n",
    "* read and append"
   ]
  },
  {
   "cell_type": "code",
   "execution_count": null,
   "metadata": {
    "ExecuteTime": {
     "end_time": "2021-12-04T12:11:26.000132Z",
     "start_time": "2021-12-04T12:11:25.987168Z"
    }
   },
   "outputs": [],
   "source": [
    "import os\n",
    "for file in os.listdir('data/dados_censo/'):\n",
    "    print(file)"
   ]
  },
  {
   "cell_type": "code",
   "execution_count": null,
   "metadata": {
    "ExecuteTime": {
     "end_time": "2021-12-04T12:11:28.738817Z",
     "start_time": "2021-12-04T12:11:28.722833Z"
    }
   },
   "outputs": [],
   "source": [
    "file = open('data/dados_censo/Basico_BA.csv', 'rb')\n",
    "file_lines = file.readlines(10000)\n",
    "for i in range(5):\n",
    "    print(file_lines[i].decode('latin-1'))\n",
    "file.close()"
   ]
  },
  {
   "cell_type": "code",
   "execution_count": null,
   "metadata": {
    "ExecuteTime": {
     "end_time": "2021-12-04T11:50:55.879208Z",
     "start_time": "2021-12-04T11:50:55.137193Z"
    }
   },
   "outputs": [],
   "source": [
    "first = True\n",
    "for file in os.listdir('data/dados_censo/'):\n",
    "    file_path = 'data/dados_censo/' + file\n",
    "    if first:\n",
    "        tb_censo = pd.read_csv(file_path, sep = \";\", decimal = \",\")\n",
    "    else:\n",
    "        tb_censo_temp = tb_censo = pd.read_csv(file_path, sep = \";\", decimal = \",\")\n",
    "        tb_censo.append(tb_censo_temp)"
   ]
  },
  {
   "cell_type": "code",
   "execution_count": null,
   "metadata": {
    "ExecuteTime": {
     "end_time": "2021-12-04T11:51:01.777118Z",
     "start_time": "2021-12-04T11:51:01.734212Z"
    }
   },
   "outputs": [],
   "source": [
    "tb_censo.info()"
   ]
  },
  {
   "cell_type": "markdown",
   "metadata": {},
   "source": [
    "----"
   ]
  },
  {
   "cell_type": "markdown",
   "metadata": {},
   "source": [
    "## 6. Export to `.csv`"
   ]
  },
  {
   "cell_type": "code",
   "execution_count": null,
   "metadata": {
    "ExecuteTime": {
     "end_time": "2021-12-04T11:53:04.642867Z",
     "start_time": "2021-12-04T11:53:03.249329Z"
    }
   },
   "outputs": [],
   "source": [
    "tb_censo.to_csv('data/tb_censo.csv', sep = \";\", decimal = \",\", encoding = 'utf-8')"
   ]
  },
  {
   "cell_type": "markdown",
   "metadata": {},
   "source": [
    "**NOTE**: If you do not specify the argument `index=False`, the output in the csv file will create an unnamed index column with the *dataframe indexes*."
   ]
  },
  {
   "cell_type": "code",
   "execution_count": null,
   "metadata": {
    "ExecuteTime": {
     "end_time": "2021-12-04T11:53:04.658828Z",
     "start_time": "2021-12-04T11:53:04.643841Z"
    }
   },
   "outputs": [],
   "source": [
    "file = open('data/tb_censo.csv', 'rb')\n",
    "file_lines = file.readlines(10000)\n",
    "for i in range(5):\n",
    "    print(file_lines[i].decode('utf-8'))\n",
    "file.close()"
   ]
  },
  {
   "cell_type": "markdown",
   "metadata": {},
   "source": [
    "### Export to csv using a specific separator"
   ]
  },
  {
   "cell_type": "code",
   "execution_count": null,
   "metadata": {
    "ExecuteTime": {
     "end_time": "2021-12-04T11:54:04.881962Z",
     "start_time": "2021-12-04T11:54:04.129943Z"
    }
   },
   "outputs": [],
   "source": [
    "tb_censo.to_csv('data/tb_censo_virgula.csv', sep = \",\", decimal = \".\", encoding = 'utf-8')"
   ]
  },
  {
   "cell_type": "code",
   "execution_count": null,
   "metadata": {
    "ExecuteTime": {
     "end_time": "2021-12-04T11:54:04.896896Z",
     "start_time": "2021-12-04T11:54:04.883955Z"
    }
   },
   "outputs": [],
   "source": [
    "file = open('data/tb_censo_virgula.csv', 'rb')\n",
    "file_lines = file.readlines(10000)\n",
    "for i in range(5):\n",
    "    print(file_lines[i].decode('utf-8'))\n",
    "file.close()"
   ]
  },
  {
   "cell_type": "code",
   "execution_count": null,
   "metadata": {
    "ExecuteTime": {
     "end_time": "2021-12-04T11:54:10.659615Z",
     "start_time": "2021-12-04T11:54:09.138656Z"
    }
   },
   "outputs": [],
   "source": [
    "tb_censo.to_csv('data/tb_censo_pipe.csv', sep = \"|\", decimal = \",\", encoding = 'utf-8')"
   ]
  },
  {
   "cell_type": "code",
   "execution_count": null,
   "metadata": {
    "ExecuteTime": {
     "end_time": "2021-12-04T11:54:10.675576Z",
     "start_time": "2021-12-04T11:54:10.661586Z"
    }
   },
   "outputs": [],
   "source": [
    "file = open('data/tb_censo_pipe.csv', 'rb')\n",
    "file_lines = file.readlines(10000)\n",
    "for i in range(5):\n",
    "    print(file_lines[i].decode('utf-8'))\n",
    "file.close()"
   ]
  },
  {
   "cell_type": "markdown",
   "metadata": {},
   "source": [
    "## 7. Export to `.xlsx`"
   ]
  },
  {
   "cell_type": "code",
   "execution_count": null,
   "metadata": {
    "ExecuteTime": {
     "end_time": "2021-12-04T11:55:48.170817Z",
     "start_time": "2021-12-04T11:55:26.821754Z"
    }
   },
   "outputs": [],
   "source": [
    "tb_censo.to_excel('data/Tabela do Censo.xlsx', sheet_name = 'dados')"
   ]
  },
  {
   "cell_type": "markdown",
   "metadata": {},
   "source": [
    "-------"
   ]
  },
  {
   "cell_type": "markdown",
   "metadata": {},
   "source": [
    "## 8. Export to `.json`\n",
    "\n",
    "For a JSON file, you can have different `orient` options.\n",
    "\n",
    "`'split'`: Dictionary containing indexes, columns, and data.\n",
    "\n",
    "`'index'`: Nested dictionaries containing {index:{column:value}}.\n",
    "\n",
    "`'columns'`: Nested dictionaries containing {column:{index:value}}\n",
    "\n",
    "`'values'`: Nested list where each sublist contains the values for a record.\n",
    "\n",
    "`'records'`: Nested dictionaries containing schema and data (records)."
   ]
  },
  {
   "cell_type": "code",
   "execution_count": null,
   "metadata": {
    "ExecuteTime": {
     "end_time": "2020-07-30T17:12:43.703386Z",
     "start_time": "2020-07-30T17:12:43.686386Z"
    }
   },
   "outputs": [],
   "source": [
    "tb_censo.to_json('tb_censo_index.json', orient = 'index')\n",
    "tb_censo.to_json('tb_censo_records.json', orient = 'records')"
   ]
  },
  {
   "cell_type": "markdown",
   "metadata": {},
   "source": [
    "----"
   ]
  }
 ],
 "metadata": {
  "hide_input": false,
  "kernelspec": {
   "display_name": "Python 3 (ipykernel)",
   "language": "python",
   "name": "python3"
  },
  "language_info": {
   "codemirror_mode": {
    "name": "ipython",
    "version": 3
   },
   "file_extension": ".py",
   "mimetype": "text/x-python",
   "name": "python",
   "nbconvert_exporter": "python",
   "pygments_lexer": "ipython3",
   "version": "3.8.11"
  },
  "toc": {
   "base_numbering": 1,
   "nav_menu": {
    "height": "249px",
    "width": "337px"
   },
   "number_sections": true,
   "sideBar": true,
   "skip_h1_title": false,
   "title_cell": "Table of Contents",
   "title_sidebar": "Contents",
   "toc_cell": false,
   "toc_position": {
    "height": "calc(100% - 180px)",
    "left": "10px",
    "top": "150px",
    "width": "261.813px"
   },
   "toc_section_display": true,
   "toc_window_display": true
  },
  "toc-autonumbering": false,
  "toc-showmarkdowntxt": false
 },
 "nbformat": 4,
 "nbformat_minor": 4
}
