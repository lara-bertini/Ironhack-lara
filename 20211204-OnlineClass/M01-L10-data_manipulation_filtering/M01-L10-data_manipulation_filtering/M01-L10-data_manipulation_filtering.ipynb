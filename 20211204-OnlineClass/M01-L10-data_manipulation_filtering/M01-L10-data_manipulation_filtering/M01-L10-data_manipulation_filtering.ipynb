{
 "cells": [
  {
   "cell_type": "markdown",
   "metadata": {
    "colab_type": "text",
    "id": "A5ERK_DCx9aI"
   },
   "source": [
    "# Lab-Data-Manipulation - Filtering Data\n"
   ]
  },
  {
   "cell_type": "code",
   "execution_count": 1,
   "metadata": {
    "colab": {},
    "colab_type": "code",
    "id": "yCW1PDuxx9aJ"
   },
   "outputs": [],
   "source": [
    "import pandas as pd"
   ]
  },
  {
   "cell_type": "markdown",
   "metadata": {
    "colab_type": "text",
    "id": "huFCFH-1x9aO"
   },
   "source": [
    "# Context \n",
    "\n",
    "For this lab you'll use a dataset for UFO observations. The objective is to exercise the manipulation of a dataframe, so we'll use the tools we've learned about `reading`, `renaming`, `selecting specific columns`, `filtering based on conditions` and `merging` dataframes to try to better understand our dataset and store an enriched version of our dataset at the end."
   ]
  },
  {
   "cell_type": "markdown",
   "metadata": {
    "colab_type": "text",
    "id": "ywyzhPcIx9aQ"
   },
   "source": [
    "variable\t|class|\tdescription\n",
    "------------|-----|-------------\n",
    "date_time\t|datetime (mdy h:m)\t| Date time sighting occurred\n",
    "city_area\t|character\t        | City or area of sighting\n",
    "state\t    |character          |\tstate/region of sighting\n",
    "country\t    |character          |\tCountry of sighting\n",
    "ufo_shape\t|character          |\tUFO Shape\n",
    "encounter_length\t|double     |\tEncounter length in seconds\n",
    "described_encounter_length\t|character |\tEncounter length as described (eg 1 hour, etc)\n",
    "description\t|character          |\tDescription of encounter\n",
    "date_documented\t|character      |\tDate documented\n",
    "latitude\t|double             |\tLatitude\n",
    "longitude\t|double             |\tLongitude"
   ]
  },
  {
   "cell_type": "markdown",
   "metadata": {
    "colab_type": "text",
    "id": "MbWNze7Rx9aS"
   },
   "source": [
    "## Read the dataset and store it in a dataframe called `ufo`\n",
    "\n",
    "Pay attention at the file separator."
   ]
  },
  {
   "cell_type": "code",
   "execution_count": 2,
   "metadata": {
    "colab": {},
    "colab_type": "code",
    "id": "r_nmsqgTx9aT",
    "scrolled": true
   },
   "outputs": [
    {
     "name": "stdout",
     "output_type": "stream",
     "text": [
      "Unnamed: 0;date;year;month;day;date_time;city_area;state;country;ufo_shape;encounter_length;described_encounter_length;description;date_documented;latitude;longitude\n",
      "\n",
      "0;1949-10-10;1949;10;10;10/10/1949 20:30;san marcos;tx;us;cylinder;2700.0;45 minutes;This event took place in early fall around 1949-50. It occurred after a Boy Scout meeting in the Baptist Church. The Baptist Church sit;4/27/2004;29.88305560000001;-97.9411111\n",
      "\n",
      "1;1949-10-10;1949;10;10;10/10/1949 21:00;lackland afb;tx;;light;7200.0;1-2 hrs;\"1949 Lackland AFB&#44 TX.  Lights racing across the sky &amp; making 90 degree turns on a dime.\";12/16/2005;29.38421;-98.581082\n",
      "\n",
      "2;1955-10-10;1955;10;10;10/10/1955 17:00;chester (uk/england);;gb;circle;20.0;20 seconds;Green/Orange circular disc over Chester&#44 England;1/21/2008;53.2;-2.916667\n",
      "\n",
      "3;1956-10-10;1956;10;10;10/10/1956 21:00;edna;tx;us;circle;20.0;1/2 hour;My older brother and twin sister were leaving the only Edna theater at about 9 PM&#44...we had our bikes and I took a different route home;1/17/2004;28.9783333;-96.6458333\n",
      "\n"
     ]
    }
   ],
   "source": [
    "file = open('data/ufo.csv', 'rb')\n",
    "file_lines = file.readlines(10000)\n",
    "for i in range(5):\n",
    "    print(file_lines[i].decode('utf-8'))\n",
    "file.close()"
   ]
  },
  {
   "cell_type": "code",
   "execution_count": 3,
   "metadata": {},
   "outputs": [
    {
     "name": "stdout",
     "output_type": "stream",
     "text": [
      "<class 'pandas.core.frame.DataFrame'>\n",
      "RangeIndex: 80332 entries, 0 to 80331\n",
      "Data columns (total 16 columns):\n",
      " #   Column                      Non-Null Count  Dtype  \n",
      "---  ------                      --------------  -----  \n",
      " 0   Unnamed: 0                  80332 non-null  int64  \n",
      " 1   date                        80332 non-null  object \n",
      " 2   year                        80332 non-null  int64  \n",
      " 3   month                       80332 non-null  int64  \n",
      " 4   day                         80332 non-null  int64  \n",
      " 5   date_time                   80332 non-null  object \n",
      " 6   city_area                   80332 non-null  object \n",
      " 7   state                       74535 non-null  object \n",
      " 8   country                     70662 non-null  object \n",
      " 9   ufo_shape                   78400 non-null  object \n",
      " 10  encounter_length            80329 non-null  float64\n",
      " 11  described_encounter_length  80332 non-null  object \n",
      " 12  description                 80317 non-null  object \n",
      " 13  date_documented             80332 non-null  object \n",
      " 14  latitude                    80331 non-null  float64\n",
      " 15  longitude                   80332 non-null  float64\n",
      "dtypes: float64(3), int64(4), object(9)\n",
      "memory usage: 9.8+ MB\n"
     ]
    }
   ],
   "source": [
    "tb_ufo = pd.read_csv('data/ufo.csv', sep = ';')\n",
    "tb_ufo.info()"
   ]
  },
  {
   "cell_type": "markdown",
   "metadata": {
    "colab_type": "text",
    "id": "TYm6aCEjx9aX"
   },
   "source": [
    "## Check the first 6 columns of the dataframe"
   ]
  },
  {
   "cell_type": "code",
   "execution_count": 5,
   "metadata": {
    "colab": {},
    "colab_type": "code",
    "id": "AWGB6sOCx9aY",
    "scrolled": true
   },
   "outputs": [
    {
     "data": {
      "text/plain": [
       "Index(['Unnamed: 0', 'date', 'year', 'month', 'day', 'date_time'], dtype='object')"
      ]
     },
     "execution_count": 5,
     "metadata": {},
     "output_type": "execute_result"
    }
   ],
   "source": [
    "tb_ufo.columns[0:6]"
   ]
  },
  {
   "cell_type": "markdown",
   "metadata": {
    "colab_type": "text",
    "id": "lpYce6cVx9ab"
   },
   "source": [
    "## Check the shape of your dataframe to see how many rows and columns it has"
   ]
  },
  {
   "cell_type": "code",
   "execution_count": 7,
   "metadata": {
    "colab": {},
    "colab_type": "code",
    "id": "bPLEGkxUx9ac"
   },
   "outputs": [
    {
     "data": {
      "text/plain": [
       "(80332, 16)"
      ]
     },
     "execution_count": 7,
     "metadata": {},
     "output_type": "execute_result"
    }
   ],
   "source": [
    "tb_ufo.shape"
   ]
  },
  {
   "cell_type": "markdown",
   "metadata": {
    "colab_type": "text",
    "id": "FBSsmi7Lx9ag"
   },
   "source": [
    "## Bring the date information to the beginning of the dataframe\n",
    "\n",
    "If you check the dataframe columns, there are some information of the date at the end of the dataframe. For this task, you should reorder the columns in a way that the first few columns all show the date information. \n",
    "\n",
    "*Hint: Use the ufo.columns to see all the column names you have.*"
   ]
  },
  {
   "cell_type": "code",
   "execution_count": 8,
   "metadata": {
    "colab": {},
    "colab_type": "code",
    "id": "aZMKY0J8x9ah"
   },
   "outputs": [
    {
     "data": {
      "text/plain": [
       "Index(['Unnamed: 0', 'date', 'year', 'month', 'day', 'date_time', 'city_area',\n",
       "       'state', 'country', 'ufo_shape', 'encounter_length',\n",
       "       'described_encounter_length', 'description', 'date_documented',\n",
       "       'latitude', 'longitude'],\n",
       "      dtype='object')"
      ]
     },
     "execution_count": 8,
     "metadata": {},
     "output_type": "execute_result"
    }
   ],
   "source": [
    "tb_ufo.columns"
   ]
  },
  {
   "cell_type": "code",
   "execution_count": 16,
   "metadata": {
    "colab": {},
    "colab_type": "code",
    "id": "5sPPjIVAx9aq"
   },
   "outputs": [
    {
     "data": {
      "text/html": [
       "<div>\n",
       "<style scoped>\n",
       "    .dataframe tbody tr th:only-of-type {\n",
       "        vertical-align: middle;\n",
       "    }\n",
       "\n",
       "    .dataframe tbody tr th {\n",
       "        vertical-align: top;\n",
       "    }\n",
       "\n",
       "    .dataframe thead th {\n",
       "        text-align: right;\n",
       "    }\n",
       "</style>\n",
       "<table border=\"1\" class=\"dataframe\">\n",
       "  <thead>\n",
       "    <tr style=\"text-align: right;\">\n",
       "      <th></th>\n",
       "      <th>Unnamed: 0</th>\n",
       "      <th>date</th>\n",
       "    </tr>\n",
       "  </thead>\n",
       "  <tbody>\n",
       "    <tr>\n",
       "      <th>0</th>\n",
       "      <td>0</td>\n",
       "      <td>1949-10-10</td>\n",
       "    </tr>\n",
       "    <tr>\n",
       "      <th>1</th>\n",
       "      <td>1</td>\n",
       "      <td>1949-10-10</td>\n",
       "    </tr>\n",
       "    <tr>\n",
       "      <th>2</th>\n",
       "      <td>2</td>\n",
       "      <td>1955-10-10</td>\n",
       "    </tr>\n",
       "    <tr>\n",
       "      <th>3</th>\n",
       "      <td>3</td>\n",
       "      <td>1956-10-10</td>\n",
       "    </tr>\n",
       "    <tr>\n",
       "      <th>4</th>\n",
       "      <td>4</td>\n",
       "      <td>1960-10-10</td>\n",
       "    </tr>\n",
       "    <tr>\n",
       "      <th>...</th>\n",
       "      <td>...</td>\n",
       "      <td>...</td>\n",
       "    </tr>\n",
       "    <tr>\n",
       "      <th>80327</th>\n",
       "      <td>80327</td>\n",
       "      <td>2013-09-09</td>\n",
       "    </tr>\n",
       "    <tr>\n",
       "      <th>80328</th>\n",
       "      <td>80328</td>\n",
       "      <td>2013-09-09</td>\n",
       "    </tr>\n",
       "    <tr>\n",
       "      <th>80329</th>\n",
       "      <td>80329</td>\n",
       "      <td>2013-09-09</td>\n",
       "    </tr>\n",
       "    <tr>\n",
       "      <th>80330</th>\n",
       "      <td>80330</td>\n",
       "      <td>2013-09-09</td>\n",
       "    </tr>\n",
       "    <tr>\n",
       "      <th>80331</th>\n",
       "      <td>80331</td>\n",
       "      <td>2013-09-09</td>\n",
       "    </tr>\n",
       "  </tbody>\n",
       "</table>\n",
       "<p>80332 rows × 2 columns</p>\n",
       "</div>"
      ],
      "text/plain": [
       "       Unnamed: 0        date\n",
       "0               0  1949-10-10\n",
       "1               1  1949-10-10\n",
       "2               2  1955-10-10\n",
       "3               3  1956-10-10\n",
       "4               4  1960-10-10\n",
       "...           ...         ...\n",
       "80327       80327  2013-09-09\n",
       "80328       80328  2013-09-09\n",
       "80329       80329  2013-09-09\n",
       "80330       80330  2013-09-09\n",
       "80331       80331  2013-09-09\n",
       "\n",
       "[80332 rows x 2 columns]"
      ]
     },
     "execution_count": 16,
     "metadata": {},
     "output_type": "execute_result"
    }
   ],
   "source": [
    "tb_ufo[['Unnamed: 0', 'date']]"
   ]
  },
  {
   "cell_type": "markdown",
   "metadata": {
    "colab_type": "text",
    "id": "_dG399yfx9ax"
   },
   "source": [
    "## Just check if you did it the right way. Take a look at the head of the dataframe again and see if the `ufo` dataframe now is reordered."
   ]
  },
  {
   "cell_type": "code",
   "execution_count": null,
   "metadata": {
    "colab": {},
    "colab_type": "code",
    "id": "QBBa-SDlx9az",
    "scrolled": true
   },
   "outputs": [],
   "source": []
  },
  {
   "cell_type": "markdown",
   "metadata": {
    "colab_type": "text",
    "id": "0j9_fsrPx9a6"
   },
   "source": [
    "## Select a piece of your dataframe. We won't work with the whole dataframe for now, just a few columns. Create a new dataframe called `ufo_vars` and select only the following columns of the `ufo` dataframe. \n",
    "\n",
    "`year`, `month`, `state`, `country`, `ufo_shape`, `encounter_length`"
   ]
  },
  {
   "cell_type": "code",
   "execution_count": null,
   "metadata": {
    "colab": {},
    "colab_type": "code",
    "id": "bYDAUGLHx9a7"
   },
   "outputs": [],
   "source": []
  },
  {
   "cell_type": "markdown",
   "metadata": {
    "colab_type": "text",
    "id": "GvJDxlE5x9bA"
   },
   "source": [
    "Perform a *.head()* on your result to check if you did it right.\n",
    "\n",
    "Expected output:\n",
    "\n",
    "\n",
    "|    |   year |   month | state   | country   | ufo_shape   |   encounter_length |\n",
    "|---:|-------:|--------:|:--------|:----------|:------------|-------------------:|\n",
    "|  0 |   1949 |      10 | tx      | us        | cylinder    |               2700 |\n",
    "|  1 |   1949 |      10 | tx      | nan       | light       |               7200 |\n",
    "|  2 |   1955 |      10 | nan     | gb        | circle      |                 20 |\n",
    "|  3 |   1956 |      10 | tx      | us        | circle      |                 20 |\n",
    "|  4 |   1960 |      10 | hi      | us        | light       |                900 |"
   ]
  },
  {
   "cell_type": "code",
   "execution_count": null,
   "metadata": {
    "colab": {},
    "colab_type": "code",
    "id": "eUdV5b9Nx9bB"
   },
   "outputs": [],
   "source": []
  },
  {
   "cell_type": "markdown",
   "metadata": {
    "colab_type": "text",
    "id": "G7MVTOxEx9bG"
   },
   "source": [
    "## Rename the variable `encounter_length` to `encounter_seconds`. Keep using the `ufo_vars` dataset for the following tasks, unless specifically specified.\n",
    "\n",
    "Again, check your results to check if you did it right.\n",
    "\n",
    "Expected output:\n",
    "\n",
    "\n",
    "|    |   year |   month | state   | country   | ufo_shape   |   encounter_seconds |\n",
    "|---:|-------:|--------:|:--------|:----------|:------------|--------------------:|\n",
    "|  0 |   1949 |      10 | tx      | us        | cylinder    |                2700 |\n",
    "|  1 |   1949 |      10 | tx      | nan       | light       |                7200 |\n",
    "|  2 |   1955 |      10 | nan     | gb        | circle      |                  20 |\n",
    "|  3 |   1956 |      10 | tx      | us        | circle      |                  20 |\n",
    "|  4 |   1960 |      10 | hi      | us        | light       |                 900 |"
   ]
  },
  {
   "cell_type": "code",
   "execution_count": null,
   "metadata": {
    "colab": {},
    "colab_type": "code",
    "id": "xO95Un1Ix9bI"
   },
   "outputs": [],
   "source": []
  },
  {
   "cell_type": "markdown",
   "metadata": {
    "colab_type": "text",
    "id": "EhrEqmYNx9bO"
   },
   "source": [
    "## Let's start filtering some records. Create a new dataframe called `ufo_us` and filter the `ufo_vars` dataframe bringing only the results in which the `country` is `\"us\"`"
   ]
  },
  {
   "cell_type": "markdown",
   "metadata": {
    "colab_type": "text",
    "id": "W8XmnkXGx9bP"
   },
   "source": [
    "\n",
    "\n",
    "Expected output:\n",
    "\n",
    "\n",
    "|    |   year |   month | state   | country   | ufo_shape   |   encounter_seconds |\n",
    "|---:|-------:|--------:|:--------|:----------|:------------|--------------------:|\n",
    "|  0 |   1949 |      10 | tx      | us        | cylinder    |                2700 |\n",
    "|  3 |   1956 |      10 | tx      | us        | circle      |                  20 |\n",
    "|  4 |   1960 |      10 | hi      | us        | light       |                 900 |\n",
    "|  5 |   1961 |      10 | tn      | us        | sphere      |                 300 |\n",
    "|  7 |   1965 |      10 | ct      | us        | disk        |                1200 |"
   ]
  },
  {
   "cell_type": "code",
   "execution_count": null,
   "metadata": {
    "colab": {},
    "colab_type": "code",
    "id": "mfZoz30Kx9bP"
   },
   "outputs": [],
   "source": []
  },
  {
   "cell_type": "markdown",
   "metadata": {
    "colab_type": "text",
    "id": "qkEaAlKtx9bT"
   },
   "source": [
    "### Use the `.query()` method to perform the same task as above\n",
    "\n"
   ]
  },
  {
   "cell_type": "code",
   "execution_count": null,
   "metadata": {
    "colab": {},
    "colab_type": "code",
    "id": "Z2JrEOIsx9bV"
   },
   "outputs": [],
   "source": []
  },
  {
   "cell_type": "markdown",
   "metadata": {
    "colab_type": "text",
    "id": "UujFQpPdx9bZ"
   },
   "source": [
    "See which one do you prefer the most and keep using it for the exercises that follow"
   ]
  },
  {
   "cell_type": "markdown",
   "metadata": {
    "colab_type": "text",
    "id": "Xg2WY-E4x9bZ"
   },
   "source": [
    "## For the `ufo_us` dataframe, select only the cases in which the year is in the first decade (2001-2010). Put that in a variable called `ufo_us_2000`.\n",
    "\n",
    "Check your results."
   ]
  },
  {
   "cell_type": "code",
   "execution_count": null,
   "metadata": {
    "colab": {},
    "colab_type": "code",
    "id": "pX-kr4ujx9ba",
    "scrolled": true
   },
   "outputs": [],
   "source": []
  },
  {
   "cell_type": "markdown",
   "metadata": {
    "colab_type": "text",
    "id": "1HIAhdvsx9be"
   },
   "source": [
    "## Try to do the same without the intermediate step of creating the `ufo_us` dataframe. That is, try to filter the dataset for the cases in which the country is \"us\" and the year is (2001-2010) from the original dataframe.\n",
    "\n",
    "\n",
    "\n",
    "*Hint:* You have to make sure all of these conditions are applied simultaneously - using the `and` (or `&`) operator. Try to understand when to use the `and` and the `&` operator."
   ]
  },
  {
   "cell_type": "code",
   "execution_count": null,
   "metadata": {
    "colab": {},
    "colab_type": "code",
    "id": "WM6B9flYx9bf"
   },
   "outputs": [],
   "source": []
  },
  {
   "cell_type": "markdown",
   "metadata": {
    "colab_type": "text",
    "id": "1DfI8Dxzx9bn"
   },
   "source": [
    "## BONUS 1:  Take a look at the column named `ufo_shape`. Compare the number of triangular UFO occurrances in the US from the year 2001 up to 2010 as compared to the years of 1991 up to 2000.\n",
    "\n",
    "*Hint: you should expect roughly ~3 times more cases for 2001-2010 than 1991-2000.*"
   ]
  },
  {
   "cell_type": "code",
   "execution_count": null,
   "metadata": {
    "colab": {},
    "colab_type": "code",
    "id": "cLJmLU8Px9bo",
    "scrolled": true
   },
   "outputs": [],
   "source": [
    "# calculate the dataframe from 2001-2010 here\n"
   ]
  },
  {
   "cell_type": "code",
   "execution_count": null,
   "metadata": {
    "colab": {},
    "colab_type": "code",
    "id": "oDeS327lx9bs"
   },
   "outputs": [],
   "source": [
    "# calculate the dataframe from 1991-2000 here\n"
   ]
  },
  {
   "cell_type": "markdown",
   "metadata": {
    "colab_type": "text",
    "id": "GqgwlmcIx9bx"
   },
   "source": [
    "## BONUS 1.1: Count how many values does each category of `ufo_shape` has. \n",
    "\n",
    "Expected output:\n",
    "\n",
    "````\n",
    "        light        16565\n",
    "        triangle      7865\n",
    "        circle        7608\n",
    "        fireball      6208\n",
    "        other         5649\n",
    "        unknown       5584\n",
    "        sphere        5387\n",
    "        disk          5213\n",
    "        oval          3733\n",
    "        formation     2457\n",
    "        cigar         2057\n",
    "        changing      1962\n",
    "        flash         1328\n",
    "        rectangle     1297\n",
    "        cylinder      1283\n",
    "        diamond       1178\n",
    "        chevron        952\n",
    "        egg            759\n",
    "        teardrop       750\n",
    "        cone           316\n",
    "        cross          233\n",
    "        delta            7\n",
    "        round            2\n",
    "        crescent         2\n",
    "        dome             1\n",
    "        pyramid          1\n",
    "        changed          1\n",
    "        hexagon          1\n",
    "        flare            1\n",
    "        Name: ufo_shape, dtype: int64\n",
    "\n",
    "````\n",
    "\n"
   ]
  },
  {
   "cell_type": "code",
   "execution_count": null,
   "metadata": {
    "colab": {},
    "colab_type": "code",
    "id": "OgcCzRUAx9bx"
   },
   "outputs": [],
   "source": []
  },
  {
   "cell_type": "markdown",
   "metadata": {
    "colab_type": "text",
    "id": "HU2yJrXT51Z3"
   },
   "source": [
    "### Mask hints \n",
    "\n",
    "A `mask` is nothing more than a condition. This condition is applied to your whole dataframe (or pandas Series).\n",
    "So for example, if you had a pandas Series with a variable called `Age`, you could create a mask for all people whose `Age` is less than 18 years old using the syntax:\n",
    "\n",
    "`df['Age'] <= 18`\n",
    "\n",
    "This would return a pandas series containing `True` and `False` values. For each index, you'd get a value of `True` or `False`.\n",
    "\n",
    "You could save this mask in a variable, for example:\n",
    "\n",
    "`condition = (df['Age'] <= 18)`\n",
    "\n",
    "And then you could use that variable `condition` to select only the cases of the dataframe in which the index returned `True` using:\n",
    "`df.loc[condition, :]`.\n",
    "\n",
    "\n",
    "### `.query()` hints\n",
    "\n",
    "Remember that the .query() method expects a string. That string should contain the variable of your dataframe without quotation marks and the comparison. For example, if you had a variable called `name`, you'd use a syntax like:\n",
    " `df.query('name == \"Jack\"')`\n",
    " \n",
    "to bring all observations whose column `name` is exactly equal to `\"Jack\"` (note that Jack should be within quotation marks because a name is a string in this example)."
   ]
  }
 ],
 "metadata": {
  "colab": {
   "collapsed_sections": [],
   "name": "lab-data-manipulation-filtering.ipynb",
   "provenance": []
  },
  "interpreter": {
   "hash": "ac59ebe37160ed0dfa835113d9b8498d9f09ceb179beaac4002f036b9467c963"
  },
  "kernelspec": {
   "display_name": "Python 3 (ipykernel)",
   "language": "python",
   "name": "python3"
  },
  "language_info": {
   "codemirror_mode": {
    "name": "ipython",
    "version": 3
   },
   "file_extension": ".py",
   "mimetype": "text/x-python",
   "name": "python",
   "nbconvert_exporter": "python",
   "pygments_lexer": "ipython3",
   "version": "3.8.11"
  },
  "toc": {
   "base_numbering": 1,
   "nav_menu": {},
   "number_sections": true,
   "sideBar": true,
   "skip_h1_title": false,
   "title_cell": "Table of Contents",
   "title_sidebar": "Contents",
   "toc_cell": false,
   "toc_position": {},
   "toc_section_display": true,
   "toc_window_display": false
  }
 },
 "nbformat": 4,
 "nbformat_minor": 2
}
